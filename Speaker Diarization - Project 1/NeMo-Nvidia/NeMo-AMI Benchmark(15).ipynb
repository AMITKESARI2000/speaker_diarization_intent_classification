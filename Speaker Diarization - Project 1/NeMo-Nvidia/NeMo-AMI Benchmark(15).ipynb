{
 "cells": [
  {
   "cell_type": "markdown",
   "metadata": {},
   "source": [
    "# NeMo SD - oracleVAD ami mixheadset 15.7%"
   ]
  },
  {
   "cell_type": "code",
   "execution_count": 1,
   "metadata": {},
   "outputs": [],
   "source": [
    "# \"\"\"\n",
    "# You can run either this notebook locally (if you have all the dependencies and a GPU) or on Google Colab.\n",
    "# TitaNet: https://arxiv.org/pdf/2110.04410.pdf\n",
    "\n",
    "# Instructions for setting up Colab are as follows:\n",
    "# https://colab.research.google.com/drive/1ZoALe4Vy4ekR3eedVwyyt1zF8ZjPZ2JU#scrollTo=sDtW2e8u634q\n",
    "# 1. Open a new Python 3 notebook.\n",
    "# 2. Import this notebook from GitHub (File -> Upload Notebook -> \"GITHUB\" tab -> copy/paste GitHub URL)\n",
    "# 3. Connect to an instance with a GPU (Runtime -> Change runtime type -> select \"GPU\" for hardware accelerator)\n",
    "# 4. Run this cell to set up dependencies.\n",
    "# \"\"\"\n",
    "# # If you're using Google Colab and not running locally, run this cell.\n",
    "\n",
    "# ## Install dependencies\n",
    "# !pip install wget\n",
    "# !apt-get install sox libsndfile1 ffmpeg\n",
    "# !pip install unidecode\n",
    "\n",
    "# # ## Install NeMo\n",
    "# BRANCH = 'main'\n",
    "# !python -m pip install git+https://github.com/NVIDIA/NeMo.git@$BRANCH#egg=nemo_toolkit[asr]\n",
    "\n",
    "# ## Install TorchAudio\n",
    "# !pip install torchaudio -f https://download.pytorch.org/whl/torch_stable.html\n",
    "# # !pip install torch==1.11.0 torchaudio==0.11.0 torchvision==0.12.0"
   ]
  },
  {
   "cell_type": "code",
   "execution_count": 1,
   "metadata": {},
   "outputs": [
    {
     "name": "stdout",
     "output_type": "stream",
     "text": [
      "3\r\n"
     ]
    }
   ],
   "source": [
    "import os\n",
    "os.environ[\"CUDA_DEVICE_ORDER\"] = \"PCI_BUS_ID\"\n",
    "os.environ[\"CUDA_VISIBLE_DEVICES\"] = \"3\"\n",
    "# CUDA_VISIBLE_DEVICES options = 0/1/2/3. Make sure to restart\n",
    "!echo $CUDA_VISIBLE_DEVICES"
   ]
  },
  {
   "cell_type": "code",
   "execution_count": 2,
   "metadata": {},
   "outputs": [
    {
     "name": "stderr",
     "output_type": "stream",
     "text": [
      "/root/anaconda3/lib/python3.9/site-packages/torchvision/io/image.py:13: UserWarning: Failed to load image Python extension: libtorch_cuda_cu.so: cannot open shared object file: No such file or directory\n",
      "  warn(f\"Failed to load image Python extension: {e}\")\n",
      "[NeMo W 2022-07-22 13:24:15 optimizers:55] Apex was not found. Using the lamb or fused_adam optimizer will error out.\n"
     ]
    }
   ],
   "source": [
    "import os\n",
    "import glob\n",
    "import subprocess\n",
    "import tarfile\n",
    "import wget\n",
    "import pandas as pd\n",
    "from collections import Counter\n",
    "from omegaconf import OmegaConf\n",
    "import numpy as np\n",
    "import spyder\n",
    "\n",
    "import IPython\n",
    "from pyannote.metrics.diarization import DiarizationErrorRate\n",
    "from nemo.collections.asr.parts.utils.speaker_utils import rttm_to_labels, labels_to_pyannote_object\n",
    "from nemo.collections.asr.models import ClusteringDiarizer\n"
   ]
  },
  {
   "cell_type": "code",
   "execution_count": 3,
   "metadata": {},
   "outputs": [
    {
     "name": "stdout",
     "output_type": "stream",
     "text": [
      "ROOT:  /home/DATA/amit_kesari/SD1/NeMo-Nvidia\n",
      "Data Directory:  /home/DATA/amit_kesari/SD1/NeMo-Nvidia/data/ami_mix_headset\n",
      "/home/DATA/amit_kesari/SD1/NeMo-Nvidia/data/ami_mix_headset/rttms\n",
      "/home/DATA/amit_kesari/SD1/NeMo-Nvidia/data/ami_mix_headset/rttms/test/TS3003c.Mix-Headset.rttm\n",
      "/home/DATA/amit_kesari/SD1/NeMo-Nvidia/data/ami_mix_headset/rttms/test/EN2002a.Mix-Headset.rttm\n",
      "/home/DATA/amit_kesari/SD1/NeMo-Nvidia/data/ami_mix_headset/rttms/test/EN2002b.Mix-Headset.rttm\n",
      "/home/DATA/amit_kesari/SD1/NeMo-Nvidia/data/ami_mix_headset/rttms/test/EN2002c.Mix-Headset.rttm\n",
      "/home/DATA/amit_kesari/SD1/NeMo-Nvidia/data/ami_mix_headset/rttms/test/EN2002d.Mix-Headset.rttm\n",
      "/home/DATA/amit_kesari/SD1/NeMo-Nvidia/data/ami_mix_headset/rttms/test/ES2004a.Mix-Headset.rttm\n",
      "/home/DATA/amit_kesari/SD1/NeMo-Nvidia/data/ami_mix_headset/rttms/test/ES2004b.Mix-Headset.rttm\n",
      "/home/DATA/amit_kesari/SD1/NeMo-Nvidia/data/ami_mix_headset/rttms/test/ES2004c.Mix-Headset.rttm\n",
      "/home/DATA/amit_kesari/SD1/NeMo-Nvidia/data/ami_mix_headset/rttms/test/ES2004d.Mix-Headset.rttm\n",
      "/home/DATA/amit_kesari/SD1/NeMo-Nvidia/data/ami_mix_headset/rttms/test/IS1009a.Mix-Headset.rttm\n",
      "/home/DATA/amit_kesari/SD1/NeMo-Nvidia/data/ami_mix_headset/rttms/test/IS1009b.Mix-Headset.rttm\n",
      "/home/DATA/amit_kesari/SD1/NeMo-Nvidia/data/ami_mix_headset/rttms/test/IS1009c.Mix-Headset.rttm\n",
      "/home/DATA/amit_kesari/SD1/NeMo-Nvidia/data/ami_mix_headset/rttms/test/IS1009d.Mix-Headset.rttm\n",
      "/home/DATA/amit_kesari/SD1/NeMo-Nvidia/data/ami_mix_headset/rttms/test/TS3003a.Mix-Headset.rttm\n",
      "/home/DATA/amit_kesari/SD1/NeMo-Nvidia/data/ami_mix_headset/rttms/test/TS3003b.Mix-Headset.rttm\n",
      "/home/DATA/amit_kesari/SD1/NeMo-Nvidia/data/ami_mix_headset/rttms/test/TS3003d.Mix-Headset.rttm\n"
     ]
    },
    {
     "data": {
      "text/plain": [
       "['/home/DATA/amit_kesari/AMI-diarization-setup/pyannote/amicorpus/ES2002a/audio/ES2002a.Mix-Headset.wav',\n",
       " '/home/DATA/amit_kesari/AMI-diarization-setup/pyannote/amicorpus/ES2002b/audio/ES2002b.Mix-Headset.wav',\n",
       " '/home/DATA/amit_kesari/AMI-diarization-setup/pyannote/amicorpus/ES2002c/audio/ES2002c.Mix-Headset.wav',\n",
       " '/home/DATA/amit_kesari/AMI-diarization-setup/pyannote/amicorpus/ES2002d/audio/ES2002d.Mix-Headset.wav',\n",
       " '/home/DATA/amit_kesari/AMI-diarization-setup/pyannote/amicorpus/ES2003a/audio/ES2003a.Mix-Headset.wav',\n",
       " '/home/DATA/amit_kesari/AMI-diarization-setup/pyannote/amicorpus/ES2003b/audio/ES2003b.Mix-Headset.wav',\n",
       " '/home/DATA/amit_kesari/AMI-diarization-setup/pyannote/amicorpus/ES2003c/audio/ES2003c.Mix-Headset.wav',\n",
       " '/home/DATA/amit_kesari/AMI-diarization-setup/pyannote/amicorpus/ES2003d/audio/ES2003d.Mix-Headset.wav',\n",
       " '/home/DATA/amit_kesari/AMI-diarization-setup/pyannote/amicorpus/ES2004a/audio/ES2004a.Mix-Headset.wav',\n",
       " '/home/DATA/amit_kesari/AMI-diarization-setup/pyannote/amicorpus/ES2004b/audio/ES2004b.Mix-Headset.wav',\n",
       " '/home/DATA/amit_kesari/AMI-diarization-setup/pyannote/amicorpus/ES2004c/audio/ES2004c.Mix-Headset.wav',\n",
       " '/home/DATA/amit_kesari/AMI-diarization-setup/pyannote/amicorpus/ES2004d/audio/ES2004d.Mix-Headset.wav',\n",
       " '/home/DATA/amit_kesari/AMI-diarization-setup/pyannote/amicorpus/ES2005a/audio/ES2005a.Mix-Headset.wav',\n",
       " '/home/DATA/amit_kesari/AMI-diarization-setup/pyannote/amicorpus/ES2005b/audio/ES2005b.Mix-Headset.wav',\n",
       " '/home/DATA/amit_kesari/AMI-diarization-setup/pyannote/amicorpus/ES2005c/audio/ES2005c.Mix-Headset.wav',\n",
       " '/home/DATA/amit_kesari/AMI-diarization-setup/pyannote/amicorpus/ES2005d/audio/ES2005d.Mix-Headset.wav',\n",
       " '/home/DATA/amit_kesari/AMI-diarization-setup/pyannote/amicorpus/ES2006a/audio/ES2006a.Mix-Headset.wav',\n",
       " '/home/DATA/amit_kesari/AMI-diarization-setup/pyannote/amicorpus/ES2006b/audio/ES2006b.Mix-Headset.wav',\n",
       " '/home/DATA/amit_kesari/AMI-diarization-setup/pyannote/amicorpus/ES2006c/audio/ES2006c.Mix-Headset.wav',\n",
       " '/home/DATA/amit_kesari/AMI-diarization-setup/pyannote/amicorpus/ES2006d/audio/ES2006d.Mix-Headset.wav',\n",
       " '/home/DATA/amit_kesari/AMI-diarization-setup/pyannote/amicorpus/ES2007a/audio/ES2007a.Mix-Headset.wav',\n",
       " '/home/DATA/amit_kesari/AMI-diarization-setup/pyannote/amicorpus/ES2007b/audio/ES2007b.Mix-Headset.wav',\n",
       " '/home/DATA/amit_kesari/AMI-diarization-setup/pyannote/amicorpus/ES2007c/audio/ES2007c.Mix-Headset.wav',\n",
       " '/home/DATA/amit_kesari/AMI-diarization-setup/pyannote/amicorpus/ES2007d/audio/ES2007d.Mix-Headset.wav',\n",
       " '/home/DATA/amit_kesari/AMI-diarization-setup/pyannote/amicorpus/ES2008a/audio/ES2008a.Mix-Headset.wav',\n",
       " '/home/DATA/amit_kesari/AMI-diarization-setup/pyannote/amicorpus/ES2008b/audio/ES2008b.Mix-Headset.wav',\n",
       " '/home/DATA/amit_kesari/AMI-diarization-setup/pyannote/amicorpus/ES2008c/audio/ES2008c.Mix-Headset.wav',\n",
       " '/home/DATA/amit_kesari/AMI-diarization-setup/pyannote/amicorpus/ES2008d/audio/ES2008d.Mix-Headset.wav',\n",
       " '/home/DATA/amit_kesari/AMI-diarization-setup/pyannote/amicorpus/ES2009a/audio/ES2009a.Mix-Headset.wav',\n",
       " '/home/DATA/amit_kesari/AMI-diarization-setup/pyannote/amicorpus/ES2009b/audio/ES2009b.Mix-Headset.wav',\n",
       " '/home/DATA/amit_kesari/AMI-diarization-setup/pyannote/amicorpus/ES2009c/audio/ES2009c.Mix-Headset.wav',\n",
       " '/home/DATA/amit_kesari/AMI-diarization-setup/pyannote/amicorpus/ES2009d/audio/ES2009d.Mix-Headset.wav',\n",
       " '/home/DATA/amit_kesari/AMI-diarization-setup/pyannote/amicorpus/ES2010a/audio/ES2010a.Mix-Headset.wav',\n",
       " '/home/DATA/amit_kesari/AMI-diarization-setup/pyannote/amicorpus/ES2010b/audio/ES2010b.Mix-Headset.wav',\n",
       " '/home/DATA/amit_kesari/AMI-diarization-setup/pyannote/amicorpus/ES2010c/audio/ES2010c.Mix-Headset.wav',\n",
       " '/home/DATA/amit_kesari/AMI-diarization-setup/pyannote/amicorpus/ES2010d/audio/ES2010d.Mix-Headset.wav',\n",
       " '/home/DATA/amit_kesari/AMI-diarization-setup/pyannote/amicorpus/ES2011a/audio/ES2011a.Mix-Headset.wav',\n",
       " '/home/DATA/amit_kesari/AMI-diarization-setup/pyannote/amicorpus/ES2011b/audio/ES2011b.Mix-Headset.wav',\n",
       " '/home/DATA/amit_kesari/AMI-diarization-setup/pyannote/amicorpus/ES2011c/audio/ES2011c.Mix-Headset.wav',\n",
       " '/home/DATA/amit_kesari/AMI-diarization-setup/pyannote/amicorpus/ES2011d/audio/ES2011d.Mix-Headset.wav',\n",
       " '/home/DATA/amit_kesari/AMI-diarization-setup/pyannote/amicorpus/ES2012a/audio/ES2012a.Mix-Headset.wav',\n",
       " '/home/DATA/amit_kesari/AMI-diarization-setup/pyannote/amicorpus/ES2012b/audio/ES2012b.Mix-Headset.wav',\n",
       " '/home/DATA/amit_kesari/AMI-diarization-setup/pyannote/amicorpus/ES2012c/audio/ES2012c.Mix-Headset.wav',\n",
       " '/home/DATA/amit_kesari/AMI-diarization-setup/pyannote/amicorpus/ES2012d/audio/ES2012d.Mix-Headset.wav',\n",
       " '/home/DATA/amit_kesari/AMI-diarization-setup/pyannote/amicorpus/ES2013a/audio/ES2013a.Mix-Headset.wav',\n",
       " '/home/DATA/amit_kesari/AMI-diarization-setup/pyannote/amicorpus/ES2013b/audio/ES2013b.Mix-Headset.wav',\n",
       " '/home/DATA/amit_kesari/AMI-diarization-setup/pyannote/amicorpus/ES2013c/audio/ES2013c.Mix-Headset.wav',\n",
       " '/home/DATA/amit_kesari/AMI-diarization-setup/pyannote/amicorpus/ES2013d/audio/ES2013d.Mix-Headset.wav',\n",
       " '/home/DATA/amit_kesari/AMI-diarization-setup/pyannote/amicorpus/ES2014a/audio/ES2014a.Mix-Headset.wav',\n",
       " '/home/DATA/amit_kesari/AMI-diarization-setup/pyannote/amicorpus/ES2014b/audio/ES2014b.Mix-Headset.wav',\n",
       " '/home/DATA/amit_kesari/AMI-diarization-setup/pyannote/amicorpus/ES2014c/audio/ES2014c.Mix-Headset.wav',\n",
       " '/home/DATA/amit_kesari/AMI-diarization-setup/pyannote/amicorpus/ES2014d/audio/ES2014d.Mix-Headset.wav',\n",
       " '/home/DATA/amit_kesari/AMI-diarization-setup/pyannote/amicorpus/ES2015a/audio/ES2015a.Mix-Headset.wav',\n",
       " '/home/DATA/amit_kesari/AMI-diarization-setup/pyannote/amicorpus/ES2015b/audio/ES2015b.Mix-Headset.wav',\n",
       " '/home/DATA/amit_kesari/AMI-diarization-setup/pyannote/amicorpus/ES2015c/audio/ES2015c.Mix-Headset.wav',\n",
       " '/home/DATA/amit_kesari/AMI-diarization-setup/pyannote/amicorpus/ES2015d/audio/ES2015d.Mix-Headset.wav',\n",
       " '/home/DATA/amit_kesari/AMI-diarization-setup/pyannote/amicorpus/ES2016a/audio/ES2016a.Mix-Headset.wav',\n",
       " '/home/DATA/amit_kesari/AMI-diarization-setup/pyannote/amicorpus/ES2016b/audio/ES2016b.Mix-Headset.wav',\n",
       " '/home/DATA/amit_kesari/AMI-diarization-setup/pyannote/amicorpus/ES2016c/audio/ES2016c.Mix-Headset.wav',\n",
       " '/home/DATA/amit_kesari/AMI-diarization-setup/pyannote/amicorpus/ES2016d/audio/ES2016d.Mix-Headset.wav',\n",
       " '/home/DATA/amit_kesari/AMI-diarization-setup/pyannote/amicorpus/IS1000a/audio/IS1000a.Mix-Headset.wav',\n",
       " '/home/DATA/amit_kesari/AMI-diarization-setup/pyannote/amicorpus/IS1000b/audio/IS1000b.Mix-Headset.wav',\n",
       " '/home/DATA/amit_kesari/AMI-diarization-setup/pyannote/amicorpus/IS1000c/audio/IS1000c.Mix-Headset.wav',\n",
       " '/home/DATA/amit_kesari/AMI-diarization-setup/pyannote/amicorpus/IS1000d/audio/IS1000d.Mix-Headset.wav',\n",
       " '/home/DATA/amit_kesari/AMI-diarization-setup/pyannote/amicorpus/IS1001a/audio/IS1001a.Mix-Headset.wav',\n",
       " '/home/DATA/amit_kesari/AMI-diarization-setup/pyannote/amicorpus/IS1001b/audio/IS1001b.Mix-Headset.wav',\n",
       " '/home/DATA/amit_kesari/AMI-diarization-setup/pyannote/amicorpus/IS1001c/audio/IS1001c.Mix-Headset.wav',\n",
       " '/home/DATA/amit_kesari/AMI-diarization-setup/pyannote/amicorpus/IS1001d/audio/IS1001d.Mix-Headset.wav',\n",
       " '/home/DATA/amit_kesari/AMI-diarization-setup/pyannote/amicorpus/IS1002b/audio/IS1002b.Mix-Headset.wav',\n",
       " '/home/DATA/amit_kesari/AMI-diarization-setup/pyannote/amicorpus/IS1002c/audio/IS1002c.Mix-Headset.wav',\n",
       " '/home/DATA/amit_kesari/AMI-diarization-setup/pyannote/amicorpus/IS1002d/audio/IS1002d.Mix-Headset.wav',\n",
       " '/home/DATA/amit_kesari/AMI-diarization-setup/pyannote/amicorpus/IS1003a/audio/IS1003a.Mix-Headset.wav',\n",
       " '/home/DATA/amit_kesari/AMI-diarization-setup/pyannote/amicorpus/IS1003b/audio/IS1003b.Mix-Headset.wav',\n",
       " '/home/DATA/amit_kesari/AMI-diarization-setup/pyannote/amicorpus/IS1003c/audio/IS1003c.Mix-Headset.wav',\n",
       " '/home/DATA/amit_kesari/AMI-diarization-setup/pyannote/amicorpus/IS1003d/audio/IS1003d.Mix-Headset.wav',\n",
       " '/home/DATA/amit_kesari/AMI-diarization-setup/pyannote/amicorpus/IS1004a/audio/IS1004a.Mix-Headset.wav',\n",
       " '/home/DATA/amit_kesari/AMI-diarization-setup/pyannote/amicorpus/IS1004b/audio/IS1004b.Mix-Headset.wav',\n",
       " '/home/DATA/amit_kesari/AMI-diarization-setup/pyannote/amicorpus/IS1004c/audio/IS1004c.Mix-Headset.wav',\n",
       " '/home/DATA/amit_kesari/AMI-diarization-setup/pyannote/amicorpus/IS1004d/audio/IS1004d.Mix-Headset.wav',\n",
       " '/home/DATA/amit_kesari/AMI-diarization-setup/pyannote/amicorpus/IS1005a/audio/IS1005a.Mix-Headset.wav',\n",
       " '/home/DATA/amit_kesari/AMI-diarization-setup/pyannote/amicorpus/IS1005b/audio/IS1005b.Mix-Headset.wav',\n",
       " '/home/DATA/amit_kesari/AMI-diarization-setup/pyannote/amicorpus/IS1005c/audio/IS1005c.Mix-Headset.wav',\n",
       " '/home/DATA/amit_kesari/AMI-diarization-setup/pyannote/amicorpus/IS1006a/audio/IS1006a.Mix-Headset.wav',\n",
       " '/home/DATA/amit_kesari/AMI-diarization-setup/pyannote/amicorpus/IS1006b/audio/IS1006b.Mix-Headset.wav',\n",
       " '/home/DATA/amit_kesari/AMI-diarization-setup/pyannote/amicorpus/IS1006c/audio/IS1006c.Mix-Headset.wav',\n",
       " '/home/DATA/amit_kesari/AMI-diarization-setup/pyannote/amicorpus/IS1006d/audio/IS1006d.Mix-Headset.wav',\n",
       " '/home/DATA/amit_kesari/AMI-diarization-setup/pyannote/amicorpus/IS1007a/audio/IS1007a.Mix-Headset.wav',\n",
       " '/home/DATA/amit_kesari/AMI-diarization-setup/pyannote/amicorpus/IS1007b/audio/IS1007b.Mix-Headset.wav',\n",
       " '/home/DATA/amit_kesari/AMI-diarization-setup/pyannote/amicorpus/IS1007c/audio/IS1007c.Mix-Headset.wav',\n",
       " '/home/DATA/amit_kesari/AMI-diarization-setup/pyannote/amicorpus/IS1007d/audio/IS1007d.Mix-Headset.wav',\n",
       " '/home/DATA/amit_kesari/AMI-diarization-setup/pyannote/amicorpus/IS1008a/audio/IS1008a.Mix-Headset.wav',\n",
       " '/home/DATA/amit_kesari/AMI-diarization-setup/pyannote/amicorpus/IS1008b/audio/IS1008b.Mix-Headset.wav',\n",
       " '/home/DATA/amit_kesari/AMI-diarization-setup/pyannote/amicorpus/IS1008c/audio/IS1008c.Mix-Headset.wav',\n",
       " '/home/DATA/amit_kesari/AMI-diarization-setup/pyannote/amicorpus/IS1008d/audio/IS1008d.Mix-Headset.wav',\n",
       " '/home/DATA/amit_kesari/AMI-diarization-setup/pyannote/amicorpus/IS1009a/audio/IS1009a.Mix-Headset.wav',\n",
       " '/home/DATA/amit_kesari/AMI-diarization-setup/pyannote/amicorpus/IS1009b/audio/IS1009b.Mix-Headset.wav',\n",
       " '/home/DATA/amit_kesari/AMI-diarization-setup/pyannote/amicorpus/IS1009c/audio/IS1009c.Mix-Headset.wav',\n",
       " '/home/DATA/amit_kesari/AMI-diarization-setup/pyannote/amicorpus/IS1009d/audio/IS1009d.Mix-Headset.wav',\n",
       " '/home/DATA/amit_kesari/AMI-diarization-setup/pyannote/amicorpus/TS3003a/audio/TS3003a.Mix-Headset.wav',\n",
       " '/home/DATA/amit_kesari/AMI-diarization-setup/pyannote/amicorpus/TS3003b/audio/TS3003b.Mix-Headset.wav',\n",
       " '/home/DATA/amit_kesari/AMI-diarization-setup/pyannote/amicorpus/TS3003c/audio/TS3003c.Mix-Headset.wav',\n",
       " '/home/DATA/amit_kesari/AMI-diarization-setup/pyannote/amicorpus/TS3003d/audio/TS3003d.Mix-Headset.wav',\n",
       " '/home/DATA/amit_kesari/AMI-diarization-setup/pyannote/amicorpus/TS3004a/audio/TS3004a.Mix-Headset.wav',\n",
       " '/home/DATA/amit_kesari/AMI-diarization-setup/pyannote/amicorpus/TS3004b/audio/TS3004b.Mix-Headset.wav',\n",
       " '/home/DATA/amit_kesari/AMI-diarization-setup/pyannote/amicorpus/TS3004c/audio/TS3004c.Mix-Headset.wav',\n",
       " '/home/DATA/amit_kesari/AMI-diarization-setup/pyannote/amicorpus/TS3004d/audio/TS3004d.Mix-Headset.wav',\n",
       " '/home/DATA/amit_kesari/AMI-diarization-setup/pyannote/amicorpus/TS3005a/audio/TS3005a.Mix-Headset.wav',\n",
       " '/home/DATA/amit_kesari/AMI-diarization-setup/pyannote/amicorpus/TS3005b/audio/TS3005b.Mix-Headset.wav',\n",
       " '/home/DATA/amit_kesari/AMI-diarization-setup/pyannote/amicorpus/TS3005c/audio/TS3005c.Mix-Headset.wav',\n",
       " '/home/DATA/amit_kesari/AMI-diarization-setup/pyannote/amicorpus/TS3005d/audio/TS3005d.Mix-Headset.wav',\n",
       " '/home/DATA/amit_kesari/AMI-diarization-setup/pyannote/amicorpus/TS3006a/audio/TS3006a.Mix-Headset.wav',\n",
       " '/home/DATA/amit_kesari/AMI-diarization-setup/pyannote/amicorpus/TS3006b/audio/TS3006b.Mix-Headset.wav',\n",
       " '/home/DATA/amit_kesari/AMI-diarization-setup/pyannote/amicorpus/TS3006c/audio/TS3006c.Mix-Headset.wav',\n",
       " '/home/DATA/amit_kesari/AMI-diarization-setup/pyannote/amicorpus/TS3006d/audio/TS3006d.Mix-Headset.wav',\n",
       " '/home/DATA/amit_kesari/AMI-diarization-setup/pyannote/amicorpus/TS3007a/audio/TS3007a.Mix-Headset.wav',\n",
       " '/home/DATA/amit_kesari/AMI-diarization-setup/pyannote/amicorpus/TS3007b/audio/TS3007b.Mix-Headset.wav',\n",
       " '/home/DATA/amit_kesari/AMI-diarization-setup/pyannote/amicorpus/TS3007c/audio/TS3007c.Mix-Headset.wav',\n",
       " '/home/DATA/amit_kesari/AMI-diarization-setup/pyannote/amicorpus/TS3007d/audio/TS3007d.Mix-Headset.wav',\n",
       " '/home/DATA/amit_kesari/AMI-diarization-setup/pyannote/amicorpus/TS3008a/audio/TS3008a.Mix-Headset.wav',\n",
       " '/home/DATA/amit_kesari/AMI-diarization-setup/pyannote/amicorpus/TS3008b/audio/TS3008b.Mix-Headset.wav',\n",
       " '/home/DATA/amit_kesari/AMI-diarization-setup/pyannote/amicorpus/TS3008c/audio/TS3008c.Mix-Headset.wav',\n",
       " '/home/DATA/amit_kesari/AMI-diarization-setup/pyannote/amicorpus/TS3008d/audio/TS3008d.Mix-Headset.wav',\n",
       " '/home/DATA/amit_kesari/AMI-diarization-setup/pyannote/amicorpus/TS3009a/audio/TS3009a.Mix-Headset.wav',\n",
       " '/home/DATA/amit_kesari/AMI-diarization-setup/pyannote/amicorpus/TS3009b/audio/TS3009b.Mix-Headset.wav',\n",
       " '/home/DATA/amit_kesari/AMI-diarization-setup/pyannote/amicorpus/TS3009c/audio/TS3009c.Mix-Headset.wav',\n",
       " '/home/DATA/amit_kesari/AMI-diarization-setup/pyannote/amicorpus/TS3009d/audio/TS3009d.Mix-Headset.wav',\n",
       " '/home/DATA/amit_kesari/AMI-diarization-setup/pyannote/amicorpus/TS3010a/audio/TS3010a.Mix-Headset.wav',\n",
       " '/home/DATA/amit_kesari/AMI-diarization-setup/pyannote/amicorpus/TS3010b/audio/TS3010b.Mix-Headset.wav',\n",
       " '/home/DATA/amit_kesari/AMI-diarization-setup/pyannote/amicorpus/TS3010c/audio/TS3010c.Mix-Headset.wav',\n",
       " '/home/DATA/amit_kesari/AMI-diarization-setup/pyannote/amicorpus/TS3010d/audio/TS3010d.Mix-Headset.wav',\n",
       " '/home/DATA/amit_kesari/AMI-diarization-setup/pyannote/amicorpus/TS3011a/audio/TS3011a.Mix-Headset.wav',\n",
       " '/home/DATA/amit_kesari/AMI-diarization-setup/pyannote/amicorpus/TS3011b/audio/TS3011b.Mix-Headset.wav',\n",
       " '/home/DATA/amit_kesari/AMI-diarization-setup/pyannote/amicorpus/TS3011c/audio/TS3011c.Mix-Headset.wav',\n",
       " '/home/DATA/amit_kesari/AMI-diarization-setup/pyannote/amicorpus/TS3011d/audio/TS3011d.Mix-Headset.wav',\n",
       " '/home/DATA/amit_kesari/AMI-diarization-setup/pyannote/amicorpus/TS3012a/audio/TS3012a.Mix-Headset.wav',\n",
       " '/home/DATA/amit_kesari/AMI-diarization-setup/pyannote/amicorpus/TS3012b/audio/TS3012b.Mix-Headset.wav',\n",
       " '/home/DATA/amit_kesari/AMI-diarization-setup/pyannote/amicorpus/TS3012c/audio/TS3012c.Mix-Headset.wav',\n",
       " '/home/DATA/amit_kesari/AMI-diarization-setup/pyannote/amicorpus/TS3012d/audio/TS3012d.Mix-Headset.wav',\n",
       " '/home/DATA/amit_kesari/AMI-diarization-setup/pyannote/amicorpus/EN2001a/audio/EN2001a.Mix-Headset.wav',\n",
       " '/home/DATA/amit_kesari/AMI-diarization-setup/pyannote/amicorpus/EN2001b/audio/EN2001b.Mix-Headset.wav',\n",
       " '/home/DATA/amit_kesari/AMI-diarization-setup/pyannote/amicorpus/EN2001d/audio/EN2001d.Mix-Headset.wav',\n",
       " '/home/DATA/amit_kesari/AMI-diarization-setup/pyannote/amicorpus/EN2001e/audio/EN2001e.Mix-Headset.wav',\n",
       " '/home/DATA/amit_kesari/AMI-diarization-setup/pyannote/amicorpus/EN2002a/audio/EN2002a.Mix-Headset.wav',\n",
       " '/home/DATA/amit_kesari/AMI-diarization-setup/pyannote/amicorpus/EN2002b/audio/EN2002b.Mix-Headset.wav',\n",
       " '/home/DATA/amit_kesari/AMI-diarization-setup/pyannote/amicorpus/EN2002c/audio/EN2002c.Mix-Headset.wav',\n",
       " '/home/DATA/amit_kesari/AMI-diarization-setup/pyannote/amicorpus/EN2002d/audio/EN2002d.Mix-Headset.wav',\n",
       " '/home/DATA/amit_kesari/AMI-diarization-setup/pyannote/amicorpus/EN2003a/audio/EN2003a.Mix-Headset.wav',\n",
       " '/home/DATA/amit_kesari/AMI-diarization-setup/pyannote/amicorpus/EN2004a/audio/EN2004a.Mix-Headset.wav',\n",
       " '/home/DATA/amit_kesari/AMI-diarization-setup/pyannote/amicorpus/EN2005a/audio/EN2005a.Mix-Headset.wav',\n",
       " '/home/DATA/amit_kesari/AMI-diarization-setup/pyannote/amicorpus/EN2006a/audio/EN2006a.Mix-Headset.wav',\n",
       " '/home/DATA/amit_kesari/AMI-diarization-setup/pyannote/amicorpus/EN2006b/audio/EN2006b.Mix-Headset.wav',\n",
       " '/home/DATA/amit_kesari/AMI-diarization-setup/pyannote/amicorpus/EN2009b/audio/EN2009b.Mix-Headset.wav',\n",
       " '/home/DATA/amit_kesari/AMI-diarization-setup/pyannote/amicorpus/EN2009c/audio/EN2009c.Mix-Headset.wav',\n",
       " '/home/DATA/amit_kesari/AMI-diarization-setup/pyannote/amicorpus/EN2009d/audio/EN2009d.Mix-Headset.wav',\n",
       " '/home/DATA/amit_kesari/AMI-diarization-setup/pyannote/amicorpus/IB4001/audio/IB4001.Mix-Headset.wav',\n",
       " '/home/DATA/amit_kesari/AMI-diarization-setup/pyannote/amicorpus/IB4002/audio/IB4002.Mix-Headset.wav',\n",
       " '/home/DATA/amit_kesari/AMI-diarization-setup/pyannote/amicorpus/IB4003/audio/IB4003.Mix-Headset.wav',\n",
       " '/home/DATA/amit_kesari/AMI-diarization-setup/pyannote/amicorpus/IB4004/audio/IB4004.Mix-Headset.wav',\n",
       " '/home/DATA/amit_kesari/AMI-diarization-setup/pyannote/amicorpus/IB4005/audio/IB4005.Mix-Headset.wav',\n",
       " '/home/DATA/amit_kesari/AMI-diarization-setup/pyannote/amicorpus/IB4010/audio/IB4010.Mix-Headset.wav',\n",
       " '/home/DATA/amit_kesari/AMI-diarization-setup/pyannote/amicorpus/IB4011/audio/IB4011.Mix-Headset.wav',\n",
       " '/home/DATA/amit_kesari/AMI-diarization-setup/pyannote/amicorpus/IN1001/audio/IN1001.Mix-Headset.wav',\n",
       " '/home/DATA/amit_kesari/AMI-diarization-setup/pyannote/amicorpus/IN1002/audio/IN1002.Mix-Headset.wav',\n",
       " '/home/DATA/amit_kesari/AMI-diarization-setup/pyannote/amicorpus/IN1005/audio/IN1005.Mix-Headset.wav',\n",
       " '/home/DATA/amit_kesari/AMI-diarization-setup/pyannote/amicorpus/IN1007/audio/IN1007.Mix-Headset.wav',\n",
       " '/home/DATA/amit_kesari/AMI-diarization-setup/pyannote/amicorpus/IN1008/audio/IN1008.Mix-Headset.wav',\n",
       " '/home/DATA/amit_kesari/AMI-diarization-setup/pyannote/amicorpus/IN1009/audio/IN1009.Mix-Headset.wav',\n",
       " '/home/DATA/amit_kesari/AMI-diarization-setup/pyannote/amicorpus/IN1012/audio/IN1012.Mix-Headset.wav',\n",
       " '/home/DATA/amit_kesari/AMI-diarization-setup/pyannote/amicorpus/IN1013/audio/IN1013.Mix-Headset.wav',\n",
       " '/home/DATA/amit_kesari/AMI-diarization-setup/pyannote/amicorpus/IN1014/audio/IN1014.Mix-Headset.wav',\n",
       " '/home/DATA/amit_kesari/AMI-diarization-setup/pyannote/amicorpus/IN1016/audio/IN1016.Mix-Headset.wav']"
      ]
     },
     "execution_count": 3,
     "metadata": {},
     "output_type": "execute_result"
    }
   ],
   "source": [
    "ROOT = os.getcwd()\n",
    "data_dir = os.path.join(ROOT,'data/ami_mix_headset')\n",
    "os.makedirs(data_dir, exist_ok=True)\n",
    "print(\"ROOT: \", ROOT)\n",
    "print(\"Data Directory: \", data_dir)\n",
    "      \n",
    "audio_filepath = '/home/DATA/amit_kesari/AMI-diarization-setup/pyannote/amicorpus/'\n",
    "groundtruth_rttm_filepath = os.path.join(data_dir, 'rttms')\n",
    "print(groundtruth_rttm_filepath)\n",
    "# has a train,dev,test subdir\n",
    "\n",
    "if not os.path.exists(audio_filepath):\n",
    "    print(\"Please give correct audio location. No \", audio_filepath)\n",
    "if not os.path.exists(groundtruth_rttm_filepath):\n",
    "    print(\"Please give correct rttm groundtruth location. No \", groundtruth_rttm_filepath)\n",
    "\n",
    "    \n",
    "test_type = 'test'\n",
    "groundtruth_rttm_list = []\n",
    "if test_type == 'test':\n",
    "    groundtruth_rttm_list = glob.glob(groundtruth_rttm_filepath + '/test/*.rttm', recursive=True)\n",
    "    for test_path in groundtruth_rttm_list:\n",
    "        print(test_path)\n",
    "\n",
    "!find {audio_filepath} -iname \"*.wav\" > data/ami_mix_headset/train_all.txt\n",
    "# !cat {data_dir}/ami_headset/train_all.txt\n",
    "# DEMO_FILE = {'uri': 'ES2004a.Mix-Headset', 'audio': 'ES2004a.Mix-Headset.wav'}\n",
    "\n",
    "\n",
    "audio_list = []\n",
    "with open(data_dir+'/train_all.txt') as data:\n",
    "    audio_list.append(data.read().split())\n",
    "audio_list = audio_list[0]\n",
    "audio_list"
   ]
  },
  {
   "cell_type": "code",
   "execution_count": null,
   "metadata": {},
   "outputs": [],
   "source": []
  },
  {
   "cell_type": "code",
   "execution_count": 5,
   "metadata": {},
   "outputs": [],
   "source": [
    "def create_input_manifest(\n",
    "    audio_filepath,\n",
    "    rttm_filepath,\n",
    "    offset=0,\n",
    "    duration=None,\n",
    "    label='infer',\n",
    "    text='-',\n",
    "    num_speakers=None,\n",
    "    uem_filepath=None,\n",
    "    manifest_filepath='/data/input_manifest.json' \n",
    "):\n",
    "    # Create a manifest for input with below format. \n",
    "    # {'audio_filepath': /path/to/audio_file, 'offset': 0, 'duration':None, 'label': 'infer', 'text': '-', \n",
    "    # 'num_speakers': None, 'rttm_filepath': /path/to/rttm/file, 'uem_filepath'='/path/to/uem/filepath'}\n",
    "    # if you would like to evaluate with known number of speakers pass the value else None. \n",
    "    # If you would like to score the system with known rttms then that should be passed as well, else None\n",
    "    \n",
    "    import json\n",
    "    meta = {\n",
    "        'audio_filepath': audio_filepath, \n",
    "        'offset': 0, \n",
    "        'duration':None, \n",
    "        'label': 'infer', \n",
    "        'text': '-', \n",
    "        'num_speakers': num_speakers, \n",
    "        'rttm_filepath': rttm_filepath, \n",
    "        'uem_filepath' : None\n",
    "    }\n",
    "    with open(manifest_filepath,'w') as fp:\n",
    "        json.dump(meta,fp)\n",
    "        fp.write('\\n')\n",
    "\n",
    "#     dataframe = pd.DataFrame.from_dict(meta, orient='index')\n",
    "#     print(\"Manifest: \", meta)\n",
    "\n",
    "    \n",
    "def convert_ami_base():\n",
    "    # Eg: TS3003a.rttm -> TS3003a.Mix-Headset.rttm\n",
    "    groundtruth_rttm_list = glob.glob(groundtruth_rttm_filepath + '/test/*.rttm', recursive=True)\n",
    "    for test_path in groundtruth_rttm_list:\n",
    "        new_test_path = test_path[:-5]+\".Mix-Headset.rttm\"\n",
    "        !mv {test_path} {new_test_path}\n",
    "        print(\"new \", new_test_path)\n",
    "\n",
    "        \n",
    "        \n",
    "## RUN ONLY ONCE! Convert rttm to same AMI base name\n",
    "# convert_ami_base()"
   ]
  },
  {
   "cell_type": "code",
   "execution_count": 6,
   "metadata": {
    "scrolled": true
   },
   "outputs": [
    {
     "name": "stdout",
     "output_type": "stream",
     "text": [
      "name: ClusterDiarizer\n",
      "num_workers: 4\n",
      "sample_rate: 16000\n",
      "batch_size: 64\n",
      "diarizer:\n",
      "  manifest_filepath: ???\n",
      "  out_dir: ???\n",
      "  oracle_vad: false\n",
      "  collar: 0.25\n",
      "  ignore_overlap: true\n",
      "  vad:\n",
      "    model_path: null\n",
      "    external_vad_manifest: null\n",
      "    parameters:\n",
      "      window_length_in_sec: 0.15\n",
      "      shift_length_in_sec: 0.01\n",
      "      smoothing: median\n",
      "      overlap: 0.875\n",
      "      onset: 0.4\n",
      "      offset: 0.7\n",
      "      pad_onset: 0.05\n",
      "      pad_offset: -0.1\n",
      "      min_duration_on: 0.2\n",
      "      min_duration_off: 0.2\n",
      "      filter_speech_first: true\n",
      "  speaker_embeddings:\n",
      "    model_path: ???\n",
      "    parameters:\n",
      "      window_length_in_sec: 1.5\n",
      "      shift_length_in_sec: 0.75\n",
      "      multiscale_weights: null\n",
      "      save_embeddings: false\n",
      "  clustering:\n",
      "    parameters:\n",
      "      oracle_num_speakers: false\n",
      "      max_num_speakers: 20\n",
      "      enhanced_count_thres: 80\n",
      "      max_rp_threshold: 0.25\n",
      "      sparse_search_volume: 30\n",
      "      maj_vote_spk_count: false\n",
      "\n",
      "ami_label:  TS3003c.Mix-Headset\n",
      "[NeMo I 2022-07-20 11:58:56 clustering_diarizer:153] Loading pretrained titanet_large model from NGC\n",
      "[NeMo I 2022-07-20 11:58:56 cloud:56] Found existing object /root/.cache/torch/NeMo/NeMo_1.10.0/titanet-l/492c0ab8416139171dc18c21879a9e45/titanet-l.nemo.\n",
      "[NeMo I 2022-07-20 11:58:56 cloud:62] Re-using file from: /root/.cache/torch/NeMo/NeMo_1.10.0/titanet-l/492c0ab8416139171dc18c21879a9e45/titanet-l.nemo\n",
      "[NeMo I 2022-07-20 11:58:56 common:789] Instantiating model from pre-trained checkpoint\n"
     ]
    },
    {
     "name": "stderr",
     "output_type": "stream",
     "text": [
      "[NeMo W 2022-07-20 11:58:57 modelPT:148] If you intend to do training or fine-tuning, please call the ModelPT.setup_training_data() method and provide a valid configuration file to setup the train data loader.\n",
      "    Train config : \n",
      "    manifest_filepath: /manifests/combined_fisher_swbd_voxceleb12_librispeech/train.json\n",
      "    sample_rate: 16000\n",
      "    labels: null\n",
      "    batch_size: 64\n",
      "    shuffle: true\n",
      "    time_length: 3\n",
      "    is_tarred: false\n",
      "    tarred_audio_filepaths: null\n",
      "    tarred_shard_strategy: scatter\n",
      "    augmentor:\n",
      "      noise:\n",
      "        manifest_path: /manifests/noise/rir_noise_manifest.json\n",
      "        prob: 0.5\n",
      "        min_snr_db: 0\n",
      "        max_snr_db: 15\n",
      "      speed:\n",
      "        prob: 0.5\n",
      "        sr: 16000\n",
      "        resample_type: kaiser_fast\n",
      "        min_speed_rate: 0.95\n",
      "        max_speed_rate: 1.05\n",
      "    num_workers: 15\n",
      "    pin_memory: true\n",
      "    \n",
      "[NeMo W 2022-07-20 11:58:57 modelPT:155] If you intend to do validation, please call the ModelPT.setup_validation_data() or ModelPT.setup_multiple_validation_data() method and provide a valid configuration file to setup the validation data loader(s). \n",
      "    Validation config : \n",
      "    manifest_filepath: /manifests/combined_fisher_swbd_voxceleb12_librispeech/dev.json\n",
      "    sample_rate: 16000\n",
      "    labels: null\n",
      "    batch_size: 128\n",
      "    shuffle: false\n",
      "    time_length: 3\n",
      "    num_workers: 15\n",
      "    pin_memory: true\n",
      "    \n"
     ]
    },
    {
     "name": "stdout",
     "output_type": "stream",
     "text": [
      "[NeMo I 2022-07-20 11:58:57 features:200] PADDING: 16\n",
      "[NeMo I 2022-07-20 11:58:58 label_models:100] loss is Angular Softmax\n"
     ]
    },
    {
     "name": "stderr",
     "output_type": "stream",
     "text": [
      "[NeMo W 2022-07-20 11:58:58 nemo_logging:349] /root/anaconda3/lib/python3.9/site-packages/torchmetrics/utilities/prints.py:36: UserWarning: Torchmetrics v0.9 introduced a new argument class property called `full_state_update` that has\n",
      "                    not been set for this class (TopKClassificationAccuracy). The property determines if `update` by\n",
      "                    default needs access to the full metric state. If this is not the case, significant speedups can be\n",
      "                    achieved and we recommend setting this to `False`.\n",
      "                    We provide an checking function\n",
      "                    `from torchmetrics.utilities import check_forward_no_full_state`\n",
      "                    that can be used to check if the `full_state_update=True` (old and potential slower behaviour,\n",
      "                    default for now) or if `full_state_update=False` can be used safely.\n",
      "                    \n",
      "      warnings.warn(*args, **kwargs)\n",
      "    \n"
     ]
    },
    {
     "name": "stdout",
     "output_type": "stream",
     "text": [
      "[NeMo I 2022-07-20 11:59:01 save_restore_connector:243] Model EncDecSpeakerLabelModel was successfully restored from /root/.cache/torch/NeMo/NeMo_1.10.0/titanet-l/492c0ab8416139171dc18c21879a9e45/titanet-l.nemo.\n",
      "[NeMo I 2022-07-20 11:59:01 speaker_utils:82] Number of files to diarize: 1\n",
      "[NeMo I 2022-07-20 11:59:01 clustering_diarizer:271] Subsegmentation for embedding extraction: scale0, /home/DATA/amit_kesari/SD1/NeMo-Nvidia/data/ami_mix_headset/oracle_vad/speaker_outputs/subsegments_scale0.json\n",
      "[NeMo I 2022-07-20 11:59:01 clustering_diarizer:325] Extracting embeddings for Diarization\n",
      "[NeMo I 2022-07-20 11:59:01 collections:289] Filtered duration for loading collection is 0.000000.\n",
      "[NeMo I 2022-07-20 11:59:01 collections:293] # 2326 files loaded accounting to # 1 labels\n"
     ]
    },
    {
     "name": "stderr",
     "output_type": "stream",
     "text": [
      "100%|██████████| 37/37 [00:01<00:00, 19.03it/s]\n"
     ]
    },
    {
     "name": "stdout",
     "output_type": "stream",
     "text": [
      "[NeMo I 2022-07-20 11:59:03 clustering_diarizer:368] Saved embedding files to /home/DATA/amit_kesari/SD1/NeMo-Nvidia/data/ami_mix_headset/oracle_vad/speaker_outputs/embeddings\n"
     ]
    },
    {
     "name": "stderr",
     "output_type": "stream",
     "text": [
      "100%|██████████| 1/1 [00:02<00:00,  2.68s/it]\n",
      "[NeMo W 2022-07-20 11:59:06 nemo_logging:349] /root/anaconda3/lib/python3.9/site-packages/pyannote/metrics/utils.py:200: UserWarning: 'uem' was approximated by the union of 'reference' and 'hypothesis' extents.\n",
      "      warnings.warn(\n",
      "    \n"
     ]
    },
    {
     "name": "stdout",
     "output_type": "stream",
     "text": [
      "[NeMo I 2022-07-20 11:59:06 speaker_utils:460] Cumulative Results for collar 0.25 sec and ignore_overlap False: \n",
      "     FA: 0.0000\t MISS 0.0232\t                 Diarization ER: 0.0340\t, Confusion ER:0.0108\n",
      "[NeMo I 2022-07-20 11:59:06 clustering_diarizer:444] Outputs are saved in /home/DATA/amit_kesari/SD1/NeMo-Nvidia/data/ami_mix_headset/oracle_vad directory\n",
      "Diarization error rate (DER) = 6.7%\n",
      "\n",
      "\n",
      "ami_label:  EN2002a.Mix-Headset\n",
      "[NeMo I 2022-07-20 11:59:06 clustering_diarizer:153] Loading pretrained titanet_large model from NGC\n",
      "[NeMo I 2022-07-20 11:59:07 cloud:56] Found existing object /root/.cache/torch/NeMo/NeMo_1.10.0/titanet-l/492c0ab8416139171dc18c21879a9e45/titanet-l.nemo.\n",
      "[NeMo I 2022-07-20 11:59:07 cloud:62] Re-using file from: /root/.cache/torch/NeMo/NeMo_1.10.0/titanet-l/492c0ab8416139171dc18c21879a9e45/titanet-l.nemo\n",
      "[NeMo I 2022-07-20 11:59:07 common:789] Instantiating model from pre-trained checkpoint\n"
     ]
    },
    {
     "name": "stderr",
     "output_type": "stream",
     "text": [
      "[NeMo W 2022-07-20 11:59:07 modelPT:148] If you intend to do training or fine-tuning, please call the ModelPT.setup_training_data() method and provide a valid configuration file to setup the train data loader.\n",
      "    Train config : \n",
      "    manifest_filepath: /manifests/combined_fisher_swbd_voxceleb12_librispeech/train.json\n",
      "    sample_rate: 16000\n",
      "    labels: null\n",
      "    batch_size: 64\n",
      "    shuffle: true\n",
      "    time_length: 3\n",
      "    is_tarred: false\n",
      "    tarred_audio_filepaths: null\n",
      "    tarred_shard_strategy: scatter\n",
      "    augmentor:\n",
      "      noise:\n",
      "        manifest_path: /manifests/noise/rir_noise_manifest.json\n",
      "        prob: 0.5\n",
      "        min_snr_db: 0\n",
      "        max_snr_db: 15\n",
      "      speed:\n",
      "        prob: 0.5\n",
      "        sr: 16000\n",
      "        resample_type: kaiser_fast\n",
      "        min_speed_rate: 0.95\n",
      "        max_speed_rate: 1.05\n",
      "    num_workers: 15\n",
      "    pin_memory: true\n",
      "    \n",
      "[NeMo W 2022-07-20 11:59:07 modelPT:155] If you intend to do validation, please call the ModelPT.setup_validation_data() or ModelPT.setup_multiple_validation_data() method and provide a valid configuration file to setup the validation data loader(s). \n",
      "    Validation config : \n",
      "    manifest_filepath: /manifests/combined_fisher_swbd_voxceleb12_librispeech/dev.json\n",
      "    sample_rate: 16000\n",
      "    labels: null\n",
      "    batch_size: 128\n",
      "    shuffle: false\n",
      "    time_length: 3\n",
      "    num_workers: 15\n",
      "    pin_memory: true\n",
      "    \n"
     ]
    },
    {
     "name": "stdout",
     "output_type": "stream",
     "text": [
      "[NeMo I 2022-07-20 11:59:07 features:200] PADDING: 16\n",
      "[NeMo I 2022-07-20 11:59:08 label_models:100] loss is Angular Softmax\n",
      "[NeMo I 2022-07-20 11:59:08 save_restore_connector:243] Model EncDecSpeakerLabelModel was successfully restored from /root/.cache/torch/NeMo/NeMo_1.10.0/titanet-l/492c0ab8416139171dc18c21879a9e45/titanet-l.nemo.\n",
      "[NeMo I 2022-07-20 11:59:08 speaker_utils:82] Number of files to diarize: 1\n",
      "[NeMo I 2022-07-20 11:59:08 clustering_diarizer:271] Subsegmentation for embedding extraction: scale0, /home/DATA/amit_kesari/SD1/NeMo-Nvidia/data/ami_mix_headset/oracle_vad/speaker_outputs/subsegments_scale0.json\n",
      "[NeMo I 2022-07-20 11:59:08 clustering_diarizer:325] Extracting embeddings for Diarization\n",
      "[NeMo I 2022-07-20 11:59:08 collections:289] Filtered duration for loading collection is 0.000000.\n",
      "[NeMo I 2022-07-20 11:59:08 collections:293] # 2463 files loaded accounting to # 1 labels\n"
     ]
    },
    {
     "name": "stderr",
     "output_type": "stream",
     "text": [
      "100%|██████████| 39/39 [00:02<00:00, 18.63it/s]\n"
     ]
    },
    {
     "name": "stdout",
     "output_type": "stream",
     "text": [
      "[NeMo I 2022-07-20 11:59:10 clustering_diarizer:368] Saved embedding files to /home/DATA/amit_kesari/SD1/NeMo-Nvidia/data/ami_mix_headset/oracle_vad/speaker_outputs/embeddings\n"
     ]
    },
    {
     "name": "stderr",
     "output_type": "stream",
     "text": [
      "100%|██████████| 1/1 [00:04<00:00,  4.72s/it]\n"
     ]
    },
    {
     "name": "stdout",
     "output_type": "stream",
     "text": [
      "[NeMo I 2022-07-20 11:59:17 speaker_utils:460] Cumulative Results for collar 0.25 sec and ignore_overlap False: \n",
      "     FA: 0.0000\t MISS 0.1944\t                 Diarization ER: 0.2189\t, Confusion ER:0.0245\n",
      "[NeMo I 2022-07-20 11:59:17 clustering_diarizer:444] Outputs are saved in /home/DATA/amit_kesari/SD1/NeMo-Nvidia/data/ami_mix_headset/oracle_vad directory\n",
      "Diarization error rate (DER) = 29.0%\n",
      "\n",
      "\n",
      "ami_label:  EN2002b.Mix-Headset\n",
      "[NeMo I 2022-07-20 11:59:18 clustering_diarizer:153] Loading pretrained titanet_large model from NGC\n",
      "[NeMo I 2022-07-20 11:59:18 cloud:56] Found existing object /root/.cache/torch/NeMo/NeMo_1.10.0/titanet-l/492c0ab8416139171dc18c21879a9e45/titanet-l.nemo.\n",
      "[NeMo I 2022-07-20 11:59:18 cloud:62] Re-using file from: /root/.cache/torch/NeMo/NeMo_1.10.0/titanet-l/492c0ab8416139171dc18c21879a9e45/titanet-l.nemo\n",
      "[NeMo I 2022-07-20 11:59:18 common:789] Instantiating model from pre-trained checkpoint\n"
     ]
    },
    {
     "name": "stderr",
     "output_type": "stream",
     "text": [
      "[NeMo W 2022-07-20 11:59:19 modelPT:148] If you intend to do training or fine-tuning, please call the ModelPT.setup_training_data() method and provide a valid configuration file to setup the train data loader.\n",
      "    Train config : \n",
      "    manifest_filepath: /manifests/combined_fisher_swbd_voxceleb12_librispeech/train.json\n",
      "    sample_rate: 16000\n",
      "    labels: null\n",
      "    batch_size: 64\n",
      "    shuffle: true\n",
      "    time_length: 3\n",
      "    is_tarred: false\n",
      "    tarred_audio_filepaths: null\n",
      "    tarred_shard_strategy: scatter\n",
      "    augmentor:\n",
      "      noise:\n",
      "        manifest_path: /manifests/noise/rir_noise_manifest.json\n",
      "        prob: 0.5\n",
      "        min_snr_db: 0\n",
      "        max_snr_db: 15\n",
      "      speed:\n",
      "        prob: 0.5\n",
      "        sr: 16000\n",
      "        resample_type: kaiser_fast\n",
      "        min_speed_rate: 0.95\n",
      "        max_speed_rate: 1.05\n",
      "    num_workers: 15\n",
      "    pin_memory: true\n",
      "    \n",
      "[NeMo W 2022-07-20 11:59:19 modelPT:155] If you intend to do validation, please call the ModelPT.setup_validation_data() or ModelPT.setup_multiple_validation_data() method and provide a valid configuration file to setup the validation data loader(s). \n",
      "    Validation config : \n",
      "    manifest_filepath: /manifests/combined_fisher_swbd_voxceleb12_librispeech/dev.json\n",
      "    sample_rate: 16000\n",
      "    labels: null\n",
      "    batch_size: 128\n",
      "    shuffle: false\n",
      "    time_length: 3\n",
      "    num_workers: 15\n",
      "    pin_memory: true\n",
      "    \n"
     ]
    },
    {
     "name": "stdout",
     "output_type": "stream",
     "text": [
      "[NeMo I 2022-07-20 11:59:19 features:200] PADDING: 16\n",
      "[NeMo I 2022-07-20 11:59:19 label_models:100] loss is Angular Softmax\n",
      "[NeMo I 2022-07-20 11:59:19 save_restore_connector:243] Model EncDecSpeakerLabelModel was successfully restored from /root/.cache/torch/NeMo/NeMo_1.10.0/titanet-l/492c0ab8416139171dc18c21879a9e45/titanet-l.nemo.\n",
      "[NeMo I 2022-07-20 11:59:19 speaker_utils:82] Number of files to diarize: 1\n",
      "[NeMo I 2022-07-20 11:59:20 clustering_diarizer:271] Subsegmentation for embedding extraction: scale0, /home/DATA/amit_kesari/SD1/NeMo-Nvidia/data/ami_mix_headset/oracle_vad/speaker_outputs/subsegments_scale0.json\n",
      "[NeMo I 2022-07-20 11:59:20 clustering_diarizer:325] Extracting embeddings for Diarization\n",
      "[NeMo I 2022-07-20 11:59:20 collections:289] Filtered duration for loading collection is 0.000000.\n",
      "[NeMo I 2022-07-20 11:59:20 collections:293] # 1937 files loaded accounting to # 1 labels\n"
     ]
    },
    {
     "name": "stderr",
     "output_type": "stream",
     "text": [
      "100%|██████████| 31/31 [00:01<00:00, 18.52it/s]\n"
     ]
    },
    {
     "name": "stdout",
     "output_type": "stream",
     "text": [
      "[NeMo I 2022-07-20 11:59:21 clustering_diarizer:368] Saved embedding files to /home/DATA/amit_kesari/SD1/NeMo-Nvidia/data/ami_mix_headset/oracle_vad/speaker_outputs/embeddings\n"
     ]
    },
    {
     "name": "stderr",
     "output_type": "stream",
     "text": [
      "100%|██████████| 1/1 [00:03<00:00,  3.30s/it]\n"
     ]
    },
    {
     "name": "stdout",
     "output_type": "stream",
     "text": [
      "[NeMo I 2022-07-20 11:59:26 speaker_utils:460] Cumulative Results for collar 0.25 sec and ignore_overlap False: \n",
      "     FA: 0.0000\t MISS 0.1971\t                 Diarization ER: 0.2198\t, Confusion ER:0.0227\n",
      "[NeMo I 2022-07-20 11:59:26 clustering_diarizer:444] Outputs are saved in /home/DATA/amit_kesari/SD1/NeMo-Nvidia/data/ami_mix_headset/oracle_vad directory\n",
      "Diarization error rate (DER) = 27.6%\n",
      "\n",
      "\n",
      "ami_label:  EN2002c.Mix-Headset\n",
      "[NeMo I 2022-07-20 11:59:26 clustering_diarizer:153] Loading pretrained titanet_large model from NGC\n",
      "[NeMo I 2022-07-20 11:59:26 cloud:56] Found existing object /root/.cache/torch/NeMo/NeMo_1.10.0/titanet-l/492c0ab8416139171dc18c21879a9e45/titanet-l.nemo.\n",
      "[NeMo I 2022-07-20 11:59:26 cloud:62] Re-using file from: /root/.cache/torch/NeMo/NeMo_1.10.0/titanet-l/492c0ab8416139171dc18c21879a9e45/titanet-l.nemo\n",
      "[NeMo I 2022-07-20 11:59:26 common:789] Instantiating model from pre-trained checkpoint\n"
     ]
    },
    {
     "name": "stderr",
     "output_type": "stream",
     "text": [
      "[NeMo W 2022-07-20 11:59:27 modelPT:148] If you intend to do training or fine-tuning, please call the ModelPT.setup_training_data() method and provide a valid configuration file to setup the train data loader.\n",
      "    Train config : \n",
      "    manifest_filepath: /manifests/combined_fisher_swbd_voxceleb12_librispeech/train.json\n",
      "    sample_rate: 16000\n",
      "    labels: null\n",
      "    batch_size: 64\n",
      "    shuffle: true\n",
      "    time_length: 3\n",
      "    is_tarred: false\n",
      "    tarred_audio_filepaths: null\n",
      "    tarred_shard_strategy: scatter\n",
      "    augmentor:\n",
      "      noise:\n",
      "        manifest_path: /manifests/noise/rir_noise_manifest.json\n",
      "        prob: 0.5\n",
      "        min_snr_db: 0\n",
      "        max_snr_db: 15\n",
      "      speed:\n",
      "        prob: 0.5\n",
      "        sr: 16000\n",
      "        resample_type: kaiser_fast\n",
      "        min_speed_rate: 0.95\n",
      "        max_speed_rate: 1.05\n",
      "    num_workers: 15\n",
      "    pin_memory: true\n",
      "    \n",
      "[NeMo W 2022-07-20 11:59:27 modelPT:155] If you intend to do validation, please call the ModelPT.setup_validation_data() or ModelPT.setup_multiple_validation_data() method and provide a valid configuration file to setup the validation data loader(s). \n",
      "    Validation config : \n",
      "    manifest_filepath: /manifests/combined_fisher_swbd_voxceleb12_librispeech/dev.json\n",
      "    sample_rate: 16000\n",
      "    labels: null\n",
      "    batch_size: 128\n",
      "    shuffle: false\n",
      "    time_length: 3\n",
      "    num_workers: 15\n",
      "    pin_memory: true\n",
      "    \n"
     ]
    },
    {
     "name": "stdout",
     "output_type": "stream",
     "text": [
      "[NeMo I 2022-07-20 11:59:27 features:200] PADDING: 16\n",
      "[NeMo I 2022-07-20 11:59:27 label_models:100] loss is Angular Softmax\n",
      "[NeMo I 2022-07-20 11:59:28 save_restore_connector:243] Model EncDecSpeakerLabelModel was successfully restored from /root/.cache/torch/NeMo/NeMo_1.10.0/titanet-l/492c0ab8416139171dc18c21879a9e45/titanet-l.nemo.\n",
      "[NeMo I 2022-07-20 11:59:28 speaker_utils:82] Number of files to diarize: 1\n",
      "[NeMo I 2022-07-20 11:59:28 clustering_diarizer:271] Subsegmentation for embedding extraction: scale0, /home/DATA/amit_kesari/SD1/NeMo-Nvidia/data/ami_mix_headset/oracle_vad/speaker_outputs/subsegments_scale0.json\n",
      "[NeMo I 2022-07-20 11:59:28 clustering_diarizer:325] Extracting embeddings for Diarization\n",
      "[NeMo I 2022-07-20 11:59:28 collections:289] Filtered duration for loading collection is 0.000000.\n",
      "[NeMo I 2022-07-20 11:59:28 collections:293] # 3427 files loaded accounting to # 1 labels\n"
     ]
    },
    {
     "name": "stderr",
     "output_type": "stream",
     "text": [
      "100%|██████████| 54/54 [00:02<00:00, 19.44it/s]\n"
     ]
    },
    {
     "name": "stdout",
     "output_type": "stream",
     "text": [
      "[NeMo I 2022-07-20 11:59:31 clustering_diarizer:368] Saved embedding files to /home/DATA/amit_kesari/SD1/NeMo-Nvidia/data/ami_mix_headset/oracle_vad/speaker_outputs/embeddings\n"
     ]
    },
    {
     "name": "stderr",
     "output_type": "stream",
     "text": [
      "100%|██████████| 1/1 [00:03<00:00,  3.43s/it]\n"
     ]
    },
    {
     "name": "stdout",
     "output_type": "stream",
     "text": [
      "[NeMo I 2022-07-20 11:59:36 speaker_utils:460] Cumulative Results for collar 0.25 sec and ignore_overlap False: \n",
      "     FA: 0.0000\t MISS 0.1875\t                 Diarization ER: 0.2003\t, Confusion ER:0.0128\n",
      "[NeMo I 2022-07-20 11:59:36 clustering_diarizer:444] Outputs are saved in /home/DATA/amit_kesari/SD1/NeMo-Nvidia/data/ami_mix_headset/oracle_vad directory\n",
      "Diarization error rate (DER) = 24.5%\n",
      "\n",
      "\n",
      "ami_label:  EN2002d.Mix-Headset\n",
      "[NeMo I 2022-07-20 11:59:37 clustering_diarizer:153] Loading pretrained titanet_large model from NGC\n",
      "[NeMo I 2022-07-20 11:59:37 cloud:56] Found existing object /root/.cache/torch/NeMo/NeMo_1.10.0/titanet-l/492c0ab8416139171dc18c21879a9e45/titanet-l.nemo.\n",
      "[NeMo I 2022-07-20 11:59:37 cloud:62] Re-using file from: /root/.cache/torch/NeMo/NeMo_1.10.0/titanet-l/492c0ab8416139171dc18c21879a9e45/titanet-l.nemo\n",
      "[NeMo I 2022-07-20 11:59:37 common:789] Instantiating model from pre-trained checkpoint\n"
     ]
    },
    {
     "name": "stderr",
     "output_type": "stream",
     "text": [
      "[NeMo W 2022-07-20 11:59:38 modelPT:148] If you intend to do training or fine-tuning, please call the ModelPT.setup_training_data() method and provide a valid configuration file to setup the train data loader.\n",
      "    Train config : \n",
      "    manifest_filepath: /manifests/combined_fisher_swbd_voxceleb12_librispeech/train.json\n",
      "    sample_rate: 16000\n",
      "    labels: null\n",
      "    batch_size: 64\n",
      "    shuffle: true\n",
      "    time_length: 3\n",
      "    is_tarred: false\n",
      "    tarred_audio_filepaths: null\n",
      "    tarred_shard_strategy: scatter\n",
      "    augmentor:\n",
      "      noise:\n",
      "        manifest_path: /manifests/noise/rir_noise_manifest.json\n",
      "        prob: 0.5\n",
      "        min_snr_db: 0\n",
      "        max_snr_db: 15\n",
      "      speed:\n",
      "        prob: 0.5\n",
      "        sr: 16000\n",
      "        resample_type: kaiser_fast\n",
      "        min_speed_rate: 0.95\n",
      "        max_speed_rate: 1.05\n",
      "    num_workers: 15\n",
      "    pin_memory: true\n",
      "    \n",
      "[NeMo W 2022-07-20 11:59:38 modelPT:155] If you intend to do validation, please call the ModelPT.setup_validation_data() or ModelPT.setup_multiple_validation_data() method and provide a valid configuration file to setup the validation data loader(s). \n",
      "    Validation config : \n",
      "    manifest_filepath: /manifests/combined_fisher_swbd_voxceleb12_librispeech/dev.json\n",
      "    sample_rate: 16000\n",
      "    labels: null\n",
      "    batch_size: 128\n",
      "    shuffle: false\n",
      "    time_length: 3\n",
      "    num_workers: 15\n",
      "    pin_memory: true\n",
      "    \n"
     ]
    },
    {
     "name": "stdout",
     "output_type": "stream",
     "text": [
      "[NeMo I 2022-07-20 11:59:38 features:200] PADDING: 16\n",
      "[NeMo I 2022-07-20 11:59:38 label_models:100] loss is Angular Softmax\n",
      "[NeMo I 2022-07-20 11:59:39 save_restore_connector:243] Model EncDecSpeakerLabelModel was successfully restored from /root/.cache/torch/NeMo/NeMo_1.10.0/titanet-l/492c0ab8416139171dc18c21879a9e45/titanet-l.nemo.\n",
      "[NeMo I 2022-07-20 11:59:39 speaker_utils:82] Number of files to diarize: 1\n",
      "[NeMo I 2022-07-20 11:59:39 clustering_diarizer:271] Subsegmentation for embedding extraction: scale0, /home/DATA/amit_kesari/SD1/NeMo-Nvidia/data/ami_mix_headset/oracle_vad/speaker_outputs/subsegments_scale0.json\n",
      "[NeMo I 2022-07-20 11:59:39 clustering_diarizer:325] Extracting embeddings for Diarization\n",
      "[NeMo I 2022-07-20 11:59:39 collections:289] Filtered duration for loading collection is 0.000000.\n",
      "[NeMo I 2022-07-20 11:59:39 collections:293] # 2525 files loaded accounting to # 1 labels\n"
     ]
    },
    {
     "name": "stderr",
     "output_type": "stream",
     "text": [
      "100%|██████████| 40/40 [00:02<00:00, 17.92it/s]\n"
     ]
    },
    {
     "name": "stdout",
     "output_type": "stream",
     "text": [
      "[NeMo I 2022-07-20 11:59:41 clustering_diarizer:368] Saved embedding files to /home/DATA/amit_kesari/SD1/NeMo-Nvidia/data/ami_mix_headset/oracle_vad/speaker_outputs/embeddings\n"
     ]
    },
    {
     "name": "stderr",
     "output_type": "stream",
     "text": [
      "100%|██████████| 1/1 [00:01<00:00,  1.94s/it]\n"
     ]
    },
    {
     "name": "stdout",
     "output_type": "stream",
     "text": [
      "[NeMo I 2022-07-20 11:59:45 speaker_utils:460] Cumulative Results for collar 0.25 sec and ignore_overlap False: \n",
      "     FA: 0.0000\t MISS 0.2406\t                 Diarization ER: 0.2631\t, Confusion ER:0.0225\n",
      "[NeMo I 2022-07-20 11:59:45 clustering_diarizer:444] Outputs are saved in /home/DATA/amit_kesari/SD1/NeMo-Nvidia/data/ami_mix_headset/oracle_vad directory\n",
      "Diarization error rate (DER) = 31.6%\n",
      "\n",
      "\n",
      "ami_label:  ES2004a.Mix-Headset\n",
      "[NeMo I 2022-07-20 11:59:46 clustering_diarizer:153] Loading pretrained titanet_large model from NGC\n",
      "[NeMo I 2022-07-20 11:59:46 cloud:56] Found existing object /root/.cache/torch/NeMo/NeMo_1.10.0/titanet-l/492c0ab8416139171dc18c21879a9e45/titanet-l.nemo.\n",
      "[NeMo I 2022-07-20 11:59:46 cloud:62] Re-using file from: /root/.cache/torch/NeMo/NeMo_1.10.0/titanet-l/492c0ab8416139171dc18c21879a9e45/titanet-l.nemo\n",
      "[NeMo I 2022-07-20 11:59:46 common:789] Instantiating model from pre-trained checkpoint\n"
     ]
    },
    {
     "name": "stderr",
     "output_type": "stream",
     "text": [
      "[NeMo W 2022-07-20 11:59:47 modelPT:148] If you intend to do training or fine-tuning, please call the ModelPT.setup_training_data() method and provide a valid configuration file to setup the train data loader.\n",
      "    Train config : \n",
      "    manifest_filepath: /manifests/combined_fisher_swbd_voxceleb12_librispeech/train.json\n",
      "    sample_rate: 16000\n",
      "    labels: null\n",
      "    batch_size: 64\n",
      "    shuffle: true\n",
      "    time_length: 3\n",
      "    is_tarred: false\n",
      "    tarred_audio_filepaths: null\n",
      "    tarred_shard_strategy: scatter\n",
      "    augmentor:\n",
      "      noise:\n",
      "        manifest_path: /manifests/noise/rir_noise_manifest.json\n",
      "        prob: 0.5\n",
      "        min_snr_db: 0\n",
      "        max_snr_db: 15\n",
      "      speed:\n",
      "        prob: 0.5\n",
      "        sr: 16000\n",
      "        resample_type: kaiser_fast\n",
      "        min_speed_rate: 0.95\n",
      "        max_speed_rate: 1.05\n",
      "    num_workers: 15\n",
      "    pin_memory: true\n",
      "    \n",
      "[NeMo W 2022-07-20 11:59:47 modelPT:155] If you intend to do validation, please call the ModelPT.setup_validation_data() or ModelPT.setup_multiple_validation_data() method and provide a valid configuration file to setup the validation data loader(s). \n",
      "    Validation config : \n",
      "    manifest_filepath: /manifests/combined_fisher_swbd_voxceleb12_librispeech/dev.json\n",
      "    sample_rate: 16000\n",
      "    labels: null\n",
      "    batch_size: 128\n",
      "    shuffle: false\n",
      "    time_length: 3\n",
      "    num_workers: 15\n",
      "    pin_memory: true\n",
      "    \n"
     ]
    },
    {
     "name": "stdout",
     "output_type": "stream",
     "text": [
      "[NeMo I 2022-07-20 11:59:47 features:200] PADDING: 16\n",
      "[NeMo I 2022-07-20 11:59:47 label_models:100] loss is Angular Softmax\n",
      "[NeMo I 2022-07-20 11:59:47 save_restore_connector:243] Model EncDecSpeakerLabelModel was successfully restored from /root/.cache/torch/NeMo/NeMo_1.10.0/titanet-l/492c0ab8416139171dc18c21879a9e45/titanet-l.nemo.\n",
      "[NeMo I 2022-07-20 11:59:47 speaker_utils:82] Number of files to diarize: 1\n",
      "[NeMo I 2022-07-20 11:59:47 clustering_diarizer:271] Subsegmentation for embedding extraction: scale0, /home/DATA/amit_kesari/SD1/NeMo-Nvidia/data/ami_mix_headset/oracle_vad/speaker_outputs/subsegments_scale0.json\n",
      "[NeMo I 2022-07-20 11:59:48 clustering_diarizer:325] Extracting embeddings for Diarization\n",
      "[NeMo I 2022-07-20 11:59:48 collections:289] Filtered duration for loading collection is 0.000000.\n",
      "[NeMo I 2022-07-20 11:59:48 collections:293] # 1022 files loaded accounting to # 1 labels\n"
     ]
    },
    {
     "name": "stderr",
     "output_type": "stream",
     "text": [
      "100%|██████████| 16/16 [00:00<00:00, 16.40it/s]\n"
     ]
    },
    {
     "name": "stdout",
     "output_type": "stream",
     "text": [
      "[NeMo I 2022-07-20 11:59:49 clustering_diarizer:368] Saved embedding files to /home/DATA/amit_kesari/SD1/NeMo-Nvidia/data/ami_mix_headset/oracle_vad/speaker_outputs/embeddings\n"
     ]
    },
    {
     "name": "stderr",
     "output_type": "stream",
     "text": [
      "100%|██████████| 1/1 [00:01<00:00,  1.35s/it]\n"
     ]
    },
    {
     "name": "stdout",
     "output_type": "stream",
     "text": [
      "[NeMo I 2022-07-20 11:59:50 speaker_utils:460] Cumulative Results for collar 0.25 sec and ignore_overlap False: \n",
      "     FA: 0.0000\t MISS 0.0801\t                 Diarization ER: 0.1039\t, Confusion ER:0.0237\n",
      "[NeMo I 2022-07-20 11:59:50 clustering_diarizer:444] Outputs are saved in /home/DATA/amit_kesari/SD1/NeMo-Nvidia/data/ami_mix_headset/oracle_vad directory\n",
      "Diarization error rate (DER) = 18.2%\n",
      "\n",
      "\n",
      "ami_label:  ES2004b.Mix-Headset\n",
      "[NeMo I 2022-07-20 11:59:50 clustering_diarizer:153] Loading pretrained titanet_large model from NGC\n",
      "[NeMo I 2022-07-20 11:59:50 cloud:56] Found existing object /root/.cache/torch/NeMo/NeMo_1.10.0/titanet-l/492c0ab8416139171dc18c21879a9e45/titanet-l.nemo.\n",
      "[NeMo I 2022-07-20 11:59:50 cloud:62] Re-using file from: /root/.cache/torch/NeMo/NeMo_1.10.0/titanet-l/492c0ab8416139171dc18c21879a9e45/titanet-l.nemo\n",
      "[NeMo I 2022-07-20 11:59:50 common:789] Instantiating model from pre-trained checkpoint\n"
     ]
    },
    {
     "name": "stderr",
     "output_type": "stream",
     "text": [
      "[NeMo W 2022-07-20 11:59:51 modelPT:148] If you intend to do training or fine-tuning, please call the ModelPT.setup_training_data() method and provide a valid configuration file to setup the train data loader.\n",
      "    Train config : \n",
      "    manifest_filepath: /manifests/combined_fisher_swbd_voxceleb12_librispeech/train.json\n",
      "    sample_rate: 16000\n",
      "    labels: null\n",
      "    batch_size: 64\n",
      "    shuffle: true\n",
      "    time_length: 3\n",
      "    is_tarred: false\n",
      "    tarred_audio_filepaths: null\n",
      "    tarred_shard_strategy: scatter\n",
      "    augmentor:\n",
      "      noise:\n",
      "        manifest_path: /manifests/noise/rir_noise_manifest.json\n",
      "        prob: 0.5\n",
      "        min_snr_db: 0\n",
      "        max_snr_db: 15\n",
      "      speed:\n",
      "        prob: 0.5\n",
      "        sr: 16000\n",
      "        resample_type: kaiser_fast\n",
      "        min_speed_rate: 0.95\n",
      "        max_speed_rate: 1.05\n",
      "    num_workers: 15\n",
      "    pin_memory: true\n",
      "    \n",
      "[NeMo W 2022-07-20 11:59:51 modelPT:155] If you intend to do validation, please call the ModelPT.setup_validation_data() or ModelPT.setup_multiple_validation_data() method and provide a valid configuration file to setup the validation data loader(s). \n",
      "    Validation config : \n",
      "    manifest_filepath: /manifests/combined_fisher_swbd_voxceleb12_librispeech/dev.json\n",
      "    sample_rate: 16000\n",
      "    labels: null\n",
      "    batch_size: 128\n",
      "    shuffle: false\n",
      "    time_length: 3\n",
      "    num_workers: 15\n",
      "    pin_memory: true\n",
      "    \n"
     ]
    },
    {
     "name": "stdout",
     "output_type": "stream",
     "text": [
      "[NeMo I 2022-07-20 11:59:51 features:200] PADDING: 16\n",
      "[NeMo I 2022-07-20 11:59:52 label_models:100] loss is Angular Softmax\n",
      "[NeMo I 2022-07-20 11:59:52 save_restore_connector:243] Model EncDecSpeakerLabelModel was successfully restored from /root/.cache/torch/NeMo/NeMo_1.10.0/titanet-l/492c0ab8416139171dc18c21879a9e45/titanet-l.nemo.\n",
      "[NeMo I 2022-07-20 11:59:52 speaker_utils:82] Number of files to diarize: 1\n",
      "[NeMo I 2022-07-20 11:59:52 clustering_diarizer:271] Subsegmentation for embedding extraction: scale0, /home/DATA/amit_kesari/SD1/NeMo-Nvidia/data/ami_mix_headset/oracle_vad/speaker_outputs/subsegments_scale0.json\n",
      "[NeMo I 2022-07-20 11:59:52 clustering_diarizer:325] Extracting embeddings for Diarization\n",
      "[NeMo I 2022-07-20 11:59:52 collections:289] Filtered duration for loading collection is 0.000000.\n",
      "[NeMo I 2022-07-20 11:59:52 collections:293] # 2628 files loaded accounting to # 1 labels\n"
     ]
    },
    {
     "name": "stderr",
     "output_type": "stream",
     "text": [
      "100%|██████████| 42/42 [00:02<00:00, 17.61it/s]\n"
     ]
    },
    {
     "name": "stdout",
     "output_type": "stream",
     "text": [
      "[NeMo I 2022-07-20 11:59:55 clustering_diarizer:368] Saved embedding files to /home/DATA/amit_kesari/SD1/NeMo-Nvidia/data/ami_mix_headset/oracle_vad/speaker_outputs/embeddings\n"
     ]
    },
    {
     "name": "stderr",
     "output_type": "stream",
     "text": [
      "100%|██████████| 1/1 [00:02<00:00,  2.04s/it]\n"
     ]
    },
    {
     "name": "stdout",
     "output_type": "stream",
     "text": [
      "[NeMo I 2022-07-20 11:59:58 speaker_utils:460] Cumulative Results for collar 0.25 sec and ignore_overlap False: \n",
      "     FA: 0.0000\t MISS 0.0447\t                 Diarization ER: 0.0523\t, Confusion ER:0.0076\n",
      "[NeMo I 2022-07-20 11:59:58 clustering_diarizer:444] Outputs are saved in /home/DATA/amit_kesari/SD1/NeMo-Nvidia/data/ami_mix_headset/oracle_vad directory\n",
      "Diarization error rate (DER) = 11.3%\n",
      "\n",
      "\n",
      "ami_label:  ES2004c.Mix-Headset\n",
      "[NeMo I 2022-07-20 11:59:58 clustering_diarizer:153] Loading pretrained titanet_large model from NGC\n",
      "[NeMo I 2022-07-20 11:59:58 cloud:56] Found existing object /root/.cache/torch/NeMo/NeMo_1.10.0/titanet-l/492c0ab8416139171dc18c21879a9e45/titanet-l.nemo.\n",
      "[NeMo I 2022-07-20 11:59:58 cloud:62] Re-using file from: /root/.cache/torch/NeMo/NeMo_1.10.0/titanet-l/492c0ab8416139171dc18c21879a9e45/titanet-l.nemo\n",
      "[NeMo I 2022-07-20 11:59:58 common:789] Instantiating model from pre-trained checkpoint\n"
     ]
    },
    {
     "name": "stderr",
     "output_type": "stream",
     "text": [
      "[NeMo W 2022-07-20 11:59:59 modelPT:148] If you intend to do training or fine-tuning, please call the ModelPT.setup_training_data() method and provide a valid configuration file to setup the train data loader.\n",
      "    Train config : \n",
      "    manifest_filepath: /manifests/combined_fisher_swbd_voxceleb12_librispeech/train.json\n",
      "    sample_rate: 16000\n",
      "    labels: null\n",
      "    batch_size: 64\n",
      "    shuffle: true\n",
      "    time_length: 3\n",
      "    is_tarred: false\n",
      "    tarred_audio_filepaths: null\n",
      "    tarred_shard_strategy: scatter\n",
      "    augmentor:\n",
      "      noise:\n",
      "        manifest_path: /manifests/noise/rir_noise_manifest.json\n",
      "        prob: 0.5\n",
      "        min_snr_db: 0\n",
      "        max_snr_db: 15\n",
      "      speed:\n",
      "        prob: 0.5\n",
      "        sr: 16000\n",
      "        resample_type: kaiser_fast\n",
      "        min_speed_rate: 0.95\n",
      "        max_speed_rate: 1.05\n",
      "    num_workers: 15\n",
      "    pin_memory: true\n",
      "    \n",
      "[NeMo W 2022-07-20 11:59:59 modelPT:155] If you intend to do validation, please call the ModelPT.setup_validation_data() or ModelPT.setup_multiple_validation_data() method and provide a valid configuration file to setup the validation data loader(s). \n",
      "    Validation config : \n",
      "    manifest_filepath: /manifests/combined_fisher_swbd_voxceleb12_librispeech/dev.json\n",
      "    sample_rate: 16000\n",
      "    labels: null\n",
      "    batch_size: 128\n",
      "    shuffle: false\n",
      "    time_length: 3\n",
      "    num_workers: 15\n",
      "    pin_memory: true\n",
      "    \n"
     ]
    },
    {
     "name": "stdout",
     "output_type": "stream",
     "text": [
      "[NeMo I 2022-07-20 11:59:59 features:200] PADDING: 16\n",
      "[NeMo I 2022-07-20 11:59:59 label_models:100] loss is Angular Softmax\n",
      "[NeMo I 2022-07-20 11:59:59 save_restore_connector:243] Model EncDecSpeakerLabelModel was successfully restored from /root/.cache/torch/NeMo/NeMo_1.10.0/titanet-l/492c0ab8416139171dc18c21879a9e45/titanet-l.nemo.\n",
      "[NeMo I 2022-07-20 11:59:59 speaker_utils:82] Number of files to diarize: 1\n",
      "[NeMo I 2022-07-20 11:59:59 clustering_diarizer:271] Subsegmentation for embedding extraction: scale0, /home/DATA/amit_kesari/SD1/NeMo-Nvidia/data/ami_mix_headset/oracle_vad/speaker_outputs/subsegments_scale0.json\n",
      "[NeMo I 2022-07-20 11:59:59 clustering_diarizer:325] Extracting embeddings for Diarization\n",
      "[NeMo I 2022-07-20 11:59:59 collections:289] Filtered duration for loading collection is 0.000000.\n",
      "[NeMo I 2022-07-20 11:59:59 collections:293] # 2622 files loaded accounting to # 1 labels\n"
     ]
    },
    {
     "name": "stderr",
     "output_type": "stream",
     "text": [
      "100%|██████████| 41/41 [00:02<00:00, 18.70it/s]\n"
     ]
    },
    {
     "name": "stdout",
     "output_type": "stream",
     "text": [
      "[NeMo I 2022-07-20 12:00:02 clustering_diarizer:368] Saved embedding files to /home/DATA/amit_kesari/SD1/NeMo-Nvidia/data/ami_mix_headset/oracle_vad/speaker_outputs/embeddings\n"
     ]
    },
    {
     "name": "stderr",
     "output_type": "stream",
     "text": [
      "100%|██████████| 1/1 [00:02<00:00,  2.00s/it]\n"
     ]
    },
    {
     "name": "stdout",
     "output_type": "stream",
     "text": [
      "[NeMo I 2022-07-20 12:00:05 speaker_utils:460] Cumulative Results for collar 0.25 sec and ignore_overlap False: \n",
      "     FA: 0.0000\t MISS 0.0521\t                 Diarization ER: 0.0589\t, Confusion ER:0.0068\n",
      "[NeMo I 2022-07-20 12:00:05 clustering_diarizer:444] Outputs are saved in /home/DATA/amit_kesari/SD1/NeMo-Nvidia/data/ami_mix_headset/oracle_vad directory\n",
      "Diarization error rate (DER) = 11.9%\n",
      "\n",
      "\n",
      "ami_label:  ES2004d.Mix-Headset\n",
      "[NeMo I 2022-07-20 12:00:05 clustering_diarizer:153] Loading pretrained titanet_large model from NGC\n",
      "[NeMo I 2022-07-20 12:00:05 cloud:56] Found existing object /root/.cache/torch/NeMo/NeMo_1.10.0/titanet-l/492c0ab8416139171dc18c21879a9e45/titanet-l.nemo.\n",
      "[NeMo I 2022-07-20 12:00:05 cloud:62] Re-using file from: /root/.cache/torch/NeMo/NeMo_1.10.0/titanet-l/492c0ab8416139171dc18c21879a9e45/titanet-l.nemo\n",
      "[NeMo I 2022-07-20 12:00:05 common:789] Instantiating model from pre-trained checkpoint\n"
     ]
    },
    {
     "name": "stderr",
     "output_type": "stream",
     "text": [
      "[NeMo W 2022-07-20 12:00:06 modelPT:148] If you intend to do training or fine-tuning, please call the ModelPT.setup_training_data() method and provide a valid configuration file to setup the train data loader.\n",
      "    Train config : \n",
      "    manifest_filepath: /manifests/combined_fisher_swbd_voxceleb12_librispeech/train.json\n",
      "    sample_rate: 16000\n",
      "    labels: null\n",
      "    batch_size: 64\n",
      "    shuffle: true\n",
      "    time_length: 3\n",
      "    is_tarred: false\n",
      "    tarred_audio_filepaths: null\n",
      "    tarred_shard_strategy: scatter\n",
      "    augmentor:\n",
      "      noise:\n",
      "        manifest_path: /manifests/noise/rir_noise_manifest.json\n",
      "        prob: 0.5\n",
      "        min_snr_db: 0\n",
      "        max_snr_db: 15\n",
      "      speed:\n",
      "        prob: 0.5\n",
      "        sr: 16000\n",
      "        resample_type: kaiser_fast\n",
      "        min_speed_rate: 0.95\n",
      "        max_speed_rate: 1.05\n",
      "    num_workers: 15\n",
      "    pin_memory: true\n",
      "    \n",
      "[NeMo W 2022-07-20 12:00:06 modelPT:155] If you intend to do validation, please call the ModelPT.setup_validation_data() or ModelPT.setup_multiple_validation_data() method and provide a valid configuration file to setup the validation data loader(s). \n",
      "    Validation config : \n",
      "    manifest_filepath: /manifests/combined_fisher_swbd_voxceleb12_librispeech/dev.json\n",
      "    sample_rate: 16000\n",
      "    labels: null\n",
      "    batch_size: 128\n",
      "    shuffle: false\n",
      "    time_length: 3\n",
      "    num_workers: 15\n",
      "    pin_memory: true\n",
      "    \n"
     ]
    },
    {
     "name": "stdout",
     "output_type": "stream",
     "text": [
      "[NeMo I 2022-07-20 12:00:06 features:200] PADDING: 16\n",
      "[NeMo I 2022-07-20 12:00:07 label_models:100] loss is Angular Softmax\n",
      "[NeMo I 2022-07-20 12:00:07 save_restore_connector:243] Model EncDecSpeakerLabelModel was successfully restored from /root/.cache/torch/NeMo/NeMo_1.10.0/titanet-l/492c0ab8416139171dc18c21879a9e45/titanet-l.nemo.\n",
      "[NeMo I 2022-07-20 12:00:07 speaker_utils:82] Number of files to diarize: 1\n",
      "[NeMo I 2022-07-20 12:00:07 clustering_diarizer:271] Subsegmentation for embedding extraction: scale0, /home/DATA/amit_kesari/SD1/NeMo-Nvidia/data/ami_mix_headset/oracle_vad/speaker_outputs/subsegments_scale0.json\n",
      "[NeMo I 2022-07-20 12:00:07 clustering_diarizer:325] Extracting embeddings for Diarization\n",
      "[NeMo I 2022-07-20 12:00:07 collections:289] Filtered duration for loading collection is 0.000000.\n",
      "[NeMo I 2022-07-20 12:00:07 collections:293] # 2222 files loaded accounting to # 1 labels\n"
     ]
    },
    {
     "name": "stderr",
     "output_type": "stream",
     "text": [
      "100%|██████████| 35/35 [00:02<00:00, 17.49it/s]\n"
     ]
    },
    {
     "name": "stdout",
     "output_type": "stream",
     "text": [
      "[NeMo I 2022-07-20 12:00:09 clustering_diarizer:368] Saved embedding files to /home/DATA/amit_kesari/SD1/NeMo-Nvidia/data/ami_mix_headset/oracle_vad/speaker_outputs/embeddings\n"
     ]
    },
    {
     "name": "stderr",
     "output_type": "stream",
     "text": [
      "100%|██████████| 1/1 [00:01<00:00,  1.53s/it]\n"
     ]
    },
    {
     "name": "stdout",
     "output_type": "stream",
     "text": [
      "[NeMo I 2022-07-20 12:00:12 speaker_utils:460] Cumulative Results for collar 0.25 sec and ignore_overlap False: \n",
      "     FA: 0.0000\t MISS 0.0829\t                 Diarization ER: 0.0959\t, Confusion ER:0.0130\n",
      "[NeMo I 2022-07-20 12:00:12 clustering_diarizer:444] Outputs are saved in /home/DATA/amit_kesari/SD1/NeMo-Nvidia/data/ami_mix_headset/oracle_vad directory\n",
      "Diarization error rate (DER) = 17.1%\n",
      "\n",
      "\n",
      "ami_label:  IS1009a.Mix-Headset\n",
      "[NeMo I 2022-07-20 12:00:12 clustering_diarizer:153] Loading pretrained titanet_large model from NGC\n",
      "[NeMo I 2022-07-20 12:00:12 cloud:56] Found existing object /root/.cache/torch/NeMo/NeMo_1.10.0/titanet-l/492c0ab8416139171dc18c21879a9e45/titanet-l.nemo.\n",
      "[NeMo I 2022-07-20 12:00:12 cloud:62] Re-using file from: /root/.cache/torch/NeMo/NeMo_1.10.0/titanet-l/492c0ab8416139171dc18c21879a9e45/titanet-l.nemo\n",
      "[NeMo I 2022-07-20 12:00:12 common:789] Instantiating model from pre-trained checkpoint\n"
     ]
    },
    {
     "name": "stderr",
     "output_type": "stream",
     "text": [
      "[NeMo W 2022-07-20 12:00:13 modelPT:148] If you intend to do training or fine-tuning, please call the ModelPT.setup_training_data() method and provide a valid configuration file to setup the train data loader.\n",
      "    Train config : \n",
      "    manifest_filepath: /manifests/combined_fisher_swbd_voxceleb12_librispeech/train.json\n",
      "    sample_rate: 16000\n",
      "    labels: null\n",
      "    batch_size: 64\n",
      "    shuffle: true\n",
      "    time_length: 3\n",
      "    is_tarred: false\n",
      "    tarred_audio_filepaths: null\n",
      "    tarred_shard_strategy: scatter\n",
      "    augmentor:\n",
      "      noise:\n",
      "        manifest_path: /manifests/noise/rir_noise_manifest.json\n",
      "        prob: 0.5\n",
      "        min_snr_db: 0\n",
      "        max_snr_db: 15\n",
      "      speed:\n",
      "        prob: 0.5\n",
      "        sr: 16000\n",
      "        resample_type: kaiser_fast\n",
      "        min_speed_rate: 0.95\n",
      "        max_speed_rate: 1.05\n",
      "    num_workers: 15\n",
      "    pin_memory: true\n",
      "    \n",
      "[NeMo W 2022-07-20 12:00:13 modelPT:155] If you intend to do validation, please call the ModelPT.setup_validation_data() or ModelPT.setup_multiple_validation_data() method and provide a valid configuration file to setup the validation data loader(s). \n",
      "    Validation config : \n",
      "    manifest_filepath: /manifests/combined_fisher_swbd_voxceleb12_librispeech/dev.json\n",
      "    sample_rate: 16000\n",
      "    labels: null\n",
      "    batch_size: 128\n",
      "    shuffle: false\n",
      "    time_length: 3\n",
      "    num_workers: 15\n",
      "    pin_memory: true\n",
      "    \n"
     ]
    },
    {
     "name": "stdout",
     "output_type": "stream",
     "text": [
      "[NeMo I 2022-07-20 12:00:13 features:200] PADDING: 16\n",
      "[NeMo I 2022-07-20 12:00:14 label_models:100] loss is Angular Softmax\n",
      "[NeMo I 2022-07-20 12:00:14 save_restore_connector:243] Model EncDecSpeakerLabelModel was successfully restored from /root/.cache/torch/NeMo/NeMo_1.10.0/titanet-l/492c0ab8416139171dc18c21879a9e45/titanet-l.nemo.\n",
      "[NeMo I 2022-07-20 12:00:14 speaker_utils:82] Number of files to diarize: 1\n",
      "[NeMo I 2022-07-20 12:00:14 clustering_diarizer:271] Subsegmentation for embedding extraction: scale0, /home/DATA/amit_kesari/SD1/NeMo-Nvidia/data/ami_mix_headset/oracle_vad/speaker_outputs/subsegments_scale0.json\n",
      "[NeMo I 2022-07-20 12:00:14 clustering_diarizer:325] Extracting embeddings for Diarization\n",
      "[NeMo I 2022-07-20 12:00:14 collections:289] Filtered duration for loading collection is 0.000000.\n",
      "[NeMo I 2022-07-20 12:00:14 collections:293] # 780 files loaded accounting to # 1 labels\n"
     ]
    },
    {
     "name": "stderr",
     "output_type": "stream",
     "text": [
      "100%|██████████| 13/13 [00:00<00:00, 15.85it/s]"
     ]
    },
    {
     "name": "stdout",
     "output_type": "stream",
     "text": [
      "[NeMo I 2022-07-20 12:00:15 clustering_diarizer:368] Saved embedding files to /home/DATA/amit_kesari/SD1/NeMo-Nvidia/data/ami_mix_headset/oracle_vad/speaker_outputs/embeddings\n"
     ]
    },
    {
     "name": "stderr",
     "output_type": "stream",
     "text": [
      "\n",
      "100%|██████████| 1/1 [00:01<00:00,  1.60s/it]"
     ]
    },
    {
     "name": "stdout",
     "output_type": "stream",
     "text": [
      "[NeMo I 2022-07-20 12:00:17 speaker_utils:460] Cumulative Results for collar 0.25 sec and ignore_overlap False: \n",
      "     FA: 0.0000\t MISS 0.0717\t                 Diarization ER: 0.0877\t, Confusion ER:0.0160\n",
      "[NeMo I 2022-07-20 12:00:17 clustering_diarizer:444] Outputs are saved in /home/DATA/amit_kesari/SD1/NeMo-Nvidia/data/ami_mix_headset/oracle_vad directory\n"
     ]
    },
    {
     "name": "stderr",
     "output_type": "stream",
     "text": [
      "\n"
     ]
    },
    {
     "name": "stdout",
     "output_type": "stream",
     "text": [
      "Diarization error rate (DER) = 15.9%\n",
      "\n",
      "\n",
      "ami_label:  IS1009b.Mix-Headset\n",
      "[NeMo I 2022-07-20 12:00:17 clustering_diarizer:153] Loading pretrained titanet_large model from NGC\n",
      "[NeMo I 2022-07-20 12:00:17 cloud:56] Found existing object /root/.cache/torch/NeMo/NeMo_1.10.0/titanet-l/492c0ab8416139171dc18c21879a9e45/titanet-l.nemo.\n",
      "[NeMo I 2022-07-20 12:00:17 cloud:62] Re-using file from: /root/.cache/torch/NeMo/NeMo_1.10.0/titanet-l/492c0ab8416139171dc18c21879a9e45/titanet-l.nemo\n",
      "[NeMo I 2022-07-20 12:00:17 common:789] Instantiating model from pre-trained checkpoint\n"
     ]
    },
    {
     "name": "stderr",
     "output_type": "stream",
     "text": [
      "[NeMo W 2022-07-20 12:00:17 modelPT:148] If you intend to do training or fine-tuning, please call the ModelPT.setup_training_data() method and provide a valid configuration file to setup the train data loader.\n",
      "    Train config : \n",
      "    manifest_filepath: /manifests/combined_fisher_swbd_voxceleb12_librispeech/train.json\n",
      "    sample_rate: 16000\n",
      "    labels: null\n",
      "    batch_size: 64\n",
      "    shuffle: true\n",
      "    time_length: 3\n",
      "    is_tarred: false\n",
      "    tarred_audio_filepaths: null\n",
      "    tarred_shard_strategy: scatter\n",
      "    augmentor:\n",
      "      noise:\n",
      "        manifest_path: /manifests/noise/rir_noise_manifest.json\n",
      "        prob: 0.5\n",
      "        min_snr_db: 0\n",
      "        max_snr_db: 15\n",
      "      speed:\n",
      "        prob: 0.5\n",
      "        sr: 16000\n",
      "        resample_type: kaiser_fast\n",
      "        min_speed_rate: 0.95\n",
      "        max_speed_rate: 1.05\n",
      "    num_workers: 15\n",
      "    pin_memory: true\n",
      "    \n",
      "[NeMo W 2022-07-20 12:00:17 modelPT:155] If you intend to do validation, please call the ModelPT.setup_validation_data() or ModelPT.setup_multiple_validation_data() method and provide a valid configuration file to setup the validation data loader(s). \n",
      "    Validation config : \n",
      "    manifest_filepath: /manifests/combined_fisher_swbd_voxceleb12_librispeech/dev.json\n",
      "    sample_rate: 16000\n",
      "    labels: null\n",
      "    batch_size: 128\n",
      "    shuffle: false\n",
      "    time_length: 3\n",
      "    num_workers: 15\n",
      "    pin_memory: true\n",
      "    \n"
     ]
    },
    {
     "name": "stdout",
     "output_type": "stream",
     "text": [
      "[NeMo I 2022-07-20 12:00:17 features:200] PADDING: 16\n",
      "[NeMo I 2022-07-20 12:00:18 label_models:100] loss is Angular Softmax\n",
      "[NeMo I 2022-07-20 12:00:18 save_restore_connector:243] Model EncDecSpeakerLabelModel was successfully restored from /root/.cache/torch/NeMo/NeMo_1.10.0/titanet-l/492c0ab8416139171dc18c21879a9e45/titanet-l.nemo.\n",
      "[NeMo I 2022-07-20 12:00:18 speaker_utils:82] Number of files to diarize: 1\n",
      "[NeMo I 2022-07-20 12:00:18 clustering_diarizer:271] Subsegmentation for embedding extraction: scale0, /home/DATA/amit_kesari/SD1/NeMo-Nvidia/data/ami_mix_headset/oracle_vad/speaker_outputs/subsegments_scale0.json\n",
      "[NeMo I 2022-07-20 12:00:18 clustering_diarizer:325] Extracting embeddings for Diarization\n",
      "[NeMo I 2022-07-20 12:00:18 collections:289] Filtered duration for loading collection is 0.000000.\n",
      "[NeMo I 2022-07-20 12:00:18 collections:293] # 2336 files loaded accounting to # 1 labels\n"
     ]
    },
    {
     "name": "stderr",
     "output_type": "stream",
     "text": [
      "100%|██████████| 37/37 [00:02<00:00, 18.13it/s]\n"
     ]
    },
    {
     "name": "stdout",
     "output_type": "stream",
     "text": [
      "[NeMo I 2022-07-20 12:00:20 clustering_diarizer:368] Saved embedding files to /home/DATA/amit_kesari/SD1/NeMo-Nvidia/data/ami_mix_headset/oracle_vad/speaker_outputs/embeddings\n"
     ]
    },
    {
     "name": "stderr",
     "output_type": "stream",
     "text": [
      "100%|██████████| 1/1 [00:01<00:00,  1.93s/it]\n"
     ]
    },
    {
     "name": "stdout",
     "output_type": "stream",
     "text": [
      "[NeMo I 2022-07-20 12:00:23 speaker_utils:460] Cumulative Results for collar 0.25 sec and ignore_overlap False: \n",
      "     FA: 0.0000\t MISS 0.0453\t                 Diarization ER: 0.0491\t, Confusion ER:0.0039\n",
      "[NeMo I 2022-07-20 12:00:23 clustering_diarizer:444] Outputs are saved in /home/DATA/amit_kesari/SD1/NeMo-Nvidia/data/ami_mix_headset/oracle_vad directory\n",
      "Diarization error rate (DER) = 11.6%\n",
      "\n",
      "\n",
      "ami_label:  IS1009c.Mix-Headset\n",
      "[NeMo I 2022-07-20 12:00:23 clustering_diarizer:153] Loading pretrained titanet_large model from NGC\n",
      "[NeMo I 2022-07-20 12:00:23 cloud:56] Found existing object /root/.cache/torch/NeMo/NeMo_1.10.0/titanet-l/492c0ab8416139171dc18c21879a9e45/titanet-l.nemo.\n",
      "[NeMo I 2022-07-20 12:00:23 cloud:62] Re-using file from: /root/.cache/torch/NeMo/NeMo_1.10.0/titanet-l/492c0ab8416139171dc18c21879a9e45/titanet-l.nemo\n",
      "[NeMo I 2022-07-20 12:00:23 common:789] Instantiating model from pre-trained checkpoint\n"
     ]
    },
    {
     "name": "stderr",
     "output_type": "stream",
     "text": [
      "[NeMo W 2022-07-20 12:00:24 modelPT:148] If you intend to do training or fine-tuning, please call the ModelPT.setup_training_data() method and provide a valid configuration file to setup the train data loader.\n",
      "    Train config : \n",
      "    manifest_filepath: /manifests/combined_fisher_swbd_voxceleb12_librispeech/train.json\n",
      "    sample_rate: 16000\n",
      "    labels: null\n",
      "    batch_size: 64\n",
      "    shuffle: true\n",
      "    time_length: 3\n",
      "    is_tarred: false\n",
      "    tarred_audio_filepaths: null\n",
      "    tarred_shard_strategy: scatter\n",
      "    augmentor:\n",
      "      noise:\n",
      "        manifest_path: /manifests/noise/rir_noise_manifest.json\n",
      "        prob: 0.5\n",
      "        min_snr_db: 0\n",
      "        max_snr_db: 15\n",
      "      speed:\n",
      "        prob: 0.5\n",
      "        sr: 16000\n",
      "        resample_type: kaiser_fast\n",
      "        min_speed_rate: 0.95\n",
      "        max_speed_rate: 1.05\n",
      "    num_workers: 15\n",
      "    pin_memory: true\n",
      "    \n",
      "[NeMo W 2022-07-20 12:00:24 modelPT:155] If you intend to do validation, please call the ModelPT.setup_validation_data() or ModelPT.setup_multiple_validation_data() method and provide a valid configuration file to setup the validation data loader(s). \n",
      "    Validation config : \n",
      "    manifest_filepath: /manifests/combined_fisher_swbd_voxceleb12_librispeech/dev.json\n",
      "    sample_rate: 16000\n",
      "    labels: null\n",
      "    batch_size: 128\n",
      "    shuffle: false\n",
      "    time_length: 3\n",
      "    num_workers: 15\n",
      "    pin_memory: true\n",
      "    \n"
     ]
    },
    {
     "name": "stdout",
     "output_type": "stream",
     "text": [
      "[NeMo I 2022-07-20 12:00:24 features:200] PADDING: 16\n",
      "[NeMo I 2022-07-20 12:00:24 label_models:100] loss is Angular Softmax\n",
      "[NeMo I 2022-07-20 12:00:24 save_restore_connector:243] Model EncDecSpeakerLabelModel was successfully restored from /root/.cache/torch/NeMo/NeMo_1.10.0/titanet-l/492c0ab8416139171dc18c21879a9e45/titanet-l.nemo.\n",
      "[NeMo I 2022-07-20 12:00:24 speaker_utils:82] Number of files to diarize: 1\n",
      "[NeMo I 2022-07-20 12:00:24 clustering_diarizer:271] Subsegmentation for embedding extraction: scale0, /home/DATA/amit_kesari/SD1/NeMo-Nvidia/data/ami_mix_headset/oracle_vad/speaker_outputs/subsegments_scale0.json\n",
      "[NeMo I 2022-07-20 12:00:25 clustering_diarizer:325] Extracting embeddings for Diarization\n",
      "[NeMo I 2022-07-20 12:00:25 collections:289] Filtered duration for loading collection is 0.000000.\n",
      "[NeMo I 2022-07-20 12:00:25 collections:293] # 1963 files loaded accounting to # 1 labels\n"
     ]
    },
    {
     "name": "stderr",
     "output_type": "stream",
     "text": [
      "100%|██████████| 31/31 [00:01<00:00, 18.70it/s]\n"
     ]
    },
    {
     "name": "stdout",
     "output_type": "stream",
     "text": [
      "[NeMo I 2022-07-20 12:00:26 clustering_diarizer:368] Saved embedding files to /home/DATA/amit_kesari/SD1/NeMo-Nvidia/data/ami_mix_headset/oracle_vad/speaker_outputs/embeddings\n"
     ]
    },
    {
     "name": "stderr",
     "output_type": "stream",
     "text": [
      "100%|██████████| 1/1 [00:01<00:00,  1.52s/it]\n"
     ]
    },
    {
     "name": "stdout",
     "output_type": "stream",
     "text": [
      "[NeMo I 2022-07-20 12:00:28 speaker_utils:460] Cumulative Results for collar 0.25 sec and ignore_overlap False: \n",
      "     FA: 0.0000\t MISS 0.0183\t                 Diarization ER: 0.0236\t, Confusion ER:0.0053\n",
      "[NeMo I 2022-07-20 12:00:28 clustering_diarizer:444] Outputs are saved in /home/DATA/amit_kesari/SD1/NeMo-Nvidia/data/ami_mix_headset/oracle_vad directory\n",
      "Diarization error rate (DER) = 6.4%\n",
      "\n",
      "\n",
      "ami_label:  IS1009d.Mix-Headset\n",
      "[NeMo I 2022-07-20 12:00:28 clustering_diarizer:153] Loading pretrained titanet_large model from NGC\n",
      "[NeMo I 2022-07-20 12:00:28 cloud:56] Found existing object /root/.cache/torch/NeMo/NeMo_1.10.0/titanet-l/492c0ab8416139171dc18c21879a9e45/titanet-l.nemo.\n",
      "[NeMo I 2022-07-20 12:00:28 cloud:62] Re-using file from: /root/.cache/torch/NeMo/NeMo_1.10.0/titanet-l/492c0ab8416139171dc18c21879a9e45/titanet-l.nemo\n",
      "[NeMo I 2022-07-20 12:00:28 common:789] Instantiating model from pre-trained checkpoint\n"
     ]
    },
    {
     "name": "stderr",
     "output_type": "stream",
     "text": [
      "[NeMo W 2022-07-20 12:00:29 modelPT:148] If you intend to do training or fine-tuning, please call the ModelPT.setup_training_data() method and provide a valid configuration file to setup the train data loader.\n",
      "    Train config : \n",
      "    manifest_filepath: /manifests/combined_fisher_swbd_voxceleb12_librispeech/train.json\n",
      "    sample_rate: 16000\n",
      "    labels: null\n",
      "    batch_size: 64\n",
      "    shuffle: true\n",
      "    time_length: 3\n",
      "    is_tarred: false\n",
      "    tarred_audio_filepaths: null\n",
      "    tarred_shard_strategy: scatter\n",
      "    augmentor:\n",
      "      noise:\n",
      "        manifest_path: /manifests/noise/rir_noise_manifest.json\n",
      "        prob: 0.5\n",
      "        min_snr_db: 0\n",
      "        max_snr_db: 15\n",
      "      speed:\n",
      "        prob: 0.5\n",
      "        sr: 16000\n",
      "        resample_type: kaiser_fast\n",
      "        min_speed_rate: 0.95\n",
      "        max_speed_rate: 1.05\n",
      "    num_workers: 15\n",
      "    pin_memory: true\n",
      "    \n",
      "[NeMo W 2022-07-20 12:00:29 modelPT:155] If you intend to do validation, please call the ModelPT.setup_validation_data() or ModelPT.setup_multiple_validation_data() method and provide a valid configuration file to setup the validation data loader(s). \n",
      "    Validation config : \n",
      "    manifest_filepath: /manifests/combined_fisher_swbd_voxceleb12_librispeech/dev.json\n",
      "    sample_rate: 16000\n",
      "    labels: null\n",
      "    batch_size: 128\n",
      "    shuffle: false\n",
      "    time_length: 3\n",
      "    num_workers: 15\n",
      "    pin_memory: true\n",
      "    \n"
     ]
    },
    {
     "name": "stdout",
     "output_type": "stream",
     "text": [
      "[NeMo I 2022-07-20 12:00:29 features:200] PADDING: 16\n",
      "[NeMo I 2022-07-20 12:00:30 label_models:100] loss is Angular Softmax\n",
      "[NeMo I 2022-07-20 12:00:30 save_restore_connector:243] Model EncDecSpeakerLabelModel was successfully restored from /root/.cache/torch/NeMo/NeMo_1.10.0/titanet-l/492c0ab8416139171dc18c21879a9e45/titanet-l.nemo.\n",
      "[NeMo I 2022-07-20 12:00:30 speaker_utils:82] Number of files to diarize: 1\n",
      "[NeMo I 2022-07-20 12:00:30 clustering_diarizer:271] Subsegmentation for embedding extraction: scale0, /home/DATA/amit_kesari/SD1/NeMo-Nvidia/data/ami_mix_headset/oracle_vad/speaker_outputs/subsegments_scale0.json\n",
      "[NeMo I 2022-07-20 12:00:30 clustering_diarizer:325] Extracting embeddings for Diarization\n",
      "[NeMo I 2022-07-20 12:00:30 collections:289] Filtered duration for loading collection is 0.000000.\n",
      "[NeMo I 2022-07-20 12:00:30 collections:293] # 1992 files loaded accounting to # 1 labels\n"
     ]
    },
    {
     "name": "stderr",
     "output_type": "stream",
     "text": [
      "100%|██████████| 32/32 [00:01<00:00, 17.83it/s]\n"
     ]
    },
    {
     "name": "stdout",
     "output_type": "stream",
     "text": [
      "[NeMo I 2022-07-20 12:00:32 clustering_diarizer:368] Saved embedding files to /home/DATA/amit_kesari/SD1/NeMo-Nvidia/data/ami_mix_headset/oracle_vad/speaker_outputs/embeddings\n"
     ]
    },
    {
     "name": "stderr",
     "output_type": "stream",
     "text": [
      "100%|██████████| 1/1 [00:01<00:00,  1.52s/it]\n"
     ]
    },
    {
     "name": "stdout",
     "output_type": "stream",
     "text": [
      "[NeMo I 2022-07-20 12:00:34 speaker_utils:460] Cumulative Results for collar 0.25 sec and ignore_overlap False: \n",
      "     FA: 0.0000\t MISS 0.0485\t                 Diarization ER: 0.0603\t, Confusion ER:0.0117\n",
      "[NeMo I 2022-07-20 12:00:34 clustering_diarizer:444] Outputs are saved in /home/DATA/amit_kesari/SD1/NeMo-Nvidia/data/ami_mix_headset/oracle_vad directory\n",
      "Diarization error rate (DER) = 13.0%\n",
      "\n",
      "\n",
      "ami_label:  TS3003a.Mix-Headset\n",
      "[NeMo I 2022-07-20 12:00:34 clustering_diarizer:153] Loading pretrained titanet_large model from NGC\n",
      "[NeMo I 2022-07-20 12:00:34 cloud:56] Found existing object /root/.cache/torch/NeMo/NeMo_1.10.0/titanet-l/492c0ab8416139171dc18c21879a9e45/titanet-l.nemo.\n",
      "[NeMo I 2022-07-20 12:00:34 cloud:62] Re-using file from: /root/.cache/torch/NeMo/NeMo_1.10.0/titanet-l/492c0ab8416139171dc18c21879a9e45/titanet-l.nemo\n",
      "[NeMo I 2022-07-20 12:00:34 common:789] Instantiating model from pre-trained checkpoint\n"
     ]
    },
    {
     "name": "stderr",
     "output_type": "stream",
     "text": [
      "[NeMo W 2022-07-20 12:00:35 modelPT:148] If you intend to do training or fine-tuning, please call the ModelPT.setup_training_data() method and provide a valid configuration file to setup the train data loader.\n",
      "    Train config : \n",
      "    manifest_filepath: /manifests/combined_fisher_swbd_voxceleb12_librispeech/train.json\n",
      "    sample_rate: 16000\n",
      "    labels: null\n",
      "    batch_size: 64\n",
      "    shuffle: true\n",
      "    time_length: 3\n",
      "    is_tarred: false\n",
      "    tarred_audio_filepaths: null\n",
      "    tarred_shard_strategy: scatter\n",
      "    augmentor:\n",
      "      noise:\n",
      "        manifest_path: /manifests/noise/rir_noise_manifest.json\n",
      "        prob: 0.5\n",
      "        min_snr_db: 0\n",
      "        max_snr_db: 15\n",
      "      speed:\n",
      "        prob: 0.5\n",
      "        sr: 16000\n",
      "        resample_type: kaiser_fast\n",
      "        min_speed_rate: 0.95\n",
      "        max_speed_rate: 1.05\n",
      "    num_workers: 15\n",
      "    pin_memory: true\n",
      "    \n",
      "[NeMo W 2022-07-20 12:00:35 modelPT:155] If you intend to do validation, please call the ModelPT.setup_validation_data() or ModelPT.setup_multiple_validation_data() method and provide a valid configuration file to setup the validation data loader(s). \n",
      "    Validation config : \n",
      "    manifest_filepath: /manifests/combined_fisher_swbd_voxceleb12_librispeech/dev.json\n",
      "    sample_rate: 16000\n",
      "    labels: null\n",
      "    batch_size: 128\n",
      "    shuffle: false\n",
      "    time_length: 3\n",
      "    num_workers: 15\n",
      "    pin_memory: true\n",
      "    \n"
     ]
    },
    {
     "name": "stdout",
     "output_type": "stream",
     "text": [
      "[NeMo I 2022-07-20 12:00:35 features:200] PADDING: 16\n",
      "[NeMo I 2022-07-20 12:00:36 label_models:100] loss is Angular Softmax\n",
      "[NeMo I 2022-07-20 12:00:36 save_restore_connector:243] Model EncDecSpeakerLabelModel was successfully restored from /root/.cache/torch/NeMo/NeMo_1.10.0/titanet-l/492c0ab8416139171dc18c21879a9e45/titanet-l.nemo.\n",
      "[NeMo I 2022-07-20 12:00:36 speaker_utils:82] Number of files to diarize: 1\n",
      "[NeMo I 2022-07-20 12:00:36 clustering_diarizer:271] Subsegmentation for embedding extraction: scale0, /home/DATA/amit_kesari/SD1/NeMo-Nvidia/data/ami_mix_headset/oracle_vad/speaker_outputs/subsegments_scale0.json\n",
      "[NeMo I 2022-07-20 12:00:36 clustering_diarizer:325] Extracting embeddings for Diarization\n",
      "[NeMo I 2022-07-20 12:00:36 collections:289] Filtered duration for loading collection is 0.000000.\n",
      "[NeMo I 2022-07-20 12:00:36 collections:293] # 1265 files loaded accounting to # 1 labels\n"
     ]
    },
    {
     "name": "stderr",
     "output_type": "stream",
     "text": [
      "100%|██████████| 20/20 [00:01<00:00, 15.67it/s]"
     ]
    },
    {
     "name": "stdout",
     "output_type": "stream",
     "text": [
      "[NeMo I 2022-07-20 12:00:37 clustering_diarizer:368] Saved embedding files to /home/DATA/amit_kesari/SD1/NeMo-Nvidia/data/ami_mix_headset/oracle_vad/speaker_outputs/embeddings\n"
     ]
    },
    {
     "name": "stderr",
     "output_type": "stream",
     "text": [
      "\n",
      "100%|██████████| 1/1 [00:01<00:00,  1.52s/it]\n"
     ]
    },
    {
     "name": "stdout",
     "output_type": "stream",
     "text": [
      "[NeMo I 2022-07-20 12:00:39 speaker_utils:460] Cumulative Results for collar 0.25 sec and ignore_overlap False: \n",
      "     FA: 0.0000\t MISS 0.0151\t                 Diarization ER: 0.0585\t, Confusion ER:0.0434\n",
      "[NeMo I 2022-07-20 12:00:39 clustering_diarizer:444] Outputs are saved in /home/DATA/amit_kesari/SD1/NeMo-Nvidia/data/ami_mix_headset/oracle_vad directory\n",
      "Diarization error rate (DER) = 10.4%\n",
      "\n",
      "\n",
      "ami_label:  TS3003b.Mix-Headset\n",
      "[NeMo I 2022-07-20 12:00:39 clustering_diarizer:153] Loading pretrained titanet_large model from NGC\n",
      "[NeMo I 2022-07-20 12:00:39 cloud:56] Found existing object /root/.cache/torch/NeMo/NeMo_1.10.0/titanet-l/492c0ab8416139171dc18c21879a9e45/titanet-l.nemo.\n",
      "[NeMo I 2022-07-20 12:00:39 cloud:62] Re-using file from: /root/.cache/torch/NeMo/NeMo_1.10.0/titanet-l/492c0ab8416139171dc18c21879a9e45/titanet-l.nemo\n",
      "[NeMo I 2022-07-20 12:00:39 common:789] Instantiating model from pre-trained checkpoint\n"
     ]
    },
    {
     "name": "stderr",
     "output_type": "stream",
     "text": [
      "[NeMo W 2022-07-20 12:00:40 modelPT:148] If you intend to do training or fine-tuning, please call the ModelPT.setup_training_data() method and provide a valid configuration file to setup the train data loader.\n",
      "    Train config : \n",
      "    manifest_filepath: /manifests/combined_fisher_swbd_voxceleb12_librispeech/train.json\n",
      "    sample_rate: 16000\n",
      "    labels: null\n",
      "    batch_size: 64\n",
      "    shuffle: true\n",
      "    time_length: 3\n",
      "    is_tarred: false\n",
      "    tarred_audio_filepaths: null\n",
      "    tarred_shard_strategy: scatter\n",
      "    augmentor:\n",
      "      noise:\n",
      "        manifest_path: /manifests/noise/rir_noise_manifest.json\n",
      "        prob: 0.5\n",
      "        min_snr_db: 0\n",
      "        max_snr_db: 15\n",
      "      speed:\n",
      "        prob: 0.5\n",
      "        sr: 16000\n",
      "        resample_type: kaiser_fast\n",
      "        min_speed_rate: 0.95\n",
      "        max_speed_rate: 1.05\n",
      "    num_workers: 15\n",
      "    pin_memory: true\n",
      "    \n",
      "[NeMo W 2022-07-20 12:00:40 modelPT:155] If you intend to do validation, please call the ModelPT.setup_validation_data() or ModelPT.setup_multiple_validation_data() method and provide a valid configuration file to setup the validation data loader(s). \n",
      "    Validation config : \n",
      "    manifest_filepath: /manifests/combined_fisher_swbd_voxceleb12_librispeech/dev.json\n",
      "    sample_rate: 16000\n",
      "    labels: null\n",
      "    batch_size: 128\n",
      "    shuffle: false\n",
      "    time_length: 3\n",
      "    num_workers: 15\n",
      "    pin_memory: true\n",
      "    \n"
     ]
    },
    {
     "name": "stdout",
     "output_type": "stream",
     "text": [
      "[NeMo I 2022-07-20 12:00:40 features:200] PADDING: 16\n",
      "[NeMo I 2022-07-20 12:00:40 label_models:100] loss is Angular Softmax\n",
      "[NeMo I 2022-07-20 12:00:41 save_restore_connector:243] Model EncDecSpeakerLabelModel was successfully restored from /root/.cache/torch/NeMo/NeMo_1.10.0/titanet-l/492c0ab8416139171dc18c21879a9e45/titanet-l.nemo.\n",
      "[NeMo I 2022-07-20 12:00:41 speaker_utils:82] Number of files to diarize: 1\n",
      "[NeMo I 2022-07-20 12:00:41 clustering_diarizer:271] Subsegmentation for embedding extraction: scale0, /home/DATA/amit_kesari/SD1/NeMo-Nvidia/data/ami_mix_headset/oracle_vad/speaker_outputs/subsegments_scale0.json\n",
      "[NeMo I 2022-07-20 12:00:41 clustering_diarizer:325] Extracting embeddings for Diarization\n",
      "[NeMo I 2022-07-20 12:00:41 collections:289] Filtered duration for loading collection is 0.000000.\n",
      "[NeMo I 2022-07-20 12:00:41 collections:293] # 2240 files loaded accounting to # 1 labels\n"
     ]
    },
    {
     "name": "stderr",
     "output_type": "stream",
     "text": [
      "100%|██████████| 35/35 [00:01<00:00, 17.55it/s]\n"
     ]
    },
    {
     "name": "stdout",
     "output_type": "stream",
     "text": [
      "[NeMo I 2022-07-20 12:00:43 clustering_diarizer:368] Saved embedding files to /home/DATA/amit_kesari/SD1/NeMo-Nvidia/data/ami_mix_headset/oracle_vad/speaker_outputs/embeddings\n"
     ]
    },
    {
     "name": "stderr",
     "output_type": "stream",
     "text": [
      "100%|██████████| 1/1 [00:01<00:00,  1.72s/it]\n"
     ]
    },
    {
     "name": "stdout",
     "output_type": "stream",
     "text": [
      "[NeMo I 2022-07-20 12:00:45 speaker_utils:460] Cumulative Results for collar 0.25 sec and ignore_overlap False: \n",
      "     FA: 0.0000\t MISS 0.0117\t                 Diarization ER: 0.0165\t, Confusion ER:0.0048\n",
      "[NeMo I 2022-07-20 12:00:45 clustering_diarizer:444] Outputs are saved in /home/DATA/amit_kesari/SD1/NeMo-Nvidia/data/ami_mix_headset/oracle_vad directory\n",
      "Diarization error rate (DER) = 5.5%\n",
      "\n",
      "\n",
      "ami_label:  TS3003d.Mix-Headset\n",
      "[NeMo I 2022-07-20 12:00:45 clustering_diarizer:153] Loading pretrained titanet_large model from NGC\n",
      "[NeMo I 2022-07-20 12:00:45 cloud:56] Found existing object /root/.cache/torch/NeMo/NeMo_1.10.0/titanet-l/492c0ab8416139171dc18c21879a9e45/titanet-l.nemo.\n",
      "[NeMo I 2022-07-20 12:00:45 cloud:62] Re-using file from: /root/.cache/torch/NeMo/NeMo_1.10.0/titanet-l/492c0ab8416139171dc18c21879a9e45/titanet-l.nemo\n",
      "[NeMo I 2022-07-20 12:00:45 common:789] Instantiating model from pre-trained checkpoint\n"
     ]
    },
    {
     "name": "stderr",
     "output_type": "stream",
     "text": [
      "[NeMo W 2022-07-20 12:00:46 modelPT:148] If you intend to do training or fine-tuning, please call the ModelPT.setup_training_data() method and provide a valid configuration file to setup the train data loader.\n",
      "    Train config : \n",
      "    manifest_filepath: /manifests/combined_fisher_swbd_voxceleb12_librispeech/train.json\n",
      "    sample_rate: 16000\n",
      "    labels: null\n",
      "    batch_size: 64\n",
      "    shuffle: true\n",
      "    time_length: 3\n",
      "    is_tarred: false\n",
      "    tarred_audio_filepaths: null\n",
      "    tarred_shard_strategy: scatter\n",
      "    augmentor:\n",
      "      noise:\n",
      "        manifest_path: /manifests/noise/rir_noise_manifest.json\n",
      "        prob: 0.5\n",
      "        min_snr_db: 0\n",
      "        max_snr_db: 15\n",
      "      speed:\n",
      "        prob: 0.5\n",
      "        sr: 16000\n",
      "        resample_type: kaiser_fast\n",
      "        min_speed_rate: 0.95\n",
      "        max_speed_rate: 1.05\n",
      "    num_workers: 15\n",
      "    pin_memory: true\n",
      "    \n",
      "[NeMo W 2022-07-20 12:00:46 modelPT:155] If you intend to do validation, please call the ModelPT.setup_validation_data() or ModelPT.setup_multiple_validation_data() method and provide a valid configuration file to setup the validation data loader(s). \n",
      "    Validation config : \n",
      "    manifest_filepath: /manifests/combined_fisher_swbd_voxceleb12_librispeech/dev.json\n",
      "    sample_rate: 16000\n",
      "    labels: null\n",
      "    batch_size: 128\n",
      "    shuffle: false\n",
      "    time_length: 3\n",
      "    num_workers: 15\n",
      "    pin_memory: true\n",
      "    \n"
     ]
    },
    {
     "name": "stdout",
     "output_type": "stream",
     "text": [
      "[NeMo I 2022-07-20 12:00:46 features:200] PADDING: 16\n",
      "[NeMo I 2022-07-20 12:00:47 label_models:100] loss is Angular Softmax\n",
      "[NeMo I 2022-07-20 12:00:47 save_restore_connector:243] Model EncDecSpeakerLabelModel was successfully restored from /root/.cache/torch/NeMo/NeMo_1.10.0/titanet-l/492c0ab8416139171dc18c21879a9e45/titanet-l.nemo.\n",
      "[NeMo I 2022-07-20 12:00:47 speaker_utils:82] Number of files to diarize: 1\n",
      "[NeMo I 2022-07-20 12:00:47 clustering_diarizer:271] Subsegmentation for embedding extraction: scale0, /home/DATA/amit_kesari/SD1/NeMo-Nvidia/data/ami_mix_headset/oracle_vad/speaker_outputs/subsegments_scale0.json\n",
      "[NeMo I 2022-07-20 12:00:47 clustering_diarizer:325] Extracting embeddings for Diarization\n",
      "[NeMo I 2022-07-20 12:00:47 collections:289] Filtered duration for loading collection is 0.000000.\n",
      "[NeMo I 2022-07-20 12:00:47 collections:293] # 2357 files loaded accounting to # 1 labels\n"
     ]
    },
    {
     "name": "stderr",
     "output_type": "stream",
     "text": [
      "100%|██████████| 37/37 [00:02<00:00, 18.14it/s]\n"
     ]
    },
    {
     "name": "stdout",
     "output_type": "stream",
     "text": [
      "[NeMo I 2022-07-20 12:00:49 clustering_diarizer:368] Saved embedding files to /home/DATA/amit_kesari/SD1/NeMo-Nvidia/data/ami_mix_headset/oracle_vad/speaker_outputs/embeddings\n"
     ]
    },
    {
     "name": "stderr",
     "output_type": "stream",
     "text": [
      "100%|██████████| 1/1 [00:01<00:00,  1.98s/it]\n"
     ]
    },
    {
     "name": "stdout",
     "output_type": "stream",
     "text": [
      "[NeMo I 2022-07-20 12:00:53 speaker_utils:460] Cumulative Results for collar 0.25 sec and ignore_overlap False: \n",
      "     FA: 0.0000\t MISS 0.0518\t                 Diarization ER: 0.0711\t, Confusion ER:0.0193\n",
      "[NeMo I 2022-07-20 12:00:53 clustering_diarizer:444] Outputs are saved in /home/DATA/amit_kesari/SD1/NeMo-Nvidia/data/ami_mix_headset/oracle_vad directory\n",
      "Diarization error rate (DER) = 13.8%\n",
      "\n",
      "\n"
     ]
    }
   ],
   "source": [
    "# single inialisations\n",
    "scripts_dir = os.path.join(ROOT, 'scripts/speaker_tasks')\n",
    "manifest_filepath = os.path.join(data_dir, 'input_manifest.json')\n",
    "output_dir = os.path.join(data_dir, 'oracle_vad')\n",
    "os.makedirs(output_dir,exist_ok=True)\n",
    "\n",
    "\n",
    "MODEL_CONFIG = os.path.join(data_dir,'offline_diarization.yaml')\n",
    "if not os.path.exists(MODEL_CONFIG):\n",
    "    config_url = \"https://raw.githubusercontent.com/NVIDIA/NeMo/main/examples/speaker_tasks/diarization/conf/offline_diarization.yaml\"\n",
    "    MODEL_CONFIG = wget.download(config_url, data_dir)\n",
    "\n",
    "config = OmegaConf.load(MODEL_CONFIG)\n",
    "print(OmegaConf.to_yaml(config))\n",
    "\n",
    "metric = DiarizationErrorRate()\n",
    "der2 = 0\n",
    "ami_labels = []\n",
    "for single_rttm in groundtruth_rttm_list:\n",
    "    ami_label = single_rttm.split(sep=\"/\")[-1]\n",
    "    ami_label = ami_label[:-5] # remove .rttm from last\n",
    "    ami_labels.append(ami_label)\n",
    "    labels = rttm_to_labels(single_rttm)\n",
    "    groundtruth = labels_to_pyannote_object(labels)\n",
    "    num_speakers = Counter([l.split()[-1] for l in labels]).keys().__len__()\n",
    "\n",
    "    # find the corresponding audio file according to rttm\n",
    "    single_audio = [audio for audio in audio_list if ami_label in audio][0]\n",
    "    \n",
    "    ## -----Visualise data-----\n",
    "    print(\"ami_label: \", ami_label)    \n",
    "    # !cat {single_rttm} # view the sample groundtruth rttm file\n",
    "    # print(\"labels: \",labels, groundtruth)\n",
    "    # print(\"num_speakers: \", num_speakers)   \n",
    "    # print(\"single_audio: \", single_audio)\n",
    "\n",
    "    # -----Create input manifest and configs-----\n",
    "    create_input_manifest(audio_filepath=single_audio, rttm_filepath=single_rttm, num_speakers=num_speakers, manifest_filepath=manifest_filepath)\n",
    "    # change configurations:\n",
    "    pretrained_speaker_model='titanet_large'\n",
    "    config.diarizer.manifest_filepath = manifest_filepath\n",
    "    config.diarizer.out_dir = output_dir # Directory to store intermediate files and prediction outputs\n",
    "    config.diarizer.speaker_embeddings.model_path = pretrained_speaker_model\n",
    "    config.diarizer.speaker_embeddings.parameters.window_length_in_sec = 1.5\n",
    "    config.diarizer.speaker_embeddings.parameters.shift_length_in_sec = 0.75\n",
    "    config.diarizer.speaker_embeddings.parameters.save_embeddings = True\n",
    "    config.diarizer.ignore_overlap = False\n",
    "    config.diarizer.oracle_vad = True # ----> ORACLE VAD \n",
    "    # no speaker number init so false\n",
    "    config.diarizer.clustering.parameters.oracle_num_speakers = False\n",
    "    # print(OmegaConf.to_yaml(config))\n",
    "    \n",
    "    # -----Load model and diarize-----\n",
    "    oracle_model = ClusteringDiarizer(cfg=config)  \n",
    "    oracle_model.diarize()\n",
    "    \n",
    "    # -----Accumulate DER-----\n",
    "    pred_labels = rttm_to_labels(output_dir+'/pred_rttms/'+ami_label+'.rttm')\n",
    "    hypothesis = labels_to_pyannote_object(pred_labels)\n",
    "    der = metric(groundtruth, hypothesis)\n",
    "    print(f\"Diarization error rate (DER) = {100 * der:.1f}%\\n\\n\")\n",
    "\n",
    "\n",
    "    \n",
    "    \n",
    "\"\"\"\n",
    "Cumulative Results for collar 0.25 sec and ignore_overlap False: \n",
    "     FA: 0.0000\t MISS 0.0518\t                 Diarization ER: 0.0711\t, Confusion ER:0.0193\n",
    "[NeMo I 2022-07-20 12:00:53 clustering_diarizer:444] Outputs are saved in /home/DATA/amit_kesari/SD1/NeMo-Nvidia/data/ami_mix_headset/oracle_vad directory\n",
    "Diarization error rate (DER) = 13.8%\n",
    "\"\"\""
   ]
  },
  {
   "cell_type": "code",
   "execution_count": 9,
   "metadata": {},
   "outputs": [
    {
     "name": "stdout",
     "output_type": "stream",
     "text": [
      "name: ClusterDiarizer\n",
      "num_workers: 4\n",
      "sample_rate: 16000\n",
      "batch_size: 64\n",
      "diarizer:\n",
      "  manifest_filepath: /home/DATA/amit_kesari/SD1/NeMo-Nvidia/data/ami_mix_headset/input_manifest.json\n",
      "  out_dir: /home/DATA/amit_kesari/SD1/NeMo-Nvidia/data/ami_mix_headset/oracle_vad\n",
      "  oracle_vad: true\n",
      "  collar: 0.25\n",
      "  ignore_overlap: false\n",
      "  vad:\n",
      "    model_path: null\n",
      "    external_vad_manifest: null\n",
      "    parameters:\n",
      "      window_length_in_sec: 0.15\n",
      "      shift_length_in_sec: 0.01\n",
      "      smoothing: median\n",
      "      overlap: 0.875\n",
      "      onset: 0.4\n",
      "      offset: 0.7\n",
      "      pad_onset: 0.05\n",
      "      pad_offset: -0.1\n",
      "      min_duration_on: 0.2\n",
      "      min_duration_off: 0.2\n",
      "      filter_speech_first: true\n",
      "  speaker_embeddings:\n",
      "    model_path: titanet_large\n",
      "    parameters:\n",
      "      window_length_in_sec: 1.5\n",
      "      shift_length_in_sec: 0.75\n",
      "      multiscale_weights: null\n",
      "      save_embeddings: true\n",
      "  clustering:\n",
      "    parameters:\n",
      "      oracle_num_speakers: false\n",
      "      max_num_speakers: 20\n",
      "      enhanced_count_thres: 80\n",
      "      max_rp_threshold: 0.25\n",
      "      sparse_search_volume: 30\n",
      "      maj_vote_spk_count: false\n",
      "\n"
     ]
    },
    {
     "data": {
      "text/plain": [
       "{'metric_name_': 'diarization error rate',\n",
       " 'components_': {'confusion',\n",
       "  'correct',\n",
       "  'false alarm',\n",
       "  'missed detection',\n",
       "  'total'},\n",
       " 'accumulated_': {'correct': 25461.859999999975,\n",
       "  'total': 30713.92399999997,\n",
       "  'missed detection': 4469.034000000001,\n",
       "  'false alarm': 0.0,\n",
       "  'confusion': 783.0299999999952},\n",
       " 'results_': [('',\n",
       "   {'correct': 1767.679999999998,\n",
       "    'total': 1894.2499999999977,\n",
       "    'missed detection': 92.48000000000054,\n",
       "    'false alarm': 0.0,\n",
       "    'confusion': 34.089999999999336,\n",
       "    'diarization error rate': 0.066818001847697}),\n",
       "  ('',\n",
       "   {'correct': 1796.6149999999964,\n",
       "    'total': 2530.2599999999948,\n",
       "    'missed detection': 635.3600000000006,\n",
       "    'false alarm': 0.0,\n",
       "    'confusion': 98.28499999999948,\n",
       "    'diarization error rate': 0.2899484637942352}),\n",
       "  ('',\n",
       "   {'correct': 1408.0149999999978,\n",
       "    'total': 1943.439999999997,\n",
       "    'missed detection': 466.609999999999,\n",
       "    'false alarm': 0.0,\n",
       "    'confusion': 68.81500000000008,\n",
       "    'diarization error rate': 0.27550374593504295}),\n",
       "  ('',\n",
       "   {'correct': 2524.414999999997,\n",
       "    'total': 3343.6399999999962,\n",
       "    'missed detection': 738.709999999999,\n",
       "    'false alarm': 0.0,\n",
       "    'confusion': 80.51500000000055,\n",
       "    'diarization error rate': 0.24500992929860885}),\n",
       "  ('',\n",
       "   {'correct': 1830.719999999999,\n",
       "    'total': 2675.889999999997,\n",
       "    'missed detection': 747.2699999999999,\n",
       "    'false alarm': 0.0,\n",
       "    'confusion': 97.89999999999917,\n",
       "    'diarization error rate': 0.3158463165526236}),\n",
       "  ('',\n",
       "   {'correct': 755.2750000000002,\n",
       "    'total': 923.43,\n",
       "    'missed detection': 136.09000000000017,\n",
       "    'false alarm': 0.0,\n",
       "    'confusion': 32.06499999999951,\n",
       "    'diarization error rate': 0.1820982640806555}),\n",
       "  ('',\n",
       "   {'correct': 1981.0399999999981,\n",
       "    'total': 2233.049999999999,\n",
       "    'missed detection': 218.8400000000007,\n",
       "    'false alarm': 0.0,\n",
       "    'confusion': 33.16999999999982,\n",
       "    'diarization error rate': 0.112854615884105}),\n",
       "  ('',\n",
       "   {'correct': 1976.6200000000001,\n",
       "    'total': 2244.4699999999975,\n",
       "    'missed detection': 231.74999999999696,\n",
       "    'false alarm': 0.0,\n",
       "    'confusion': 36.100000000000385,\n",
       "    'diarization error rate': 0.11933775011472537}),\n",
       "  ('',\n",
       "   {'correct': 1664.049999999997,\n",
       "    'total': 2006.7699999999988,\n",
       "    'missed detection': 287.83000000000214,\n",
       "    'false alarm': 0.0,\n",
       "    'confusion': 54.889999999999546,\n",
       "    'diarization error rate': 0.1707819032574744}),\n",
       "  ('',\n",
       "   {'correct': 585.3449999999998,\n",
       "    'total': 695.8999999999995,\n",
       "    'missed detection': 90.9800000000001,\n",
       "    'false alarm': 0.0,\n",
       "    'confusion': 19.57499999999974,\n",
       "    'diarization error rate': 0.15886621641040366}),\n",
       "  ('',\n",
       "   {'correct': 1752.369999999999,\n",
       "    'total': 1982.9699999999987,\n",
       "    'missed detection': 204.99999999999963,\n",
       "    'false alarm': 0.0,\n",
       "    'confusion': 25.599999999999866,\n",
       "    'diarization error rate': 0.11629021114792441}),\n",
       "  ('',\n",
       "   {'correct': 1482.9899999999986,\n",
       "    'total': 1584.4499999999982,\n",
       "    'missed detection': 81.45999999999901,\n",
       "    'false alarm': 0.0,\n",
       "    'confusion': 20.000000000000313,\n",
       "    'diarization error rate': 0.06403483858752212}),\n",
       "  ('',\n",
       "   {'correct': 1512.8949999999993,\n",
       "    'total': 1738.599999999998,\n",
       "    'missed detection': 190.77999999999986,\n",
       "    'false alarm': 0.0,\n",
       "    'confusion': 34.92499999999885,\n",
       "    'diarization error rate': 0.12981997009087712}),\n",
       "  ('',\n",
       "   {'correct': 919.2499999999993,\n",
       "    'total': 1025.963999999999,\n",
       "    'missed detection': 47.86399999999966,\n",
       "    'false alarm': 0.0,\n",
       "    'confusion': 58.850000000000044,\n",
       "    'diarization error rate': 0.10401339618154225}),\n",
       "  ('',\n",
       "   {'correct': 1719.5949999999984,\n",
       "    'total': 1820.4999999999998,\n",
       "    'missed detection': 81.22000000000199,\n",
       "    'false alarm': 0.0,\n",
       "    'confusion': 19.684999999999604,\n",
       "    'diarization error rate': 0.055427080472398575}),\n",
       "  ('',\n",
       "   {'correct': 1784.984999999998,\n",
       "    'total': 2070.3399999999983,\n",
       "    'missed detection': 216.79000000000119,\n",
       "    'false alarm': 0.0,\n",
       "    'confusion': 68.56499999999888,\n",
       "    'diarization error rate': 0.13783001825787083})],\n",
       " 'matcher_': <pyannote.metrics.matcher.LabelMatcher at 0x7f5753d828e0>,\n",
       " 'confusion': 1.0,\n",
       " 'miss': 1.0,\n",
       " 'false_alarm': 1.0,\n",
       " 'collar': 0.0,\n",
       " 'skip_overlap': False,\n",
       " 'mapper_': <pyannote.metrics.matcher.HungarianMapper at 0x7f5753d82c10>}"
      ]
     },
     "execution_count": 9,
     "metadata": {},
     "output_type": "execute_result"
    }
   ],
   "source": [
    "print(OmegaConf.to_yaml(config))\n",
    "metric.__dict__"
   ]
  },
  {
   "cell_type": "code",
   "execution_count": 10,
   "metadata": {},
   "outputs": [
    {
     "name": "stderr",
     "output_type": "stream",
     "text": [
      "[NeMo W 2022-07-20 12:45:03 nemo_logging:349] /tmp/ipykernel_24241/1797775716.py:9: FutureWarning: Dropping of nuisance columns in DataFrame reductions (with 'numeric_only=None') is deprecated; in a future version this will raise TypeError.  Select only valid columns before calling the reduction.\n",
      "      df.loc['mean'] = df.mean()\n",
      "    \n"
     ]
    },
    {
     "name": "stdout",
     "output_type": "stream",
     "text": [
      "Total DER = 15.9%\n"
     ]
    },
    {
     "data": {
      "text/html": [
       "<div>\n",
       "<style scoped>\n",
       "    .dataframe tbody tr th:only-of-type {\n",
       "        vertical-align: middle;\n",
       "    }\n",
       "\n",
       "    .dataframe tbody tr th {\n",
       "        vertical-align: top;\n",
       "    }\n",
       "\n",
       "    .dataframe thead th {\n",
       "        text-align: right;\n",
       "    }\n",
       "</style>\n",
       "<table border=\"1\" class=\"dataframe\">\n",
       "  <thead>\n",
       "    <tr style=\"text-align: right;\">\n",
       "      <th></th>\n",
       "      <th>correct</th>\n",
       "      <th>total</th>\n",
       "      <th>missed detection</th>\n",
       "      <th>false alarm</th>\n",
       "      <th>confusion</th>\n",
       "      <th>diarization error rate</th>\n",
       "      <th>item</th>\n",
       "    </tr>\n",
       "  </thead>\n",
       "  <tbody>\n",
       "    <tr>\n",
       "      <th>0</th>\n",
       "      <td>1767.68000</td>\n",
       "      <td>1894.25000</td>\n",
       "      <td>92.480000</td>\n",
       "      <td>0.0</td>\n",
       "      <td>34.090000</td>\n",
       "      <td>0.066818</td>\n",
       "      <td>TS3003c.Mix-Headset</td>\n",
       "    </tr>\n",
       "    <tr>\n",
       "      <th>1</th>\n",
       "      <td>1796.61500</td>\n",
       "      <td>2530.26000</td>\n",
       "      <td>635.360000</td>\n",
       "      <td>0.0</td>\n",
       "      <td>98.285000</td>\n",
       "      <td>0.289948</td>\n",
       "      <td>EN2002a.Mix-Headset</td>\n",
       "    </tr>\n",
       "    <tr>\n",
       "      <th>2</th>\n",
       "      <td>1408.01500</td>\n",
       "      <td>1943.44000</td>\n",
       "      <td>466.610000</td>\n",
       "      <td>0.0</td>\n",
       "      <td>68.815000</td>\n",
       "      <td>0.275504</td>\n",
       "      <td>EN2002b.Mix-Headset</td>\n",
       "    </tr>\n",
       "    <tr>\n",
       "      <th>3</th>\n",
       "      <td>2524.41500</td>\n",
       "      <td>3343.64000</td>\n",
       "      <td>738.710000</td>\n",
       "      <td>0.0</td>\n",
       "      <td>80.515000</td>\n",
       "      <td>0.245010</td>\n",
       "      <td>EN2002c.Mix-Headset</td>\n",
       "    </tr>\n",
       "    <tr>\n",
       "      <th>4</th>\n",
       "      <td>1830.72000</td>\n",
       "      <td>2675.89000</td>\n",
       "      <td>747.270000</td>\n",
       "      <td>0.0</td>\n",
       "      <td>97.900000</td>\n",
       "      <td>0.315846</td>\n",
       "      <td>EN2002d.Mix-Headset</td>\n",
       "    </tr>\n",
       "    <tr>\n",
       "      <th>5</th>\n",
       "      <td>755.27500</td>\n",
       "      <td>923.43000</td>\n",
       "      <td>136.090000</td>\n",
       "      <td>0.0</td>\n",
       "      <td>32.065000</td>\n",
       "      <td>0.182098</td>\n",
       "      <td>ES2004a.Mix-Headset</td>\n",
       "    </tr>\n",
       "    <tr>\n",
       "      <th>6</th>\n",
       "      <td>1981.04000</td>\n",
       "      <td>2233.05000</td>\n",
       "      <td>218.840000</td>\n",
       "      <td>0.0</td>\n",
       "      <td>33.170000</td>\n",
       "      <td>0.112855</td>\n",
       "      <td>ES2004b.Mix-Headset</td>\n",
       "    </tr>\n",
       "    <tr>\n",
       "      <th>7</th>\n",
       "      <td>1976.62000</td>\n",
       "      <td>2244.47000</td>\n",
       "      <td>231.750000</td>\n",
       "      <td>0.0</td>\n",
       "      <td>36.100000</td>\n",
       "      <td>0.119338</td>\n",
       "      <td>ES2004c.Mix-Headset</td>\n",
       "    </tr>\n",
       "    <tr>\n",
       "      <th>8</th>\n",
       "      <td>1664.05000</td>\n",
       "      <td>2006.77000</td>\n",
       "      <td>287.830000</td>\n",
       "      <td>0.0</td>\n",
       "      <td>54.890000</td>\n",
       "      <td>0.170782</td>\n",
       "      <td>ES2004d.Mix-Headset</td>\n",
       "    </tr>\n",
       "    <tr>\n",
       "      <th>9</th>\n",
       "      <td>585.34500</td>\n",
       "      <td>695.90000</td>\n",
       "      <td>90.980000</td>\n",
       "      <td>0.0</td>\n",
       "      <td>19.575000</td>\n",
       "      <td>0.158866</td>\n",
       "      <td>IS1009a.Mix-Headset</td>\n",
       "    </tr>\n",
       "    <tr>\n",
       "      <th>10</th>\n",
       "      <td>1752.37000</td>\n",
       "      <td>1982.97000</td>\n",
       "      <td>205.000000</td>\n",
       "      <td>0.0</td>\n",
       "      <td>25.600000</td>\n",
       "      <td>0.116290</td>\n",
       "      <td>IS1009b.Mix-Headset</td>\n",
       "    </tr>\n",
       "    <tr>\n",
       "      <th>11</th>\n",
       "      <td>1482.99000</td>\n",
       "      <td>1584.45000</td>\n",
       "      <td>81.460000</td>\n",
       "      <td>0.0</td>\n",
       "      <td>20.000000</td>\n",
       "      <td>0.064035</td>\n",
       "      <td>IS1009c.Mix-Headset</td>\n",
       "    </tr>\n",
       "    <tr>\n",
       "      <th>12</th>\n",
       "      <td>1512.89500</td>\n",
       "      <td>1738.60000</td>\n",
       "      <td>190.780000</td>\n",
       "      <td>0.0</td>\n",
       "      <td>34.925000</td>\n",
       "      <td>0.129820</td>\n",
       "      <td>IS1009d.Mix-Headset</td>\n",
       "    </tr>\n",
       "    <tr>\n",
       "      <th>13</th>\n",
       "      <td>919.25000</td>\n",
       "      <td>1025.96400</td>\n",
       "      <td>47.864000</td>\n",
       "      <td>0.0</td>\n",
       "      <td>58.850000</td>\n",
       "      <td>0.104013</td>\n",
       "      <td>TS3003a.Mix-Headset</td>\n",
       "    </tr>\n",
       "    <tr>\n",
       "      <th>14</th>\n",
       "      <td>1719.59500</td>\n",
       "      <td>1820.50000</td>\n",
       "      <td>81.220000</td>\n",
       "      <td>0.0</td>\n",
       "      <td>19.685000</td>\n",
       "      <td>0.055427</td>\n",
       "      <td>TS3003b.Mix-Headset</td>\n",
       "    </tr>\n",
       "    <tr>\n",
       "      <th>15</th>\n",
       "      <td>1784.98500</td>\n",
       "      <td>2070.34000</td>\n",
       "      <td>216.790000</td>\n",
       "      <td>0.0</td>\n",
       "      <td>68.565000</td>\n",
       "      <td>0.137830</td>\n",
       "      <td>TS3003d.Mix-Headset</td>\n",
       "    </tr>\n",
       "    <tr>\n",
       "      <th>mean</th>\n",
       "      <td>1591.36625</td>\n",
       "      <td>1919.62025</td>\n",
       "      <td>279.314625</td>\n",
       "      <td>0.0</td>\n",
       "      <td>48.939375</td>\n",
       "      <td>0.159030</td>\n",
       "      <td>NaN</td>\n",
       "    </tr>\n",
       "  </tbody>\n",
       "</table>\n",
       "</div>"
      ],
      "text/plain": [
       "         correct       total  missed detection  false alarm  confusion  \\\n",
       "0     1767.68000  1894.25000         92.480000          0.0  34.090000   \n",
       "1     1796.61500  2530.26000        635.360000          0.0  98.285000   \n",
       "2     1408.01500  1943.44000        466.610000          0.0  68.815000   \n",
       "3     2524.41500  3343.64000        738.710000          0.0  80.515000   \n",
       "4     1830.72000  2675.89000        747.270000          0.0  97.900000   \n",
       "5      755.27500   923.43000        136.090000          0.0  32.065000   \n",
       "6     1981.04000  2233.05000        218.840000          0.0  33.170000   \n",
       "7     1976.62000  2244.47000        231.750000          0.0  36.100000   \n",
       "8     1664.05000  2006.77000        287.830000          0.0  54.890000   \n",
       "9      585.34500   695.90000         90.980000          0.0  19.575000   \n",
       "10    1752.37000  1982.97000        205.000000          0.0  25.600000   \n",
       "11    1482.99000  1584.45000         81.460000          0.0  20.000000   \n",
       "12    1512.89500  1738.60000        190.780000          0.0  34.925000   \n",
       "13     919.25000  1025.96400         47.864000          0.0  58.850000   \n",
       "14    1719.59500  1820.50000         81.220000          0.0  19.685000   \n",
       "15    1784.98500  2070.34000        216.790000          0.0  68.565000   \n",
       "mean  1591.36625  1919.62025        279.314625          0.0  48.939375   \n",
       "\n",
       "      diarization error rate                 item  \n",
       "0                   0.066818  TS3003c.Mix-Headset  \n",
       "1                   0.289948  EN2002a.Mix-Headset  \n",
       "2                   0.275504  EN2002b.Mix-Headset  \n",
       "3                   0.245010  EN2002c.Mix-Headset  \n",
       "4                   0.315846  EN2002d.Mix-Headset  \n",
       "5                   0.182098  ES2004a.Mix-Headset  \n",
       "6                   0.112855  ES2004b.Mix-Headset  \n",
       "7                   0.119338  ES2004c.Mix-Headset  \n",
       "8                   0.170782  ES2004d.Mix-Headset  \n",
       "9                   0.158866  IS1009a.Mix-Headset  \n",
       "10                  0.116290  IS1009b.Mix-Headset  \n",
       "11                  0.064035  IS1009c.Mix-Headset  \n",
       "12                  0.129820  IS1009d.Mix-Headset  \n",
       "13                  0.104013  TS3003a.Mix-Headset  \n",
       "14                  0.055427  TS3003b.Mix-Headset  \n",
       "15                  0.137830  TS3003d.Mix-Headset  \n",
       "mean                0.159030                  NaN  "
      ]
     },
     "execution_count": 10,
     "metadata": {},
     "output_type": "execute_result"
    }
   ],
   "source": [
    "# display in table\n",
    "arr = np.asarray(metric.results_)[:,1]\n",
    "# print(\"dict: \",arr)\n",
    "\n",
    "df = pd.DataFrame.from_records(arr)\n",
    "if 'item' not in df.columns:\n",
    "    df['item'] = ami_labels\n",
    "    # add mean summary\n",
    "    df.loc['mean'] = df.mean()\n",
    "\n",
    "# Getting the total absolute DER on test set\n",
    "der2 = df['diarization error rate'].mean()\n",
    "print(f\"Total DER = {100 * der2:.1f}%\")    \n",
    "\n",
    "# saving the dataframe\n",
    "df.to_csv(output_dir+'/ami_mix_headset_der.csv')\n",
    "df"
   ]
  },
  {
   "cell_type": "code",
   "execution_count": null,
   "metadata": {},
   "outputs": [],
   "source": []
  },
  {
   "cell_type": "code",
   "execution_count": null,
   "metadata": {},
   "outputs": [],
   "source": [
    "groundtruth # to see the labels of each speaker and time intervals, this will show last one only"
   ]
  },
  {
   "cell_type": "code",
   "execution_count": null,
   "metadata": {},
   "outputs": [],
   "source": [
    "# print generated rttm of last test file\n",
    "!cat {output_dir}/pred_rttms/TS3003d.Mix-Headset.rttm\n",
    "\n",
    "pred_labels = rttm_to_labels(output_dir+'/pred_rttms/TS3003d.Mix-Headset.rttm')\n",
    "hypothesis = labels_to_pyannote_object(pred_labels)\n",
    "hypothesis"
   ]
  },
  {
   "cell_type": "code",
   "execution_count": null,
   "metadata": {},
   "outputs": [],
   "source": [
    "# use spyder\n",
    "\n",
    "hypothesis_rttm_list = []\n",
    "hypothesis_rttm_filepath= os.path.join(output_dir, 'pred_rttms')\n",
    "\n",
    "if test_type == 'test':\n",
    "    hypothesis_rttm_list = glob.glob(hypothesis_rttm_filepath + '/*.rttm', recursive=True)\n",
    "    \n",
    "    for ground_rttm, hyp_rttm in zip(groundtruth_rttm_list, hypothesis_rttm_list):\n",
    "        print(\"g h\", ground_rttm)\n",
    "        !spyder {ground_rttm} {hyp_rttm} --per-file\n",
    "\n",
    "# der2 = abs(metric)\n",
    "\n",
    "der = metric(groundtruth, hypothesis)\n",
    "print(f'diarization error rate = {100 * der:.1f}%')"
   ]
  },
  {
   "cell_type": "code",
   "execution_count": null,
   "metadata": {},
   "outputs": [],
   "source": []
  },
  {
   "cell_type": "code",
   "execution_count": null,
   "metadata": {},
   "outputs": [],
   "source": []
  },
  {
   "cell_type": "code",
   "execution_count": 11,
   "metadata": {},
   "outputs": [
    {
     "name": "stdout",
     "output_type": "stream",
     "text": [
      "{'TS3003d.Mix-Headset': tensor([[ 8.5144e-03, -1.2337e-02,  7.2975e-03,  ..., -1.0834e-02,\n",
      "          7.5579e-05,  1.6159e-02],\n",
      "        [ 3.3295e-02,  2.0218e-02, -8.6594e-03,  ...,  2.5040e-02,\n",
      "         -1.4420e-02, -9.0981e-04],\n",
      "        [ 5.7831e-03,  6.1874e-03,  2.1305e-03,  ...,  5.9776e-03,\n",
      "         -3.3386e-02, -8.7814e-03],\n",
      "        ...,\n",
      "        [ 3.2135e-02,  2.0432e-02, -1.9196e-02,  ..., -1.2665e-02,\n",
      "         -7.0129e-02, -4.0588e-02],\n",
      "        [ 2.1000e-03,  1.0233e-03, -2.3682e-02,  ..., -1.4374e-02,\n",
      "         -2.0844e-02,  2.0580e-03],\n",
      "        [ 7.1068e-03,  4.6356e-02, -3.6545e-03,  ...,  2.2240e-03,\n",
      "          9.1324e-03, -1.3229e-02]])}\n"
     ]
    },
    {
     "data": {
      "text/plain": [
       "torch.Size([2357, 192])"
      ]
     },
     "execution_count": 11,
     "metadata": {},
     "output_type": "execute_result"
    }
   ],
   "source": [
    "embeddings['TS3003d.Mix-Headset'].shape"
   ]
  },
  {
   "cell_type": "code",
   "execution_count": null,
   "metadata": {},
   "outputs": [],
   "source": [
    "[NeMo W 2022-07-20 12:00:46 modelPT:148] If you intend to do training or fine-tuning, please call the ModelPT.setup_training_data() method and provide a valid configuration file to setup the train data loader.\n",
    "    Train config : \n",
    "    manifest_filepath: /manifests/combined_fisher_swbd_voxceleb12_librispeech/train.json\n",
    "    sample_rate: 16000\n",
    "    labels: null\n",
    "    batch_size: 64\n",
    "    shuffle: true\n",
    "    time_length: 3\n",
    "    is_tarred: false\n",
    "    tarred_audio_filepaths: null\n",
    "    tarred_shard_strategy: scatter\n",
    "    augmentor:\n",
    "      noise:\n",
    "        manifest_path: /manifests/noise/rir_noise_manifest.json\n",
    "        prob: 0.5\n",
    "        min_snr_db: 0\n",
    "        max_snr_db: 15\n",
    "      speed:\n",
    "        prob: 0.5\n",
    "        sr: 16000\n",
    "        resample_type: kaiser_fast\n",
    "        min_speed_rate: 0.95\n",
    "        max_speed_rate: 1.05\n",
    "    num_workers: 15\n",
    "    pin_memory: true\n",
    "    \n",
    "[NeMo W 2022-07-20 12:00:46 modelPT:155] If you intend to do validation, please call the ModelPT.setup_validation_data() or ModelPT.setup_multiple_validation_data() method and provide a valid configuration file to setup the validation data loader(s). \n",
    "    Validation config : \n",
    "    manifest_filepath: /manifests/combined_fisher_swbd_voxceleb12_librispeech/dev.json\n",
    "    sample_rate: 16000\n",
    "    labels: null\n",
    "    batch_size: 128\n",
    "    shuffle: false\n",
    "    time_length: 3\n",
    "    num_workers: 15\n",
    "    pin_memory: true"
   ]
  },
  {
   "cell_type": "code",
   "execution_count": null,
   "metadata": {},
   "outputs": [],
   "source": []
  },
  {
   "cell_type": "markdown",
   "metadata": {},
   "source": [
    "Let's load ground truth RTTM labels and view the reference Annotation timestamps visually"
   ]
  },
  {
   "cell_type": "markdown",
   "metadata": {},
   "source": [
    "# Storing and Restoring models"
   ]
  },
  {
   "cell_type": "markdown",
   "metadata": {},
   "source": [
    "Now we can save the whole config and model parameters in a single .nemo and restore from it anytime."
   ]
  },
  {
   "cell_type": "code",
   "execution_count": null,
   "metadata": {},
   "outputs": [],
   "source": [
    "oracle_model.save_to(os.path.join(output_dir,'diarize.nemo'))"
   ]
  },
  {
   "cell_type": "markdown",
   "metadata": {},
   "source": [
    "Restore from saved model"
   ]
  },
  {
   "cell_type": "code",
   "execution_count": null,
   "metadata": {
    "scrolled": false
   },
   "outputs": [],
   "source": [
    "del oracle_model\n",
    "import nemo.collections.asr as nemo_asr\n",
    "restored_model = nemo_asr.models.ClusteringDiarizer.restore_from(os.path.join(output_dir,'diarize.nemo'))"
   ]
  },
  {
   "cell_type": "code",
   "execution_count": null,
   "metadata": {},
   "outputs": [],
   "source": []
  },
  {
   "cell_type": "code",
   "execution_count": null,
   "metadata": {},
   "outputs": [],
   "source": []
  },
  {
   "cell_type": "code",
   "execution_count": null,
   "metadata": {},
   "outputs": [],
   "source": []
  },
  {
   "cell_type": "code",
   "execution_count": null,
   "metadata": {},
   "outputs": [],
   "source": []
  },
  {
   "cell_type": "code",
   "execution_count": null,
   "metadata": {},
   "outputs": [],
   "source": []
  },
  {
   "cell_type": "code",
   "execution_count": null,
   "metadata": {},
   "outputs": [],
   "source": []
  },
  {
   "cell_type": "markdown",
   "metadata": {},
   "source": [
    "# Training "
   ]
  },
  {
   "cell_type": "code",
   "execution_count": null,
   "metadata": {},
   "outputs": [],
   "source": []
  }
 ],
 "metadata": {
  "kernelspec": {
   "display_name": "Python 3 (ipykernel)",
   "language": "python",
   "name": "python3"
  },
  "language_info": {
   "codemirror_mode": {
    "name": "ipython",
    "version": 3
   },
   "file_extension": ".py",
   "mimetype": "text/x-python",
   "name": "python",
   "nbconvert_exporter": "python",
   "pygments_lexer": "ipython3",
   "version": "3.9.12"
  },
  "pycharm": {
   "stem_cell": {
    "cell_type": "raw",
    "metadata": {
     "collapsed": false
    },
    "source": []
   }
  }
 },
 "nbformat": 4,
 "nbformat_minor": 4
}
