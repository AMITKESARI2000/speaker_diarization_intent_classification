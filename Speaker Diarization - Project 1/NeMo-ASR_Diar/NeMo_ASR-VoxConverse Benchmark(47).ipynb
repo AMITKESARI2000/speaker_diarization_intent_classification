{
 "cells": [
  {
   "cell_type": "markdown",
   "metadata": {},
   "source": [
    "# NeMo SD + ASR - Quartznet VoxConverse DER 35.7%"
   ]
  },
  {
   "cell_type": "code",
   "execution_count": 1,
   "metadata": {},
   "outputs": [],
   "source": [
    "# \"\"\"\n",
    "# You can run either this notebook locally (if you have all the dependencies and a GPU) or on Google Colab.\n",
    "# TitaNet: https://arxiv.org/pdf/2110.04410.pdf\n",
    "\n",
    "# Instructions for setting up Colab are as follows:\n",
    "# https://colab.research.google.com/drive/1ZoALe4Vy4ekR3eedVwyyt1zF8ZjPZ2JU#scrollTo=sDtW2e8u634q\n",
    "# 1. Open a new Python 3 notebook.\n",
    "# 2. Import this notebook from GitHub (File -> Upload Notebook -> \"GITHUB\" tab -> copy/paste GitHub URL)\n",
    "# 3. Connect to an instance with a GPU (Runtime -> Change runtime type -> select \"GPU\" for hardware accelerator)\n",
    "# 4. Run this cell to set up dependencies.\n",
    "# \"\"\"\n",
    "# # If you're using Google Colab and not running locally, run this cell.\n",
    "\n",
    "# ## Install dependencies\n",
    "# !pip install wget\n",
    "# !apt-get install sox libsndfile1 ffmpeg\n",
    "# !pip install unidecode\n",
    "\n",
    "# # ## Install NeMo\n",
    "# BRANCH = 'main'\n",
    "# !python -m pip install git+https://github.com/NVIDIA/NeMo.git@$BRANCH#egg=nemo_toolkit[asr]\n",
    "\n",
    "# ## Install TorchAudio\n",
    "# !pip install torchaudio -f https://download.pytorch.org/whl/torch_stable.html\n",
    "# # !pip install torch==1.11.0 torchaudio==0.11.0 torchvision==0.12.0"
   ]
  },
  {
   "cell_type": "code",
   "execution_count": 2,
   "metadata": {},
   "outputs": [
    {
     "name": "stdout",
     "output_type": "stream",
     "text": [
      "3\r\n"
     ]
    }
   ],
   "source": [
    "import os\n",
    "os.environ[\"CUDA_DEVICE_ORDER\"] = \"PCI_BUS_ID\"\n",
    "os.environ[\"CUDA_VISIBLE_DEVICES\"] = \"3\"\n",
    "# CUDA_VISIBLE_DEVICES options = 0/1/2/3. Make sure to restart\n",
    "!echo $CUDA_VISIBLE_DEVICES"
   ]
  },
  {
   "cell_type": "code",
   "execution_count": 3,
   "metadata": {},
   "outputs": [
    {
     "name": "stderr",
     "output_type": "stream",
     "text": [
      "/root/anaconda3/lib/python3.9/site-packages/torchvision/io/image.py:13: UserWarning: Failed to load image Python extension: libtorch_cuda_cu.so: cannot open shared object file: No such file or directory\n",
      "  warn(f\"Failed to load image Python extension: {e}\")\n",
      "[NeMo W 2022-07-25 20:26:53 optimizers:55] Apex was not found. Using the lamb or fused_adam optimizer will error out.\n"
     ]
    }
   ],
   "source": [
    "import os\n",
    "import glob\n",
    "import subprocess\n",
    "import tarfile\n",
    "import wget\n",
    "import copy\n",
    "import pandas as pd\n",
    "import numpy as np\n",
    "import IPython\n",
    "from IPython.display import Audio, display\n",
    "import matplotlib.pyplot as plt\n",
    "\n",
    "import spyder\n",
    "import torchaudio\n",
    "from collections import Counter\n",
    "from omegaconf import OmegaConf\n",
    "\n",
    "from pyannote.metrics.diarization import DiarizationErrorRate\n",
    "from nemo.collections.asr.parts.utils.speaker_utils import rttm_to_labels, labels_to_pyannote_object\n",
    "from nemo.collections.asr.models import ClusteringDiarizer\n",
    "from nemo.collections.asr.parts.utils.decoder_timestamps_utils import ASR_TIMESTAMPS\n",
    "from nemo.collections.asr.parts.utils.diarization_utils import ASR_DIAR_OFFLINE\n",
    "\n",
    "\n"
   ]
  },
  {
   "cell_type": "code",
   "execution_count": 9,
   "metadata": {},
   "outputs": [
    {
     "name": "stdout",
     "output_type": "stream",
     "text": [
      "ROOT:  /home/DATA/amit_kesari/SD1/NeMo-ASR_Diar\n",
      "Data Directory:  /home/DATA/amit_kesari/SD1/NeMo-ASR_Diar/data/voxconverse\n",
      "/home/DATA/amit_kesari/SD1/NeMo-ASR_Diar/data/voxconverse/rttms\n",
      "/home/DATA/amit_kesari/SD1/NeMo-ASR_Diar/data/voxconverse/rttms/test/aepyx.rttm\n",
      "/home/DATA/amit_kesari/SD1/NeMo-ASR_Diar/data/voxconverse/rttms/test/aggyz.rttm\n",
      "/home/DATA/amit_kesari/SD1/NeMo-ASR_Diar/data/voxconverse/rttms/test/aiqwk.rttm\n",
      "/home/DATA/amit_kesari/SD1/NeMo-ASR_Diar/data/voxconverse/rttms/test/aorju.rttm\n",
      "/home/DATA/amit_kesari/SD1/NeMo-ASR_Diar/data/voxconverse/rttms/test/auzru.rttm\n",
      "/home/DATA/amit_kesari/SD1/NeMo-ASR_Diar/data/voxconverse/rttms/test/bgvvt.rttm\n",
      "/home/DATA/amit_kesari/SD1/NeMo-ASR_Diar/data/voxconverse/rttms/test/bidnq.rttm\n",
      "/home/DATA/amit_kesari/SD1/NeMo-ASR_Diar/data/voxconverse/rttms/test/bjruf.rttm\n",
      "/home/DATA/amit_kesari/SD1/NeMo-ASR_Diar/data/voxconverse/rttms/test/bmsyn.rttm\n",
      "/home/DATA/amit_kesari/SD1/NeMo-ASR_Diar/data/voxconverse/rttms/test/bpzsc.rttm\n",
      "/home/DATA/amit_kesari/SD1/NeMo-ASR_Diar/data/voxconverse/rttms/test/bvqnu.rttm\n",
      "/home/DATA/amit_kesari/SD1/NeMo-ASR_Diar/data/voxconverse/rttms/test/bvyvm.rttm\n",
      "/home/DATA/amit_kesari/SD1/NeMo-ASR_Diar/data/voxconverse/rttms/test/bxcfq.rttm\n",
      "/home/DATA/amit_kesari/SD1/NeMo-ASR_Diar/data/voxconverse/rttms/test/byapz.rttm\n",
      "/home/DATA/amit_kesari/SD1/NeMo-ASR_Diar/data/voxconverse/rttms/test/cadba.rttm\n",
      "/home/DATA/amit_kesari/SD1/NeMo-ASR_Diar/data/voxconverse/rttms/test/cawnd.rttm\n",
      "/home/DATA/amit_kesari/SD1/NeMo-ASR_Diar/data/voxconverse/rttms/test/clfcg.rttm\n",
      "/home/DATA/amit_kesari/SD1/NeMo-ASR_Diar/data/voxconverse/rttms/test/cpebh.rttm\n",
      "/home/DATA/amit_kesari/SD1/NeMo-ASR_Diar/data/voxconverse/rttms/test/cqfmj.rttm\n",
      "/home/DATA/amit_kesari/SD1/NeMo-ASR_Diar/data/voxconverse/rttms/test/crorm.rttm\n",
      "/home/DATA/amit_kesari/SD1/NeMo-ASR_Diar/data/voxconverse/rttms/test/crylr.rttm\n",
      "/home/DATA/amit_kesari/SD1/NeMo-ASR_Diar/data/voxconverse/rttms/test/cvofp.rttm\n",
      "/home/DATA/amit_kesari/SD1/NeMo-ASR_Diar/data/voxconverse/rttms/test/cwbvu.rttm\n",
      "/home/DATA/amit_kesari/SD1/NeMo-ASR_Diar/data/voxconverse/rttms/test/dgvwu.rttm\n",
      "/home/DATA/amit_kesari/SD1/NeMo-ASR_Diar/data/voxconverse/rttms/test/diysk.rttm\n",
      "/home/DATA/amit_kesari/SD1/NeMo-ASR_Diar/data/voxconverse/rttms/test/dkabn.rttm\n",
      "/home/DATA/amit_kesari/SD1/NeMo-ASR_Diar/data/voxconverse/rttms/test/dlast.rttm\n",
      "/home/DATA/amit_kesari/SD1/NeMo-ASR_Diar/data/voxconverse/rttms/test/dohag.rttm\n",
      "/home/DATA/amit_kesari/SD1/NeMo-ASR_Diar/data/voxconverse/rttms/test/duvox.rttm\n",
      "/home/DATA/amit_kesari/SD1/NeMo-ASR_Diar/data/voxconverse/rttms/test/dxbbt.rttm\n",
      "/home/DATA/amit_kesari/SD1/NeMo-ASR_Diar/data/voxconverse/rttms/test/dxokr.rttm\n",
      "/home/DATA/amit_kesari/SD1/NeMo-ASR_Diar/data/voxconverse/rttms/test/dzsef.rttm\n",
      "/home/DATA/amit_kesari/SD1/NeMo-ASR_Diar/data/voxconverse/rttms/test/dzxut.rttm\n",
      "/home/DATA/amit_kesari/SD1/NeMo-ASR_Diar/data/voxconverse/rttms/test/eauve.rttm\n",
      "/home/DATA/amit_kesari/SD1/NeMo-ASR_Diar/data/voxconverse/rttms/test/eazeq.rttm\n",
      "/home/DATA/amit_kesari/SD1/NeMo-ASR_Diar/data/voxconverse/rttms/test/eddje.rttm\n",
      "/home/DATA/amit_kesari/SD1/NeMo-ASR_Diar/data/voxconverse/rttms/test/eguui.rttm\n",
      "/home/DATA/amit_kesari/SD1/NeMo-ASR_Diar/data/voxconverse/rttms/test/eoyaz.rttm\n",
      "/home/DATA/amit_kesari/SD1/NeMo-ASR_Diar/data/voxconverse/rttms/test/epygx.rttm\n",
      "/home/DATA/amit_kesari/SD1/NeMo-ASR_Diar/data/voxconverse/rttms/test/eqsta.rttm\n",
      "/home/DATA/amit_kesari/SD1/NeMo-ASR_Diar/data/voxconverse/rttms/test/erslt.rttm\n",
      "/home/DATA/amit_kesari/SD1/NeMo-ASR_Diar/data/voxconverse/rttms/test/eucfa.rttm\n",
      "/home/DATA/amit_kesari/SD1/NeMo-ASR_Diar/data/voxconverse/rttms/test/euqef.rttm\n",
      "/home/DATA/amit_kesari/SD1/NeMo-ASR_Diar/data/voxconverse/rttms/test/ezxso.rttm\n",
      "/home/DATA/amit_kesari/SD1/NeMo-ASR_Diar/data/voxconverse/rttms/test/fijfi.rttm\n",
      "/home/DATA/amit_kesari/SD1/NeMo-ASR_Diar/data/voxconverse/rttms/test/fowhl.rttm\n",
      "/home/DATA/amit_kesari/SD1/NeMo-ASR_Diar/data/voxconverse/rttms/test/fpfvy.rttm\n",
      "/home/DATA/amit_kesari/SD1/NeMo-ASR_Diar/data/voxconverse/rttms/test/fqrnu.rttm\n",
      "/home/DATA/amit_kesari/SD1/NeMo-ASR_Diar/data/voxconverse/rttms/test/fuzfh.rttm\n",
      "/home/DATA/amit_kesari/SD1/NeMo-ASR_Diar/data/voxconverse/rttms/test/fvhrk.rttm\n",
      "/home/DATA/amit_kesari/SD1/NeMo-ASR_Diar/data/voxconverse/rttms/test/fxnwf.rttm\n",
      "/home/DATA/amit_kesari/SD1/NeMo-ASR_Diar/data/voxconverse/rttms/test/fyqoe.rttm\n",
      "/home/DATA/amit_kesari/SD1/NeMo-ASR_Diar/data/voxconverse/rttms/test/fzwtp.rttm\n",
      "/home/DATA/amit_kesari/SD1/NeMo-ASR_Diar/data/voxconverse/rttms/test/gcfwp.rttm\n",
      "/home/DATA/amit_kesari/SD1/NeMo-ASR_Diar/data/voxconverse/rttms/test/gcvrb.rttm\n",
      "/home/DATA/amit_kesari/SD1/NeMo-ASR_Diar/data/voxconverse/rttms/test/gfneh.rttm\n",
      "/home/DATA/amit_kesari/SD1/NeMo-ASR_Diar/data/voxconverse/rttms/test/gkiki.rttm\n",
      "/home/DATA/amit_kesari/SD1/NeMo-ASR_Diar/data/voxconverse/rttms/test/gmmwm.rttm\n",
      "/home/DATA/amit_kesari/SD1/NeMo-ASR_Diar/data/voxconverse/rttms/test/gtjow.rttm\n",
      "/home/DATA/amit_kesari/SD1/NeMo-ASR_Diar/data/voxconverse/rttms/test/gtnjb.rttm\n",
      "/home/DATA/amit_kesari/SD1/NeMo-ASR_Diar/data/voxconverse/rttms/test/gukoa.rttm\n",
      "/home/DATA/amit_kesari/SD1/NeMo-ASR_Diar/data/voxconverse/rttms/test/guvqf.rttm\n",
      "/home/DATA/amit_kesari/SD1/NeMo-ASR_Diar/data/voxconverse/rttms/test/gwloo.rttm\n",
      "/home/DATA/amit_kesari/SD1/NeMo-ASR_Diar/data/voxconverse/rttms/test/gylzn.rttm\n",
      "/home/DATA/amit_kesari/SD1/NeMo-ASR_Diar/data/voxconverse/rttms/test/gyomp.rttm\n",
      "/home/DATA/amit_kesari/SD1/NeMo-ASR_Diar/data/voxconverse/rttms/test/gzhwb.rttm\n",
      "/home/DATA/amit_kesari/SD1/NeMo-ASR_Diar/data/voxconverse/rttms/test/hcyak.rttm\n",
      "/home/DATA/amit_kesari/SD1/NeMo-ASR_Diar/data/voxconverse/rttms/test/heolf.rttm\n",
      "/home/DATA/amit_kesari/SD1/NeMo-ASR_Diar/data/voxconverse/rttms/test/hhepf.rttm\n",
      "/home/DATA/amit_kesari/SD1/NeMo-ASR_Diar/data/voxconverse/rttms/test/hqhrb.rttm\n",
      "/home/DATA/amit_kesari/SD1/NeMo-ASR_Diar/data/voxconverse/rttms/test/iabca.rttm\n",
      "/home/DATA/amit_kesari/SD1/NeMo-ASR_Diar/data/voxconverse/rttms/test/iacod.rttm\n",
      "/home/DATA/amit_kesari/SD1/NeMo-ASR_Diar/data/voxconverse/rttms/test/ibrnm.rttm\n",
      "/home/DATA/amit_kesari/SD1/NeMo-ASR_Diar/data/voxconverse/rttms/test/ifwki.rttm\n",
      "/home/DATA/amit_kesari/SD1/NeMo-ASR_Diar/data/voxconverse/rttms/test/iiprr.rttm\n",
      "/home/DATA/amit_kesari/SD1/NeMo-ASR_Diar/data/voxconverse/rttms/test/ikhje.rttm\n",
      "/home/DATA/amit_kesari/SD1/NeMo-ASR_Diar/data/voxconverse/rttms/test/iowob.rttm\n",
      "/home/DATA/amit_kesari/SD1/NeMo-ASR_Diar/data/voxconverse/rttms/test/isrps.rttm\n",
      "/home/DATA/amit_kesari/SD1/NeMo-ASR_Diar/data/voxconverse/rttms/test/isxwc.rttm\n",
      "/home/DATA/amit_kesari/SD1/NeMo-ASR_Diar/data/voxconverse/rttms/test/jbowg.rttm\n",
      "/home/DATA/amit_kesari/SD1/NeMo-ASR_Diar/data/voxconverse/rttms/test/jdrwl.rttm\n",
      "/home/DATA/amit_kesari/SD1/NeMo-ASR_Diar/data/voxconverse/rttms/test/jeymh.rttm\n",
      "/home/DATA/amit_kesari/SD1/NeMo-ASR_Diar/data/voxconverse/rttms/test/jgiyq.rttm\n",
      "/home/DATA/amit_kesari/SD1/NeMo-ASR_Diar/data/voxconverse/rttms/test/jjkrt.rttm\n",
      "/home/DATA/amit_kesari/SD1/NeMo-ASR_Diar/data/voxconverse/rttms/test/jjvkx.rttm\n",
      "/home/DATA/amit_kesari/SD1/NeMo-ASR_Diar/data/voxconverse/rttms/test/jrfaz.rttm\n",
      "/home/DATA/amit_kesari/SD1/NeMo-ASR_Diar/data/voxconverse/rttms/test/jsbdo.rttm\n",
      "/home/DATA/amit_kesari/SD1/NeMo-ASR_Diar/data/voxconverse/rttms/test/jsymf.rttm\n",
      "/home/DATA/amit_kesari/SD1/NeMo-ASR_Diar/data/voxconverse/rttms/test/jttar.rttm\n",
      "/home/DATA/amit_kesari/SD1/NeMo-ASR_Diar/data/voxconverse/rttms/test/jwggf.rttm\n",
      "/home/DATA/amit_kesari/SD1/NeMo-ASR_Diar/data/voxconverse/rttms/test/jxpom.rttm\n",
      "/home/DATA/amit_kesari/SD1/NeMo-ASR_Diar/data/voxconverse/rttms/test/jxydp.rttm\n",
      "/home/DATA/amit_kesari/SD1/NeMo-ASR_Diar/data/voxconverse/rttms/test/jzkzt.rttm\n",
      "/home/DATA/amit_kesari/SD1/NeMo-ASR_Diar/data/voxconverse/rttms/test/kajfh.rttm\n",
      "/home/DATA/amit_kesari/SD1/NeMo-ASR_Diar/data/voxconverse/rttms/test/kgjaa.rttm\n",
      "/home/DATA/amit_kesari/SD1/NeMo-ASR_Diar/data/voxconverse/rttms/test/kmjvh.rttm\n",
      "/home/DATA/amit_kesari/SD1/NeMo-ASR_Diar/data/voxconverse/rttms/test/kmunk.rttm\n",
      "/home/DATA/amit_kesari/SD1/NeMo-ASR_Diar/data/voxconverse/rttms/test/kpjud.rttm\n",
      "/home/DATA/amit_kesari/SD1/NeMo-ASR_Diar/data/voxconverse/rttms/test/ktvto.rttm\n",
      "/home/DATA/amit_kesari/SD1/NeMo-ASR_Diar/data/voxconverse/rttms/test/kvkje.rttm\n",
      "/home/DATA/amit_kesari/SD1/NeMo-ASR_Diar/data/voxconverse/rttms/test/kzmyi.rttm\n",
      "/home/DATA/amit_kesari/SD1/NeMo-ASR_Diar/data/voxconverse/rttms/test/laoyl.rttm\n",
      "/home/DATA/amit_kesari/SD1/NeMo-ASR_Diar/data/voxconverse/rttms/test/lbfnx.rttm\n",
      "/home/DATA/amit_kesari/SD1/NeMo-ASR_Diar/data/voxconverse/rttms/test/ledhe.rttm\n",
      "/home/DATA/amit_kesari/SD1/NeMo-ASR_Diar/data/voxconverse/rttms/test/leneg.rttm\n",
      "/home/DATA/amit_kesari/SD1/NeMo-ASR_Diar/data/voxconverse/rttms/test/lhuly.rttm\n",
      "/home/DATA/amit_kesari/SD1/NeMo-ASR_Diar/data/voxconverse/rttms/test/lilfy.rttm\n",
      "/home/DATA/amit_kesari/SD1/NeMo-ASR_Diar/data/voxconverse/rttms/test/ljpes.rttm\n",
      "/home/DATA/amit_kesari/SD1/NeMo-ASR_Diar/data/voxconverse/rttms/test/lkikz.rttm\n",
      "/home/DATA/amit_kesari/SD1/NeMo-ASR_Diar/data/voxconverse/rttms/test/lpola.rttm\n",
      "/home/DATA/amit_kesari/SD1/NeMo-ASR_Diar/data/voxconverse/rttms/test/lscfc.rttm\n",
      "/home/DATA/amit_kesari/SD1/NeMo-ASR_Diar/data/voxconverse/rttms/test/ltgmz.rttm\n",
      "/home/DATA/amit_kesari/SD1/NeMo-ASR_Diar/data/voxconverse/rttms/test/lubpm.rttm\n",
      "/home/DATA/amit_kesari/SD1/NeMo-ASR_Diar/data/voxconverse/rttms/test/luobn.rttm\n",
      "/home/DATA/amit_kesari/SD1/NeMo-ASR_Diar/data/voxconverse/rttms/test/mbzht.rttm\n",
      "/home/DATA/amit_kesari/SD1/NeMo-ASR_Diar/data/voxconverse/rttms/test/mclsr.rttm\n",
      "/home/DATA/amit_kesari/SD1/NeMo-ASR_Diar/data/voxconverse/rttms/test/mhwyr.rttm\n",
      "/home/DATA/amit_kesari/SD1/NeMo-ASR_Diar/data/voxconverse/rttms/test/mjmgr.rttm\n",
      "/home/DATA/amit_kesari/SD1/NeMo-ASR_Diar/data/voxconverse/rttms/test/mkhie.rttm\n",
      "/home/DATA/amit_kesari/SD1/NeMo-ASR_Diar/data/voxconverse/rttms/test/mqtep.rttm\n",
      "/home/DATA/amit_kesari/SD1/NeMo-ASR_Diar/data/voxconverse/rttms/test/msbyq.rttm\n",
      "/home/DATA/amit_kesari/SD1/NeMo-ASR_Diar/data/voxconverse/rttms/test/mupzb.rttm\n",
      "/home/DATA/amit_kesari/SD1/NeMo-ASR_Diar/data/voxconverse/rttms/test/mxdpo.rttm\n",
      "/home/DATA/amit_kesari/SD1/NeMo-ASR_Diar/data/voxconverse/rttms/test/mxduo.rttm\n",
      "/home/DATA/amit_kesari/SD1/NeMo-ASR_Diar/data/voxconverse/rttms/test/myjoe.rttm\n",
      "/home/DATA/amit_kesari/SD1/NeMo-ASR_Diar/data/voxconverse/rttms/test/neiye.rttm\n",
      "/home/DATA/amit_kesari/SD1/NeMo-ASR_Diar/data/voxconverse/rttms/test/nitgx.rttm\n",
      "/home/DATA/amit_kesari/SD1/NeMo-ASR_Diar/data/voxconverse/rttms/test/nkqzr.rttm\n",
      "/home/DATA/amit_kesari/SD1/NeMo-ASR_Diar/data/voxconverse/rttms/test/nlvdr.rttm\n",
      "/home/DATA/amit_kesari/SD1/NeMo-ASR_Diar/data/voxconverse/rttms/test/nprxc.rttm\n",
      "/home/DATA/amit_kesari/SD1/NeMo-ASR_Diar/data/voxconverse/rttms/test/nqcpi.rttm\n",
      "/home/DATA/amit_kesari/SD1/NeMo-ASR_Diar/data/voxconverse/rttms/test/nqyqm.rttm\n",
      "/home/DATA/amit_kesari/SD1/NeMo-ASR_Diar/data/voxconverse/rttms/test/ocfop.rttm\n",
      "/home/DATA/amit_kesari/SD1/NeMo-ASR_Diar/data/voxconverse/rttms/test/ofbxh.rttm\n",
      "/home/DATA/amit_kesari/SD1/NeMo-ASR_Diar/data/voxconverse/rttms/test/olzkb.rttm\n",
      "/home/DATA/amit_kesari/SD1/NeMo-ASR_Diar/data/voxconverse/rttms/test/ooxlj.rttm\n",
      "/home/DATA/amit_kesari/SD1/NeMo-ASR_Diar/data/voxconverse/rttms/test/optsn.rttm\n",
      "/home/DATA/amit_kesari/SD1/NeMo-ASR_Diar/data/voxconverse/rttms/test/oqwpd.rttm\n",
      "/home/DATA/amit_kesari/SD1/NeMo-ASR_Diar/data/voxconverse/rttms/test/otmpf.rttm\n",
      "/home/DATA/amit_kesari/SD1/NeMo-ASR_Diar/data/voxconverse/rttms/test/oubab.rttm\n",
      "/home/DATA/amit_kesari/SD1/NeMo-ASR_Diar/data/voxconverse/rttms/test/ouvtt.rttm\n",
      "/home/DATA/amit_kesari/SD1/NeMo-ASR_Diar/data/voxconverse/rttms/test/pccww.rttm\n",
      "/home/DATA/amit_kesari/SD1/NeMo-ASR_Diar/data/voxconverse/rttms/test/pgtkk.rttm\n",
      "/home/DATA/amit_kesari/SD1/NeMo-ASR_Diar/data/voxconverse/rttms/test/pkwrt.rttm\n",
      "/home/DATA/amit_kesari/SD1/NeMo-ASR_Diar/data/voxconverse/rttms/test/poucc.rttm\n",
      "/home/DATA/amit_kesari/SD1/NeMo-ASR_Diar/data/voxconverse/rttms/test/ppexo.rttm\n",
      "/home/DATA/amit_kesari/SD1/NeMo-ASR_Diar/data/voxconverse/rttms/test/ptses.rttm\n",
      "/home/DATA/amit_kesari/SD1/NeMo-ASR_Diar/data/voxconverse/rttms/test/pwnsw.rttm\n",
      "/home/DATA/amit_kesari/SD1/NeMo-ASR_Diar/data/voxconverse/rttms/test/pxqme.rttm\n",
      "/home/DATA/amit_kesari/SD1/NeMo-ASR_Diar/data/voxconverse/rttms/test/pzxit.rttm\n",
      "/home/DATA/amit_kesari/SD1/NeMo-ASR_Diar/data/voxconverse/rttms/test/qadia.rttm\n",
      "/home/DATA/amit_kesari/SD1/NeMo-ASR_Diar/data/voxconverse/rttms/test/qajyo.rttm\n",
      "/home/DATA/amit_kesari/SD1/NeMo-ASR_Diar/data/voxconverse/rttms/test/qeejz.rttm\n",
      "/home/DATA/amit_kesari/SD1/NeMo-ASR_Diar/data/voxconverse/rttms/test/qlrry.rttm\n",
      "/home/DATA/amit_kesari/SD1/NeMo-ASR_Diar/data/voxconverse/rttms/test/qoarn.rttm\n",
      "/home/DATA/amit_kesari/SD1/NeMo-ASR_Diar/data/voxconverse/rttms/test/qwepo.rttm\n",
      "/home/DATA/amit_kesari/SD1/NeMo-ASR_Diar/data/voxconverse/rttms/test/qxana.rttm\n",
      "/home/DATA/amit_kesari/SD1/NeMo-ASR_Diar/data/voxconverse/rttms/test/ralnu.rttm\n",
      "/home/DATA/amit_kesari/SD1/NeMo-ASR_Diar/data/voxconverse/rttms/test/rarij.rttm\n",
      "/home/DATA/amit_kesari/SD1/NeMo-ASR_Diar/data/voxconverse/rttms/test/rmvsh.rttm\n",
      "/home/DATA/amit_kesari/SD1/NeMo-ASR_Diar/data/voxconverse/rttms/test/rpkso.rttm\n",
      "/home/DATA/amit_kesari/SD1/NeMo-ASR_Diar/data/voxconverse/rttms/test/rsypp.rttm\n",
      "/home/DATA/amit_kesari/SD1/NeMo-ASR_Diar/data/voxconverse/rttms/test/rxulz.rttm\n",
      "/home/DATA/amit_kesari/SD1/NeMo-ASR_Diar/data/voxconverse/rttms/test/ryken.rttm\n",
      "/home/DATA/amit_kesari/SD1/NeMo-ASR_Diar/data/voxconverse/rttms/test/sbrmv.rttm\n",
      "/home/DATA/amit_kesari/SD1/NeMo-ASR_Diar/data/voxconverse/rttms/test/sebyw.rttm\n",
      "/home/DATA/amit_kesari/SD1/NeMo-ASR_Diar/data/voxconverse/rttms/test/sexgc.rttm\n",
      "/home/DATA/amit_kesari/SD1/NeMo-ASR_Diar/data/voxconverse/rttms/test/sfdvy.rttm\n",
      "/home/DATA/amit_kesari/SD1/NeMo-ASR_Diar/data/voxconverse/rttms/test/svxzm.rttm\n",
      "/home/DATA/amit_kesari/SD1/NeMo-ASR_Diar/data/voxconverse/rttms/test/swbnm.rttm\n",
      "/home/DATA/amit_kesari/SD1/NeMo-ASR_Diar/data/voxconverse/rttms/test/sxqvt.rttm\n",
      "/home/DATA/amit_kesari/SD1/NeMo-ASR_Diar/data/voxconverse/rttms/test/tbjqx.rttm\n",
      "/home/DATA/amit_kesari/SD1/NeMo-ASR_Diar/data/voxconverse/rttms/test/thnuq.rttm\n",
      "/home/DATA/amit_kesari/SD1/NeMo-ASR_Diar/data/voxconverse/rttms/test/tiido.rttm\n",
      "/home/DATA/amit_kesari/SD1/NeMo-ASR_Diar/data/voxconverse/rttms/test/tkhgs.rttm\n",
      "/home/DATA/amit_kesari/SD1/NeMo-ASR_Diar/data/voxconverse/rttms/test/tkybe.rttm\n",
      "/home/DATA/amit_kesari/SD1/NeMo-ASR_Diar/data/voxconverse/rttms/test/tnjoh.rttm\n",
      "/home/DATA/amit_kesari/SD1/NeMo-ASR_Diar/data/voxconverse/rttms/test/tpnyf.rttm\n",
      "/home/DATA/amit_kesari/SD1/NeMo-ASR_Diar/data/voxconverse/rttms/test/tpslg.rttm\n",
      "/home/DATA/amit_kesari/SD1/NeMo-ASR_Diar/data/voxconverse/rttms/test/tvtoe.rttm\n",
      "/home/DATA/amit_kesari/SD1/NeMo-ASR_Diar/data/voxconverse/rttms/test/uedkc.rttm\n",
      "/home/DATA/amit_kesari/SD1/NeMo-ASR_Diar/data/voxconverse/rttms/test/uevxo.rttm\n",
      "/home/DATA/amit_kesari/SD1/NeMo-ASR_Diar/data/voxconverse/rttms/test/uhfrw.rttm\n",
      "/home/DATA/amit_kesari/SD1/NeMo-ASR_Diar/data/voxconverse/rttms/test/uicid.rttm\n",
      "/home/DATA/amit_kesari/SD1/NeMo-ASR_Diar/data/voxconverse/rttms/test/upshw.rttm\n",
      "/home/DATA/amit_kesari/SD1/NeMo-ASR_Diar/data/voxconverse/rttms/test/uqxlg.rttm\n",
      "/home/DATA/amit_kesari/SD1/NeMo-ASR_Diar/data/voxconverse/rttms/test/usqam.rttm\n",
      "/home/DATA/amit_kesari/SD1/NeMo-ASR_Diar/data/voxconverse/rttms/test/utial.rttm\n",
      "/home/DATA/amit_kesari/SD1/NeMo-ASR_Diar/data/voxconverse/rttms/test/vdlvr.rttm\n",
      "/home/DATA/amit_kesari/SD1/NeMo-ASR_Diar/data/voxconverse/rttms/test/vgaez.rttm\n",
      "/home/DATA/amit_kesari/SD1/NeMo-ASR_Diar/data/voxconverse/rttms/test/vgevv.rttm\n",
      "/home/DATA/amit_kesari/SD1/NeMo-ASR_Diar/data/voxconverse/rttms/test/vncid.rttm\n",
      "/home/DATA/amit_kesari/SD1/NeMo-ASR_Diar/data/voxconverse/rttms/test/vtzqw.rttm\n",
      "/home/DATA/amit_kesari/SD1/NeMo-ASR_Diar/data/voxconverse/rttms/test/vuewy.rttm\n",
      "/home/DATA/amit_kesari/SD1/NeMo-ASR_Diar/data/voxconverse/rttms/test/vylyk.rttm\n",
      "/home/DATA/amit_kesari/SD1/NeMo-ASR_Diar/data/voxconverse/rttms/test/vzuru.rttm\n",
      "/home/DATA/amit_kesari/SD1/NeMo-ASR_Diar/data/voxconverse/rttms/test/wcxfk.rttm\n",
      "/home/DATA/amit_kesari/SD1/NeMo-ASR_Diar/data/voxconverse/rttms/test/wdvva.rttm\n",
      "/home/DATA/amit_kesari/SD1/NeMo-ASR_Diar/data/voxconverse/rttms/test/wemos.rttm\n",
      "/home/DATA/amit_kesari/SD1/NeMo-ASR_Diar/data/voxconverse/rttms/test/wibky.rttm\n",
      "/home/DATA/amit_kesari/SD1/NeMo-ASR_Diar/data/voxconverse/rttms/test/wlfsf.rttm\n",
      "/home/DATA/amit_kesari/SD1/NeMo-ASR_Diar/data/voxconverse/rttms/test/wprog.rttm\n",
      "/home/DATA/amit_kesari/SD1/NeMo-ASR_Diar/data/voxconverse/rttms/test/wwvcs.rttm\n",
      "/home/DATA/amit_kesari/SD1/NeMo-ASR_Diar/data/voxconverse/rttms/test/wwzsk.rttm\n",
      "/home/DATA/amit_kesari/SD1/NeMo-ASR_Diar/data/voxconverse/rttms/test/xffsa.rttm\n",
      "/home/DATA/amit_kesari/SD1/NeMo-ASR_Diar/data/voxconverse/rttms/test/xggbk.rttm\n",
      "/home/DATA/amit_kesari/SD1/NeMo-ASR_Diar/data/voxconverse/rttms/test/xkgos.rttm\n",
      "/home/DATA/amit_kesari/SD1/NeMo-ASR_Diar/data/voxconverse/rttms/test/xkmqx.rttm\n",
      "/home/DATA/amit_kesari/SD1/NeMo-ASR_Diar/data/voxconverse/rttms/test/xlsme.rttm\n",
      "/home/DATA/amit_kesari/SD1/NeMo-ASR_Diar/data/voxconverse/rttms/test/xlyov.rttm\n",
      "/home/DATA/amit_kesari/SD1/NeMo-ASR_Diar/data/voxconverse/rttms/test/xmyyy.rttm\n",
      "/home/DATA/amit_kesari/SD1/NeMo-ASR_Diar/data/voxconverse/rttms/test/xqxkt.rttm\n",
      "/home/DATA/amit_kesari/SD1/NeMo-ASR_Diar/data/voxconverse/rttms/test/xtdcl.rttm\n",
      "/home/DATA/amit_kesari/SD1/NeMo-ASR_Diar/data/voxconverse/rttms/test/xtzoq.rttm\n",
      "/home/DATA/amit_kesari/SD1/NeMo-ASR_Diar/data/voxconverse/rttms/test/xvxwv.rttm\n",
      "/home/DATA/amit_kesari/SD1/NeMo-ASR_Diar/data/voxconverse/rttms/test/ybhwz.rttm\n",
      "/home/DATA/amit_kesari/SD1/NeMo-ASR_Diar/data/voxconverse/rttms/test/ygrip.rttm\n",
      "/home/DATA/amit_kesari/SD1/NeMo-ASR_Diar/data/voxconverse/rttms/test/ylgug.rttm\n",
      "/home/DATA/amit_kesari/SD1/NeMo-ASR_Diar/data/voxconverse/rttms/test/ylzez.rttm\n",
      "/home/DATA/amit_kesari/SD1/NeMo-ASR_Diar/data/voxconverse/rttms/test/ytmef.rttm\n",
      "/home/DATA/amit_kesari/SD1/NeMo-ASR_Diar/data/voxconverse/rttms/test/ytula.rttm\n",
      "/home/DATA/amit_kesari/SD1/NeMo-ASR_Diar/data/voxconverse/rttms/test/yukhy.rttm\n",
      "/home/DATA/amit_kesari/SD1/NeMo-ASR_Diar/data/voxconverse/rttms/test/yzvon.rttm\n",
      "/home/DATA/amit_kesari/SD1/NeMo-ASR_Diar/data/voxconverse/rttms/test/zedtj.rttm\n",
      "/home/DATA/amit_kesari/SD1/NeMo-ASR_Diar/data/voxconverse/rttms/test/zehzu.rttm\n",
      "/home/DATA/amit_kesari/SD1/NeMo-ASR_Diar/data/voxconverse/rttms/test/zfzlc.rttm\n",
      "/home/DATA/amit_kesari/SD1/NeMo-ASR_Diar/data/voxconverse/rttms/test/zowse.rttm\n",
      "/home/DATA/amit_kesari/SD1/NeMo-ASR_Diar/data/voxconverse/rttms/test/zqidv.rttm\n",
      "/home/DATA/amit_kesari/SD1/NeMo-ASR_Diar/data/voxconverse/rttms/test/zsgto.rttm\n",
      "/home/DATA/amit_kesari/SD1/NeMo-ASR_Diar/data/voxconverse/rttms/test/zzsba.rttm\n",
      "/home/DATA/amit_kesari/SD1/NeMo-ASR_Diar/data/voxconverse/rttms/test/zztbo.rttm\n",
      "/home/DATA/amit_kesari/SD1/NeMo-ASR_Diar/data/voxconverse/rttms/test/zzyyo.rttm\n"
     ]
    },
    {
     "data": {
      "text/plain": [
       "['/home/DATA/amit_kesari/downloaded-big-datasets/voxconverse_test_wav/audio/aepyx.wav',\n",
       " '/home/DATA/amit_kesari/downloaded-big-datasets/voxconverse_test_wav/audio/aggyz.wav',\n",
       " '/home/DATA/amit_kesari/downloaded-big-datasets/voxconverse_test_wav/audio/aiqwk.wav',\n",
       " '/home/DATA/amit_kesari/downloaded-big-datasets/voxconverse_test_wav/audio/aorju.wav',\n",
       " '/home/DATA/amit_kesari/downloaded-big-datasets/voxconverse_test_wav/audio/auzru.wav',\n",
       " '/home/DATA/amit_kesari/downloaded-big-datasets/voxconverse_test_wav/audio/bgvvt.wav',\n",
       " '/home/DATA/amit_kesari/downloaded-big-datasets/voxconverse_test_wav/audio/bidnq.wav',\n",
       " '/home/DATA/amit_kesari/downloaded-big-datasets/voxconverse_test_wav/audio/bjruf.wav',\n",
       " '/home/DATA/amit_kesari/downloaded-big-datasets/voxconverse_test_wav/audio/bmsyn.wav',\n",
       " '/home/DATA/amit_kesari/downloaded-big-datasets/voxconverse_test_wav/audio/bpzsc.wav',\n",
       " '/home/DATA/amit_kesari/downloaded-big-datasets/voxconverse_test_wav/audio/bvqnu.wav',\n",
       " '/home/DATA/amit_kesari/downloaded-big-datasets/voxconverse_test_wav/audio/bvyvm.wav',\n",
       " '/home/DATA/amit_kesari/downloaded-big-datasets/voxconverse_test_wav/audio/bxcfq.wav',\n",
       " '/home/DATA/amit_kesari/downloaded-big-datasets/voxconverse_test_wav/audio/byapz.wav',\n",
       " '/home/DATA/amit_kesari/downloaded-big-datasets/voxconverse_test_wav/audio/cadba.wav',\n",
       " '/home/DATA/amit_kesari/downloaded-big-datasets/voxconverse_test_wav/audio/cawnd.wav',\n",
       " '/home/DATA/amit_kesari/downloaded-big-datasets/voxconverse_test_wav/audio/clfcg.wav',\n",
       " '/home/DATA/amit_kesari/downloaded-big-datasets/voxconverse_test_wav/audio/cpebh.wav',\n",
       " '/home/DATA/amit_kesari/downloaded-big-datasets/voxconverse_test_wav/audio/cqfmj.wav',\n",
       " '/home/DATA/amit_kesari/downloaded-big-datasets/voxconverse_test_wav/audio/crorm.wav',\n",
       " '/home/DATA/amit_kesari/downloaded-big-datasets/voxconverse_test_wav/audio/crylr.wav',\n",
       " '/home/DATA/amit_kesari/downloaded-big-datasets/voxconverse_test_wav/audio/cvofp.wav',\n",
       " '/home/DATA/amit_kesari/downloaded-big-datasets/voxconverse_test_wav/audio/cwbvu.wav',\n",
       " '/home/DATA/amit_kesari/downloaded-big-datasets/voxconverse_test_wav/audio/dgvwu.wav',\n",
       " '/home/DATA/amit_kesari/downloaded-big-datasets/voxconverse_test_wav/audio/diysk.wav',\n",
       " '/home/DATA/amit_kesari/downloaded-big-datasets/voxconverse_test_wav/audio/dkabn.wav',\n",
       " '/home/DATA/amit_kesari/downloaded-big-datasets/voxconverse_test_wav/audio/dlast.wav',\n",
       " '/home/DATA/amit_kesari/downloaded-big-datasets/voxconverse_test_wav/audio/dohag.wav',\n",
       " '/home/DATA/amit_kesari/downloaded-big-datasets/voxconverse_test_wav/audio/duvox.wav',\n",
       " '/home/DATA/amit_kesari/downloaded-big-datasets/voxconverse_test_wav/audio/dxbbt.wav',\n",
       " '/home/DATA/amit_kesari/downloaded-big-datasets/voxconverse_test_wav/audio/dxokr.wav',\n",
       " '/home/DATA/amit_kesari/downloaded-big-datasets/voxconverse_test_wav/audio/dzsef.wav',\n",
       " '/home/DATA/amit_kesari/downloaded-big-datasets/voxconverse_test_wav/audio/dzxut.wav',\n",
       " '/home/DATA/amit_kesari/downloaded-big-datasets/voxconverse_test_wav/audio/eauve.wav',\n",
       " '/home/DATA/amit_kesari/downloaded-big-datasets/voxconverse_test_wav/audio/eazeq.wav',\n",
       " '/home/DATA/amit_kesari/downloaded-big-datasets/voxconverse_test_wav/audio/eddje.wav',\n",
       " '/home/DATA/amit_kesari/downloaded-big-datasets/voxconverse_test_wav/audio/eguui.wav',\n",
       " '/home/DATA/amit_kesari/downloaded-big-datasets/voxconverse_test_wav/audio/eoyaz.wav',\n",
       " '/home/DATA/amit_kesari/downloaded-big-datasets/voxconverse_test_wav/audio/epygx.wav',\n",
       " '/home/DATA/amit_kesari/downloaded-big-datasets/voxconverse_test_wav/audio/eqsta.wav',\n",
       " '/home/DATA/amit_kesari/downloaded-big-datasets/voxconverse_test_wav/audio/erslt.wav',\n",
       " '/home/DATA/amit_kesari/downloaded-big-datasets/voxconverse_test_wav/audio/eucfa.wav',\n",
       " '/home/DATA/amit_kesari/downloaded-big-datasets/voxconverse_test_wav/audio/euqef.wav',\n",
       " '/home/DATA/amit_kesari/downloaded-big-datasets/voxconverse_test_wav/audio/ezxso.wav',\n",
       " '/home/DATA/amit_kesari/downloaded-big-datasets/voxconverse_test_wav/audio/fijfi.wav',\n",
       " '/home/DATA/amit_kesari/downloaded-big-datasets/voxconverse_test_wav/audio/fowhl.wav',\n",
       " '/home/DATA/amit_kesari/downloaded-big-datasets/voxconverse_test_wav/audio/fpfvy.wav',\n",
       " '/home/DATA/amit_kesari/downloaded-big-datasets/voxconverse_test_wav/audio/fqrnu.wav',\n",
       " '/home/DATA/amit_kesari/downloaded-big-datasets/voxconverse_test_wav/audio/fuzfh.wav',\n",
       " '/home/DATA/amit_kesari/downloaded-big-datasets/voxconverse_test_wav/audio/fvhrk.wav',\n",
       " '/home/DATA/amit_kesari/downloaded-big-datasets/voxconverse_test_wav/audio/fxnwf.wav',\n",
       " '/home/DATA/amit_kesari/downloaded-big-datasets/voxconverse_test_wav/audio/fyqoe.wav',\n",
       " '/home/DATA/amit_kesari/downloaded-big-datasets/voxconverse_test_wav/audio/fzwtp.wav',\n",
       " '/home/DATA/amit_kesari/downloaded-big-datasets/voxconverse_test_wav/audio/gcfwp.wav',\n",
       " '/home/DATA/amit_kesari/downloaded-big-datasets/voxconverse_test_wav/audio/gcvrb.wav',\n",
       " '/home/DATA/amit_kesari/downloaded-big-datasets/voxconverse_test_wav/audio/gfneh.wav',\n",
       " '/home/DATA/amit_kesari/downloaded-big-datasets/voxconverse_test_wav/audio/gkiki.wav',\n",
       " '/home/DATA/amit_kesari/downloaded-big-datasets/voxconverse_test_wav/audio/gmmwm.wav',\n",
       " '/home/DATA/amit_kesari/downloaded-big-datasets/voxconverse_test_wav/audio/gtjow.wav',\n",
       " '/home/DATA/amit_kesari/downloaded-big-datasets/voxconverse_test_wav/audio/gtnjb.wav',\n",
       " '/home/DATA/amit_kesari/downloaded-big-datasets/voxconverse_test_wav/audio/gukoa.wav',\n",
       " '/home/DATA/amit_kesari/downloaded-big-datasets/voxconverse_test_wav/audio/guvqf.wav',\n",
       " '/home/DATA/amit_kesari/downloaded-big-datasets/voxconverse_test_wav/audio/gwloo.wav',\n",
       " '/home/DATA/amit_kesari/downloaded-big-datasets/voxconverse_test_wav/audio/gylzn.wav',\n",
       " '/home/DATA/amit_kesari/downloaded-big-datasets/voxconverse_test_wav/audio/gyomp.wav',\n",
       " '/home/DATA/amit_kesari/downloaded-big-datasets/voxconverse_test_wav/audio/gzhwb.wav',\n",
       " '/home/DATA/amit_kesari/downloaded-big-datasets/voxconverse_test_wav/audio/hcyak.wav',\n",
       " '/home/DATA/amit_kesari/downloaded-big-datasets/voxconverse_test_wav/audio/heolf.wav',\n",
       " '/home/DATA/amit_kesari/downloaded-big-datasets/voxconverse_test_wav/audio/hhepf.wav',\n",
       " '/home/DATA/amit_kesari/downloaded-big-datasets/voxconverse_test_wav/audio/hqhrb.wav',\n",
       " '/home/DATA/amit_kesari/downloaded-big-datasets/voxconverse_test_wav/audio/iabca.wav',\n",
       " '/home/DATA/amit_kesari/downloaded-big-datasets/voxconverse_test_wav/audio/iacod.wav',\n",
       " '/home/DATA/amit_kesari/downloaded-big-datasets/voxconverse_test_wav/audio/ibrnm.wav',\n",
       " '/home/DATA/amit_kesari/downloaded-big-datasets/voxconverse_test_wav/audio/ifwki.wav',\n",
       " '/home/DATA/amit_kesari/downloaded-big-datasets/voxconverse_test_wav/audio/iiprr.wav',\n",
       " '/home/DATA/amit_kesari/downloaded-big-datasets/voxconverse_test_wav/audio/ikhje.wav',\n",
       " '/home/DATA/amit_kesari/downloaded-big-datasets/voxconverse_test_wav/audio/iowob.wav',\n",
       " '/home/DATA/amit_kesari/downloaded-big-datasets/voxconverse_test_wav/audio/isrps.wav',\n",
       " '/home/DATA/amit_kesari/downloaded-big-datasets/voxconverse_test_wav/audio/isxwc.wav',\n",
       " '/home/DATA/amit_kesari/downloaded-big-datasets/voxconverse_test_wav/audio/jbowg.wav',\n",
       " '/home/DATA/amit_kesari/downloaded-big-datasets/voxconverse_test_wav/audio/jdrwl.wav',\n",
       " '/home/DATA/amit_kesari/downloaded-big-datasets/voxconverse_test_wav/audio/jeymh.wav',\n",
       " '/home/DATA/amit_kesari/downloaded-big-datasets/voxconverse_test_wav/audio/jgiyq.wav',\n",
       " '/home/DATA/amit_kesari/downloaded-big-datasets/voxconverse_test_wav/audio/jjkrt.wav',\n",
       " '/home/DATA/amit_kesari/downloaded-big-datasets/voxconverse_test_wav/audio/jjvkx.wav',\n",
       " '/home/DATA/amit_kesari/downloaded-big-datasets/voxconverse_test_wav/audio/jrfaz.wav',\n",
       " '/home/DATA/amit_kesari/downloaded-big-datasets/voxconverse_test_wav/audio/jsbdo.wav',\n",
       " '/home/DATA/amit_kesari/downloaded-big-datasets/voxconverse_test_wav/audio/jsymf.wav',\n",
       " '/home/DATA/amit_kesari/downloaded-big-datasets/voxconverse_test_wav/audio/jttar.wav',\n",
       " '/home/DATA/amit_kesari/downloaded-big-datasets/voxconverse_test_wav/audio/jwggf.wav',\n",
       " '/home/DATA/amit_kesari/downloaded-big-datasets/voxconverse_test_wav/audio/jxpom.wav',\n",
       " '/home/DATA/amit_kesari/downloaded-big-datasets/voxconverse_test_wav/audio/jxydp.wav',\n",
       " '/home/DATA/amit_kesari/downloaded-big-datasets/voxconverse_test_wav/audio/jzkzt.wav',\n",
       " '/home/DATA/amit_kesari/downloaded-big-datasets/voxconverse_test_wav/audio/kajfh.wav',\n",
       " '/home/DATA/amit_kesari/downloaded-big-datasets/voxconverse_test_wav/audio/kgjaa.wav',\n",
       " '/home/DATA/amit_kesari/downloaded-big-datasets/voxconverse_test_wav/audio/kmjvh.wav',\n",
       " '/home/DATA/amit_kesari/downloaded-big-datasets/voxconverse_test_wav/audio/kmunk.wav',\n",
       " '/home/DATA/amit_kesari/downloaded-big-datasets/voxconverse_test_wav/audio/kpjud.wav',\n",
       " '/home/DATA/amit_kesari/downloaded-big-datasets/voxconverse_test_wav/audio/ktvto.wav',\n",
       " '/home/DATA/amit_kesari/downloaded-big-datasets/voxconverse_test_wav/audio/kvkje.wav',\n",
       " '/home/DATA/amit_kesari/downloaded-big-datasets/voxconverse_test_wav/audio/kzmyi.wav',\n",
       " '/home/DATA/amit_kesari/downloaded-big-datasets/voxconverse_test_wav/audio/laoyl.wav',\n",
       " '/home/DATA/amit_kesari/downloaded-big-datasets/voxconverse_test_wav/audio/lbfnx.wav',\n",
       " '/home/DATA/amit_kesari/downloaded-big-datasets/voxconverse_test_wav/audio/ledhe.wav',\n",
       " '/home/DATA/amit_kesari/downloaded-big-datasets/voxconverse_test_wav/audio/leneg.wav',\n",
       " '/home/DATA/amit_kesari/downloaded-big-datasets/voxconverse_test_wav/audio/lhuly.wav',\n",
       " '/home/DATA/amit_kesari/downloaded-big-datasets/voxconverse_test_wav/audio/lilfy.wav',\n",
       " '/home/DATA/amit_kesari/downloaded-big-datasets/voxconverse_test_wav/audio/ljpes.wav',\n",
       " '/home/DATA/amit_kesari/downloaded-big-datasets/voxconverse_test_wav/audio/lkikz.wav',\n",
       " '/home/DATA/amit_kesari/downloaded-big-datasets/voxconverse_test_wav/audio/lpola.wav',\n",
       " '/home/DATA/amit_kesari/downloaded-big-datasets/voxconverse_test_wav/audio/lscfc.wav',\n",
       " '/home/DATA/amit_kesari/downloaded-big-datasets/voxconverse_test_wav/audio/ltgmz.wav',\n",
       " '/home/DATA/amit_kesari/downloaded-big-datasets/voxconverse_test_wav/audio/lubpm.wav',\n",
       " '/home/DATA/amit_kesari/downloaded-big-datasets/voxconverse_test_wav/audio/luobn.wav',\n",
       " '/home/DATA/amit_kesari/downloaded-big-datasets/voxconverse_test_wav/audio/mbzht.wav',\n",
       " '/home/DATA/amit_kesari/downloaded-big-datasets/voxconverse_test_wav/audio/mclsr.wav',\n",
       " '/home/DATA/amit_kesari/downloaded-big-datasets/voxconverse_test_wav/audio/mhwyr.wav',\n",
       " '/home/DATA/amit_kesari/downloaded-big-datasets/voxconverse_test_wav/audio/mjmgr.wav',\n",
       " '/home/DATA/amit_kesari/downloaded-big-datasets/voxconverse_test_wav/audio/mkhie.wav',\n",
       " '/home/DATA/amit_kesari/downloaded-big-datasets/voxconverse_test_wav/audio/mqtep.wav',\n",
       " '/home/DATA/amit_kesari/downloaded-big-datasets/voxconverse_test_wav/audio/msbyq.wav',\n",
       " '/home/DATA/amit_kesari/downloaded-big-datasets/voxconverse_test_wav/audio/mupzb.wav',\n",
       " '/home/DATA/amit_kesari/downloaded-big-datasets/voxconverse_test_wav/audio/mxdpo.wav',\n",
       " '/home/DATA/amit_kesari/downloaded-big-datasets/voxconverse_test_wav/audio/mxduo.wav',\n",
       " '/home/DATA/amit_kesari/downloaded-big-datasets/voxconverse_test_wav/audio/myjoe.wav',\n",
       " '/home/DATA/amit_kesari/downloaded-big-datasets/voxconverse_test_wav/audio/neiye.wav',\n",
       " '/home/DATA/amit_kesari/downloaded-big-datasets/voxconverse_test_wav/audio/nitgx.wav',\n",
       " '/home/DATA/amit_kesari/downloaded-big-datasets/voxconverse_test_wav/audio/nkqzr.wav',\n",
       " '/home/DATA/amit_kesari/downloaded-big-datasets/voxconverse_test_wav/audio/nlvdr.wav',\n",
       " '/home/DATA/amit_kesari/downloaded-big-datasets/voxconverse_test_wav/audio/nprxc.wav',\n",
       " '/home/DATA/amit_kesari/downloaded-big-datasets/voxconverse_test_wav/audio/nqcpi.wav',\n",
       " '/home/DATA/amit_kesari/downloaded-big-datasets/voxconverse_test_wav/audio/nqyqm.wav',\n",
       " '/home/DATA/amit_kesari/downloaded-big-datasets/voxconverse_test_wav/audio/ocfop.wav',\n",
       " '/home/DATA/amit_kesari/downloaded-big-datasets/voxconverse_test_wav/audio/ofbxh.wav',\n",
       " '/home/DATA/amit_kesari/downloaded-big-datasets/voxconverse_test_wav/audio/olzkb.wav',\n",
       " '/home/DATA/amit_kesari/downloaded-big-datasets/voxconverse_test_wav/audio/ooxlj.wav',\n",
       " '/home/DATA/amit_kesari/downloaded-big-datasets/voxconverse_test_wav/audio/optsn.wav',\n",
       " '/home/DATA/amit_kesari/downloaded-big-datasets/voxconverse_test_wav/audio/oqwpd.wav',\n",
       " '/home/DATA/amit_kesari/downloaded-big-datasets/voxconverse_test_wav/audio/otmpf.wav',\n",
       " '/home/DATA/amit_kesari/downloaded-big-datasets/voxconverse_test_wav/audio/oubab.wav',\n",
       " '/home/DATA/amit_kesari/downloaded-big-datasets/voxconverse_test_wav/audio/ouvtt.wav',\n",
       " '/home/DATA/amit_kesari/downloaded-big-datasets/voxconverse_test_wav/audio/pccww.wav',\n",
       " '/home/DATA/amit_kesari/downloaded-big-datasets/voxconverse_test_wav/audio/pgtkk.wav',\n",
       " '/home/DATA/amit_kesari/downloaded-big-datasets/voxconverse_test_wav/audio/pkwrt.wav',\n",
       " '/home/DATA/amit_kesari/downloaded-big-datasets/voxconverse_test_wav/audio/poucc.wav',\n",
       " '/home/DATA/amit_kesari/downloaded-big-datasets/voxconverse_test_wav/audio/ppexo.wav',\n",
       " '/home/DATA/amit_kesari/downloaded-big-datasets/voxconverse_test_wav/audio/ptses.wav',\n",
       " '/home/DATA/amit_kesari/downloaded-big-datasets/voxconverse_test_wav/audio/pwnsw.wav',\n",
       " '/home/DATA/amit_kesari/downloaded-big-datasets/voxconverse_test_wav/audio/pxqme.wav',\n",
       " '/home/DATA/amit_kesari/downloaded-big-datasets/voxconverse_test_wav/audio/pzxit.wav',\n",
       " '/home/DATA/amit_kesari/downloaded-big-datasets/voxconverse_test_wav/audio/qadia.wav',\n",
       " '/home/DATA/amit_kesari/downloaded-big-datasets/voxconverse_test_wav/audio/qajyo.wav',\n",
       " '/home/DATA/amit_kesari/downloaded-big-datasets/voxconverse_test_wav/audio/qeejz.wav',\n",
       " '/home/DATA/amit_kesari/downloaded-big-datasets/voxconverse_test_wav/audio/qlrry.wav',\n",
       " '/home/DATA/amit_kesari/downloaded-big-datasets/voxconverse_test_wav/audio/qoarn.wav',\n",
       " '/home/DATA/amit_kesari/downloaded-big-datasets/voxconverse_test_wav/audio/qwepo.wav',\n",
       " '/home/DATA/amit_kesari/downloaded-big-datasets/voxconverse_test_wav/audio/qxana.wav',\n",
       " '/home/DATA/amit_kesari/downloaded-big-datasets/voxconverse_test_wav/audio/ralnu.wav',\n",
       " '/home/DATA/amit_kesari/downloaded-big-datasets/voxconverse_test_wav/audio/rarij.wav',\n",
       " '/home/DATA/amit_kesari/downloaded-big-datasets/voxconverse_test_wav/audio/rmvsh.wav',\n",
       " '/home/DATA/amit_kesari/downloaded-big-datasets/voxconverse_test_wav/audio/rpkso.wav',\n",
       " '/home/DATA/amit_kesari/downloaded-big-datasets/voxconverse_test_wav/audio/rsypp.wav',\n",
       " '/home/DATA/amit_kesari/downloaded-big-datasets/voxconverse_test_wav/audio/rxulz.wav',\n",
       " '/home/DATA/amit_kesari/downloaded-big-datasets/voxconverse_test_wav/audio/ryken.wav',\n",
       " '/home/DATA/amit_kesari/downloaded-big-datasets/voxconverse_test_wav/audio/sbrmv.wav',\n",
       " '/home/DATA/amit_kesari/downloaded-big-datasets/voxconverse_test_wav/audio/sebyw.wav',\n",
       " '/home/DATA/amit_kesari/downloaded-big-datasets/voxconverse_test_wav/audio/sexgc.wav',\n",
       " '/home/DATA/amit_kesari/downloaded-big-datasets/voxconverse_test_wav/audio/sfdvy.wav',\n",
       " '/home/DATA/amit_kesari/downloaded-big-datasets/voxconverse_test_wav/audio/svxzm.wav',\n",
       " '/home/DATA/amit_kesari/downloaded-big-datasets/voxconverse_test_wav/audio/swbnm.wav',\n",
       " '/home/DATA/amit_kesari/downloaded-big-datasets/voxconverse_test_wav/audio/sxqvt.wav',\n",
       " '/home/DATA/amit_kesari/downloaded-big-datasets/voxconverse_test_wav/audio/tbjqx.wav',\n",
       " '/home/DATA/amit_kesari/downloaded-big-datasets/voxconverse_test_wav/audio/thnuq.wav',\n",
       " '/home/DATA/amit_kesari/downloaded-big-datasets/voxconverse_test_wav/audio/tiido.wav',\n",
       " '/home/DATA/amit_kesari/downloaded-big-datasets/voxconverse_test_wav/audio/tkhgs.wav',\n",
       " '/home/DATA/amit_kesari/downloaded-big-datasets/voxconverse_test_wav/audio/tkybe.wav',\n",
       " '/home/DATA/amit_kesari/downloaded-big-datasets/voxconverse_test_wav/audio/tnjoh.wav',\n",
       " '/home/DATA/amit_kesari/downloaded-big-datasets/voxconverse_test_wav/audio/tpnyf.wav',\n",
       " '/home/DATA/amit_kesari/downloaded-big-datasets/voxconverse_test_wav/audio/tpslg.wav',\n",
       " '/home/DATA/amit_kesari/downloaded-big-datasets/voxconverse_test_wav/audio/tvtoe.wav',\n",
       " '/home/DATA/amit_kesari/downloaded-big-datasets/voxconverse_test_wav/audio/uedkc.wav',\n",
       " '/home/DATA/amit_kesari/downloaded-big-datasets/voxconverse_test_wav/audio/uevxo.wav',\n",
       " '/home/DATA/amit_kesari/downloaded-big-datasets/voxconverse_test_wav/audio/uhfrw.wav',\n",
       " '/home/DATA/amit_kesari/downloaded-big-datasets/voxconverse_test_wav/audio/uicid.wav',\n",
       " '/home/DATA/amit_kesari/downloaded-big-datasets/voxconverse_test_wav/audio/upshw.wav',\n",
       " '/home/DATA/amit_kesari/downloaded-big-datasets/voxconverse_test_wav/audio/uqxlg.wav',\n",
       " '/home/DATA/amit_kesari/downloaded-big-datasets/voxconverse_test_wav/audio/usqam.wav',\n",
       " '/home/DATA/amit_kesari/downloaded-big-datasets/voxconverse_test_wav/audio/utial.wav',\n",
       " '/home/DATA/amit_kesari/downloaded-big-datasets/voxconverse_test_wav/audio/vdlvr.wav',\n",
       " '/home/DATA/amit_kesari/downloaded-big-datasets/voxconverse_test_wav/audio/vgaez.wav',\n",
       " '/home/DATA/amit_kesari/downloaded-big-datasets/voxconverse_test_wav/audio/vgevv.wav',\n",
       " '/home/DATA/amit_kesari/downloaded-big-datasets/voxconverse_test_wav/audio/vncid.wav',\n",
       " '/home/DATA/amit_kesari/downloaded-big-datasets/voxconverse_test_wav/audio/vtzqw.wav',\n",
       " '/home/DATA/amit_kesari/downloaded-big-datasets/voxconverse_test_wav/audio/vuewy.wav',\n",
       " '/home/DATA/amit_kesari/downloaded-big-datasets/voxconverse_test_wav/audio/vylyk.wav',\n",
       " '/home/DATA/amit_kesari/downloaded-big-datasets/voxconverse_test_wav/audio/vzuru.wav',\n",
       " '/home/DATA/amit_kesari/downloaded-big-datasets/voxconverse_test_wav/audio/wcxfk.wav',\n",
       " '/home/DATA/amit_kesari/downloaded-big-datasets/voxconverse_test_wav/audio/wdvva.wav',\n",
       " '/home/DATA/amit_kesari/downloaded-big-datasets/voxconverse_test_wav/audio/wemos.wav',\n",
       " '/home/DATA/amit_kesari/downloaded-big-datasets/voxconverse_test_wav/audio/wibky.wav',\n",
       " '/home/DATA/amit_kesari/downloaded-big-datasets/voxconverse_test_wav/audio/wlfsf.wav',\n",
       " '/home/DATA/amit_kesari/downloaded-big-datasets/voxconverse_test_wav/audio/wprog.wav',\n",
       " '/home/DATA/amit_kesari/downloaded-big-datasets/voxconverse_test_wav/audio/wwvcs.wav',\n",
       " '/home/DATA/amit_kesari/downloaded-big-datasets/voxconverse_test_wav/audio/wwzsk.wav',\n",
       " '/home/DATA/amit_kesari/downloaded-big-datasets/voxconverse_test_wav/audio/xffsa.wav',\n",
       " '/home/DATA/amit_kesari/downloaded-big-datasets/voxconverse_test_wav/audio/xggbk.wav',\n",
       " '/home/DATA/amit_kesari/downloaded-big-datasets/voxconverse_test_wav/audio/xkgos.wav',\n",
       " '/home/DATA/amit_kesari/downloaded-big-datasets/voxconverse_test_wav/audio/xkmqx.wav',\n",
       " '/home/DATA/amit_kesari/downloaded-big-datasets/voxconverse_test_wav/audio/xlsme.wav',\n",
       " '/home/DATA/amit_kesari/downloaded-big-datasets/voxconverse_test_wav/audio/xlyov.wav',\n",
       " '/home/DATA/amit_kesari/downloaded-big-datasets/voxconverse_test_wav/audio/xmyyy.wav',\n",
       " '/home/DATA/amit_kesari/downloaded-big-datasets/voxconverse_test_wav/audio/xqxkt.wav',\n",
       " '/home/DATA/amit_kesari/downloaded-big-datasets/voxconverse_test_wav/audio/xtdcl.wav',\n",
       " '/home/DATA/amit_kesari/downloaded-big-datasets/voxconverse_test_wav/audio/xtzoq.wav',\n",
       " '/home/DATA/amit_kesari/downloaded-big-datasets/voxconverse_test_wav/audio/xvxwv.wav',\n",
       " '/home/DATA/amit_kesari/downloaded-big-datasets/voxconverse_test_wav/audio/ybhwz.wav',\n",
       " '/home/DATA/amit_kesari/downloaded-big-datasets/voxconverse_test_wav/audio/ygrip.wav',\n",
       " '/home/DATA/amit_kesari/downloaded-big-datasets/voxconverse_test_wav/audio/ylgug.wav',\n",
       " '/home/DATA/amit_kesari/downloaded-big-datasets/voxconverse_test_wav/audio/ylzez.wav',\n",
       " '/home/DATA/amit_kesari/downloaded-big-datasets/voxconverse_test_wav/audio/ytmef.wav',\n",
       " '/home/DATA/amit_kesari/downloaded-big-datasets/voxconverse_test_wav/audio/ytula.wav',\n",
       " '/home/DATA/amit_kesari/downloaded-big-datasets/voxconverse_test_wav/audio/yukhy.wav',\n",
       " '/home/DATA/amit_kesari/downloaded-big-datasets/voxconverse_test_wav/audio/yzvon.wav',\n",
       " '/home/DATA/amit_kesari/downloaded-big-datasets/voxconverse_test_wav/audio/zedtj.wav',\n",
       " '/home/DATA/amit_kesari/downloaded-big-datasets/voxconverse_test_wav/audio/zehzu.wav',\n",
       " '/home/DATA/amit_kesari/downloaded-big-datasets/voxconverse_test_wav/audio/zfzlc.wav',\n",
       " '/home/DATA/amit_kesari/downloaded-big-datasets/voxconverse_test_wav/audio/zowse.wav',\n",
       " '/home/DATA/amit_kesari/downloaded-big-datasets/voxconverse_test_wav/audio/zqidv.wav',\n",
       " '/home/DATA/amit_kesari/downloaded-big-datasets/voxconverse_test_wav/audio/zsgto.wav',\n",
       " '/home/DATA/amit_kesari/downloaded-big-datasets/voxconverse_test_wav/audio/zzsba.wav',\n",
       " '/home/DATA/amit_kesari/downloaded-big-datasets/voxconverse_test_wav/audio/zztbo.wav',\n",
       " '/home/DATA/amit_kesari/downloaded-big-datasets/voxconverse_test_wav/audio/zzyyo.wav']"
      ]
     },
     "execution_count": 9,
     "metadata": {},
     "output_type": "execute_result"
    }
   ],
   "source": [
    "ROOT = os.getcwd()\n",
    "data_dir = os.path.join(ROOT,'data/voxconverse')\n",
    "os.makedirs(data_dir, exist_ok=True)\n",
    "print(\"ROOT: \", ROOT)\n",
    "print(\"Data Directory: \", data_dir)\n",
    "      \n",
    "audio_filepath = '/home/DATA/amit_kesari/downloaded-big-datasets/voxconverse_test_wav/audio'\n",
    "groundtruth_rttm_filepath = os.path.join(data_dir, 'rttms')\n",
    "print(groundtruth_rttm_filepath)\n",
    "# has a train,dev,test subdir\n",
    "\n",
    "if not os.path.exists(audio_filepath):\n",
    "    print(\"Please give correct audio location. No \", audio_filepath)\n",
    "if not os.path.exists(groundtruth_rttm_filepath):\n",
    "    print(\"Please give correct rttm groundtruth location. No \", groundtruth_rttm_filepath)\n",
    "\n",
    "    \n",
    "test_type = 'test'\n",
    "groundtruth_rttm_list = []\n",
    "if test_type == 'test':\n",
    "    groundtruth_rttm_list = glob.glob(groundtruth_rttm_filepath + '/test/*.rttm', recursive=True)\n",
    "    for test_path in groundtruth_rttm_list:\n",
    "        print(test_path)\n",
    "\n",
    "!find {audio_filepath} -iname \"*.wav\" > data/voxconverse/train_all.txt\n",
    "# !cat {data_dir}/voxconverse/train_all.txt\n",
    "# DEMO_FILE = {'uri': 'ES2004a.Mix-Headset', 'audio': 'ES2004a.Mix-Headset.wav'}\n",
    "\n",
    "\n",
    "audio_list = []\n",
    "with open(data_dir+'/train_all.txt') as data:\n",
    "    audio_list.append(data.read().split())\n",
    "audio_list = audio_list[0]\n",
    "audio_list"
   ]
  },
  {
   "cell_type": "code",
   "execution_count": 10,
   "metadata": {},
   "outputs": [
    {
     "name": "stdout",
     "output_type": "stream",
     "text": [
      "AudioMetaData(sample_rate=16000, num_frames=16789675, num_channels=1, bits_per_sample=16, encoding=PCM_S)\n"
     ]
    }
   ],
   "source": [
    "\n",
    "def create_input_manifest(\n",
    "    audio_filepath,\n",
    "    rttm_filepath,\n",
    "    offset=0,\n",
    "    duration=None,\n",
    "    label='infer',\n",
    "    text='-',\n",
    "    num_speakers=None,\n",
    "    uem_filepath=None,\n",
    "    manifest_filepath='/data/input_manifest.json' \n",
    "):\n",
    "    # Create a manifest for input with below format. \n",
    "    # {'audio_filepath': /path/to/audio_file, 'offset': 0, 'duration':None, 'label': 'infer', 'text': '-', \n",
    "    # 'num_speakers': None, 'rttm_filepath': /path/to/rttm/file, 'uem_filepath'='/path/to/uem/filepath'}\n",
    "    # if you would like to evaluate with known number of speakers pass the value else None. \n",
    "    # If you would like to score the system with known rttms then that should be passed as well, else None\n",
    "    \n",
    "    import json\n",
    "    meta = {\n",
    "        'audio_filepath': audio_filepath, \n",
    "        'offset': 0, \n",
    "        'duration':None, \n",
    "        'label': 'infer', \n",
    "        'text': '-', \n",
    "        'num_speakers': num_speakers, \n",
    "        'rttm_filepath': rttm_filepath, \n",
    "        'uem_filepath' : None\n",
    "    }\n",
    "    with open(manifest_filepath,'w') as fp:\n",
    "        json.dump(meta,fp)\n",
    "        fp.write('\\n')\n",
    "\n",
    "#     dataframe = pd.DataFrame.from_dict(meta, orient='index')\n",
    "#     print(\"Manifest: \", meta)\n",
    "\n",
    "    \n",
    "def convert_ami_base():\n",
    "    # Eg: TS3003a.rttm -> TS3003a.Mix-Headset.rttm\n",
    "    groundtruth_rttm_list = glob.glob(groundtruth_rttm_filepath + '/test/*.rttm', recursive=True)\n",
    "    for test_path in groundtruth_rttm_list:\n",
    "        new_test_path = test_path[:-5]+\".Mix-Headset.rttm\"\n",
    "        !mv {test_path} {new_test_path}\n",
    "        print(\"new \", new_test_path)\n",
    "        \n",
    "\n",
    "def correct_sample_rate(audio_path, show_display=False):\n",
    "    \"\"\"\n",
    "    Corrects the sample rate and channels of audio.\n",
    "    Display shows audio file but takes time to load\n",
    "    \n",
    "    SAMPLE_RATE = 16000\n",
    "    \"\"\"\n",
    "    SAMPLE_RATE = 16000\n",
    "    waveform, sr = torchaudio.load(audio_path)\n",
    "    metadata = torchaudio.info(audio_path)\n",
    "\n",
    "    print(metadata)\n",
    "\n",
    "    waveform = waveform.mean(dim=0) # if there are multiple channels, average them to single channel\n",
    "    waveform = waveform.reshape(1, waveform.shape[0])\n",
    "    if sr != SAMPLE_RATE:\n",
    "        resampler = torchaudio.transforms.Resample(sr, SAMPLE_RATE)\n",
    "        waveform_resampled = resampler(waveform)\n",
    "        waveform = waveform_resampled\n",
    "\n",
    "    torchaudio.save(audio_path, waveform, SAMPLE_RATE, bits_per_sample=16, encoding=\"PCM_S\")\n",
    "\n",
    "    metadata = torchaudio.info(audio_path)\n",
    "    if show_display:\n",
    "        # TODO: display_waveform(signal)\n",
    "        print(f\"SR: {SAMPLE_RATE}Hz, {waveform}\")\n",
    "        print(\"Metadata: \", metadata)\n",
    "        display(Audio(audio_path,rate=SAMPLE_RATE, autoplay=True))\n",
    "\n",
    "\n",
    "        \n",
    "## RUN ONLY ONCE! Convert rttm to same AMI base name\n",
    "# convert_ami_base()\n",
    "\n",
    "## Display audio only for visualisation. Add in loop\n",
    "correct_sample_rate(ROOT+'/data/an4_diarize_test.wav', show_display=False)"
   ]
  },
  {
   "cell_type": "code",
   "execution_count": 11,
   "metadata": {
    "scrolled": true
   },
   "outputs": [
    {
     "name": "stdout",
     "output_type": "stream",
     "text": [
      "name: ClusterDiarizer\n",
      "num_workers: 4\n",
      "sample_rate: 16000\n",
      "batch_size: 64\n",
      "diarizer:\n",
      "  manifest_filepath: ???\n",
      "  out_dir: ???\n",
      "  oracle_vad: false\n",
      "  collar: 0.25\n",
      "  ignore_overlap: true\n",
      "  vad:\n",
      "    model_path: null\n",
      "    external_vad_manifest: null\n",
      "    parameters:\n",
      "      window_length_in_sec: 0.15\n",
      "      shift_length_in_sec: 0.01\n",
      "      smoothing: median\n",
      "      overlap: 0.875\n",
      "      onset: 0.4\n",
      "      offset: 0.7\n",
      "      pad_onset: 0.05\n",
      "      pad_offset: -0.1\n",
      "      min_duration_on: 0.2\n",
      "      min_duration_off: 0.2\n",
      "      filter_speech_first: true\n",
      "  speaker_embeddings:\n",
      "    model_path: ???\n",
      "    parameters:\n",
      "      window_length_in_sec: 1.5\n",
      "      shift_length_in_sec: 0.75\n",
      "      multiscale_weights: null\n",
      "      save_embeddings: false\n",
      "  clustering:\n",
      "    parameters:\n",
      "      oracle_num_speakers: false\n",
      "      max_num_speakers: 20\n",
      "      enhanced_count_thres: 80\n",
      "      max_rp_threshold: 0.25\n",
      "      sparse_search_volume: 30\n",
      "      maj_vote_spk_count: false\n",
      "  asr:\n",
      "    model_path: ???\n",
      "    parameters:\n",
      "      asr_based_vad: false\n",
      "      asr_based_vad_threshold: 0.05\n",
      "      asr_batch_size: null\n",
      "      lenient_overlap_WDER: true\n",
      "      decoder_delay_in_sec: null\n",
      "      word_ts_anchor_offset: null\n",
      "      word_ts_anchor_pos: start\n",
      "      fix_word_ts_with_VAD: false\n",
      "      colored_text: false\n",
      "      print_time: true\n",
      "      break_lines: false\n",
      "    ctc_decoder_parameters:\n",
      "      pretrained_language_model: null\n",
      "      beam_width: 32\n",
      "      alpha: 0.5\n",
      "      beta: 2.5\n",
      "    realigning_lm_parameters:\n",
      "      arpa_language_model: null\n",
      "      min_number_of_words: 3\n",
      "      max_number_of_words: 10\n",
      "      logprob_diff_threshold: 1.2\n",
      "\n",
      "voxconverse_label:  aepyx\n",
      "num_speakers:  4\n",
      "[NeMo I 2022-07-25 20:36:25 speaker_utils:82] Number of files to diarize: 1\n",
      "[NeMo I 2022-07-25 20:36:25 cloud:56] Found existing object /root/.cache/torch/NeMo/NeMo_1.10.0/QuartzNet15x5Base-En/2b066be39e9294d7100fb176ec817722/QuartzNet15x5Base-En.nemo.\n",
      "[NeMo I 2022-07-25 20:36:25 cloud:62] Re-using file from: /root/.cache/torch/NeMo/NeMo_1.10.0/QuartzNet15x5Base-En/2b066be39e9294d7100fb176ec817722/QuartzNet15x5Base-En.nemo\n",
      "[NeMo I 2022-07-25 20:36:25 common:789] Instantiating model from pre-trained checkpoint\n",
      "[NeMo I 2022-07-25 20:36:28 features:200] PADDING: 16\n"
     ]
    },
    {
     "name": "stderr",
     "output_type": "stream",
     "text": [
      "[NeMo W 2022-07-25 20:36:29 nemo_logging:349] /root/anaconda3/lib/python3.9/site-packages/torchmetrics/utilities/prints.py:36: UserWarning: Torchmetrics v0.9 introduced a new argument class property called `full_state_update` that has\n",
      "                    not been set for this class (WER). The property determines if `update` by\n",
      "                    default needs access to the full metric state. If this is not the case, significant speedups can be\n",
      "                    achieved and we recommend setting this to `False`.\n",
      "                    We provide an checking function\n",
      "                    `from torchmetrics.utilities import check_forward_no_full_state`\n",
      "                    that can be used to check if the `full_state_update=True` (old and potential slower behaviour,\n",
      "                    default for now) or if `full_state_update=False` can be used safely.\n",
      "                    \n",
      "      warnings.warn(*args, **kwargs)\n",
      "    \n"
     ]
    },
    {
     "name": "stdout",
     "output_type": "stream",
     "text": [
      "[NeMo I 2022-07-25 20:36:42 save_restore_connector:243] Model EncDecCTCModel was successfully restored from /root/.cache/torch/NeMo/NeMo_1.10.0/QuartzNet15x5Base-En/2b066be39e9294d7100fb176ec817722/QuartzNet15x5Base-En.nemo.\n"
     ]
    },
    {
     "name": "stderr",
     "output_type": "stream",
     "text": [
      "[NeMo W 2022-07-25 20:36:42 nemo_logging:349] /root/anaconda3/lib/python3.9/site-packages/torchmetrics/utilities/prints.py:36: UserWarning: Torchmetrics v0.9 introduced a new argument class property called `full_state_update` that has\n",
      "                    not been set for this class (WER_TS). The property determines if `update` by\n",
      "                    default needs access to the full metric state. If this is not the case, significant speedups can be\n",
      "                    achieved and we recommend setting this to `False`.\n",
      "                    We provide an checking function\n",
      "                    `from torchmetrics.utilities import check_forward_no_full_state`\n",
      "                    that can be used to check if the `full_state_update=True` (old and potential slower behaviour,\n",
      "                    default for now) or if `full_state_update=False` can be used safely.\n",
      "                    \n",
      "      warnings.warn(*args, **kwargs)\n",
      "    \n"
     ]
    },
    {
     "data": {
      "application/vnd.jupyter.widget-view+json": {
       "model_id": "09bb1147467c444fb8fc5daabc976468",
       "version_major": 2,
       "version_minor": 0
      },
      "text/plain": [
       "Transcribing:   0%|          | 0/1 [00:00<?, ?it/s]"
      ]
     },
     "metadata": {},
     "output_type": "display_data"
    },
    {
     "name": "stdout",
     "output_type": "stream",
     "text": [
      "[NeMo I 2022-07-25 20:36:43 speaker_utils:82] Number of files to diarize: 1\n",
      "[NeMo I 2022-07-25 20:36:43 clustering_diarizer:153] Loading pretrained titanet_large model from NGC\n",
      "[NeMo I 2022-07-25 20:36:43 cloud:56] Found existing object /root/.cache/torch/NeMo/NeMo_1.10.0/titanet-l/492c0ab8416139171dc18c21879a9e45/titanet-l.nemo.\n",
      "[NeMo I 2022-07-25 20:36:43 cloud:62] Re-using file from: /root/.cache/torch/NeMo/NeMo_1.10.0/titanet-l/492c0ab8416139171dc18c21879a9e45/titanet-l.nemo\n",
      "[NeMo I 2022-07-25 20:36:43 common:789] Instantiating model from pre-trained checkpoint\n"
     ]
    },
    {
     "name": "stderr",
     "output_type": "stream",
     "text": [
      "[NeMo W 2022-07-25 20:36:44 modelPT:148] If you intend to do training or fine-tuning, please call the ModelPT.setup_training_data() method and provide a valid configuration file to setup the train data loader.\n",
      "    Train config : \n",
      "    manifest_filepath: /manifests/combined_fisher_swbd_voxceleb12_librispeech/train.json\n",
      "    sample_rate: 16000\n",
      "    labels: null\n",
      "    batch_size: 64\n",
      "    shuffle: true\n",
      "    time_length: 3\n",
      "    is_tarred: false\n",
      "    tarred_audio_filepaths: null\n",
      "    tarred_shard_strategy: scatter\n",
      "    augmentor:\n",
      "      noise:\n",
      "        manifest_path: /manifests/noise/rir_noise_manifest.json\n",
      "        prob: 0.5\n",
      "        min_snr_db: 0\n",
      "        max_snr_db: 15\n",
      "      speed:\n",
      "        prob: 0.5\n",
      "        sr: 16000\n",
      "        resample_type: kaiser_fast\n",
      "        min_speed_rate: 0.95\n",
      "        max_speed_rate: 1.05\n",
      "    num_workers: 15\n",
      "    pin_memory: true\n",
      "    \n",
      "[NeMo W 2022-07-25 20:36:44 modelPT:155] If you intend to do validation, please call the ModelPT.setup_validation_data() or ModelPT.setup_multiple_validation_data() method and provide a valid configuration file to setup the validation data loader(s). \n",
      "    Validation config : \n",
      "    manifest_filepath: /manifests/combined_fisher_swbd_voxceleb12_librispeech/dev.json\n",
      "    sample_rate: 16000\n",
      "    labels: null\n",
      "    batch_size: 128\n",
      "    shuffle: false\n",
      "    time_length: 3\n",
      "    num_workers: 15\n",
      "    pin_memory: true\n",
      "    \n"
     ]
    },
    {
     "name": "stdout",
     "output_type": "stream",
     "text": [
      "[NeMo I 2022-07-25 20:36:44 features:200] PADDING: 16\n",
      "[NeMo I 2022-07-25 20:36:44 label_models:100] loss is Angular Softmax\n"
     ]
    },
    {
     "name": "stderr",
     "output_type": "stream",
     "text": [
      "[NeMo W 2022-07-25 20:36:44 nemo_logging:349] /root/anaconda3/lib/python3.9/site-packages/torchmetrics/utilities/prints.py:36: UserWarning: Torchmetrics v0.9 introduced a new argument class property called `full_state_update` that has\n",
      "                    not been set for this class (TopKClassificationAccuracy). The property determines if `update` by\n",
      "                    default needs access to the full metric state. If this is not the case, significant speedups can be\n",
      "                    achieved and we recommend setting this to `False`.\n",
      "                    We provide an checking function\n",
      "                    `from torchmetrics.utilities import check_forward_no_full_state`\n",
      "                    that can be used to check if the `full_state_update=True` (old and potential slower behaviour,\n",
      "                    default for now) or if `full_state_update=False` can be used safely.\n",
      "                    \n",
      "      warnings.warn(*args, **kwargs)\n",
      "    \n"
     ]
    },
    {
     "name": "stdout",
     "output_type": "stream",
     "text": [
      "[NeMo I 2022-07-25 20:36:44 save_restore_connector:243] Model EncDecSpeakerLabelModel was successfully restored from /root/.cache/torch/NeMo/NeMo_1.10.0/titanet-l/492c0ab8416139171dc18c21879a9e45/titanet-l.nemo.\n",
      "[NeMo I 2022-07-25 20:36:44 speaker_utils:82] Number of files to diarize: 1\n",
      "[NeMo I 2022-07-25 20:36:44 clustering_diarizer:271] Subsegmentation for embedding extraction: scale0, /home/DATA/amit_kesari/SD1/NeMo-ASR_Diar/data/voxconverse/speaker_outputs/subsegments_scale0.json\n",
      "[NeMo I 2022-07-25 20:36:44 clustering_diarizer:325] Extracting embeddings for Diarization\n",
      "[NeMo I 2022-07-25 20:36:44 collections:289] Filtered duration for loading collection is 0.000000.\n",
      "[NeMo I 2022-07-25 20:36:44 collections:293] # 294 files loaded accounting to # 1 labels\n"
     ]
    },
    {
     "name": "stderr",
     "output_type": "stream",
     "text": [
      "100%|██████████| 5/5 [00:01<00:00,  3.52it/s]\n",
      "100%|██████████| 1/1 [00:08<00:00,  8.76s/it]\n",
      "[NeMo W 2022-07-25 20:36:55 nemo_logging:349] /root/anaconda3/lib/python3.9/site-packages/pyannote/metrics/utils.py:200: UserWarning: 'uem' was approximated by the union of 'reference' and 'hypothesis' extents.\n",
      "      warnings.warn(\n",
      "    \n"
     ]
    },
    {
     "name": "stdout",
     "output_type": "stream",
     "text": [
      "[NeMo I 2022-07-25 20:36:55 speaker_utils:460] Cumulative Results for collar 0.25 sec and ignore_overlap True: \n",
      "     FA: 0.0770\t MISS 0.2172\t                 Diarization ER: 0.4687\t, Confusion ER:0.1745\n",
      "[NeMo I 2022-07-25 20:36:55 clustering_diarizer:444] Outputs are saved in /home/DATA/amit_kesari/SD1/NeMo-ASR_Diar/data/voxconverse directory\n",
      "\n",
      "\n",
      "Diar score:  (<pyannote.metrics.diarization.DiarizationErrorRate object at 0x7fa1408e0b20>, {'aepyx': {'speaker_0': 'spk01', 'speaker_1': 'spk03', 'speaker_2': 'spk02', 'speaker_3': 'spk00'}})\n",
      "Diarization error rate (DER) = 50.9%\n",
      "\n",
      "\n",
      "voxconverse_label:  aggyz\n",
      "num_speakers:  13\n",
      "[NeMo I 2022-07-25 20:36:55 speaker_utils:82] Number of files to diarize: 1\n",
      "[NeMo I 2022-07-25 20:36:55 cloud:56] Found existing object /root/.cache/torch/NeMo/NeMo_1.10.0/QuartzNet15x5Base-En/2b066be39e9294d7100fb176ec817722/QuartzNet15x5Base-En.nemo.\n",
      "[NeMo I 2022-07-25 20:36:55 cloud:62] Re-using file from: /root/.cache/torch/NeMo/NeMo_1.10.0/QuartzNet15x5Base-En/2b066be39e9294d7100fb176ec817722/QuartzNet15x5Base-En.nemo\n",
      "[NeMo I 2022-07-25 20:36:55 common:789] Instantiating model from pre-trained checkpoint\n",
      "[NeMo I 2022-07-25 20:36:56 features:200] PADDING: 16\n",
      "[NeMo I 2022-07-25 20:36:57 save_restore_connector:243] Model EncDecCTCModel was successfully restored from /root/.cache/torch/NeMo/NeMo_1.10.0/QuartzNet15x5Base-En/2b066be39e9294d7100fb176ec817722/QuartzNet15x5Base-En.nemo.\n"
     ]
    },
    {
     "data": {
      "application/vnd.jupyter.widget-view+json": {
       "model_id": "0a69f2608d1c4879bd6ca7f61ba98137",
       "version_major": 2,
       "version_minor": 0
      },
      "text/plain": [
       "Transcribing:   0%|          | 0/1 [00:00<?, ?it/s]"
      ]
     },
     "metadata": {},
     "output_type": "display_data"
    },
    {
     "name": "stdout",
     "output_type": "stream",
     "text": [
      "[NeMo I 2022-07-25 20:36:58 speaker_utils:82] Number of files to diarize: 1\n",
      "[NeMo I 2022-07-25 20:36:58 clustering_diarizer:153] Loading pretrained titanet_large model from NGC\n",
      "[NeMo I 2022-07-25 20:36:58 cloud:56] Found existing object /root/.cache/torch/NeMo/NeMo_1.10.0/titanet-l/492c0ab8416139171dc18c21879a9e45/titanet-l.nemo.\n",
      "[NeMo I 2022-07-25 20:36:58 cloud:62] Re-using file from: /root/.cache/torch/NeMo/NeMo_1.10.0/titanet-l/492c0ab8416139171dc18c21879a9e45/titanet-l.nemo\n",
      "[NeMo I 2022-07-25 20:36:58 common:789] Instantiating model from pre-trained checkpoint\n"
     ]
    },
    {
     "name": "stderr",
     "output_type": "stream",
     "text": [
      "[NeMo W 2022-07-25 20:36:59 modelPT:148] If you intend to do training or fine-tuning, please call the ModelPT.setup_training_data() method and provide a valid configuration file to setup the train data loader.\n",
      "    Train config : \n",
      "    manifest_filepath: /manifests/combined_fisher_swbd_voxceleb12_librispeech/train.json\n",
      "    sample_rate: 16000\n",
      "    labels: null\n",
      "    batch_size: 64\n",
      "    shuffle: true\n",
      "    time_length: 3\n",
      "    is_tarred: false\n",
      "    tarred_audio_filepaths: null\n",
      "    tarred_shard_strategy: scatter\n",
      "    augmentor:\n",
      "      noise:\n",
      "        manifest_path: /manifests/noise/rir_noise_manifest.json\n",
      "        prob: 0.5\n",
      "        min_snr_db: 0\n",
      "        max_snr_db: 15\n",
      "      speed:\n",
      "        prob: 0.5\n",
      "        sr: 16000\n",
      "        resample_type: kaiser_fast\n",
      "        min_speed_rate: 0.95\n",
      "        max_speed_rate: 1.05\n",
      "    num_workers: 15\n",
      "    pin_memory: true\n",
      "    \n",
      "[NeMo W 2022-07-25 20:36:59 modelPT:155] If you intend to do validation, please call the ModelPT.setup_validation_data() or ModelPT.setup_multiple_validation_data() method and provide a valid configuration file to setup the validation data loader(s). \n",
      "    Validation config : \n",
      "    manifest_filepath: /manifests/combined_fisher_swbd_voxceleb12_librispeech/dev.json\n",
      "    sample_rate: 16000\n",
      "    labels: null\n",
      "    batch_size: 128\n",
      "    shuffle: false\n",
      "    time_length: 3\n",
      "    num_workers: 15\n",
      "    pin_memory: true\n",
      "    \n"
     ]
    },
    {
     "name": "stdout",
     "output_type": "stream",
     "text": [
      "[NeMo I 2022-07-25 20:36:59 features:200] PADDING: 16\n",
      "[NeMo I 2022-07-25 20:37:00 label_models:100] loss is Angular Softmax\n",
      "[NeMo I 2022-07-25 20:37:00 save_restore_connector:243] Model EncDecSpeakerLabelModel was successfully restored from /root/.cache/torch/NeMo/NeMo_1.10.0/titanet-l/492c0ab8416139171dc18c21879a9e45/titanet-l.nemo.\n",
      "[NeMo I 2022-07-25 20:37:00 speaker_utils:82] Number of files to diarize: 1\n",
      "[NeMo I 2022-07-25 20:37:00 clustering_diarizer:271] Subsegmentation for embedding extraction: scale0, /home/DATA/amit_kesari/SD1/NeMo-ASR_Diar/data/voxconverse/speaker_outputs/subsegments_scale0.json\n",
      "[NeMo I 2022-07-25 20:37:00 clustering_diarizer:325] Extracting embeddings for Diarization\n",
      "[NeMo I 2022-07-25 20:37:00 collections:289] Filtered duration for loading collection is 0.000000.\n",
      "[NeMo I 2022-07-25 20:37:00 collections:293] # 515 files loaded accounting to # 1 labels\n"
     ]
    },
    {
     "name": "stderr",
     "output_type": "stream",
     "text": [
      "100%|██████████| 9/9 [00:01<00:00,  5.48it/s]\n",
      "100%|██████████| 1/1 [00:17<00:00, 17.19s/it]\n"
     ]
    },
    {
     "name": "stdout",
     "output_type": "stream",
     "text": [
      "[NeMo I 2022-07-25 20:37:19 speaker_utils:460] Cumulative Results for collar 0.25 sec and ignore_overlap True: \n",
      "     FA: 0.0169\t MISS 0.2359\t                 Diarization ER: 0.4047\t, Confusion ER:0.1519\n",
      "[NeMo I 2022-07-25 20:37:19 clustering_diarizer:444] Outputs are saved in /home/DATA/amit_kesari/SD1/NeMo-ASR_Diar/data/voxconverse directory\n",
      "\n",
      "\n",
      "Diar score:  (<pyannote.metrics.diarization.DiarizationErrorRate object at 0x7fa05812cbe0>, {'aggyz': {'speaker_0': 'spk03', 'speaker_1': 'spk07', 'speaker_10': 'spk06', 'speaker_11': 'spk01', 'speaker_2': 'spk02', 'speaker_3': 'spk05', 'speaker_5': 'spk12', 'speaker_6': 'spk00', 'speaker_7': 'spk10', 'speaker_8': 'spk04'}})\n",
      "Diarization error rate (DER) = 43.3%\n",
      "\n",
      "\n",
      "voxconverse_label:  aiqwk\n",
      "num_speakers:  8\n",
      "[NeMo I 2022-07-25 20:37:20 speaker_utils:82] Number of files to diarize: 1\n",
      "[NeMo I 2022-07-25 20:37:20 cloud:56] Found existing object /root/.cache/torch/NeMo/NeMo_1.10.0/QuartzNet15x5Base-En/2b066be39e9294d7100fb176ec817722/QuartzNet15x5Base-En.nemo.\n",
      "[NeMo I 2022-07-25 20:37:20 cloud:62] Re-using file from: /root/.cache/torch/NeMo/NeMo_1.10.0/QuartzNet15x5Base-En/2b066be39e9294d7100fb176ec817722/QuartzNet15x5Base-En.nemo\n",
      "[NeMo I 2022-07-25 20:37:20 common:789] Instantiating model from pre-trained checkpoint\n",
      "[NeMo I 2022-07-25 20:37:20 features:200] PADDING: 16\n",
      "[NeMo I 2022-07-25 20:37:22 save_restore_connector:243] Model EncDecCTCModel was successfully restored from /root/.cache/torch/NeMo/NeMo_1.10.0/QuartzNet15x5Base-En/2b066be39e9294d7100fb176ec817722/QuartzNet15x5Base-En.nemo.\n"
     ]
    },
    {
     "data": {
      "application/vnd.jupyter.widget-view+json": {
       "model_id": "4baf3c485d9342558bf4a24abb9728e5",
       "version_major": 2,
       "version_minor": 0
      },
      "text/plain": [
       "Transcribing:   0%|          | 0/1 [00:00<?, ?it/s]"
      ]
     },
     "metadata": {},
     "output_type": "display_data"
    },
    {
     "name": "stdout",
     "output_type": "stream",
     "text": [
      "[NeMo I 2022-07-25 20:37:22 speaker_utils:82] Number of files to diarize: 1\n",
      "[NeMo I 2022-07-25 20:37:22 clustering_diarizer:153] Loading pretrained titanet_large model from NGC\n",
      "[NeMo I 2022-07-25 20:37:22 cloud:56] Found existing object /root/.cache/torch/NeMo/NeMo_1.10.0/titanet-l/492c0ab8416139171dc18c21879a9e45/titanet-l.nemo.\n",
      "[NeMo I 2022-07-25 20:37:22 cloud:62] Re-using file from: /root/.cache/torch/NeMo/NeMo_1.10.0/titanet-l/492c0ab8416139171dc18c21879a9e45/titanet-l.nemo\n",
      "[NeMo I 2022-07-25 20:37:22 common:789] Instantiating model from pre-trained checkpoint\n"
     ]
    },
    {
     "name": "stderr",
     "output_type": "stream",
     "text": [
      "[NeMo W 2022-07-25 20:37:23 modelPT:148] If you intend to do training or fine-tuning, please call the ModelPT.setup_training_data() method and provide a valid configuration file to setup the train data loader.\n",
      "    Train config : \n",
      "    manifest_filepath: /manifests/combined_fisher_swbd_voxceleb12_librispeech/train.json\n",
      "    sample_rate: 16000\n",
      "    labels: null\n",
      "    batch_size: 64\n",
      "    shuffle: true\n",
      "    time_length: 3\n",
      "    is_tarred: false\n",
      "    tarred_audio_filepaths: null\n",
      "    tarred_shard_strategy: scatter\n",
      "    augmentor:\n",
      "      noise:\n",
      "        manifest_path: /manifests/noise/rir_noise_manifest.json\n",
      "        prob: 0.5\n",
      "        min_snr_db: 0\n",
      "        max_snr_db: 15\n",
      "      speed:\n",
      "        prob: 0.5\n",
      "        sr: 16000\n",
      "        resample_type: kaiser_fast\n",
      "        min_speed_rate: 0.95\n",
      "        max_speed_rate: 1.05\n",
      "    num_workers: 15\n",
      "    pin_memory: true\n",
      "    \n",
      "[NeMo W 2022-07-25 20:37:23 modelPT:155] If you intend to do validation, please call the ModelPT.setup_validation_data() or ModelPT.setup_multiple_validation_data() method and provide a valid configuration file to setup the validation data loader(s). \n",
      "    Validation config : \n",
      "    manifest_filepath: /manifests/combined_fisher_swbd_voxceleb12_librispeech/dev.json\n",
      "    sample_rate: 16000\n",
      "    labels: null\n",
      "    batch_size: 128\n",
      "    shuffle: false\n",
      "    time_length: 3\n",
      "    num_workers: 15\n",
      "    pin_memory: true\n",
      "    \n"
     ]
    },
    {
     "name": "stdout",
     "output_type": "stream",
     "text": [
      "[NeMo I 2022-07-25 20:37:23 features:200] PADDING: 16\n",
      "[NeMo I 2022-07-25 20:37:24 label_models:100] loss is Angular Softmax\n",
      "[NeMo I 2022-07-25 20:37:24 save_restore_connector:243] Model EncDecSpeakerLabelModel was successfully restored from /root/.cache/torch/NeMo/NeMo_1.10.0/titanet-l/492c0ab8416139171dc18c21879a9e45/titanet-l.nemo.\n",
      "[NeMo I 2022-07-25 20:37:24 speaker_utils:82] Number of files to diarize: 1\n",
      "[NeMo I 2022-07-25 20:37:24 clustering_diarizer:271] Subsegmentation for embedding extraction: scale0, /home/DATA/amit_kesari/SD1/NeMo-ASR_Diar/data/voxconverse/speaker_outputs/subsegments_scale0.json\n",
      "[NeMo I 2022-07-25 20:37:24 clustering_diarizer:325] Extracting embeddings for Diarization\n",
      "[NeMo I 2022-07-25 20:37:24 collections:289] Filtered duration for loading collection is 0.000000.\n",
      "[NeMo I 2022-07-25 20:37:24 collections:293] # 344 files loaded accounting to # 1 labels\n"
     ]
    },
    {
     "name": "stderr",
     "output_type": "stream",
     "text": [
      "100%|██████████| 6/6 [00:01<00:00,  4.67it/s]\n",
      "100%|██████████| 1/1 [00:11<00:00, 11.82s/it]"
     ]
    },
    {
     "name": "stdout",
     "output_type": "stream",
     "text": [
      "[NeMo I 2022-07-25 20:37:38 speaker_utils:460] Cumulative Results for collar 0.25 sec and ignore_overlap True: \n",
      "     FA: 0.0546\t MISS 0.1784\t                 Diarization ER: 0.5265\t, Confusion ER:0.2936\n",
      "[NeMo I 2022-07-25 20:37:38 clustering_diarizer:444] Outputs are saved in /home/DATA/amit_kesari/SD1/NeMo-ASR_Diar/data/voxconverse directory\n"
     ]
    },
    {
     "name": "stderr",
     "output_type": "stream",
     "text": [
      "\n"
     ]
    },
    {
     "name": "stdout",
     "output_type": "stream",
     "text": [
      "\n",
      "\n",
      "Diar score:  (<pyannote.metrics.diarization.DiarizationErrorRate object at 0x7fa0581626a0>, {'aiqwk': {'speaker_0': 'spk07', 'speaker_1': 'spk02', 'speaker_2': 'spk00', 'speaker_4': 'spk06', 'speaker_5': 'spk01', 'speaker_6': 'spk05', 'speaker_7': 'spk04'}})\n",
      "Diarization error rate (DER) = 56.8%\n",
      "\n",
      "\n",
      "voxconverse_label:  aorju\n",
      "num_speakers:  12\n",
      "[NeMo I 2022-07-25 20:37:38 speaker_utils:82] Number of files to diarize: 1\n",
      "[NeMo I 2022-07-25 20:37:38 cloud:56] Found existing object /root/.cache/torch/NeMo/NeMo_1.10.0/QuartzNet15x5Base-En/2b066be39e9294d7100fb176ec817722/QuartzNet15x5Base-En.nemo.\n",
      "[NeMo I 2022-07-25 20:37:38 cloud:62] Re-using file from: /root/.cache/torch/NeMo/NeMo_1.10.0/QuartzNet15x5Base-En/2b066be39e9294d7100fb176ec817722/QuartzNet15x5Base-En.nemo\n",
      "[NeMo I 2022-07-25 20:37:38 common:789] Instantiating model from pre-trained checkpoint\n",
      "[NeMo I 2022-07-25 20:37:39 features:200] PADDING: 16\n",
      "[NeMo I 2022-07-25 20:37:40 save_restore_connector:243] Model EncDecCTCModel was successfully restored from /root/.cache/torch/NeMo/NeMo_1.10.0/QuartzNet15x5Base-En/2b066be39e9294d7100fb176ec817722/QuartzNet15x5Base-En.nemo.\n"
     ]
    },
    {
     "data": {
      "application/vnd.jupyter.widget-view+json": {
       "model_id": "6244fae9e28d4c9e9e51ae6456ab7cc7",
       "version_major": 2,
       "version_minor": 0
      },
      "text/plain": [
       "Transcribing:   0%|          | 0/1 [00:00<?, ?it/s]"
      ]
     },
     "metadata": {},
     "output_type": "display_data"
    },
    {
     "name": "stdout",
     "output_type": "stream",
     "text": [
      "[NeMo I 2022-07-25 20:37:42 speaker_utils:82] Number of files to diarize: 1\n",
      "[NeMo I 2022-07-25 20:37:42 clustering_diarizer:153] Loading pretrained titanet_large model from NGC\n",
      "[NeMo I 2022-07-25 20:37:42 cloud:56] Found existing object /root/.cache/torch/NeMo/NeMo_1.10.0/titanet-l/492c0ab8416139171dc18c21879a9e45/titanet-l.nemo.\n",
      "[NeMo I 2022-07-25 20:37:42 cloud:62] Re-using file from: /root/.cache/torch/NeMo/NeMo_1.10.0/titanet-l/492c0ab8416139171dc18c21879a9e45/titanet-l.nemo\n",
      "[NeMo I 2022-07-25 20:37:42 common:789] Instantiating model from pre-trained checkpoint\n"
     ]
    },
    {
     "name": "stderr",
     "output_type": "stream",
     "text": [
      "[NeMo W 2022-07-25 20:37:43 modelPT:148] If you intend to do training or fine-tuning, please call the ModelPT.setup_training_data() method and provide a valid configuration file to setup the train data loader.\n",
      "    Train config : \n",
      "    manifest_filepath: /manifests/combined_fisher_swbd_voxceleb12_librispeech/train.json\n",
      "    sample_rate: 16000\n",
      "    labels: null\n",
      "    batch_size: 64\n",
      "    shuffle: true\n",
      "    time_length: 3\n",
      "    is_tarred: false\n",
      "    tarred_audio_filepaths: null\n",
      "    tarred_shard_strategy: scatter\n",
      "    augmentor:\n",
      "      noise:\n",
      "        manifest_path: /manifests/noise/rir_noise_manifest.json\n",
      "        prob: 0.5\n",
      "        min_snr_db: 0\n",
      "        max_snr_db: 15\n",
      "      speed:\n",
      "        prob: 0.5\n",
      "        sr: 16000\n",
      "        resample_type: kaiser_fast\n",
      "        min_speed_rate: 0.95\n",
      "        max_speed_rate: 1.05\n",
      "    num_workers: 15\n",
      "    pin_memory: true\n",
      "    \n",
      "[NeMo W 2022-07-25 20:37:43 modelPT:155] If you intend to do validation, please call the ModelPT.setup_validation_data() or ModelPT.setup_multiple_validation_data() method and provide a valid configuration file to setup the validation data loader(s). \n",
      "    Validation config : \n",
      "    manifest_filepath: /manifests/combined_fisher_swbd_voxceleb12_librispeech/dev.json\n",
      "    sample_rate: 16000\n",
      "    labels: null\n",
      "    batch_size: 128\n",
      "    shuffle: false\n",
      "    time_length: 3\n",
      "    num_workers: 15\n",
      "    pin_memory: true\n",
      "    \n"
     ]
    },
    {
     "name": "stdout",
     "output_type": "stream",
     "text": [
      "[NeMo I 2022-07-25 20:37:43 features:200] PADDING: 16\n",
      "[NeMo I 2022-07-25 20:37:44 label_models:100] loss is Angular Softmax\n",
      "[NeMo I 2022-07-25 20:37:44 save_restore_connector:243] Model EncDecSpeakerLabelModel was successfully restored from /root/.cache/torch/NeMo/NeMo_1.10.0/titanet-l/492c0ab8416139171dc18c21879a9e45/titanet-l.nemo.\n",
      "[NeMo I 2022-07-25 20:37:44 speaker_utils:82] Number of files to diarize: 1\n",
      "[NeMo I 2022-07-25 20:37:44 clustering_diarizer:271] Subsegmentation for embedding extraction: scale0, /home/DATA/amit_kesari/SD1/NeMo-ASR_Diar/data/voxconverse/speaker_outputs/subsegments_scale0.json\n",
      "[NeMo I 2022-07-25 20:37:44 clustering_diarizer:325] Extracting embeddings for Diarization\n",
      "[NeMo I 2022-07-25 20:37:44 collections:289] Filtered duration for loading collection is 0.000000.\n",
      "[NeMo I 2022-07-25 20:37:44 collections:293] # 2233 files loaded accounting to # 1 labels\n"
     ]
    },
    {
     "name": "stderr",
     "output_type": "stream",
     "text": [
      "100%|██████████| 35/35 [00:06<00:00,  5.58it/s]\n",
      "100%|██████████| 1/1 [00:11<00:00, 11.19s/it]\n"
     ]
    },
    {
     "name": "stdout",
     "output_type": "stream",
     "text": [
      "[NeMo I 2022-07-25 20:38:05 speaker_utils:460] Cumulative Results for collar 0.25 sec and ignore_overlap True: \n",
      "     FA: 0.0888\t MISS 0.2433\t                 Diarization ER: 0.5663\t, Confusion ER:0.2342\n",
      "[NeMo I 2022-07-25 20:38:05 clustering_diarizer:444] Outputs are saved in /home/DATA/amit_kesari/SD1/NeMo-ASR_Diar/data/voxconverse directory\n",
      "\n",
      "\n",
      "Diar score:  (<pyannote.metrics.diarization.DiarizationErrorRate object at 0x7fa140a25f10>, {'aorju': {'speaker_0': 'spk03', 'speaker_1': 'spk02', 'speaker_11': 'spk05', 'speaker_2': 'spk07', 'speaker_4': 'spk00', 'speaker_5': 'spk06', 'speaker_6': 'spk08', 'speaker_7': 'spk01', 'speaker_8': 'spk10'}})\n",
      "Diarization error rate (DER) = 58.7%\n",
      "\n",
      "\n",
      "voxconverse_label:  auzru\n",
      "num_speakers:  8\n",
      "[NeMo I 2022-07-25 20:38:09 speaker_utils:82] Number of files to diarize: 1\n",
      "[NeMo I 2022-07-25 20:38:09 cloud:56] Found existing object /root/.cache/torch/NeMo/NeMo_1.10.0/QuartzNet15x5Base-En/2b066be39e9294d7100fb176ec817722/QuartzNet15x5Base-En.nemo.\n",
      "[NeMo I 2022-07-25 20:38:09 cloud:62] Re-using file from: /root/.cache/torch/NeMo/NeMo_1.10.0/QuartzNet15x5Base-En/2b066be39e9294d7100fb176ec817722/QuartzNet15x5Base-En.nemo\n",
      "[NeMo I 2022-07-25 20:38:09 common:789] Instantiating model from pre-trained checkpoint\n",
      "[NeMo I 2022-07-25 20:38:10 features:200] PADDING: 16\n",
      "[NeMo I 2022-07-25 20:38:11 save_restore_connector:243] Model EncDecCTCModel was successfully restored from /root/.cache/torch/NeMo/NeMo_1.10.0/QuartzNet15x5Base-En/2b066be39e9294d7100fb176ec817722/QuartzNet15x5Base-En.nemo.\n"
     ]
    },
    {
     "data": {
      "application/vnd.jupyter.widget-view+json": {
       "model_id": "1695a57136784220a40b0095a8123406",
       "version_major": 2,
       "version_minor": 0
      },
      "text/plain": [
       "Transcribing:   0%|          | 0/1 [00:00<?, ?it/s]"
      ]
     },
     "metadata": {},
     "output_type": "display_data"
    },
    {
     "name": "stdout",
     "output_type": "stream",
     "text": [
      "[NeMo I 2022-07-25 20:38:13 speaker_utils:82] Number of files to diarize: 1\n",
      "[NeMo I 2022-07-25 20:38:13 clustering_diarizer:153] Loading pretrained titanet_large model from NGC\n",
      "[NeMo I 2022-07-25 20:38:13 cloud:56] Found existing object /root/.cache/torch/NeMo/NeMo_1.10.0/titanet-l/492c0ab8416139171dc18c21879a9e45/titanet-l.nemo.\n",
      "[NeMo I 2022-07-25 20:38:13 cloud:62] Re-using file from: /root/.cache/torch/NeMo/NeMo_1.10.0/titanet-l/492c0ab8416139171dc18c21879a9e45/titanet-l.nemo\n",
      "[NeMo I 2022-07-25 20:38:13 common:789] Instantiating model from pre-trained checkpoint\n"
     ]
    },
    {
     "name": "stderr",
     "output_type": "stream",
     "text": [
      "[NeMo W 2022-07-25 20:38:14 modelPT:148] If you intend to do training or fine-tuning, please call the ModelPT.setup_training_data() method and provide a valid configuration file to setup the train data loader.\n",
      "    Train config : \n",
      "    manifest_filepath: /manifests/combined_fisher_swbd_voxceleb12_librispeech/train.json\n",
      "    sample_rate: 16000\n",
      "    labels: null\n",
      "    batch_size: 64\n",
      "    shuffle: true\n",
      "    time_length: 3\n",
      "    is_tarred: false\n",
      "    tarred_audio_filepaths: null\n",
      "    tarred_shard_strategy: scatter\n",
      "    augmentor:\n",
      "      noise:\n",
      "        manifest_path: /manifests/noise/rir_noise_manifest.json\n",
      "        prob: 0.5\n",
      "        min_snr_db: 0\n",
      "        max_snr_db: 15\n",
      "      speed:\n",
      "        prob: 0.5\n",
      "        sr: 16000\n",
      "        resample_type: kaiser_fast\n",
      "        min_speed_rate: 0.95\n",
      "        max_speed_rate: 1.05\n",
      "    num_workers: 15\n",
      "    pin_memory: true\n",
      "    \n",
      "[NeMo W 2022-07-25 20:38:14 modelPT:155] If you intend to do validation, please call the ModelPT.setup_validation_data() or ModelPT.setup_multiple_validation_data() method and provide a valid configuration file to setup the validation data loader(s). \n",
      "    Validation config : \n",
      "    manifest_filepath: /manifests/combined_fisher_swbd_voxceleb12_librispeech/dev.json\n",
      "    sample_rate: 16000\n",
      "    labels: null\n",
      "    batch_size: 128\n",
      "    shuffle: false\n",
      "    time_length: 3\n",
      "    num_workers: 15\n",
      "    pin_memory: true\n",
      "    \n"
     ]
    },
    {
     "name": "stdout",
     "output_type": "stream",
     "text": [
      "[NeMo I 2022-07-25 20:38:14 features:200] PADDING: 16\n",
      "[NeMo I 2022-07-25 20:38:14 label_models:100] loss is Angular Softmax\n",
      "[NeMo I 2022-07-25 20:38:15 save_restore_connector:243] Model EncDecSpeakerLabelModel was successfully restored from /root/.cache/torch/NeMo/NeMo_1.10.0/titanet-l/492c0ab8416139171dc18c21879a9e45/titanet-l.nemo.\n",
      "[NeMo I 2022-07-25 20:38:15 speaker_utils:82] Number of files to diarize: 1\n",
      "[NeMo I 2022-07-25 20:38:15 clustering_diarizer:271] Subsegmentation for embedding extraction: scale0, /home/DATA/amit_kesari/SD1/NeMo-ASR_Diar/data/voxconverse/speaker_outputs/subsegments_scale0.json\n",
      "[NeMo I 2022-07-25 20:38:15 clustering_diarizer:325] Extracting embeddings for Diarization\n",
      "[NeMo I 2022-07-25 20:38:15 collections:289] Filtered duration for loading collection is 0.000000.\n",
      "[NeMo I 2022-07-25 20:38:15 collections:293] # 889 files loaded accounting to # 1 labels\n"
     ]
    },
    {
     "name": "stderr",
     "output_type": "stream",
     "text": [
      "100%|██████████| 14/14 [00:02<00:00,  5.08it/s]\n",
      "100%|██████████| 1/1 [00:11<00:00, 11.18s/it]\n"
     ]
    },
    {
     "name": "stdout",
     "output_type": "stream",
     "text": [
      "[NeMo I 2022-07-25 20:38:29 speaker_utils:460] Cumulative Results for collar 0.25 sec and ignore_overlap True: \n",
      "     FA: 0.0091\t MISS 0.1936\t                 Diarization ER: 0.3229\t, Confusion ER:0.1203\n",
      "[NeMo I 2022-07-25 20:38:29 clustering_diarizer:444] Outputs are saved in /home/DATA/amit_kesari/SD1/NeMo-ASR_Diar/data/voxconverse directory\n",
      "\n",
      "\n",
      "Diar score:  (<pyannote.metrics.diarization.DiarizationErrorRate object at 0x7fa140a2e070>, {'auzru': {'speaker_0': 'spk07', 'speaker_1': 'spk00', 'speaker_2': 'spk03', 'speaker_3': 'spk01', 'speaker_5': 'spk06', 'speaker_6': 'spk02', 'speaker_7': 'spk04'}})\n",
      "Diarization error rate (DER) = 33.8%\n",
      "\n",
      "\n",
      "voxconverse_label:  bgvvt\n",
      "num_speakers:  2\n",
      "[NeMo I 2022-07-25 20:38:30 speaker_utils:82] Number of files to diarize: 1\n",
      "[NeMo I 2022-07-25 20:38:30 cloud:56] Found existing object /root/.cache/torch/NeMo/NeMo_1.10.0/QuartzNet15x5Base-En/2b066be39e9294d7100fb176ec817722/QuartzNet15x5Base-En.nemo.\n",
      "[NeMo I 2022-07-25 20:38:30 cloud:62] Re-using file from: /root/.cache/torch/NeMo/NeMo_1.10.0/QuartzNet15x5Base-En/2b066be39e9294d7100fb176ec817722/QuartzNet15x5Base-En.nemo\n",
      "[NeMo I 2022-07-25 20:38:30 common:789] Instantiating model from pre-trained checkpoint\n",
      "[NeMo I 2022-07-25 20:38:31 features:200] PADDING: 16\n",
      "[NeMo I 2022-07-25 20:38:32 save_restore_connector:243] Model EncDecCTCModel was successfully restored from /root/.cache/torch/NeMo/NeMo_1.10.0/QuartzNet15x5Base-En/2b066be39e9294d7100fb176ec817722/QuartzNet15x5Base-En.nemo.\n"
     ]
    },
    {
     "data": {
      "application/vnd.jupyter.widget-view+json": {
       "model_id": "b373af5694ba41f48f53e0b891fa60d6",
       "version_major": 2,
       "version_minor": 0
      },
      "text/plain": [
       "Transcribing:   0%|          | 0/1 [00:00<?, ?it/s]"
      ]
     },
     "metadata": {},
     "output_type": "display_data"
    },
    {
     "name": "stdout",
     "output_type": "stream",
     "text": [
      "[NeMo I 2022-07-25 20:38:34 speaker_utils:82] Number of files to diarize: 1\n",
      "[NeMo I 2022-07-25 20:38:34 clustering_diarizer:153] Loading pretrained titanet_large model from NGC\n",
      "[NeMo I 2022-07-25 20:38:34 cloud:56] Found existing object /root/.cache/torch/NeMo/NeMo_1.10.0/titanet-l/492c0ab8416139171dc18c21879a9e45/titanet-l.nemo.\n",
      "[NeMo I 2022-07-25 20:38:34 cloud:62] Re-using file from: /root/.cache/torch/NeMo/NeMo_1.10.0/titanet-l/492c0ab8416139171dc18c21879a9e45/titanet-l.nemo\n",
      "[NeMo I 2022-07-25 20:38:34 common:789] Instantiating model from pre-trained checkpoint\n"
     ]
    },
    {
     "name": "stderr",
     "output_type": "stream",
     "text": [
      "[NeMo W 2022-07-25 20:38:35 modelPT:148] If you intend to do training or fine-tuning, please call the ModelPT.setup_training_data() method and provide a valid configuration file to setup the train data loader.\n",
      "    Train config : \n",
      "    manifest_filepath: /manifests/combined_fisher_swbd_voxceleb12_librispeech/train.json\n",
      "    sample_rate: 16000\n",
      "    labels: null\n",
      "    batch_size: 64\n",
      "    shuffle: true\n",
      "    time_length: 3\n",
      "    is_tarred: false\n",
      "    tarred_audio_filepaths: null\n",
      "    tarred_shard_strategy: scatter\n",
      "    augmentor:\n",
      "      noise:\n",
      "        manifest_path: /manifests/noise/rir_noise_manifest.json\n",
      "        prob: 0.5\n",
      "        min_snr_db: 0\n",
      "        max_snr_db: 15\n",
      "      speed:\n",
      "        prob: 0.5\n",
      "        sr: 16000\n",
      "        resample_type: kaiser_fast\n",
      "        min_speed_rate: 0.95\n",
      "        max_speed_rate: 1.05\n",
      "    num_workers: 15\n",
      "    pin_memory: true\n",
      "    \n",
      "[NeMo W 2022-07-25 20:38:35 modelPT:155] If you intend to do validation, please call the ModelPT.setup_validation_data() or ModelPT.setup_multiple_validation_data() method and provide a valid configuration file to setup the validation data loader(s). \n",
      "    Validation config : \n",
      "    manifest_filepath: /manifests/combined_fisher_swbd_voxceleb12_librispeech/dev.json\n",
      "    sample_rate: 16000\n",
      "    labels: null\n",
      "    batch_size: 128\n",
      "    shuffle: false\n",
      "    time_length: 3\n",
      "    num_workers: 15\n",
      "    pin_memory: true\n",
      "    \n"
     ]
    },
    {
     "name": "stdout",
     "output_type": "stream",
     "text": [
      "[NeMo I 2022-07-25 20:38:35 features:200] PADDING: 16\n",
      "[NeMo I 2022-07-25 20:38:36 label_models:100] loss is Angular Softmax\n",
      "[NeMo I 2022-07-25 20:38:36 save_restore_connector:243] Model EncDecSpeakerLabelModel was successfully restored from /root/.cache/torch/NeMo/NeMo_1.10.0/titanet-l/492c0ab8416139171dc18c21879a9e45/titanet-l.nemo.\n",
      "[NeMo I 2022-07-25 20:38:36 speaker_utils:82] Number of files to diarize: 1\n",
      "[NeMo I 2022-07-25 20:38:36 clustering_diarizer:271] Subsegmentation for embedding extraction: scale0, /home/DATA/amit_kesari/SD1/NeMo-ASR_Diar/data/voxconverse/speaker_outputs/subsegments_scale0.json\n",
      "[NeMo I 2022-07-25 20:38:36 clustering_diarizer:325] Extracting embeddings for Diarization\n",
      "[NeMo I 2022-07-25 20:38:36 collections:289] Filtered duration for loading collection is 0.000000.\n",
      "[NeMo I 2022-07-25 20:38:36 collections:293] # 1329 files loaded accounting to # 1 labels\n"
     ]
    },
    {
     "name": "stderr",
     "output_type": "stream",
     "text": [
      "100%|██████████| 21/21 [00:03<00:00,  5.40it/s]\n",
      "100%|██████████| 1/1 [00:09<00:00,  9.20s/it]\n"
     ]
    },
    {
     "name": "stdout",
     "output_type": "stream",
     "text": [
      "[NeMo I 2022-07-25 20:38:50 speaker_utils:460] Cumulative Results for collar 0.25 sec and ignore_overlap True: \n",
      "     FA: 0.1275\t MISS 0.0768\t                 Diarization ER: 0.2056\t, Confusion ER:0.0013\n",
      "[NeMo I 2022-07-25 20:38:50 clustering_diarizer:444] Outputs are saved in /home/DATA/amit_kesari/SD1/NeMo-ASR_Diar/data/voxconverse directory\n",
      "\n",
      "\n",
      "Diar score:  (<pyannote.metrics.diarization.DiarizationErrorRate object at 0x7fa05029f100>, {'bgvvt': {'speaker_0': 'spk01', 'speaker_1': 'spk00'}})\n",
      "Diarization error rate (DER) = 25.4%\n",
      "\n",
      "\n",
      "voxconverse_label:  bidnq\n",
      "num_speakers:  11\n",
      "[NeMo I 2022-07-25 20:38:52 speaker_utils:82] Number of files to diarize: 1\n",
      "[NeMo I 2022-07-25 20:38:52 cloud:56] Found existing object /root/.cache/torch/NeMo/NeMo_1.10.0/QuartzNet15x5Base-En/2b066be39e9294d7100fb176ec817722/QuartzNet15x5Base-En.nemo.\n",
      "[NeMo I 2022-07-25 20:38:52 cloud:62] Re-using file from: /root/.cache/torch/NeMo/NeMo_1.10.0/QuartzNet15x5Base-En/2b066be39e9294d7100fb176ec817722/QuartzNet15x5Base-En.nemo\n",
      "[NeMo I 2022-07-25 20:38:52 common:789] Instantiating model from pre-trained checkpoint\n",
      "[NeMo I 2022-07-25 20:38:52 features:200] PADDING: 16\n",
      "[NeMo I 2022-07-25 20:38:54 save_restore_connector:243] Model EncDecCTCModel was successfully restored from /root/.cache/torch/NeMo/NeMo_1.10.0/QuartzNet15x5Base-En/2b066be39e9294d7100fb176ec817722/QuartzNet15x5Base-En.nemo.\n"
     ]
    },
    {
     "data": {
      "application/vnd.jupyter.widget-view+json": {
       "model_id": "d4c8169f3c4346f380adb51cd1401921",
       "version_major": 2,
       "version_minor": 0
      },
      "text/plain": [
       "Transcribing:   0%|          | 0/1 [00:00<?, ?it/s]"
      ]
     },
     "metadata": {},
     "output_type": "display_data"
    },
    {
     "name": "stdout",
     "output_type": "stream",
     "text": [
      "[NeMo I 2022-07-25 20:38:56 speaker_utils:82] Number of files to diarize: 1\n",
      "[NeMo I 2022-07-25 20:38:56 clustering_diarizer:153] Loading pretrained titanet_large model from NGC\n",
      "[NeMo I 2022-07-25 20:38:56 cloud:56] Found existing object /root/.cache/torch/NeMo/NeMo_1.10.0/titanet-l/492c0ab8416139171dc18c21879a9e45/titanet-l.nemo.\n",
      "[NeMo I 2022-07-25 20:38:56 cloud:62] Re-using file from: /root/.cache/torch/NeMo/NeMo_1.10.0/titanet-l/492c0ab8416139171dc18c21879a9e45/titanet-l.nemo\n",
      "[NeMo I 2022-07-25 20:38:56 common:789] Instantiating model from pre-trained checkpoint\n"
     ]
    },
    {
     "name": "stderr",
     "output_type": "stream",
     "text": [
      "[NeMo W 2022-07-25 20:38:57 modelPT:148] If you intend to do training or fine-tuning, please call the ModelPT.setup_training_data() method and provide a valid configuration file to setup the train data loader.\n",
      "    Train config : \n",
      "    manifest_filepath: /manifests/combined_fisher_swbd_voxceleb12_librispeech/train.json\n",
      "    sample_rate: 16000\n",
      "    labels: null\n",
      "    batch_size: 64\n",
      "    shuffle: true\n",
      "    time_length: 3\n",
      "    is_tarred: false\n",
      "    tarred_audio_filepaths: null\n",
      "    tarred_shard_strategy: scatter\n",
      "    augmentor:\n",
      "      noise:\n",
      "        manifest_path: /manifests/noise/rir_noise_manifest.json\n",
      "        prob: 0.5\n",
      "        min_snr_db: 0\n",
      "        max_snr_db: 15\n",
      "      speed:\n",
      "        prob: 0.5\n",
      "        sr: 16000\n",
      "        resample_type: kaiser_fast\n",
      "        min_speed_rate: 0.95\n",
      "        max_speed_rate: 1.05\n",
      "    num_workers: 15\n",
      "    pin_memory: true\n",
      "    \n",
      "[NeMo W 2022-07-25 20:38:57 modelPT:155] If you intend to do validation, please call the ModelPT.setup_validation_data() or ModelPT.setup_multiple_validation_data() method and provide a valid configuration file to setup the validation data loader(s). \n",
      "    Validation config : \n",
      "    manifest_filepath: /manifests/combined_fisher_swbd_voxceleb12_librispeech/dev.json\n",
      "    sample_rate: 16000\n",
      "    labels: null\n",
      "    batch_size: 128\n",
      "    shuffle: false\n",
      "    time_length: 3\n",
      "    num_workers: 15\n",
      "    pin_memory: true\n",
      "    \n"
     ]
    },
    {
     "name": "stdout",
     "output_type": "stream",
     "text": [
      "[NeMo I 2022-07-25 20:38:57 features:200] PADDING: 16\n",
      "[NeMo I 2022-07-25 20:38:57 label_models:100] loss is Angular Softmax\n",
      "[NeMo I 2022-07-25 20:38:58 save_restore_connector:243] Model EncDecSpeakerLabelModel was successfully restored from /root/.cache/torch/NeMo/NeMo_1.10.0/titanet-l/492c0ab8416139171dc18c21879a9e45/titanet-l.nemo.\n",
      "[NeMo I 2022-07-25 20:38:58 speaker_utils:82] Number of files to diarize: 1\n",
      "[NeMo I 2022-07-25 20:38:58 clustering_diarizer:271] Subsegmentation for embedding extraction: scale0, /home/DATA/amit_kesari/SD1/NeMo-ASR_Diar/data/voxconverse/speaker_outputs/subsegments_scale0.json\n",
      "[NeMo I 2022-07-25 20:38:58 clustering_diarizer:325] Extracting embeddings for Diarization\n",
      "[NeMo I 2022-07-25 20:38:58 collections:289] Filtered duration for loading collection is 0.000000.\n",
      "[NeMo I 2022-07-25 20:38:58 collections:293] # 1186 files loaded accounting to # 1 labels\n"
     ]
    },
    {
     "name": "stderr",
     "output_type": "stream",
     "text": [
      "100%|██████████| 19/19 [00:03<00:00,  5.35it/s]\n",
      "100%|██████████| 1/1 [00:10<00:00, 10.57s/it]\n"
     ]
    },
    {
     "name": "stdout",
     "output_type": "stream",
     "text": [
      "[NeMo I 2022-07-25 20:39:13 speaker_utils:460] Cumulative Results for collar 0.25 sec and ignore_overlap True: \n",
      "     FA: 0.0087\t MISS 0.0692\t                 Diarization ER: 0.4477\t, Confusion ER:0.3699\n",
      "[NeMo I 2022-07-25 20:39:13 clustering_diarizer:444] Outputs are saved in /home/DATA/amit_kesari/SD1/NeMo-ASR_Diar/data/voxconverse directory\n",
      "\n",
      "\n",
      "Diar score:  (<pyannote.metrics.diarization.DiarizationErrorRate object at 0x7fa0504ef1f0>, {'bidnq': {'speaker_0': 'spk00', 'speaker_1': 'spk01', 'speaker_10': 'spk09', 'speaker_2': 'spk02', 'speaker_3': 'spk07', 'speaker_4': 'spk05', 'speaker_5': 'spk08', 'speaker_6': 'spk04', 'speaker_8': 'spk10', 'speaker_9': 'spk06'}})\n",
      "Diarization error rate (DER) = 54.3%\n",
      "\n",
      "\n",
      "voxconverse_label:  bjruf\n",
      "num_speakers:  2\n",
      "[NeMo I 2022-07-25 20:39:14 speaker_utils:82] Number of files to diarize: 1\n",
      "[NeMo I 2022-07-25 20:39:14 cloud:56] Found existing object /root/.cache/torch/NeMo/NeMo_1.10.0/QuartzNet15x5Base-En/2b066be39e9294d7100fb176ec817722/QuartzNet15x5Base-En.nemo.\n",
      "[NeMo I 2022-07-25 20:39:14 cloud:62] Re-using file from: /root/.cache/torch/NeMo/NeMo_1.10.0/QuartzNet15x5Base-En/2b066be39e9294d7100fb176ec817722/QuartzNet15x5Base-En.nemo\n",
      "[NeMo I 2022-07-25 20:39:14 common:789] Instantiating model from pre-trained checkpoint\n",
      "[NeMo I 2022-07-25 20:39:15 features:200] PADDING: 16\n",
      "[NeMo I 2022-07-25 20:39:17 save_restore_connector:243] Model EncDecCTCModel was successfully restored from /root/.cache/torch/NeMo/NeMo_1.10.0/QuartzNet15x5Base-En/2b066be39e9294d7100fb176ec817722/QuartzNet15x5Base-En.nemo.\n"
     ]
    },
    {
     "data": {
      "application/vnd.jupyter.widget-view+json": {
       "model_id": "4f1ae426f3794f23a3f11233fcbeb22b",
       "version_major": 2,
       "version_minor": 0
      },
      "text/plain": [
       "Transcribing:   0%|          | 0/1 [00:00<?, ?it/s]"
      ]
     },
     "metadata": {},
     "output_type": "display_data"
    },
    {
     "name": "stdout",
     "output_type": "stream",
     "text": [
      "[NeMo I 2022-07-25 20:39:17 speaker_utils:82] Number of files to diarize: 1\n",
      "[NeMo I 2022-07-25 20:39:17 clustering_diarizer:153] Loading pretrained titanet_large model from NGC\n",
      "[NeMo I 2022-07-25 20:39:17 cloud:56] Found existing object /root/.cache/torch/NeMo/NeMo_1.10.0/titanet-l/492c0ab8416139171dc18c21879a9e45/titanet-l.nemo.\n",
      "[NeMo I 2022-07-25 20:39:17 cloud:62] Re-using file from: /root/.cache/torch/NeMo/NeMo_1.10.0/titanet-l/492c0ab8416139171dc18c21879a9e45/titanet-l.nemo\n",
      "[NeMo I 2022-07-25 20:39:17 common:789] Instantiating model from pre-trained checkpoint\n"
     ]
    },
    {
     "name": "stderr",
     "output_type": "stream",
     "text": [
      "[NeMo W 2022-07-25 20:39:18 modelPT:148] If you intend to do training or fine-tuning, please call the ModelPT.setup_training_data() method and provide a valid configuration file to setup the train data loader.\n",
      "    Train config : \n",
      "    manifest_filepath: /manifests/combined_fisher_swbd_voxceleb12_librispeech/train.json\n",
      "    sample_rate: 16000\n",
      "    labels: null\n",
      "    batch_size: 64\n",
      "    shuffle: true\n",
      "    time_length: 3\n",
      "    is_tarred: false\n",
      "    tarred_audio_filepaths: null\n",
      "    tarred_shard_strategy: scatter\n",
      "    augmentor:\n",
      "      noise:\n",
      "        manifest_path: /manifests/noise/rir_noise_manifest.json\n",
      "        prob: 0.5\n",
      "        min_snr_db: 0\n",
      "        max_snr_db: 15\n",
      "      speed:\n",
      "        prob: 0.5\n",
      "        sr: 16000\n",
      "        resample_type: kaiser_fast\n",
      "        min_speed_rate: 0.95\n",
      "        max_speed_rate: 1.05\n",
      "    num_workers: 15\n",
      "    pin_memory: true\n",
      "    \n",
      "[NeMo W 2022-07-25 20:39:18 modelPT:155] If you intend to do validation, please call the ModelPT.setup_validation_data() or ModelPT.setup_multiple_validation_data() method and provide a valid configuration file to setup the validation data loader(s). \n",
      "    Validation config : \n",
      "    manifest_filepath: /manifests/combined_fisher_swbd_voxceleb12_librispeech/dev.json\n",
      "    sample_rate: 16000\n",
      "    labels: null\n",
      "    batch_size: 128\n",
      "    shuffle: false\n",
      "    time_length: 3\n",
      "    num_workers: 15\n",
      "    pin_memory: true\n",
      "    \n"
     ]
    },
    {
     "name": "stdout",
     "output_type": "stream",
     "text": [
      "[NeMo I 2022-07-25 20:39:18 features:200] PADDING: 16\n",
      "[NeMo I 2022-07-25 20:39:18 label_models:100] loss is Angular Softmax\n",
      "[NeMo I 2022-07-25 20:39:19 save_restore_connector:243] Model EncDecSpeakerLabelModel was successfully restored from /root/.cache/torch/NeMo/NeMo_1.10.0/titanet-l/492c0ab8416139171dc18c21879a9e45/titanet-l.nemo.\n",
      "[NeMo I 2022-07-25 20:39:19 speaker_utils:82] Number of files to diarize: 1\n",
      "[NeMo I 2022-07-25 20:39:19 clustering_diarizer:271] Subsegmentation for embedding extraction: scale0, /home/DATA/amit_kesari/SD1/NeMo-ASR_Diar/data/voxconverse/speaker_outputs/subsegments_scale0.json\n",
      "[NeMo I 2022-07-25 20:39:19 clustering_diarizer:325] Extracting embeddings for Diarization\n",
      "[NeMo I 2022-07-25 20:39:19 collections:289] Filtered duration for loading collection is 0.000000.\n",
      "[NeMo I 2022-07-25 20:39:19 collections:293] # 566 files loaded accounting to # 1 labels\n"
     ]
    },
    {
     "name": "stderr",
     "output_type": "stream",
     "text": [
      "100%|██████████| 9/9 [00:01<00:00,  5.08it/s]\n",
      "100%|██████████| 1/1 [00:06<00:00,  6.98s/it]\n"
     ]
    },
    {
     "name": "stdout",
     "output_type": "stream",
     "text": [
      "[NeMo I 2022-07-25 20:39:28 speaker_utils:460] Cumulative Results for collar 0.25 sec and ignore_overlap True: \n",
      "     FA: 0.0855\t MISS 0.2185\t                 Diarization ER: 0.3433\t, Confusion ER:0.0394\n",
      "[NeMo I 2022-07-25 20:39:28 clustering_diarizer:444] Outputs are saved in /home/DATA/amit_kesari/SD1/NeMo-ASR_Diar/data/voxconverse directory\n",
      "\n",
      "\n",
      "Diar score:  (<pyannote.metrics.diarization.DiarizationErrorRate object at 0x7fa0682310d0>, {'bjruf': {'speaker_0': 'spk01', 'speaker_1': 'spk00'}})\n",
      "Diarization error rate (DER) = 40.8%\n",
      "\n",
      "\n",
      "voxconverse_label:  bmsyn\n",
      "num_speakers:  5\n",
      "[NeMo I 2022-07-25 20:39:28 speaker_utils:82] Number of files to diarize: 1\n",
      "[NeMo I 2022-07-25 20:39:28 cloud:56] Found existing object /root/.cache/torch/NeMo/NeMo_1.10.0/QuartzNet15x5Base-En/2b066be39e9294d7100fb176ec817722/QuartzNet15x5Base-En.nemo.\n",
      "[NeMo I 2022-07-25 20:39:28 cloud:62] Re-using file from: /root/.cache/torch/NeMo/NeMo_1.10.0/QuartzNet15x5Base-En/2b066be39e9294d7100fb176ec817722/QuartzNet15x5Base-En.nemo\n",
      "[NeMo I 2022-07-25 20:39:28 common:789] Instantiating model from pre-trained checkpoint\n",
      "[NeMo I 2022-07-25 20:39:29 features:200] PADDING: 16\n",
      "[NeMo I 2022-07-25 20:39:31 save_restore_connector:243] Model EncDecCTCModel was successfully restored from /root/.cache/torch/NeMo/NeMo_1.10.0/QuartzNet15x5Base-En/2b066be39e9294d7100fb176ec817722/QuartzNet15x5Base-En.nemo.\n"
     ]
    },
    {
     "data": {
      "application/vnd.jupyter.widget-view+json": {
       "model_id": "7b25366ef90448d0a6b34fdcfab9d399",
       "version_major": 2,
       "version_minor": 0
      },
      "text/plain": [
       "Transcribing:   0%|          | 0/1 [00:00<?, ?it/s]"
      ]
     },
     "metadata": {},
     "output_type": "display_data"
    },
    {
     "name": "stdout",
     "output_type": "stream",
     "text": [
      "[NeMo I 2022-07-25 20:39:32 speaker_utils:82] Number of files to diarize: 1\n",
      "[NeMo I 2022-07-25 20:39:32 clustering_diarizer:153] Loading pretrained titanet_large model from NGC\n",
      "[NeMo I 2022-07-25 20:39:32 cloud:56] Found existing object /root/.cache/torch/NeMo/NeMo_1.10.0/titanet-l/492c0ab8416139171dc18c21879a9e45/titanet-l.nemo.\n",
      "[NeMo I 2022-07-25 20:39:32 cloud:62] Re-using file from: /root/.cache/torch/NeMo/NeMo_1.10.0/titanet-l/492c0ab8416139171dc18c21879a9e45/titanet-l.nemo\n",
      "[NeMo I 2022-07-25 20:39:32 common:789] Instantiating model from pre-trained checkpoint\n"
     ]
    },
    {
     "name": "stderr",
     "output_type": "stream",
     "text": [
      "[NeMo W 2022-07-25 20:39:33 modelPT:148] If you intend to do training or fine-tuning, please call the ModelPT.setup_training_data() method and provide a valid configuration file to setup the train data loader.\n",
      "    Train config : \n",
      "    manifest_filepath: /manifests/combined_fisher_swbd_voxceleb12_librispeech/train.json\n",
      "    sample_rate: 16000\n",
      "    labels: null\n",
      "    batch_size: 64\n",
      "    shuffle: true\n",
      "    time_length: 3\n",
      "    is_tarred: false\n",
      "    tarred_audio_filepaths: null\n",
      "    tarred_shard_strategy: scatter\n",
      "    augmentor:\n",
      "      noise:\n",
      "        manifest_path: /manifests/noise/rir_noise_manifest.json\n",
      "        prob: 0.5\n",
      "        min_snr_db: 0\n",
      "        max_snr_db: 15\n",
      "      speed:\n",
      "        prob: 0.5\n",
      "        sr: 16000\n",
      "        resample_type: kaiser_fast\n",
      "        min_speed_rate: 0.95\n",
      "        max_speed_rate: 1.05\n",
      "    num_workers: 15\n",
      "    pin_memory: true\n",
      "    \n",
      "[NeMo W 2022-07-25 20:39:33 modelPT:155] If you intend to do validation, please call the ModelPT.setup_validation_data() or ModelPT.setup_multiple_validation_data() method and provide a valid configuration file to setup the validation data loader(s). \n",
      "    Validation config : \n",
      "    manifest_filepath: /manifests/combined_fisher_swbd_voxceleb12_librispeech/dev.json\n",
      "    sample_rate: 16000\n",
      "    labels: null\n",
      "    batch_size: 128\n",
      "    shuffle: false\n",
      "    time_length: 3\n",
      "    num_workers: 15\n",
      "    pin_memory: true\n",
      "    \n"
     ]
    },
    {
     "name": "stdout",
     "output_type": "stream",
     "text": [
      "[NeMo I 2022-07-25 20:39:33 features:200] PADDING: 16\n",
      "[NeMo I 2022-07-25 20:39:33 label_models:100] loss is Angular Softmax\n",
      "[NeMo I 2022-07-25 20:39:34 save_restore_connector:243] Model EncDecSpeakerLabelModel was successfully restored from /root/.cache/torch/NeMo/NeMo_1.10.0/titanet-l/492c0ab8416139171dc18c21879a9e45/titanet-l.nemo.\n",
      "[NeMo I 2022-07-25 20:39:34 speaker_utils:82] Number of files to diarize: 1\n",
      "[NeMo I 2022-07-25 20:39:34 clustering_diarizer:271] Subsegmentation for embedding extraction: scale0, /home/DATA/amit_kesari/SD1/NeMo-ASR_Diar/data/voxconverse/speaker_outputs/subsegments_scale0.json\n",
      "[NeMo I 2022-07-25 20:39:34 clustering_diarizer:325] Extracting embeddings for Diarization\n",
      "[NeMo I 2022-07-25 20:39:34 collections:289] Filtered duration for loading collection is 0.000000.\n",
      "[NeMo I 2022-07-25 20:39:34 collections:293] # 1109 files loaded accounting to # 1 labels\n"
     ]
    },
    {
     "name": "stderr",
     "output_type": "stream",
     "text": [
      "100%|██████████| 18/18 [00:03<00:00,  5.46it/s]\n",
      "100%|██████████| 1/1 [00:10<00:00, 10.11s/it]\n"
     ]
    },
    {
     "name": "stdout",
     "output_type": "stream",
     "text": [
      "[NeMo I 2022-07-25 20:39:49 speaker_utils:460] Cumulative Results for collar 0.25 sec and ignore_overlap True: \n",
      "     FA: 0.1919\t MISS 0.2271\t                 Diarization ER: 0.6694\t, Confusion ER:0.2504\n",
      "[NeMo I 2022-07-25 20:39:49 clustering_diarizer:444] Outputs are saved in /home/DATA/amit_kesari/SD1/NeMo-ASR_Diar/data/voxconverse directory\n",
      "\n",
      "\n",
      "Diar score:  (<pyannote.metrics.diarization.DiarizationErrorRate object at 0x7fa06df031c0>, {'bmsyn': {'speaker_0': 'spk01', 'speaker_1': 'spk04', 'speaker_2': 'spk00', 'speaker_3': 'spk02', 'speaker_4': 'spk03'}})\n",
      "Diarization error rate (DER) = 74.5%\n",
      "\n",
      "\n",
      "voxconverse_label:  bpzsc\n",
      "num_speakers:  7\n",
      "[NeMo I 2022-07-25 20:39:51 speaker_utils:82] Number of files to diarize: 1\n",
      "[NeMo I 2022-07-25 20:39:51 cloud:56] Found existing object /root/.cache/torch/NeMo/NeMo_1.10.0/QuartzNet15x5Base-En/2b066be39e9294d7100fb176ec817722/QuartzNet15x5Base-En.nemo.\n",
      "[NeMo I 2022-07-25 20:39:51 cloud:62] Re-using file from: /root/.cache/torch/NeMo/NeMo_1.10.0/QuartzNet15x5Base-En/2b066be39e9294d7100fb176ec817722/QuartzNet15x5Base-En.nemo\n",
      "[NeMo I 2022-07-25 20:39:51 common:789] Instantiating model from pre-trained checkpoint\n",
      "[NeMo I 2022-07-25 20:39:52 features:200] PADDING: 16\n",
      "[NeMo I 2022-07-25 20:39:53 save_restore_connector:243] Model EncDecCTCModel was successfully restored from /root/.cache/torch/NeMo/NeMo_1.10.0/QuartzNet15x5Base-En/2b066be39e9294d7100fb176ec817722/QuartzNet15x5Base-En.nemo.\n"
     ]
    },
    {
     "data": {
      "application/vnd.jupyter.widget-view+json": {
       "model_id": "56285547a1c94f2598b15510aa30f8e5",
       "version_major": 2,
       "version_minor": 0
      },
      "text/plain": [
       "Transcribing:   0%|          | 0/1 [00:00<?, ?it/s]"
      ]
     },
     "metadata": {},
     "output_type": "display_data"
    },
    {
     "name": "stdout",
     "output_type": "stream",
     "text": [
      "[NeMo I 2022-07-25 20:39:54 speaker_utils:82] Number of files to diarize: 1\n",
      "[NeMo I 2022-07-25 20:39:55 clustering_diarizer:153] Loading pretrained titanet_large model from NGC\n",
      "[NeMo I 2022-07-25 20:39:55 cloud:56] Found existing object /root/.cache/torch/NeMo/NeMo_1.10.0/titanet-l/492c0ab8416139171dc18c21879a9e45/titanet-l.nemo.\n",
      "[NeMo I 2022-07-25 20:39:55 cloud:62] Re-using file from: /root/.cache/torch/NeMo/NeMo_1.10.0/titanet-l/492c0ab8416139171dc18c21879a9e45/titanet-l.nemo\n",
      "[NeMo I 2022-07-25 20:39:55 common:789] Instantiating model from pre-trained checkpoint\n"
     ]
    },
    {
     "name": "stderr",
     "output_type": "stream",
     "text": [
      "[NeMo W 2022-07-25 20:39:55 modelPT:148] If you intend to do training or fine-tuning, please call the ModelPT.setup_training_data() method and provide a valid configuration file to setup the train data loader.\n",
      "    Train config : \n",
      "    manifest_filepath: /manifests/combined_fisher_swbd_voxceleb12_librispeech/train.json\n",
      "    sample_rate: 16000\n",
      "    labels: null\n",
      "    batch_size: 64\n",
      "    shuffle: true\n",
      "    time_length: 3\n",
      "    is_tarred: false\n",
      "    tarred_audio_filepaths: null\n",
      "    tarred_shard_strategy: scatter\n",
      "    augmentor:\n",
      "      noise:\n",
      "        manifest_path: /manifests/noise/rir_noise_manifest.json\n",
      "        prob: 0.5\n",
      "        min_snr_db: 0\n",
      "        max_snr_db: 15\n",
      "      speed:\n",
      "        prob: 0.5\n",
      "        sr: 16000\n",
      "        resample_type: kaiser_fast\n",
      "        min_speed_rate: 0.95\n",
      "        max_speed_rate: 1.05\n",
      "    num_workers: 15\n",
      "    pin_memory: true\n",
      "    \n",
      "[NeMo W 2022-07-25 20:39:55 modelPT:155] If you intend to do validation, please call the ModelPT.setup_validation_data() or ModelPT.setup_multiple_validation_data() method and provide a valid configuration file to setup the validation data loader(s). \n",
      "    Validation config : \n",
      "    manifest_filepath: /manifests/combined_fisher_swbd_voxceleb12_librispeech/dev.json\n",
      "    sample_rate: 16000\n",
      "    labels: null\n",
      "    batch_size: 128\n",
      "    shuffle: false\n",
      "    time_length: 3\n",
      "    num_workers: 15\n",
      "    pin_memory: true\n",
      "    \n"
     ]
    },
    {
     "name": "stdout",
     "output_type": "stream",
     "text": [
      "[NeMo I 2022-07-25 20:39:55 features:200] PADDING: 16\n",
      "[NeMo I 2022-07-25 20:39:56 label_models:100] loss is Angular Softmax\n",
      "[NeMo I 2022-07-25 20:39:56 save_restore_connector:243] Model EncDecSpeakerLabelModel was successfully restored from /root/.cache/torch/NeMo/NeMo_1.10.0/titanet-l/492c0ab8416139171dc18c21879a9e45/titanet-l.nemo.\n",
      "[NeMo I 2022-07-25 20:39:56 speaker_utils:82] Number of files to diarize: 1\n",
      "[NeMo I 2022-07-25 20:39:56 clustering_diarizer:271] Subsegmentation for embedding extraction: scale0, /home/DATA/amit_kesari/SD1/NeMo-ASR_Diar/data/voxconverse/speaker_outputs/subsegments_scale0.json\n",
      "[NeMo I 2022-07-25 20:39:56 clustering_diarizer:325] Extracting embeddings for Diarization\n",
      "[NeMo I 2022-07-25 20:39:56 collections:289] Filtered duration for loading collection is 0.000000.\n",
      "[NeMo I 2022-07-25 20:39:56 collections:293] # 1238 files loaded accounting to # 1 labels\n"
     ]
    },
    {
     "name": "stderr",
     "output_type": "stream",
     "text": [
      "100%|██████████| 20/20 [00:03<00:00,  5.49it/s]\n",
      "100%|██████████| 1/1 [00:08<00:00,  8.24s/it]\n"
     ]
    },
    {
     "name": "stdout",
     "output_type": "stream",
     "text": [
      "[NeMo I 2022-07-25 20:40:09 speaker_utils:460] Cumulative Results for collar 0.25 sec and ignore_overlap True: \n",
      "     FA: 0.0337\t MISS 0.0467\t                 Diarization ER: 0.6404\t, Confusion ER:0.5600\n",
      "[NeMo I 2022-07-25 20:40:09 clustering_diarizer:444] Outputs are saved in /home/DATA/amit_kesari/SD1/NeMo-ASR_Diar/data/voxconverse directory\n",
      "\n",
      "\n",
      "Diar score:  (<pyannote.metrics.diarization.DiarizationErrorRate object at 0x7fa157db0d60>, {'bpzsc': {'speaker_0': 'spk02', 'speaker_1': 'spk03', 'speaker_2': 'spk04', 'speaker_4': 'spk01', 'speaker_5': 'spk00', 'speaker_6': 'spk06'}})\n",
      "Diarization error rate (DER) = 67.2%\n",
      "\n",
      "\n",
      "voxconverse_label:  bvqnu\n",
      "num_speakers:  9\n",
      "[NeMo I 2022-07-25 20:40:10 speaker_utils:82] Number of files to diarize: 1\n",
      "[NeMo I 2022-07-25 20:40:10 cloud:56] Found existing object /root/.cache/torch/NeMo/NeMo_1.10.0/QuartzNet15x5Base-En/2b066be39e9294d7100fb176ec817722/QuartzNet15x5Base-En.nemo.\n",
      "[NeMo I 2022-07-25 20:40:10 cloud:62] Re-using file from: /root/.cache/torch/NeMo/NeMo_1.10.0/QuartzNet15x5Base-En/2b066be39e9294d7100fb176ec817722/QuartzNet15x5Base-En.nemo\n",
      "[NeMo I 2022-07-25 20:40:10 common:789] Instantiating model from pre-trained checkpoint\n",
      "[NeMo I 2022-07-25 20:40:11 features:200] PADDING: 16\n",
      "[NeMo I 2022-07-25 20:40:12 save_restore_connector:243] Model EncDecCTCModel was successfully restored from /root/.cache/torch/NeMo/NeMo_1.10.0/QuartzNet15x5Base-En/2b066be39e9294d7100fb176ec817722/QuartzNet15x5Base-En.nemo.\n"
     ]
    },
    {
     "data": {
      "application/vnd.jupyter.widget-view+json": {
       "model_id": "50971240910143eca193ed8c6ea1323c",
       "version_major": 2,
       "version_minor": 0
      },
      "text/plain": [
       "Transcribing:   0%|          | 0/1 [00:00<?, ?it/s]"
      ]
     },
     "metadata": {},
     "output_type": "display_data"
    },
    {
     "name": "stdout",
     "output_type": "stream",
     "text": [
      "[NeMo I 2022-07-25 20:40:14 speaker_utils:82] Number of files to diarize: 1\n",
      "[NeMo I 2022-07-25 20:40:14 clustering_diarizer:153] Loading pretrained titanet_large model from NGC\n",
      "[NeMo I 2022-07-25 20:40:14 cloud:56] Found existing object /root/.cache/torch/NeMo/NeMo_1.10.0/titanet-l/492c0ab8416139171dc18c21879a9e45/titanet-l.nemo.\n",
      "[NeMo I 2022-07-25 20:40:14 cloud:62] Re-using file from: /root/.cache/torch/NeMo/NeMo_1.10.0/titanet-l/492c0ab8416139171dc18c21879a9e45/titanet-l.nemo\n",
      "[NeMo I 2022-07-25 20:40:14 common:789] Instantiating model from pre-trained checkpoint\n"
     ]
    },
    {
     "name": "stderr",
     "output_type": "stream",
     "text": [
      "[NeMo W 2022-07-25 20:40:14 modelPT:148] If you intend to do training or fine-tuning, please call the ModelPT.setup_training_data() method and provide a valid configuration file to setup the train data loader.\n",
      "    Train config : \n",
      "    manifest_filepath: /manifests/combined_fisher_swbd_voxceleb12_librispeech/train.json\n",
      "    sample_rate: 16000\n",
      "    labels: null\n",
      "    batch_size: 64\n",
      "    shuffle: true\n",
      "    time_length: 3\n",
      "    is_tarred: false\n",
      "    tarred_audio_filepaths: null\n",
      "    tarred_shard_strategy: scatter\n",
      "    augmentor:\n",
      "      noise:\n",
      "        manifest_path: /manifests/noise/rir_noise_manifest.json\n",
      "        prob: 0.5\n",
      "        min_snr_db: 0\n",
      "        max_snr_db: 15\n",
      "      speed:\n",
      "        prob: 0.5\n",
      "        sr: 16000\n",
      "        resample_type: kaiser_fast\n",
      "        min_speed_rate: 0.95\n",
      "        max_speed_rate: 1.05\n",
      "    num_workers: 15\n",
      "    pin_memory: true\n",
      "    \n",
      "[NeMo W 2022-07-25 20:40:14 modelPT:155] If you intend to do validation, please call the ModelPT.setup_validation_data() or ModelPT.setup_multiple_validation_data() method and provide a valid configuration file to setup the validation data loader(s). \n",
      "    Validation config : \n",
      "    manifest_filepath: /manifests/combined_fisher_swbd_voxceleb12_librispeech/dev.json\n",
      "    sample_rate: 16000\n",
      "    labels: null\n",
      "    batch_size: 128\n",
      "    shuffle: false\n",
      "    time_length: 3\n",
      "    num_workers: 15\n",
      "    pin_memory: true\n",
      "    \n"
     ]
    },
    {
     "name": "stdout",
     "output_type": "stream",
     "text": [
      "[NeMo I 2022-07-25 20:40:14 features:200] PADDING: 16\n",
      "[NeMo I 2022-07-25 20:40:15 label_models:100] loss is Angular Softmax\n",
      "[NeMo I 2022-07-25 20:41:07 save_restore_connector:243] Model EncDecSpeakerLabelModel was successfully restored from /root/.cache/torch/NeMo/NeMo_1.10.0/titanet-l/492c0ab8416139171dc18c21879a9e45/titanet-l.nemo.\n",
      "[NeMo I 2022-07-25 20:41:07 speaker_utils:82] Number of files to diarize: 1\n",
      "[NeMo I 2022-07-25 20:41:07 clustering_diarizer:271] Subsegmentation for embedding extraction: scale0, /home/DATA/amit_kesari/SD1/NeMo-ASR_Diar/data/voxconverse/speaker_outputs/subsegments_scale0.json\n",
      "[NeMo I 2022-07-25 20:41:07 clustering_diarizer:325] Extracting embeddings for Diarization\n",
      "[NeMo I 2022-07-25 20:41:07 collections:289] Filtered duration for loading collection is 0.000000.\n",
      "[NeMo I 2022-07-25 20:41:07 collections:293] # 1011 files loaded accounting to # 1 labels\n"
     ]
    },
    {
     "name": "stderr",
     "output_type": "stream",
     "text": [
      "100%|██████████| 16/16 [00:03<00:00,  5.10it/s]\n",
      "100%|██████████| 1/1 [00:08<00:00,  8.69s/it]\n"
     ]
    },
    {
     "name": "stdout",
     "output_type": "stream",
     "text": [
      "[NeMo I 2022-07-25 20:41:20 speaker_utils:460] Cumulative Results for collar 0.25 sec and ignore_overlap True: \n",
      "     FA: 0.0261\t MISS 0.2215\t                 Diarization ER: 0.3546\t, Confusion ER:0.1070\n",
      "[NeMo I 2022-07-25 20:41:20 clustering_diarizer:444] Outputs are saved in /home/DATA/amit_kesari/SD1/NeMo-ASR_Diar/data/voxconverse directory\n",
      "\n",
      "\n",
      "Diar score:  (<pyannote.metrics.diarization.DiarizationErrorRate object at 0x7fa068239220>, {'bvqnu': {'speaker_0': 'spk00', 'speaker_1': 'spk06', 'speaker_2': 'spk01', 'speaker_5': 'spk08', 'speaker_6': 'spk04', 'speaker_8': 'spk05'}})\n",
      "Diarization error rate (DER) = 39.5%\n",
      "\n",
      "\n",
      "voxconverse_label:  bvyvm\n",
      "num_speakers:  3\n",
      "[NeMo I 2022-07-25 20:41:21 speaker_utils:82] Number of files to diarize: 1\n",
      "[NeMo I 2022-07-25 20:41:21 cloud:56] Found existing object /root/.cache/torch/NeMo/NeMo_1.10.0/QuartzNet15x5Base-En/2b066be39e9294d7100fb176ec817722/QuartzNet15x5Base-En.nemo.\n",
      "[NeMo I 2022-07-25 20:41:21 cloud:62] Re-using file from: /root/.cache/torch/NeMo/NeMo_1.10.0/QuartzNet15x5Base-En/2b066be39e9294d7100fb176ec817722/QuartzNet15x5Base-En.nemo\n",
      "[NeMo I 2022-07-25 20:41:21 common:789] Instantiating model from pre-trained checkpoint\n",
      "[NeMo I 2022-07-25 20:41:22 features:200] PADDING: 16\n",
      "[NeMo I 2022-07-25 20:41:23 save_restore_connector:243] Model EncDecCTCModel was successfully restored from /root/.cache/torch/NeMo/NeMo_1.10.0/QuartzNet15x5Base-En/2b066be39e9294d7100fb176ec817722/QuartzNet15x5Base-En.nemo.\n"
     ]
    },
    {
     "data": {
      "application/vnd.jupyter.widget-view+json": {
       "model_id": "13db337bc4204c44adf15dc81b41835d",
       "version_major": 2,
       "version_minor": 0
      },
      "text/plain": [
       "Transcribing:   0%|          | 0/1 [00:00<?, ?it/s]"
      ]
     },
     "metadata": {},
     "output_type": "display_data"
    },
    {
     "name": "stdout",
     "output_type": "stream",
     "text": [
      "[NeMo I 2022-07-25 20:41:24 speaker_utils:82] Number of files to diarize: 1\n",
      "[NeMo I 2022-07-25 20:41:24 clustering_diarizer:153] Loading pretrained titanet_large model from NGC\n",
      "[NeMo I 2022-07-25 20:41:24 cloud:56] Found existing object /root/.cache/torch/NeMo/NeMo_1.10.0/titanet-l/492c0ab8416139171dc18c21879a9e45/titanet-l.nemo.\n",
      "[NeMo I 2022-07-25 20:41:24 cloud:62] Re-using file from: /root/.cache/torch/NeMo/NeMo_1.10.0/titanet-l/492c0ab8416139171dc18c21879a9e45/titanet-l.nemo\n",
      "[NeMo I 2022-07-25 20:41:24 common:789] Instantiating model from pre-trained checkpoint\n"
     ]
    },
    {
     "name": "stderr",
     "output_type": "stream",
     "text": [
      "[NeMo W 2022-07-25 20:41:25 modelPT:148] If you intend to do training or fine-tuning, please call the ModelPT.setup_training_data() method and provide a valid configuration file to setup the train data loader.\n",
      "    Train config : \n",
      "    manifest_filepath: /manifests/combined_fisher_swbd_voxceleb12_librispeech/train.json\n",
      "    sample_rate: 16000\n",
      "    labels: null\n",
      "    batch_size: 64\n",
      "    shuffle: true\n",
      "    time_length: 3\n",
      "    is_tarred: false\n",
      "    tarred_audio_filepaths: null\n",
      "    tarred_shard_strategy: scatter\n",
      "    augmentor:\n",
      "      noise:\n",
      "        manifest_path: /manifests/noise/rir_noise_manifest.json\n",
      "        prob: 0.5\n",
      "        min_snr_db: 0\n",
      "        max_snr_db: 15\n",
      "      speed:\n",
      "        prob: 0.5\n",
      "        sr: 16000\n",
      "        resample_type: kaiser_fast\n",
      "        min_speed_rate: 0.95\n",
      "        max_speed_rate: 1.05\n",
      "    num_workers: 15\n",
      "    pin_memory: true\n",
      "    \n",
      "[NeMo W 2022-07-25 20:41:25 modelPT:155] If you intend to do validation, please call the ModelPT.setup_validation_data() or ModelPT.setup_multiple_validation_data() method and provide a valid configuration file to setup the validation data loader(s). \n",
      "    Validation config : \n",
      "    manifest_filepath: /manifests/combined_fisher_swbd_voxceleb12_librispeech/dev.json\n",
      "    sample_rate: 16000\n",
      "    labels: null\n",
      "    batch_size: 128\n",
      "    shuffle: false\n",
      "    time_length: 3\n",
      "    num_workers: 15\n",
      "    pin_memory: true\n",
      "    \n"
     ]
    },
    {
     "name": "stdout",
     "output_type": "stream",
     "text": [
      "[NeMo I 2022-07-25 20:41:25 features:200] PADDING: 16\n",
      "[NeMo I 2022-07-25 20:41:25 label_models:100] loss is Angular Softmax\n",
      "[NeMo I 2022-07-25 20:41:26 save_restore_connector:243] Model EncDecSpeakerLabelModel was successfully restored from /root/.cache/torch/NeMo/NeMo_1.10.0/titanet-l/492c0ab8416139171dc18c21879a9e45/titanet-l.nemo.\n",
      "[NeMo I 2022-07-25 20:41:26 speaker_utils:82] Number of files to diarize: 1\n",
      "[NeMo I 2022-07-25 20:41:26 clustering_diarizer:271] Subsegmentation for embedding extraction: scale0, /home/DATA/amit_kesari/SD1/NeMo-ASR_Diar/data/voxconverse/speaker_outputs/subsegments_scale0.json\n",
      "[NeMo I 2022-07-25 20:41:26 clustering_diarizer:325] Extracting embeddings for Diarization\n",
      "[NeMo I 2022-07-25 20:41:26 collections:289] Filtered duration for loading collection is 0.000000.\n",
      "[NeMo I 2022-07-25 20:41:26 collections:293] # 233 files loaded accounting to # 1 labels\n"
     ]
    },
    {
     "name": "stderr",
     "output_type": "stream",
     "text": [
      "100%|██████████| 4/4 [00:01<00:00,  3.98it/s]\n",
      "100%|██████████| 1/1 [00:05<00:00,  5.93s/it]"
     ]
    },
    {
     "name": "stdout",
     "output_type": "stream",
     "text": [
      "[NeMo I 2022-07-25 20:41:33 speaker_utils:460] Cumulative Results for collar 0.25 sec and ignore_overlap True: \n",
      "     FA: 0.0437\t MISS 0.2430\t                 Diarization ER: 0.3765\t, Confusion ER:0.0897\n",
      "[NeMo I 2022-07-25 20:41:33 clustering_diarizer:444] Outputs are saved in /home/DATA/amit_kesari/SD1/NeMo-ASR_Diar/data/voxconverse directory\n",
      "\n",
      "\n",
      "Diar score:  (<pyannote.metrics.diarization.DiarizationErrorRate object at 0x7fa06de48e80>, {'bvyvm': {'speaker_0': 'spk01', 'speaker_1': 'spk00', 'speaker_2': 'spk02'}})\n",
      "Diarization error rate (DER) = 41.5%\n",
      "\n",
      "\n",
      "voxconverse_label:  bxcfq\n",
      "num_speakers:  2\n",
      "[NeMo I 2022-07-25 20:41:33 speaker_utils:82] Number of files to diarize: 1\n",
      "[NeMo I 2022-07-25 20:41:33 cloud:56] Found existing object /root/.cache/torch/NeMo/NeMo_1.10.0/QuartzNet15x5Base-En/2b066be39e9294d7100fb176ec817722/QuartzNet15x5Base-En.nemo.\n",
      "[NeMo I 2022-07-25 20:41:33 cloud:62] Re-using file from: /root/.cache/torch/NeMo/NeMo_1.10.0/QuartzNet15x5Base-En/2b066be39e9294d7100fb176ec817722/QuartzNet15x5Base-En.nemo\n",
      "[NeMo I 2022-07-25 20:41:33 common:789] Instantiating model from pre-trained checkpoint\n"
     ]
    },
    {
     "name": "stderr",
     "output_type": "stream",
     "text": [
      "\n"
     ]
    },
    {
     "name": "stdout",
     "output_type": "stream",
     "text": [
      "[NeMo I 2022-07-25 20:41:33 features:200] PADDING: 16\n",
      "[NeMo I 2022-07-25 20:41:35 save_restore_connector:243] Model EncDecCTCModel was successfully restored from /root/.cache/torch/NeMo/NeMo_1.10.0/QuartzNet15x5Base-En/2b066be39e9294d7100fb176ec817722/QuartzNet15x5Base-En.nemo.\n"
     ]
    },
    {
     "data": {
      "application/vnd.jupyter.widget-view+json": {
       "model_id": "282996e506804a7ba7dfd4efb1829027",
       "version_major": 2,
       "version_minor": 0
      },
      "text/plain": [
       "Transcribing:   0%|          | 0/1 [00:00<?, ?it/s]"
      ]
     },
     "metadata": {},
     "output_type": "display_data"
    },
    {
     "name": "stdout",
     "output_type": "stream",
     "text": [
      "[NeMo I 2022-07-25 20:41:36 speaker_utils:82] Number of files to diarize: 1\n",
      "[NeMo I 2022-07-25 20:41:36 clustering_diarizer:153] Loading pretrained titanet_large model from NGC\n",
      "[NeMo I 2022-07-25 20:41:36 cloud:56] Found existing object /root/.cache/torch/NeMo/NeMo_1.10.0/titanet-l/492c0ab8416139171dc18c21879a9e45/titanet-l.nemo.\n",
      "[NeMo I 2022-07-25 20:41:36 cloud:62] Re-using file from: /root/.cache/torch/NeMo/NeMo_1.10.0/titanet-l/492c0ab8416139171dc18c21879a9e45/titanet-l.nemo\n",
      "[NeMo I 2022-07-25 20:41:36 common:789] Instantiating model from pre-trained checkpoint\n"
     ]
    },
    {
     "name": "stderr",
     "output_type": "stream",
     "text": [
      "[NeMo W 2022-07-25 20:41:37 modelPT:148] If you intend to do training or fine-tuning, please call the ModelPT.setup_training_data() method and provide a valid configuration file to setup the train data loader.\n",
      "    Train config : \n",
      "    manifest_filepath: /manifests/combined_fisher_swbd_voxceleb12_librispeech/train.json\n",
      "    sample_rate: 16000\n",
      "    labels: null\n",
      "    batch_size: 64\n",
      "    shuffle: true\n",
      "    time_length: 3\n",
      "    is_tarred: false\n",
      "    tarred_audio_filepaths: null\n",
      "    tarred_shard_strategy: scatter\n",
      "    augmentor:\n",
      "      noise:\n",
      "        manifest_path: /manifests/noise/rir_noise_manifest.json\n",
      "        prob: 0.5\n",
      "        min_snr_db: 0\n",
      "        max_snr_db: 15\n",
      "      speed:\n",
      "        prob: 0.5\n",
      "        sr: 16000\n",
      "        resample_type: kaiser_fast\n",
      "        min_speed_rate: 0.95\n",
      "        max_speed_rate: 1.05\n",
      "    num_workers: 15\n",
      "    pin_memory: true\n",
      "    \n",
      "[NeMo W 2022-07-25 20:41:37 modelPT:155] If you intend to do validation, please call the ModelPT.setup_validation_data() or ModelPT.setup_multiple_validation_data() method and provide a valid configuration file to setup the validation data loader(s). \n",
      "    Validation config : \n",
      "    manifest_filepath: /manifests/combined_fisher_swbd_voxceleb12_librispeech/dev.json\n",
      "    sample_rate: 16000\n",
      "    labels: null\n",
      "    batch_size: 128\n",
      "    shuffle: false\n",
      "    time_length: 3\n",
      "    num_workers: 15\n",
      "    pin_memory: true\n",
      "    \n"
     ]
    },
    {
     "name": "stdout",
     "output_type": "stream",
     "text": [
      "[NeMo I 2022-07-25 20:41:37 features:200] PADDING: 16\n",
      "[NeMo I 2022-07-25 20:41:38 label_models:100] loss is Angular Softmax\n",
      "[NeMo I 2022-07-25 20:41:38 save_restore_connector:243] Model EncDecSpeakerLabelModel was successfully restored from /root/.cache/torch/NeMo/NeMo_1.10.0/titanet-l/492c0ab8416139171dc18c21879a9e45/titanet-l.nemo.\n",
      "[NeMo I 2022-07-25 20:41:38 speaker_utils:82] Number of files to diarize: 1\n",
      "[NeMo I 2022-07-25 20:41:38 clustering_diarizer:271] Subsegmentation for embedding extraction: scale0, /home/DATA/amit_kesari/SD1/NeMo-ASR_Diar/data/voxconverse/speaker_outputs/subsegments_scale0.json\n",
      "[NeMo I 2022-07-25 20:41:38 clustering_diarizer:325] Extracting embeddings for Diarization\n",
      "[NeMo I 2022-07-25 20:41:38 collections:289] Filtered duration for loading collection is 0.000000.\n",
      "[NeMo I 2022-07-25 20:41:38 collections:293] # 387 files loaded accounting to # 1 labels\n"
     ]
    },
    {
     "name": "stderr",
     "output_type": "stream",
     "text": [
      "100%|██████████| 7/7 [00:01<00:00,  5.09it/s]\n",
      "100%|██████████| 1/1 [00:09<00:00,  9.75s/it]"
     ]
    },
    {
     "name": "stdout",
     "output_type": "stream",
     "text": [
      "[NeMo I 2022-07-25 20:41:49 speaker_utils:460] Cumulative Results for collar 0.25 sec and ignore_overlap True: \n",
      "     FA: 0.0000\t MISS 0.2820\t                 Diarization ER: 0.3035\t, Confusion ER:0.0215\n",
      "[NeMo I 2022-07-25 20:41:49 clustering_diarizer:444] Outputs are saved in /home/DATA/amit_kesari/SD1/NeMo-ASR_Diar/data/voxconverse directory\n"
     ]
    },
    {
     "name": "stderr",
     "output_type": "stream",
     "text": [
      "\n"
     ]
    },
    {
     "name": "stdout",
     "output_type": "stream",
     "text": [
      "\n",
      "\n",
      "Diar score:  (<pyannote.metrics.diarization.DiarizationErrorRate object at 0x7fa058192250>, {'bxcfq': {'speaker_0': 'spk01', 'speaker_1': 'spk00'}})\n",
      "Diarization error rate (DER) = 31.9%\n",
      "\n",
      "\n",
      "voxconverse_label:  byapz\n",
      "num_speakers:  15\n",
      "[NeMo I 2022-07-25 20:41:50 speaker_utils:82] Number of files to diarize: 1\n",
      "[NeMo I 2022-07-25 20:41:50 cloud:56] Found existing object /root/.cache/torch/NeMo/NeMo_1.10.0/QuartzNet15x5Base-En/2b066be39e9294d7100fb176ec817722/QuartzNet15x5Base-En.nemo.\n",
      "[NeMo I 2022-07-25 20:41:50 cloud:62] Re-using file from: /root/.cache/torch/NeMo/NeMo_1.10.0/QuartzNet15x5Base-En/2b066be39e9294d7100fb176ec817722/QuartzNet15x5Base-En.nemo\n",
      "[NeMo I 2022-07-25 20:41:50 common:789] Instantiating model from pre-trained checkpoint\n",
      "[NeMo I 2022-07-25 20:41:50 features:200] PADDING: 16\n",
      "[NeMo I 2022-07-25 20:41:52 save_restore_connector:243] Model EncDecCTCModel was successfully restored from /root/.cache/torch/NeMo/NeMo_1.10.0/QuartzNet15x5Base-En/2b066be39e9294d7100fb176ec817722/QuartzNet15x5Base-En.nemo.\n"
     ]
    },
    {
     "data": {
      "application/vnd.jupyter.widget-view+json": {
       "model_id": "0547399a45f445a69d0f8e5e2cc1f803",
       "version_major": 2,
       "version_minor": 0
      },
      "text/plain": [
       "Transcribing:   0%|          | 0/1 [00:00<?, ?it/s]"
      ]
     },
     "metadata": {},
     "output_type": "display_data"
    },
    {
     "name": "stdout",
     "output_type": "stream",
     "text": [
      "[NeMo I 2022-07-25 20:41:53 speaker_utils:82] Number of files to diarize: 1\n",
      "[NeMo I 2022-07-25 20:41:53 clustering_diarizer:153] Loading pretrained titanet_large model from NGC\n",
      "[NeMo I 2022-07-25 20:41:53 cloud:56] Found existing object /root/.cache/torch/NeMo/NeMo_1.10.0/titanet-l/492c0ab8416139171dc18c21879a9e45/titanet-l.nemo.\n",
      "[NeMo I 2022-07-25 20:41:53 cloud:62] Re-using file from: /root/.cache/torch/NeMo/NeMo_1.10.0/titanet-l/492c0ab8416139171dc18c21879a9e45/titanet-l.nemo\n",
      "[NeMo I 2022-07-25 20:41:53 common:789] Instantiating model from pre-trained checkpoint\n"
     ]
    },
    {
     "name": "stderr",
     "output_type": "stream",
     "text": [
      "[NeMo W 2022-07-25 20:41:53 modelPT:148] If you intend to do training or fine-tuning, please call the ModelPT.setup_training_data() method and provide a valid configuration file to setup the train data loader.\n",
      "    Train config : \n",
      "    manifest_filepath: /manifests/combined_fisher_swbd_voxceleb12_librispeech/train.json\n",
      "    sample_rate: 16000\n",
      "    labels: null\n",
      "    batch_size: 64\n",
      "    shuffle: true\n",
      "    time_length: 3\n",
      "    is_tarred: false\n",
      "    tarred_audio_filepaths: null\n",
      "    tarred_shard_strategy: scatter\n",
      "    augmentor:\n",
      "      noise:\n",
      "        manifest_path: /manifests/noise/rir_noise_manifest.json\n",
      "        prob: 0.5\n",
      "        min_snr_db: 0\n",
      "        max_snr_db: 15\n",
      "      speed:\n",
      "        prob: 0.5\n",
      "        sr: 16000\n",
      "        resample_type: kaiser_fast\n",
      "        min_speed_rate: 0.95\n",
      "        max_speed_rate: 1.05\n",
      "    num_workers: 15\n",
      "    pin_memory: true\n",
      "    \n",
      "[NeMo W 2022-07-25 20:41:53 modelPT:155] If you intend to do validation, please call the ModelPT.setup_validation_data() or ModelPT.setup_multiple_validation_data() method and provide a valid configuration file to setup the validation data loader(s). \n",
      "    Validation config : \n",
      "    manifest_filepath: /manifests/combined_fisher_swbd_voxceleb12_librispeech/dev.json\n",
      "    sample_rate: 16000\n",
      "    labels: null\n",
      "    batch_size: 128\n",
      "    shuffle: false\n",
      "    time_length: 3\n",
      "    num_workers: 15\n",
      "    pin_memory: true\n",
      "    \n"
     ]
    },
    {
     "name": "stdout",
     "output_type": "stream",
     "text": [
      "[NeMo I 2022-07-25 20:41:53 features:200] PADDING: 16\n",
      "[NeMo I 2022-07-25 20:41:54 label_models:100] loss is Angular Softmax\n",
      "[NeMo I 2022-07-25 20:41:54 save_restore_connector:243] Model EncDecSpeakerLabelModel was successfully restored from /root/.cache/torch/NeMo/NeMo_1.10.0/titanet-l/492c0ab8416139171dc18c21879a9e45/titanet-l.nemo.\n",
      "[NeMo I 2022-07-25 20:41:54 speaker_utils:82] Number of files to diarize: 1\n",
      "[NeMo I 2022-07-25 20:41:54 clustering_diarizer:271] Subsegmentation for embedding extraction: scale0, /home/DATA/amit_kesari/SD1/NeMo-ASR_Diar/data/voxconverse/speaker_outputs/subsegments_scale0.json\n",
      "[NeMo I 2022-07-25 20:41:54 clustering_diarizer:325] Extracting embeddings for Diarization\n",
      "[NeMo I 2022-07-25 20:41:54 collections:289] Filtered duration for loading collection is 0.000000.\n",
      "[NeMo I 2022-07-25 20:41:54 collections:293] # 545 files loaded accounting to # 1 labels\n"
     ]
    },
    {
     "name": "stderr",
     "output_type": "stream",
     "text": [
      "100%|██████████| 9/9 [00:01<00:00,  4.93it/s]\n",
      "100%|██████████| 1/1 [00:14<00:00, 14.56s/it]\n"
     ]
    },
    {
     "name": "stdout",
     "output_type": "stream",
     "text": [
      "[NeMo I 2022-07-25 20:42:11 speaker_utils:460] Cumulative Results for collar 0.25 sec and ignore_overlap True: \n",
      "     FA: 0.0739\t MISS 0.0712\t                 Diarization ER: 0.4977\t, Confusion ER:0.3526\n",
      "[NeMo I 2022-07-25 20:42:11 clustering_diarizer:444] Outputs are saved in /home/DATA/amit_kesari/SD1/NeMo-ASR_Diar/data/voxconverse directory\n",
      "\n",
      "\n",
      "Diar score:  (<pyannote.metrics.diarization.DiarizationErrorRate object at 0x7fa0500d2670>, {'byapz': {'speaker_0': 'spk04', 'speaker_1': 'spk00', 'speaker_10': 'spk10', 'speaker_11': 'spk06', 'speaker_14': 'spk08', 'speaker_2': 'spk13', 'speaker_4': 'spk01', 'speaker_5': 'spk12', 'speaker_6': 'spk02', 'speaker_8': 'spk09', 'speaker_9': 'spk07'}})\n",
      "Diarization error rate (DER) = 53.5%\n",
      "\n",
      "\n",
      "voxconverse_label:  cadba\n",
      "num_speakers:  7\n",
      "[NeMo I 2022-07-25 20:42:11 speaker_utils:82] Number of files to diarize: 1\n",
      "[NeMo I 2022-07-25 20:42:11 cloud:56] Found existing object /root/.cache/torch/NeMo/NeMo_1.10.0/QuartzNet15x5Base-En/2b066be39e9294d7100fb176ec817722/QuartzNet15x5Base-En.nemo.\n",
      "[NeMo I 2022-07-25 20:42:11 cloud:62] Re-using file from: /root/.cache/torch/NeMo/NeMo_1.10.0/QuartzNet15x5Base-En/2b066be39e9294d7100fb176ec817722/QuartzNet15x5Base-En.nemo\n",
      "[NeMo I 2022-07-25 20:42:11 common:789] Instantiating model from pre-trained checkpoint\n",
      "[NeMo I 2022-07-25 20:42:12 features:200] PADDING: 16\n",
      "[NeMo I 2022-07-25 20:42:13 save_restore_connector:243] Model EncDecCTCModel was successfully restored from /root/.cache/torch/NeMo/NeMo_1.10.0/QuartzNet15x5Base-En/2b066be39e9294d7100fb176ec817722/QuartzNet15x5Base-En.nemo.\n"
     ]
    },
    {
     "data": {
      "application/vnd.jupyter.widget-view+json": {
       "model_id": "1a3d41431f91401d842a2d2234dde5e5",
       "version_major": 2,
       "version_minor": 0
      },
      "text/plain": [
       "Transcribing:   0%|          | 0/1 [00:00<?, ?it/s]"
      ]
     },
     "metadata": {},
     "output_type": "display_data"
    },
    {
     "name": "stdout",
     "output_type": "stream",
     "text": [
      "[NeMo I 2022-07-25 20:42:15 speaker_utils:82] Number of files to diarize: 1\n",
      "[NeMo I 2022-07-25 20:42:15 clustering_diarizer:153] Loading pretrained titanet_large model from NGC\n",
      "[NeMo I 2022-07-25 20:42:15 cloud:56] Found existing object /root/.cache/torch/NeMo/NeMo_1.10.0/titanet-l/492c0ab8416139171dc18c21879a9e45/titanet-l.nemo.\n",
      "[NeMo I 2022-07-25 20:42:15 cloud:62] Re-using file from: /root/.cache/torch/NeMo/NeMo_1.10.0/titanet-l/492c0ab8416139171dc18c21879a9e45/titanet-l.nemo\n",
      "[NeMo I 2022-07-25 20:42:15 common:789] Instantiating model from pre-trained checkpoint\n"
     ]
    },
    {
     "name": "stderr",
     "output_type": "stream",
     "text": [
      "[NeMo W 2022-07-25 20:42:16 modelPT:148] If you intend to do training or fine-tuning, please call the ModelPT.setup_training_data() method and provide a valid configuration file to setup the train data loader.\n",
      "    Train config : \n",
      "    manifest_filepath: /manifests/combined_fisher_swbd_voxceleb12_librispeech/train.json\n",
      "    sample_rate: 16000\n",
      "    labels: null\n",
      "    batch_size: 64\n",
      "    shuffle: true\n",
      "    time_length: 3\n",
      "    is_tarred: false\n",
      "    tarred_audio_filepaths: null\n",
      "    tarred_shard_strategy: scatter\n",
      "    augmentor:\n",
      "      noise:\n",
      "        manifest_path: /manifests/noise/rir_noise_manifest.json\n",
      "        prob: 0.5\n",
      "        min_snr_db: 0\n",
      "        max_snr_db: 15\n",
      "      speed:\n",
      "        prob: 0.5\n",
      "        sr: 16000\n",
      "        resample_type: kaiser_fast\n",
      "        min_speed_rate: 0.95\n",
      "        max_speed_rate: 1.05\n",
      "    num_workers: 15\n",
      "    pin_memory: true\n",
      "    \n",
      "[NeMo W 2022-07-25 20:42:16 modelPT:155] If you intend to do validation, please call the ModelPT.setup_validation_data() or ModelPT.setup_multiple_validation_data() method and provide a valid configuration file to setup the validation data loader(s). \n",
      "    Validation config : \n",
      "    manifest_filepath: /manifests/combined_fisher_swbd_voxceleb12_librispeech/dev.json\n",
      "    sample_rate: 16000\n",
      "    labels: null\n",
      "    batch_size: 128\n",
      "    shuffle: false\n",
      "    time_length: 3\n",
      "    num_workers: 15\n",
      "    pin_memory: true\n",
      "    \n"
     ]
    },
    {
     "name": "stdout",
     "output_type": "stream",
     "text": [
      "[NeMo I 2022-07-25 20:42:16 features:200] PADDING: 16\n",
      "[NeMo I 2022-07-25 20:42:16 label_models:100] loss is Angular Softmax\n",
      "[NeMo I 2022-07-25 20:42:16 save_restore_connector:243] Model EncDecSpeakerLabelModel was successfully restored from /root/.cache/torch/NeMo/NeMo_1.10.0/titanet-l/492c0ab8416139171dc18c21879a9e45/titanet-l.nemo.\n",
      "[NeMo I 2022-07-25 20:42:16 speaker_utils:82] Number of files to diarize: 1\n",
      "[NeMo I 2022-07-25 20:42:16 clustering_diarizer:271] Subsegmentation for embedding extraction: scale0, /home/DATA/amit_kesari/SD1/NeMo-ASR_Diar/data/voxconverse/speaker_outputs/subsegments_scale0.json\n",
      "[NeMo I 2022-07-25 20:42:16 clustering_diarizer:325] Extracting embeddings for Diarization\n",
      "[NeMo I 2022-07-25 20:42:16 collections:289] Filtered duration for loading collection is 0.000000.\n",
      "[NeMo I 2022-07-25 20:42:16 collections:293] # 343 files loaded accounting to # 1 labels\n"
     ]
    },
    {
     "name": "stderr",
     "output_type": "stream",
     "text": [
      "100%|██████████| 6/6 [00:01<00:00,  4.68it/s]\n",
      "100%|██████████| 1/1 [00:09<00:00,  9.29s/it]"
     ]
    },
    {
     "name": "stdout",
     "output_type": "stream",
     "text": [
      "[NeMo I 2022-07-25 20:42:27 speaker_utils:460] Cumulative Results for collar 0.25 sec and ignore_overlap True: \n",
      "     FA: 0.0348\t MISS 0.2005\t                 Diarization ER: 0.4372\t, Confusion ER:0.2019\n",
      "[NeMo I 2022-07-25 20:42:27 clustering_diarizer:444] Outputs are saved in /home/DATA/amit_kesari/SD1/NeMo-ASR_Diar/data/voxconverse directory\n"
     ]
    },
    {
     "name": "stderr",
     "output_type": "stream",
     "text": [
      "\n"
     ]
    },
    {
     "name": "stdout",
     "output_type": "stream",
     "text": [
      "\n",
      "\n",
      "Diar score:  (<pyannote.metrics.diarization.DiarizationErrorRate object at 0x7fa060029310>, {'cadba': {'speaker_0': 'spk06', 'speaker_1': 'spk05', 'speaker_2': 'spk00', 'speaker_3': 'spk04', 'speaker_4': 'spk01', 'speaker_5': 'spk02', 'speaker_6': 'spk03'}})\n",
      "Diarization error rate (DER) = 50.4%\n",
      "\n",
      "\n",
      "voxconverse_label:  cawnd\n",
      "num_speakers:  9\n",
      "[NeMo I 2022-07-25 20:42:27 speaker_utils:82] Number of files to diarize: 1\n",
      "[NeMo I 2022-07-25 20:42:27 cloud:56] Found existing object /root/.cache/torch/NeMo/NeMo_1.10.0/QuartzNet15x5Base-En/2b066be39e9294d7100fb176ec817722/QuartzNet15x5Base-En.nemo.\n",
      "[NeMo I 2022-07-25 20:42:27 cloud:62] Re-using file from: /root/.cache/torch/NeMo/NeMo_1.10.0/QuartzNet15x5Base-En/2b066be39e9294d7100fb176ec817722/QuartzNet15x5Base-En.nemo\n",
      "[NeMo I 2022-07-25 20:42:27 common:789] Instantiating model from pre-trained checkpoint\n",
      "[NeMo I 2022-07-25 20:42:28 features:200] PADDING: 16\n",
      "[NeMo I 2022-07-25 20:42:30 save_restore_connector:243] Model EncDecCTCModel was successfully restored from /root/.cache/torch/NeMo/NeMo_1.10.0/QuartzNet15x5Base-En/2b066be39e9294d7100fb176ec817722/QuartzNet15x5Base-En.nemo.\n"
     ]
    },
    {
     "data": {
      "application/vnd.jupyter.widget-view+json": {
       "model_id": "f26daf8ce88945cba53841055cee5996",
       "version_major": 2,
       "version_minor": 0
      },
      "text/plain": [
       "Transcribing:   0%|          | 0/1 [00:00<?, ?it/s]"
      ]
     },
     "metadata": {},
     "output_type": "display_data"
    },
    {
     "name": "stdout",
     "output_type": "stream",
     "text": [
      "[NeMo I 2022-07-25 20:42:32 speaker_utils:82] Number of files to diarize: 1\n",
      "[NeMo I 2022-07-25 20:42:32 clustering_diarizer:153] Loading pretrained titanet_large model from NGC\n",
      "[NeMo I 2022-07-25 20:42:32 cloud:56] Found existing object /root/.cache/torch/NeMo/NeMo_1.10.0/titanet-l/492c0ab8416139171dc18c21879a9e45/titanet-l.nemo.\n",
      "[NeMo I 2022-07-25 20:42:32 cloud:62] Re-using file from: /root/.cache/torch/NeMo/NeMo_1.10.0/titanet-l/492c0ab8416139171dc18c21879a9e45/titanet-l.nemo\n",
      "[NeMo I 2022-07-25 20:42:32 common:789] Instantiating model from pre-trained checkpoint\n"
     ]
    },
    {
     "name": "stderr",
     "output_type": "stream",
     "text": [
      "[NeMo W 2022-07-25 20:42:33 modelPT:148] If you intend to do training or fine-tuning, please call the ModelPT.setup_training_data() method and provide a valid configuration file to setup the train data loader.\n",
      "    Train config : \n",
      "    manifest_filepath: /manifests/combined_fisher_swbd_voxceleb12_librispeech/train.json\n",
      "    sample_rate: 16000\n",
      "    labels: null\n",
      "    batch_size: 64\n",
      "    shuffle: true\n",
      "    time_length: 3\n",
      "    is_tarred: false\n",
      "    tarred_audio_filepaths: null\n",
      "    tarred_shard_strategy: scatter\n",
      "    augmentor:\n",
      "      noise:\n",
      "        manifest_path: /manifests/noise/rir_noise_manifest.json\n",
      "        prob: 0.5\n",
      "        min_snr_db: 0\n",
      "        max_snr_db: 15\n",
      "      speed:\n",
      "        prob: 0.5\n",
      "        sr: 16000\n",
      "        resample_type: kaiser_fast\n",
      "        min_speed_rate: 0.95\n",
      "        max_speed_rate: 1.05\n",
      "    num_workers: 15\n",
      "    pin_memory: true\n",
      "    \n",
      "[NeMo W 2022-07-25 20:42:33 modelPT:155] If you intend to do validation, please call the ModelPT.setup_validation_data() or ModelPT.setup_multiple_validation_data() method and provide a valid configuration file to setup the validation data loader(s). \n",
      "    Validation config : \n",
      "    manifest_filepath: /manifests/combined_fisher_swbd_voxceleb12_librispeech/dev.json\n",
      "    sample_rate: 16000\n",
      "    labels: null\n",
      "    batch_size: 128\n",
      "    shuffle: false\n",
      "    time_length: 3\n",
      "    num_workers: 15\n",
      "    pin_memory: true\n",
      "    \n"
     ]
    },
    {
     "name": "stdout",
     "output_type": "stream",
     "text": [
      "[NeMo I 2022-07-25 20:42:33 features:200] PADDING: 16\n",
      "[NeMo I 2022-07-25 20:42:33 label_models:100] loss is Angular Softmax\n",
      "[NeMo I 2022-07-25 20:42:33 save_restore_connector:243] Model EncDecSpeakerLabelModel was successfully restored from /root/.cache/torch/NeMo/NeMo_1.10.0/titanet-l/492c0ab8416139171dc18c21879a9e45/titanet-l.nemo.\n",
      "[NeMo I 2022-07-25 20:42:33 speaker_utils:82] Number of files to diarize: 1\n",
      "[NeMo I 2022-07-25 20:42:33 clustering_diarizer:271] Subsegmentation for embedding extraction: scale0, /home/DATA/amit_kesari/SD1/NeMo-ASR_Diar/data/voxconverse/speaker_outputs/subsegments_scale0.json\n",
      "[NeMo I 2022-07-25 20:42:34 clustering_diarizer:325] Extracting embeddings for Diarization\n",
      "[NeMo I 2022-07-25 20:42:34 collections:289] Filtered duration for loading collection is 0.000000.\n",
      "[NeMo I 2022-07-25 20:42:34 collections:293] # 2122 files loaded accounting to # 1 labels\n"
     ]
    },
    {
     "name": "stderr",
     "output_type": "stream",
     "text": [
      "100%|██████████| 34/34 [00:06<00:00,  5.59it/s]\n",
      "100%|██████████| 1/1 [00:10<00:00, 10.04s/it]\n"
     ]
    },
    {
     "name": "stdout",
     "output_type": "stream",
     "text": [
      "[NeMo I 2022-07-25 20:42:53 speaker_utils:460] Cumulative Results for collar 0.25 sec and ignore_overlap True: \n",
      "     FA: 0.0241\t MISS 0.2276\t                 Diarization ER: 0.3698\t, Confusion ER:0.1180\n",
      "[NeMo I 2022-07-25 20:42:53 clustering_diarizer:444] Outputs are saved in /home/DATA/amit_kesari/SD1/NeMo-ASR_Diar/data/voxconverse directory\n",
      "\n",
      "\n",
      "Diar score:  (<pyannote.metrics.diarization.DiarizationErrorRate object at 0x7fa06c7c38b0>, {'cawnd': {'speaker_0': 'spk02', 'speaker_1': 'spk04', 'speaker_2': 'spk08', 'speaker_3': 'spk05', 'speaker_4': 'spk07', 'speaker_5': 'spk00', 'speaker_6': 'spk06', 'speaker_7': 'spk01', 'speaker_8': 'spk03'}})\n",
      "Diarization error rate (DER) = 38.5%\n",
      "\n",
      "\n",
      "voxconverse_label:  clfcg\n",
      "num_speakers:  9\n",
      "[NeMo I 2022-07-25 20:42:56 speaker_utils:82] Number of files to diarize: 1\n",
      "[NeMo I 2022-07-25 20:42:56 cloud:56] Found existing object /root/.cache/torch/NeMo/NeMo_1.10.0/QuartzNet15x5Base-En/2b066be39e9294d7100fb176ec817722/QuartzNet15x5Base-En.nemo.\n",
      "[NeMo I 2022-07-25 20:42:56 cloud:62] Re-using file from: /root/.cache/torch/NeMo/NeMo_1.10.0/QuartzNet15x5Base-En/2b066be39e9294d7100fb176ec817722/QuartzNet15x5Base-En.nemo\n",
      "[NeMo I 2022-07-25 20:42:56 common:789] Instantiating model from pre-trained checkpoint\n",
      "[NeMo I 2022-07-25 20:42:57 features:200] PADDING: 16\n",
      "[NeMo I 2022-07-25 20:42:59 save_restore_connector:243] Model EncDecCTCModel was successfully restored from /root/.cache/torch/NeMo/NeMo_1.10.0/QuartzNet15x5Base-En/2b066be39e9294d7100fb176ec817722/QuartzNet15x5Base-En.nemo.\n"
     ]
    },
    {
     "data": {
      "application/vnd.jupyter.widget-view+json": {
       "model_id": "b9ed0d9bfe5148459b8027692fe5899d",
       "version_major": 2,
       "version_minor": 0
      },
      "text/plain": [
       "Transcribing:   0%|          | 0/1 [00:00<?, ?it/s]"
      ]
     },
     "metadata": {},
     "output_type": "display_data"
    },
    {
     "name": "stdout",
     "output_type": "stream",
     "text": [
      "[NeMo I 2022-07-25 20:43:00 speaker_utils:82] Number of files to diarize: 1\n",
      "[NeMo I 2022-07-25 20:43:00 clustering_diarizer:153] Loading pretrained titanet_large model from NGC\n",
      "[NeMo I 2022-07-25 20:43:00 cloud:56] Found existing object /root/.cache/torch/NeMo/NeMo_1.10.0/titanet-l/492c0ab8416139171dc18c21879a9e45/titanet-l.nemo.\n",
      "[NeMo I 2022-07-25 20:43:00 cloud:62] Re-using file from: /root/.cache/torch/NeMo/NeMo_1.10.0/titanet-l/492c0ab8416139171dc18c21879a9e45/titanet-l.nemo\n",
      "[NeMo I 2022-07-25 20:43:00 common:789] Instantiating model from pre-trained checkpoint\n"
     ]
    },
    {
     "name": "stderr",
     "output_type": "stream",
     "text": [
      "[NeMo W 2022-07-25 20:43:01 modelPT:148] If you intend to do training or fine-tuning, please call the ModelPT.setup_training_data() method and provide a valid configuration file to setup the train data loader.\n",
      "    Train config : \n",
      "    manifest_filepath: /manifests/combined_fisher_swbd_voxceleb12_librispeech/train.json\n",
      "    sample_rate: 16000\n",
      "    labels: null\n",
      "    batch_size: 64\n",
      "    shuffle: true\n",
      "    time_length: 3\n",
      "    is_tarred: false\n",
      "    tarred_audio_filepaths: null\n",
      "    tarred_shard_strategy: scatter\n",
      "    augmentor:\n",
      "      noise:\n",
      "        manifest_path: /manifests/noise/rir_noise_manifest.json\n",
      "        prob: 0.5\n",
      "        min_snr_db: 0\n",
      "        max_snr_db: 15\n",
      "      speed:\n",
      "        prob: 0.5\n",
      "        sr: 16000\n",
      "        resample_type: kaiser_fast\n",
      "        min_speed_rate: 0.95\n",
      "        max_speed_rate: 1.05\n",
      "    num_workers: 15\n",
      "    pin_memory: true\n",
      "    \n",
      "[NeMo W 2022-07-25 20:43:01 modelPT:155] If you intend to do validation, please call the ModelPT.setup_validation_data() or ModelPT.setup_multiple_validation_data() method and provide a valid configuration file to setup the validation data loader(s). \n",
      "    Validation config : \n",
      "    manifest_filepath: /manifests/combined_fisher_swbd_voxceleb12_librispeech/dev.json\n",
      "    sample_rate: 16000\n",
      "    labels: null\n",
      "    batch_size: 128\n",
      "    shuffle: false\n",
      "    time_length: 3\n",
      "    num_workers: 15\n",
      "    pin_memory: true\n",
      "    \n"
     ]
    },
    {
     "name": "stdout",
     "output_type": "stream",
     "text": [
      "[NeMo I 2022-07-25 20:43:01 features:200] PADDING: 16\n",
      "[NeMo I 2022-07-25 20:43:02 label_models:100] loss is Angular Softmax\n",
      "[NeMo I 2022-07-25 20:43:02 save_restore_connector:243] Model EncDecSpeakerLabelModel was successfully restored from /root/.cache/torch/NeMo/NeMo_1.10.0/titanet-l/492c0ab8416139171dc18c21879a9e45/titanet-l.nemo.\n",
      "[NeMo I 2022-07-25 20:43:02 speaker_utils:82] Number of files to diarize: 1\n",
      "[NeMo I 2022-07-25 20:43:02 clustering_diarizer:271] Subsegmentation for embedding extraction: scale0, /home/DATA/amit_kesari/SD1/NeMo-ASR_Diar/data/voxconverse/speaker_outputs/subsegments_scale0.json\n",
      "[NeMo I 2022-07-25 20:43:02 clustering_diarizer:325] Extracting embeddings for Diarization\n",
      "[NeMo I 2022-07-25 20:43:02 collections:289] Filtered duration for loading collection is 0.000000.\n",
      "[NeMo I 2022-07-25 20:43:02 collections:293] # 536 files loaded accounting to # 1 labels\n"
     ]
    },
    {
     "name": "stderr",
     "output_type": "stream",
     "text": [
      "100%|██████████| 9/9 [00:01<00:00,  4.84it/s]\n",
      "100%|██████████| 1/1 [00:14<00:00, 14.22s/it]\n"
     ]
    },
    {
     "name": "stdout",
     "output_type": "stream",
     "text": [
      "[NeMo I 2022-07-25 20:43:18 speaker_utils:460] Cumulative Results for collar 0.25 sec and ignore_overlap True: \n",
      "     FA: 0.0753\t MISS 0.2779\t                 Diarization ER: 0.5236\t, Confusion ER:0.1704\n",
      "[NeMo I 2022-07-25 20:43:18 clustering_diarizer:444] Outputs are saved in /home/DATA/amit_kesari/SD1/NeMo-ASR_Diar/data/voxconverse directory\n",
      "\n",
      "\n",
      "Diar score:  (<pyannote.metrics.diarization.DiarizationErrorRate object at 0x7fa0503b2e20>, {'clfcg': {'speaker_0': 'spk01', 'speaker_2': 'spk07', 'speaker_3': 'spk02', 'speaker_4': 'spk03', 'speaker_5': 'spk05', 'speaker_6': 'spk00', 'speaker_7': 'spk08', 'speaker_8': 'spk04'}})\n",
      "Diarization error rate (DER) = 57.9%\n",
      "\n",
      "\n",
      "voxconverse_label:  cpebh\n",
      "num_speakers:  1\n",
      "[NeMo I 2022-07-25 20:43:19 speaker_utils:82] Number of files to diarize: 1\n",
      "[NeMo I 2022-07-25 20:43:19 cloud:56] Found existing object /root/.cache/torch/NeMo/NeMo_1.10.0/QuartzNet15x5Base-En/2b066be39e9294d7100fb176ec817722/QuartzNet15x5Base-En.nemo.\n",
      "[NeMo I 2022-07-25 20:43:19 cloud:62] Re-using file from: /root/.cache/torch/NeMo/NeMo_1.10.0/QuartzNet15x5Base-En/2b066be39e9294d7100fb176ec817722/QuartzNet15x5Base-En.nemo\n",
      "[NeMo I 2022-07-25 20:43:19 common:789] Instantiating model from pre-trained checkpoint\n",
      "[NeMo I 2022-07-25 20:43:20 features:200] PADDING: 16\n",
      "[NeMo I 2022-07-25 20:43:21 save_restore_connector:243] Model EncDecCTCModel was successfully restored from /root/.cache/torch/NeMo/NeMo_1.10.0/QuartzNet15x5Base-En/2b066be39e9294d7100fb176ec817722/QuartzNet15x5Base-En.nemo.\n"
     ]
    },
    {
     "data": {
      "application/vnd.jupyter.widget-view+json": {
       "model_id": "6fe243811ceb4cb4ad4c1f568b799363",
       "version_major": 2,
       "version_minor": 0
      },
      "text/plain": [
       "Transcribing:   0%|          | 0/1 [00:00<?, ?it/s]"
      ]
     },
     "metadata": {},
     "output_type": "display_data"
    },
    {
     "name": "stdout",
     "output_type": "stream",
     "text": [
      "[NeMo I 2022-07-25 20:43:22 speaker_utils:82] Number of files to diarize: 1\n",
      "[NeMo I 2022-07-25 20:43:22 clustering_diarizer:153] Loading pretrained titanet_large model from NGC\n",
      "[NeMo I 2022-07-25 20:43:22 cloud:56] Found existing object /root/.cache/torch/NeMo/NeMo_1.10.0/titanet-l/492c0ab8416139171dc18c21879a9e45/titanet-l.nemo.\n",
      "[NeMo I 2022-07-25 20:43:22 cloud:62] Re-using file from: /root/.cache/torch/NeMo/NeMo_1.10.0/titanet-l/492c0ab8416139171dc18c21879a9e45/titanet-l.nemo\n",
      "[NeMo I 2022-07-25 20:43:22 common:789] Instantiating model from pre-trained checkpoint\n"
     ]
    },
    {
     "name": "stderr",
     "output_type": "stream",
     "text": [
      "[NeMo W 2022-07-25 20:43:23 modelPT:148] If you intend to do training or fine-tuning, please call the ModelPT.setup_training_data() method and provide a valid configuration file to setup the train data loader.\n",
      "    Train config : \n",
      "    manifest_filepath: /manifests/combined_fisher_swbd_voxceleb12_librispeech/train.json\n",
      "    sample_rate: 16000\n",
      "    labels: null\n",
      "    batch_size: 64\n",
      "    shuffle: true\n",
      "    time_length: 3\n",
      "    is_tarred: false\n",
      "    tarred_audio_filepaths: null\n",
      "    tarred_shard_strategy: scatter\n",
      "    augmentor:\n",
      "      noise:\n",
      "        manifest_path: /manifests/noise/rir_noise_manifest.json\n",
      "        prob: 0.5\n",
      "        min_snr_db: 0\n",
      "        max_snr_db: 15\n",
      "      speed:\n",
      "        prob: 0.5\n",
      "        sr: 16000\n",
      "        resample_type: kaiser_fast\n",
      "        min_speed_rate: 0.95\n",
      "        max_speed_rate: 1.05\n",
      "    num_workers: 15\n",
      "    pin_memory: true\n",
      "    \n",
      "[NeMo W 2022-07-25 20:43:23 modelPT:155] If you intend to do validation, please call the ModelPT.setup_validation_data() or ModelPT.setup_multiple_validation_data() method and provide a valid configuration file to setup the validation data loader(s). \n",
      "    Validation config : \n",
      "    manifest_filepath: /manifests/combined_fisher_swbd_voxceleb12_librispeech/dev.json\n",
      "    sample_rate: 16000\n",
      "    labels: null\n",
      "    batch_size: 128\n",
      "    shuffle: false\n",
      "    time_length: 3\n",
      "    num_workers: 15\n",
      "    pin_memory: true\n",
      "    \n"
     ]
    },
    {
     "name": "stdout",
     "output_type": "stream",
     "text": [
      "[NeMo I 2022-07-25 20:43:23 features:200] PADDING: 16\n",
      "[NeMo I 2022-07-25 20:43:24 label_models:100] loss is Angular Softmax\n",
      "[NeMo I 2022-07-25 20:43:24 save_restore_connector:243] Model EncDecSpeakerLabelModel was successfully restored from /root/.cache/torch/NeMo/NeMo_1.10.0/titanet-l/492c0ab8416139171dc18c21879a9e45/titanet-l.nemo.\n",
      "[NeMo I 2022-07-25 20:43:24 speaker_utils:82] Number of files to diarize: 1\n",
      "[NeMo I 2022-07-25 20:43:24 clustering_diarizer:271] Subsegmentation for embedding extraction: scale0, /home/DATA/amit_kesari/SD1/NeMo-ASR_Diar/data/voxconverse/speaker_outputs/subsegments_scale0.json\n",
      "[NeMo I 2022-07-25 20:43:24 clustering_diarizer:325] Extracting embeddings for Diarization\n",
      "[NeMo I 2022-07-25 20:43:24 collections:289] Filtered duration for loading collection is 0.000000.\n",
      "[NeMo I 2022-07-25 20:43:24 collections:293] # 1356 files loaded accounting to # 1 labels\n"
     ]
    },
    {
     "name": "stderr",
     "output_type": "stream",
     "text": [
      "100%|██████████| 22/22 [00:03<00:00,  5.59it/s]\n",
      "100%|██████████| 1/1 [00:09<00:00,  9.66s/it]\n"
     ]
    },
    {
     "name": "stdout",
     "output_type": "stream",
     "text": [
      "[NeMo I 2022-07-25 20:43:39 speaker_utils:460] Cumulative Results for collar 0.25 sec and ignore_overlap True: \n",
      "     FA: 0.0151\t MISS 0.2132\t                 Diarization ER: 0.2283\t, Confusion ER:0.0000\n",
      "[NeMo I 2022-07-25 20:43:39 clustering_diarizer:444] Outputs are saved in /home/DATA/amit_kesari/SD1/NeMo-ASR_Diar/data/voxconverse directory\n",
      "\n",
      "\n",
      "Diar score:  (<pyannote.metrics.diarization.DiarizationErrorRate object at 0x7fa05062b490>, {'cpebh': {'speaker_0': 'spk00'}})\n",
      "Diarization error rate (DER) = 23.1%\n",
      "\n",
      "\n",
      "voxconverse_label:  cqfmj\n",
      "num_speakers:  4\n",
      "[NeMo I 2022-07-25 20:43:40 speaker_utils:82] Number of files to diarize: 1\n",
      "[NeMo I 2022-07-25 20:43:40 cloud:56] Found existing object /root/.cache/torch/NeMo/NeMo_1.10.0/QuartzNet15x5Base-En/2b066be39e9294d7100fb176ec817722/QuartzNet15x5Base-En.nemo.\n",
      "[NeMo I 2022-07-25 20:43:40 cloud:62] Re-using file from: /root/.cache/torch/NeMo/NeMo_1.10.0/QuartzNet15x5Base-En/2b066be39e9294d7100fb176ec817722/QuartzNet15x5Base-En.nemo\n",
      "[NeMo I 2022-07-25 20:43:40 common:789] Instantiating model from pre-trained checkpoint\n",
      "[NeMo I 2022-07-25 20:43:41 features:200] PADDING: 16\n",
      "[NeMo I 2022-07-25 20:43:43 save_restore_connector:243] Model EncDecCTCModel was successfully restored from /root/.cache/torch/NeMo/NeMo_1.10.0/QuartzNet15x5Base-En/2b066be39e9294d7100fb176ec817722/QuartzNet15x5Base-En.nemo.\n"
     ]
    },
    {
     "data": {
      "application/vnd.jupyter.widget-view+json": {
       "model_id": "4d3c4f5ad51b40148fcaaa607b7aca9a",
       "version_major": 2,
       "version_minor": 0
      },
      "text/plain": [
       "Transcribing:   0%|          | 0/1 [00:00<?, ?it/s]"
      ]
     },
     "metadata": {},
     "output_type": "display_data"
    },
    {
     "name": "stdout",
     "output_type": "stream",
     "text": [
      "[NeMo I 2022-07-25 20:43:43 speaker_utils:82] Number of files to diarize: 1\n",
      "[NeMo I 2022-07-25 20:43:43 clustering_diarizer:153] Loading pretrained titanet_large model from NGC\n",
      "[NeMo I 2022-07-25 20:43:43 cloud:56] Found existing object /root/.cache/torch/NeMo/NeMo_1.10.0/titanet-l/492c0ab8416139171dc18c21879a9e45/titanet-l.nemo.\n",
      "[NeMo I 2022-07-25 20:43:43 cloud:62] Re-using file from: /root/.cache/torch/NeMo/NeMo_1.10.0/titanet-l/492c0ab8416139171dc18c21879a9e45/titanet-l.nemo\n",
      "[NeMo I 2022-07-25 20:43:43 common:789] Instantiating model from pre-trained checkpoint\n"
     ]
    },
    {
     "name": "stderr",
     "output_type": "stream",
     "text": [
      "[NeMo W 2022-07-25 20:43:44 modelPT:148] If you intend to do training or fine-tuning, please call the ModelPT.setup_training_data() method and provide a valid configuration file to setup the train data loader.\n",
      "    Train config : \n",
      "    manifest_filepath: /manifests/combined_fisher_swbd_voxceleb12_librispeech/train.json\n",
      "    sample_rate: 16000\n",
      "    labels: null\n",
      "    batch_size: 64\n",
      "    shuffle: true\n",
      "    time_length: 3\n",
      "    is_tarred: false\n",
      "    tarred_audio_filepaths: null\n",
      "    tarred_shard_strategy: scatter\n",
      "    augmentor:\n",
      "      noise:\n",
      "        manifest_path: /manifests/noise/rir_noise_manifest.json\n",
      "        prob: 0.5\n",
      "        min_snr_db: 0\n",
      "        max_snr_db: 15\n",
      "      speed:\n",
      "        prob: 0.5\n",
      "        sr: 16000\n",
      "        resample_type: kaiser_fast\n",
      "        min_speed_rate: 0.95\n",
      "        max_speed_rate: 1.05\n",
      "    num_workers: 15\n",
      "    pin_memory: true\n",
      "    \n",
      "[NeMo W 2022-07-25 20:43:44 modelPT:155] If you intend to do validation, please call the ModelPT.setup_validation_data() or ModelPT.setup_multiple_validation_data() method and provide a valid configuration file to setup the validation data loader(s). \n",
      "    Validation config : \n",
      "    manifest_filepath: /manifests/combined_fisher_swbd_voxceleb12_librispeech/dev.json\n",
      "    sample_rate: 16000\n",
      "    labels: null\n",
      "    batch_size: 128\n",
      "    shuffle: false\n",
      "    time_length: 3\n",
      "    num_workers: 15\n",
      "    pin_memory: true\n",
      "    \n"
     ]
    },
    {
     "name": "stdout",
     "output_type": "stream",
     "text": [
      "[NeMo I 2022-07-25 20:43:44 features:200] PADDING: 16\n",
      "[NeMo I 2022-07-25 20:43:44 label_models:100] loss is Angular Softmax\n",
      "[NeMo I 2022-07-25 20:43:45 save_restore_connector:243] Model EncDecSpeakerLabelModel was successfully restored from /root/.cache/torch/NeMo/NeMo_1.10.0/titanet-l/492c0ab8416139171dc18c21879a9e45/titanet-l.nemo.\n",
      "[NeMo I 2022-07-25 20:43:45 speaker_utils:82] Number of files to diarize: 1\n",
      "[NeMo I 2022-07-25 20:43:45 clustering_diarizer:271] Subsegmentation for embedding extraction: scale0, /home/DATA/amit_kesari/SD1/NeMo-ASR_Diar/data/voxconverse/speaker_outputs/subsegments_scale0.json\n",
      "[NeMo I 2022-07-25 20:43:45 clustering_diarizer:325] Extracting embeddings for Diarization\n",
      "[NeMo I 2022-07-25 20:43:45 collections:289] Filtered duration for loading collection is 0.000000.\n",
      "[NeMo I 2022-07-25 20:43:45 collections:293] # 205 files loaded accounting to # 1 labels\n"
     ]
    },
    {
     "name": "stderr",
     "output_type": "stream",
     "text": [
      "100%|██████████| 4/4 [00:00<00:00,  4.32it/s]\n",
      "100%|██████████| 1/1 [00:05<00:00,  5.01s/it]"
     ]
    },
    {
     "name": "stdout",
     "output_type": "stream",
     "text": [
      "[NeMo I 2022-07-25 20:43:51 speaker_utils:460] Cumulative Results for collar 0.25 sec and ignore_overlap True: \n",
      "     FA: 0.0595\t MISS 0.1927\t                 Diarization ER: 0.3310\t, Confusion ER:0.0788\n",
      "[NeMo I 2022-07-25 20:43:51 clustering_diarizer:444] Outputs are saved in /home/DATA/amit_kesari/SD1/NeMo-ASR_Diar/data/voxconverse directory\n",
      "\n",
      "\n",
      "Diar score:  (<pyannote.metrics.diarization.DiarizationErrorRate object at 0x7fa050327be0>, {'cqfmj': {'speaker_0': 'spk01', 'speaker_2': 'spk00', 'speaker_3': 'spk02'}})\n",
      "Diarization error rate (DER) = 38.3%\n",
      "\n",
      "\n",
      "voxconverse_label:  crorm\n",
      "num_speakers:  2\n",
      "[NeMo I 2022-07-25 20:43:51 speaker_utils:82] Number of files to diarize: 1\n",
      "[NeMo I 2022-07-25 20:43:51 cloud:56] Found existing object /root/.cache/torch/NeMo/NeMo_1.10.0/QuartzNet15x5Base-En/2b066be39e9294d7100fb176ec817722/QuartzNet15x5Base-En.nemo.\n",
      "[NeMo I 2022-07-25 20:43:51 cloud:62] Re-using file from: /root/.cache/torch/NeMo/NeMo_1.10.0/QuartzNet15x5Base-En/2b066be39e9294d7100fb176ec817722/QuartzNet15x5Base-En.nemo\n",
      "[NeMo I 2022-07-25 20:43:51 common:789] Instantiating model from pre-trained checkpoint\n"
     ]
    },
    {
     "name": "stderr",
     "output_type": "stream",
     "text": [
      "\n"
     ]
    },
    {
     "name": "stdout",
     "output_type": "stream",
     "text": [
      "[NeMo I 2022-07-25 20:43:52 features:200] PADDING: 16\n",
      "[NeMo I 2022-07-25 20:43:53 save_restore_connector:243] Model EncDecCTCModel was successfully restored from /root/.cache/torch/NeMo/NeMo_1.10.0/QuartzNet15x5Base-En/2b066be39e9294d7100fb176ec817722/QuartzNet15x5Base-En.nemo.\n"
     ]
    },
    {
     "data": {
      "application/vnd.jupyter.widget-view+json": {
       "model_id": "b5d5bd3cda2245c8a13d0b0024c98042",
       "version_major": 2,
       "version_minor": 0
      },
      "text/plain": [
       "Transcribing:   0%|          | 0/1 [00:00<?, ?it/s]"
      ]
     },
     "metadata": {},
     "output_type": "display_data"
    },
    {
     "name": "stdout",
     "output_type": "stream",
     "text": [
      "[NeMo I 2022-07-25 20:43:54 speaker_utils:82] Number of files to diarize: 1\n",
      "[NeMo I 2022-07-25 20:43:54 clustering_diarizer:153] Loading pretrained titanet_large model from NGC\n",
      "[NeMo I 2022-07-25 20:43:54 cloud:56] Found existing object /root/.cache/torch/NeMo/NeMo_1.10.0/titanet-l/492c0ab8416139171dc18c21879a9e45/titanet-l.nemo.\n",
      "[NeMo I 2022-07-25 20:43:54 cloud:62] Re-using file from: /root/.cache/torch/NeMo/NeMo_1.10.0/titanet-l/492c0ab8416139171dc18c21879a9e45/titanet-l.nemo\n",
      "[NeMo I 2022-07-25 20:43:54 common:789] Instantiating model from pre-trained checkpoint\n"
     ]
    },
    {
     "name": "stderr",
     "output_type": "stream",
     "text": [
      "[NeMo W 2022-07-25 20:43:55 modelPT:148] If you intend to do training or fine-tuning, please call the ModelPT.setup_training_data() method and provide a valid configuration file to setup the train data loader.\n",
      "    Train config : \n",
      "    manifest_filepath: /manifests/combined_fisher_swbd_voxceleb12_librispeech/train.json\n",
      "    sample_rate: 16000\n",
      "    labels: null\n",
      "    batch_size: 64\n",
      "    shuffle: true\n",
      "    time_length: 3\n",
      "    is_tarred: false\n",
      "    tarred_audio_filepaths: null\n",
      "    tarred_shard_strategy: scatter\n",
      "    augmentor:\n",
      "      noise:\n",
      "        manifest_path: /manifests/noise/rir_noise_manifest.json\n",
      "        prob: 0.5\n",
      "        min_snr_db: 0\n",
      "        max_snr_db: 15\n",
      "      speed:\n",
      "        prob: 0.5\n",
      "        sr: 16000\n",
      "        resample_type: kaiser_fast\n",
      "        min_speed_rate: 0.95\n",
      "        max_speed_rate: 1.05\n",
      "    num_workers: 15\n",
      "    pin_memory: true\n",
      "    \n",
      "[NeMo W 2022-07-25 20:43:55 modelPT:155] If you intend to do validation, please call the ModelPT.setup_validation_data() or ModelPT.setup_multiple_validation_data() method and provide a valid configuration file to setup the validation data loader(s). \n",
      "    Validation config : \n",
      "    manifest_filepath: /manifests/combined_fisher_swbd_voxceleb12_librispeech/dev.json\n",
      "    sample_rate: 16000\n",
      "    labels: null\n",
      "    batch_size: 128\n",
      "    shuffle: false\n",
      "    time_length: 3\n",
      "    num_workers: 15\n",
      "    pin_memory: true\n",
      "    \n"
     ]
    },
    {
     "name": "stdout",
     "output_type": "stream",
     "text": [
      "[NeMo I 2022-07-25 20:43:55 features:200] PADDING: 16\n",
      "[NeMo I 2022-07-25 20:43:56 label_models:100] loss is Angular Softmax\n",
      "[NeMo I 2022-07-25 20:43:56 save_restore_connector:243] Model EncDecSpeakerLabelModel was successfully restored from /root/.cache/torch/NeMo/NeMo_1.10.0/titanet-l/492c0ab8416139171dc18c21879a9e45/titanet-l.nemo.\n",
      "[NeMo I 2022-07-25 20:43:56 speaker_utils:82] Number of files to diarize: 1\n",
      "[NeMo I 2022-07-25 20:43:56 clustering_diarizer:271] Subsegmentation for embedding extraction: scale0, /home/DATA/amit_kesari/SD1/NeMo-ASR_Diar/data/voxconverse/speaker_outputs/subsegments_scale0.json\n",
      "[NeMo I 2022-07-25 20:43:56 clustering_diarizer:325] Extracting embeddings for Diarization\n",
      "[NeMo I 2022-07-25 20:43:56 collections:289] Filtered duration for loading collection is 0.000000.\n",
      "[NeMo I 2022-07-25 20:43:56 collections:293] # 1510 files loaded accounting to # 1 labels\n"
     ]
    },
    {
     "name": "stderr",
     "output_type": "stream",
     "text": [
      "100%|██████████| 24/24 [00:04<00:00,  5.42it/s]\n",
      "100%|██████████| 1/1 [00:08<00:00,  8.93s/it]\n"
     ]
    },
    {
     "name": "stdout",
     "output_type": "stream",
     "text": [
      "[NeMo I 2022-07-25 20:44:11 speaker_utils:460] Cumulative Results for collar 0.25 sec and ignore_overlap True: \n",
      "     FA: 0.0196\t MISS 0.1697\t                 Diarization ER: 0.2554\t, Confusion ER:0.0661\n",
      "[NeMo I 2022-07-25 20:44:11 clustering_diarizer:444] Outputs are saved in /home/DATA/amit_kesari/SD1/NeMo-ASR_Diar/data/voxconverse directory\n",
      "\n",
      "\n",
      "Diar score:  (<pyannote.metrics.diarization.DiarizationErrorRate object at 0x7fa0580559d0>, {'crorm': {'speaker_0': 'spk01', 'speaker_1': 'spk00'}})\n",
      "Diarization error rate (DER) = 28.0%\n",
      "\n",
      "\n",
      "voxconverse_label:  crylr\n",
      "num_speakers:  4\n",
      "[NeMo I 2022-07-25 20:44:13 speaker_utils:82] Number of files to diarize: 1\n",
      "[NeMo I 2022-07-25 20:44:13 cloud:56] Found existing object /root/.cache/torch/NeMo/NeMo_1.10.0/QuartzNet15x5Base-En/2b066be39e9294d7100fb176ec817722/QuartzNet15x5Base-En.nemo.\n",
      "[NeMo I 2022-07-25 20:44:13 cloud:62] Re-using file from: /root/.cache/torch/NeMo/NeMo_1.10.0/QuartzNet15x5Base-En/2b066be39e9294d7100fb176ec817722/QuartzNet15x5Base-En.nemo\n",
      "[NeMo I 2022-07-25 20:44:13 common:789] Instantiating model from pre-trained checkpoint\n",
      "[NeMo I 2022-07-25 20:44:14 features:200] PADDING: 16\n",
      "[NeMo I 2022-07-25 20:44:15 save_restore_connector:243] Model EncDecCTCModel was successfully restored from /root/.cache/torch/NeMo/NeMo_1.10.0/QuartzNet15x5Base-En/2b066be39e9294d7100fb176ec817722/QuartzNet15x5Base-En.nemo.\n"
     ]
    },
    {
     "data": {
      "application/vnd.jupyter.widget-view+json": {
       "model_id": "f45fe95fc768466786ee017d26e9cf70",
       "version_major": 2,
       "version_minor": 0
      },
      "text/plain": [
       "Transcribing:   0%|          | 0/1 [00:00<?, ?it/s]"
      ]
     },
     "metadata": {},
     "output_type": "display_data"
    },
    {
     "name": "stdout",
     "output_type": "stream",
     "text": [
      "[NeMo I 2022-07-25 20:44:17 speaker_utils:82] Number of files to diarize: 1\n",
      "[NeMo I 2022-07-25 20:44:17 clustering_diarizer:153] Loading pretrained titanet_large model from NGC\n",
      "[NeMo I 2022-07-25 20:44:17 cloud:56] Found existing object /root/.cache/torch/NeMo/NeMo_1.10.0/titanet-l/492c0ab8416139171dc18c21879a9e45/titanet-l.nemo.\n",
      "[NeMo I 2022-07-25 20:44:17 cloud:62] Re-using file from: /root/.cache/torch/NeMo/NeMo_1.10.0/titanet-l/492c0ab8416139171dc18c21879a9e45/titanet-l.nemo\n",
      "[NeMo I 2022-07-25 20:44:17 common:789] Instantiating model from pre-trained checkpoint\n"
     ]
    },
    {
     "name": "stderr",
     "output_type": "stream",
     "text": [
      "[NeMo W 2022-07-25 20:44:18 modelPT:148] If you intend to do training or fine-tuning, please call the ModelPT.setup_training_data() method and provide a valid configuration file to setup the train data loader.\n",
      "    Train config : \n",
      "    manifest_filepath: /manifests/combined_fisher_swbd_voxceleb12_librispeech/train.json\n",
      "    sample_rate: 16000\n",
      "    labels: null\n",
      "    batch_size: 64\n",
      "    shuffle: true\n",
      "    time_length: 3\n",
      "    is_tarred: false\n",
      "    tarred_audio_filepaths: null\n",
      "    tarred_shard_strategy: scatter\n",
      "    augmentor:\n",
      "      noise:\n",
      "        manifest_path: /manifests/noise/rir_noise_manifest.json\n",
      "        prob: 0.5\n",
      "        min_snr_db: 0\n",
      "        max_snr_db: 15\n",
      "      speed:\n",
      "        prob: 0.5\n",
      "        sr: 16000\n",
      "        resample_type: kaiser_fast\n",
      "        min_speed_rate: 0.95\n",
      "        max_speed_rate: 1.05\n",
      "    num_workers: 15\n",
      "    pin_memory: true\n",
      "    \n",
      "[NeMo W 2022-07-25 20:44:18 modelPT:155] If you intend to do validation, please call the ModelPT.setup_validation_data() or ModelPT.setup_multiple_validation_data() method and provide a valid configuration file to setup the validation data loader(s). \n",
      "    Validation config : \n",
      "    manifest_filepath: /manifests/combined_fisher_swbd_voxceleb12_librispeech/dev.json\n",
      "    sample_rate: 16000\n",
      "    labels: null\n",
      "    batch_size: 128\n",
      "    shuffle: false\n",
      "    time_length: 3\n",
      "    num_workers: 15\n",
      "    pin_memory: true\n",
      "    \n"
     ]
    },
    {
     "name": "stdout",
     "output_type": "stream",
     "text": [
      "[NeMo I 2022-07-25 20:44:18 features:200] PADDING: 16\n",
      "[NeMo I 2022-07-25 20:44:18 label_models:100] loss is Angular Softmax\n",
      "[NeMo I 2022-07-25 20:44:19 save_restore_connector:243] Model EncDecSpeakerLabelModel was successfully restored from /root/.cache/torch/NeMo/NeMo_1.10.0/titanet-l/492c0ab8416139171dc18c21879a9e45/titanet-l.nemo.\n",
      "[NeMo I 2022-07-25 20:44:19 speaker_utils:82] Number of files to diarize: 1\n",
      "[NeMo I 2022-07-25 20:44:19 clustering_diarizer:271] Subsegmentation for embedding extraction: scale0, /home/DATA/amit_kesari/SD1/NeMo-ASR_Diar/data/voxconverse/speaker_outputs/subsegments_scale0.json\n",
      "[NeMo I 2022-07-25 20:44:19 clustering_diarizer:325] Extracting embeddings for Diarization\n",
      "[NeMo I 2022-07-25 20:44:19 collections:289] Filtered duration for loading collection is 0.000000.\n",
      "[NeMo I 2022-07-25 20:44:19 collections:293] # 308 files loaded accounting to # 1 labels\n"
     ]
    },
    {
     "name": "stderr",
     "output_type": "stream",
     "text": [
      "100%|██████████| 5/5 [00:01<00:00,  4.47it/s]\n",
      "100%|██████████| 1/1 [00:08<00:00,  8.18s/it]"
     ]
    },
    {
     "name": "stdout",
     "output_type": "stream",
     "text": [
      "[NeMo I 2022-07-25 20:44:28 speaker_utils:460] Cumulative Results for collar 0.25 sec and ignore_overlap True: \n",
      "     FA: 0.1555\t MISS 0.2214\t                 Diarization ER: 0.4418\t, Confusion ER:0.0649\n",
      "[NeMo I 2022-07-25 20:44:28 clustering_diarizer:444] Outputs are saved in /home/DATA/amit_kesari/SD1/NeMo-ASR_Diar/data/voxconverse directory\n"
     ]
    },
    {
     "name": "stderr",
     "output_type": "stream",
     "text": [
      "\n"
     ]
    },
    {
     "name": "stdout",
     "output_type": "stream",
     "text": [
      "\n",
      "\n",
      "Diar score:  (<pyannote.metrics.diarization.DiarizationErrorRate object at 0x7fa06c8eb310>, {'crylr': {'speaker_0': 'spk01', 'speaker_1': 'spk00', 'speaker_2': 'spk03'}})\n",
      "Diarization error rate (DER) = 49.2%\n",
      "\n",
      "\n",
      "voxconverse_label:  cvofp\n",
      "num_speakers:  6\n",
      "[NeMo I 2022-07-25 20:44:28 speaker_utils:82] Number of files to diarize: 1\n",
      "[NeMo I 2022-07-25 20:44:28 cloud:56] Found existing object /root/.cache/torch/NeMo/NeMo_1.10.0/QuartzNet15x5Base-En/2b066be39e9294d7100fb176ec817722/QuartzNet15x5Base-En.nemo.\n",
      "[NeMo I 2022-07-25 20:44:28 cloud:62] Re-using file from: /root/.cache/torch/NeMo/NeMo_1.10.0/QuartzNet15x5Base-En/2b066be39e9294d7100fb176ec817722/QuartzNet15x5Base-En.nemo\n",
      "[NeMo I 2022-07-25 20:44:28 common:789] Instantiating model from pre-trained checkpoint\n",
      "[NeMo I 2022-07-25 20:44:29 features:200] PADDING: 16\n",
      "[NeMo I 2022-07-25 20:44:30 save_restore_connector:243] Model EncDecCTCModel was successfully restored from /root/.cache/torch/NeMo/NeMo_1.10.0/QuartzNet15x5Base-En/2b066be39e9294d7100fb176ec817722/QuartzNet15x5Base-En.nemo.\n"
     ]
    },
    {
     "data": {
      "application/vnd.jupyter.widget-view+json": {
       "model_id": "8de936cf8fb445fba7c1ab9c8cd9d275",
       "version_major": 2,
       "version_minor": 0
      },
      "text/plain": [
       "Transcribing:   0%|          | 0/1 [00:00<?, ?it/s]"
      ]
     },
     "metadata": {},
     "output_type": "display_data"
    },
    {
     "name": "stdout",
     "output_type": "stream",
     "text": [
      "[NeMo I 2022-07-25 20:44:32 speaker_utils:82] Number of files to diarize: 1\n",
      "[NeMo I 2022-07-25 20:44:32 clustering_diarizer:153] Loading pretrained titanet_large model from NGC\n",
      "[NeMo I 2022-07-25 20:44:32 cloud:56] Found existing object /root/.cache/torch/NeMo/NeMo_1.10.0/titanet-l/492c0ab8416139171dc18c21879a9e45/titanet-l.nemo.\n",
      "[NeMo I 2022-07-25 20:44:32 cloud:62] Re-using file from: /root/.cache/torch/NeMo/NeMo_1.10.0/titanet-l/492c0ab8416139171dc18c21879a9e45/titanet-l.nemo\n",
      "[NeMo I 2022-07-25 20:44:32 common:789] Instantiating model from pre-trained checkpoint\n"
     ]
    },
    {
     "name": "stderr",
     "output_type": "stream",
     "text": [
      "[NeMo W 2022-07-25 20:44:33 modelPT:148] If you intend to do training or fine-tuning, please call the ModelPT.setup_training_data() method and provide a valid configuration file to setup the train data loader.\n",
      "    Train config : \n",
      "    manifest_filepath: /manifests/combined_fisher_swbd_voxceleb12_librispeech/train.json\n",
      "    sample_rate: 16000\n",
      "    labels: null\n",
      "    batch_size: 64\n",
      "    shuffle: true\n",
      "    time_length: 3\n",
      "    is_tarred: false\n",
      "    tarred_audio_filepaths: null\n",
      "    tarred_shard_strategy: scatter\n",
      "    augmentor:\n",
      "      noise:\n",
      "        manifest_path: /manifests/noise/rir_noise_manifest.json\n",
      "        prob: 0.5\n",
      "        min_snr_db: 0\n",
      "        max_snr_db: 15\n",
      "      speed:\n",
      "        prob: 0.5\n",
      "        sr: 16000\n",
      "        resample_type: kaiser_fast\n",
      "        min_speed_rate: 0.95\n",
      "        max_speed_rate: 1.05\n",
      "    num_workers: 15\n",
      "    pin_memory: true\n",
      "    \n",
      "[NeMo W 2022-07-25 20:44:33 modelPT:155] If you intend to do validation, please call the ModelPT.setup_validation_data() or ModelPT.setup_multiple_validation_data() method and provide a valid configuration file to setup the validation data loader(s). \n",
      "    Validation config : \n",
      "    manifest_filepath: /manifests/combined_fisher_swbd_voxceleb12_librispeech/dev.json\n",
      "    sample_rate: 16000\n",
      "    labels: null\n",
      "    batch_size: 128\n",
      "    shuffle: false\n",
      "    time_length: 3\n",
      "    num_workers: 15\n",
      "    pin_memory: true\n",
      "    \n"
     ]
    },
    {
     "name": "stdout",
     "output_type": "stream",
     "text": [
      "[NeMo I 2022-07-25 20:44:33 features:200] PADDING: 16\n",
      "[NeMo I 2022-07-25 20:44:33 label_models:100] loss is Angular Softmax\n",
      "[NeMo I 2022-07-25 20:44:34 save_restore_connector:243] Model EncDecSpeakerLabelModel was successfully restored from /root/.cache/torch/NeMo/NeMo_1.10.0/titanet-l/492c0ab8416139171dc18c21879a9e45/titanet-l.nemo.\n",
      "[NeMo I 2022-07-25 20:44:34 speaker_utils:82] Number of files to diarize: 1\n",
      "[NeMo I 2022-07-25 20:44:34 clustering_diarizer:271] Subsegmentation for embedding extraction: scale0, /home/DATA/amit_kesari/SD1/NeMo-ASR_Diar/data/voxconverse/speaker_outputs/subsegments_scale0.json\n",
      "[NeMo I 2022-07-25 20:44:34 clustering_diarizer:325] Extracting embeddings for Diarization\n",
      "[NeMo I 2022-07-25 20:44:34 collections:289] Filtered duration for loading collection is 0.000000.\n",
      "[NeMo I 2022-07-25 20:44:34 collections:293] # 2031 files loaded accounting to # 1 labels\n"
     ]
    },
    {
     "name": "stderr",
     "output_type": "stream",
     "text": [
      "100%|██████████| 32/32 [00:05<00:00,  5.50it/s]\n",
      "100%|██████████| 1/1 [00:12<00:00, 12.57s/it]\n"
     ]
    },
    {
     "name": "stdout",
     "output_type": "stream",
     "text": [
      "[NeMo I 2022-07-25 20:44:55 speaker_utils:460] Cumulative Results for collar 0.25 sec and ignore_overlap True: \n",
      "     FA: 0.0461\t MISS 0.2851\t                 Diarization ER: 0.5457\t, Confusion ER:0.2144\n",
      "[NeMo I 2022-07-25 20:44:55 clustering_diarizer:444] Outputs are saved in /home/DATA/amit_kesari/SD1/NeMo-ASR_Diar/data/voxconverse directory\n",
      "\n",
      "\n",
      "Diar score:  (<pyannote.metrics.diarization.DiarizationErrorRate object at 0x7fa0503a5fa0>, {'cvofp': {'speaker_0': 'spk05', 'speaker_1': 'spk02', 'speaker_2': 'spk00', 'speaker_3': 'spk01', 'speaker_4': 'spk03', 'speaker_5': 'spk04'}})\n",
      "Diarization error rate (DER) = 56.6%\n",
      "\n",
      "\n",
      "voxconverse_label:  cwbvu\n",
      "num_speakers:  10\n",
      "[NeMo I 2022-07-25 20:44:59 speaker_utils:82] Number of files to diarize: 1\n",
      "[NeMo I 2022-07-25 20:44:59 cloud:56] Found existing object /root/.cache/torch/NeMo/NeMo_1.10.0/QuartzNet15x5Base-En/2b066be39e9294d7100fb176ec817722/QuartzNet15x5Base-En.nemo.\n",
      "[NeMo I 2022-07-25 20:44:59 cloud:62] Re-using file from: /root/.cache/torch/NeMo/NeMo_1.10.0/QuartzNet15x5Base-En/2b066be39e9294d7100fb176ec817722/QuartzNet15x5Base-En.nemo\n",
      "[NeMo I 2022-07-25 20:44:59 common:789] Instantiating model from pre-trained checkpoint\n",
      "[NeMo I 2022-07-25 20:44:59 features:200] PADDING: 16\n",
      "[NeMo I 2022-07-25 20:45:01 save_restore_connector:243] Model EncDecCTCModel was successfully restored from /root/.cache/torch/NeMo/NeMo_1.10.0/QuartzNet15x5Base-En/2b066be39e9294d7100fb176ec817722/QuartzNet15x5Base-En.nemo.\n"
     ]
    },
    {
     "data": {
      "application/vnd.jupyter.widget-view+json": {
       "model_id": "18994ea591ab455fb3bb6dd7367efe5b",
       "version_major": 2,
       "version_minor": 0
      },
      "text/plain": [
       "Transcribing:   0%|          | 0/1 [00:00<?, ?it/s]"
      ]
     },
     "metadata": {},
     "output_type": "display_data"
    },
    {
     "name": "stdout",
     "output_type": "stream",
     "text": [
      "[NeMo I 2022-07-25 20:45:02 speaker_utils:82] Number of files to diarize: 1\n",
      "[NeMo I 2022-07-25 20:45:02 clustering_diarizer:153] Loading pretrained titanet_large model from NGC\n",
      "[NeMo I 2022-07-25 20:45:02 cloud:56] Found existing object /root/.cache/torch/NeMo/NeMo_1.10.0/titanet-l/492c0ab8416139171dc18c21879a9e45/titanet-l.nemo.\n",
      "[NeMo I 2022-07-25 20:45:02 cloud:62] Re-using file from: /root/.cache/torch/NeMo/NeMo_1.10.0/titanet-l/492c0ab8416139171dc18c21879a9e45/titanet-l.nemo\n",
      "[NeMo I 2022-07-25 20:45:02 common:789] Instantiating model from pre-trained checkpoint\n"
     ]
    },
    {
     "name": "stderr",
     "output_type": "stream",
     "text": [
      "[NeMo W 2022-07-25 20:45:03 modelPT:148] If you intend to do training or fine-tuning, please call the ModelPT.setup_training_data() method and provide a valid configuration file to setup the train data loader.\n",
      "    Train config : \n",
      "    manifest_filepath: /manifests/combined_fisher_swbd_voxceleb12_librispeech/train.json\n",
      "    sample_rate: 16000\n",
      "    labels: null\n",
      "    batch_size: 64\n",
      "    shuffle: true\n",
      "    time_length: 3\n",
      "    is_tarred: false\n",
      "    tarred_audio_filepaths: null\n",
      "    tarred_shard_strategy: scatter\n",
      "    augmentor:\n",
      "      noise:\n",
      "        manifest_path: /manifests/noise/rir_noise_manifest.json\n",
      "        prob: 0.5\n",
      "        min_snr_db: 0\n",
      "        max_snr_db: 15\n",
      "      speed:\n",
      "        prob: 0.5\n",
      "        sr: 16000\n",
      "        resample_type: kaiser_fast\n",
      "        min_speed_rate: 0.95\n",
      "        max_speed_rate: 1.05\n",
      "    num_workers: 15\n",
      "    pin_memory: true\n",
      "    \n",
      "[NeMo W 2022-07-25 20:45:03 modelPT:155] If you intend to do validation, please call the ModelPT.setup_validation_data() or ModelPT.setup_multiple_validation_data() method and provide a valid configuration file to setup the validation data loader(s). \n",
      "    Validation config : \n",
      "    manifest_filepath: /manifests/combined_fisher_swbd_voxceleb12_librispeech/dev.json\n",
      "    sample_rate: 16000\n",
      "    labels: null\n",
      "    batch_size: 128\n",
      "    shuffle: false\n",
      "    time_length: 3\n",
      "    num_workers: 15\n",
      "    pin_memory: true\n",
      "    \n"
     ]
    },
    {
     "name": "stdout",
     "output_type": "stream",
     "text": [
      "[NeMo I 2022-07-25 20:45:03 features:200] PADDING: 16\n",
      "[NeMo I 2022-07-25 20:45:04 label_models:100] loss is Angular Softmax\n",
      "[NeMo I 2022-07-25 20:45:04 save_restore_connector:243] Model EncDecSpeakerLabelModel was successfully restored from /root/.cache/torch/NeMo/NeMo_1.10.0/titanet-l/492c0ab8416139171dc18c21879a9e45/titanet-l.nemo.\n",
      "[NeMo I 2022-07-25 20:45:04 speaker_utils:82] Number of files to diarize: 1\n",
      "[NeMo I 2022-07-25 20:45:04 clustering_diarizer:271] Subsegmentation for embedding extraction: scale0, /home/DATA/amit_kesari/SD1/NeMo-ASR_Diar/data/voxconverse/speaker_outputs/subsegments_scale0.json\n",
      "[NeMo I 2022-07-25 20:45:04 clustering_diarizer:325] Extracting embeddings for Diarization\n",
      "[NeMo I 2022-07-25 20:45:04 collections:289] Filtered duration for loading collection is 0.000000.\n",
      "[NeMo I 2022-07-25 20:45:04 collections:293] # 147 files loaded accounting to # 1 labels\n"
     ]
    },
    {
     "name": "stderr",
     "output_type": "stream",
     "text": [
      "100%|██████████| 3/3 [00:00<00:00,  4.83it/s]\n",
      "100%|██████████| 1/1 [00:05<00:00,  5.26s/it]"
     ]
    },
    {
     "name": "stdout",
     "output_type": "stream",
     "text": [
      "[NeMo I 2022-07-25 20:45:10 speaker_utils:460] Cumulative Results for collar 0.25 sec and ignore_overlap True: \n",
      "     FA: 0.0932\t MISS 0.0494\t                 Diarization ER: 0.4925\t, Confusion ER:0.3499\n",
      "[NeMo I 2022-07-25 20:45:10 clustering_diarizer:444] Outputs are saved in /home/DATA/amit_kesari/SD1/NeMo-ASR_Diar/data/voxconverse directory\n",
      "\n",
      "\n",
      "Diar score:  (<pyannote.metrics.diarization.DiarizationErrorRate object at 0x7fa11cf6e2e0>, {'cwbvu': {'speaker_0': 'spk05', 'speaker_1': 'spk03', 'speaker_3': 'spk06', 'speaker_4': 'spk08', 'speaker_5': 'spk07', 'speaker_6': 'spk09', 'speaker_7': 'spk02', 'speaker_8': 'spk04'}})\n",
      "Diarization error rate (DER) = 61.2%\n",
      "\n",
      "\n",
      "voxconverse_label:  dgvwu\n",
      "num_speakers:  11\n",
      "[NeMo I 2022-07-25 20:45:10 speaker_utils:82] Number of files to diarize: 1\n",
      "[NeMo I 2022-07-25 20:45:10 cloud:56] Found existing object /root/.cache/torch/NeMo/NeMo_1.10.0/QuartzNet15x5Base-En/2b066be39e9294d7100fb176ec817722/QuartzNet15x5Base-En.nemo.\n",
      "[NeMo I 2022-07-25 20:45:10 cloud:62] Re-using file from: /root/.cache/torch/NeMo/NeMo_1.10.0/QuartzNet15x5Base-En/2b066be39e9294d7100fb176ec817722/QuartzNet15x5Base-En.nemo\n",
      "[NeMo I 2022-07-25 20:45:10 common:789] Instantiating model from pre-trained checkpoint\n"
     ]
    },
    {
     "name": "stderr",
     "output_type": "stream",
     "text": [
      "\n"
     ]
    },
    {
     "name": "stdout",
     "output_type": "stream",
     "text": [
      "[NeMo I 2022-07-25 20:45:10 features:200] PADDING: 16\n",
      "[NeMo I 2022-07-25 20:45:12 save_restore_connector:243] Model EncDecCTCModel was successfully restored from /root/.cache/torch/NeMo/NeMo_1.10.0/QuartzNet15x5Base-En/2b066be39e9294d7100fb176ec817722/QuartzNet15x5Base-En.nemo.\n"
     ]
    },
    {
     "data": {
      "application/vnd.jupyter.widget-view+json": {
       "model_id": "3bf38917f83a441f92fc361ec4423e27",
       "version_major": 2,
       "version_minor": 0
      },
      "text/plain": [
       "Transcribing:   0%|          | 0/1 [00:00<?, ?it/s]"
      ]
     },
     "metadata": {},
     "output_type": "display_data"
    },
    {
     "name": "stdout",
     "output_type": "stream",
     "text": [
      "[NeMo I 2022-07-25 20:45:13 speaker_utils:82] Number of files to diarize: 1\n",
      "[NeMo I 2022-07-25 20:45:13 clustering_diarizer:153] Loading pretrained titanet_large model from NGC\n",
      "[NeMo I 2022-07-25 20:45:13 cloud:56] Found existing object /root/.cache/torch/NeMo/NeMo_1.10.0/titanet-l/492c0ab8416139171dc18c21879a9e45/titanet-l.nemo.\n",
      "[NeMo I 2022-07-25 20:45:13 cloud:62] Re-using file from: /root/.cache/torch/NeMo/NeMo_1.10.0/titanet-l/492c0ab8416139171dc18c21879a9e45/titanet-l.nemo\n",
      "[NeMo I 2022-07-25 20:45:13 common:789] Instantiating model from pre-trained checkpoint\n"
     ]
    },
    {
     "name": "stderr",
     "output_type": "stream",
     "text": [
      "[NeMo W 2022-07-25 20:45:14 modelPT:148] If you intend to do training or fine-tuning, please call the ModelPT.setup_training_data() method and provide a valid configuration file to setup the train data loader.\n",
      "    Train config : \n",
      "    manifest_filepath: /manifests/combined_fisher_swbd_voxceleb12_librispeech/train.json\n",
      "    sample_rate: 16000\n",
      "    labels: null\n",
      "    batch_size: 64\n",
      "    shuffle: true\n",
      "    time_length: 3\n",
      "    is_tarred: false\n",
      "    tarred_audio_filepaths: null\n",
      "    tarred_shard_strategy: scatter\n",
      "    augmentor:\n",
      "      noise:\n",
      "        manifest_path: /manifests/noise/rir_noise_manifest.json\n",
      "        prob: 0.5\n",
      "        min_snr_db: 0\n",
      "        max_snr_db: 15\n",
      "      speed:\n",
      "        prob: 0.5\n",
      "        sr: 16000\n",
      "        resample_type: kaiser_fast\n",
      "        min_speed_rate: 0.95\n",
      "        max_speed_rate: 1.05\n",
      "    num_workers: 15\n",
      "    pin_memory: true\n",
      "    \n",
      "[NeMo W 2022-07-25 20:45:14 modelPT:155] If you intend to do validation, please call the ModelPT.setup_validation_data() or ModelPT.setup_multiple_validation_data() method and provide a valid configuration file to setup the validation data loader(s). \n",
      "    Validation config : \n",
      "    manifest_filepath: /manifests/combined_fisher_swbd_voxceleb12_librispeech/dev.json\n",
      "    sample_rate: 16000\n",
      "    labels: null\n",
      "    batch_size: 128\n",
      "    shuffle: false\n",
      "    time_length: 3\n",
      "    num_workers: 15\n",
      "    pin_memory: true\n",
      "    \n"
     ]
    },
    {
     "name": "stdout",
     "output_type": "stream",
     "text": [
      "[NeMo I 2022-07-25 20:45:14 features:200] PADDING: 16\n",
      "[NeMo I 2022-07-25 20:45:14 label_models:100] loss is Angular Softmax\n",
      "[NeMo I 2022-07-25 20:45:14 save_restore_connector:243] Model EncDecSpeakerLabelModel was successfully restored from /root/.cache/torch/NeMo/NeMo_1.10.0/titanet-l/492c0ab8416139171dc18c21879a9e45/titanet-l.nemo.\n",
      "[NeMo I 2022-07-25 20:45:14 speaker_utils:82] Number of files to diarize: 1\n",
      "[NeMo I 2022-07-25 20:45:14 clustering_diarizer:271] Subsegmentation for embedding extraction: scale0, /home/DATA/amit_kesari/SD1/NeMo-ASR_Diar/data/voxconverse/speaker_outputs/subsegments_scale0.json\n",
      "[NeMo I 2022-07-25 20:45:14 clustering_diarizer:325] Extracting embeddings for Diarization\n",
      "[NeMo I 2022-07-25 20:45:14 collections:289] Filtered duration for loading collection is 0.000000.\n",
      "[NeMo I 2022-07-25 20:45:14 collections:293] # 1228 files loaded accounting to # 1 labels\n"
     ]
    },
    {
     "name": "stderr",
     "output_type": "stream",
     "text": [
      "100%|██████████| 20/20 [00:03<00:00,  5.48it/s]\n",
      "100%|██████████| 1/1 [00:30<00:00, 30.58s/it]\n"
     ]
    },
    {
     "name": "stdout",
     "output_type": "stream",
     "text": [
      "[NeMo I 2022-07-25 20:45:50 speaker_utils:460] Cumulative Results for collar 0.25 sec and ignore_overlap True: \n",
      "     FA: 0.0189\t MISS 0.2041\t                 Diarization ER: 0.3564\t, Confusion ER:0.1334\n",
      "[NeMo I 2022-07-25 20:45:50 clustering_diarizer:444] Outputs are saved in /home/DATA/amit_kesari/SD1/NeMo-ASR_Diar/data/voxconverse directory\n",
      "\n",
      "\n",
      "Diar score:  (<pyannote.metrics.diarization.DiarizationErrorRate object at 0x7fa050114130>, {'dgvwu': {'speaker_0': 'spk00', 'speaker_1': 'spk01', 'speaker_10': 'spk08', 'speaker_2': 'spk02', 'speaker_3': 'spk06', 'speaker_4': 'spk04', 'speaker_5': 'spk09', 'speaker_6': 'spk10', 'speaker_7': 'spk07'}})\n",
      "Diarization error rate (DER) = 39.8%\n",
      "\n",
      "\n",
      "voxconverse_label:  diysk\n",
      "num_speakers:  15\n",
      "[NeMo I 2022-07-25 20:45:52 speaker_utils:82] Number of files to diarize: 1\n",
      "[NeMo I 2022-07-25 20:45:52 cloud:56] Found existing object /root/.cache/torch/NeMo/NeMo_1.10.0/QuartzNet15x5Base-En/2b066be39e9294d7100fb176ec817722/QuartzNet15x5Base-En.nemo.\n",
      "[NeMo I 2022-07-25 20:45:52 cloud:62] Re-using file from: /root/.cache/torch/NeMo/NeMo_1.10.0/QuartzNet15x5Base-En/2b066be39e9294d7100fb176ec817722/QuartzNet15x5Base-En.nemo\n",
      "[NeMo I 2022-07-25 20:45:52 common:789] Instantiating model from pre-trained checkpoint\n",
      "[NeMo I 2022-07-25 20:45:52 features:200] PADDING: 16\n",
      "[NeMo I 2022-07-25 20:45:54 save_restore_connector:243] Model EncDecCTCModel was successfully restored from /root/.cache/torch/NeMo/NeMo_1.10.0/QuartzNet15x5Base-En/2b066be39e9294d7100fb176ec817722/QuartzNet15x5Base-En.nemo.\n"
     ]
    },
    {
     "data": {
      "application/vnd.jupyter.widget-view+json": {
       "model_id": "4235a6630a1349a78d6b4501145cac18",
       "version_major": 2,
       "version_minor": 0
      },
      "text/plain": [
       "Transcribing:   0%|          | 0/1 [00:00<?, ?it/s]"
      ]
     },
     "metadata": {},
     "output_type": "display_data"
    },
    {
     "name": "stdout",
     "output_type": "stream",
     "text": [
      "[NeMo I 2022-07-25 20:45:55 speaker_utils:82] Number of files to diarize: 1\n",
      "[NeMo I 2022-07-25 20:45:55 clustering_diarizer:153] Loading pretrained titanet_large model from NGC\n",
      "[NeMo I 2022-07-25 20:45:55 cloud:56] Found existing object /root/.cache/torch/NeMo/NeMo_1.10.0/titanet-l/492c0ab8416139171dc18c21879a9e45/titanet-l.nemo.\n",
      "[NeMo I 2022-07-25 20:45:55 cloud:62] Re-using file from: /root/.cache/torch/NeMo/NeMo_1.10.0/titanet-l/492c0ab8416139171dc18c21879a9e45/titanet-l.nemo\n",
      "[NeMo I 2022-07-25 20:45:55 common:789] Instantiating model from pre-trained checkpoint\n"
     ]
    },
    {
     "name": "stderr",
     "output_type": "stream",
     "text": [
      "[NeMo W 2022-07-25 20:45:56 modelPT:148] If you intend to do training or fine-tuning, please call the ModelPT.setup_training_data() method and provide a valid configuration file to setup the train data loader.\n",
      "    Train config : \n",
      "    manifest_filepath: /manifests/combined_fisher_swbd_voxceleb12_librispeech/train.json\n",
      "    sample_rate: 16000\n",
      "    labels: null\n",
      "    batch_size: 64\n",
      "    shuffle: true\n",
      "    time_length: 3\n",
      "    is_tarred: false\n",
      "    tarred_audio_filepaths: null\n",
      "    tarred_shard_strategy: scatter\n",
      "    augmentor:\n",
      "      noise:\n",
      "        manifest_path: /manifests/noise/rir_noise_manifest.json\n",
      "        prob: 0.5\n",
      "        min_snr_db: 0\n",
      "        max_snr_db: 15\n",
      "      speed:\n",
      "        prob: 0.5\n",
      "        sr: 16000\n",
      "        resample_type: kaiser_fast\n",
      "        min_speed_rate: 0.95\n",
      "        max_speed_rate: 1.05\n",
      "    num_workers: 15\n",
      "    pin_memory: true\n",
      "    \n",
      "[NeMo W 2022-07-25 20:45:56 modelPT:155] If you intend to do validation, please call the ModelPT.setup_validation_data() or ModelPT.setup_multiple_validation_data() method and provide a valid configuration file to setup the validation data loader(s). \n",
      "    Validation config : \n",
      "    manifest_filepath: /manifests/combined_fisher_swbd_voxceleb12_librispeech/dev.json\n",
      "    sample_rate: 16000\n",
      "    labels: null\n",
      "    batch_size: 128\n",
      "    shuffle: false\n",
      "    time_length: 3\n",
      "    num_workers: 15\n",
      "    pin_memory: true\n",
      "    \n"
     ]
    },
    {
     "name": "stdout",
     "output_type": "stream",
     "text": [
      "[NeMo I 2022-07-25 20:45:56 features:200] PADDING: 16\n",
      "[NeMo I 2022-07-25 20:45:57 label_models:100] loss is Angular Softmax\n",
      "[NeMo I 2022-07-25 20:45:57 save_restore_connector:243] Model EncDecSpeakerLabelModel was successfully restored from /root/.cache/torch/NeMo/NeMo_1.10.0/titanet-l/492c0ab8416139171dc18c21879a9e45/titanet-l.nemo.\n",
      "[NeMo I 2022-07-25 20:45:57 speaker_utils:82] Number of files to diarize: 1\n",
      "[NeMo I 2022-07-25 20:45:57 clustering_diarizer:271] Subsegmentation for embedding extraction: scale0, /home/DATA/amit_kesari/SD1/NeMo-ASR_Diar/data/voxconverse/speaker_outputs/subsegments_scale0.json\n",
      "[NeMo I 2022-07-25 20:45:57 clustering_diarizer:325] Extracting embeddings for Diarization\n",
      "[NeMo I 2022-07-25 20:45:57 collections:289] Filtered duration for loading collection is 0.000000.\n",
      "[NeMo I 2022-07-25 20:45:57 collections:293] # 1353 files loaded accounting to # 1 labels\n"
     ]
    },
    {
     "name": "stderr",
     "output_type": "stream",
     "text": [
      "100%|██████████| 22/22 [00:04<00:00,  5.44it/s]\n",
      "100%|██████████| 1/1 [00:10<00:00, 10.15s/it]\n"
     ]
    },
    {
     "name": "stdout",
     "output_type": "stream",
     "text": [
      "[NeMo I 2022-07-25 20:46:13 speaker_utils:460] Cumulative Results for collar 0.25 sec and ignore_overlap True: \n",
      "     FA: 0.0714\t MISS 0.0605\t                 Diarization ER: 0.2391\t, Confusion ER:0.1072\n",
      "[NeMo I 2022-07-25 20:46:13 clustering_diarizer:444] Outputs are saved in /home/DATA/amit_kesari/SD1/NeMo-ASR_Diar/data/voxconverse directory\n",
      "\n",
      "\n",
      "Diar score:  (<pyannote.metrics.diarization.DiarizationErrorRate object at 0x7fa049182160>, {'diysk': {'speaker_0': 'spk04', 'speaker_1': 'spk00', 'speaker_10': 'spk08', 'speaker_13': 'spk02', 'speaker_14': 'spk01', 'speaker_2': 'spk14', 'speaker_3': 'spk10', 'speaker_4': 'spk06', 'speaker_5': 'spk11', 'speaker_6': 'spk03', 'speaker_7': 'spk07', 'speaker_9': 'spk13'}})\n",
      "Diarization error rate (DER) = 40.1%\n",
      "\n",
      "\n",
      "voxconverse_label:  dkabn\n",
      "num_speakers:  7\n",
      "[NeMo I 2022-07-25 20:46:16 speaker_utils:82] Number of files to diarize: 1\n",
      "[NeMo I 2022-07-25 20:46:16 cloud:56] Found existing object /root/.cache/torch/NeMo/NeMo_1.10.0/QuartzNet15x5Base-En/2b066be39e9294d7100fb176ec817722/QuartzNet15x5Base-En.nemo.\n",
      "[NeMo I 2022-07-25 20:46:16 cloud:62] Re-using file from: /root/.cache/torch/NeMo/NeMo_1.10.0/QuartzNet15x5Base-En/2b066be39e9294d7100fb176ec817722/QuartzNet15x5Base-En.nemo\n",
      "[NeMo I 2022-07-25 20:46:16 common:789] Instantiating model from pre-trained checkpoint\n",
      "[NeMo I 2022-07-25 20:46:17 features:200] PADDING: 16\n",
      "[NeMo I 2022-07-25 20:46:18 save_restore_connector:243] Model EncDecCTCModel was successfully restored from /root/.cache/torch/NeMo/NeMo_1.10.0/QuartzNet15x5Base-En/2b066be39e9294d7100fb176ec817722/QuartzNet15x5Base-En.nemo.\n"
     ]
    },
    {
     "data": {
      "application/vnd.jupyter.widget-view+json": {
       "model_id": "4d029f7ab67447eca4c0a84131cb41b1",
       "version_major": 2,
       "version_minor": 0
      },
      "text/plain": [
       "Transcribing:   0%|          | 0/1 [00:00<?, ?it/s]"
      ]
     },
     "metadata": {},
     "output_type": "display_data"
    },
    {
     "name": "stdout",
     "output_type": "stream",
     "text": [
      "[NeMo I 2022-07-25 20:46:20 speaker_utils:82] Number of files to diarize: 1\n",
      "[NeMo I 2022-07-25 20:46:39 clustering_diarizer:153] Loading pretrained titanet_large model from NGC\n",
      "[NeMo I 2022-07-25 20:46:39 cloud:56] Found existing object /root/.cache/torch/NeMo/NeMo_1.10.0/titanet-l/492c0ab8416139171dc18c21879a9e45/titanet-l.nemo.\n",
      "[NeMo I 2022-07-25 20:46:39 cloud:62] Re-using file from: /root/.cache/torch/NeMo/NeMo_1.10.0/titanet-l/492c0ab8416139171dc18c21879a9e45/titanet-l.nemo\n",
      "[NeMo I 2022-07-25 20:46:39 common:789] Instantiating model from pre-trained checkpoint\n"
     ]
    },
    {
     "name": "stderr",
     "output_type": "stream",
     "text": [
      "[NeMo W 2022-07-25 20:46:40 modelPT:148] If you intend to do training or fine-tuning, please call the ModelPT.setup_training_data() method and provide a valid configuration file to setup the train data loader.\n",
      "    Train config : \n",
      "    manifest_filepath: /manifests/combined_fisher_swbd_voxceleb12_librispeech/train.json\n",
      "    sample_rate: 16000\n",
      "    labels: null\n",
      "    batch_size: 64\n",
      "    shuffle: true\n",
      "    time_length: 3\n",
      "    is_tarred: false\n",
      "    tarred_audio_filepaths: null\n",
      "    tarred_shard_strategy: scatter\n",
      "    augmentor:\n",
      "      noise:\n",
      "        manifest_path: /manifests/noise/rir_noise_manifest.json\n",
      "        prob: 0.5\n",
      "        min_snr_db: 0\n",
      "        max_snr_db: 15\n",
      "      speed:\n",
      "        prob: 0.5\n",
      "        sr: 16000\n",
      "        resample_type: kaiser_fast\n",
      "        min_speed_rate: 0.95\n",
      "        max_speed_rate: 1.05\n",
      "    num_workers: 15\n",
      "    pin_memory: true\n",
      "    \n",
      "[NeMo W 2022-07-25 20:46:40 modelPT:155] If you intend to do validation, please call the ModelPT.setup_validation_data() or ModelPT.setup_multiple_validation_data() method and provide a valid configuration file to setup the validation data loader(s). \n",
      "    Validation config : \n",
      "    manifest_filepath: /manifests/combined_fisher_swbd_voxceleb12_librispeech/dev.json\n",
      "    sample_rate: 16000\n",
      "    labels: null\n",
      "    batch_size: 128\n",
      "    shuffle: false\n",
      "    time_length: 3\n",
      "    num_workers: 15\n",
      "    pin_memory: true\n",
      "    \n"
     ]
    },
    {
     "name": "stdout",
     "output_type": "stream",
     "text": [
      "[NeMo I 2022-07-25 20:46:40 features:200] PADDING: 16\n",
      "[NeMo I 2022-07-25 20:46:41 label_models:100] loss is Angular Softmax\n",
      "[NeMo I 2022-07-25 20:46:41 save_restore_connector:243] Model EncDecSpeakerLabelModel was successfully restored from /root/.cache/torch/NeMo/NeMo_1.10.0/titanet-l/492c0ab8416139171dc18c21879a9e45/titanet-l.nemo.\n",
      "[NeMo I 2022-07-25 20:46:41 speaker_utils:82] Number of files to diarize: 1\n",
      "[NeMo I 2022-07-25 20:46:41 clustering_diarizer:271] Subsegmentation for embedding extraction: scale0, /home/DATA/amit_kesari/SD1/NeMo-ASR_Diar/data/voxconverse/speaker_outputs/subsegments_scale0.json\n",
      "[NeMo I 2022-07-25 20:46:41 clustering_diarizer:325] Extracting embeddings for Diarization\n",
      "[NeMo I 2022-07-25 20:46:41 collections:289] Filtered duration for loading collection is 0.000000.\n",
      "[NeMo I 2022-07-25 20:46:41 collections:293] # 1966 files loaded accounting to # 1 labels\n"
     ]
    },
    {
     "name": "stderr",
     "output_type": "stream",
     "text": [
      "100%|██████████| 31/31 [00:05<00:00,  5.40it/s]\n",
      "100%|██████████| 1/1 [00:09<00:00,  9.75s/it]\n"
     ]
    },
    {
     "name": "stdout",
     "output_type": "stream",
     "text": [
      "[NeMo I 2022-07-25 20:46:59 speaker_utils:460] Cumulative Results for collar 0.25 sec and ignore_overlap True: \n",
      "     FA: 0.0956\t MISS 0.2624\t                 Diarization ER: 0.5107\t, Confusion ER:0.1527\n",
      "[NeMo I 2022-07-25 20:46:59 clustering_diarizer:444] Outputs are saved in /home/DATA/amit_kesari/SD1/NeMo-ASR_Diar/data/voxconverse directory\n",
      "\n",
      "\n",
      "Diar score:  (<pyannote.metrics.diarization.DiarizationErrorRate object at 0x7fa0491823d0>, {'dkabn': {'speaker_0': 'spk00', 'speaker_1': 'spk04', 'speaker_2': 'spk02', 'speaker_3': 'spk05', 'speaker_4': 'spk03', 'speaker_5': 'spk06', 'speaker_6': 'spk01'}})\n",
      "Diarization error rate (DER) = 54.4%\n",
      "\n",
      "\n",
      "voxconverse_label:  dlast\n",
      "num_speakers:  9\n",
      "[NeMo I 2022-07-25 20:47:03 speaker_utils:82] Number of files to diarize: 1\n",
      "[NeMo I 2022-07-25 20:47:03 cloud:56] Found existing object /root/.cache/torch/NeMo/NeMo_1.10.0/QuartzNet15x5Base-En/2b066be39e9294d7100fb176ec817722/QuartzNet15x5Base-En.nemo.\n",
      "[NeMo I 2022-07-25 20:47:03 cloud:62] Re-using file from: /root/.cache/torch/NeMo/NeMo_1.10.0/QuartzNet15x5Base-En/2b066be39e9294d7100fb176ec817722/QuartzNet15x5Base-En.nemo\n",
      "[NeMo I 2022-07-25 20:47:03 common:789] Instantiating model from pre-trained checkpoint\n",
      "[NeMo I 2022-07-25 20:47:04 features:200] PADDING: 16\n",
      "[NeMo I 2022-07-25 20:47:05 save_restore_connector:243] Model EncDecCTCModel was successfully restored from /root/.cache/torch/NeMo/NeMo_1.10.0/QuartzNet15x5Base-En/2b066be39e9294d7100fb176ec817722/QuartzNet15x5Base-En.nemo.\n"
     ]
    },
    {
     "data": {
      "application/vnd.jupyter.widget-view+json": {
       "model_id": "e83c7cf3ab044f1887e740631766ad0b",
       "version_major": 2,
       "version_minor": 0
      },
      "text/plain": [
       "Transcribing:   0%|          | 0/1 [00:00<?, ?it/s]"
      ]
     },
     "metadata": {},
     "output_type": "display_data"
    },
    {
     "name": "stdout",
     "output_type": "stream",
     "text": [
      "[NeMo I 2022-07-25 20:47:07 speaker_utils:82] Number of files to diarize: 1\n",
      "[NeMo I 2022-07-25 20:47:10 clustering_diarizer:153] Loading pretrained titanet_large model from NGC\n",
      "[NeMo I 2022-07-25 20:47:11 cloud:56] Found existing object /root/.cache/torch/NeMo/NeMo_1.10.0/titanet-l/492c0ab8416139171dc18c21879a9e45/titanet-l.nemo.\n",
      "[NeMo I 2022-07-25 20:47:11 cloud:62] Re-using file from: /root/.cache/torch/NeMo/NeMo_1.10.0/titanet-l/492c0ab8416139171dc18c21879a9e45/titanet-l.nemo\n",
      "[NeMo I 2022-07-25 20:47:11 common:789] Instantiating model from pre-trained checkpoint\n"
     ]
    },
    {
     "name": "stderr",
     "output_type": "stream",
     "text": [
      "[NeMo W 2022-07-25 20:47:11 modelPT:148] If you intend to do training or fine-tuning, please call the ModelPT.setup_training_data() method and provide a valid configuration file to setup the train data loader.\n",
      "    Train config : \n",
      "    manifest_filepath: /manifests/combined_fisher_swbd_voxceleb12_librispeech/train.json\n",
      "    sample_rate: 16000\n",
      "    labels: null\n",
      "    batch_size: 64\n",
      "    shuffle: true\n",
      "    time_length: 3\n",
      "    is_tarred: false\n",
      "    tarred_audio_filepaths: null\n",
      "    tarred_shard_strategy: scatter\n",
      "    augmentor:\n",
      "      noise:\n",
      "        manifest_path: /manifests/noise/rir_noise_manifest.json\n",
      "        prob: 0.5\n",
      "        min_snr_db: 0\n",
      "        max_snr_db: 15\n",
      "      speed:\n",
      "        prob: 0.5\n",
      "        sr: 16000\n",
      "        resample_type: kaiser_fast\n",
      "        min_speed_rate: 0.95\n",
      "        max_speed_rate: 1.05\n",
      "    num_workers: 15\n",
      "    pin_memory: true\n",
      "    \n",
      "[NeMo W 2022-07-25 20:47:11 modelPT:155] If you intend to do validation, please call the ModelPT.setup_validation_data() or ModelPT.setup_multiple_validation_data() method and provide a valid configuration file to setup the validation data loader(s). \n",
      "    Validation config : \n",
      "    manifest_filepath: /manifests/combined_fisher_swbd_voxceleb12_librispeech/dev.json\n",
      "    sample_rate: 16000\n",
      "    labels: null\n",
      "    batch_size: 128\n",
      "    shuffle: false\n",
      "    time_length: 3\n",
      "    num_workers: 15\n",
      "    pin_memory: true\n",
      "    \n"
     ]
    },
    {
     "name": "stdout",
     "output_type": "stream",
     "text": [
      "[NeMo I 2022-07-25 20:47:11 features:200] PADDING: 16\n",
      "[NeMo I 2022-07-25 20:47:12 label_models:100] loss is Angular Softmax\n",
      "[NeMo I 2022-07-25 20:47:12 save_restore_connector:243] Model EncDecSpeakerLabelModel was successfully restored from /root/.cache/torch/NeMo/NeMo_1.10.0/titanet-l/492c0ab8416139171dc18c21879a9e45/titanet-l.nemo.\n",
      "[NeMo I 2022-07-25 20:47:12 speaker_utils:82] Number of files to diarize: 1\n",
      "[NeMo I 2022-07-25 20:47:12 clustering_diarizer:271] Subsegmentation for embedding extraction: scale0, /home/DATA/amit_kesari/SD1/NeMo-ASR_Diar/data/voxconverse/speaker_outputs/subsegments_scale0.json\n",
      "[NeMo I 2022-07-25 20:47:13 clustering_diarizer:325] Extracting embeddings for Diarization\n",
      "[NeMo I 2022-07-25 20:47:13 collections:289] Filtered duration for loading collection is 0.000000.\n",
      "[NeMo I 2022-07-25 20:47:13 collections:293] # 2308 files loaded accounting to # 1 labels\n"
     ]
    },
    {
     "name": "stderr",
     "output_type": "stream",
     "text": [
      "100%|██████████| 37/37 [00:06<00:00,  5.70it/s]\n",
      "100%|██████████| 1/1 [00:11<00:00, 11.67s/it]\n"
     ]
    },
    {
     "name": "stdout",
     "output_type": "stream",
     "text": [
      "[NeMo I 2022-07-25 20:47:34 speaker_utils:460] Cumulative Results for collar 0.25 sec and ignore_overlap True: \n",
      "     FA: 0.0666\t MISS 0.2400\t                 Diarization ER: 0.6370\t, Confusion ER:0.3305\n",
      "[NeMo I 2022-07-25 20:47:34 clustering_diarizer:444] Outputs are saved in /home/DATA/amit_kesari/SD1/NeMo-ASR_Diar/data/voxconverse directory\n",
      "\n",
      "\n",
      "Diar score:  (<pyannote.metrics.diarization.DiarizationErrorRate object at 0x7fa0501462e0>, {'dlast': {'speaker_0': 'spk07', 'speaker_1': 'spk03', 'speaker_2': 'spk01', 'speaker_3': 'spk05', 'speaker_5': 'spk04', 'speaker_6': 'spk06'}})\n",
      "Diarization error rate (DER) = 65.8%\n",
      "\n",
      "\n",
      "voxconverse_label:  dohag\n",
      "num_speakers:  1\n",
      "[NeMo I 2022-07-25 20:47:38 speaker_utils:82] Number of files to diarize: 1\n",
      "[NeMo I 2022-07-25 20:47:38 cloud:56] Found existing object /root/.cache/torch/NeMo/NeMo_1.10.0/QuartzNet15x5Base-En/2b066be39e9294d7100fb176ec817722/QuartzNet15x5Base-En.nemo.\n",
      "[NeMo I 2022-07-25 20:47:38 cloud:62] Re-using file from: /root/.cache/torch/NeMo/NeMo_1.10.0/QuartzNet15x5Base-En/2b066be39e9294d7100fb176ec817722/QuartzNet15x5Base-En.nemo\n",
      "[NeMo I 2022-07-25 20:47:38 common:789] Instantiating model from pre-trained checkpoint\n",
      "[NeMo I 2022-07-25 20:47:39 features:200] PADDING: 16\n",
      "[NeMo I 2022-07-25 20:47:40 save_restore_connector:243] Model EncDecCTCModel was successfully restored from /root/.cache/torch/NeMo/NeMo_1.10.0/QuartzNet15x5Base-En/2b066be39e9294d7100fb176ec817722/QuartzNet15x5Base-En.nemo.\n"
     ]
    },
    {
     "data": {
      "application/vnd.jupyter.widget-view+json": {
       "model_id": "f3b889c85b344c668ab2873b108f7271",
       "version_major": 2,
       "version_minor": 0
      },
      "text/plain": [
       "Transcribing:   0%|          | 0/1 [00:00<?, ?it/s]"
      ]
     },
     "metadata": {},
     "output_type": "display_data"
    },
    {
     "name": "stdout",
     "output_type": "stream",
     "text": [
      "[NeMo I 2022-07-25 20:47:41 speaker_utils:82] Number of files to diarize: 1\n",
      "[NeMo I 2022-07-25 20:47:41 clustering_diarizer:153] Loading pretrained titanet_large model from NGC\n",
      "[NeMo I 2022-07-25 20:47:41 cloud:56] Found existing object /root/.cache/torch/NeMo/NeMo_1.10.0/titanet-l/492c0ab8416139171dc18c21879a9e45/titanet-l.nemo.\n",
      "[NeMo I 2022-07-25 20:47:41 cloud:62] Re-using file from: /root/.cache/torch/NeMo/NeMo_1.10.0/titanet-l/492c0ab8416139171dc18c21879a9e45/titanet-l.nemo\n",
      "[NeMo I 2022-07-25 20:47:41 common:789] Instantiating model from pre-trained checkpoint\n"
     ]
    },
    {
     "name": "stderr",
     "output_type": "stream",
     "text": [
      "[NeMo W 2022-07-25 20:47:42 modelPT:148] If you intend to do training or fine-tuning, please call the ModelPT.setup_training_data() method and provide a valid configuration file to setup the train data loader.\n",
      "    Train config : \n",
      "    manifest_filepath: /manifests/combined_fisher_swbd_voxceleb12_librispeech/train.json\n",
      "    sample_rate: 16000\n",
      "    labels: null\n",
      "    batch_size: 64\n",
      "    shuffle: true\n",
      "    time_length: 3\n",
      "    is_tarred: false\n",
      "    tarred_audio_filepaths: null\n",
      "    tarred_shard_strategy: scatter\n",
      "    augmentor:\n",
      "      noise:\n",
      "        manifest_path: /manifests/noise/rir_noise_manifest.json\n",
      "        prob: 0.5\n",
      "        min_snr_db: 0\n",
      "        max_snr_db: 15\n",
      "      speed:\n",
      "        prob: 0.5\n",
      "        sr: 16000\n",
      "        resample_type: kaiser_fast\n",
      "        min_speed_rate: 0.95\n",
      "        max_speed_rate: 1.05\n",
      "    num_workers: 15\n",
      "    pin_memory: true\n",
      "    \n",
      "[NeMo W 2022-07-25 20:47:42 modelPT:155] If you intend to do validation, please call the ModelPT.setup_validation_data() or ModelPT.setup_multiple_validation_data() method and provide a valid configuration file to setup the validation data loader(s). \n",
      "    Validation config : \n",
      "    manifest_filepath: /manifests/combined_fisher_swbd_voxceleb12_librispeech/dev.json\n",
      "    sample_rate: 16000\n",
      "    labels: null\n",
      "    batch_size: 128\n",
      "    shuffle: false\n",
      "    time_length: 3\n",
      "    num_workers: 15\n",
      "    pin_memory: true\n",
      "    \n"
     ]
    },
    {
     "name": "stdout",
     "output_type": "stream",
     "text": [
      "[NeMo I 2022-07-25 20:47:42 features:200] PADDING: 16\n",
      "[NeMo I 2022-07-25 20:47:42 label_models:100] loss is Angular Softmax\n",
      "[NeMo I 2022-07-25 20:47:43 save_restore_connector:243] Model EncDecSpeakerLabelModel was successfully restored from /root/.cache/torch/NeMo/NeMo_1.10.0/titanet-l/492c0ab8416139171dc18c21879a9e45/titanet-l.nemo.\n",
      "[NeMo I 2022-07-25 20:47:43 speaker_utils:82] Number of files to diarize: 1\n",
      "[NeMo I 2022-07-25 20:47:43 clustering_diarizer:271] Subsegmentation for embedding extraction: scale0, /home/DATA/amit_kesari/SD1/NeMo-ASR_Diar/data/voxconverse/speaker_outputs/subsegments_scale0.json\n",
      "[NeMo I 2022-07-25 20:47:43 clustering_diarizer:325] Extracting embeddings for Diarization\n",
      "[NeMo I 2022-07-25 20:47:43 collections:289] Filtered duration for loading collection is 0.000000.\n",
      "[NeMo I 2022-07-25 20:47:43 collections:293] # 75 files loaded accounting to # 1 labels\n"
     ]
    },
    {
     "name": "stderr",
     "output_type": "stream",
     "text": [
      "100%|██████████| 2/2 [00:00<00:00,  4.02it/s]\n",
      "100%|██████████| 1/1 [00:01<00:00,  1.30s/it]"
     ]
    },
    {
     "name": "stdout",
     "output_type": "stream",
     "text": [
      "[NeMo I 2022-07-25 20:47:44 speaker_utils:460] Cumulative Results for collar 0.25 sec and ignore_overlap True: \n",
      "     FA: 0.0477\t MISS 0.2621\t                 Diarization ER: 0.3098\t, Confusion ER:0.0000\n",
      "[NeMo I 2022-07-25 20:47:44 clustering_diarizer:444] Outputs are saved in /home/DATA/amit_kesari/SD1/NeMo-ASR_Diar/data/voxconverse directory\n",
      "\n",
      "\n",
      "Diar score:  (<pyannote.metrics.diarization.DiarizationErrorRate object at 0x7fa06ddb1820>, {'dohag': {'speaker_0': 'spk00'}})\n",
      "Diarization error rate (DER) = 31.8%\n",
      "\n",
      "\n",
      "voxconverse_label:  duvox\n",
      "num_speakers:  6\n",
      "[NeMo I 2022-07-25 20:47:44 speaker_utils:82] Number of files to diarize: 1\n",
      "[NeMo I 2022-07-25 20:47:44 cloud:56] Found existing object /root/.cache/torch/NeMo/NeMo_1.10.0/QuartzNet15x5Base-En/2b066be39e9294d7100fb176ec817722/QuartzNet15x5Base-En.nemo.\n",
      "[NeMo I 2022-07-25 20:47:44 cloud:62] Re-using file from: /root/.cache/torch/NeMo/NeMo_1.10.0/QuartzNet15x5Base-En/2b066be39e9294d7100fb176ec817722/QuartzNet15x5Base-En.nemo\n",
      "[NeMo I 2022-07-25 20:47:44 common:789] Instantiating model from pre-trained checkpoint\n"
     ]
    },
    {
     "name": "stderr",
     "output_type": "stream",
     "text": [
      "\n"
     ]
    },
    {
     "name": "stdout",
     "output_type": "stream",
     "text": [
      "[NeMo I 2022-07-25 20:47:45 features:200] PADDING: 16\n",
      "[NeMo I 2022-07-25 20:47:47 save_restore_connector:243] Model EncDecCTCModel was successfully restored from /root/.cache/torch/NeMo/NeMo_1.10.0/QuartzNet15x5Base-En/2b066be39e9294d7100fb176ec817722/QuartzNet15x5Base-En.nemo.\n"
     ]
    },
    {
     "data": {
      "application/vnd.jupyter.widget-view+json": {
       "model_id": "ac189eb597e3456a98a1016885b72ce7",
       "version_major": 2,
       "version_minor": 0
      },
      "text/plain": [
       "Transcribing:   0%|          | 0/1 [00:00<?, ?it/s]"
      ]
     },
     "metadata": {},
     "output_type": "display_data"
    },
    {
     "name": "stdout",
     "output_type": "stream",
     "text": [
      "[NeMo I 2022-07-25 20:47:48 speaker_utils:82] Number of files to diarize: 1\n",
      "[NeMo I 2022-07-25 20:47:48 clustering_diarizer:153] Loading pretrained titanet_large model from NGC\n",
      "[NeMo I 2022-07-25 20:47:48 cloud:56] Found existing object /root/.cache/torch/NeMo/NeMo_1.10.0/titanet-l/492c0ab8416139171dc18c21879a9e45/titanet-l.nemo.\n",
      "[NeMo I 2022-07-25 20:47:48 cloud:62] Re-using file from: /root/.cache/torch/NeMo/NeMo_1.10.0/titanet-l/492c0ab8416139171dc18c21879a9e45/titanet-l.nemo\n",
      "[NeMo I 2022-07-25 20:47:48 common:789] Instantiating model from pre-trained checkpoint\n"
     ]
    },
    {
     "name": "stderr",
     "output_type": "stream",
     "text": [
      "[NeMo W 2022-07-25 20:47:49 modelPT:148] If you intend to do training or fine-tuning, please call the ModelPT.setup_training_data() method and provide a valid configuration file to setup the train data loader.\n",
      "    Train config : \n",
      "    manifest_filepath: /manifests/combined_fisher_swbd_voxceleb12_librispeech/train.json\n",
      "    sample_rate: 16000\n",
      "    labels: null\n",
      "    batch_size: 64\n",
      "    shuffle: true\n",
      "    time_length: 3\n",
      "    is_tarred: false\n",
      "    tarred_audio_filepaths: null\n",
      "    tarred_shard_strategy: scatter\n",
      "    augmentor:\n",
      "      noise:\n",
      "        manifest_path: /manifests/noise/rir_noise_manifest.json\n",
      "        prob: 0.5\n",
      "        min_snr_db: 0\n",
      "        max_snr_db: 15\n",
      "      speed:\n",
      "        prob: 0.5\n",
      "        sr: 16000\n",
      "        resample_type: kaiser_fast\n",
      "        min_speed_rate: 0.95\n",
      "        max_speed_rate: 1.05\n",
      "    num_workers: 15\n",
      "    pin_memory: true\n",
      "    \n",
      "[NeMo W 2022-07-25 20:47:49 modelPT:155] If you intend to do validation, please call the ModelPT.setup_validation_data() or ModelPT.setup_multiple_validation_data() method and provide a valid configuration file to setup the validation data loader(s). \n",
      "    Validation config : \n",
      "    manifest_filepath: /manifests/combined_fisher_swbd_voxceleb12_librispeech/dev.json\n",
      "    sample_rate: 16000\n",
      "    labels: null\n",
      "    batch_size: 128\n",
      "    shuffle: false\n",
      "    time_length: 3\n",
      "    num_workers: 15\n",
      "    pin_memory: true\n",
      "    \n"
     ]
    },
    {
     "name": "stdout",
     "output_type": "stream",
     "text": [
      "[NeMo I 2022-07-25 20:47:49 features:200] PADDING: 16\n",
      "[NeMo I 2022-07-25 20:47:49 label_models:100] loss is Angular Softmax\n",
      "[NeMo I 2022-07-25 20:47:50 save_restore_connector:243] Model EncDecSpeakerLabelModel was successfully restored from /root/.cache/torch/NeMo/NeMo_1.10.0/titanet-l/492c0ab8416139171dc18c21879a9e45/titanet-l.nemo.\n",
      "[NeMo I 2022-07-25 20:47:50 speaker_utils:82] Number of files to diarize: 1\n",
      "[NeMo I 2022-07-25 20:47:50 clustering_diarizer:271] Subsegmentation for embedding extraction: scale0, /home/DATA/amit_kesari/SD1/NeMo-ASR_Diar/data/voxconverse/speaker_outputs/subsegments_scale0.json\n",
      "[NeMo I 2022-07-25 20:47:50 clustering_diarizer:325] Extracting embeddings for Diarization\n",
      "[NeMo I 2022-07-25 20:47:50 collections:289] Filtered duration for loading collection is 0.000000.\n",
      "[NeMo I 2022-07-25 20:47:50 collections:293] # 1138 files loaded accounting to # 1 labels\n"
     ]
    },
    {
     "name": "stderr",
     "output_type": "stream",
     "text": [
      "100%|██████████| 18/18 [00:03<00:00,  5.61it/s]\n",
      "100%|██████████| 1/1 [00:10<00:00, 10.32s/it]\n"
     ]
    },
    {
     "name": "stdout",
     "output_type": "stream",
     "text": [
      "[NeMo I 2022-07-25 20:48:04 speaker_utils:460] Cumulative Results for collar 0.25 sec and ignore_overlap True: \n",
      "     FA: 0.0654\t MISS 0.0735\t                 Diarization ER: 0.1513\t, Confusion ER:0.0124\n",
      "[NeMo I 2022-07-25 20:48:04 clustering_diarizer:444] Outputs are saved in /home/DATA/amit_kesari/SD1/NeMo-ASR_Diar/data/voxconverse directory\n",
      "\n",
      "\n",
      "Diar score:  (<pyannote.metrics.diarization.DiarizationErrorRate object at 0x7fa1408f9fd0>, {'duvox': {'speaker_0': 'spk05', 'speaker_1': 'spk00', 'speaker_2': 'spk01', 'speaker_3': 'spk03', 'speaker_4': 'spk04'}})\n",
      "Diarization error rate (DER) = 19.7%\n",
      "\n",
      "\n",
      "voxconverse_label:  dxbbt\n",
      "num_speakers:  3\n",
      "[NeMo I 2022-07-25 20:48:05 speaker_utils:82] Number of files to diarize: 1\n",
      "[NeMo I 2022-07-25 20:48:05 cloud:56] Found existing object /root/.cache/torch/NeMo/NeMo_1.10.0/QuartzNet15x5Base-En/2b066be39e9294d7100fb176ec817722/QuartzNet15x5Base-En.nemo.\n",
      "[NeMo I 2022-07-25 20:48:05 cloud:62] Re-using file from: /root/.cache/torch/NeMo/NeMo_1.10.0/QuartzNet15x5Base-En/2b066be39e9294d7100fb176ec817722/QuartzNet15x5Base-En.nemo\n",
      "[NeMo I 2022-07-25 20:48:05 common:789] Instantiating model from pre-trained checkpoint\n",
      "[NeMo I 2022-07-25 20:48:06 features:200] PADDING: 16\n",
      "[NeMo I 2022-07-25 20:48:07 save_restore_connector:243] Model EncDecCTCModel was successfully restored from /root/.cache/torch/NeMo/NeMo_1.10.0/QuartzNet15x5Base-En/2b066be39e9294d7100fb176ec817722/QuartzNet15x5Base-En.nemo.\n"
     ]
    },
    {
     "data": {
      "application/vnd.jupyter.widget-view+json": {
       "model_id": "1562839dbcbb48859e44b4975a7e7fbf",
       "version_major": 2,
       "version_minor": 0
      },
      "text/plain": [
       "Transcribing:   0%|          | 0/1 [00:00<?, ?it/s]"
      ]
     },
     "metadata": {},
     "output_type": "display_data"
    },
    {
     "name": "stdout",
     "output_type": "stream",
     "text": [
      "[NeMo I 2022-07-25 20:48:09 speaker_utils:82] Number of files to diarize: 1\n",
      "[NeMo I 2022-07-25 20:48:09 clustering_diarizer:153] Loading pretrained titanet_large model from NGC\n",
      "[NeMo I 2022-07-25 20:48:09 cloud:56] Found existing object /root/.cache/torch/NeMo/NeMo_1.10.0/titanet-l/492c0ab8416139171dc18c21879a9e45/titanet-l.nemo.\n",
      "[NeMo I 2022-07-25 20:48:09 cloud:62] Re-using file from: /root/.cache/torch/NeMo/NeMo_1.10.0/titanet-l/492c0ab8416139171dc18c21879a9e45/titanet-l.nemo\n",
      "[NeMo I 2022-07-25 20:48:09 common:789] Instantiating model from pre-trained checkpoint\n"
     ]
    },
    {
     "name": "stderr",
     "output_type": "stream",
     "text": [
      "[NeMo W 2022-07-25 20:48:10 modelPT:148] If you intend to do training or fine-tuning, please call the ModelPT.setup_training_data() method and provide a valid configuration file to setup the train data loader.\n",
      "    Train config : \n",
      "    manifest_filepath: /manifests/combined_fisher_swbd_voxceleb12_librispeech/train.json\n",
      "    sample_rate: 16000\n",
      "    labels: null\n",
      "    batch_size: 64\n",
      "    shuffle: true\n",
      "    time_length: 3\n",
      "    is_tarred: false\n",
      "    tarred_audio_filepaths: null\n",
      "    tarred_shard_strategy: scatter\n",
      "    augmentor:\n",
      "      noise:\n",
      "        manifest_path: /manifests/noise/rir_noise_manifest.json\n",
      "        prob: 0.5\n",
      "        min_snr_db: 0\n",
      "        max_snr_db: 15\n",
      "      speed:\n",
      "        prob: 0.5\n",
      "        sr: 16000\n",
      "        resample_type: kaiser_fast\n",
      "        min_speed_rate: 0.95\n",
      "        max_speed_rate: 1.05\n",
      "    num_workers: 15\n",
      "    pin_memory: true\n",
      "    \n",
      "[NeMo W 2022-07-25 20:48:10 modelPT:155] If you intend to do validation, please call the ModelPT.setup_validation_data() or ModelPT.setup_multiple_validation_data() method and provide a valid configuration file to setup the validation data loader(s). \n",
      "    Validation config : \n",
      "    manifest_filepath: /manifests/combined_fisher_swbd_voxceleb12_librispeech/dev.json\n",
      "    sample_rate: 16000\n",
      "    labels: null\n",
      "    batch_size: 128\n",
      "    shuffle: false\n",
      "    time_length: 3\n",
      "    num_workers: 15\n",
      "    pin_memory: true\n",
      "    \n"
     ]
    },
    {
     "name": "stdout",
     "output_type": "stream",
     "text": [
      "[NeMo I 2022-07-25 20:48:10 features:200] PADDING: 16\n",
      "[NeMo I 2022-07-25 20:48:11 label_models:100] loss is Angular Softmax\n",
      "[NeMo I 2022-07-25 20:48:11 save_restore_connector:243] Model EncDecSpeakerLabelModel was successfully restored from /root/.cache/torch/NeMo/NeMo_1.10.0/titanet-l/492c0ab8416139171dc18c21879a9e45/titanet-l.nemo.\n",
      "[NeMo I 2022-07-25 20:48:11 speaker_utils:82] Number of files to diarize: 1\n",
      "[NeMo I 2022-07-25 20:48:11 clustering_diarizer:271] Subsegmentation for embedding extraction: scale0, /home/DATA/amit_kesari/SD1/NeMo-ASR_Diar/data/voxconverse/speaker_outputs/subsegments_scale0.json\n",
      "[NeMo I 2022-07-25 20:48:11 clustering_diarizer:325] Extracting embeddings for Diarization\n",
      "[NeMo I 2022-07-25 20:48:11 collections:289] Filtered duration for loading collection is 0.000000.\n",
      "[NeMo I 2022-07-25 20:48:11 collections:293] # 1303 files loaded accounting to # 1 labels\n"
     ]
    },
    {
     "name": "stderr",
     "output_type": "stream",
     "text": [
      "100%|██████████| 21/21 [00:03<00:00,  5.56it/s]\n",
      "100%|██████████| 1/1 [00:10<00:00, 10.01s/it]\n"
     ]
    },
    {
     "name": "stdout",
     "output_type": "stream",
     "text": [
      "[NeMo I 2022-07-25 20:48:26 speaker_utils:460] Cumulative Results for collar 0.25 sec and ignore_overlap True: \n",
      "     FA: 0.0126\t MISS 0.2436\t                 Diarization ER: 0.2973\t, Confusion ER:0.0411\n",
      "[NeMo I 2022-07-25 20:48:26 clustering_diarizer:444] Outputs are saved in /home/DATA/amit_kesari/SD1/NeMo-ASR_Diar/data/voxconverse directory\n",
      "\n",
      "\n",
      "Diar score:  (<pyannote.metrics.diarization.DiarizationErrorRate object at 0x7fa0501afb20>, {'dxbbt': {'speaker_0': 'spk00', 'speaker_1': 'spk01', 'speaker_2': 'spk02'}})\n",
      "Diarization error rate (DER) = 32.0%\n",
      "\n",
      "\n",
      "voxconverse_label:  dxokr\n",
      "num_speakers:  4\n",
      "[NeMo I 2022-07-25 20:48:28 speaker_utils:82] Number of files to diarize: 1\n",
      "[NeMo I 2022-07-25 20:48:28 cloud:56] Found existing object /root/.cache/torch/NeMo/NeMo_1.10.0/QuartzNet15x5Base-En/2b066be39e9294d7100fb176ec817722/QuartzNet15x5Base-En.nemo.\n",
      "[NeMo I 2022-07-25 20:48:28 cloud:62] Re-using file from: /root/.cache/torch/NeMo/NeMo_1.10.0/QuartzNet15x5Base-En/2b066be39e9294d7100fb176ec817722/QuartzNet15x5Base-En.nemo\n",
      "[NeMo I 2022-07-25 20:48:28 common:789] Instantiating model from pre-trained checkpoint\n",
      "[NeMo I 2022-07-25 20:48:28 features:200] PADDING: 16\n",
      "[NeMo I 2022-07-25 20:48:30 save_restore_connector:243] Model EncDecCTCModel was successfully restored from /root/.cache/torch/NeMo/NeMo_1.10.0/QuartzNet15x5Base-En/2b066be39e9294d7100fb176ec817722/QuartzNet15x5Base-En.nemo.\n"
     ]
    },
    {
     "data": {
      "application/vnd.jupyter.widget-view+json": {
       "model_id": "f6666fc264614282995e2566de3f65a3",
       "version_major": 2,
       "version_minor": 0
      },
      "text/plain": [
       "Transcribing:   0%|          | 0/1 [00:00<?, ?it/s]"
      ]
     },
     "metadata": {},
     "output_type": "display_data"
    },
    {
     "name": "stdout",
     "output_type": "stream",
     "text": [
      "[NeMo I 2022-07-25 20:48:30 speaker_utils:82] Number of files to diarize: 1\n",
      "[NeMo I 2022-07-25 20:48:30 clustering_diarizer:153] Loading pretrained titanet_large model from NGC\n",
      "[NeMo I 2022-07-25 20:48:30 cloud:56] Found existing object /root/.cache/torch/NeMo/NeMo_1.10.0/titanet-l/492c0ab8416139171dc18c21879a9e45/titanet-l.nemo.\n",
      "[NeMo I 2022-07-25 20:48:30 cloud:62] Re-using file from: /root/.cache/torch/NeMo/NeMo_1.10.0/titanet-l/492c0ab8416139171dc18c21879a9e45/titanet-l.nemo\n",
      "[NeMo I 2022-07-25 20:48:30 common:789] Instantiating model from pre-trained checkpoint\n"
     ]
    },
    {
     "name": "stderr",
     "output_type": "stream",
     "text": [
      "[NeMo W 2022-07-25 20:48:31 modelPT:148] If you intend to do training or fine-tuning, please call the ModelPT.setup_training_data() method and provide a valid configuration file to setup the train data loader.\n",
      "    Train config : \n",
      "    manifest_filepath: /manifests/combined_fisher_swbd_voxceleb12_librispeech/train.json\n",
      "    sample_rate: 16000\n",
      "    labels: null\n",
      "    batch_size: 64\n",
      "    shuffle: true\n",
      "    time_length: 3\n",
      "    is_tarred: false\n",
      "    tarred_audio_filepaths: null\n",
      "    tarred_shard_strategy: scatter\n",
      "    augmentor:\n",
      "      noise:\n",
      "        manifest_path: /manifests/noise/rir_noise_manifest.json\n",
      "        prob: 0.5\n",
      "        min_snr_db: 0\n",
      "        max_snr_db: 15\n",
      "      speed:\n",
      "        prob: 0.5\n",
      "        sr: 16000\n",
      "        resample_type: kaiser_fast\n",
      "        min_speed_rate: 0.95\n",
      "        max_speed_rate: 1.05\n",
      "    num_workers: 15\n",
      "    pin_memory: true\n",
      "    \n",
      "[NeMo W 2022-07-25 20:48:31 modelPT:155] If you intend to do validation, please call the ModelPT.setup_validation_data() or ModelPT.setup_multiple_validation_data() method and provide a valid configuration file to setup the validation data loader(s). \n",
      "    Validation config : \n",
      "    manifest_filepath: /manifests/combined_fisher_swbd_voxceleb12_librispeech/dev.json\n",
      "    sample_rate: 16000\n",
      "    labels: null\n",
      "    batch_size: 128\n",
      "    shuffle: false\n",
      "    time_length: 3\n",
      "    num_workers: 15\n",
      "    pin_memory: true\n",
      "    \n"
     ]
    },
    {
     "name": "stdout",
     "output_type": "stream",
     "text": [
      "[NeMo I 2022-07-25 20:48:31 features:200] PADDING: 16\n",
      "[NeMo I 2022-07-25 20:48:32 label_models:100] loss is Angular Softmax\n",
      "[NeMo I 2022-07-25 20:48:32 save_restore_connector:243] Model EncDecSpeakerLabelModel was successfully restored from /root/.cache/torch/NeMo/NeMo_1.10.0/titanet-l/492c0ab8416139171dc18c21879a9e45/titanet-l.nemo.\n",
      "[NeMo I 2022-07-25 20:48:32 speaker_utils:82] Number of files to diarize: 1\n",
      "[NeMo I 2022-07-25 20:48:32 clustering_diarizer:271] Subsegmentation for embedding extraction: scale0, /home/DATA/amit_kesari/SD1/NeMo-ASR_Diar/data/voxconverse/speaker_outputs/subsegments_scale0.json\n",
      "[NeMo I 2022-07-25 20:48:32 clustering_diarizer:325] Extracting embeddings for Diarization\n",
      "[NeMo I 2022-07-25 20:48:32 collections:289] Filtered duration for loading collection is 0.000000.\n",
      "[NeMo I 2022-07-25 20:48:32 collections:293] # 361 files loaded accounting to # 1 labels\n"
     ]
    },
    {
     "name": "stderr",
     "output_type": "stream",
     "text": [
      "100%|██████████| 6/6 [00:01<00:00,  4.47it/s]\n",
      "100%|██████████| 1/1 [00:09<00:00,  9.57s/it]"
     ]
    },
    {
     "name": "stdout",
     "output_type": "stream",
     "text": [
      "[NeMo I 2022-07-25 20:48:43 speaker_utils:460] Cumulative Results for collar 0.25 sec and ignore_overlap True: \n",
      "     FA: 0.0236\t MISS 0.1920\t                 Diarization ER: 0.2901\t, Confusion ER:0.0745\n",
      "[NeMo I 2022-07-25 20:48:43 clustering_diarizer:444] Outputs are saved in /home/DATA/amit_kesari/SD1/NeMo-ASR_Diar/data/voxconverse directory\n"
     ]
    },
    {
     "name": "stderr",
     "output_type": "stream",
     "text": [
      "\n"
     ]
    },
    {
     "name": "stdout",
     "output_type": "stream",
     "text": [
      "\n",
      "\n",
      "Diar score:  (<pyannote.metrics.diarization.DiarizationErrorRate object at 0x7fa05036ae50>, {'dxokr': {'speaker_0': 'spk00', 'speaker_1': 'spk03', 'speaker_2': 'spk01'}})\n",
      "Diarization error rate (DER) = 31.0%\n",
      "\n",
      "\n",
      "voxconverse_label:  dzsef\n",
      "num_speakers:  3\n",
      "[NeMo I 2022-07-25 20:48:44 speaker_utils:82] Number of files to diarize: 1\n",
      "[NeMo I 2022-07-25 20:48:44 cloud:56] Found existing object /root/.cache/torch/NeMo/NeMo_1.10.0/QuartzNet15x5Base-En/2b066be39e9294d7100fb176ec817722/QuartzNet15x5Base-En.nemo.\n",
      "[NeMo I 2022-07-25 20:48:44 cloud:62] Re-using file from: /root/.cache/torch/NeMo/NeMo_1.10.0/QuartzNet15x5Base-En/2b066be39e9294d7100fb176ec817722/QuartzNet15x5Base-En.nemo\n",
      "[NeMo I 2022-07-25 20:48:44 common:789] Instantiating model from pre-trained checkpoint\n",
      "[NeMo I 2022-07-25 20:48:44 features:200] PADDING: 16\n",
      "[NeMo I 2022-07-25 20:48:46 save_restore_connector:243] Model EncDecCTCModel was successfully restored from /root/.cache/torch/NeMo/NeMo_1.10.0/QuartzNet15x5Base-En/2b066be39e9294d7100fb176ec817722/QuartzNet15x5Base-En.nemo.\n"
     ]
    },
    {
     "data": {
      "application/vnd.jupyter.widget-view+json": {
       "model_id": "e40c2d4bfb354706ae5509798c089d14",
       "version_major": 2,
       "version_minor": 0
      },
      "text/plain": [
       "Transcribing:   0%|          | 0/1 [00:00<?, ?it/s]"
      ]
     },
     "metadata": {},
     "output_type": "display_data"
    },
    {
     "name": "stdout",
     "output_type": "stream",
     "text": [
      "[NeMo I 2022-07-25 20:48:47 speaker_utils:82] Number of files to diarize: 1\n",
      "[NeMo I 2022-07-25 20:48:47 clustering_diarizer:153] Loading pretrained titanet_large model from NGC\n",
      "[NeMo I 2022-07-25 20:48:47 cloud:56] Found existing object /root/.cache/torch/NeMo/NeMo_1.10.0/titanet-l/492c0ab8416139171dc18c21879a9e45/titanet-l.nemo.\n",
      "[NeMo I 2022-07-25 20:48:47 cloud:62] Re-using file from: /root/.cache/torch/NeMo/NeMo_1.10.0/titanet-l/492c0ab8416139171dc18c21879a9e45/titanet-l.nemo\n",
      "[NeMo I 2022-07-25 20:48:47 common:789] Instantiating model from pre-trained checkpoint\n"
     ]
    },
    {
     "name": "stderr",
     "output_type": "stream",
     "text": [
      "[NeMo W 2022-07-25 20:48:48 modelPT:148] If you intend to do training or fine-tuning, please call the ModelPT.setup_training_data() method and provide a valid configuration file to setup the train data loader.\n",
      "    Train config : \n",
      "    manifest_filepath: /manifests/combined_fisher_swbd_voxceleb12_librispeech/train.json\n",
      "    sample_rate: 16000\n",
      "    labels: null\n",
      "    batch_size: 64\n",
      "    shuffle: true\n",
      "    time_length: 3\n",
      "    is_tarred: false\n",
      "    tarred_audio_filepaths: null\n",
      "    tarred_shard_strategy: scatter\n",
      "    augmentor:\n",
      "      noise:\n",
      "        manifest_path: /manifests/noise/rir_noise_manifest.json\n",
      "        prob: 0.5\n",
      "        min_snr_db: 0\n",
      "        max_snr_db: 15\n",
      "      speed:\n",
      "        prob: 0.5\n",
      "        sr: 16000\n",
      "        resample_type: kaiser_fast\n",
      "        min_speed_rate: 0.95\n",
      "        max_speed_rate: 1.05\n",
      "    num_workers: 15\n",
      "    pin_memory: true\n",
      "    \n",
      "[NeMo W 2022-07-25 20:48:48 modelPT:155] If you intend to do validation, please call the ModelPT.setup_validation_data() or ModelPT.setup_multiple_validation_data() method and provide a valid configuration file to setup the validation data loader(s). \n",
      "    Validation config : \n",
      "    manifest_filepath: /manifests/combined_fisher_swbd_voxceleb12_librispeech/dev.json\n",
      "    sample_rate: 16000\n",
      "    labels: null\n",
      "    batch_size: 128\n",
      "    shuffle: false\n",
      "    time_length: 3\n",
      "    num_workers: 15\n",
      "    pin_memory: true\n",
      "    \n"
     ]
    },
    {
     "name": "stdout",
     "output_type": "stream",
     "text": [
      "[NeMo I 2022-07-25 20:48:48 features:200] PADDING: 16\n",
      "[NeMo I 2022-07-25 20:48:49 label_models:100] loss is Angular Softmax\n",
      "[NeMo I 2022-07-25 20:48:49 save_restore_connector:243] Model EncDecSpeakerLabelModel was successfully restored from /root/.cache/torch/NeMo/NeMo_1.10.0/titanet-l/492c0ab8416139171dc18c21879a9e45/titanet-l.nemo.\n",
      "[NeMo I 2022-07-25 20:48:49 speaker_utils:82] Number of files to diarize: 1\n",
      "[NeMo I 2022-07-25 20:48:49 clustering_diarizer:271] Subsegmentation for embedding extraction: scale0, /home/DATA/amit_kesari/SD1/NeMo-ASR_Diar/data/voxconverse/speaker_outputs/subsegments_scale0.json\n",
      "[NeMo I 2022-07-25 20:48:49 clustering_diarizer:325] Extracting embeddings for Diarization\n",
      "[NeMo I 2022-07-25 20:48:49 collections:289] Filtered duration for loading collection is 0.000000.\n",
      "[NeMo I 2022-07-25 20:48:49 collections:293] # 330 files loaded accounting to # 1 labels\n"
     ]
    },
    {
     "name": "stderr",
     "output_type": "stream",
     "text": [
      "100%|██████████| 6/6 [00:01<00:00,  4.78it/s]\n",
      "100%|██████████| 1/1 [00:08<00:00,  8.66s/it]"
     ]
    },
    {
     "name": "stdout",
     "output_type": "stream",
     "text": [
      "[NeMo I 2022-07-25 20:48:59 speaker_utils:460] Cumulative Results for collar 0.25 sec and ignore_overlap True: \n",
      "     FA: 0.0101\t MISS 0.2259\t                 Diarization ER: 0.3852\t, Confusion ER:0.1492\n",
      "[NeMo I 2022-07-25 20:48:59 clustering_diarizer:444] Outputs are saved in /home/DATA/amit_kesari/SD1/NeMo-ASR_Diar/data/voxconverse directory\n"
     ]
    },
    {
     "name": "stderr",
     "output_type": "stream",
     "text": [
      "\n"
     ]
    },
    {
     "name": "stdout",
     "output_type": "stream",
     "text": [
      "\n",
      "\n",
      "Diar score:  (<pyannote.metrics.diarization.DiarizationErrorRate object at 0x7fa069310430>, {'dzsef': {'speaker_0': 'spk00', 'speaker_1': 'spk01', 'speaker_2': 'spk02'}})\n",
      "Diarization error rate (DER) = 39.2%\n",
      "\n",
      "\n",
      "voxconverse_label:  dzxut\n",
      "num_speakers:  8\n",
      "[NeMo I 2022-07-25 20:48:59 speaker_utils:82] Number of files to diarize: 1\n",
      "[NeMo I 2022-07-25 20:48:59 cloud:56] Found existing object /root/.cache/torch/NeMo/NeMo_1.10.0/QuartzNet15x5Base-En/2b066be39e9294d7100fb176ec817722/QuartzNet15x5Base-En.nemo.\n",
      "[NeMo I 2022-07-25 20:48:59 cloud:62] Re-using file from: /root/.cache/torch/NeMo/NeMo_1.10.0/QuartzNet15x5Base-En/2b066be39e9294d7100fb176ec817722/QuartzNet15x5Base-En.nemo\n",
      "[NeMo I 2022-07-25 20:48:59 common:789] Instantiating model from pre-trained checkpoint\n",
      "[NeMo I 2022-07-25 20:49:00 features:200] PADDING: 16\n",
      "[NeMo I 2022-07-25 20:49:01 save_restore_connector:243] Model EncDecCTCModel was successfully restored from /root/.cache/torch/NeMo/NeMo_1.10.0/QuartzNet15x5Base-En/2b066be39e9294d7100fb176ec817722/QuartzNet15x5Base-En.nemo.\n"
     ]
    },
    {
     "data": {
      "application/vnd.jupyter.widget-view+json": {
       "model_id": "60451be7625b4c02ab988cc82357bf49",
       "version_major": 2,
       "version_minor": 0
      },
      "text/plain": [
       "Transcribing:   0%|          | 0/1 [00:00<?, ?it/s]"
      ]
     },
     "metadata": {},
     "output_type": "display_data"
    },
    {
     "name": "stdout",
     "output_type": "stream",
     "text": [
      "[NeMo I 2022-07-25 20:49:02 speaker_utils:82] Number of files to diarize: 1\n",
      "[NeMo I 2022-07-25 20:49:02 clustering_diarizer:153] Loading pretrained titanet_large model from NGC\n",
      "[NeMo I 2022-07-25 20:49:02 cloud:56] Found existing object /root/.cache/torch/NeMo/NeMo_1.10.0/titanet-l/492c0ab8416139171dc18c21879a9e45/titanet-l.nemo.\n",
      "[NeMo I 2022-07-25 20:49:02 cloud:62] Re-using file from: /root/.cache/torch/NeMo/NeMo_1.10.0/titanet-l/492c0ab8416139171dc18c21879a9e45/titanet-l.nemo\n",
      "[NeMo I 2022-07-25 20:49:02 common:789] Instantiating model from pre-trained checkpoint\n"
     ]
    },
    {
     "name": "stderr",
     "output_type": "stream",
     "text": [
      "[NeMo W 2022-07-25 20:49:03 modelPT:148] If you intend to do training or fine-tuning, please call the ModelPT.setup_training_data() method and provide a valid configuration file to setup the train data loader.\n",
      "    Train config : \n",
      "    manifest_filepath: /manifests/combined_fisher_swbd_voxceleb12_librispeech/train.json\n",
      "    sample_rate: 16000\n",
      "    labels: null\n",
      "    batch_size: 64\n",
      "    shuffle: true\n",
      "    time_length: 3\n",
      "    is_tarred: false\n",
      "    tarred_audio_filepaths: null\n",
      "    tarred_shard_strategy: scatter\n",
      "    augmentor:\n",
      "      noise:\n",
      "        manifest_path: /manifests/noise/rir_noise_manifest.json\n",
      "        prob: 0.5\n",
      "        min_snr_db: 0\n",
      "        max_snr_db: 15\n",
      "      speed:\n",
      "        prob: 0.5\n",
      "        sr: 16000\n",
      "        resample_type: kaiser_fast\n",
      "        min_speed_rate: 0.95\n",
      "        max_speed_rate: 1.05\n",
      "    num_workers: 15\n",
      "    pin_memory: true\n",
      "    \n",
      "[NeMo W 2022-07-25 20:49:03 modelPT:155] If you intend to do validation, please call the ModelPT.setup_validation_data() or ModelPT.setup_multiple_validation_data() method and provide a valid configuration file to setup the validation data loader(s). \n",
      "    Validation config : \n",
      "    manifest_filepath: /manifests/combined_fisher_swbd_voxceleb12_librispeech/dev.json\n",
      "    sample_rate: 16000\n",
      "    labels: null\n",
      "    batch_size: 128\n",
      "    shuffle: false\n",
      "    time_length: 3\n",
      "    num_workers: 15\n",
      "    pin_memory: true\n",
      "    \n"
     ]
    },
    {
     "name": "stdout",
     "output_type": "stream",
     "text": [
      "[NeMo I 2022-07-25 20:49:03 features:200] PADDING: 16\n",
      "[NeMo I 2022-07-25 20:49:04 label_models:100] loss is Angular Softmax\n",
      "[NeMo I 2022-07-25 20:49:04 save_restore_connector:243] Model EncDecSpeakerLabelModel was successfully restored from /root/.cache/torch/NeMo/NeMo_1.10.0/titanet-l/492c0ab8416139171dc18c21879a9e45/titanet-l.nemo.\n",
      "[NeMo I 2022-07-25 20:49:04 speaker_utils:82] Number of files to diarize: 1\n",
      "[NeMo I 2022-07-25 20:49:04 clustering_diarizer:271] Subsegmentation for embedding extraction: scale0, /home/DATA/amit_kesari/SD1/NeMo-ASR_Diar/data/voxconverse/speaker_outputs/subsegments_scale0.json\n",
      "[NeMo I 2022-07-25 20:49:04 clustering_diarizer:325] Extracting embeddings for Diarization\n",
      "[NeMo I 2022-07-25 20:49:04 collections:289] Filtered duration for loading collection is 0.000000.\n",
      "[NeMo I 2022-07-25 20:49:04 collections:293] # 315 files loaded accounting to # 1 labels\n"
     ]
    },
    {
     "name": "stderr",
     "output_type": "stream",
     "text": [
      "100%|██████████| 5/5 [00:01<00:00,  4.25it/s]\n",
      "100%|██████████| 1/1 [00:07<00:00,  7.93s/it]"
     ]
    },
    {
     "name": "stdout",
     "output_type": "stream",
     "text": [
      "[NeMo I 2022-07-25 20:49:13 speaker_utils:460] Cumulative Results for collar 0.25 sec and ignore_overlap True: \n",
      "     FA: 0.1002\t MISS 0.3333\t                 Diarization ER: 0.6266\t, Confusion ER:0.1932\n",
      "[NeMo I 2022-07-25 20:49:13 clustering_diarizer:444] Outputs are saved in /home/DATA/amit_kesari/SD1/NeMo-ASR_Diar/data/voxconverse directory\n"
     ]
    },
    {
     "name": "stderr",
     "output_type": "stream",
     "text": [
      "\n"
     ]
    },
    {
     "name": "stdout",
     "output_type": "stream",
     "text": [
      "\n",
      "\n",
      "Diar score:  (<pyannote.metrics.diarization.DiarizationErrorRate object at 0x7fa05001c610>, {'dzxut': {'speaker_0': 'spk00', 'speaker_1': 'spk03', 'speaker_3': 'spk05', 'speaker_5': 'spk02', 'speaker_6': 'spk07'}})\n",
      "Diarization error rate (DER) = 67.6%\n",
      "\n",
      "\n",
      "voxconverse_label:  eauve\n",
      "num_speakers:  7\n",
      "[NeMo I 2022-07-25 20:49:14 speaker_utils:82] Number of files to diarize: 1\n",
      "[NeMo I 2022-07-25 20:49:14 cloud:56] Found existing object /root/.cache/torch/NeMo/NeMo_1.10.0/QuartzNet15x5Base-En/2b066be39e9294d7100fb176ec817722/QuartzNet15x5Base-En.nemo.\n",
      "[NeMo I 2022-07-25 20:49:14 cloud:62] Re-using file from: /root/.cache/torch/NeMo/NeMo_1.10.0/QuartzNet15x5Base-En/2b066be39e9294d7100fb176ec817722/QuartzNet15x5Base-En.nemo\n",
      "[NeMo I 2022-07-25 20:49:14 common:789] Instantiating model from pre-trained checkpoint\n",
      "[NeMo I 2022-07-25 20:49:14 features:200] PADDING: 16\n",
      "[NeMo I 2022-07-25 20:49:16 save_restore_connector:243] Model EncDecCTCModel was successfully restored from /root/.cache/torch/NeMo/NeMo_1.10.0/QuartzNet15x5Base-En/2b066be39e9294d7100fb176ec817722/QuartzNet15x5Base-En.nemo.\n"
     ]
    },
    {
     "data": {
      "application/vnd.jupyter.widget-view+json": {
       "model_id": "cc4ab0a2178f4cd0b7e4af7544ed3f9c",
       "version_major": 2,
       "version_minor": 0
      },
      "text/plain": [
       "Transcribing:   0%|          | 0/1 [00:00<?, ?it/s]"
      ]
     },
     "metadata": {},
     "output_type": "display_data"
    },
    {
     "name": "stdout",
     "output_type": "stream",
     "text": [
      "[NeMo I 2022-07-25 20:49:17 speaker_utils:82] Number of files to diarize: 1\n",
      "[NeMo I 2022-07-25 20:49:17 clustering_diarizer:153] Loading pretrained titanet_large model from NGC\n",
      "[NeMo I 2022-07-25 20:49:17 cloud:56] Found existing object /root/.cache/torch/NeMo/NeMo_1.10.0/titanet-l/492c0ab8416139171dc18c21879a9e45/titanet-l.nemo.\n",
      "[NeMo I 2022-07-25 20:49:17 cloud:62] Re-using file from: /root/.cache/torch/NeMo/NeMo_1.10.0/titanet-l/492c0ab8416139171dc18c21879a9e45/titanet-l.nemo\n",
      "[NeMo I 2022-07-25 20:49:17 common:789] Instantiating model from pre-trained checkpoint\n"
     ]
    },
    {
     "name": "stderr",
     "output_type": "stream",
     "text": [
      "[NeMo W 2022-07-25 20:49:18 modelPT:148] If you intend to do training or fine-tuning, please call the ModelPT.setup_training_data() method and provide a valid configuration file to setup the train data loader.\n",
      "    Train config : \n",
      "    manifest_filepath: /manifests/combined_fisher_swbd_voxceleb12_librispeech/train.json\n",
      "    sample_rate: 16000\n",
      "    labels: null\n",
      "    batch_size: 64\n",
      "    shuffle: true\n",
      "    time_length: 3\n",
      "    is_tarred: false\n",
      "    tarred_audio_filepaths: null\n",
      "    tarred_shard_strategy: scatter\n",
      "    augmentor:\n",
      "      noise:\n",
      "        manifest_path: /manifests/noise/rir_noise_manifest.json\n",
      "        prob: 0.5\n",
      "        min_snr_db: 0\n",
      "        max_snr_db: 15\n",
      "      speed:\n",
      "        prob: 0.5\n",
      "        sr: 16000\n",
      "        resample_type: kaiser_fast\n",
      "        min_speed_rate: 0.95\n",
      "        max_speed_rate: 1.05\n",
      "    num_workers: 15\n",
      "    pin_memory: true\n",
      "    \n",
      "[NeMo W 2022-07-25 20:49:18 modelPT:155] If you intend to do validation, please call the ModelPT.setup_validation_data() or ModelPT.setup_multiple_validation_data() method and provide a valid configuration file to setup the validation data loader(s). \n",
      "    Validation config : \n",
      "    manifest_filepath: /manifests/combined_fisher_swbd_voxceleb12_librispeech/dev.json\n",
      "    sample_rate: 16000\n",
      "    labels: null\n",
      "    batch_size: 128\n",
      "    shuffle: false\n",
      "    time_length: 3\n",
      "    num_workers: 15\n",
      "    pin_memory: true\n",
      "    \n"
     ]
    },
    {
     "name": "stdout",
     "output_type": "stream",
     "text": [
      "[NeMo I 2022-07-25 20:49:18 features:200] PADDING: 16\n",
      "[NeMo I 2022-07-25 20:49:18 label_models:100] loss is Angular Softmax\n",
      "[NeMo I 2022-07-25 20:49:19 save_restore_connector:243] Model EncDecSpeakerLabelModel was successfully restored from /root/.cache/torch/NeMo/NeMo_1.10.0/titanet-l/492c0ab8416139171dc18c21879a9e45/titanet-l.nemo.\n",
      "[NeMo I 2022-07-25 20:49:19 speaker_utils:82] Number of files to diarize: 1\n",
      "[NeMo I 2022-07-25 20:49:19 clustering_diarizer:271] Subsegmentation for embedding extraction: scale0, /home/DATA/amit_kesari/SD1/NeMo-ASR_Diar/data/voxconverse/speaker_outputs/subsegments_scale0.json\n",
      "[NeMo I 2022-07-25 20:49:19 clustering_diarizer:325] Extracting embeddings for Diarization\n",
      "[NeMo I 2022-07-25 20:49:19 collections:289] Filtered duration for loading collection is 0.000000.\n",
      "[NeMo I 2022-07-25 20:49:19 collections:293] # 1331 files loaded accounting to # 1 labels\n"
     ]
    },
    {
     "name": "stderr",
     "output_type": "stream",
     "text": [
      "100%|██████████| 21/21 [00:03<00:00,  5.31it/s]\n",
      "100%|██████████| 1/1 [00:10<00:00, 10.37s/it]\n"
     ]
    },
    {
     "name": "stdout",
     "output_type": "stream",
     "text": [
      "[NeMo I 2022-07-25 20:49:34 speaker_utils:460] Cumulative Results for collar 0.25 sec and ignore_overlap True: \n",
      "     FA: 0.0110\t MISS 0.0708\t                 Diarization ER: 0.4410\t, Confusion ER:0.3592\n",
      "[NeMo I 2022-07-25 20:49:34 clustering_diarizer:444] Outputs are saved in /home/DATA/amit_kesari/SD1/NeMo-ASR_Diar/data/voxconverse directory\n",
      "\n",
      "\n",
      "Diar score:  (<pyannote.metrics.diarization.DiarizationErrorRate object at 0x7fa05048a070>, {'eauve': {'speaker_0': 'spk04', 'speaker_1': 'spk01', 'speaker_2': 'spk00', 'speaker_3': 'spk02', 'speaker_5': 'spk06', 'speaker_6': 'spk05'}})\n",
      "Diarization error rate (DER) = 51.1%\n",
      "\n",
      "\n",
      "voxconverse_label:  eazeq\n",
      "num_speakers:  2\n",
      "[NeMo I 2022-07-25 20:49:36 speaker_utils:82] Number of files to diarize: 1\n",
      "[NeMo I 2022-07-25 20:49:36 cloud:56] Found existing object /root/.cache/torch/NeMo/NeMo_1.10.0/QuartzNet15x5Base-En/2b066be39e9294d7100fb176ec817722/QuartzNet15x5Base-En.nemo.\n",
      "[NeMo I 2022-07-25 20:49:36 cloud:62] Re-using file from: /root/.cache/torch/NeMo/NeMo_1.10.0/QuartzNet15x5Base-En/2b066be39e9294d7100fb176ec817722/QuartzNet15x5Base-En.nemo\n",
      "[NeMo I 2022-07-25 20:49:36 common:789] Instantiating model from pre-trained checkpoint\n",
      "[NeMo I 2022-07-25 20:49:37 features:200] PADDING: 16\n",
      "[NeMo I 2022-07-25 20:49:38 save_restore_connector:243] Model EncDecCTCModel was successfully restored from /root/.cache/torch/NeMo/NeMo_1.10.0/QuartzNet15x5Base-En/2b066be39e9294d7100fb176ec817722/QuartzNet15x5Base-En.nemo.\n"
     ]
    },
    {
     "data": {
      "application/vnd.jupyter.widget-view+json": {
       "model_id": "136f0ea1b2a04277b89934fc8362946d",
       "version_major": 2,
       "version_minor": 0
      },
      "text/plain": [
       "Transcribing:   0%|          | 0/1 [00:00<?, ?it/s]"
      ]
     },
     "metadata": {},
     "output_type": "display_data"
    },
    {
     "name": "stdout",
     "output_type": "stream",
     "text": [
      "[NeMo I 2022-07-25 20:49:38 speaker_utils:82] Number of files to diarize: 1\n",
      "[NeMo I 2022-07-25 20:49:38 clustering_diarizer:153] Loading pretrained titanet_large model from NGC\n",
      "[NeMo I 2022-07-25 20:49:38 cloud:56] Found existing object /root/.cache/torch/NeMo/NeMo_1.10.0/titanet-l/492c0ab8416139171dc18c21879a9e45/titanet-l.nemo.\n",
      "[NeMo I 2022-07-25 20:49:38 cloud:62] Re-using file from: /root/.cache/torch/NeMo/NeMo_1.10.0/titanet-l/492c0ab8416139171dc18c21879a9e45/titanet-l.nemo\n",
      "[NeMo I 2022-07-25 20:49:38 common:789] Instantiating model from pre-trained checkpoint\n"
     ]
    },
    {
     "name": "stderr",
     "output_type": "stream",
     "text": [
      "[NeMo W 2022-07-25 20:49:39 modelPT:148] If you intend to do training or fine-tuning, please call the ModelPT.setup_training_data() method and provide a valid configuration file to setup the train data loader.\n",
      "    Train config : \n",
      "    manifest_filepath: /manifests/combined_fisher_swbd_voxceleb12_librispeech/train.json\n",
      "    sample_rate: 16000\n",
      "    labels: null\n",
      "    batch_size: 64\n",
      "    shuffle: true\n",
      "    time_length: 3\n",
      "    is_tarred: false\n",
      "    tarred_audio_filepaths: null\n",
      "    tarred_shard_strategy: scatter\n",
      "    augmentor:\n",
      "      noise:\n",
      "        manifest_path: /manifests/noise/rir_noise_manifest.json\n",
      "        prob: 0.5\n",
      "        min_snr_db: 0\n",
      "        max_snr_db: 15\n",
      "      speed:\n",
      "        prob: 0.5\n",
      "        sr: 16000\n",
      "        resample_type: kaiser_fast\n",
      "        min_speed_rate: 0.95\n",
      "        max_speed_rate: 1.05\n",
      "    num_workers: 15\n",
      "    pin_memory: true\n",
      "    \n",
      "[NeMo W 2022-07-25 20:49:39 modelPT:155] If you intend to do validation, please call the ModelPT.setup_validation_data() or ModelPT.setup_multiple_validation_data() method and provide a valid configuration file to setup the validation data loader(s). \n",
      "    Validation config : \n",
      "    manifest_filepath: /manifests/combined_fisher_swbd_voxceleb12_librispeech/dev.json\n",
      "    sample_rate: 16000\n",
      "    labels: null\n",
      "    batch_size: 128\n",
      "    shuffle: false\n",
      "    time_length: 3\n",
      "    num_workers: 15\n",
      "    pin_memory: true\n",
      "    \n"
     ]
    },
    {
     "name": "stdout",
     "output_type": "stream",
     "text": [
      "[NeMo I 2022-07-25 20:49:39 features:200] PADDING: 16\n",
      "[NeMo I 2022-07-25 20:49:40 label_models:100] loss is Angular Softmax\n",
      "[NeMo I 2022-07-25 20:49:40 save_restore_connector:243] Model EncDecSpeakerLabelModel was successfully restored from /root/.cache/torch/NeMo/NeMo_1.10.0/titanet-l/492c0ab8416139171dc18c21879a9e45/titanet-l.nemo.\n",
      "[NeMo I 2022-07-25 20:49:40 speaker_utils:82] Number of files to diarize: 1\n",
      "[NeMo I 2022-07-25 20:49:40 clustering_diarizer:271] Subsegmentation for embedding extraction: scale0, /home/DATA/amit_kesari/SD1/NeMo-ASR_Diar/data/voxconverse/speaker_outputs/subsegments_scale0.json\n",
      "[NeMo I 2022-07-25 20:49:40 clustering_diarizer:325] Extracting embeddings for Diarization\n",
      "[NeMo I 2022-07-25 20:49:40 collections:289] Filtered duration for loading collection is 0.000000.\n",
      "[NeMo I 2022-07-25 20:49:40 collections:293] # 169 files loaded accounting to # 1 labels\n"
     ]
    },
    {
     "name": "stderr",
     "output_type": "stream",
     "text": [
      "100%|██████████| 3/3 [00:00<00:00,  3.56it/s]\n",
      "100%|██████████| 1/1 [00:04<00:00,  4.67s/it]"
     ]
    },
    {
     "name": "stdout",
     "output_type": "stream",
     "text": [
      "[NeMo I 2022-07-25 20:49:46 speaker_utils:460] Cumulative Results for collar 0.25 sec and ignore_overlap True: \n",
      "     FA: 0.0221\t MISS 0.2516\t                 Diarization ER: 0.3036\t, Confusion ER:0.0299\n",
      "[NeMo I 2022-07-25 20:49:46 clustering_diarizer:444] Outputs are saved in /home/DATA/amit_kesari/SD1/NeMo-ASR_Diar/data/voxconverse directory\n",
      "\n",
      "\n",
      "Diar score:  (<pyannote.metrics.diarization.DiarizationErrorRate object at 0x7fa05047b880>, {'eazeq': {'speaker_0': 'spk00', 'speaker_1': 'spk01'}})\n",
      "Diarization error rate (DER) = 37.1%\n",
      "\n",
      "\n",
      "voxconverse_label:  eddje\n",
      "num_speakers:  4\n",
      "[NeMo I 2022-07-25 20:49:46 speaker_utils:82] Number of files to diarize: 1\n",
      "[NeMo I 2022-07-25 20:49:46 cloud:56] Found existing object /root/.cache/torch/NeMo/NeMo_1.10.0/QuartzNet15x5Base-En/2b066be39e9294d7100fb176ec817722/QuartzNet15x5Base-En.nemo.\n",
      "[NeMo I 2022-07-25 20:49:46 cloud:62] Re-using file from: /root/.cache/torch/NeMo/NeMo_1.10.0/QuartzNet15x5Base-En/2b066be39e9294d7100fb176ec817722/QuartzNet15x5Base-En.nemo\n",
      "[NeMo I 2022-07-25 20:49:46 common:789] Instantiating model from pre-trained checkpoint\n"
     ]
    },
    {
     "name": "stderr",
     "output_type": "stream",
     "text": [
      "\n"
     ]
    },
    {
     "name": "stdout",
     "output_type": "stream",
     "text": [
      "[NeMo I 2022-07-25 20:49:47 features:200] PADDING: 16\n",
      "[NeMo I 2022-07-25 20:49:48 save_restore_connector:243] Model EncDecCTCModel was successfully restored from /root/.cache/torch/NeMo/NeMo_1.10.0/QuartzNet15x5Base-En/2b066be39e9294d7100fb176ec817722/QuartzNet15x5Base-En.nemo.\n"
     ]
    },
    {
     "data": {
      "application/vnd.jupyter.widget-view+json": {
       "model_id": "dad4590e6861457b94714eb72dc244d7",
       "version_major": 2,
       "version_minor": 0
      },
      "text/plain": [
       "Transcribing:   0%|          | 0/1 [00:00<?, ?it/s]"
      ]
     },
     "metadata": {},
     "output_type": "display_data"
    },
    {
     "name": "stdout",
     "output_type": "stream",
     "text": [
      "[NeMo I 2022-07-25 20:49:49 speaker_utils:82] Number of files to diarize: 1\n",
      "[NeMo I 2022-07-25 20:49:49 clustering_diarizer:153] Loading pretrained titanet_large model from NGC\n",
      "[NeMo I 2022-07-25 20:49:49 cloud:56] Found existing object /root/.cache/torch/NeMo/NeMo_1.10.0/titanet-l/492c0ab8416139171dc18c21879a9e45/titanet-l.nemo.\n",
      "[NeMo I 2022-07-25 20:49:49 cloud:62] Re-using file from: /root/.cache/torch/NeMo/NeMo_1.10.0/titanet-l/492c0ab8416139171dc18c21879a9e45/titanet-l.nemo\n",
      "[NeMo I 2022-07-25 20:49:49 common:789] Instantiating model from pre-trained checkpoint\n"
     ]
    },
    {
     "name": "stderr",
     "output_type": "stream",
     "text": [
      "[NeMo W 2022-07-25 20:49:50 modelPT:148] If you intend to do training or fine-tuning, please call the ModelPT.setup_training_data() method and provide a valid configuration file to setup the train data loader.\n",
      "    Train config : \n",
      "    manifest_filepath: /manifests/combined_fisher_swbd_voxceleb12_librispeech/train.json\n",
      "    sample_rate: 16000\n",
      "    labels: null\n",
      "    batch_size: 64\n",
      "    shuffle: true\n",
      "    time_length: 3\n",
      "    is_tarred: false\n",
      "    tarred_audio_filepaths: null\n",
      "    tarred_shard_strategy: scatter\n",
      "    augmentor:\n",
      "      noise:\n",
      "        manifest_path: /manifests/noise/rir_noise_manifest.json\n",
      "        prob: 0.5\n",
      "        min_snr_db: 0\n",
      "        max_snr_db: 15\n",
      "      speed:\n",
      "        prob: 0.5\n",
      "        sr: 16000\n",
      "        resample_type: kaiser_fast\n",
      "        min_speed_rate: 0.95\n",
      "        max_speed_rate: 1.05\n",
      "    num_workers: 15\n",
      "    pin_memory: true\n",
      "    \n",
      "[NeMo W 2022-07-25 20:49:50 modelPT:155] If you intend to do validation, please call the ModelPT.setup_validation_data() or ModelPT.setup_multiple_validation_data() method and provide a valid configuration file to setup the validation data loader(s). \n",
      "    Validation config : \n",
      "    manifest_filepath: /manifests/combined_fisher_swbd_voxceleb12_librispeech/dev.json\n",
      "    sample_rate: 16000\n",
      "    labels: null\n",
      "    batch_size: 128\n",
      "    shuffle: false\n",
      "    time_length: 3\n",
      "    num_workers: 15\n",
      "    pin_memory: true\n",
      "    \n"
     ]
    },
    {
     "name": "stdout",
     "output_type": "stream",
     "text": [
      "[NeMo I 2022-07-25 20:49:50 features:200] PADDING: 16\n",
      "[NeMo I 2022-07-25 20:49:50 label_models:100] loss is Angular Softmax\n",
      "[NeMo I 2022-07-25 20:49:51 save_restore_connector:243] Model EncDecSpeakerLabelModel was successfully restored from /root/.cache/torch/NeMo/NeMo_1.10.0/titanet-l/492c0ab8416139171dc18c21879a9e45/titanet-l.nemo.\n",
      "[NeMo I 2022-07-25 20:49:51 speaker_utils:82] Number of files to diarize: 1\n",
      "[NeMo I 2022-07-25 20:49:51 clustering_diarizer:271] Subsegmentation for embedding extraction: scale0, /home/DATA/amit_kesari/SD1/NeMo-ASR_Diar/data/voxconverse/speaker_outputs/subsegments_scale0.json\n",
      "[NeMo I 2022-07-25 20:49:51 clustering_diarizer:325] Extracting embeddings for Diarization\n",
      "[NeMo I 2022-07-25 20:49:51 collections:289] Filtered duration for loading collection is 0.000000.\n",
      "[NeMo I 2022-07-25 20:49:51 collections:293] # 722 files loaded accounting to # 1 labels\n"
     ]
    },
    {
     "name": "stderr",
     "output_type": "stream",
     "text": [
      "100%|██████████| 12/12 [00:02<00:00,  5.12it/s]\n",
      "100%|██████████| 1/1 [00:09<00:00,  9.72s/it]\n"
     ]
    },
    {
     "name": "stdout",
     "output_type": "stream",
     "text": [
      "[NeMo I 2022-07-25 20:50:03 speaker_utils:460] Cumulative Results for collar 0.25 sec and ignore_overlap True: \n",
      "     FA: 0.0359\t MISS 0.2253\t                 Diarization ER: 0.3072\t, Confusion ER:0.0460\n",
      "[NeMo I 2022-07-25 20:50:03 clustering_diarizer:444] Outputs are saved in /home/DATA/amit_kesari/SD1/NeMo-ASR_Diar/data/voxconverse directory\n",
      "\n",
      "\n",
      "Diar score:  (<pyannote.metrics.diarization.DiarizationErrorRate object at 0x7fa0491504f0>, {'eddje': {'speaker_0': 'spk00', 'speaker_1': 'spk03', 'speaker_2': 'spk01', 'speaker_3': 'spk02'}})\n",
      "Diarization error rate (DER) = 40.0%\n",
      "\n",
      "\n",
      "voxconverse_label:  eguui\n",
      "num_speakers:  3\n",
      "[NeMo I 2022-07-25 20:50:04 speaker_utils:82] Number of files to diarize: 1\n",
      "[NeMo I 2022-07-25 20:50:04 cloud:56] Found existing object /root/.cache/torch/NeMo/NeMo_1.10.0/QuartzNet15x5Base-En/2b066be39e9294d7100fb176ec817722/QuartzNet15x5Base-En.nemo.\n",
      "[NeMo I 2022-07-25 20:50:04 cloud:62] Re-using file from: /root/.cache/torch/NeMo/NeMo_1.10.0/QuartzNet15x5Base-En/2b066be39e9294d7100fb176ec817722/QuartzNet15x5Base-En.nemo\n",
      "[NeMo I 2022-07-25 20:50:04 common:789] Instantiating model from pre-trained checkpoint\n",
      "[NeMo I 2022-07-25 20:50:05 features:200] PADDING: 16\n",
      "[NeMo I 2022-07-25 20:50:06 save_restore_connector:243] Model EncDecCTCModel was successfully restored from /root/.cache/torch/NeMo/NeMo_1.10.0/QuartzNet15x5Base-En/2b066be39e9294d7100fb176ec817722/QuartzNet15x5Base-En.nemo.\n"
     ]
    },
    {
     "data": {
      "application/vnd.jupyter.widget-view+json": {
       "model_id": "76486c28c52b4d4a93924dacc6c1b814",
       "version_major": 2,
       "version_minor": 0
      },
      "text/plain": [
       "Transcribing:   0%|          | 0/1 [00:00<?, ?it/s]"
      ]
     },
     "metadata": {},
     "output_type": "display_data"
    },
    {
     "name": "stdout",
     "output_type": "stream",
     "text": [
      "[NeMo I 2022-07-25 20:50:06 speaker_utils:82] Number of files to diarize: 1\n",
      "[NeMo I 2022-07-25 20:50:06 clustering_diarizer:153] Loading pretrained titanet_large model from NGC\n",
      "[NeMo I 2022-07-25 20:50:06 cloud:56] Found existing object /root/.cache/torch/NeMo/NeMo_1.10.0/titanet-l/492c0ab8416139171dc18c21879a9e45/titanet-l.nemo.\n",
      "[NeMo I 2022-07-25 20:50:06 cloud:62] Re-using file from: /root/.cache/torch/NeMo/NeMo_1.10.0/titanet-l/492c0ab8416139171dc18c21879a9e45/titanet-l.nemo\n",
      "[NeMo I 2022-07-25 20:50:06 common:789] Instantiating model from pre-trained checkpoint\n"
     ]
    },
    {
     "name": "stderr",
     "output_type": "stream",
     "text": [
      "[NeMo W 2022-07-25 20:50:07 modelPT:148] If you intend to do training or fine-tuning, please call the ModelPT.setup_training_data() method and provide a valid configuration file to setup the train data loader.\n",
      "    Train config : \n",
      "    manifest_filepath: /manifests/combined_fisher_swbd_voxceleb12_librispeech/train.json\n",
      "    sample_rate: 16000\n",
      "    labels: null\n",
      "    batch_size: 64\n",
      "    shuffle: true\n",
      "    time_length: 3\n",
      "    is_tarred: false\n",
      "    tarred_audio_filepaths: null\n",
      "    tarred_shard_strategy: scatter\n",
      "    augmentor:\n",
      "      noise:\n",
      "        manifest_path: /manifests/noise/rir_noise_manifest.json\n",
      "        prob: 0.5\n",
      "        min_snr_db: 0\n",
      "        max_snr_db: 15\n",
      "      speed:\n",
      "        prob: 0.5\n",
      "        sr: 16000\n",
      "        resample_type: kaiser_fast\n",
      "        min_speed_rate: 0.95\n",
      "        max_speed_rate: 1.05\n",
      "    num_workers: 15\n",
      "    pin_memory: true\n",
      "    \n",
      "[NeMo W 2022-07-25 20:50:07 modelPT:155] If you intend to do validation, please call the ModelPT.setup_validation_data() or ModelPT.setup_multiple_validation_data() method and provide a valid configuration file to setup the validation data loader(s). \n",
      "    Validation config : \n",
      "    manifest_filepath: /manifests/combined_fisher_swbd_voxceleb12_librispeech/dev.json\n",
      "    sample_rate: 16000\n",
      "    labels: null\n",
      "    batch_size: 128\n",
      "    shuffle: false\n",
      "    time_length: 3\n",
      "    num_workers: 15\n",
      "    pin_memory: true\n",
      "    \n"
     ]
    },
    {
     "name": "stdout",
     "output_type": "stream",
     "text": [
      "[NeMo I 2022-07-25 20:50:07 features:200] PADDING: 16\n",
      "[NeMo I 2022-07-25 20:50:08 label_models:100] loss is Angular Softmax\n",
      "[NeMo I 2022-07-25 20:50:08 save_restore_connector:243] Model EncDecSpeakerLabelModel was successfully restored from /root/.cache/torch/NeMo/NeMo_1.10.0/titanet-l/492c0ab8416139171dc18c21879a9e45/titanet-l.nemo.\n",
      "[NeMo I 2022-07-25 20:50:08 speaker_utils:82] Number of files to diarize: 1\n",
      "[NeMo I 2022-07-25 20:50:08 clustering_diarizer:271] Subsegmentation for embedding extraction: scale0, /home/DATA/amit_kesari/SD1/NeMo-ASR_Diar/data/voxconverse/speaker_outputs/subsegments_scale0.json\n",
      "[NeMo I 2022-07-25 20:50:08 clustering_diarizer:325] Extracting embeddings for Diarization\n",
      "[NeMo I 2022-07-25 20:50:08 collections:289] Filtered duration for loading collection is 0.000000.\n",
      "[NeMo I 2022-07-25 20:50:08 collections:293] # 197 files loaded accounting to # 1 labels\n"
     ]
    },
    {
     "name": "stderr",
     "output_type": "stream",
     "text": [
      "100%|██████████| 4/4 [00:00<00:00,  4.74it/s]\n",
      "100%|██████████| 1/1 [00:05<00:00,  5.15s/it]"
     ]
    },
    {
     "name": "stdout",
     "output_type": "stream",
     "text": [
      "[NeMo I 2022-07-25 20:50:14 speaker_utils:460] Cumulative Results for collar 0.25 sec and ignore_overlap True: \n",
      "     FA: 0.1494\t MISS 0.2709\t                 Diarization ER: 0.5402\t, Confusion ER:0.1199\n",
      "[NeMo I 2022-07-25 20:50:14 clustering_diarizer:444] Outputs are saved in /home/DATA/amit_kesari/SD1/NeMo-ASR_Diar/data/voxconverse directory\n",
      "\n",
      "\n",
      "Diar score:  (<pyannote.metrics.diarization.DiarizationErrorRate object at 0x7fa050426b80>, {'eguui': {'speaker_0': 'spk00', 'speaker_1': 'spk01'}})\n",
      "Diarization error rate (DER) = 56.9%\n",
      "\n",
      "\n",
      "voxconverse_label:  eoyaz\n",
      "num_speakers:  8\n",
      "[NeMo I 2022-07-25 20:50:14 speaker_utils:82] Number of files to diarize: 1\n",
      "[NeMo I 2022-07-25 20:50:14 cloud:56] Found existing object /root/.cache/torch/NeMo/NeMo_1.10.0/QuartzNet15x5Base-En/2b066be39e9294d7100fb176ec817722/QuartzNet15x5Base-En.nemo.\n",
      "[NeMo I 2022-07-25 20:50:14 cloud:62] Re-using file from: /root/.cache/torch/NeMo/NeMo_1.10.0/QuartzNet15x5Base-En/2b066be39e9294d7100fb176ec817722/QuartzNet15x5Base-En.nemo\n",
      "[NeMo I 2022-07-25 20:50:14 common:789] Instantiating model from pre-trained checkpoint\n"
     ]
    },
    {
     "name": "stderr",
     "output_type": "stream",
     "text": [
      "\n"
     ]
    },
    {
     "name": "stdout",
     "output_type": "stream",
     "text": [
      "[NeMo I 2022-07-25 20:50:15 features:200] PADDING: 16\n",
      "[NeMo I 2022-07-25 20:50:16 save_restore_connector:243] Model EncDecCTCModel was successfully restored from /root/.cache/torch/NeMo/NeMo_1.10.0/QuartzNet15x5Base-En/2b066be39e9294d7100fb176ec817722/QuartzNet15x5Base-En.nemo.\n"
     ]
    },
    {
     "data": {
      "application/vnd.jupyter.widget-view+json": {
       "model_id": "bb43fb67d393433488c23ef047713470",
       "version_major": 2,
       "version_minor": 0
      },
      "text/plain": [
       "Transcribing:   0%|          | 0/1 [00:00<?, ?it/s]"
      ]
     },
     "metadata": {},
     "output_type": "display_data"
    },
    {
     "name": "stdout",
     "output_type": "stream",
     "text": [
      "[NeMo I 2022-07-25 20:50:18 speaker_utils:82] Number of files to diarize: 1\n",
      "[NeMo I 2022-07-25 20:50:18 clustering_diarizer:153] Loading pretrained titanet_large model from NGC\n",
      "[NeMo I 2022-07-25 20:50:18 cloud:56] Found existing object /root/.cache/torch/NeMo/NeMo_1.10.0/titanet-l/492c0ab8416139171dc18c21879a9e45/titanet-l.nemo.\n",
      "[NeMo I 2022-07-25 20:50:18 cloud:62] Re-using file from: /root/.cache/torch/NeMo/NeMo_1.10.0/titanet-l/492c0ab8416139171dc18c21879a9e45/titanet-l.nemo\n",
      "[NeMo I 2022-07-25 20:50:18 common:789] Instantiating model from pre-trained checkpoint\n"
     ]
    },
    {
     "name": "stderr",
     "output_type": "stream",
     "text": [
      "[NeMo W 2022-07-25 20:50:19 modelPT:148] If you intend to do training or fine-tuning, please call the ModelPT.setup_training_data() method and provide a valid configuration file to setup the train data loader.\n",
      "    Train config : \n",
      "    manifest_filepath: /manifests/combined_fisher_swbd_voxceleb12_librispeech/train.json\n",
      "    sample_rate: 16000\n",
      "    labels: null\n",
      "    batch_size: 64\n",
      "    shuffle: true\n",
      "    time_length: 3\n",
      "    is_tarred: false\n",
      "    tarred_audio_filepaths: null\n",
      "    tarred_shard_strategy: scatter\n",
      "    augmentor:\n",
      "      noise:\n",
      "        manifest_path: /manifests/noise/rir_noise_manifest.json\n",
      "        prob: 0.5\n",
      "        min_snr_db: 0\n",
      "        max_snr_db: 15\n",
      "      speed:\n",
      "        prob: 0.5\n",
      "        sr: 16000\n",
      "        resample_type: kaiser_fast\n",
      "        min_speed_rate: 0.95\n",
      "        max_speed_rate: 1.05\n",
      "    num_workers: 15\n",
      "    pin_memory: true\n",
      "    \n",
      "[NeMo W 2022-07-25 20:50:19 modelPT:155] If you intend to do validation, please call the ModelPT.setup_validation_data() or ModelPT.setup_multiple_validation_data() method and provide a valid configuration file to setup the validation data loader(s). \n",
      "    Validation config : \n",
      "    manifest_filepath: /manifests/combined_fisher_swbd_voxceleb12_librispeech/dev.json\n",
      "    sample_rate: 16000\n",
      "    labels: null\n",
      "    batch_size: 128\n",
      "    shuffle: false\n",
      "    time_length: 3\n",
      "    num_workers: 15\n",
      "    pin_memory: true\n",
      "    \n"
     ]
    },
    {
     "name": "stdout",
     "output_type": "stream",
     "text": [
      "[NeMo I 2022-07-25 20:50:19 features:200] PADDING: 16\n",
      "[NeMo I 2022-07-25 20:50:19 label_models:100] loss is Angular Softmax\n",
      "[NeMo I 2022-07-25 20:50:19 save_restore_connector:243] Model EncDecSpeakerLabelModel was successfully restored from /root/.cache/torch/NeMo/NeMo_1.10.0/titanet-l/492c0ab8416139171dc18c21879a9e45/titanet-l.nemo.\n",
      "[NeMo I 2022-07-25 20:50:19 speaker_utils:82] Number of files to diarize: 1\n",
      "[NeMo I 2022-07-25 20:50:19 clustering_diarizer:271] Subsegmentation for embedding extraction: scale0, /home/DATA/amit_kesari/SD1/NeMo-ASR_Diar/data/voxconverse/speaker_outputs/subsegments_scale0.json\n",
      "[NeMo I 2022-07-25 20:50:19 clustering_diarizer:325] Extracting embeddings for Diarization\n",
      "[NeMo I 2022-07-25 20:50:20 collections:289] Filtered duration for loading collection is 0.000000.\n",
      "[NeMo I 2022-07-25 20:50:20 collections:293] # 391 files loaded accounting to # 1 labels\n"
     ]
    },
    {
     "name": "stderr",
     "output_type": "stream",
     "text": [
      "100%|██████████| 7/7 [00:01<00:00,  5.21it/s]\n",
      "100%|██████████| 1/1 [00:09<00:00,  9.73s/it]"
     ]
    },
    {
     "name": "stdout",
     "output_type": "stream",
     "text": [
      "[NeMo I 2022-07-25 20:50:31 speaker_utils:460] Cumulative Results for collar 0.25 sec and ignore_overlap True: \n",
      "     FA: 0.0128\t MISS 0.2211\t                 Diarization ER: 0.3413\t, Confusion ER:0.1075\n",
      "[NeMo I 2022-07-25 20:50:31 clustering_diarizer:444] Outputs are saved in /home/DATA/amit_kesari/SD1/NeMo-ASR_Diar/data/voxconverse directory\n"
     ]
    },
    {
     "name": "stderr",
     "output_type": "stream",
     "text": [
      "\n"
     ]
    },
    {
     "name": "stdout",
     "output_type": "stream",
     "text": [
      "\n",
      "\n",
      "Diar score:  (<pyannote.metrics.diarization.DiarizationErrorRate object at 0x7fa048eb3b80>, {'eoyaz': {'speaker_0': 'spk07', 'speaker_1': 'spk03', 'speaker_2': 'spk02', 'speaker_3': 'spk04', 'speaker_5': 'spk01', 'speaker_6': 'spk00', 'speaker_7': 'spk05'}})\n",
      "Diarization error rate (DER) = 37.8%\n",
      "\n",
      "\n",
      "voxconverse_label:  epygx\n",
      "num_speakers:  8\n",
      "[NeMo I 2022-07-25 20:50:31 speaker_utils:82] Number of files to diarize: 1\n",
      "[NeMo I 2022-07-25 20:50:31 cloud:56] Found existing object /root/.cache/torch/NeMo/NeMo_1.10.0/QuartzNet15x5Base-En/2b066be39e9294d7100fb176ec817722/QuartzNet15x5Base-En.nemo.\n",
      "[NeMo I 2022-07-25 20:50:31 cloud:62] Re-using file from: /root/.cache/torch/NeMo/NeMo_1.10.0/QuartzNet15x5Base-En/2b066be39e9294d7100fb176ec817722/QuartzNet15x5Base-En.nemo\n",
      "[NeMo I 2022-07-25 20:50:31 common:789] Instantiating model from pre-trained checkpoint\n",
      "[NeMo I 2022-07-25 20:50:32 features:200] PADDING: 16\n",
      "[NeMo I 2022-07-25 20:50:34 save_restore_connector:243] Model EncDecCTCModel was successfully restored from /root/.cache/torch/NeMo/NeMo_1.10.0/QuartzNet15x5Base-En/2b066be39e9294d7100fb176ec817722/QuartzNet15x5Base-En.nemo.\n"
     ]
    },
    {
     "data": {
      "application/vnd.jupyter.widget-view+json": {
       "model_id": "66b476d707ab4e62a69bb748d20d08cc",
       "version_major": 2,
       "version_minor": 0
      },
      "text/plain": [
       "Transcribing:   0%|          | 0/1 [00:00<?, ?it/s]"
      ]
     },
     "metadata": {},
     "output_type": "display_data"
    },
    {
     "name": "stdout",
     "output_type": "stream",
     "text": [
      "[NeMo I 2022-07-25 20:50:36 speaker_utils:82] Number of files to diarize: 1\n",
      "[NeMo I 2022-07-25 20:50:36 clustering_diarizer:153] Loading pretrained titanet_large model from NGC\n",
      "[NeMo I 2022-07-25 20:50:36 cloud:56] Found existing object /root/.cache/torch/NeMo/NeMo_1.10.0/titanet-l/492c0ab8416139171dc18c21879a9e45/titanet-l.nemo.\n",
      "[NeMo I 2022-07-25 20:50:36 cloud:62] Re-using file from: /root/.cache/torch/NeMo/NeMo_1.10.0/titanet-l/492c0ab8416139171dc18c21879a9e45/titanet-l.nemo\n",
      "[NeMo I 2022-07-25 20:50:36 common:789] Instantiating model from pre-trained checkpoint\n"
     ]
    },
    {
     "name": "stderr",
     "output_type": "stream",
     "text": [
      "[NeMo W 2022-07-25 20:50:37 modelPT:148] If you intend to do training or fine-tuning, please call the ModelPT.setup_training_data() method and provide a valid configuration file to setup the train data loader.\n",
      "    Train config : \n",
      "    manifest_filepath: /manifests/combined_fisher_swbd_voxceleb12_librispeech/train.json\n",
      "    sample_rate: 16000\n",
      "    labels: null\n",
      "    batch_size: 64\n",
      "    shuffle: true\n",
      "    time_length: 3\n",
      "    is_tarred: false\n",
      "    tarred_audio_filepaths: null\n",
      "    tarred_shard_strategy: scatter\n",
      "    augmentor:\n",
      "      noise:\n",
      "        manifest_path: /manifests/noise/rir_noise_manifest.json\n",
      "        prob: 0.5\n",
      "        min_snr_db: 0\n",
      "        max_snr_db: 15\n",
      "      speed:\n",
      "        prob: 0.5\n",
      "        sr: 16000\n",
      "        resample_type: kaiser_fast\n",
      "        min_speed_rate: 0.95\n",
      "        max_speed_rate: 1.05\n",
      "    num_workers: 15\n",
      "    pin_memory: true\n",
      "    \n",
      "[NeMo W 2022-07-25 20:50:37 modelPT:155] If you intend to do validation, please call the ModelPT.setup_validation_data() or ModelPT.setup_multiple_validation_data() method and provide a valid configuration file to setup the validation data loader(s). \n",
      "    Validation config : \n",
      "    manifest_filepath: /manifests/combined_fisher_swbd_voxceleb12_librispeech/dev.json\n",
      "    sample_rate: 16000\n",
      "    labels: null\n",
      "    batch_size: 128\n",
      "    shuffle: false\n",
      "    time_length: 3\n",
      "    num_workers: 15\n",
      "    pin_memory: true\n",
      "    \n"
     ]
    },
    {
     "name": "stdout",
     "output_type": "stream",
     "text": [
      "[NeMo I 2022-07-25 20:50:37 features:200] PADDING: 16\n",
      "[NeMo I 2022-07-25 20:50:37 label_models:100] loss is Angular Softmax\n",
      "[NeMo I 2022-07-25 20:50:37 save_restore_connector:243] Model EncDecSpeakerLabelModel was successfully restored from /root/.cache/torch/NeMo/NeMo_1.10.0/titanet-l/492c0ab8416139171dc18c21879a9e45/titanet-l.nemo.\n",
      "[NeMo I 2022-07-25 20:50:38 speaker_utils:82] Number of files to diarize: 1\n",
      "[NeMo I 2022-07-25 20:50:38 clustering_diarizer:271] Subsegmentation for embedding extraction: scale0, /home/DATA/amit_kesari/SD1/NeMo-ASR_Diar/data/voxconverse/speaker_outputs/subsegments_scale0.json\n",
      "[NeMo I 2022-07-25 20:50:38 clustering_diarizer:325] Extracting embeddings for Diarization\n",
      "[NeMo I 2022-07-25 20:50:38 collections:289] Filtered duration for loading collection is 0.000000.\n",
      "[NeMo I 2022-07-25 20:50:38 collections:293] # 2044 files loaded accounting to # 1 labels\n"
     ]
    },
    {
     "name": "stderr",
     "output_type": "stream",
     "text": [
      "100%|██████████| 32/32 [00:01<00:00, 16.89it/s]\n",
      "100%|██████████| 1/1 [00:10<00:00, 10.76s/it]\n"
     ]
    },
    {
     "name": "stdout",
     "output_type": "stream",
     "text": [
      "[NeMo I 2022-07-25 20:50:54 speaker_utils:460] Cumulative Results for collar 0.25 sec and ignore_overlap True: \n",
      "     FA: 0.0780\t MISS 0.2094\t                 Diarization ER: 0.4724\t, Confusion ER:0.1849\n",
      "[NeMo I 2022-07-25 20:50:54 clustering_diarizer:444] Outputs are saved in /home/DATA/amit_kesari/SD1/NeMo-ASR_Diar/data/voxconverse directory\n",
      "\n",
      "\n",
      "Diar score:  (<pyannote.metrics.diarization.DiarizationErrorRate object at 0x7fa0500e6640>, {'epygx': {'speaker_0': 'spk04', 'speaker_1': 'spk02', 'speaker_3': 'spk05', 'speaker_5': 'spk06', 'speaker_6': 'spk01', 'speaker_7': 'spk00'}})\n",
      "Diarization error rate (DER) = 51.4%\n",
      "\n",
      "\n",
      "voxconverse_label:  eqsta\n",
      "num_speakers:  15\n",
      "[NeMo I 2022-07-25 20:50:58 speaker_utils:82] Number of files to diarize: 1\n",
      "[NeMo I 2022-07-25 20:50:58 cloud:56] Found existing object /root/.cache/torch/NeMo/NeMo_1.10.0/QuartzNet15x5Base-En/2b066be39e9294d7100fb176ec817722/QuartzNet15x5Base-En.nemo.\n",
      "[NeMo I 2022-07-25 20:50:58 cloud:62] Re-using file from: /root/.cache/torch/NeMo/NeMo_1.10.0/QuartzNet15x5Base-En/2b066be39e9294d7100fb176ec817722/QuartzNet15x5Base-En.nemo\n",
      "[NeMo I 2022-07-25 20:50:58 common:789] Instantiating model from pre-trained checkpoint\n",
      "[NeMo I 2022-07-25 20:50:59 features:200] PADDING: 16\n",
      "[NeMo I 2022-07-25 20:51:00 save_restore_connector:243] Model EncDecCTCModel was successfully restored from /root/.cache/torch/NeMo/NeMo_1.10.0/QuartzNet15x5Base-En/2b066be39e9294d7100fb176ec817722/QuartzNet15x5Base-En.nemo.\n"
     ]
    },
    {
     "data": {
      "application/vnd.jupyter.widget-view+json": {
       "model_id": "52032ea226aa42d7a4ed5e1a3cfa9d0c",
       "version_major": 2,
       "version_minor": 0
      },
      "text/plain": [
       "Transcribing:   0%|          | 0/1 [00:00<?, ?it/s]"
      ]
     },
     "metadata": {},
     "output_type": "display_data"
    },
    {
     "name": "stdout",
     "output_type": "stream",
     "text": [
      "[NeMo I 2022-07-25 20:51:02 speaker_utils:82] Number of files to diarize: 1\n",
      "[NeMo I 2022-07-25 20:51:02 clustering_diarizer:153] Loading pretrained titanet_large model from NGC\n",
      "[NeMo I 2022-07-25 20:51:02 cloud:56] Found existing object /root/.cache/torch/NeMo/NeMo_1.10.0/titanet-l/492c0ab8416139171dc18c21879a9e45/titanet-l.nemo.\n",
      "[NeMo I 2022-07-25 20:51:02 cloud:62] Re-using file from: /root/.cache/torch/NeMo/NeMo_1.10.0/titanet-l/492c0ab8416139171dc18c21879a9e45/titanet-l.nemo\n",
      "[NeMo I 2022-07-25 20:51:02 common:789] Instantiating model from pre-trained checkpoint\n"
     ]
    },
    {
     "name": "stderr",
     "output_type": "stream",
     "text": [
      "[NeMo W 2022-07-25 20:51:03 modelPT:148] If you intend to do training or fine-tuning, please call the ModelPT.setup_training_data() method and provide a valid configuration file to setup the train data loader.\n",
      "    Train config : \n",
      "    manifest_filepath: /manifests/combined_fisher_swbd_voxceleb12_librispeech/train.json\n",
      "    sample_rate: 16000\n",
      "    labels: null\n",
      "    batch_size: 64\n",
      "    shuffle: true\n",
      "    time_length: 3\n",
      "    is_tarred: false\n",
      "    tarred_audio_filepaths: null\n",
      "    tarred_shard_strategy: scatter\n",
      "    augmentor:\n",
      "      noise:\n",
      "        manifest_path: /manifests/noise/rir_noise_manifest.json\n",
      "        prob: 0.5\n",
      "        min_snr_db: 0\n",
      "        max_snr_db: 15\n",
      "      speed:\n",
      "        prob: 0.5\n",
      "        sr: 16000\n",
      "        resample_type: kaiser_fast\n",
      "        min_speed_rate: 0.95\n",
      "        max_speed_rate: 1.05\n",
      "    num_workers: 15\n",
      "    pin_memory: true\n",
      "    \n",
      "[NeMo W 2022-07-25 20:51:03 modelPT:155] If you intend to do validation, please call the ModelPT.setup_validation_data() or ModelPT.setup_multiple_validation_data() method and provide a valid configuration file to setup the validation data loader(s). \n",
      "    Validation config : \n",
      "    manifest_filepath: /manifests/combined_fisher_swbd_voxceleb12_librispeech/dev.json\n",
      "    sample_rate: 16000\n",
      "    labels: null\n",
      "    batch_size: 128\n",
      "    shuffle: false\n",
      "    time_length: 3\n",
      "    num_workers: 15\n",
      "    pin_memory: true\n",
      "    \n"
     ]
    },
    {
     "name": "stdout",
     "output_type": "stream",
     "text": [
      "[NeMo I 2022-07-25 20:51:03 features:200] PADDING: 16\n",
      "[NeMo I 2022-07-25 20:51:03 label_models:100] loss is Angular Softmax\n",
      "[NeMo I 2022-07-25 20:51:04 save_restore_connector:243] Model EncDecSpeakerLabelModel was successfully restored from /root/.cache/torch/NeMo/NeMo_1.10.0/titanet-l/492c0ab8416139171dc18c21879a9e45/titanet-l.nemo.\n",
      "[NeMo I 2022-07-25 20:51:04 speaker_utils:82] Number of files to diarize: 1\n",
      "[NeMo I 2022-07-25 20:51:04 clustering_diarizer:271] Subsegmentation for embedding extraction: scale0, /home/DATA/amit_kesari/SD1/NeMo-ASR_Diar/data/voxconverse/speaker_outputs/subsegments_scale0.json\n",
      "[NeMo I 2022-07-25 20:51:04 clustering_diarizer:325] Extracting embeddings for Diarization\n",
      "[NeMo I 2022-07-25 20:51:04 collections:289] Filtered duration for loading collection is 0.000000.\n",
      "[NeMo I 2022-07-25 20:51:04 collections:293] # 1066 files loaded accounting to # 1 labels\n"
     ]
    },
    {
     "name": "stderr",
     "output_type": "stream",
     "text": [
      "100%|██████████| 17/17 [00:03<00:00,  5.25it/s]\n",
      "100%|██████████| 1/1 [00:10<00:00, 10.33s/it]\n"
     ]
    },
    {
     "name": "stdout",
     "output_type": "stream",
     "text": [
      "[NeMo I 2022-07-25 20:51:18 speaker_utils:460] Cumulative Results for collar 0.25 sec and ignore_overlap True: \n",
      "     FA: 0.0679\t MISS 0.0677\t                 Diarization ER: 0.2939\t, Confusion ER:0.1583\n",
      "[NeMo I 2022-07-25 20:51:18 clustering_diarizer:444] Outputs are saved in /home/DATA/amit_kesari/SD1/NeMo-ASR_Diar/data/voxconverse directory\n",
      "\n",
      "\n",
      "Diar score:  (<pyannote.metrics.diarization.DiarizationErrorRate object at 0x7fa06deb60a0>, {'eqsta': {'speaker_1': 'spk02', 'speaker_10': 'spk05', 'speaker_11': 'spk08', 'speaker_12': 'spk12', 'speaker_13': 'spk14', 'speaker_14': 'spk03', 'speaker_3': 'spk07', 'speaker_4': 'spk09', 'speaker_5': 'spk13', 'speaker_6': 'spk06', 'speaker_7': 'spk04', 'speaker_8': 'spk00', 'speaker_9': 'spk01'}})\n",
      "Diarization error rate (DER) = 43.6%\n",
      "\n",
      "\n",
      "voxconverse_label:  erslt\n",
      "num_speakers:  7\n",
      "[NeMo I 2022-07-25 20:51:20 speaker_utils:82] Number of files to diarize: 1\n",
      "[NeMo I 2022-07-25 20:51:20 cloud:56] Found existing object /root/.cache/torch/NeMo/NeMo_1.10.0/QuartzNet15x5Base-En/2b066be39e9294d7100fb176ec817722/QuartzNet15x5Base-En.nemo.\n",
      "[NeMo I 2022-07-25 20:51:20 cloud:62] Re-using file from: /root/.cache/torch/NeMo/NeMo_1.10.0/QuartzNet15x5Base-En/2b066be39e9294d7100fb176ec817722/QuartzNet15x5Base-En.nemo\n",
      "[NeMo I 2022-07-25 20:51:20 common:789] Instantiating model from pre-trained checkpoint\n",
      "[NeMo I 2022-07-25 20:51:20 features:200] PADDING: 16\n",
      "[NeMo I 2022-07-25 20:51:22 save_restore_connector:243] Model EncDecCTCModel was successfully restored from /root/.cache/torch/NeMo/NeMo_1.10.0/QuartzNet15x5Base-En/2b066be39e9294d7100fb176ec817722/QuartzNet15x5Base-En.nemo.\n"
     ]
    },
    {
     "data": {
      "application/vnd.jupyter.widget-view+json": {
       "model_id": "59309d3d166a4149b2f7f5cbcc78e444",
       "version_major": 2,
       "version_minor": 0
      },
      "text/plain": [
       "Transcribing:   0%|          | 0/1 [00:00<?, ?it/s]"
      ]
     },
     "metadata": {},
     "output_type": "display_data"
    },
    {
     "name": "stdout",
     "output_type": "stream",
     "text": [
      "[NeMo I 2022-07-25 20:51:23 speaker_utils:82] Number of files to diarize: 1\n",
      "[NeMo I 2022-07-25 20:51:24 clustering_diarizer:153] Loading pretrained titanet_large model from NGC\n",
      "[NeMo I 2022-07-25 20:51:24 cloud:56] Found existing object /root/.cache/torch/NeMo/NeMo_1.10.0/titanet-l/492c0ab8416139171dc18c21879a9e45/titanet-l.nemo.\n",
      "[NeMo I 2022-07-25 20:51:24 cloud:62] Re-using file from: /root/.cache/torch/NeMo/NeMo_1.10.0/titanet-l/492c0ab8416139171dc18c21879a9e45/titanet-l.nemo\n",
      "[NeMo I 2022-07-25 20:51:24 common:789] Instantiating model from pre-trained checkpoint\n"
     ]
    },
    {
     "name": "stderr",
     "output_type": "stream",
     "text": [
      "[NeMo W 2022-07-25 20:51:24 modelPT:148] If you intend to do training or fine-tuning, please call the ModelPT.setup_training_data() method and provide a valid configuration file to setup the train data loader.\n",
      "    Train config : \n",
      "    manifest_filepath: /manifests/combined_fisher_swbd_voxceleb12_librispeech/train.json\n",
      "    sample_rate: 16000\n",
      "    labels: null\n",
      "    batch_size: 64\n",
      "    shuffle: true\n",
      "    time_length: 3\n",
      "    is_tarred: false\n",
      "    tarred_audio_filepaths: null\n",
      "    tarred_shard_strategy: scatter\n",
      "    augmentor:\n",
      "      noise:\n",
      "        manifest_path: /manifests/noise/rir_noise_manifest.json\n",
      "        prob: 0.5\n",
      "        min_snr_db: 0\n",
      "        max_snr_db: 15\n",
      "      speed:\n",
      "        prob: 0.5\n",
      "        sr: 16000\n",
      "        resample_type: kaiser_fast\n",
      "        min_speed_rate: 0.95\n",
      "        max_speed_rate: 1.05\n",
      "    num_workers: 15\n",
      "    pin_memory: true\n",
      "    \n",
      "[NeMo W 2022-07-25 20:51:24 modelPT:155] If you intend to do validation, please call the ModelPT.setup_validation_data() or ModelPT.setup_multiple_validation_data() method and provide a valid configuration file to setup the validation data loader(s). \n",
      "    Validation config : \n",
      "    manifest_filepath: /manifests/combined_fisher_swbd_voxceleb12_librispeech/dev.json\n",
      "    sample_rate: 16000\n",
      "    labels: null\n",
      "    batch_size: 128\n",
      "    shuffle: false\n",
      "    time_length: 3\n",
      "    num_workers: 15\n",
      "    pin_memory: true\n",
      "    \n"
     ]
    },
    {
     "name": "stdout",
     "output_type": "stream",
     "text": [
      "[NeMo I 2022-07-25 20:51:24 features:200] PADDING: 16\n",
      "[NeMo I 2022-07-25 20:51:25 label_models:100] loss is Angular Softmax\n",
      "[NeMo I 2022-07-25 20:51:25 save_restore_connector:243] Model EncDecSpeakerLabelModel was successfully restored from /root/.cache/torch/NeMo/NeMo_1.10.0/titanet-l/492c0ab8416139171dc18c21879a9e45/titanet-l.nemo.\n",
      "[NeMo I 2022-07-25 20:51:25 speaker_utils:82] Number of files to diarize: 1\n",
      "[NeMo I 2022-07-25 20:51:25 clustering_diarizer:271] Subsegmentation for embedding extraction: scale0, /home/DATA/amit_kesari/SD1/NeMo-ASR_Diar/data/voxconverse/speaker_outputs/subsegments_scale0.json\n",
      "[NeMo I 2022-07-25 20:51:25 clustering_diarizer:325] Extracting embeddings for Diarization\n",
      "[NeMo I 2022-07-25 20:51:25 collections:289] Filtered duration for loading collection is 0.000000.\n",
      "[NeMo I 2022-07-25 20:51:25 collections:293] # 244 files loaded accounting to # 1 labels\n"
     ]
    },
    {
     "name": "stderr",
     "output_type": "stream",
     "text": [
      "100%|██████████| 4/4 [00:01<00:00,  3.94it/s]\n",
      "100%|██████████| 1/1 [00:08<00:00,  8.88s/it]"
     ]
    },
    {
     "name": "stdout",
     "output_type": "stream",
     "text": [
      "[NeMo I 2022-07-25 20:51:35 speaker_utils:460] Cumulative Results for collar 0.25 sec and ignore_overlap True: \n",
      "     FA: 0.0842\t MISS 0.3032\t                 Diarization ER: 0.5310\t, Confusion ER:0.1435\n",
      "[NeMo I 2022-07-25 20:51:35 clustering_diarizer:444] Outputs are saved in /home/DATA/amit_kesari/SD1/NeMo-ASR_Diar/data/voxconverse directory\n"
     ]
    },
    {
     "name": "stderr",
     "output_type": "stream",
     "text": [
      "\n"
     ]
    },
    {
     "name": "stdout",
     "output_type": "stream",
     "text": [
      "\n",
      "\n",
      "Diar score:  (<pyannote.metrics.diarization.DiarizationErrorRate object at 0x7fa140849a90>, {'erslt': {'speaker_0': 'spk05', 'speaker_1': 'spk01', 'speaker_2': 'spk02', 'speaker_3': 'spk00', 'speaker_4': 'spk03', 'speaker_5': 'spk04', 'speaker_6': 'spk06'}})\n",
      "Diarization error rate (DER) = 57.3%\n",
      "\n",
      "\n",
      "voxconverse_label:  eucfa\n",
      "num_speakers:  4\n",
      "[NeMo I 2022-07-25 20:51:35 speaker_utils:82] Number of files to diarize: 1\n",
      "[NeMo I 2022-07-25 20:51:35 cloud:56] Found existing object /root/.cache/torch/NeMo/NeMo_1.10.0/QuartzNet15x5Base-En/2b066be39e9294d7100fb176ec817722/QuartzNet15x5Base-En.nemo.\n",
      "[NeMo I 2022-07-25 20:51:35 cloud:62] Re-using file from: /root/.cache/torch/NeMo/NeMo_1.10.0/QuartzNet15x5Base-En/2b066be39e9294d7100fb176ec817722/QuartzNet15x5Base-En.nemo\n",
      "[NeMo I 2022-07-25 20:51:35 common:789] Instantiating model from pre-trained checkpoint\n",
      "[NeMo I 2022-07-25 20:51:36 features:200] PADDING: 16\n",
      "[NeMo I 2022-07-25 20:51:38 save_restore_connector:243] Model EncDecCTCModel was successfully restored from /root/.cache/torch/NeMo/NeMo_1.10.0/QuartzNet15x5Base-En/2b066be39e9294d7100fb176ec817722/QuartzNet15x5Base-En.nemo.\n"
     ]
    },
    {
     "data": {
      "application/vnd.jupyter.widget-view+json": {
       "model_id": "13de54e424784e34849be07ca40555cd",
       "version_major": 2,
       "version_minor": 0
      },
      "text/plain": [
       "Transcribing:   0%|          | 0/1 [00:00<?, ?it/s]"
      ]
     },
     "metadata": {},
     "output_type": "display_data"
    },
    {
     "name": "stdout",
     "output_type": "stream",
     "text": [
      "[NeMo I 2022-07-25 20:51:39 speaker_utils:82] Number of files to diarize: 1\n",
      "[NeMo I 2022-07-25 20:51:39 clustering_diarizer:153] Loading pretrained titanet_large model from NGC\n",
      "[NeMo I 2022-07-25 20:51:39 cloud:56] Found existing object /root/.cache/torch/NeMo/NeMo_1.10.0/titanet-l/492c0ab8416139171dc18c21879a9e45/titanet-l.nemo.\n",
      "[NeMo I 2022-07-25 20:51:39 cloud:62] Re-using file from: /root/.cache/torch/NeMo/NeMo_1.10.0/titanet-l/492c0ab8416139171dc18c21879a9e45/titanet-l.nemo\n",
      "[NeMo I 2022-07-25 20:51:39 common:789] Instantiating model from pre-trained checkpoint\n"
     ]
    },
    {
     "name": "stderr",
     "output_type": "stream",
     "text": [
      "[NeMo W 2022-07-25 20:51:40 modelPT:148] If you intend to do training or fine-tuning, please call the ModelPT.setup_training_data() method and provide a valid configuration file to setup the train data loader.\n",
      "    Train config : \n",
      "    manifest_filepath: /manifests/combined_fisher_swbd_voxceleb12_librispeech/train.json\n",
      "    sample_rate: 16000\n",
      "    labels: null\n",
      "    batch_size: 64\n",
      "    shuffle: true\n",
      "    time_length: 3\n",
      "    is_tarred: false\n",
      "    tarred_audio_filepaths: null\n",
      "    tarred_shard_strategy: scatter\n",
      "    augmentor:\n",
      "      noise:\n",
      "        manifest_path: /manifests/noise/rir_noise_manifest.json\n",
      "        prob: 0.5\n",
      "        min_snr_db: 0\n",
      "        max_snr_db: 15\n",
      "      speed:\n",
      "        prob: 0.5\n",
      "        sr: 16000\n",
      "        resample_type: kaiser_fast\n",
      "        min_speed_rate: 0.95\n",
      "        max_speed_rate: 1.05\n",
      "    num_workers: 15\n",
      "    pin_memory: true\n",
      "    \n",
      "[NeMo W 2022-07-25 20:51:40 modelPT:155] If you intend to do validation, please call the ModelPT.setup_validation_data() or ModelPT.setup_multiple_validation_data() method and provide a valid configuration file to setup the validation data loader(s). \n",
      "    Validation config : \n",
      "    manifest_filepath: /manifests/combined_fisher_swbd_voxceleb12_librispeech/dev.json\n",
      "    sample_rate: 16000\n",
      "    labels: null\n",
      "    batch_size: 128\n",
      "    shuffle: false\n",
      "    time_length: 3\n",
      "    num_workers: 15\n",
      "    pin_memory: true\n",
      "    \n"
     ]
    },
    {
     "name": "stdout",
     "output_type": "stream",
     "text": [
      "[NeMo I 2022-07-25 20:51:40 features:200] PADDING: 16\n",
      "[NeMo I 2022-07-25 20:51:40 label_models:100] loss is Angular Softmax\n",
      "[NeMo I 2022-07-25 20:51:41 save_restore_connector:243] Model EncDecSpeakerLabelModel was successfully restored from /root/.cache/torch/NeMo/NeMo_1.10.0/titanet-l/492c0ab8416139171dc18c21879a9e45/titanet-l.nemo.\n",
      "[NeMo I 2022-07-25 20:51:41 speaker_utils:82] Number of files to diarize: 1\n",
      "[NeMo I 2022-07-25 20:51:41 clustering_diarizer:271] Subsegmentation for embedding extraction: scale0, /home/DATA/amit_kesari/SD1/NeMo-ASR_Diar/data/voxconverse/speaker_outputs/subsegments_scale0.json\n",
      "[NeMo I 2022-07-25 20:51:41 clustering_diarizer:325] Extracting embeddings for Diarization\n",
      "[NeMo I 2022-07-25 20:51:41 collections:289] Filtered duration for loading collection is 0.000000.\n",
      "[NeMo I 2022-07-25 20:51:41 collections:293] # 153 files loaded accounting to # 1 labels\n"
     ]
    },
    {
     "name": "stderr",
     "output_type": "stream",
     "text": [
      "100%|██████████| 3/3 [00:00<00:00,  3.68it/s]\n",
      "100%|██████████| 1/1 [00:04<00:00,  4.59s/it]"
     ]
    },
    {
     "name": "stdout",
     "output_type": "stream",
     "text": [
      "[NeMo I 2022-07-25 20:51:46 speaker_utils:460] Cumulative Results for collar 0.25 sec and ignore_overlap True: \n",
      "     FA: 0.0321\t MISS 0.1814\t                 Diarization ER: 0.3811\t, Confusion ER:0.1676\n",
      "[NeMo I 2022-07-25 20:51:46 clustering_diarizer:444] Outputs are saved in /home/DATA/amit_kesari/SD1/NeMo-ASR_Diar/data/voxconverse directory\n",
      "\n",
      "\n",
      "Diar score:  (<pyannote.metrics.diarization.DiarizationErrorRate object at 0x7fa050376a00>, {'eucfa': {'speaker_0': 'spk00', 'speaker_1': 'spk01', 'speaker_2': 'spk03', 'speaker_3': 'spk02'}})\n",
      "Diarization error rate (DER) = 42.8%\n",
      "\n",
      "\n",
      "voxconverse_label:  euqef\n",
      "num_speakers:  1\n",
      "[NeMo I 2022-07-25 20:51:46 speaker_utils:82] Number of files to diarize: 1\n",
      "[NeMo I 2022-07-25 20:51:46 cloud:56] Found existing object /root/.cache/torch/NeMo/NeMo_1.10.0/QuartzNet15x5Base-En/2b066be39e9294d7100fb176ec817722/QuartzNet15x5Base-En.nemo.\n",
      "[NeMo I 2022-07-25 20:51:46 cloud:62] Re-using file from: /root/.cache/torch/NeMo/NeMo_1.10.0/QuartzNet15x5Base-En/2b066be39e9294d7100fb176ec817722/QuartzNet15x5Base-En.nemo\n",
      "[NeMo I 2022-07-25 20:51:46 common:789] Instantiating model from pre-trained checkpoint\n"
     ]
    },
    {
     "name": "stderr",
     "output_type": "stream",
     "text": [
      "\n"
     ]
    },
    {
     "name": "stdout",
     "output_type": "stream",
     "text": [
      "[NeMo I 2022-07-25 20:51:47 features:200] PADDING: 16\n",
      "[NeMo I 2022-07-25 20:51:49 save_restore_connector:243] Model EncDecCTCModel was successfully restored from /root/.cache/torch/NeMo/NeMo_1.10.0/QuartzNet15x5Base-En/2b066be39e9294d7100fb176ec817722/QuartzNet15x5Base-En.nemo.\n"
     ]
    },
    {
     "data": {
      "application/vnd.jupyter.widget-view+json": {
       "model_id": "575f208b9c4c4ffb80989fc751fc5dad",
       "version_major": 2,
       "version_minor": 0
      },
      "text/plain": [
       "Transcribing:   0%|          | 0/1 [00:00<?, ?it/s]"
      ]
     },
     "metadata": {},
     "output_type": "display_data"
    },
    {
     "name": "stdout",
     "output_type": "stream",
     "text": [
      "[NeMo I 2022-07-25 20:51:49 speaker_utils:82] Number of files to diarize: 1\n",
      "[NeMo I 2022-07-25 20:51:49 clustering_diarizer:153] Loading pretrained titanet_large model from NGC\n",
      "[NeMo I 2022-07-25 20:51:49 cloud:56] Found existing object /root/.cache/torch/NeMo/NeMo_1.10.0/titanet-l/492c0ab8416139171dc18c21879a9e45/titanet-l.nemo.\n",
      "[NeMo I 2022-07-25 20:51:49 cloud:62] Re-using file from: /root/.cache/torch/NeMo/NeMo_1.10.0/titanet-l/492c0ab8416139171dc18c21879a9e45/titanet-l.nemo\n",
      "[NeMo I 2022-07-25 20:51:49 common:789] Instantiating model from pre-trained checkpoint\n"
     ]
    },
    {
     "name": "stderr",
     "output_type": "stream",
     "text": [
      "[NeMo W 2022-07-25 20:51:50 modelPT:148] If you intend to do training or fine-tuning, please call the ModelPT.setup_training_data() method and provide a valid configuration file to setup the train data loader.\n",
      "    Train config : \n",
      "    manifest_filepath: /manifests/combined_fisher_swbd_voxceleb12_librispeech/train.json\n",
      "    sample_rate: 16000\n",
      "    labels: null\n",
      "    batch_size: 64\n",
      "    shuffle: true\n",
      "    time_length: 3\n",
      "    is_tarred: false\n",
      "    tarred_audio_filepaths: null\n",
      "    tarred_shard_strategy: scatter\n",
      "    augmentor:\n",
      "      noise:\n",
      "        manifest_path: /manifests/noise/rir_noise_manifest.json\n",
      "        prob: 0.5\n",
      "        min_snr_db: 0\n",
      "        max_snr_db: 15\n",
      "      speed:\n",
      "        prob: 0.5\n",
      "        sr: 16000\n",
      "        resample_type: kaiser_fast\n",
      "        min_speed_rate: 0.95\n",
      "        max_speed_rate: 1.05\n",
      "    num_workers: 15\n",
      "    pin_memory: true\n",
      "    \n",
      "[NeMo W 2022-07-25 20:51:50 modelPT:155] If you intend to do validation, please call the ModelPT.setup_validation_data() or ModelPT.setup_multiple_validation_data() method and provide a valid configuration file to setup the validation data loader(s). \n",
      "    Validation config : \n",
      "    manifest_filepath: /manifests/combined_fisher_swbd_voxceleb12_librispeech/dev.json\n",
      "    sample_rate: 16000\n",
      "    labels: null\n",
      "    batch_size: 128\n",
      "    shuffle: false\n",
      "    time_length: 3\n",
      "    num_workers: 15\n",
      "    pin_memory: true\n",
      "    \n"
     ]
    },
    {
     "name": "stdout",
     "output_type": "stream",
     "text": [
      "[NeMo I 2022-07-25 20:51:50 features:200] PADDING: 16\n",
      "[NeMo I 2022-07-25 20:51:51 label_models:100] loss is Angular Softmax\n",
      "[NeMo I 2022-07-25 20:51:51 save_restore_connector:243] Model EncDecSpeakerLabelModel was successfully restored from /root/.cache/torch/NeMo/NeMo_1.10.0/titanet-l/492c0ab8416139171dc18c21879a9e45/titanet-l.nemo.\n",
      "[NeMo I 2022-07-25 20:51:51 speaker_utils:82] Number of files to diarize: 1\n",
      "[NeMo I 2022-07-25 20:51:51 clustering_diarizer:271] Subsegmentation for embedding extraction: scale0, /home/DATA/amit_kesari/SD1/NeMo-ASR_Diar/data/voxconverse/speaker_outputs/subsegments_scale0.json\n",
      "[NeMo I 2022-07-25 20:51:51 clustering_diarizer:325] Extracting embeddings for Diarization\n",
      "[NeMo I 2022-07-25 20:51:51 collections:289] Filtered duration for loading collection is 0.000000.\n",
      "[NeMo I 2022-07-25 20:51:51 collections:293] # 58 files loaded accounting to # 1 labels\n"
     ]
    },
    {
     "name": "stderr",
     "output_type": "stream",
     "text": [
      "100%|██████████| 1/1 [00:00<00:00,  1.88it/s]\n",
      "100%|██████████| 1/1 [00:00<00:00,  1.15it/s]"
     ]
    },
    {
     "name": "stdout",
     "output_type": "stream",
     "text": [
      "[NeMo I 2022-07-25 20:51:53 speaker_utils:460] Cumulative Results for collar 0.25 sec and ignore_overlap True: \n",
      "     FA: 0.6029\t MISS 0.1962\t                 Diarization ER: 0.7992\t, Confusion ER:0.0000\n",
      "[NeMo I 2022-07-25 20:51:53 clustering_diarizer:444] Outputs are saved in /home/DATA/amit_kesari/SD1/NeMo-ASR_Diar/data/voxconverse directory\n",
      "\n",
      "\n",
      "Diar score:  (<pyannote.metrics.diarization.DiarizationErrorRate object at 0x7fa048c2afa0>, {'euqef': {'speaker_0': 'spk00'}})\n",
      "Diarization error rate (DER) = 80.5%\n",
      "\n",
      "\n",
      "voxconverse_label:  ezxso\n",
      "num_speakers:  10\n",
      "[NeMo I 2022-07-25 20:51:53 speaker_utils:82] Number of files to diarize: 1\n",
      "[NeMo I 2022-07-25 20:51:53 cloud:56] Found existing object /root/.cache/torch/NeMo/NeMo_1.10.0/QuartzNet15x5Base-En/2b066be39e9294d7100fb176ec817722/QuartzNet15x5Base-En.nemo.\n",
      "[NeMo I 2022-07-25 20:51:53 cloud:62] Re-using file from: /root/.cache/torch/NeMo/NeMo_1.10.0/QuartzNet15x5Base-En/2b066be39e9294d7100fb176ec817722/QuartzNet15x5Base-En.nemo\n",
      "[NeMo I 2022-07-25 20:51:53 common:789] Instantiating model from pre-trained checkpoint\n"
     ]
    },
    {
     "name": "stderr",
     "output_type": "stream",
     "text": [
      "\n"
     ]
    },
    {
     "name": "stdout",
     "output_type": "stream",
     "text": [
      "[NeMo I 2022-07-25 20:51:53 features:200] PADDING: 16\n",
      "[NeMo I 2022-07-25 20:51:55 save_restore_connector:243] Model EncDecCTCModel was successfully restored from /root/.cache/torch/NeMo/NeMo_1.10.0/QuartzNet15x5Base-En/2b066be39e9294d7100fb176ec817722/QuartzNet15x5Base-En.nemo.\n"
     ]
    },
    {
     "data": {
      "application/vnd.jupyter.widget-view+json": {
       "model_id": "201d670340eb46838809971e13181fc8",
       "version_major": 2,
       "version_minor": 0
      },
      "text/plain": [
       "Transcribing:   0%|          | 0/1 [00:00<?, ?it/s]"
      ]
     },
     "metadata": {},
     "output_type": "display_data"
    },
    {
     "name": "stdout",
     "output_type": "stream",
     "text": [
      "[NeMo I 2022-07-25 20:51:55 speaker_utils:82] Number of files to diarize: 1\n",
      "[NeMo I 2022-07-25 20:51:55 clustering_diarizer:153] Loading pretrained titanet_large model from NGC\n",
      "[NeMo I 2022-07-25 20:51:55 cloud:56] Found existing object /root/.cache/torch/NeMo/NeMo_1.10.0/titanet-l/492c0ab8416139171dc18c21879a9e45/titanet-l.nemo.\n",
      "[NeMo I 2022-07-25 20:51:55 cloud:62] Re-using file from: /root/.cache/torch/NeMo/NeMo_1.10.0/titanet-l/492c0ab8416139171dc18c21879a9e45/titanet-l.nemo\n",
      "[NeMo I 2022-07-25 20:51:55 common:789] Instantiating model from pre-trained checkpoint\n"
     ]
    },
    {
     "name": "stderr",
     "output_type": "stream",
     "text": [
      "[NeMo W 2022-07-25 20:51:56 modelPT:148] If you intend to do training or fine-tuning, please call the ModelPT.setup_training_data() method and provide a valid configuration file to setup the train data loader.\n",
      "    Train config : \n",
      "    manifest_filepath: /manifests/combined_fisher_swbd_voxceleb12_librispeech/train.json\n",
      "    sample_rate: 16000\n",
      "    labels: null\n",
      "    batch_size: 64\n",
      "    shuffle: true\n",
      "    time_length: 3\n",
      "    is_tarred: false\n",
      "    tarred_audio_filepaths: null\n",
      "    tarred_shard_strategy: scatter\n",
      "    augmentor:\n",
      "      noise:\n",
      "        manifest_path: /manifests/noise/rir_noise_manifest.json\n",
      "        prob: 0.5\n",
      "        min_snr_db: 0\n",
      "        max_snr_db: 15\n",
      "      speed:\n",
      "        prob: 0.5\n",
      "        sr: 16000\n",
      "        resample_type: kaiser_fast\n",
      "        min_speed_rate: 0.95\n",
      "        max_speed_rate: 1.05\n",
      "    num_workers: 15\n",
      "    pin_memory: true\n",
      "    \n",
      "[NeMo W 2022-07-25 20:51:56 modelPT:155] If you intend to do validation, please call the ModelPT.setup_validation_data() or ModelPT.setup_multiple_validation_data() method and provide a valid configuration file to setup the validation data loader(s). \n",
      "    Validation config : \n",
      "    manifest_filepath: /manifests/combined_fisher_swbd_voxceleb12_librispeech/dev.json\n",
      "    sample_rate: 16000\n",
      "    labels: null\n",
      "    batch_size: 128\n",
      "    shuffle: false\n",
      "    time_length: 3\n",
      "    num_workers: 15\n",
      "    pin_memory: true\n",
      "    \n"
     ]
    },
    {
     "name": "stdout",
     "output_type": "stream",
     "text": [
      "[NeMo I 2022-07-25 20:51:56 features:200] PADDING: 16\n",
      "[NeMo I 2022-07-25 20:51:57 label_models:100] loss is Angular Softmax\n",
      "[NeMo I 2022-07-25 20:51:57 save_restore_connector:243] Model EncDecSpeakerLabelModel was successfully restored from /root/.cache/torch/NeMo/NeMo_1.10.0/titanet-l/492c0ab8416139171dc18c21879a9e45/titanet-l.nemo.\n",
      "[NeMo I 2022-07-25 20:51:57 speaker_utils:82] Number of files to diarize: 1\n",
      "[NeMo I 2022-07-25 20:51:57 clustering_diarizer:271] Subsegmentation for embedding extraction: scale0, /home/DATA/amit_kesari/SD1/NeMo-ASR_Diar/data/voxconverse/speaker_outputs/subsegments_scale0.json\n",
      "[NeMo I 2022-07-25 20:51:57 clustering_diarizer:325] Extracting embeddings for Diarization\n",
      "[NeMo I 2022-07-25 20:51:57 collections:289] Filtered duration for loading collection is 0.000000.\n",
      "[NeMo I 2022-07-25 20:51:57 collections:293] # 537 files loaded accounting to # 1 labels\n"
     ]
    },
    {
     "name": "stderr",
     "output_type": "stream",
     "text": [
      "100%|██████████| 9/9 [00:01<00:00,  4.96it/s]\n",
      "100%|██████████| 1/1 [00:14<00:00, 14.48s/it]\n"
     ]
    },
    {
     "name": "stdout",
     "output_type": "stream",
     "text": [
      "[NeMo I 2022-07-25 20:52:14 speaker_utils:460] Cumulative Results for collar 0.25 sec and ignore_overlap True: \n",
      "     FA: 0.0374\t MISS 0.2769\t                 Diarization ER: 0.4766\t, Confusion ER:0.1623\n",
      "[NeMo I 2022-07-25 20:52:14 clustering_diarizer:444] Outputs are saved in /home/DATA/amit_kesari/SD1/NeMo-ASR_Diar/data/voxconverse directory\n",
      "\n",
      "\n",
      "Diar score:  (<pyannote.metrics.diarization.DiarizationErrorRate object at 0x7fa0490a6190>, {'ezxso': {'speaker_0': 'spk05', 'speaker_1': 'spk06', 'speaker_2': 'spk08', 'speaker_3': 'spk01', 'speaker_4': 'spk00', 'speaker_5': 'spk04', 'speaker_6': 'spk07', 'speaker_7': 'spk03', 'speaker_8': 'spk09'}})\n",
      "Diarization error rate (DER) = 49.1%\n",
      "\n",
      "\n",
      "voxconverse_label:  fijfi\n",
      "num_speakers:  6\n",
      "[NeMo I 2022-07-25 20:52:14 speaker_utils:82] Number of files to diarize: 1\n",
      "[NeMo I 2022-07-25 20:52:14 cloud:56] Found existing object /root/.cache/torch/NeMo/NeMo_1.10.0/QuartzNet15x5Base-En/2b066be39e9294d7100fb176ec817722/QuartzNet15x5Base-En.nemo.\n",
      "[NeMo I 2022-07-25 20:52:14 cloud:62] Re-using file from: /root/.cache/torch/NeMo/NeMo_1.10.0/QuartzNet15x5Base-En/2b066be39e9294d7100fb176ec817722/QuartzNet15x5Base-En.nemo\n",
      "[NeMo I 2022-07-25 20:52:14 common:789] Instantiating model from pre-trained checkpoint\n",
      "[NeMo I 2022-07-25 20:52:15 features:200] PADDING: 16\n",
      "[NeMo I 2022-07-25 20:52:17 save_restore_connector:243] Model EncDecCTCModel was successfully restored from /root/.cache/torch/NeMo/NeMo_1.10.0/QuartzNet15x5Base-En/2b066be39e9294d7100fb176ec817722/QuartzNet15x5Base-En.nemo.\n"
     ]
    },
    {
     "data": {
      "application/vnd.jupyter.widget-view+json": {
       "model_id": "87c9b47856a54a2cac60f09821479ad4",
       "version_major": 2,
       "version_minor": 0
      },
      "text/plain": [
       "Transcribing:   0%|          | 0/1 [00:00<?, ?it/s]"
      ]
     },
     "metadata": {},
     "output_type": "display_data"
    },
    {
     "name": "stdout",
     "output_type": "stream",
     "text": [
      "[NeMo I 2022-07-25 20:52:18 speaker_utils:82] Number of files to diarize: 1\n",
      "[NeMo I 2022-07-25 20:52:18 clustering_diarizer:153] Loading pretrained titanet_large model from NGC\n",
      "[NeMo I 2022-07-25 20:52:18 cloud:56] Found existing object /root/.cache/torch/NeMo/NeMo_1.10.0/titanet-l/492c0ab8416139171dc18c21879a9e45/titanet-l.nemo.\n",
      "[NeMo I 2022-07-25 20:52:18 cloud:62] Re-using file from: /root/.cache/torch/NeMo/NeMo_1.10.0/titanet-l/492c0ab8416139171dc18c21879a9e45/titanet-l.nemo\n",
      "[NeMo I 2022-07-25 20:52:19 common:789] Instantiating model from pre-trained checkpoint\n"
     ]
    },
    {
     "name": "stderr",
     "output_type": "stream",
     "text": [
      "[NeMo W 2022-07-25 20:52:19 modelPT:148] If you intend to do training or fine-tuning, please call the ModelPT.setup_training_data() method and provide a valid configuration file to setup the train data loader.\n",
      "    Train config : \n",
      "    manifest_filepath: /manifests/combined_fisher_swbd_voxceleb12_librispeech/train.json\n",
      "    sample_rate: 16000\n",
      "    labels: null\n",
      "    batch_size: 64\n",
      "    shuffle: true\n",
      "    time_length: 3\n",
      "    is_tarred: false\n",
      "    tarred_audio_filepaths: null\n",
      "    tarred_shard_strategy: scatter\n",
      "    augmentor:\n",
      "      noise:\n",
      "        manifest_path: /manifests/noise/rir_noise_manifest.json\n",
      "        prob: 0.5\n",
      "        min_snr_db: 0\n",
      "        max_snr_db: 15\n",
      "      speed:\n",
      "        prob: 0.5\n",
      "        sr: 16000\n",
      "        resample_type: kaiser_fast\n",
      "        min_speed_rate: 0.95\n",
      "        max_speed_rate: 1.05\n",
      "    num_workers: 15\n",
      "    pin_memory: true\n",
      "    \n",
      "[NeMo W 2022-07-25 20:52:19 modelPT:155] If you intend to do validation, please call the ModelPT.setup_validation_data() or ModelPT.setup_multiple_validation_data() method and provide a valid configuration file to setup the validation data loader(s). \n",
      "    Validation config : \n",
      "    manifest_filepath: /manifests/combined_fisher_swbd_voxceleb12_librispeech/dev.json\n",
      "    sample_rate: 16000\n",
      "    labels: null\n",
      "    batch_size: 128\n",
      "    shuffle: false\n",
      "    time_length: 3\n",
      "    num_workers: 15\n",
      "    pin_memory: true\n",
      "    \n"
     ]
    },
    {
     "name": "stdout",
     "output_type": "stream",
     "text": [
      "[NeMo I 2022-07-25 20:52:19 features:200] PADDING: 16\n",
      "[NeMo I 2022-07-25 20:52:20 label_models:100] loss is Angular Softmax\n",
      "[NeMo I 2022-07-25 20:52:20 save_restore_connector:243] Model EncDecSpeakerLabelModel was successfully restored from /root/.cache/torch/NeMo/NeMo_1.10.0/titanet-l/492c0ab8416139171dc18c21879a9e45/titanet-l.nemo.\n",
      "[NeMo I 2022-07-25 20:52:20 speaker_utils:82] Number of files to diarize: 1\n",
      "[NeMo I 2022-07-25 20:52:20 clustering_diarizer:271] Subsegmentation for embedding extraction: scale0, /home/DATA/amit_kesari/SD1/NeMo-ASR_Diar/data/voxconverse/speaker_outputs/subsegments_scale0.json\n",
      "[NeMo I 2022-07-25 20:52:20 clustering_diarizer:325] Extracting embeddings for Diarization\n",
      "[NeMo I 2022-07-25 20:52:20 collections:289] Filtered duration for loading collection is 0.000000.\n",
      "[NeMo I 2022-07-25 20:52:20 collections:293] # 1071 files loaded accounting to # 1 labels\n"
     ]
    },
    {
     "name": "stderr",
     "output_type": "stream",
     "text": [
      "100%|██████████| 17/17 [00:03<00:00,  5.27it/s]\n",
      "100%|██████████| 1/1 [00:10<00:00, 10.06s/it]\n"
     ]
    },
    {
     "name": "stdout",
     "output_type": "stream",
     "text": [
      "[NeMo I 2022-07-25 20:52:34 speaker_utils:460] Cumulative Results for collar 0.25 sec and ignore_overlap True: \n",
      "     FA: 0.0953\t MISS 0.0664\t                 Diarization ER: 0.1813\t, Confusion ER:0.0196\n",
      "[NeMo I 2022-07-25 20:52:34 clustering_diarizer:444] Outputs are saved in /home/DATA/amit_kesari/SD1/NeMo-ASR_Diar/data/voxconverse directory\n",
      "\n",
      "\n",
      "Diar score:  (<pyannote.metrics.diarization.DiarizationErrorRate object at 0x7fa05020ab50>, {'fijfi': {'speaker_0': 'spk00', 'speaker_1': 'spk01', 'speaker_2': 'spk04', 'speaker_4': 'spk02', 'speaker_5': 'spk05'}})\n",
      "Diarization error rate (DER) = 23.7%\n",
      "\n",
      "\n",
      "voxconverse_label:  fowhl\n",
      "num_speakers:  6\n",
      "[NeMo I 2022-07-25 20:52:35 speaker_utils:82] Number of files to diarize: 1\n",
      "[NeMo I 2022-07-25 20:52:35 cloud:56] Found existing object /root/.cache/torch/NeMo/NeMo_1.10.0/QuartzNet15x5Base-En/2b066be39e9294d7100fb176ec817722/QuartzNet15x5Base-En.nemo.\n",
      "[NeMo I 2022-07-25 20:52:35 cloud:62] Re-using file from: /root/.cache/torch/NeMo/NeMo_1.10.0/QuartzNet15x5Base-En/2b066be39e9294d7100fb176ec817722/QuartzNet15x5Base-En.nemo\n",
      "[NeMo I 2022-07-25 20:52:35 common:789] Instantiating model from pre-trained checkpoint\n",
      "[NeMo I 2022-07-25 20:52:36 features:200] PADDING: 16\n",
      "[NeMo I 2022-07-25 20:52:37 save_restore_connector:243] Model EncDecCTCModel was successfully restored from /root/.cache/torch/NeMo/NeMo_1.10.0/QuartzNet15x5Base-En/2b066be39e9294d7100fb176ec817722/QuartzNet15x5Base-En.nemo.\n"
     ]
    },
    {
     "data": {
      "application/vnd.jupyter.widget-view+json": {
       "model_id": "999cf1dfe07b44e6a900fd224c9c92d4",
       "version_major": 2,
       "version_minor": 0
      },
      "text/plain": [
       "Transcribing:   0%|          | 0/1 [00:00<?, ?it/s]"
      ]
     },
     "metadata": {},
     "output_type": "display_data"
    },
    {
     "name": "stdout",
     "output_type": "stream",
     "text": [
      "[NeMo I 2022-07-25 20:52:45 speaker_utils:82] Number of files to diarize: 1\n",
      "[NeMo I 2022-07-25 20:52:45 clustering_diarizer:153] Loading pretrained titanet_large model from NGC\n",
      "[NeMo I 2022-07-25 20:52:45 cloud:56] Found existing object /root/.cache/torch/NeMo/NeMo_1.10.0/titanet-l/492c0ab8416139171dc18c21879a9e45/titanet-l.nemo.\n",
      "[NeMo I 2022-07-25 20:52:45 cloud:62] Re-using file from: /root/.cache/torch/NeMo/NeMo_1.10.0/titanet-l/492c0ab8416139171dc18c21879a9e45/titanet-l.nemo\n",
      "[NeMo I 2022-07-25 20:52:45 common:789] Instantiating model from pre-trained checkpoint\n"
     ]
    },
    {
     "name": "stderr",
     "output_type": "stream",
     "text": [
      "[NeMo W 2022-07-25 20:52:46 modelPT:148] If you intend to do training or fine-tuning, please call the ModelPT.setup_training_data() method and provide a valid configuration file to setup the train data loader.\n",
      "    Train config : \n",
      "    manifest_filepath: /manifests/combined_fisher_swbd_voxceleb12_librispeech/train.json\n",
      "    sample_rate: 16000\n",
      "    labels: null\n",
      "    batch_size: 64\n",
      "    shuffle: true\n",
      "    time_length: 3\n",
      "    is_tarred: false\n",
      "    tarred_audio_filepaths: null\n",
      "    tarred_shard_strategy: scatter\n",
      "    augmentor:\n",
      "      noise:\n",
      "        manifest_path: /manifests/noise/rir_noise_manifest.json\n",
      "        prob: 0.5\n",
      "        min_snr_db: 0\n",
      "        max_snr_db: 15\n",
      "      speed:\n",
      "        prob: 0.5\n",
      "        sr: 16000\n",
      "        resample_type: kaiser_fast\n",
      "        min_speed_rate: 0.95\n",
      "        max_speed_rate: 1.05\n",
      "    num_workers: 15\n",
      "    pin_memory: true\n",
      "    \n",
      "[NeMo W 2022-07-25 20:52:46 modelPT:155] If you intend to do validation, please call the ModelPT.setup_validation_data() or ModelPT.setup_multiple_validation_data() method and provide a valid configuration file to setup the validation data loader(s). \n",
      "    Validation config : \n",
      "    manifest_filepath: /manifests/combined_fisher_swbd_voxceleb12_librispeech/dev.json\n",
      "    sample_rate: 16000\n",
      "    labels: null\n",
      "    batch_size: 128\n",
      "    shuffle: false\n",
      "    time_length: 3\n",
      "    num_workers: 15\n",
      "    pin_memory: true\n",
      "    \n"
     ]
    },
    {
     "name": "stdout",
     "output_type": "stream",
     "text": [
      "[NeMo I 2022-07-25 20:52:46 features:200] PADDING: 16\n",
      "[NeMo I 2022-07-25 20:52:47 label_models:100] loss is Angular Softmax\n",
      "[NeMo I 2022-07-25 20:52:47 save_restore_connector:243] Model EncDecSpeakerLabelModel was successfully restored from /root/.cache/torch/NeMo/NeMo_1.10.0/titanet-l/492c0ab8416139171dc18c21879a9e45/titanet-l.nemo.\n",
      "[NeMo I 2022-07-25 20:52:47 speaker_utils:82] Number of files to diarize: 1\n",
      "[NeMo I 2022-07-25 20:52:47 clustering_diarizer:271] Subsegmentation for embedding extraction: scale0, /home/DATA/amit_kesari/SD1/NeMo-ASR_Diar/data/voxconverse/speaker_outputs/subsegments_scale0.json\n",
      "[NeMo I 2022-07-25 20:52:47 clustering_diarizer:325] Extracting embeddings for Diarization\n",
      "[NeMo I 2022-07-25 20:52:47 collections:289] Filtered duration for loading collection is 0.000000.\n",
      "[NeMo I 2022-07-25 20:52:47 collections:293] # 976 files loaded accounting to # 1 labels\n"
     ]
    },
    {
     "name": "stderr",
     "output_type": "stream",
     "text": [
      "100%|██████████| 16/16 [00:02<00:00,  5.49it/s]\n",
      "100%|██████████| 1/1 [00:08<00:00,  8.96s/it]\n"
     ]
    },
    {
     "name": "stdout",
     "output_type": "stream",
     "text": [
      "[NeMo I 2022-07-25 20:53:00 speaker_utils:460] Cumulative Results for collar 0.25 sec and ignore_overlap True: \n",
      "     FA: 0.0449\t MISS 0.0790\t                 Diarization ER: 0.1373\t, Confusion ER:0.0134\n",
      "[NeMo I 2022-07-25 20:53:00 clustering_diarizer:444] Outputs are saved in /home/DATA/amit_kesari/SD1/NeMo-ASR_Diar/data/voxconverse directory\n",
      "\n",
      "\n",
      "Diar score:  (<pyannote.metrics.diarization.DiarizationErrorRate object at 0x7fa0503457c0>, {'fowhl': {'speaker_0': 'spk02', 'speaker_1': 'spk00', 'speaker_2': 'spk03', 'speaker_3': 'spk01', 'speaker_4': 'spk05'}})\n",
      "Diarization error rate (DER) = 20.4%\n",
      "\n",
      "\n",
      "voxconverse_label:  fpfvy\n",
      "num_speakers:  11\n",
      "[NeMo I 2022-07-25 20:53:00 speaker_utils:82] Number of files to diarize: 1\n",
      "[NeMo I 2022-07-25 20:53:00 cloud:56] Found existing object /root/.cache/torch/NeMo/NeMo_1.10.0/QuartzNet15x5Base-En/2b066be39e9294d7100fb176ec817722/QuartzNet15x5Base-En.nemo.\n",
      "[NeMo I 2022-07-25 20:53:00 cloud:62] Re-using file from: /root/.cache/torch/NeMo/NeMo_1.10.0/QuartzNet15x5Base-En/2b066be39e9294d7100fb176ec817722/QuartzNet15x5Base-En.nemo\n",
      "[NeMo I 2022-07-25 20:53:00 common:789] Instantiating model from pre-trained checkpoint\n",
      "[NeMo I 2022-07-25 20:53:01 features:200] PADDING: 16\n",
      "[NeMo I 2022-07-25 20:53:02 save_restore_connector:243] Model EncDecCTCModel was successfully restored from /root/.cache/torch/NeMo/NeMo_1.10.0/QuartzNet15x5Base-En/2b066be39e9294d7100fb176ec817722/QuartzNet15x5Base-En.nemo.\n"
     ]
    },
    {
     "data": {
      "application/vnd.jupyter.widget-view+json": {
       "model_id": "b28b7115d0134d8d8985f5ed522bf17f",
       "version_major": 2,
       "version_minor": 0
      },
      "text/plain": [
       "Transcribing:   0%|          | 0/1 [00:00<?, ?it/s]"
      ]
     },
     "metadata": {},
     "output_type": "display_data"
    },
    {
     "name": "stdout",
     "output_type": "stream",
     "text": [
      "[NeMo I 2022-07-25 20:53:03 speaker_utils:82] Number of files to diarize: 1\n",
      "[NeMo I 2022-07-25 20:53:03 clustering_diarizer:153] Loading pretrained titanet_large model from NGC\n",
      "[NeMo I 2022-07-25 20:53:03 cloud:56] Found existing object /root/.cache/torch/NeMo/NeMo_1.10.0/titanet-l/492c0ab8416139171dc18c21879a9e45/titanet-l.nemo.\n",
      "[NeMo I 2022-07-25 20:53:03 cloud:62] Re-using file from: /root/.cache/torch/NeMo/NeMo_1.10.0/titanet-l/492c0ab8416139171dc18c21879a9e45/titanet-l.nemo\n",
      "[NeMo I 2022-07-25 20:53:03 common:789] Instantiating model from pre-trained checkpoint\n"
     ]
    },
    {
     "name": "stderr",
     "output_type": "stream",
     "text": [
      "[NeMo W 2022-07-25 20:53:04 modelPT:148] If you intend to do training or fine-tuning, please call the ModelPT.setup_training_data() method and provide a valid configuration file to setup the train data loader.\n",
      "    Train config : \n",
      "    manifest_filepath: /manifests/combined_fisher_swbd_voxceleb12_librispeech/train.json\n",
      "    sample_rate: 16000\n",
      "    labels: null\n",
      "    batch_size: 64\n",
      "    shuffle: true\n",
      "    time_length: 3\n",
      "    is_tarred: false\n",
      "    tarred_audio_filepaths: null\n",
      "    tarred_shard_strategy: scatter\n",
      "    augmentor:\n",
      "      noise:\n",
      "        manifest_path: /manifests/noise/rir_noise_manifest.json\n",
      "        prob: 0.5\n",
      "        min_snr_db: 0\n",
      "        max_snr_db: 15\n",
      "      speed:\n",
      "        prob: 0.5\n",
      "        sr: 16000\n",
      "        resample_type: kaiser_fast\n",
      "        min_speed_rate: 0.95\n",
      "        max_speed_rate: 1.05\n",
      "    num_workers: 15\n",
      "    pin_memory: true\n",
      "    \n",
      "[NeMo W 2022-07-25 20:53:04 modelPT:155] If you intend to do validation, please call the ModelPT.setup_validation_data() or ModelPT.setup_multiple_validation_data() method and provide a valid configuration file to setup the validation data loader(s). \n",
      "    Validation config : \n",
      "    manifest_filepath: /manifests/combined_fisher_swbd_voxceleb12_librispeech/dev.json\n",
      "    sample_rate: 16000\n",
      "    labels: null\n",
      "    batch_size: 128\n",
      "    shuffle: false\n",
      "    time_length: 3\n",
      "    num_workers: 15\n",
      "    pin_memory: true\n",
      "    \n"
     ]
    },
    {
     "name": "stdout",
     "output_type": "stream",
     "text": [
      "[NeMo I 2022-07-25 20:53:04 features:200] PADDING: 16\n",
      "[NeMo I 2022-07-25 20:53:05 label_models:100] loss is Angular Softmax\n",
      "[NeMo I 2022-07-25 20:53:05 save_restore_connector:243] Model EncDecSpeakerLabelModel was successfully restored from /root/.cache/torch/NeMo/NeMo_1.10.0/titanet-l/492c0ab8416139171dc18c21879a9e45/titanet-l.nemo.\n",
      "[NeMo I 2022-07-25 20:53:05 speaker_utils:82] Number of files to diarize: 1\n",
      "[NeMo I 2022-07-25 20:53:05 clustering_diarizer:271] Subsegmentation for embedding extraction: scale0, /home/DATA/amit_kesari/SD1/NeMo-ASR_Diar/data/voxconverse/speaker_outputs/subsegments_scale0.json\n",
      "[NeMo I 2022-07-25 20:53:05 clustering_diarizer:325] Extracting embeddings for Diarization\n",
      "[NeMo I 2022-07-25 20:53:05 collections:289] Filtered duration for loading collection is 0.000000.\n",
      "[NeMo I 2022-07-25 20:53:05 collections:293] # 228 files loaded accounting to # 1 labels\n"
     ]
    },
    {
     "name": "stderr",
     "output_type": "stream",
     "text": [
      "100%|██████████| 4/4 [00:00<00:00,  4.13it/s]\n",
      "100%|██████████| 1/1 [00:05<00:00,  5.84s/it]"
     ]
    },
    {
     "name": "stdout",
     "output_type": "stream",
     "text": [
      "[NeMo I 2022-07-25 20:53:12 speaker_utils:460] Cumulative Results for collar 0.25 sec and ignore_overlap True: \n",
      "     FA: 0.0155\t MISS 0.2358\t                 Diarization ER: 0.6865\t, Confusion ER:0.4352\n",
      "[NeMo I 2022-07-25 20:53:12 clustering_diarizer:444] Outputs are saved in /home/DATA/amit_kesari/SD1/NeMo-ASR_Diar/data/voxconverse directory\n",
      "\n",
      "\n",
      "Diar score:  (<pyannote.metrics.diarization.DiarizationErrorRate object at 0x7fa0501356d0>, {'fpfvy': {'speaker_0': 'spk01', 'speaker_1': 'spk00', 'speaker_10': 'spk07', 'speaker_2': 'spk06', 'speaker_3': 'spk09', 'speaker_4': 'spk10', 'speaker_6': 'spk02', 'speaker_7': 'spk08', 'speaker_8': 'spk04'}})\n",
      "Diarization error rate (DER) = 70.7%\n",
      "\n",
      "\n",
      "voxconverse_label:  fqrnu\n",
      "num_speakers:  4\n",
      "[NeMo I 2022-07-25 20:53:12 speaker_utils:82] Number of files to diarize: 1\n",
      "[NeMo I 2022-07-25 20:53:12 cloud:56] Found existing object /root/.cache/torch/NeMo/NeMo_1.10.0/QuartzNet15x5Base-En/2b066be39e9294d7100fb176ec817722/QuartzNet15x5Base-En.nemo.\n",
      "[NeMo I 2022-07-25 20:53:12 cloud:62] Re-using file from: /root/.cache/torch/NeMo/NeMo_1.10.0/QuartzNet15x5Base-En/2b066be39e9294d7100fb176ec817722/QuartzNet15x5Base-En.nemo\n",
      "[NeMo I 2022-07-25 20:53:12 common:789] Instantiating model from pre-trained checkpoint\n"
     ]
    },
    {
     "name": "stderr",
     "output_type": "stream",
     "text": [
      "\n"
     ]
    },
    {
     "name": "stdout",
     "output_type": "stream",
     "text": [
      "[NeMo I 2022-07-25 20:53:13 features:200] PADDING: 16\n",
      "[NeMo I 2022-07-25 20:53:14 save_restore_connector:243] Model EncDecCTCModel was successfully restored from /root/.cache/torch/NeMo/NeMo_1.10.0/QuartzNet15x5Base-En/2b066be39e9294d7100fb176ec817722/QuartzNet15x5Base-En.nemo.\n"
     ]
    },
    {
     "data": {
      "application/vnd.jupyter.widget-view+json": {
       "model_id": "b0ca31a9cbb64ba99c0e0bdb2cd89ec0",
       "version_major": 2,
       "version_minor": 0
      },
      "text/plain": [
       "Transcribing:   0%|          | 0/1 [00:00<?, ?it/s]"
      ]
     },
     "metadata": {},
     "output_type": "display_data"
    },
    {
     "name": "stdout",
     "output_type": "stream",
     "text": [
      "[NeMo I 2022-07-25 20:53:15 speaker_utils:82] Number of files to diarize: 1\n",
      "[NeMo I 2022-07-25 20:53:15 clustering_diarizer:153] Loading pretrained titanet_large model from NGC\n",
      "[NeMo I 2022-07-25 20:53:15 cloud:56] Found existing object /root/.cache/torch/NeMo/NeMo_1.10.0/titanet-l/492c0ab8416139171dc18c21879a9e45/titanet-l.nemo.\n",
      "[NeMo I 2022-07-25 20:53:15 cloud:62] Re-using file from: /root/.cache/torch/NeMo/NeMo_1.10.0/titanet-l/492c0ab8416139171dc18c21879a9e45/titanet-l.nemo\n",
      "[NeMo I 2022-07-25 20:53:15 common:789] Instantiating model from pre-trained checkpoint\n"
     ]
    },
    {
     "name": "stderr",
     "output_type": "stream",
     "text": [
      "[NeMo W 2022-07-25 20:53:16 modelPT:148] If you intend to do training or fine-tuning, please call the ModelPT.setup_training_data() method and provide a valid configuration file to setup the train data loader.\n",
      "    Train config : \n",
      "    manifest_filepath: /manifests/combined_fisher_swbd_voxceleb12_librispeech/train.json\n",
      "    sample_rate: 16000\n",
      "    labels: null\n",
      "    batch_size: 64\n",
      "    shuffle: true\n",
      "    time_length: 3\n",
      "    is_tarred: false\n",
      "    tarred_audio_filepaths: null\n",
      "    tarred_shard_strategy: scatter\n",
      "    augmentor:\n",
      "      noise:\n",
      "        manifest_path: /manifests/noise/rir_noise_manifest.json\n",
      "        prob: 0.5\n",
      "        min_snr_db: 0\n",
      "        max_snr_db: 15\n",
      "      speed:\n",
      "        prob: 0.5\n",
      "        sr: 16000\n",
      "        resample_type: kaiser_fast\n",
      "        min_speed_rate: 0.95\n",
      "        max_speed_rate: 1.05\n",
      "    num_workers: 15\n",
      "    pin_memory: true\n",
      "    \n",
      "[NeMo W 2022-07-25 20:53:16 modelPT:155] If you intend to do validation, please call the ModelPT.setup_validation_data() or ModelPT.setup_multiple_validation_data() method and provide a valid configuration file to setup the validation data loader(s). \n",
      "    Validation config : \n",
      "    manifest_filepath: /manifests/combined_fisher_swbd_voxceleb12_librispeech/dev.json\n",
      "    sample_rate: 16000\n",
      "    labels: null\n",
      "    batch_size: 128\n",
      "    shuffle: false\n",
      "    time_length: 3\n",
      "    num_workers: 15\n",
      "    pin_memory: true\n",
      "    \n"
     ]
    },
    {
     "name": "stdout",
     "output_type": "stream",
     "text": [
      "[NeMo I 2022-07-25 20:53:16 features:200] PADDING: 16\n",
      "[NeMo I 2022-07-25 20:53:17 label_models:100] loss is Angular Softmax\n",
      "[NeMo I 2022-07-25 20:53:17 save_restore_connector:243] Model EncDecSpeakerLabelModel was successfully restored from /root/.cache/torch/NeMo/NeMo_1.10.0/titanet-l/492c0ab8416139171dc18c21879a9e45/titanet-l.nemo.\n",
      "[NeMo I 2022-07-25 20:53:17 speaker_utils:82] Number of files to diarize: 1\n",
      "[NeMo I 2022-07-25 20:53:17 clustering_diarizer:271] Subsegmentation for embedding extraction: scale0, /home/DATA/amit_kesari/SD1/NeMo-ASR_Diar/data/voxconverse/speaker_outputs/subsegments_scale0.json\n",
      "[NeMo I 2022-07-25 20:53:17 clustering_diarizer:325] Extracting embeddings for Diarization\n",
      "[NeMo I 2022-07-25 20:53:17 collections:289] Filtered duration for loading collection is 0.000000.\n",
      "[NeMo I 2022-07-25 20:53:17 collections:293] # 294 files loaded accounting to # 1 labels\n"
     ]
    },
    {
     "name": "stderr",
     "output_type": "stream",
     "text": [
      "100%|██████████| 5/5 [00:01<00:00,  4.29it/s]\n",
      "100%|██████████| 1/1 [00:08<00:00,  8.87s/it]"
     ]
    },
    {
     "name": "stdout",
     "output_type": "stream",
     "text": [
      "[NeMo I 2022-07-25 20:53:27 speaker_utils:460] Cumulative Results for collar 0.25 sec and ignore_overlap True: \n",
      "     FA: 0.0137\t MISS 0.2292\t                 Diarization ER: 0.3623\t, Confusion ER:0.1194\n",
      "[NeMo I 2022-07-25 20:53:27 clustering_diarizer:444] Outputs are saved in /home/DATA/amit_kesari/SD1/NeMo-ASR_Diar/data/voxconverse directory\n"
     ]
    },
    {
     "name": "stderr",
     "output_type": "stream",
     "text": [
      "\n"
     ]
    },
    {
     "name": "stdout",
     "output_type": "stream",
     "text": [
      "\n",
      "\n",
      "Diar score:  (<pyannote.metrics.diarization.DiarizationErrorRate object at 0x7fa06deec490>, {'fqrnu': {'speaker_0': 'spk02', 'speaker_1': 'spk01', 'speaker_2': 'spk00', 'speaker_3': 'spk03'}})\n",
      "Diarization error rate (DER) = 40.7%\n",
      "\n",
      "\n",
      "voxconverse_label:  fuzfh\n",
      "num_speakers:  3\n",
      "[NeMo I 2022-07-25 20:53:28 speaker_utils:82] Number of files to diarize: 1\n",
      "[NeMo I 2022-07-25 20:53:28 cloud:56] Found existing object /root/.cache/torch/NeMo/NeMo_1.10.0/QuartzNet15x5Base-En/2b066be39e9294d7100fb176ec817722/QuartzNet15x5Base-En.nemo.\n",
      "[NeMo I 2022-07-25 20:53:28 cloud:62] Re-using file from: /root/.cache/torch/NeMo/NeMo_1.10.0/QuartzNet15x5Base-En/2b066be39e9294d7100fb176ec817722/QuartzNet15x5Base-En.nemo\n",
      "[NeMo I 2022-07-25 20:53:28 common:789] Instantiating model from pre-trained checkpoint\n",
      "[NeMo I 2022-07-25 20:53:28 features:200] PADDING: 16\n",
      "[NeMo I 2022-07-25 20:53:30 save_restore_connector:243] Model EncDecCTCModel was successfully restored from /root/.cache/torch/NeMo/NeMo_1.10.0/QuartzNet15x5Base-En/2b066be39e9294d7100fb176ec817722/QuartzNet15x5Base-En.nemo.\n"
     ]
    },
    {
     "data": {
      "application/vnd.jupyter.widget-view+json": {
       "model_id": "1eac4aa2ec1a41cba06ff2508d2c22c2",
       "version_major": 2,
       "version_minor": 0
      },
      "text/plain": [
       "Transcribing:   0%|          | 0/1 [00:00<?, ?it/s]"
      ]
     },
     "metadata": {},
     "output_type": "display_data"
    },
    {
     "name": "stdout",
     "output_type": "stream",
     "text": [
      "[NeMo I 2022-07-25 20:53:30 speaker_utils:82] Number of files to diarize: 1\n",
      "[NeMo I 2022-07-25 20:53:30 clustering_diarizer:153] Loading pretrained titanet_large model from NGC\n",
      "[NeMo I 2022-07-25 20:53:30 cloud:56] Found existing object /root/.cache/torch/NeMo/NeMo_1.10.0/titanet-l/492c0ab8416139171dc18c21879a9e45/titanet-l.nemo.\n",
      "[NeMo I 2022-07-25 20:53:30 cloud:62] Re-using file from: /root/.cache/torch/NeMo/NeMo_1.10.0/titanet-l/492c0ab8416139171dc18c21879a9e45/titanet-l.nemo\n",
      "[NeMo I 2022-07-25 20:53:30 common:789] Instantiating model from pre-trained checkpoint\n"
     ]
    },
    {
     "name": "stderr",
     "output_type": "stream",
     "text": [
      "[NeMo W 2022-07-25 20:53:31 modelPT:148] If you intend to do training or fine-tuning, please call the ModelPT.setup_training_data() method and provide a valid configuration file to setup the train data loader.\n",
      "    Train config : \n",
      "    manifest_filepath: /manifests/combined_fisher_swbd_voxceleb12_librispeech/train.json\n",
      "    sample_rate: 16000\n",
      "    labels: null\n",
      "    batch_size: 64\n",
      "    shuffle: true\n",
      "    time_length: 3\n",
      "    is_tarred: false\n",
      "    tarred_audio_filepaths: null\n",
      "    tarred_shard_strategy: scatter\n",
      "    augmentor:\n",
      "      noise:\n",
      "        manifest_path: /manifests/noise/rir_noise_manifest.json\n",
      "        prob: 0.5\n",
      "        min_snr_db: 0\n",
      "        max_snr_db: 15\n",
      "      speed:\n",
      "        prob: 0.5\n",
      "        sr: 16000\n",
      "        resample_type: kaiser_fast\n",
      "        min_speed_rate: 0.95\n",
      "        max_speed_rate: 1.05\n",
      "    num_workers: 15\n",
      "    pin_memory: true\n",
      "    \n",
      "[NeMo W 2022-07-25 20:53:31 modelPT:155] If you intend to do validation, please call the ModelPT.setup_validation_data() or ModelPT.setup_multiple_validation_data() method and provide a valid configuration file to setup the validation data loader(s). \n",
      "    Validation config : \n",
      "    manifest_filepath: /manifests/combined_fisher_swbd_voxceleb12_librispeech/dev.json\n",
      "    sample_rate: 16000\n",
      "    labels: null\n",
      "    batch_size: 128\n",
      "    shuffle: false\n",
      "    time_length: 3\n",
      "    num_workers: 15\n",
      "    pin_memory: true\n",
      "    \n"
     ]
    },
    {
     "name": "stdout",
     "output_type": "stream",
     "text": [
      "[NeMo I 2022-07-25 20:53:31 features:200] PADDING: 16\n",
      "[NeMo I 2022-07-25 20:53:31 label_models:100] loss is Angular Softmax\n",
      "[NeMo I 2022-07-25 20:53:31 save_restore_connector:243] Model EncDecSpeakerLabelModel was successfully restored from /root/.cache/torch/NeMo/NeMo_1.10.0/titanet-l/492c0ab8416139171dc18c21879a9e45/titanet-l.nemo.\n",
      "[NeMo I 2022-07-25 20:53:31 speaker_utils:82] Number of files to diarize: 1\n",
      "[NeMo I 2022-07-25 20:53:31 clustering_diarizer:271] Subsegmentation for embedding extraction: scale0, /home/DATA/amit_kesari/SD1/NeMo-ASR_Diar/data/voxconverse/speaker_outputs/subsegments_scale0.json\n",
      "[NeMo I 2022-07-25 20:53:31 clustering_diarizer:325] Extracting embeddings for Diarization\n",
      "[NeMo I 2022-07-25 20:53:31 collections:289] Filtered duration for loading collection is 0.000000.\n",
      "[NeMo I 2022-07-25 20:53:31 collections:293] # 40 files loaded accounting to # 1 labels\n"
     ]
    },
    {
     "name": "stderr",
     "output_type": "stream",
     "text": [
      "100%|██████████| 1/1 [00:00<00:00,  2.36it/s]\n",
      "100%|██████████| 1/1 [00:00<00:00,  2.42it/s]"
     ]
    },
    {
     "name": "stdout",
     "output_type": "stream",
     "text": [
      "[NeMo I 2022-07-25 20:53:32 speaker_utils:460] Cumulative Results for collar 0.25 sec and ignore_overlap True: \n",
      "     FA: 0.0050\t MISS 0.1324\t                 Diarization ER: 0.1949\t, Confusion ER:0.0575\n",
      "[NeMo I 2022-07-25 20:53:32 clustering_diarizer:444] Outputs are saved in /home/DATA/amit_kesari/SD1/NeMo-ASR_Diar/data/voxconverse directory\n",
      "\n",
      "\n",
      "Diar score:  (<pyannote.metrics.diarization.DiarizationErrorRate object at 0x7fa068aff760>, {'fuzfh': {'speaker_0': 'spk00', 'speaker_1': 'spk02'}})\n",
      "Diarization error rate (DER) = 26.8%\n",
      "\n",
      "\n",
      "voxconverse_label:  fvhrk\n",
      "num_speakers:  4\n",
      "[NeMo I 2022-07-25 20:53:32 speaker_utils:82] Number of files to diarize: 1\n",
      "[NeMo I 2022-07-25 20:53:32 cloud:56] Found existing object /root/.cache/torch/NeMo/NeMo_1.10.0/QuartzNet15x5Base-En/2b066be39e9294d7100fb176ec817722/QuartzNet15x5Base-En.nemo.\n",
      "[NeMo I 2022-07-25 20:53:32 cloud:62] Re-using file from: /root/.cache/torch/NeMo/NeMo_1.10.0/QuartzNet15x5Base-En/2b066be39e9294d7100fb176ec817722/QuartzNet15x5Base-En.nemo\n",
      "[NeMo I 2022-07-25 20:53:32 common:789] Instantiating model from pre-trained checkpoint\n"
     ]
    },
    {
     "name": "stderr",
     "output_type": "stream",
     "text": [
      "\n"
     ]
    },
    {
     "name": "stdout",
     "output_type": "stream",
     "text": [
      "[NeMo I 2022-07-25 20:53:33 features:200] PADDING: 16\n",
      "[NeMo I 2022-07-25 20:53:34 save_restore_connector:243] Model EncDecCTCModel was successfully restored from /root/.cache/torch/NeMo/NeMo_1.10.0/QuartzNet15x5Base-En/2b066be39e9294d7100fb176ec817722/QuartzNet15x5Base-En.nemo.\n"
     ]
    },
    {
     "data": {
      "application/vnd.jupyter.widget-view+json": {
       "model_id": "482c94f9d82643eda5e753d71320d6a5",
       "version_major": 2,
       "version_minor": 0
      },
      "text/plain": [
       "Transcribing:   0%|          | 0/1 [00:00<?, ?it/s]"
      ]
     },
     "metadata": {},
     "output_type": "display_data"
    },
    {
     "name": "stdout",
     "output_type": "stream",
     "text": [
      "[NeMo I 2022-07-25 20:53:36 speaker_utils:82] Number of files to diarize: 1\n",
      "[NeMo I 2022-07-25 20:53:37 clustering_diarizer:153] Loading pretrained titanet_large model from NGC\n",
      "[NeMo I 2022-07-25 20:53:37 cloud:56] Found existing object /root/.cache/torch/NeMo/NeMo_1.10.0/titanet-l/492c0ab8416139171dc18c21879a9e45/titanet-l.nemo.\n",
      "[NeMo I 2022-07-25 20:53:37 cloud:62] Re-using file from: /root/.cache/torch/NeMo/NeMo_1.10.0/titanet-l/492c0ab8416139171dc18c21879a9e45/titanet-l.nemo\n",
      "[NeMo I 2022-07-25 20:53:37 common:789] Instantiating model from pre-trained checkpoint\n"
     ]
    },
    {
     "name": "stderr",
     "output_type": "stream",
     "text": [
      "[NeMo W 2022-07-25 20:53:37 modelPT:148] If you intend to do training or fine-tuning, please call the ModelPT.setup_training_data() method and provide a valid configuration file to setup the train data loader.\n",
      "    Train config : \n",
      "    manifest_filepath: /manifests/combined_fisher_swbd_voxceleb12_librispeech/train.json\n",
      "    sample_rate: 16000\n",
      "    labels: null\n",
      "    batch_size: 64\n",
      "    shuffle: true\n",
      "    time_length: 3\n",
      "    is_tarred: false\n",
      "    tarred_audio_filepaths: null\n",
      "    tarred_shard_strategy: scatter\n",
      "    augmentor:\n",
      "      noise:\n",
      "        manifest_path: /manifests/noise/rir_noise_manifest.json\n",
      "        prob: 0.5\n",
      "        min_snr_db: 0\n",
      "        max_snr_db: 15\n",
      "      speed:\n",
      "        prob: 0.5\n",
      "        sr: 16000\n",
      "        resample_type: kaiser_fast\n",
      "        min_speed_rate: 0.95\n",
      "        max_speed_rate: 1.05\n",
      "    num_workers: 15\n",
      "    pin_memory: true\n",
      "    \n",
      "[NeMo W 2022-07-25 20:53:37 modelPT:155] If you intend to do validation, please call the ModelPT.setup_validation_data() or ModelPT.setup_multiple_validation_data() method and provide a valid configuration file to setup the validation data loader(s). \n",
      "    Validation config : \n",
      "    manifest_filepath: /manifests/combined_fisher_swbd_voxceleb12_librispeech/dev.json\n",
      "    sample_rate: 16000\n",
      "    labels: null\n",
      "    batch_size: 128\n",
      "    shuffle: false\n",
      "    time_length: 3\n",
      "    num_workers: 15\n",
      "    pin_memory: true\n",
      "    \n"
     ]
    },
    {
     "name": "stdout",
     "output_type": "stream",
     "text": [
      "[NeMo I 2022-07-25 20:53:37 features:200] PADDING: 16\n",
      "[NeMo I 2022-07-25 20:53:38 label_models:100] loss is Angular Softmax\n",
      "[NeMo I 2022-07-25 20:53:38 save_restore_connector:243] Model EncDecSpeakerLabelModel was successfully restored from /root/.cache/torch/NeMo/NeMo_1.10.0/titanet-l/492c0ab8416139171dc18c21879a9e45/titanet-l.nemo.\n",
      "[NeMo I 2022-07-25 20:53:38 speaker_utils:82] Number of files to diarize: 1\n",
      "[NeMo I 2022-07-25 20:53:38 clustering_diarizer:271] Subsegmentation for embedding extraction: scale0, /home/DATA/amit_kesari/SD1/NeMo-ASR_Diar/data/voxconverse/speaker_outputs/subsegments_scale0.json\n",
      "[NeMo I 2022-07-25 20:53:39 clustering_diarizer:325] Extracting embeddings for Diarization\n",
      "[NeMo I 2022-07-25 20:53:39 collections:289] Filtered duration for loading collection is 0.000000.\n",
      "[NeMo I 2022-07-25 20:53:39 collections:293] # 2145 files loaded accounting to # 1 labels\n"
     ]
    },
    {
     "name": "stderr",
     "output_type": "stream",
     "text": [
      "100%|██████████| 34/34 [00:06<00:00,  5.53it/s]\n",
      "100%|██████████| 1/1 [00:09<00:00,  9.39s/it]\n"
     ]
    },
    {
     "name": "stdout",
     "output_type": "stream",
     "text": [
      "[NeMo I 2022-07-25 20:53:58 speaker_utils:460] Cumulative Results for collar 0.25 sec and ignore_overlap True: \n",
      "     FA: 0.0257\t MISS 0.2061\t                 Diarization ER: 0.2741\t, Confusion ER:0.0424\n",
      "[NeMo I 2022-07-25 20:53:58 clustering_diarizer:444] Outputs are saved in /home/DATA/amit_kesari/SD1/NeMo-ASR_Diar/data/voxconverse directory\n",
      "\n",
      "\n",
      "Diar score:  (<pyannote.metrics.diarization.DiarizationErrorRate object at 0x7fa157c68d90>, {'fvhrk': {'speaker_0': 'spk02', 'speaker_1': 'spk01', 'speaker_2': 'spk00', 'speaker_3': 'spk03'}})\n",
      "Diarization error rate (DER) = 29.8%\n",
      "\n",
      "\n",
      "voxconverse_label:  fxnwf\n",
      "num_speakers:  3\n",
      "[NeMo I 2022-07-25 20:54:02 speaker_utils:82] Number of files to diarize: 1\n",
      "[NeMo I 2022-07-25 20:54:02 cloud:56] Found existing object /root/.cache/torch/NeMo/NeMo_1.10.0/QuartzNet15x5Base-En/2b066be39e9294d7100fb176ec817722/QuartzNet15x5Base-En.nemo.\n",
      "[NeMo I 2022-07-25 20:54:02 cloud:62] Re-using file from: /root/.cache/torch/NeMo/NeMo_1.10.0/QuartzNet15x5Base-En/2b066be39e9294d7100fb176ec817722/QuartzNet15x5Base-En.nemo\n",
      "[NeMo I 2022-07-25 20:54:02 common:789] Instantiating model from pre-trained checkpoint\n",
      "[NeMo I 2022-07-25 20:54:02 features:200] PADDING: 16\n",
      "[NeMo I 2022-07-25 20:54:04 save_restore_connector:243] Model EncDecCTCModel was successfully restored from /root/.cache/torch/NeMo/NeMo_1.10.0/QuartzNet15x5Base-En/2b066be39e9294d7100fb176ec817722/QuartzNet15x5Base-En.nemo.\n"
     ]
    },
    {
     "data": {
      "application/vnd.jupyter.widget-view+json": {
       "model_id": "4abcc01a3f1f47499604b0ab8f3b9f4a",
       "version_major": 2,
       "version_minor": 0
      },
      "text/plain": [
       "Transcribing:   0%|          | 0/1 [00:00<?, ?it/s]"
      ]
     },
     "metadata": {},
     "output_type": "display_data"
    },
    {
     "name": "stdout",
     "output_type": "stream",
     "text": [
      "[NeMo I 2022-07-25 20:54:05 speaker_utils:82] Number of files to diarize: 1\n",
      "[NeMo I 2022-07-25 20:54:05 clustering_diarizer:153] Loading pretrained titanet_large model from NGC\n",
      "[NeMo I 2022-07-25 20:54:05 cloud:56] Found existing object /root/.cache/torch/NeMo/NeMo_1.10.0/titanet-l/492c0ab8416139171dc18c21879a9e45/titanet-l.nemo.\n",
      "[NeMo I 2022-07-25 20:54:05 cloud:62] Re-using file from: /root/.cache/torch/NeMo/NeMo_1.10.0/titanet-l/492c0ab8416139171dc18c21879a9e45/titanet-l.nemo\n",
      "[NeMo I 2022-07-25 20:54:05 common:789] Instantiating model from pre-trained checkpoint\n"
     ]
    },
    {
     "name": "stderr",
     "output_type": "stream",
     "text": [
      "[NeMo W 2022-07-25 20:54:06 modelPT:148] If you intend to do training or fine-tuning, please call the ModelPT.setup_training_data() method and provide a valid configuration file to setup the train data loader.\n",
      "    Train config : \n",
      "    manifest_filepath: /manifests/combined_fisher_swbd_voxceleb12_librispeech/train.json\n",
      "    sample_rate: 16000\n",
      "    labels: null\n",
      "    batch_size: 64\n",
      "    shuffle: true\n",
      "    time_length: 3\n",
      "    is_tarred: false\n",
      "    tarred_audio_filepaths: null\n",
      "    tarred_shard_strategy: scatter\n",
      "    augmentor:\n",
      "      noise:\n",
      "        manifest_path: /manifests/noise/rir_noise_manifest.json\n",
      "        prob: 0.5\n",
      "        min_snr_db: 0\n",
      "        max_snr_db: 15\n",
      "      speed:\n",
      "        prob: 0.5\n",
      "        sr: 16000\n",
      "        resample_type: kaiser_fast\n",
      "        min_speed_rate: 0.95\n",
      "        max_speed_rate: 1.05\n",
      "    num_workers: 15\n",
      "    pin_memory: true\n",
      "    \n",
      "[NeMo W 2022-07-25 20:54:06 modelPT:155] If you intend to do validation, please call the ModelPT.setup_validation_data() or ModelPT.setup_multiple_validation_data() method and provide a valid configuration file to setup the validation data loader(s). \n",
      "    Validation config : \n",
      "    manifest_filepath: /manifests/combined_fisher_swbd_voxceleb12_librispeech/dev.json\n",
      "    sample_rate: 16000\n",
      "    labels: null\n",
      "    batch_size: 128\n",
      "    shuffle: false\n",
      "    time_length: 3\n",
      "    num_workers: 15\n",
      "    pin_memory: true\n",
      "    \n"
     ]
    },
    {
     "name": "stdout",
     "output_type": "stream",
     "text": [
      "[NeMo I 2022-07-25 20:54:06 features:200] PADDING: 16\n",
      "[NeMo I 2022-07-25 20:54:06 label_models:100] loss is Angular Softmax\n",
      "[NeMo I 2022-07-25 20:54:07 save_restore_connector:243] Model EncDecSpeakerLabelModel was successfully restored from /root/.cache/torch/NeMo/NeMo_1.10.0/titanet-l/492c0ab8416139171dc18c21879a9e45/titanet-l.nemo.\n",
      "[NeMo I 2022-07-25 20:54:07 speaker_utils:82] Number of files to diarize: 1\n",
      "[NeMo I 2022-07-25 20:54:07 clustering_diarizer:271] Subsegmentation for embedding extraction: scale0, /home/DATA/amit_kesari/SD1/NeMo-ASR_Diar/data/voxconverse/speaker_outputs/subsegments_scale0.json\n",
      "[NeMo I 2022-07-25 20:54:07 clustering_diarizer:325] Extracting embeddings for Diarization\n",
      "[NeMo I 2022-07-25 20:54:07 collections:289] Filtered duration for loading collection is 0.000000.\n",
      "[NeMo I 2022-07-25 20:54:07 collections:293] # 615 files loaded accounting to # 1 labels\n"
     ]
    },
    {
     "name": "stderr",
     "output_type": "stream",
     "text": [
      "100%|██████████| 10/10 [00:02<00:00,  4.93it/s]\n",
      "100%|██████████| 1/1 [00:08<00:00,  8.61s/it]\n"
     ]
    },
    {
     "name": "stdout",
     "output_type": "stream",
     "text": [
      "[NeMo I 2022-07-25 20:54:18 speaker_utils:460] Cumulative Results for collar 0.25 sec and ignore_overlap True: \n",
      "     FA: 0.4178\t MISS 0.2155\t                 Diarization ER: 0.7010\t, Confusion ER:0.0677\n",
      "[NeMo I 2022-07-25 20:54:18 clustering_diarizer:444] Outputs are saved in /home/DATA/amit_kesari/SD1/NeMo-ASR_Diar/data/voxconverse directory\n",
      "\n",
      "\n",
      "Diar score:  (<pyannote.metrics.diarization.DiarizationErrorRate object at 0x7fa157cb8d60>, {'fxnwf': {'speaker_0': 'spk00', 'speaker_1': 'spk01', 'speaker_2': 'spk02'}})\n",
      "Diarization error rate (DER) = 68.4%\n",
      "\n",
      "\n",
      "voxconverse_label:  fyqoe\n",
      "num_speakers:  3\n",
      "[NeMo I 2022-07-25 20:54:18 speaker_utils:82] Number of files to diarize: 1\n",
      "[NeMo I 2022-07-25 20:54:18 cloud:56] Found existing object /root/.cache/torch/NeMo/NeMo_1.10.0/QuartzNet15x5Base-En/2b066be39e9294d7100fb176ec817722/QuartzNet15x5Base-En.nemo.\n",
      "[NeMo I 2022-07-25 20:54:18 cloud:62] Re-using file from: /root/.cache/torch/NeMo/NeMo_1.10.0/QuartzNet15x5Base-En/2b066be39e9294d7100fb176ec817722/QuartzNet15x5Base-En.nemo\n",
      "[NeMo I 2022-07-25 20:54:18 common:789] Instantiating model from pre-trained checkpoint\n",
      "[NeMo I 2022-07-25 20:54:19 features:200] PADDING: 16\n",
      "[NeMo I 2022-07-25 20:54:21 save_restore_connector:243] Model EncDecCTCModel was successfully restored from /root/.cache/torch/NeMo/NeMo_1.10.0/QuartzNet15x5Base-En/2b066be39e9294d7100fb176ec817722/QuartzNet15x5Base-En.nemo.\n"
     ]
    },
    {
     "data": {
      "application/vnd.jupyter.widget-view+json": {
       "model_id": "68865d8a9b88400094469f75832640a8",
       "version_major": 2,
       "version_minor": 0
      },
      "text/plain": [
       "Transcribing:   0%|          | 0/1 [00:00<?, ?it/s]"
      ]
     },
     "metadata": {},
     "output_type": "display_data"
    },
    {
     "name": "stdout",
     "output_type": "stream",
     "text": [
      "[NeMo I 2022-07-25 20:54:21 speaker_utils:82] Number of files to diarize: 1\n",
      "[NeMo I 2022-07-25 20:54:21 clustering_diarizer:153] Loading pretrained titanet_large model from NGC\n",
      "[NeMo I 2022-07-25 20:54:21 cloud:56] Found existing object /root/.cache/torch/NeMo/NeMo_1.10.0/titanet-l/492c0ab8416139171dc18c21879a9e45/titanet-l.nemo.\n",
      "[NeMo I 2022-07-25 20:54:21 cloud:62] Re-using file from: /root/.cache/torch/NeMo/NeMo_1.10.0/titanet-l/492c0ab8416139171dc18c21879a9e45/titanet-l.nemo\n",
      "[NeMo I 2022-07-25 20:54:21 common:789] Instantiating model from pre-trained checkpoint\n"
     ]
    },
    {
     "name": "stderr",
     "output_type": "stream",
     "text": [
      "[NeMo W 2022-07-25 20:54:22 modelPT:148] If you intend to do training or fine-tuning, please call the ModelPT.setup_training_data() method and provide a valid configuration file to setup the train data loader.\n",
      "    Train config : \n",
      "    manifest_filepath: /manifests/combined_fisher_swbd_voxceleb12_librispeech/train.json\n",
      "    sample_rate: 16000\n",
      "    labels: null\n",
      "    batch_size: 64\n",
      "    shuffle: true\n",
      "    time_length: 3\n",
      "    is_tarred: false\n",
      "    tarred_audio_filepaths: null\n",
      "    tarred_shard_strategy: scatter\n",
      "    augmentor:\n",
      "      noise:\n",
      "        manifest_path: /manifests/noise/rir_noise_manifest.json\n",
      "        prob: 0.5\n",
      "        min_snr_db: 0\n",
      "        max_snr_db: 15\n",
      "      speed:\n",
      "        prob: 0.5\n",
      "        sr: 16000\n",
      "        resample_type: kaiser_fast\n",
      "        min_speed_rate: 0.95\n",
      "        max_speed_rate: 1.05\n",
      "    num_workers: 15\n",
      "    pin_memory: true\n",
      "    \n",
      "[NeMo W 2022-07-25 20:54:22 modelPT:155] If you intend to do validation, please call the ModelPT.setup_validation_data() or ModelPT.setup_multiple_validation_data() method and provide a valid configuration file to setup the validation data loader(s). \n",
      "    Validation config : \n",
      "    manifest_filepath: /manifests/combined_fisher_swbd_voxceleb12_librispeech/dev.json\n",
      "    sample_rate: 16000\n",
      "    labels: null\n",
      "    batch_size: 128\n",
      "    shuffle: false\n",
      "    time_length: 3\n",
      "    num_workers: 15\n",
      "    pin_memory: true\n",
      "    \n"
     ]
    },
    {
     "name": "stdout",
     "output_type": "stream",
     "text": [
      "[NeMo I 2022-07-25 20:54:22 features:200] PADDING: 16\n",
      "[NeMo I 2022-07-25 20:54:23 label_models:100] loss is Angular Softmax\n",
      "[NeMo I 2022-07-25 20:54:23 save_restore_connector:243] Model EncDecSpeakerLabelModel was successfully restored from /root/.cache/torch/NeMo/NeMo_1.10.0/titanet-l/492c0ab8416139171dc18c21879a9e45/titanet-l.nemo.\n",
      "[NeMo I 2022-07-25 20:54:23 speaker_utils:82] Number of files to diarize: 1\n",
      "[NeMo I 2022-07-25 20:54:23 clustering_diarizer:271] Subsegmentation for embedding extraction: scale0, /home/DATA/amit_kesari/SD1/NeMo-ASR_Diar/data/voxconverse/speaker_outputs/subsegments_scale0.json\n",
      "[NeMo I 2022-07-25 20:54:23 clustering_diarizer:325] Extracting embeddings for Diarization\n",
      "[NeMo I 2022-07-25 20:54:23 collections:289] Filtered duration for loading collection is 0.000000.\n",
      "[NeMo I 2022-07-25 20:54:23 collections:293] # 484 files loaded accounting to # 1 labels\n"
     ]
    },
    {
     "name": "stderr",
     "output_type": "stream",
     "text": [
      "100%|██████████| 8/8 [00:01<00:00,  5.11it/s]\n",
      "100%|██████████| 1/1 [00:11<00:00, 11.93s/it]\n"
     ]
    },
    {
     "name": "stdout",
     "output_type": "stream",
     "text": [
      "[NeMo I 2022-07-25 20:54:37 speaker_utils:460] Cumulative Results for collar 0.25 sec and ignore_overlap True: \n",
      "     FA: 0.1081\t MISS 0.2257\t                 Diarization ER: 0.5481\t, Confusion ER:0.2144\n",
      "[NeMo I 2022-07-25 20:54:37 clustering_diarizer:444] Outputs are saved in /home/DATA/amit_kesari/SD1/NeMo-ASR_Diar/data/voxconverse directory\n",
      "\n",
      "\n",
      "Diar score:  (<pyannote.metrics.diarization.DiarizationErrorRate object at 0x7fa157b659d0>, {'fyqoe': {'speaker_0': 'spk00', 'speaker_1': 'spk01', 'speaker_2': 'spk02'}})\n",
      "Diarization error rate (DER) = 57.4%\n",
      "\n",
      "\n",
      "voxconverse_label:  fzwtp\n",
      "num_speakers:  11\n",
      "[NeMo I 2022-07-25 20:54:37 speaker_utils:82] Number of files to diarize: 1\n",
      "[NeMo I 2022-07-25 20:54:37 cloud:56] Found existing object /root/.cache/torch/NeMo/NeMo_1.10.0/QuartzNet15x5Base-En/2b066be39e9294d7100fb176ec817722/QuartzNet15x5Base-En.nemo.\n",
      "[NeMo I 2022-07-25 20:54:37 cloud:62] Re-using file from: /root/.cache/torch/NeMo/NeMo_1.10.0/QuartzNet15x5Base-En/2b066be39e9294d7100fb176ec817722/QuartzNet15x5Base-En.nemo\n",
      "[NeMo I 2022-07-25 20:54:37 common:789] Instantiating model from pre-trained checkpoint\n",
      "[NeMo I 2022-07-25 20:54:38 features:200] PADDING: 16\n",
      "[NeMo I 2022-07-25 20:54:40 save_restore_connector:243] Model EncDecCTCModel was successfully restored from /root/.cache/torch/NeMo/NeMo_1.10.0/QuartzNet15x5Base-En/2b066be39e9294d7100fb176ec817722/QuartzNet15x5Base-En.nemo.\n"
     ]
    },
    {
     "data": {
      "application/vnd.jupyter.widget-view+json": {
       "model_id": "4d49175ec2cc4132a2b05585cdb791c5",
       "version_major": 2,
       "version_minor": 0
      },
      "text/plain": [
       "Transcribing:   0%|          | 0/1 [00:00<?, ?it/s]"
      ]
     },
     "metadata": {},
     "output_type": "display_data"
    },
    {
     "name": "stdout",
     "output_type": "stream",
     "text": [
      "[NeMo I 2022-07-25 20:54:40 speaker_utils:82] Number of files to diarize: 1\n",
      "[NeMo I 2022-07-25 20:54:40 clustering_diarizer:153] Loading pretrained titanet_large model from NGC\n",
      "[NeMo I 2022-07-25 20:54:40 cloud:56] Found existing object /root/.cache/torch/NeMo/NeMo_1.10.0/titanet-l/492c0ab8416139171dc18c21879a9e45/titanet-l.nemo.\n",
      "[NeMo I 2022-07-25 20:54:40 cloud:62] Re-using file from: /root/.cache/torch/NeMo/NeMo_1.10.0/titanet-l/492c0ab8416139171dc18c21879a9e45/titanet-l.nemo\n",
      "[NeMo I 2022-07-25 20:54:40 common:789] Instantiating model from pre-trained checkpoint\n"
     ]
    },
    {
     "name": "stderr",
     "output_type": "stream",
     "text": [
      "[NeMo W 2022-07-25 20:54:41 modelPT:148] If you intend to do training or fine-tuning, please call the ModelPT.setup_training_data() method and provide a valid configuration file to setup the train data loader.\n",
      "    Train config : \n",
      "    manifest_filepath: /manifests/combined_fisher_swbd_voxceleb12_librispeech/train.json\n",
      "    sample_rate: 16000\n",
      "    labels: null\n",
      "    batch_size: 64\n",
      "    shuffle: true\n",
      "    time_length: 3\n",
      "    is_tarred: false\n",
      "    tarred_audio_filepaths: null\n",
      "    tarred_shard_strategy: scatter\n",
      "    augmentor:\n",
      "      noise:\n",
      "        manifest_path: /manifests/noise/rir_noise_manifest.json\n",
      "        prob: 0.5\n",
      "        min_snr_db: 0\n",
      "        max_snr_db: 15\n",
      "      speed:\n",
      "        prob: 0.5\n",
      "        sr: 16000\n",
      "        resample_type: kaiser_fast\n",
      "        min_speed_rate: 0.95\n",
      "        max_speed_rate: 1.05\n",
      "    num_workers: 15\n",
      "    pin_memory: true\n",
      "    \n",
      "[NeMo W 2022-07-25 20:54:41 modelPT:155] If you intend to do validation, please call the ModelPT.setup_validation_data() or ModelPT.setup_multiple_validation_data() method and provide a valid configuration file to setup the validation data loader(s). \n",
      "    Validation config : \n",
      "    manifest_filepath: /manifests/combined_fisher_swbd_voxceleb12_librispeech/dev.json\n",
      "    sample_rate: 16000\n",
      "    labels: null\n",
      "    batch_size: 128\n",
      "    shuffle: false\n",
      "    time_length: 3\n",
      "    num_workers: 15\n",
      "    pin_memory: true\n",
      "    \n"
     ]
    },
    {
     "name": "stdout",
     "output_type": "stream",
     "text": [
      "[NeMo I 2022-07-25 20:54:41 features:200] PADDING: 16\n",
      "[NeMo I 2022-07-25 20:54:41 label_models:100] loss is Angular Softmax\n",
      "[NeMo I 2022-07-25 20:54:42 save_restore_connector:243] Model EncDecSpeakerLabelModel was successfully restored from /root/.cache/torch/NeMo/NeMo_1.10.0/titanet-l/492c0ab8416139171dc18c21879a9e45/titanet-l.nemo.\n",
      "[NeMo I 2022-07-25 20:54:43 speaker_utils:82] Number of files to diarize: 1\n",
      "[NeMo I 2022-07-25 20:54:43 clustering_diarizer:271] Subsegmentation for embedding extraction: scale0, /home/DATA/amit_kesari/SD1/NeMo-ASR_Diar/data/voxconverse/speaker_outputs/subsegments_scale0.json\n",
      "[NeMo I 2022-07-25 20:54:43 clustering_diarizer:325] Extracting embeddings for Diarization\n",
      "[NeMo I 2022-07-25 20:54:43 collections:289] Filtered duration for loading collection is 0.000000.\n",
      "[NeMo I 2022-07-25 20:54:43 collections:293] # 436 files loaded accounting to # 1 labels\n"
     ]
    },
    {
     "name": "stderr",
     "output_type": "stream",
     "text": [
      "100%|██████████| 7/7 [00:01<00:00,  4.79it/s]\n",
      "100%|██████████| 1/1 [00:11<00:00, 11.02s/it]\n"
     ]
    },
    {
     "name": "stdout",
     "output_type": "stream",
     "text": [
      "[NeMo I 2022-07-25 20:54:56 speaker_utils:460] Cumulative Results for collar 0.25 sec and ignore_overlap True: \n",
      "     FA: 0.2474\t MISS 0.1637\t                 Diarization ER: 0.6306\t, Confusion ER:0.2194\n",
      "[NeMo I 2022-07-25 20:54:56 clustering_diarizer:444] Outputs are saved in /home/DATA/amit_kesari/SD1/NeMo-ASR_Diar/data/voxconverse directory\n",
      "\n",
      "\n",
      "Diar score:  (<pyannote.metrics.diarization.DiarizationErrorRate object at 0x7fa157c1fb50>, {'fzwtp': {'speaker_0': 'spk10', 'speaker_1': 'spk02', 'speaker_10': 'spk09', 'speaker_2': 'spk03', 'speaker_3': 'spk08', 'speaker_4': 'spk00', 'speaker_5': 'spk01', 'speaker_7': 'spk06', 'speaker_8': 'spk04', 'speaker_9': 'spk05'}})\n",
      "Diarization error rate (DER) = 69.3%\n",
      "\n",
      "\n",
      "voxconverse_label:  gcfwp\n",
      "num_speakers:  8\n",
      "[NeMo I 2022-07-25 20:54:56 speaker_utils:82] Number of files to diarize: 1\n",
      "[NeMo I 2022-07-25 20:54:56 cloud:56] Found existing object /root/.cache/torch/NeMo/NeMo_1.10.0/QuartzNet15x5Base-En/2b066be39e9294d7100fb176ec817722/QuartzNet15x5Base-En.nemo.\n",
      "[NeMo I 2022-07-25 20:54:56 cloud:62] Re-using file from: /root/.cache/torch/NeMo/NeMo_1.10.0/QuartzNet15x5Base-En/2b066be39e9294d7100fb176ec817722/QuartzNet15x5Base-En.nemo\n",
      "[NeMo I 2022-07-25 20:54:56 common:789] Instantiating model from pre-trained checkpoint\n",
      "[NeMo I 2022-07-25 20:54:57 features:200] PADDING: 16\n",
      "[NeMo I 2022-07-25 20:54:59 save_restore_connector:243] Model EncDecCTCModel was successfully restored from /root/.cache/torch/NeMo/NeMo_1.10.0/QuartzNet15x5Base-En/2b066be39e9294d7100fb176ec817722/QuartzNet15x5Base-En.nemo.\n"
     ]
    },
    {
     "data": {
      "application/vnd.jupyter.widget-view+json": {
       "model_id": "d20311e353d44c5aa89e784d02c286e1",
       "version_major": 2,
       "version_minor": 0
      },
      "text/plain": [
       "Transcribing:   0%|          | 0/1 [00:00<?, ?it/s]"
      ]
     },
     "metadata": {},
     "output_type": "display_data"
    },
    {
     "name": "stdout",
     "output_type": "stream",
     "text": [
      "[NeMo I 2022-07-25 20:54:59 speaker_utils:82] Number of files to diarize: 1\n",
      "[NeMo I 2022-07-25 20:54:59 clustering_diarizer:153] Loading pretrained titanet_large model from NGC\n",
      "[NeMo I 2022-07-25 20:54:59 cloud:56] Found existing object /root/.cache/torch/NeMo/NeMo_1.10.0/titanet-l/492c0ab8416139171dc18c21879a9e45/titanet-l.nemo.\n",
      "[NeMo I 2022-07-25 20:54:59 cloud:62] Re-using file from: /root/.cache/torch/NeMo/NeMo_1.10.0/titanet-l/492c0ab8416139171dc18c21879a9e45/titanet-l.nemo\n",
      "[NeMo I 2022-07-25 20:54:59 common:789] Instantiating model from pre-trained checkpoint\n"
     ]
    },
    {
     "name": "stderr",
     "output_type": "stream",
     "text": [
      "[NeMo W 2022-07-25 20:55:00 modelPT:148] If you intend to do training or fine-tuning, please call the ModelPT.setup_training_data() method and provide a valid configuration file to setup the train data loader.\n",
      "    Train config : \n",
      "    manifest_filepath: /manifests/combined_fisher_swbd_voxceleb12_librispeech/train.json\n",
      "    sample_rate: 16000\n",
      "    labels: null\n",
      "    batch_size: 64\n",
      "    shuffle: true\n",
      "    time_length: 3\n",
      "    is_tarred: false\n",
      "    tarred_audio_filepaths: null\n",
      "    tarred_shard_strategy: scatter\n",
      "    augmentor:\n",
      "      noise:\n",
      "        manifest_path: /manifests/noise/rir_noise_manifest.json\n",
      "        prob: 0.5\n",
      "        min_snr_db: 0\n",
      "        max_snr_db: 15\n",
      "      speed:\n",
      "        prob: 0.5\n",
      "        sr: 16000\n",
      "        resample_type: kaiser_fast\n",
      "        min_speed_rate: 0.95\n",
      "        max_speed_rate: 1.05\n",
      "    num_workers: 15\n",
      "    pin_memory: true\n",
      "    \n",
      "[NeMo W 2022-07-25 20:55:00 modelPT:155] If you intend to do validation, please call the ModelPT.setup_validation_data() or ModelPT.setup_multiple_validation_data() method and provide a valid configuration file to setup the validation data loader(s). \n",
      "    Validation config : \n",
      "    manifest_filepath: /manifests/combined_fisher_swbd_voxceleb12_librispeech/dev.json\n",
      "    sample_rate: 16000\n",
      "    labels: null\n",
      "    batch_size: 128\n",
      "    shuffle: false\n",
      "    time_length: 3\n",
      "    num_workers: 15\n",
      "    pin_memory: true\n",
      "    \n"
     ]
    },
    {
     "name": "stdout",
     "output_type": "stream",
     "text": [
      "[NeMo I 2022-07-25 20:55:00 features:200] PADDING: 16\n",
      "[NeMo I 2022-07-25 20:55:00 label_models:100] loss is Angular Softmax\n",
      "[NeMo I 2022-07-25 20:55:01 save_restore_connector:243] Model EncDecSpeakerLabelModel was successfully restored from /root/.cache/torch/NeMo/NeMo_1.10.0/titanet-l/492c0ab8416139171dc18c21879a9e45/titanet-l.nemo.\n",
      "[NeMo I 2022-07-25 20:55:01 speaker_utils:82] Number of files to diarize: 1\n",
      "[NeMo I 2022-07-25 20:55:01 clustering_diarizer:271] Subsegmentation for embedding extraction: scale0, /home/DATA/amit_kesari/SD1/NeMo-ASR_Diar/data/voxconverse/speaker_outputs/subsegments_scale0.json\n",
      "[NeMo I 2022-07-25 20:55:01 clustering_diarizer:325] Extracting embeddings for Diarization\n",
      "[NeMo I 2022-07-25 20:55:01 collections:289] Filtered duration for loading collection is 0.000000.\n",
      "[NeMo I 2022-07-25 20:55:01 collections:293] # 579 files loaded accounting to # 1 labels\n"
     ]
    },
    {
     "name": "stderr",
     "output_type": "stream",
     "text": [
      "100%|██████████| 10/10 [00:01<00:00,  5.20it/s]\n",
      "100%|██████████| 1/1 [00:15<00:00, 15.03s/it]\n"
     ]
    },
    {
     "name": "stdout",
     "output_type": "stream",
     "text": [
      "[NeMo I 2022-07-25 20:55:18 speaker_utils:460] Cumulative Results for collar 0.25 sec and ignore_overlap True: \n",
      "     FA: 0.3125\t MISS 0.1712\t                 Diarization ER: 0.7017\t, Confusion ER:0.2181\n",
      "[NeMo I 2022-07-25 20:55:18 clustering_diarizer:444] Outputs are saved in /home/DATA/amit_kesari/SD1/NeMo-ASR_Diar/data/voxconverse directory\n",
      "\n",
      "\n",
      "Diar score:  (<pyannote.metrics.diarization.DiarizationErrorRate object at 0x7fa157c3f7f0>, {'gcfwp': {'speaker_0': 'spk00', 'speaker_1': 'spk01', 'speaker_2': 'spk04', 'speaker_3': 'spk07', 'speaker_7': 'spk02'}})\n",
      "Diarization error rate (DER) = 75.3%\n",
      "\n",
      "\n",
      "voxconverse_label:  gcvrb\n",
      "num_speakers:  2\n",
      "[NeMo I 2022-07-25 20:55:19 speaker_utils:82] Number of files to diarize: 1\n",
      "[NeMo I 2022-07-25 20:55:19 cloud:56] Found existing object /root/.cache/torch/NeMo/NeMo_1.10.0/QuartzNet15x5Base-En/2b066be39e9294d7100fb176ec817722/QuartzNet15x5Base-En.nemo.\n",
      "[NeMo I 2022-07-25 20:55:19 cloud:62] Re-using file from: /root/.cache/torch/NeMo/NeMo_1.10.0/QuartzNet15x5Base-En/2b066be39e9294d7100fb176ec817722/QuartzNet15x5Base-En.nemo\n",
      "[NeMo I 2022-07-25 20:55:19 common:789] Instantiating model from pre-trained checkpoint\n",
      "[NeMo I 2022-07-25 20:55:19 features:200] PADDING: 16\n",
      "[NeMo I 2022-07-25 20:55:21 save_restore_connector:243] Model EncDecCTCModel was successfully restored from /root/.cache/torch/NeMo/NeMo_1.10.0/QuartzNet15x5Base-En/2b066be39e9294d7100fb176ec817722/QuartzNet15x5Base-En.nemo.\n"
     ]
    },
    {
     "data": {
      "application/vnd.jupyter.widget-view+json": {
       "model_id": "ee574f569ccc4465b4550d2df44aaaf1",
       "version_major": 2,
       "version_minor": 0
      },
      "text/plain": [
       "Transcribing:   0%|          | 0/1 [00:00<?, ?it/s]"
      ]
     },
     "metadata": {},
     "output_type": "display_data"
    },
    {
     "name": "stdout",
     "output_type": "stream",
     "text": [
      "[NeMo I 2022-07-25 20:55:22 speaker_utils:82] Number of files to diarize: 1\n",
      "[NeMo I 2022-07-25 20:55:22 clustering_diarizer:153] Loading pretrained titanet_large model from NGC\n",
      "[NeMo I 2022-07-25 20:55:22 cloud:56] Found existing object /root/.cache/torch/NeMo/NeMo_1.10.0/titanet-l/492c0ab8416139171dc18c21879a9e45/titanet-l.nemo.\n",
      "[NeMo I 2022-07-25 20:55:22 cloud:62] Re-using file from: /root/.cache/torch/NeMo/NeMo_1.10.0/titanet-l/492c0ab8416139171dc18c21879a9e45/titanet-l.nemo\n",
      "[NeMo I 2022-07-25 20:55:22 common:789] Instantiating model from pre-trained checkpoint\n"
     ]
    },
    {
     "name": "stderr",
     "output_type": "stream",
     "text": [
      "[NeMo W 2022-07-25 20:55:23 modelPT:148] If you intend to do training or fine-tuning, please call the ModelPT.setup_training_data() method and provide a valid configuration file to setup the train data loader.\n",
      "    Train config : \n",
      "    manifest_filepath: /manifests/combined_fisher_swbd_voxceleb12_librispeech/train.json\n",
      "    sample_rate: 16000\n",
      "    labels: null\n",
      "    batch_size: 64\n",
      "    shuffle: true\n",
      "    time_length: 3\n",
      "    is_tarred: false\n",
      "    tarred_audio_filepaths: null\n",
      "    tarred_shard_strategy: scatter\n",
      "    augmentor:\n",
      "      noise:\n",
      "        manifest_path: /manifests/noise/rir_noise_manifest.json\n",
      "        prob: 0.5\n",
      "        min_snr_db: 0\n",
      "        max_snr_db: 15\n",
      "      speed:\n",
      "        prob: 0.5\n",
      "        sr: 16000\n",
      "        resample_type: kaiser_fast\n",
      "        min_speed_rate: 0.95\n",
      "        max_speed_rate: 1.05\n",
      "    num_workers: 15\n",
      "    pin_memory: true\n",
      "    \n",
      "[NeMo W 2022-07-25 20:55:23 modelPT:155] If you intend to do validation, please call the ModelPT.setup_validation_data() or ModelPT.setup_multiple_validation_data() method and provide a valid configuration file to setup the validation data loader(s). \n",
      "    Validation config : \n",
      "    manifest_filepath: /manifests/combined_fisher_swbd_voxceleb12_librispeech/dev.json\n",
      "    sample_rate: 16000\n",
      "    labels: null\n",
      "    batch_size: 128\n",
      "    shuffle: false\n",
      "    time_length: 3\n",
      "    num_workers: 15\n",
      "    pin_memory: true\n",
      "    \n"
     ]
    },
    {
     "name": "stdout",
     "output_type": "stream",
     "text": [
      "[NeMo I 2022-07-25 20:55:23 features:200] PADDING: 16\n",
      "[NeMo I 2022-07-25 20:55:24 label_models:100] loss is Angular Softmax\n",
      "[NeMo I 2022-07-25 20:55:24 save_restore_connector:243] Model EncDecSpeakerLabelModel was successfully restored from /root/.cache/torch/NeMo/NeMo_1.10.0/titanet-l/492c0ab8416139171dc18c21879a9e45/titanet-l.nemo.\n",
      "[NeMo I 2022-07-25 20:55:24 speaker_utils:82] Number of files to diarize: 1\n",
      "[NeMo I 2022-07-25 20:55:24 clustering_diarizer:271] Subsegmentation for embedding extraction: scale0, /home/DATA/amit_kesari/SD1/NeMo-ASR_Diar/data/voxconverse/speaker_outputs/subsegments_scale0.json\n",
      "[NeMo I 2022-07-25 20:55:24 clustering_diarizer:325] Extracting embeddings for Diarization\n",
      "[NeMo I 2022-07-25 20:55:24 collections:289] Filtered duration for loading collection is 0.000000.\n",
      "[NeMo I 2022-07-25 20:55:24 collections:293] # 1359 files loaded accounting to # 1 labels\n"
     ]
    },
    {
     "name": "stderr",
     "output_type": "stream",
     "text": [
      "100%|██████████| 22/22 [00:04<00:00,  5.46it/s]\n",
      "100%|██████████| 1/1 [00:09<00:00,  9.57s/it]\n"
     ]
    },
    {
     "name": "stdout",
     "output_type": "stream",
     "text": [
      "[NeMo I 2022-07-25 20:55:38 speaker_utils:460] Cumulative Results for collar 0.25 sec and ignore_overlap True: \n",
      "     FA: 0.0295\t MISS 0.0542\t                 Diarization ER: 0.0900\t, Confusion ER:0.0064\n",
      "[NeMo I 2022-07-25 20:55:38 clustering_diarizer:444] Outputs are saved in /home/DATA/amit_kesari/SD1/NeMo-ASR_Diar/data/voxconverse directory\n",
      "\n",
      "\n",
      "Diar score:  (<pyannote.metrics.diarization.DiarizationErrorRate object at 0x7fa05069d2e0>, {'gcvrb': {'speaker_0': 'spk01', 'speaker_1': 'spk00'}})\n",
      "Diarization error rate (DER) = 14.8%\n",
      "\n",
      "\n",
      "voxconverse_label:  gfneh\n",
      "num_speakers:  7\n",
      "[NeMo I 2022-07-25 20:55:39 speaker_utils:82] Number of files to diarize: 1\n",
      "[NeMo I 2022-07-25 20:55:39 cloud:56] Found existing object /root/.cache/torch/NeMo/NeMo_1.10.0/QuartzNet15x5Base-En/2b066be39e9294d7100fb176ec817722/QuartzNet15x5Base-En.nemo.\n",
      "[NeMo I 2022-07-25 20:55:39 cloud:62] Re-using file from: /root/.cache/torch/NeMo/NeMo_1.10.0/QuartzNet15x5Base-En/2b066be39e9294d7100fb176ec817722/QuartzNet15x5Base-En.nemo\n",
      "[NeMo I 2022-07-25 20:55:39 common:789] Instantiating model from pre-trained checkpoint\n",
      "[NeMo I 2022-07-25 20:55:40 features:200] PADDING: 16\n",
      "[NeMo I 2022-07-25 20:55:42 save_restore_connector:243] Model EncDecCTCModel was successfully restored from /root/.cache/torch/NeMo/NeMo_1.10.0/QuartzNet15x5Base-En/2b066be39e9294d7100fb176ec817722/QuartzNet15x5Base-En.nemo.\n"
     ]
    },
    {
     "data": {
      "application/vnd.jupyter.widget-view+json": {
       "model_id": "894db5efc94449efb83e8be5d81d3edf",
       "version_major": 2,
       "version_minor": 0
      },
      "text/plain": [
       "Transcribing:   0%|          | 0/1 [00:00<?, ?it/s]"
      ]
     },
     "metadata": {},
     "output_type": "display_data"
    },
    {
     "name": "stdout",
     "output_type": "stream",
     "text": [
      "[NeMo I 2022-07-25 20:55:42 speaker_utils:82] Number of files to diarize: 1\n",
      "[NeMo I 2022-07-25 20:55:42 clustering_diarizer:153] Loading pretrained titanet_large model from NGC\n",
      "[NeMo I 2022-07-25 20:55:42 cloud:56] Found existing object /root/.cache/torch/NeMo/NeMo_1.10.0/titanet-l/492c0ab8416139171dc18c21879a9e45/titanet-l.nemo.\n",
      "[NeMo I 2022-07-25 20:55:42 cloud:62] Re-using file from: /root/.cache/torch/NeMo/NeMo_1.10.0/titanet-l/492c0ab8416139171dc18c21879a9e45/titanet-l.nemo\n",
      "[NeMo I 2022-07-25 20:55:42 common:789] Instantiating model from pre-trained checkpoint\n"
     ]
    },
    {
     "name": "stderr",
     "output_type": "stream",
     "text": [
      "[NeMo W 2022-07-25 20:55:43 modelPT:148] If you intend to do training or fine-tuning, please call the ModelPT.setup_training_data() method and provide a valid configuration file to setup the train data loader.\n",
      "    Train config : \n",
      "    manifest_filepath: /manifests/combined_fisher_swbd_voxceleb12_librispeech/train.json\n",
      "    sample_rate: 16000\n",
      "    labels: null\n",
      "    batch_size: 64\n",
      "    shuffle: true\n",
      "    time_length: 3\n",
      "    is_tarred: false\n",
      "    tarred_audio_filepaths: null\n",
      "    tarred_shard_strategy: scatter\n",
      "    augmentor:\n",
      "      noise:\n",
      "        manifest_path: /manifests/noise/rir_noise_manifest.json\n",
      "        prob: 0.5\n",
      "        min_snr_db: 0\n",
      "        max_snr_db: 15\n",
      "      speed:\n",
      "        prob: 0.5\n",
      "        sr: 16000\n",
      "        resample_type: kaiser_fast\n",
      "        min_speed_rate: 0.95\n",
      "        max_speed_rate: 1.05\n",
      "    num_workers: 15\n",
      "    pin_memory: true\n",
      "    \n",
      "[NeMo W 2022-07-25 20:55:43 modelPT:155] If you intend to do validation, please call the ModelPT.setup_validation_data() or ModelPT.setup_multiple_validation_data() method and provide a valid configuration file to setup the validation data loader(s). \n",
      "    Validation config : \n",
      "    manifest_filepath: /manifests/combined_fisher_swbd_voxceleb12_librispeech/dev.json\n",
      "    sample_rate: 16000\n",
      "    labels: null\n",
      "    batch_size: 128\n",
      "    shuffle: false\n",
      "    time_length: 3\n",
      "    num_workers: 15\n",
      "    pin_memory: true\n",
      "    \n"
     ]
    },
    {
     "name": "stdout",
     "output_type": "stream",
     "text": [
      "[NeMo I 2022-07-25 20:55:43 features:200] PADDING: 16\n",
      "[NeMo I 2022-07-25 20:55:44 label_models:100] loss is Angular Softmax\n",
      "[NeMo I 2022-07-25 20:55:44 save_restore_connector:243] Model EncDecSpeakerLabelModel was successfully restored from /root/.cache/torch/NeMo/NeMo_1.10.0/titanet-l/492c0ab8416139171dc18c21879a9e45/titanet-l.nemo.\n",
      "[NeMo I 2022-07-25 20:55:44 speaker_utils:82] Number of files to diarize: 1\n",
      "[NeMo I 2022-07-25 20:55:44 clustering_diarizer:271] Subsegmentation for embedding extraction: scale0, /home/DATA/amit_kesari/SD1/NeMo-ASR_Diar/data/voxconverse/speaker_outputs/subsegments_scale0.json\n",
      "[NeMo I 2022-07-25 20:55:44 clustering_diarizer:325] Extracting embeddings for Diarization\n",
      "[NeMo I 2022-07-25 20:55:44 collections:289] Filtered duration for loading collection is 0.000000.\n",
      "[NeMo I 2022-07-25 20:55:44 collections:293] # 283 files loaded accounting to # 1 labels\n"
     ]
    },
    {
     "name": "stderr",
     "output_type": "stream",
     "text": [
      "100%|██████████| 5/5 [00:01<00:00,  4.07it/s]\n",
      "100%|██████████| 1/1 [00:08<00:00,  8.91s/it]"
     ]
    },
    {
     "name": "stdout",
     "output_type": "stream",
     "text": [
      "[NeMo I 2022-07-25 20:55:54 speaker_utils:460] Cumulative Results for collar 0.25 sec and ignore_overlap True: \n",
      "     FA: 0.0317\t MISS 0.2118\t                 Diarization ER: 0.3706\t, Confusion ER:0.1271\n",
      "[NeMo I 2022-07-25 20:55:54 clustering_diarizer:444] Outputs are saved in /home/DATA/amit_kesari/SD1/NeMo-ASR_Diar/data/voxconverse directory\n"
     ]
    },
    {
     "name": "stderr",
     "output_type": "stream",
     "text": [
      "\n"
     ]
    },
    {
     "name": "stdout",
     "output_type": "stream",
     "text": [
      "\n",
      "\n",
      "Diar score:  (<pyannote.metrics.diarization.DiarizationErrorRate object at 0x7fa140862730>, {'gfneh': {'speaker_0': 'spk03', 'speaker_1': 'spk04', 'speaker_2': 'spk02', 'speaker_3': 'spk00', 'speaker_4': 'spk06', 'speaker_5': 'spk05', 'speaker_6': 'spk01'}})\n",
      "Diarization error rate (DER) = 43.9%\n",
      "\n",
      "\n",
      "voxconverse_label:  gkiki\n",
      "num_speakers:  6\n",
      "[NeMo I 2022-07-25 20:55:54 speaker_utils:82] Number of files to diarize: 1\n",
      "[NeMo I 2022-07-25 20:55:54 cloud:56] Found existing object /root/.cache/torch/NeMo/NeMo_1.10.0/QuartzNet15x5Base-En/2b066be39e9294d7100fb176ec817722/QuartzNet15x5Base-En.nemo.\n",
      "[NeMo I 2022-07-25 20:55:54 cloud:62] Re-using file from: /root/.cache/torch/NeMo/NeMo_1.10.0/QuartzNet15x5Base-En/2b066be39e9294d7100fb176ec817722/QuartzNet15x5Base-En.nemo\n",
      "[NeMo I 2022-07-25 20:55:54 common:789] Instantiating model from pre-trained checkpoint\n",
      "[NeMo I 2022-07-25 20:55:55 features:200] PADDING: 16\n",
      "[NeMo I 2022-07-25 20:55:56 save_restore_connector:243] Model EncDecCTCModel was successfully restored from /root/.cache/torch/NeMo/NeMo_1.10.0/QuartzNet15x5Base-En/2b066be39e9294d7100fb176ec817722/QuartzNet15x5Base-En.nemo.\n"
     ]
    },
    {
     "data": {
      "application/vnd.jupyter.widget-view+json": {
       "model_id": "381f585941e64c5c9541e1731a1cdb77",
       "version_major": 2,
       "version_minor": 0
      },
      "text/plain": [
       "Transcribing:   0%|          | 0/1 [00:00<?, ?it/s]"
      ]
     },
     "metadata": {},
     "output_type": "display_data"
    },
    {
     "name": "stdout",
     "output_type": "stream",
     "text": [
      "[NeMo I 2022-07-25 20:55:57 speaker_utils:82] Number of files to diarize: 1\n",
      "[NeMo I 2022-07-25 20:55:57 clustering_diarizer:153] Loading pretrained titanet_large model from NGC\n",
      "[NeMo I 2022-07-25 20:55:57 cloud:56] Found existing object /root/.cache/torch/NeMo/NeMo_1.10.0/titanet-l/492c0ab8416139171dc18c21879a9e45/titanet-l.nemo.\n",
      "[NeMo I 2022-07-25 20:55:57 cloud:62] Re-using file from: /root/.cache/torch/NeMo/NeMo_1.10.0/titanet-l/492c0ab8416139171dc18c21879a9e45/titanet-l.nemo\n",
      "[NeMo I 2022-07-25 20:55:57 common:789] Instantiating model from pre-trained checkpoint\n"
     ]
    },
    {
     "name": "stderr",
     "output_type": "stream",
     "text": [
      "[NeMo W 2022-07-25 20:55:58 modelPT:148] If you intend to do training or fine-tuning, please call the ModelPT.setup_training_data() method and provide a valid configuration file to setup the train data loader.\n",
      "    Train config : \n",
      "    manifest_filepath: /manifests/combined_fisher_swbd_voxceleb12_librispeech/train.json\n",
      "    sample_rate: 16000\n",
      "    labels: null\n",
      "    batch_size: 64\n",
      "    shuffle: true\n",
      "    time_length: 3\n",
      "    is_tarred: false\n",
      "    tarred_audio_filepaths: null\n",
      "    tarred_shard_strategy: scatter\n",
      "    augmentor:\n",
      "      noise:\n",
      "        manifest_path: /manifests/noise/rir_noise_manifest.json\n",
      "        prob: 0.5\n",
      "        min_snr_db: 0\n",
      "        max_snr_db: 15\n",
      "      speed:\n",
      "        prob: 0.5\n",
      "        sr: 16000\n",
      "        resample_type: kaiser_fast\n",
      "        min_speed_rate: 0.95\n",
      "        max_speed_rate: 1.05\n",
      "    num_workers: 15\n",
      "    pin_memory: true\n",
      "    \n",
      "[NeMo W 2022-07-25 20:55:58 modelPT:155] If you intend to do validation, please call the ModelPT.setup_validation_data() or ModelPT.setup_multiple_validation_data() method and provide a valid configuration file to setup the validation data loader(s). \n",
      "    Validation config : \n",
      "    manifest_filepath: /manifests/combined_fisher_swbd_voxceleb12_librispeech/dev.json\n",
      "    sample_rate: 16000\n",
      "    labels: null\n",
      "    batch_size: 128\n",
      "    shuffle: false\n",
      "    time_length: 3\n",
      "    num_workers: 15\n",
      "    pin_memory: true\n",
      "    \n"
     ]
    },
    {
     "name": "stdout",
     "output_type": "stream",
     "text": [
      "[NeMo I 2022-07-25 20:55:58 features:200] PADDING: 16\n",
      "[NeMo I 2022-07-25 20:55:58 label_models:100] loss is Angular Softmax\n",
      "[NeMo I 2022-07-25 20:55:58 save_restore_connector:243] Model EncDecSpeakerLabelModel was successfully restored from /root/.cache/torch/NeMo/NeMo_1.10.0/titanet-l/492c0ab8416139171dc18c21879a9e45/titanet-l.nemo.\n",
      "[NeMo I 2022-07-25 20:55:58 speaker_utils:82] Number of files to diarize: 1\n",
      "[NeMo I 2022-07-25 20:55:58 clustering_diarizer:271] Subsegmentation for embedding extraction: scale0, /home/DATA/amit_kesari/SD1/NeMo-ASR_Diar/data/voxconverse/speaker_outputs/subsegments_scale0.json\n",
      "[NeMo I 2022-07-25 20:55:58 clustering_diarizer:325] Extracting embeddings for Diarization\n",
      "[NeMo I 2022-07-25 20:55:58 collections:289] Filtered duration for loading collection is 0.000000.\n",
      "[NeMo I 2022-07-25 20:55:58 collections:293] # 218 files loaded accounting to # 1 labels\n"
     ]
    },
    {
     "name": "stderr",
     "output_type": "stream",
     "text": [
      "100%|██████████| 4/4 [00:00<00:00,  4.30it/s]\n",
      "100%|██████████| 1/1 [00:05<00:00,  5.36s/it]"
     ]
    },
    {
     "name": "stdout",
     "output_type": "stream",
     "text": [
      "[NeMo I 2022-07-25 20:56:05 speaker_utils:460] Cumulative Results for collar 0.25 sec and ignore_overlap True: \n",
      "     FA: 0.0382\t MISS 0.2573\t                 Diarization ER: 0.4968\t, Confusion ER:0.2012\n",
      "[NeMo I 2022-07-25 20:56:05 clustering_diarizer:444] Outputs are saved in /home/DATA/amit_kesari/SD1/NeMo-ASR_Diar/data/voxconverse directory\n",
      "\n",
      "\n",
      "Diar score:  (<pyannote.metrics.diarization.DiarizationErrorRate object at 0x7fa04926b490>, {'gkiki': {'speaker_0': 'spk03', 'speaker_1': 'spk01', 'speaker_2': 'spk05', 'speaker_3': 'spk04', 'speaker_4': 'spk00', 'speaker_5': 'spk02'}})\n",
      "Diarization error rate (DER) = 53.6%\n",
      "\n",
      "\n",
      "voxconverse_label:  gmmwm\n",
      "num_speakers:  2\n",
      "[NeMo I 2022-07-25 20:56:05 speaker_utils:82] Number of files to diarize: 1\n",
      "[NeMo I 2022-07-25 20:56:05 cloud:56] Found existing object /root/.cache/torch/NeMo/NeMo_1.10.0/QuartzNet15x5Base-En/2b066be39e9294d7100fb176ec817722/QuartzNet15x5Base-En.nemo.\n",
      "[NeMo I 2022-07-25 20:56:05 cloud:62] Re-using file from: /root/.cache/torch/NeMo/NeMo_1.10.0/QuartzNet15x5Base-En/2b066be39e9294d7100fb176ec817722/QuartzNet15x5Base-En.nemo\n",
      "[NeMo I 2022-07-25 20:56:05 common:789] Instantiating model from pre-trained checkpoint\n"
     ]
    },
    {
     "name": "stderr",
     "output_type": "stream",
     "text": [
      "\n"
     ]
    },
    {
     "name": "stdout",
     "output_type": "stream",
     "text": [
      "[NeMo I 2022-07-25 20:56:06 features:200] PADDING: 16\n",
      "[NeMo I 2022-07-25 20:56:07 save_restore_connector:243] Model EncDecCTCModel was successfully restored from /root/.cache/torch/NeMo/NeMo_1.10.0/QuartzNet15x5Base-En/2b066be39e9294d7100fb176ec817722/QuartzNet15x5Base-En.nemo.\n"
     ]
    },
    {
     "data": {
      "application/vnd.jupyter.widget-view+json": {
       "model_id": "093727f5b27f48258128c1cf0f9b4f51",
       "version_major": 2,
       "version_minor": 0
      },
      "text/plain": [
       "Transcribing:   0%|          | 0/1 [00:00<?, ?it/s]"
      ]
     },
     "metadata": {},
     "output_type": "display_data"
    },
    {
     "name": "stdout",
     "output_type": "stream",
     "text": [
      "[NeMo I 2022-07-25 20:56:09 speaker_utils:82] Number of files to diarize: 1\n",
      "[NeMo I 2022-07-25 20:56:09 clustering_diarizer:153] Loading pretrained titanet_large model from NGC\n",
      "[NeMo I 2022-07-25 20:56:09 cloud:56] Found existing object /root/.cache/torch/NeMo/NeMo_1.10.0/titanet-l/492c0ab8416139171dc18c21879a9e45/titanet-l.nemo.\n",
      "[NeMo I 2022-07-25 20:56:09 cloud:62] Re-using file from: /root/.cache/torch/NeMo/NeMo_1.10.0/titanet-l/492c0ab8416139171dc18c21879a9e45/titanet-l.nemo\n",
      "[NeMo I 2022-07-25 20:56:09 common:789] Instantiating model from pre-trained checkpoint\n"
     ]
    },
    {
     "name": "stderr",
     "output_type": "stream",
     "text": [
      "[NeMo W 2022-07-25 20:56:10 modelPT:148] If you intend to do training or fine-tuning, please call the ModelPT.setup_training_data() method and provide a valid configuration file to setup the train data loader.\n",
      "    Train config : \n",
      "    manifest_filepath: /manifests/combined_fisher_swbd_voxceleb12_librispeech/train.json\n",
      "    sample_rate: 16000\n",
      "    labels: null\n",
      "    batch_size: 64\n",
      "    shuffle: true\n",
      "    time_length: 3\n",
      "    is_tarred: false\n",
      "    tarred_audio_filepaths: null\n",
      "    tarred_shard_strategy: scatter\n",
      "    augmentor:\n",
      "      noise:\n",
      "        manifest_path: /manifests/noise/rir_noise_manifest.json\n",
      "        prob: 0.5\n",
      "        min_snr_db: 0\n",
      "        max_snr_db: 15\n",
      "      speed:\n",
      "        prob: 0.5\n",
      "        sr: 16000\n",
      "        resample_type: kaiser_fast\n",
      "        min_speed_rate: 0.95\n",
      "        max_speed_rate: 1.05\n",
      "    num_workers: 15\n",
      "    pin_memory: true\n",
      "    \n",
      "[NeMo W 2022-07-25 20:56:10 modelPT:155] If you intend to do validation, please call the ModelPT.setup_validation_data() or ModelPT.setup_multiple_validation_data() method and provide a valid configuration file to setup the validation data loader(s). \n",
      "    Validation config : \n",
      "    manifest_filepath: /manifests/combined_fisher_swbd_voxceleb12_librispeech/dev.json\n",
      "    sample_rate: 16000\n",
      "    labels: null\n",
      "    batch_size: 128\n",
      "    shuffle: false\n",
      "    time_length: 3\n",
      "    num_workers: 15\n",
      "    pin_memory: true\n",
      "    \n"
     ]
    },
    {
     "name": "stdout",
     "output_type": "stream",
     "text": [
      "[NeMo I 2022-07-25 20:56:10 features:200] PADDING: 16\n",
      "[NeMo I 2022-07-25 20:56:10 label_models:100] loss is Angular Softmax\n",
      "[NeMo I 2022-07-25 20:56:11 save_restore_connector:243] Model EncDecSpeakerLabelModel was successfully restored from /root/.cache/torch/NeMo/NeMo_1.10.0/titanet-l/492c0ab8416139171dc18c21879a9e45/titanet-l.nemo.\n",
      "[NeMo I 2022-07-25 20:56:11 speaker_utils:82] Number of files to diarize: 1\n",
      "[NeMo I 2022-07-25 20:56:11 clustering_diarizer:271] Subsegmentation for embedding extraction: scale0, /home/DATA/amit_kesari/SD1/NeMo-ASR_Diar/data/voxconverse/speaker_outputs/subsegments_scale0.json\n",
      "[NeMo I 2022-07-25 20:56:11 clustering_diarizer:325] Extracting embeddings for Diarization\n",
      "[NeMo I 2022-07-25 20:56:11 collections:289] Filtered duration for loading collection is 0.000000.\n",
      "[NeMo I 2022-07-25 20:56:11 collections:293] # 603 files loaded accounting to # 1 labels\n"
     ]
    },
    {
     "name": "stderr",
     "output_type": "stream",
     "text": [
      "100%|██████████| 10/10 [00:02<00:00,  4.59it/s]\n",
      "100%|██████████| 1/1 [00:01<00:00,  1.35s/it]\n"
     ]
    },
    {
     "name": "stdout",
     "output_type": "stream",
     "text": [
      "[NeMo I 2022-07-25 20:56:15 speaker_utils:460] Cumulative Results for collar 0.25 sec and ignore_overlap True: \n",
      "     FA: 0.0768\t MISS 0.2922\t                 Diarization ER: 0.5524\t, Confusion ER:0.1835\n",
      "[NeMo I 2022-07-25 20:56:15 clustering_diarizer:444] Outputs are saved in /home/DATA/amit_kesari/SD1/NeMo-ASR_Diar/data/voxconverse directory\n",
      "\n",
      "\n",
      "Diar score:  (<pyannote.metrics.diarization.DiarizationErrorRate object at 0x7fa140849970>, {'gmmwm': {'speaker_0': 'spk00', 'speaker_1': 'spk01'}})\n",
      "Diarization error rate (DER) = 57.1%\n",
      "\n",
      "\n",
      "voxconverse_label:  gtjow\n",
      "num_speakers:  4\n",
      "[NeMo I 2022-07-25 20:56:15 speaker_utils:82] Number of files to diarize: 1\n",
      "[NeMo I 2022-07-25 20:56:15 cloud:56] Found existing object /root/.cache/torch/NeMo/NeMo_1.10.0/QuartzNet15x5Base-En/2b066be39e9294d7100fb176ec817722/QuartzNet15x5Base-En.nemo.\n",
      "[NeMo I 2022-07-25 20:56:15 cloud:62] Re-using file from: /root/.cache/torch/NeMo/NeMo_1.10.0/QuartzNet15x5Base-En/2b066be39e9294d7100fb176ec817722/QuartzNet15x5Base-En.nemo\n",
      "[NeMo I 2022-07-25 20:56:15 common:789] Instantiating model from pre-trained checkpoint\n",
      "[NeMo I 2022-07-25 20:56:16 features:200] PADDING: 16\n",
      "[NeMo I 2022-07-25 20:56:18 save_restore_connector:243] Model EncDecCTCModel was successfully restored from /root/.cache/torch/NeMo/NeMo_1.10.0/QuartzNet15x5Base-En/2b066be39e9294d7100fb176ec817722/QuartzNet15x5Base-En.nemo.\n"
     ]
    },
    {
     "data": {
      "application/vnd.jupyter.widget-view+json": {
       "model_id": "32db0bd016fa478297ce790ac435913f",
       "version_major": 2,
       "version_minor": 0
      },
      "text/plain": [
       "Transcribing:   0%|          | 0/1 [00:00<?, ?it/s]"
      ]
     },
     "metadata": {},
     "output_type": "display_data"
    },
    {
     "name": "stdout",
     "output_type": "stream",
     "text": [
      "[NeMo I 2022-07-25 20:56:21 speaker_utils:82] Number of files to diarize: 1\n",
      "[NeMo I 2022-07-25 20:56:24 clustering_diarizer:153] Loading pretrained titanet_large model from NGC\n",
      "[NeMo I 2022-07-25 20:56:24 cloud:56] Found existing object /root/.cache/torch/NeMo/NeMo_1.10.0/titanet-l/492c0ab8416139171dc18c21879a9e45/titanet-l.nemo.\n",
      "[NeMo I 2022-07-25 20:56:24 cloud:62] Re-using file from: /root/.cache/torch/NeMo/NeMo_1.10.0/titanet-l/492c0ab8416139171dc18c21879a9e45/titanet-l.nemo\n",
      "[NeMo I 2022-07-25 20:56:24 common:789] Instantiating model from pre-trained checkpoint\n"
     ]
    },
    {
     "name": "stderr",
     "output_type": "stream",
     "text": [
      "[NeMo W 2022-07-25 20:56:25 modelPT:148] If you intend to do training or fine-tuning, please call the ModelPT.setup_training_data() method and provide a valid configuration file to setup the train data loader.\n",
      "    Train config : \n",
      "    manifest_filepath: /manifests/combined_fisher_swbd_voxceleb12_librispeech/train.json\n",
      "    sample_rate: 16000\n",
      "    labels: null\n",
      "    batch_size: 64\n",
      "    shuffle: true\n",
      "    time_length: 3\n",
      "    is_tarred: false\n",
      "    tarred_audio_filepaths: null\n",
      "    tarred_shard_strategy: scatter\n",
      "    augmentor:\n",
      "      noise:\n",
      "        manifest_path: /manifests/noise/rir_noise_manifest.json\n",
      "        prob: 0.5\n",
      "        min_snr_db: 0\n",
      "        max_snr_db: 15\n",
      "      speed:\n",
      "        prob: 0.5\n",
      "        sr: 16000\n",
      "        resample_type: kaiser_fast\n",
      "        min_speed_rate: 0.95\n",
      "        max_speed_rate: 1.05\n",
      "    num_workers: 15\n",
      "    pin_memory: true\n",
      "    \n",
      "[NeMo W 2022-07-25 20:56:25 modelPT:155] If you intend to do validation, please call the ModelPT.setup_validation_data() or ModelPT.setup_multiple_validation_data() method and provide a valid configuration file to setup the validation data loader(s). \n",
      "    Validation config : \n",
      "    manifest_filepath: /manifests/combined_fisher_swbd_voxceleb12_librispeech/dev.json\n",
      "    sample_rate: 16000\n",
      "    labels: null\n",
      "    batch_size: 128\n",
      "    shuffle: false\n",
      "    time_length: 3\n",
      "    num_workers: 15\n",
      "    pin_memory: true\n",
      "    \n"
     ]
    },
    {
     "name": "stdout",
     "output_type": "stream",
     "text": [
      "[NeMo I 2022-07-25 20:56:25 features:200] PADDING: 16\n",
      "[NeMo I 2022-07-25 20:56:26 label_models:100] loss is Angular Softmax\n",
      "[NeMo I 2022-07-25 20:56:26 save_restore_connector:243] Model EncDecSpeakerLabelModel was successfully restored from /root/.cache/torch/NeMo/NeMo_1.10.0/titanet-l/492c0ab8416139171dc18c21879a9e45/titanet-l.nemo.\n",
      "[NeMo I 2022-07-25 20:56:26 speaker_utils:82] Number of files to diarize: 1\n",
      "[NeMo I 2022-07-25 20:56:26 clustering_diarizer:271] Subsegmentation for embedding extraction: scale0, /home/DATA/amit_kesari/SD1/NeMo-ASR_Diar/data/voxconverse/speaker_outputs/subsegments_scale0.json\n",
      "[NeMo I 2022-07-25 20:56:26 clustering_diarizer:325] Extracting embeddings for Diarization\n",
      "[NeMo I 2022-07-25 20:56:26 collections:289] Filtered duration for loading collection is 0.000000.\n",
      "[NeMo I 2022-07-25 20:56:26 collections:293] # 2067 files loaded accounting to # 1 labels\n"
     ]
    },
    {
     "name": "stderr",
     "output_type": "stream",
     "text": [
      "100%|██████████| 33/33 [00:05<00:00,  5.58it/s]\n",
      "100%|██████████| 1/1 [00:10<00:00, 10.77s/it]\n"
     ]
    },
    {
     "name": "stdout",
     "output_type": "stream",
     "text": [
      "[NeMo I 2022-07-25 20:56:46 speaker_utils:460] Cumulative Results for collar 0.25 sec and ignore_overlap True: \n",
      "     FA: 0.0339\t MISS 0.2933\t                 Diarization ER: 0.6368\t, Confusion ER:0.3095\n",
      "[NeMo I 2022-07-25 20:56:46 clustering_diarizer:444] Outputs are saved in /home/DATA/amit_kesari/SD1/NeMo-ASR_Diar/data/voxconverse directory\n",
      "\n",
      "\n",
      "Diar score:  (<pyannote.metrics.diarization.DiarizationErrorRate object at 0x7fa140872d00>, {'gtjow': {'speaker_0': 'spk00', 'speaker_1': 'spk01', 'speaker_2': 'spk03', 'speaker_3': 'spk02'}})\n",
      "Diarization error rate (DER) = 64.3%\n",
      "\n",
      "\n",
      "voxconverse_label:  gtnjb\n",
      "num_speakers:  14\n",
      "[NeMo I 2022-07-25 20:56:49 speaker_utils:82] Number of files to diarize: 1\n",
      "[NeMo I 2022-07-25 20:56:49 cloud:56] Found existing object /root/.cache/torch/NeMo/NeMo_1.10.0/QuartzNet15x5Base-En/2b066be39e9294d7100fb176ec817722/QuartzNet15x5Base-En.nemo.\n",
      "[NeMo I 2022-07-25 20:56:49 cloud:62] Re-using file from: /root/.cache/torch/NeMo/NeMo_1.10.0/QuartzNet15x5Base-En/2b066be39e9294d7100fb176ec817722/QuartzNet15x5Base-En.nemo\n",
      "[NeMo I 2022-07-25 20:56:49 common:789] Instantiating model from pre-trained checkpoint\n",
      "[NeMo I 2022-07-25 20:56:50 features:200] PADDING: 16\n",
      "[NeMo I 2022-07-25 20:56:51 save_restore_connector:243] Model EncDecCTCModel was successfully restored from /root/.cache/torch/NeMo/NeMo_1.10.0/QuartzNet15x5Base-En/2b066be39e9294d7100fb176ec817722/QuartzNet15x5Base-En.nemo.\n"
     ]
    },
    {
     "data": {
      "application/vnd.jupyter.widget-view+json": {
       "model_id": "849ef562002849ca9f17f034200e9151",
       "version_major": 2,
       "version_minor": 0
      },
      "text/plain": [
       "Transcribing:   0%|          | 0/1 [00:00<?, ?it/s]"
      ]
     },
     "metadata": {},
     "output_type": "display_data"
    },
    {
     "name": "stdout",
     "output_type": "stream",
     "text": [
      "[NeMo I 2022-07-25 20:56:53 speaker_utils:82] Number of files to diarize: 1\n",
      "[NeMo I 2022-07-25 20:56:53 clustering_diarizer:153] Loading pretrained titanet_large model from NGC\n",
      "[NeMo I 2022-07-25 20:56:53 cloud:56] Found existing object /root/.cache/torch/NeMo/NeMo_1.10.0/titanet-l/492c0ab8416139171dc18c21879a9e45/titanet-l.nemo.\n",
      "[NeMo I 2022-07-25 20:56:53 cloud:62] Re-using file from: /root/.cache/torch/NeMo/NeMo_1.10.0/titanet-l/492c0ab8416139171dc18c21879a9e45/titanet-l.nemo\n",
      "[NeMo I 2022-07-25 20:56:53 common:789] Instantiating model from pre-trained checkpoint\n"
     ]
    },
    {
     "name": "stderr",
     "output_type": "stream",
     "text": [
      "[NeMo W 2022-07-25 20:56:54 modelPT:148] If you intend to do training or fine-tuning, please call the ModelPT.setup_training_data() method and provide a valid configuration file to setup the train data loader.\n",
      "    Train config : \n",
      "    manifest_filepath: /manifests/combined_fisher_swbd_voxceleb12_librispeech/train.json\n",
      "    sample_rate: 16000\n",
      "    labels: null\n",
      "    batch_size: 64\n",
      "    shuffle: true\n",
      "    time_length: 3\n",
      "    is_tarred: false\n",
      "    tarred_audio_filepaths: null\n",
      "    tarred_shard_strategy: scatter\n",
      "    augmentor:\n",
      "      noise:\n",
      "        manifest_path: /manifests/noise/rir_noise_manifest.json\n",
      "        prob: 0.5\n",
      "        min_snr_db: 0\n",
      "        max_snr_db: 15\n",
      "      speed:\n",
      "        prob: 0.5\n",
      "        sr: 16000\n",
      "        resample_type: kaiser_fast\n",
      "        min_speed_rate: 0.95\n",
      "        max_speed_rate: 1.05\n",
      "    num_workers: 15\n",
      "    pin_memory: true\n",
      "    \n",
      "[NeMo W 2022-07-25 20:56:54 modelPT:155] If you intend to do validation, please call the ModelPT.setup_validation_data() or ModelPT.setup_multiple_validation_data() method and provide a valid configuration file to setup the validation data loader(s). \n",
      "    Validation config : \n",
      "    manifest_filepath: /manifests/combined_fisher_swbd_voxceleb12_librispeech/dev.json\n",
      "    sample_rate: 16000\n",
      "    labels: null\n",
      "    batch_size: 128\n",
      "    shuffle: false\n",
      "    time_length: 3\n",
      "    num_workers: 15\n",
      "    pin_memory: true\n",
      "    \n"
     ]
    },
    {
     "name": "stdout",
     "output_type": "stream",
     "text": [
      "[NeMo I 2022-07-25 20:56:54 features:200] PADDING: 16\n",
      "[NeMo I 2022-07-25 20:56:55 label_models:100] loss is Angular Softmax\n",
      "[NeMo I 2022-07-25 20:56:55 save_restore_connector:243] Model EncDecSpeakerLabelModel was successfully restored from /root/.cache/torch/NeMo/NeMo_1.10.0/titanet-l/492c0ab8416139171dc18c21879a9e45/titanet-l.nemo.\n",
      "[NeMo I 2022-07-25 20:56:55 speaker_utils:82] Number of files to diarize: 1\n",
      "[NeMo I 2022-07-25 20:56:55 clustering_diarizer:271] Subsegmentation for embedding extraction: scale0, /home/DATA/amit_kesari/SD1/NeMo-ASR_Diar/data/voxconverse/speaker_outputs/subsegments_scale0.json\n",
      "[NeMo I 2022-07-25 20:56:55 clustering_diarizer:325] Extracting embeddings for Diarization\n",
      "[NeMo I 2022-07-25 20:56:55 collections:289] Filtered duration for loading collection is 0.000000.\n",
      "[NeMo I 2022-07-25 20:56:55 collections:293] # 2425 files loaded accounting to # 1 labels\n"
     ]
    },
    {
     "name": "stderr",
     "output_type": "stream",
     "text": [
      "100%|██████████| 38/38 [00:06<00:00,  5.53it/s]\n",
      "100%|██████████| 1/1 [00:10<00:00, 10.14s/it]\n"
     ]
    },
    {
     "name": "stdout",
     "output_type": "stream",
     "text": [
      "[NeMo I 2022-07-25 20:57:16 speaker_utils:460] Cumulative Results for collar 0.25 sec and ignore_overlap True: \n",
      "     FA: 0.0027\t MISS 0.2709\t                 Diarization ER: 0.4471\t, Confusion ER:0.1735\n",
      "[NeMo I 2022-07-25 20:57:16 clustering_diarizer:444] Outputs are saved in /home/DATA/amit_kesari/SD1/NeMo-ASR_Diar/data/voxconverse directory\n",
      "\n",
      "\n",
      "Diar score:  (<pyannote.metrics.diarization.DiarizationErrorRate object at 0x7fa0505da3d0>, {'gtnjb': {'speaker_0': 'spk13', 'speaker_1': 'spk05', 'speaker_12': 'spk01', 'speaker_13': 'spk06', 'speaker_2': 'spk02', 'speaker_3': 'spk11', 'speaker_4': 'spk00', 'speaker_5': 'spk12', 'speaker_6': 'spk08', 'speaker_7': 'spk10', 'speaker_8': 'spk03', 'speaker_9': 'spk09'}})\n",
      "Diarization error rate (DER) = 46.4%\n",
      "\n",
      "\n",
      "voxconverse_label:  gukoa\n",
      "num_speakers:  11\n",
      "[NeMo I 2022-07-25 20:57:21 speaker_utils:82] Number of files to diarize: 1\n",
      "[NeMo I 2022-07-25 20:57:21 cloud:56] Found existing object /root/.cache/torch/NeMo/NeMo_1.10.0/QuartzNet15x5Base-En/2b066be39e9294d7100fb176ec817722/QuartzNet15x5Base-En.nemo.\n",
      "[NeMo I 2022-07-25 20:57:21 cloud:62] Re-using file from: /root/.cache/torch/NeMo/NeMo_1.10.0/QuartzNet15x5Base-En/2b066be39e9294d7100fb176ec817722/QuartzNet15x5Base-En.nemo\n",
      "[NeMo I 2022-07-25 20:57:21 common:789] Instantiating model from pre-trained checkpoint\n",
      "[NeMo I 2022-07-25 20:57:22 features:200] PADDING: 16\n",
      "[NeMo I 2022-07-25 20:57:23 save_restore_connector:243] Model EncDecCTCModel was successfully restored from /root/.cache/torch/NeMo/NeMo_1.10.0/QuartzNet15x5Base-En/2b066be39e9294d7100fb176ec817722/QuartzNet15x5Base-En.nemo.\n"
     ]
    },
    {
     "data": {
      "application/vnd.jupyter.widget-view+json": {
       "model_id": "60ba408db71d4ae886f3225caae73351",
       "version_major": 2,
       "version_minor": 0
      },
      "text/plain": [
       "Transcribing:   0%|          | 0/1 [00:00<?, ?it/s]"
      ]
     },
     "metadata": {},
     "output_type": "display_data"
    },
    {
     "name": "stdout",
     "output_type": "stream",
     "text": [
      "[NeMo I 2022-07-25 20:57:23 speaker_utils:82] Number of files to diarize: 1\n",
      "[NeMo I 2022-07-25 20:57:23 clustering_diarizer:153] Loading pretrained titanet_large model from NGC\n",
      "[NeMo I 2022-07-25 20:57:23 cloud:56] Found existing object /root/.cache/torch/NeMo/NeMo_1.10.0/titanet-l/492c0ab8416139171dc18c21879a9e45/titanet-l.nemo.\n",
      "[NeMo I 2022-07-25 20:57:23 cloud:62] Re-using file from: /root/.cache/torch/NeMo/NeMo_1.10.0/titanet-l/492c0ab8416139171dc18c21879a9e45/titanet-l.nemo\n",
      "[NeMo I 2022-07-25 20:57:23 common:789] Instantiating model from pre-trained checkpoint\n"
     ]
    },
    {
     "name": "stderr",
     "output_type": "stream",
     "text": [
      "[NeMo W 2022-07-25 20:57:24 modelPT:148] If you intend to do training or fine-tuning, please call the ModelPT.setup_training_data() method and provide a valid configuration file to setup the train data loader.\n",
      "    Train config : \n",
      "    manifest_filepath: /manifests/combined_fisher_swbd_voxceleb12_librispeech/train.json\n",
      "    sample_rate: 16000\n",
      "    labels: null\n",
      "    batch_size: 64\n",
      "    shuffle: true\n",
      "    time_length: 3\n",
      "    is_tarred: false\n",
      "    tarred_audio_filepaths: null\n",
      "    tarred_shard_strategy: scatter\n",
      "    augmentor:\n",
      "      noise:\n",
      "        manifest_path: /manifests/noise/rir_noise_manifest.json\n",
      "        prob: 0.5\n",
      "        min_snr_db: 0\n",
      "        max_snr_db: 15\n",
      "      speed:\n",
      "        prob: 0.5\n",
      "        sr: 16000\n",
      "        resample_type: kaiser_fast\n",
      "        min_speed_rate: 0.95\n",
      "        max_speed_rate: 1.05\n",
      "    num_workers: 15\n",
      "    pin_memory: true\n",
      "    \n",
      "[NeMo W 2022-07-25 20:57:24 modelPT:155] If you intend to do validation, please call the ModelPT.setup_validation_data() or ModelPT.setup_multiple_validation_data() method and provide a valid configuration file to setup the validation data loader(s). \n",
      "    Validation config : \n",
      "    manifest_filepath: /manifests/combined_fisher_swbd_voxceleb12_librispeech/dev.json\n",
      "    sample_rate: 16000\n",
      "    labels: null\n",
      "    batch_size: 128\n",
      "    shuffle: false\n",
      "    time_length: 3\n",
      "    num_workers: 15\n",
      "    pin_memory: true\n",
      "    \n"
     ]
    },
    {
     "name": "stdout",
     "output_type": "stream",
     "text": [
      "[NeMo I 2022-07-25 20:57:24 features:200] PADDING: 16\n",
      "[NeMo I 2022-07-25 20:57:25 label_models:100] loss is Angular Softmax\n",
      "[NeMo I 2022-07-25 20:57:25 save_restore_connector:243] Model EncDecSpeakerLabelModel was successfully restored from /root/.cache/torch/NeMo/NeMo_1.10.0/titanet-l/492c0ab8416139171dc18c21879a9e45/titanet-l.nemo.\n",
      "[NeMo I 2022-07-25 20:57:25 speaker_utils:82] Number of files to diarize: 1\n",
      "[NeMo I 2022-07-25 20:57:25 clustering_diarizer:271] Subsegmentation for embedding extraction: scale0, /home/DATA/amit_kesari/SD1/NeMo-ASR_Diar/data/voxconverse/speaker_outputs/subsegments_scale0.json\n",
      "[NeMo I 2022-07-25 20:57:25 clustering_diarizer:325] Extracting embeddings for Diarization\n",
      "[NeMo I 2022-07-25 20:57:25 collections:289] Filtered duration for loading collection is 0.000000.\n",
      "[NeMo I 2022-07-25 20:57:25 collections:293] # 440 files loaded accounting to # 1 labels\n"
     ]
    },
    {
     "name": "stderr",
     "output_type": "stream",
     "text": [
      "100%|██████████| 7/7 [00:01<00:00,  4.61it/s]\n",
      "100%|██████████| 1/1 [00:10<00:00, 10.64s/it]\n"
     ]
    },
    {
     "name": "stdout",
     "output_type": "stream",
     "text": [
      "[NeMo I 2022-07-25 20:57:38 speaker_utils:460] Cumulative Results for collar 0.25 sec and ignore_overlap True: \n",
      "     FA: 0.0428\t MISS 0.2104\t                 Diarization ER: 0.4204\t, Confusion ER:0.1671\n",
      "[NeMo I 2022-07-25 20:57:38 clustering_diarizer:444] Outputs are saved in /home/DATA/amit_kesari/SD1/NeMo-ASR_Diar/data/voxconverse directory\n",
      "\n",
      "\n",
      "Diar score:  (<pyannote.metrics.diarization.DiarizationErrorRate object at 0x7fa1409b7190>, {'gukoa': {'speaker_0': 'spk02', 'speaker_1': 'spk04', 'speaker_10': 'spk07', 'speaker_2': 'spk09', 'speaker_3': 'spk00', 'speaker_4': 'spk03', 'speaker_5': 'spk08', 'speaker_7': 'spk01', 'speaker_8': 'spk05', 'speaker_9': 'spk06'}})\n",
      "Diarization error rate (DER) = 45.1%\n",
      "\n",
      "\n",
      "voxconverse_label:  guvqf\n",
      "num_speakers:  11\n",
      "[NeMo I 2022-07-25 20:57:38 speaker_utils:82] Number of files to diarize: 1\n",
      "[NeMo I 2022-07-25 20:57:38 cloud:56] Found existing object /root/.cache/torch/NeMo/NeMo_1.10.0/QuartzNet15x5Base-En/2b066be39e9294d7100fb176ec817722/QuartzNet15x5Base-En.nemo.\n",
      "[NeMo I 2022-07-25 20:57:38 cloud:62] Re-using file from: /root/.cache/torch/NeMo/NeMo_1.10.0/QuartzNet15x5Base-En/2b066be39e9294d7100fb176ec817722/QuartzNet15x5Base-En.nemo\n",
      "[NeMo I 2022-07-25 20:57:38 common:789] Instantiating model from pre-trained checkpoint\n",
      "[NeMo I 2022-07-25 20:57:39 features:200] PADDING: 16\n",
      "[NeMo I 2022-07-25 20:57:40 save_restore_connector:243] Model EncDecCTCModel was successfully restored from /root/.cache/torch/NeMo/NeMo_1.10.0/QuartzNet15x5Base-En/2b066be39e9294d7100fb176ec817722/QuartzNet15x5Base-En.nemo.\n"
     ]
    },
    {
     "data": {
      "application/vnd.jupyter.widget-view+json": {
       "model_id": "11fe6fef6c8d442888ca224f1af06055",
       "version_major": 2,
       "version_minor": 0
      },
      "text/plain": [
       "Transcribing:   0%|          | 0/1 [00:00<?, ?it/s]"
      ]
     },
     "metadata": {},
     "output_type": "display_data"
    },
    {
     "name": "stdout",
     "output_type": "stream",
     "text": [
      "[NeMo I 2022-07-25 20:58:00 speaker_utils:82] Number of files to diarize: 1\n",
      "[NeMo I 2022-07-25 20:58:00 clustering_diarizer:153] Loading pretrained titanet_large model from NGC\n",
      "[NeMo I 2022-07-25 20:58:00 cloud:56] Found existing object /root/.cache/torch/NeMo/NeMo_1.10.0/titanet-l/492c0ab8416139171dc18c21879a9e45/titanet-l.nemo.\n",
      "[NeMo I 2022-07-25 20:58:00 cloud:62] Re-using file from: /root/.cache/torch/NeMo/NeMo_1.10.0/titanet-l/492c0ab8416139171dc18c21879a9e45/titanet-l.nemo\n",
      "[NeMo I 2022-07-25 20:59:48 speaker_utils:82] Number of files to diarize: 1\n",
      "[NeMo I 2022-07-25 20:59:48 clustering_diarizer:153] Loading pretrained titanet_large model from NGC\n",
      "[NeMo I 2022-07-25 20:59:48 cloud:56] Found existing object /root/.cache/torch/NeMo/NeMo_1.10.0/titanet-l/492c0ab8416139171dc18c21879a9e45/titanet-l.nemo.\n",
      "[NeMo I 2022-07-25 20:59:48 cloud:62] Re-using file from: /root/.cache/torch/NeMo/NeMo_1.10.0/titanet-l/492c0ab8416139171dc18c21879a9e45/titanet-l.nemo\n",
      "[NeMo I 2022-07-25 20:59:48 common:789] Instantiating model from pre-trained checkpoint\n"
     ]
    },
    {
     "name": "stderr",
     "output_type": "stream",
     "text": [
      "[NeMo W 2022-07-25 20:59:49 modelPT:148] If you intend to do training or fine-tuning, please call the ModelPT.setup_training_data() method and provide a valid configuration file to setup the train data loader.\n",
      "    Train config : \n",
      "    manifest_filepath: /manifests/combined_fisher_swbd_voxceleb12_librispeech/train.json\n",
      "    sample_rate: 16000\n",
      "    labels: null\n",
      "    batch_size: 64\n",
      "    shuffle: true\n",
      "    time_length: 3\n",
      "    is_tarred: false\n",
      "    tarred_audio_filepaths: null\n",
      "    tarred_shard_strategy: scatter\n",
      "    augmentor:\n",
      "      noise:\n",
      "        manifest_path: /manifests/noise/rir_noise_manifest.json\n",
      "        prob: 0.5\n",
      "        min_snr_db: 0\n",
      "        max_snr_db: 15\n",
      "      speed:\n",
      "        prob: 0.5\n",
      "        sr: 16000\n",
      "        resample_type: kaiser_fast\n",
      "        min_speed_rate: 0.95\n",
      "        max_speed_rate: 1.05\n",
      "    num_workers: 15\n",
      "    pin_memory: true\n",
      "    \n",
      "[NeMo W 2022-07-25 20:59:49 modelPT:155] If you intend to do validation, please call the ModelPT.setup_validation_data() or ModelPT.setup_multiple_validation_data() method and provide a valid configuration file to setup the validation data loader(s). \n",
      "    Validation config : \n",
      "    manifest_filepath: /manifests/combined_fisher_swbd_voxceleb12_librispeech/dev.json\n",
      "    sample_rate: 16000\n",
      "    labels: null\n",
      "    batch_size: 128\n",
      "    shuffle: false\n",
      "    time_length: 3\n",
      "    num_workers: 15\n",
      "    pin_memory: true\n",
      "    \n"
     ]
    },
    {
     "name": "stdout",
     "output_type": "stream",
     "text": [
      "[NeMo I 2022-07-25 20:59:49 features:200] PADDING: 16\n",
      "[NeMo I 2022-07-25 20:59:50 label_models:100] loss is Angular Softmax\n",
      "[NeMo I 2022-07-25 20:59:50 save_restore_connector:243] Model EncDecSpeakerLabelModel was successfully restored from /root/.cache/torch/NeMo/NeMo_1.10.0/titanet-l/492c0ab8416139171dc18c21879a9e45/titanet-l.nemo.\n",
      "[NeMo I 2022-07-25 20:59:50 speaker_utils:82] Number of files to diarize: 1\n",
      "[NeMo I 2022-07-25 20:59:50 clustering_diarizer:271] Subsegmentation for embedding extraction: scale0, /home/DATA/amit_kesari/SD1/NeMo-ASR_Diar/data/voxconverse/speaker_outputs/subsegments_scale0.json\n",
      "[NeMo I 2022-07-25 20:59:50 clustering_diarizer:325] Extracting embeddings for Diarization\n",
      "[NeMo I 2022-07-25 20:59:50 collections:289] Filtered duration for loading collection is 0.000000.\n",
      "[NeMo I 2022-07-25 20:59:50 collections:293] # 2291 files loaded accounting to # 1 labels\n"
     ]
    },
    {
     "name": "stderr",
     "output_type": "stream",
     "text": [
      "100%|██████████| 36/36 [00:06<00:00,  5.56it/s]\n",
      "100%|██████████| 1/1 [00:10<00:00, 10.11s/it]\n"
     ]
    },
    {
     "name": "stdout",
     "output_type": "stream",
     "text": [
      "[NeMo I 2022-07-25 21:00:11 speaker_utils:460] Cumulative Results for collar 0.25 sec and ignore_overlap True: \n",
      "     FA: 0.0494\t MISS 0.2400\t                 Diarization ER: 0.5190\t, Confusion ER:0.2296\n",
      "[NeMo I 2022-07-25 21:00:11 clustering_diarizer:444] Outputs are saved in /home/DATA/amit_kesari/SD1/NeMo-ASR_Diar/data/voxconverse directory\n",
      "\n",
      "\n",
      "Diar score:  (<pyannote.metrics.diarization.DiarizationErrorRate object at 0x7fa14089ca30>, {'heolf': {'speaker_0': 'spk01', 'speaker_1': 'spk02', 'speaker_10': 'spk00', 'speaker_11': 'spk07', 'speaker_2': 'spk06', 'speaker_3': 'spk10', 'speaker_4': 'spk03', 'speaker_5': 'spk05', 'speaker_6': 'spk08', 'speaker_7': 'spk11', 'speaker_8': 'spk04', 'speaker_9': 'spk09'}})\n",
      "Diarization error rate (DER) = 54.5%\n",
      "\n",
      "\n",
      "voxconverse_label:  hhepf\n",
      "num_speakers:  7\n",
      "[NeMo I 2022-07-25 21:00:15 speaker_utils:82] Number of files to diarize: 1\n",
      "[NeMo I 2022-07-25 21:00:15 cloud:56] Found existing object /root/.cache/torch/NeMo/NeMo_1.10.0/QuartzNet15x5Base-En/2b066be39e9294d7100fb176ec817722/QuartzNet15x5Base-En.nemo.\n",
      "[NeMo I 2022-07-25 21:00:15 cloud:62] Re-using file from: /root/.cache/torch/NeMo/NeMo_1.10.0/QuartzNet15x5Base-En/2b066be39e9294d7100fb176ec817722/QuartzNet15x5Base-En.nemo\n",
      "[NeMo I 2022-07-25 21:00:15 common:789] Instantiating model from pre-trained checkpoint\n",
      "[NeMo I 2022-07-25 21:00:16 features:200] PADDING: 16\n",
      "[NeMo I 2022-07-25 21:00:17 save_restore_connector:243] Model EncDecCTCModel was successfully restored from /root/.cache/torch/NeMo/NeMo_1.10.0/QuartzNet15x5Base-En/2b066be39e9294d7100fb176ec817722/QuartzNet15x5Base-En.nemo.\n"
     ]
    },
    {
     "data": {
      "application/vnd.jupyter.widget-view+json": {
       "model_id": "b1e3fb39daaf44799e101d277c9f75b6",
       "version_major": 2,
       "version_minor": 0
      },
      "text/plain": [
       "Transcribing:   0%|          | 0/1 [00:00<?, ?it/s]"
      ]
     },
     "metadata": {},
     "output_type": "display_data"
    },
    {
     "name": "stdout",
     "output_type": "stream",
     "text": [
      "[NeMo I 2022-07-25 21:00:19 speaker_utils:82] Number of files to diarize: 1\n",
      "[NeMo I 2022-07-25 21:00:19 clustering_diarizer:153] Loading pretrained titanet_large model from NGC\n",
      "[NeMo I 2022-07-25 21:00:19 cloud:56] Found existing object /root/.cache/torch/NeMo/NeMo_1.10.0/titanet-l/492c0ab8416139171dc18c21879a9e45/titanet-l.nemo.\n",
      "[NeMo I 2022-07-25 21:00:19 cloud:62] Re-using file from: /root/.cache/torch/NeMo/NeMo_1.10.0/titanet-l/492c0ab8416139171dc18c21879a9e45/titanet-l.nemo\n",
      "[NeMo I 2022-07-25 21:00:19 common:789] Instantiating model from pre-trained checkpoint\n"
     ]
    },
    {
     "name": "stderr",
     "output_type": "stream",
     "text": [
      "[NeMo W 2022-07-25 21:00:19 modelPT:148] If you intend to do training or fine-tuning, please call the ModelPT.setup_training_data() method and provide a valid configuration file to setup the train data loader.\n",
      "    Train config : \n",
      "    manifest_filepath: /manifests/combined_fisher_swbd_voxceleb12_librispeech/train.json\n",
      "    sample_rate: 16000\n",
      "    labels: null\n",
      "    batch_size: 64\n",
      "    shuffle: true\n",
      "    time_length: 3\n",
      "    is_tarred: false\n",
      "    tarred_audio_filepaths: null\n",
      "    tarred_shard_strategy: scatter\n",
      "    augmentor:\n",
      "      noise:\n",
      "        manifest_path: /manifests/noise/rir_noise_manifest.json\n",
      "        prob: 0.5\n",
      "        min_snr_db: 0\n",
      "        max_snr_db: 15\n",
      "      speed:\n",
      "        prob: 0.5\n",
      "        sr: 16000\n",
      "        resample_type: kaiser_fast\n",
      "        min_speed_rate: 0.95\n",
      "        max_speed_rate: 1.05\n",
      "    num_workers: 15\n",
      "    pin_memory: true\n",
      "    \n",
      "[NeMo W 2022-07-25 21:00:19 modelPT:155] If you intend to do validation, please call the ModelPT.setup_validation_data() or ModelPT.setup_multiple_validation_data() method and provide a valid configuration file to setup the validation data loader(s). \n",
      "    Validation config : \n",
      "    manifest_filepath: /manifests/combined_fisher_swbd_voxceleb12_librispeech/dev.json\n",
      "    sample_rate: 16000\n",
      "    labels: null\n",
      "    batch_size: 128\n",
      "    shuffle: false\n",
      "    time_length: 3\n",
      "    num_workers: 15\n",
      "    pin_memory: true\n",
      "    \n"
     ]
    },
    {
     "name": "stdout",
     "output_type": "stream",
     "text": [
      "[NeMo I 2022-07-25 21:00:19 features:200] PADDING: 16\n",
      "[NeMo I 2022-07-25 21:00:20 label_models:100] loss is Angular Softmax\n",
      "[NeMo I 2022-07-25 21:00:20 save_restore_connector:243] Model EncDecSpeakerLabelModel was successfully restored from /root/.cache/torch/NeMo/NeMo_1.10.0/titanet-l/492c0ab8416139171dc18c21879a9e45/titanet-l.nemo.\n",
      "[NeMo I 2022-07-25 21:00:20 speaker_utils:82] Number of files to diarize: 1\n",
      "[NeMo I 2022-07-25 21:00:20 clustering_diarizer:271] Subsegmentation for embedding extraction: scale0, /home/DATA/amit_kesari/SD1/NeMo-ASR_Diar/data/voxconverse/speaker_outputs/subsegments_scale0.json\n",
      "[NeMo I 2022-07-25 21:00:20 clustering_diarizer:325] Extracting embeddings for Diarization\n",
      "[NeMo I 2022-07-25 21:00:20 collections:289] Filtered duration for loading collection is 0.000000.\n",
      "[NeMo I 2022-07-25 21:00:20 collections:293] # 2088 files loaded accounting to # 1 labels\n"
     ]
    },
    {
     "name": "stderr",
     "output_type": "stream",
     "text": [
      "100%|██████████| 33/33 [00:05<00:00,  5.53it/s]\n",
      "100%|██████████| 1/1 [00:11<00:00, 11.17s/it]\n"
     ]
    },
    {
     "name": "stdout",
     "output_type": "stream",
     "text": [
      "[NeMo I 2022-07-25 21:00:41 speaker_utils:460] Cumulative Results for collar 0.25 sec and ignore_overlap True: \n",
      "     FA: 0.0344\t MISS 0.2383\t                 Diarization ER: 0.5479\t, Confusion ER:0.2752\n",
      "[NeMo I 2022-07-25 21:00:41 clustering_diarizer:444] Outputs are saved in /home/DATA/amit_kesari/SD1/NeMo-ASR_Diar/data/voxconverse directory\n",
      "\n",
      "\n",
      "Diar score:  (<pyannote.metrics.diarization.DiarizationErrorRate object at 0x7fa06001b730>, {'hhepf': {'speaker_0': 'spk06', 'speaker_1': 'spk01', 'speaker_2': 'spk00', 'speaker_4': 'spk03', 'speaker_5': 'spk02'}})\n",
      "Diarization error rate (DER) = 57.4%\n",
      "\n",
      "\n",
      "voxconverse_label:  hqhrb\n",
      "num_speakers:  6\n",
      "[NeMo I 2022-07-25 21:00:45 speaker_utils:82] Number of files to diarize: 1\n",
      "[NeMo I 2022-07-25 21:00:45 cloud:56] Found existing object /root/.cache/torch/NeMo/NeMo_1.10.0/QuartzNet15x5Base-En/2b066be39e9294d7100fb176ec817722/QuartzNet15x5Base-En.nemo.\n",
      "[NeMo I 2022-07-25 21:00:45 cloud:62] Re-using file from: /root/.cache/torch/NeMo/NeMo_1.10.0/QuartzNet15x5Base-En/2b066be39e9294d7100fb176ec817722/QuartzNet15x5Base-En.nemo\n",
      "[NeMo I 2022-07-25 21:00:45 common:789] Instantiating model from pre-trained checkpoint\n",
      "[NeMo I 2022-07-25 21:00:46 features:200] PADDING: 16\n",
      "[NeMo I 2022-07-25 21:00:48 save_restore_connector:243] Model EncDecCTCModel was successfully restored from /root/.cache/torch/NeMo/NeMo_1.10.0/QuartzNet15x5Base-En/2b066be39e9294d7100fb176ec817722/QuartzNet15x5Base-En.nemo.\n"
     ]
    },
    {
     "data": {
      "application/vnd.jupyter.widget-view+json": {
       "model_id": "ae54302c81f04e4482ffb957c02b5d1f",
       "version_major": 2,
       "version_minor": 0
      },
      "text/plain": [
       "Transcribing:   0%|          | 0/1 [00:00<?, ?it/s]"
      ]
     },
     "metadata": {},
     "output_type": "display_data"
    },
    {
     "name": "stdout",
     "output_type": "stream",
     "text": [
      "[NeMo I 2022-07-25 21:00:49 speaker_utils:82] Number of files to diarize: 1\n",
      "[NeMo I 2022-07-25 21:00:50 clustering_diarizer:153] Loading pretrained titanet_large model from NGC\n",
      "[NeMo I 2022-07-25 21:00:50 cloud:56] Found existing object /root/.cache/torch/NeMo/NeMo_1.10.0/titanet-l/492c0ab8416139171dc18c21879a9e45/titanet-l.nemo.\n",
      "[NeMo I 2022-07-25 21:00:50 cloud:62] Re-using file from: /root/.cache/torch/NeMo/NeMo_1.10.0/titanet-l/492c0ab8416139171dc18c21879a9e45/titanet-l.nemo\n",
      "[NeMo I 2022-07-25 21:00:50 common:789] Instantiating model from pre-trained checkpoint\n"
     ]
    },
    {
     "name": "stderr",
     "output_type": "stream",
     "text": [
      "[NeMo W 2022-07-25 21:00:51 modelPT:148] If you intend to do training or fine-tuning, please call the ModelPT.setup_training_data() method and provide a valid configuration file to setup the train data loader.\n",
      "    Train config : \n",
      "    manifest_filepath: /manifests/combined_fisher_swbd_voxceleb12_librispeech/train.json\n",
      "    sample_rate: 16000\n",
      "    labels: null\n",
      "    batch_size: 64\n",
      "    shuffle: true\n",
      "    time_length: 3\n",
      "    is_tarred: false\n",
      "    tarred_audio_filepaths: null\n",
      "    tarred_shard_strategy: scatter\n",
      "    augmentor:\n",
      "      noise:\n",
      "        manifest_path: /manifests/noise/rir_noise_manifest.json\n",
      "        prob: 0.5\n",
      "        min_snr_db: 0\n",
      "        max_snr_db: 15\n",
      "      speed:\n",
      "        prob: 0.5\n",
      "        sr: 16000\n",
      "        resample_type: kaiser_fast\n",
      "        min_speed_rate: 0.95\n",
      "        max_speed_rate: 1.05\n",
      "    num_workers: 15\n",
      "    pin_memory: true\n",
      "    \n",
      "[NeMo W 2022-07-25 21:00:51 modelPT:155] If you intend to do validation, please call the ModelPT.setup_validation_data() or ModelPT.setup_multiple_validation_data() method and provide a valid configuration file to setup the validation data loader(s). \n",
      "    Validation config : \n",
      "    manifest_filepath: /manifests/combined_fisher_swbd_voxceleb12_librispeech/dev.json\n",
      "    sample_rate: 16000\n",
      "    labels: null\n",
      "    batch_size: 128\n",
      "    shuffle: false\n",
      "    time_length: 3\n",
      "    num_workers: 15\n",
      "    pin_memory: true\n",
      "    \n"
     ]
    },
    {
     "name": "stdout",
     "output_type": "stream",
     "text": [
      "[NeMo I 2022-07-25 21:00:51 features:200] PADDING: 16\n",
      "[NeMo I 2022-07-25 21:00:51 label_models:100] loss is Angular Softmax\n",
      "[NeMo I 2022-07-25 21:00:51 save_restore_connector:243] Model EncDecSpeakerLabelModel was successfully restored from /root/.cache/torch/NeMo/NeMo_1.10.0/titanet-l/492c0ab8416139171dc18c21879a9e45/titanet-l.nemo.\n",
      "[NeMo I 2022-07-25 21:00:51 speaker_utils:82] Number of files to diarize: 1\n",
      "[NeMo I 2022-07-25 21:00:51 clustering_diarizer:271] Subsegmentation for embedding extraction: scale0, /home/DATA/amit_kesari/SD1/NeMo-ASR_Diar/data/voxconverse/speaker_outputs/subsegments_scale0.json\n",
      "[NeMo I 2022-07-25 21:00:51 clustering_diarizer:325] Extracting embeddings for Diarization\n",
      "[NeMo I 2022-07-25 21:00:51 collections:289] Filtered duration for loading collection is 0.000000.\n",
      "[NeMo I 2022-07-25 21:00:51 collections:293] # 1888 files loaded accounting to # 1 labels\n"
     ]
    },
    {
     "name": "stderr",
     "output_type": "stream",
     "text": [
      "100%|██████████| 30/30 [00:05<00:00,  5.50it/s]\n",
      "100%|██████████| 1/1 [00:45<00:00, 45.47s/it]\n"
     ]
    },
    {
     "name": "stdout",
     "output_type": "stream",
     "text": [
      "[NeMo I 2022-07-25 21:01:45 speaker_utils:460] Cumulative Results for collar 0.25 sec and ignore_overlap True: \n",
      "     FA: 0.1021\t MISS 0.2603\t                 Diarization ER: 0.4805\t, Confusion ER:0.1181\n",
      "[NeMo I 2022-07-25 21:01:45 clustering_diarizer:444] Outputs are saved in /home/DATA/amit_kesari/SD1/NeMo-ASR_Diar/data/voxconverse directory\n",
      "\n",
      "\n",
      "Diar score:  (<pyannote.metrics.diarization.DiarizationErrorRate object at 0x7fa060056ac0>, {'hqhrb': {'speaker_0': 'spk00', 'speaker_1': 'spk05', 'speaker_2': 'spk01', 'speaker_3': 'spk04', 'speaker_4': 'spk03', 'speaker_5': 'spk02'}})\n",
      "Diarization error rate (DER) = 50.9%\n",
      "\n",
      "\n",
      "voxconverse_label:  iabca\n",
      "num_speakers:  3\n",
      "[NeMo I 2022-07-25 21:01:49 speaker_utils:82] Number of files to diarize: 1\n",
      "[NeMo I 2022-07-25 21:01:49 cloud:56] Found existing object /root/.cache/torch/NeMo/NeMo_1.10.0/QuartzNet15x5Base-En/2b066be39e9294d7100fb176ec817722/QuartzNet15x5Base-En.nemo.\n",
      "[NeMo I 2022-07-25 21:01:49 cloud:62] Re-using file from: /root/.cache/torch/NeMo/NeMo_1.10.0/QuartzNet15x5Base-En/2b066be39e9294d7100fb176ec817722/QuartzNet15x5Base-En.nemo\n",
      "[NeMo I 2022-07-25 21:01:49 common:789] Instantiating model from pre-trained checkpoint\n",
      "[NeMo I 2022-07-25 21:01:49 features:200] PADDING: 16\n",
      "[NeMo I 2022-07-25 21:01:50 save_restore_connector:243] Model EncDecCTCModel was successfully restored from /root/.cache/torch/NeMo/NeMo_1.10.0/QuartzNet15x5Base-En/2b066be39e9294d7100fb176ec817722/QuartzNet15x5Base-En.nemo.\n"
     ]
    },
    {
     "data": {
      "application/vnd.jupyter.widget-view+json": {
       "model_id": "fd12cccef0bc401eb5e3e874ff43c0ef",
       "version_major": 2,
       "version_minor": 0
      },
      "text/plain": [
       "Transcribing:   0%|          | 0/1 [00:00<?, ?it/s]"
      ]
     },
     "metadata": {},
     "output_type": "display_data"
    },
    {
     "name": "stdout",
     "output_type": "stream",
     "text": [
      "[NeMo I 2022-07-25 21:01:51 speaker_utils:82] Number of files to diarize: 1\n",
      "[NeMo I 2022-07-25 21:01:51 clustering_diarizer:153] Loading pretrained titanet_large model from NGC\n",
      "[NeMo I 2022-07-25 21:01:51 cloud:56] Found existing object /root/.cache/torch/NeMo/NeMo_1.10.0/titanet-l/492c0ab8416139171dc18c21879a9e45/titanet-l.nemo.\n",
      "[NeMo I 2022-07-25 21:01:51 cloud:62] Re-using file from: /root/.cache/torch/NeMo/NeMo_1.10.0/titanet-l/492c0ab8416139171dc18c21879a9e45/titanet-l.nemo\n",
      "[NeMo I 2022-07-25 21:01:51 common:789] Instantiating model from pre-trained checkpoint\n"
     ]
    },
    {
     "name": "stderr",
     "output_type": "stream",
     "text": [
      "[NeMo W 2022-07-25 21:01:52 modelPT:148] If you intend to do training or fine-tuning, please call the ModelPT.setup_training_data() method and provide a valid configuration file to setup the train data loader.\n",
      "    Train config : \n",
      "    manifest_filepath: /manifests/combined_fisher_swbd_voxceleb12_librispeech/train.json\n",
      "    sample_rate: 16000\n",
      "    labels: null\n",
      "    batch_size: 64\n",
      "    shuffle: true\n",
      "    time_length: 3\n",
      "    is_tarred: false\n",
      "    tarred_audio_filepaths: null\n",
      "    tarred_shard_strategy: scatter\n",
      "    augmentor:\n",
      "      noise:\n",
      "        manifest_path: /manifests/noise/rir_noise_manifest.json\n",
      "        prob: 0.5\n",
      "        min_snr_db: 0\n",
      "        max_snr_db: 15\n",
      "      speed:\n",
      "        prob: 0.5\n",
      "        sr: 16000\n",
      "        resample_type: kaiser_fast\n",
      "        min_speed_rate: 0.95\n",
      "        max_speed_rate: 1.05\n",
      "    num_workers: 15\n",
      "    pin_memory: true\n",
      "    \n",
      "[NeMo W 2022-07-25 21:01:52 modelPT:155] If you intend to do validation, please call the ModelPT.setup_validation_data() or ModelPT.setup_multiple_validation_data() method and provide a valid configuration file to setup the validation data loader(s). \n",
      "    Validation config : \n",
      "    manifest_filepath: /manifests/combined_fisher_swbd_voxceleb12_librispeech/dev.json\n",
      "    sample_rate: 16000\n",
      "    labels: null\n",
      "    batch_size: 128\n",
      "    shuffle: false\n",
      "    time_length: 3\n",
      "    num_workers: 15\n",
      "    pin_memory: true\n",
      "    \n"
     ]
    },
    {
     "name": "stdout",
     "output_type": "stream",
     "text": [
      "[NeMo I 2022-07-25 21:01:52 features:200] PADDING: 16\n",
      "[NeMo I 2022-07-25 21:01:52 label_models:100] loss is Angular Softmax\n",
      "[NeMo I 2022-07-25 21:01:52 save_restore_connector:243] Model EncDecSpeakerLabelModel was successfully restored from /root/.cache/torch/NeMo/NeMo_1.10.0/titanet-l/492c0ab8416139171dc18c21879a9e45/titanet-l.nemo.\n",
      "[NeMo I 2022-07-25 21:01:52 speaker_utils:82] Number of files to diarize: 1\n",
      "[NeMo I 2022-07-25 21:01:52 clustering_diarizer:271] Subsegmentation for embedding extraction: scale0, /home/DATA/amit_kesari/SD1/NeMo-ASR_Diar/data/voxconverse/speaker_outputs/subsegments_scale0.json\n",
      "[NeMo I 2022-07-25 21:01:52 clustering_diarizer:325] Extracting embeddings for Diarization\n",
      "[NeMo I 2022-07-25 21:01:52 collections:289] Filtered duration for loading collection is 0.000000.\n",
      "[NeMo I 2022-07-25 21:01:52 collections:293] # 262 files loaded accounting to # 1 labels\n"
     ]
    },
    {
     "name": "stderr",
     "output_type": "stream",
     "text": [
      "100%|██████████| 5/5 [00:01<00:00,  4.60it/s]\n",
      "100%|██████████| 1/1 [00:06<00:00,  6.81s/it]"
     ]
    },
    {
     "name": "stdout",
     "output_type": "stream",
     "text": [
      "[NeMo I 2022-07-25 21:02:01 speaker_utils:460] Cumulative Results for collar 0.25 sec and ignore_overlap True: \n",
      "     FA: 0.1359\t MISS 0.2096\t                 Diarization ER: 0.4007\t, Confusion ER:0.0552\n",
      "[NeMo I 2022-07-25 21:02:01 clustering_diarizer:444] Outputs are saved in /home/DATA/amit_kesari/SD1/NeMo-ASR_Diar/data/voxconverse directory\n"
     ]
    },
    {
     "name": "stderr",
     "output_type": "stream",
     "text": [
      "\n"
     ]
    },
    {
     "name": "stdout",
     "output_type": "stream",
     "text": [
      "\n",
      "\n",
      "Diar score:  (<pyannote.metrics.diarization.DiarizationErrorRate object at 0x7fa0680b1b50>, {'iabca': {'speaker_0': 'spk00', 'speaker_1': 'spk01', 'speaker_2': 'spk02'}})\n",
      "Diarization error rate (DER) = 47.7%\n",
      "\n",
      "\n",
      "voxconverse_label:  iacod\n",
      "num_speakers:  6\n",
      "[NeMo I 2022-07-25 21:02:01 speaker_utils:82] Number of files to diarize: 1\n",
      "[NeMo I 2022-07-25 21:02:01 cloud:56] Found existing object /root/.cache/torch/NeMo/NeMo_1.10.0/QuartzNet15x5Base-En/2b066be39e9294d7100fb176ec817722/QuartzNet15x5Base-En.nemo.\n",
      "[NeMo I 2022-07-25 21:02:01 cloud:62] Re-using file from: /root/.cache/torch/NeMo/NeMo_1.10.0/QuartzNet15x5Base-En/2b066be39e9294d7100fb176ec817722/QuartzNet15x5Base-En.nemo\n",
      "[NeMo I 2022-07-25 21:02:01 common:789] Instantiating model from pre-trained checkpoint\n",
      "[NeMo I 2022-07-25 21:02:01 features:200] PADDING: 16\n",
      "[NeMo I 2022-07-25 21:02:03 save_restore_connector:243] Model EncDecCTCModel was successfully restored from /root/.cache/torch/NeMo/NeMo_1.10.0/QuartzNet15x5Base-En/2b066be39e9294d7100fb176ec817722/QuartzNet15x5Base-En.nemo.\n"
     ]
    },
    {
     "data": {
      "application/vnd.jupyter.widget-view+json": {
       "model_id": "516a9f0140f04330a658911bf3e547f2",
       "version_major": 2,
       "version_minor": 0
      },
      "text/plain": [
       "Transcribing:   0%|          | 0/1 [00:00<?, ?it/s]"
      ]
     },
     "metadata": {},
     "output_type": "display_data"
    },
    {
     "name": "stdout",
     "output_type": "stream",
     "text": [
      "[NeMo I 2022-07-25 21:02:05 speaker_utils:82] Number of files to diarize: 1\n",
      "[NeMo I 2022-07-25 21:02:05 clustering_diarizer:153] Loading pretrained titanet_large model from NGC\n",
      "[NeMo I 2022-07-25 21:02:05 cloud:56] Found existing object /root/.cache/torch/NeMo/NeMo_1.10.0/titanet-l/492c0ab8416139171dc18c21879a9e45/titanet-l.nemo.\n",
      "[NeMo I 2022-07-25 21:02:05 cloud:62] Re-using file from: /root/.cache/torch/NeMo/NeMo_1.10.0/titanet-l/492c0ab8416139171dc18c21879a9e45/titanet-l.nemo\n",
      "[NeMo I 2022-07-25 21:02:05 common:789] Instantiating model from pre-trained checkpoint\n"
     ]
    },
    {
     "name": "stderr",
     "output_type": "stream",
     "text": [
      "[NeMo W 2022-07-25 21:02:06 modelPT:148] If you intend to do training or fine-tuning, please call the ModelPT.setup_training_data() method and provide a valid configuration file to setup the train data loader.\n",
      "    Train config : \n",
      "    manifest_filepath: /manifests/combined_fisher_swbd_voxceleb12_librispeech/train.json\n",
      "    sample_rate: 16000\n",
      "    labels: null\n",
      "    batch_size: 64\n",
      "    shuffle: true\n",
      "    time_length: 3\n",
      "    is_tarred: false\n",
      "    tarred_audio_filepaths: null\n",
      "    tarred_shard_strategy: scatter\n",
      "    augmentor:\n",
      "      noise:\n",
      "        manifest_path: /manifests/noise/rir_noise_manifest.json\n",
      "        prob: 0.5\n",
      "        min_snr_db: 0\n",
      "        max_snr_db: 15\n",
      "      speed:\n",
      "        prob: 0.5\n",
      "        sr: 16000\n",
      "        resample_type: kaiser_fast\n",
      "        min_speed_rate: 0.95\n",
      "        max_speed_rate: 1.05\n",
      "    num_workers: 15\n",
      "    pin_memory: true\n",
      "    \n",
      "[NeMo W 2022-07-25 21:02:06 modelPT:155] If you intend to do validation, please call the ModelPT.setup_validation_data() or ModelPT.setup_multiple_validation_data() method and provide a valid configuration file to setup the validation data loader(s). \n",
      "    Validation config : \n",
      "    manifest_filepath: /manifests/combined_fisher_swbd_voxceleb12_librispeech/dev.json\n",
      "    sample_rate: 16000\n",
      "    labels: null\n",
      "    batch_size: 128\n",
      "    shuffle: false\n",
      "    time_length: 3\n",
      "    num_workers: 15\n",
      "    pin_memory: true\n",
      "    \n"
     ]
    },
    {
     "name": "stdout",
     "output_type": "stream",
     "text": [
      "[NeMo I 2022-07-25 21:02:06 features:200] PADDING: 16\n",
      "[NeMo I 2022-07-25 21:02:06 label_models:100] loss is Angular Softmax\n",
      "[NeMo I 2022-07-25 21:02:07 save_restore_connector:243] Model EncDecSpeakerLabelModel was successfully restored from /root/.cache/torch/NeMo/NeMo_1.10.0/titanet-l/492c0ab8416139171dc18c21879a9e45/titanet-l.nemo.\n",
      "[NeMo I 2022-07-25 21:02:07 speaker_utils:82] Number of files to diarize: 1\n",
      "[NeMo I 2022-07-25 21:02:07 clustering_diarizer:271] Subsegmentation for embedding extraction: scale0, /home/DATA/amit_kesari/SD1/NeMo-ASR_Diar/data/voxconverse/speaker_outputs/subsegments_scale0.json\n",
      "[NeMo I 2022-07-25 21:02:07 clustering_diarizer:325] Extracting embeddings for Diarization\n",
      "[NeMo I 2022-07-25 21:02:07 collections:289] Filtered duration for loading collection is 0.000000.\n",
      "[NeMo I 2022-07-25 21:02:07 collections:293] # 1961 files loaded accounting to # 1 labels\n"
     ]
    },
    {
     "name": "stderr",
     "output_type": "stream",
     "text": [
      "100%|██████████| 31/31 [00:05<00:00,  5.56it/s]\n",
      "100%|██████████| 1/1 [00:10<00:00, 10.43s/it]\n"
     ]
    },
    {
     "name": "stdout",
     "output_type": "stream",
     "text": [
      "[NeMo I 2022-07-25 21:02:26 speaker_utils:460] Cumulative Results for collar 0.25 sec and ignore_overlap True: \n",
      "     FA: 0.1391\t MISS 0.2800\t                 Diarization ER: 0.6036\t, Confusion ER:0.1845\n",
      "[NeMo I 2022-07-25 21:02:26 clustering_diarizer:444] Outputs are saved in /home/DATA/amit_kesari/SD1/NeMo-ASR_Diar/data/voxconverse directory\n",
      "\n",
      "\n",
      "Diar score:  (<pyannote.metrics.diarization.DiarizationErrorRate object at 0x7fa05009a3a0>, {'iacod': {'speaker_0': 'spk00', 'speaker_1': 'spk03', 'speaker_2': 'spk05', 'speaker_3': 'spk01', 'speaker_4': 'spk04', 'speaker_5': 'spk02'}})\n",
      "Diarization error rate (DER) = 62.1%\n",
      "\n",
      "\n",
      "voxconverse_label:  ibrnm\n",
      "num_speakers:  12\n",
      "[NeMo I 2022-07-25 21:02:29 speaker_utils:82] Number of files to diarize: 1\n",
      "[NeMo I 2022-07-25 21:02:29 cloud:56] Found existing object /root/.cache/torch/NeMo/NeMo_1.10.0/QuartzNet15x5Base-En/2b066be39e9294d7100fb176ec817722/QuartzNet15x5Base-En.nemo.\n",
      "[NeMo I 2022-07-25 21:02:29 cloud:62] Re-using file from: /root/.cache/torch/NeMo/NeMo_1.10.0/QuartzNet15x5Base-En/2b066be39e9294d7100fb176ec817722/QuartzNet15x5Base-En.nemo\n",
      "[NeMo I 2022-07-25 21:02:29 common:789] Instantiating model from pre-trained checkpoint\n",
      "[NeMo I 2022-07-25 21:02:30 features:200] PADDING: 16\n",
      "[NeMo I 2022-07-25 21:02:31 save_restore_connector:243] Model EncDecCTCModel was successfully restored from /root/.cache/torch/NeMo/NeMo_1.10.0/QuartzNet15x5Base-En/2b066be39e9294d7100fb176ec817722/QuartzNet15x5Base-En.nemo.\n"
     ]
    },
    {
     "data": {
      "application/vnd.jupyter.widget-view+json": {
       "model_id": "93b3ae81c2e2472d99154b1671ecedcf",
       "version_major": 2,
       "version_minor": 0
      },
      "text/plain": [
       "Transcribing:   0%|          | 0/1 [00:00<?, ?it/s]"
      ]
     },
     "metadata": {},
     "output_type": "display_data"
    },
    {
     "name": "stdout",
     "output_type": "stream",
     "text": [
      "[NeMo I 2022-07-25 21:02:33 speaker_utils:82] Number of files to diarize: 1\n",
      "[NeMo I 2022-07-25 21:02:33 clustering_diarizer:153] Loading pretrained titanet_large model from NGC\n",
      "[NeMo I 2022-07-25 21:02:33 cloud:56] Found existing object /root/.cache/torch/NeMo/NeMo_1.10.0/titanet-l/492c0ab8416139171dc18c21879a9e45/titanet-l.nemo.\n",
      "[NeMo I 2022-07-25 21:02:33 cloud:62] Re-using file from: /root/.cache/torch/NeMo/NeMo_1.10.0/titanet-l/492c0ab8416139171dc18c21879a9e45/titanet-l.nemo\n",
      "[NeMo I 2022-07-25 21:02:33 common:789] Instantiating model from pre-trained checkpoint\n"
     ]
    },
    {
     "name": "stderr",
     "output_type": "stream",
     "text": [
      "[NeMo W 2022-07-25 21:02:34 modelPT:148] If you intend to do training or fine-tuning, please call the ModelPT.setup_training_data() method and provide a valid configuration file to setup the train data loader.\n",
      "    Train config : \n",
      "    manifest_filepath: /manifests/combined_fisher_swbd_voxceleb12_librispeech/train.json\n",
      "    sample_rate: 16000\n",
      "    labels: null\n",
      "    batch_size: 64\n",
      "    shuffle: true\n",
      "    time_length: 3\n",
      "    is_tarred: false\n",
      "    tarred_audio_filepaths: null\n",
      "    tarred_shard_strategy: scatter\n",
      "    augmentor:\n",
      "      noise:\n",
      "        manifest_path: /manifests/noise/rir_noise_manifest.json\n",
      "        prob: 0.5\n",
      "        min_snr_db: 0\n",
      "        max_snr_db: 15\n",
      "      speed:\n",
      "        prob: 0.5\n",
      "        sr: 16000\n",
      "        resample_type: kaiser_fast\n",
      "        min_speed_rate: 0.95\n",
      "        max_speed_rate: 1.05\n",
      "    num_workers: 15\n",
      "    pin_memory: true\n",
      "    \n",
      "[NeMo W 2022-07-25 21:02:34 modelPT:155] If you intend to do validation, please call the ModelPT.setup_validation_data() or ModelPT.setup_multiple_validation_data() method and provide a valid configuration file to setup the validation data loader(s). \n",
      "    Validation config : \n",
      "    manifest_filepath: /manifests/combined_fisher_swbd_voxceleb12_librispeech/dev.json\n",
      "    sample_rate: 16000\n",
      "    labels: null\n",
      "    batch_size: 128\n",
      "    shuffle: false\n",
      "    time_length: 3\n",
      "    num_workers: 15\n",
      "    pin_memory: true\n",
      "    \n"
     ]
    },
    {
     "name": "stdout",
     "output_type": "stream",
     "text": [
      "[NeMo I 2022-07-25 21:02:34 features:200] PADDING: 16\n",
      "[NeMo I 2022-07-25 21:02:34 label_models:100] loss is Angular Softmax\n",
      "[NeMo I 2022-07-25 21:02:35 save_restore_connector:243] Model EncDecSpeakerLabelModel was successfully restored from /root/.cache/torch/NeMo/NeMo_1.10.0/titanet-l/492c0ab8416139171dc18c21879a9e45/titanet-l.nemo.\n",
      "[NeMo I 2022-07-25 21:02:35 speaker_utils:82] Number of files to diarize: 1\n",
      "[NeMo I 2022-07-25 21:02:35 clustering_diarizer:271] Subsegmentation for embedding extraction: scale0, /home/DATA/amit_kesari/SD1/NeMo-ASR_Diar/data/voxconverse/speaker_outputs/subsegments_scale0.json\n",
      "[NeMo I 2022-07-25 21:02:35 clustering_diarizer:325] Extracting embeddings for Diarization\n",
      "[NeMo I 2022-07-25 21:02:35 collections:289] Filtered duration for loading collection is 0.000000.\n",
      "[NeMo I 2022-07-25 21:02:35 collections:293] # 2065 files loaded accounting to # 1 labels\n"
     ]
    },
    {
     "name": "stderr",
     "output_type": "stream",
     "text": [
      "100%|██████████| 33/33 [00:05<00:00,  5.53it/s]\n",
      "100%|██████████| 1/1 [00:10<00:00, 10.07s/it]\n"
     ]
    },
    {
     "name": "stdout",
     "output_type": "stream",
     "text": [
      "[NeMo I 2022-07-25 21:02:54 speaker_utils:460] Cumulative Results for collar 0.25 sec and ignore_overlap True: \n",
      "     FA: 0.0432\t MISS 0.2337\t                 Diarization ER: 0.4280\t, Confusion ER:0.1510\n",
      "[NeMo I 2022-07-25 21:02:54 clustering_diarizer:444] Outputs are saved in /home/DATA/amit_kesari/SD1/NeMo-ASR_Diar/data/voxconverse directory\n",
      "\n",
      "\n",
      "Diar score:  (<pyannote.metrics.diarization.DiarizationErrorRate object at 0x7fa048d3aa00>, {'ibrnm': {'speaker_0': 'spk07', 'speaker_1': 'spk00', 'speaker_10': 'spk01', 'speaker_11': 'spk04', 'speaker_2': 'spk02', 'speaker_3': 'spk06', 'speaker_4': 'spk03', 'speaker_5': 'spk08', 'speaker_6': 'spk10', 'speaker_7': 'spk11', 'speaker_8': 'spk09', 'speaker_9': 'spk05'}})\n",
      "Diarization error rate (DER) = 44.9%\n",
      "\n",
      "\n",
      "voxconverse_label:  ifwki\n",
      "num_speakers:  2\n",
      "[NeMo I 2022-07-25 21:02:57 speaker_utils:82] Number of files to diarize: 1\n",
      "[NeMo I 2022-07-25 21:02:57 cloud:56] Found existing object /root/.cache/torch/NeMo/NeMo_1.10.0/QuartzNet15x5Base-En/2b066be39e9294d7100fb176ec817722/QuartzNet15x5Base-En.nemo.\n",
      "[NeMo I 2022-07-25 21:02:57 cloud:62] Re-using file from: /root/.cache/torch/NeMo/NeMo_1.10.0/QuartzNet15x5Base-En/2b066be39e9294d7100fb176ec817722/QuartzNet15x5Base-En.nemo\n",
      "[NeMo I 2022-07-25 21:02:57 common:789] Instantiating model from pre-trained checkpoint\n",
      "[NeMo I 2022-07-25 21:02:58 features:200] PADDING: 16\n",
      "[NeMo I 2022-07-25 21:02:59 save_restore_connector:243] Model EncDecCTCModel was successfully restored from /root/.cache/torch/NeMo/NeMo_1.10.0/QuartzNet15x5Base-En/2b066be39e9294d7100fb176ec817722/QuartzNet15x5Base-En.nemo.\n"
     ]
    },
    {
     "data": {
      "application/vnd.jupyter.widget-view+json": {
       "model_id": "056db7da30644a4d99787eabfa748881",
       "version_major": 2,
       "version_minor": 0
      },
      "text/plain": [
       "Transcribing:   0%|          | 0/1 [00:00<?, ?it/s]"
      ]
     },
     "metadata": {},
     "output_type": "display_data"
    },
    {
     "name": "stdout",
     "output_type": "stream",
     "text": [
      "[NeMo I 2022-07-25 21:03:00 speaker_utils:82] Number of files to diarize: 1\n",
      "[NeMo I 2022-07-25 21:03:00 clustering_diarizer:153] Loading pretrained titanet_large model from NGC\n",
      "[NeMo I 2022-07-25 21:03:00 cloud:56] Found existing object /root/.cache/torch/NeMo/NeMo_1.10.0/titanet-l/492c0ab8416139171dc18c21879a9e45/titanet-l.nemo.\n",
      "[NeMo I 2022-07-25 21:03:00 cloud:62] Re-using file from: /root/.cache/torch/NeMo/NeMo_1.10.0/titanet-l/492c0ab8416139171dc18c21879a9e45/titanet-l.nemo\n",
      "[NeMo I 2022-07-25 21:03:00 common:789] Instantiating model from pre-trained checkpoint\n"
     ]
    },
    {
     "name": "stderr",
     "output_type": "stream",
     "text": [
      "[NeMo W 2022-07-25 21:03:01 modelPT:148] If you intend to do training or fine-tuning, please call the ModelPT.setup_training_data() method and provide a valid configuration file to setup the train data loader.\n",
      "    Train config : \n",
      "    manifest_filepath: /manifests/combined_fisher_swbd_voxceleb12_librispeech/train.json\n",
      "    sample_rate: 16000\n",
      "    labels: null\n",
      "    batch_size: 64\n",
      "    shuffle: true\n",
      "    time_length: 3\n",
      "    is_tarred: false\n",
      "    tarred_audio_filepaths: null\n",
      "    tarred_shard_strategy: scatter\n",
      "    augmentor:\n",
      "      noise:\n",
      "        manifest_path: /manifests/noise/rir_noise_manifest.json\n",
      "        prob: 0.5\n",
      "        min_snr_db: 0\n",
      "        max_snr_db: 15\n",
      "      speed:\n",
      "        prob: 0.5\n",
      "        sr: 16000\n",
      "        resample_type: kaiser_fast\n",
      "        min_speed_rate: 0.95\n",
      "        max_speed_rate: 1.05\n",
      "    num_workers: 15\n",
      "    pin_memory: true\n",
      "    \n",
      "[NeMo W 2022-07-25 21:03:01 modelPT:155] If you intend to do validation, please call the ModelPT.setup_validation_data() or ModelPT.setup_multiple_validation_data() method and provide a valid configuration file to setup the validation data loader(s). \n",
      "    Validation config : \n",
      "    manifest_filepath: /manifests/combined_fisher_swbd_voxceleb12_librispeech/dev.json\n",
      "    sample_rate: 16000\n",
      "    labels: null\n",
      "    batch_size: 128\n",
      "    shuffle: false\n",
      "    time_length: 3\n",
      "    num_workers: 15\n",
      "    pin_memory: true\n",
      "    \n"
     ]
    },
    {
     "name": "stdout",
     "output_type": "stream",
     "text": [
      "[NeMo I 2022-07-25 21:03:01 features:200] PADDING: 16\n",
      "[NeMo I 2022-07-25 21:03:01 label_models:100] loss is Angular Softmax\n",
      "[NeMo I 2022-07-25 21:03:02 save_restore_connector:243] Model EncDecSpeakerLabelModel was successfully restored from /root/.cache/torch/NeMo/NeMo_1.10.0/titanet-l/492c0ab8416139171dc18c21879a9e45/titanet-l.nemo.\n",
      "[NeMo I 2022-07-25 21:03:28 speaker_utils:82] Number of files to diarize: 1\n",
      "[NeMo I 2022-07-25 21:03:28 clustering_diarizer:271] Subsegmentation for embedding extraction: scale0, /home/DATA/amit_kesari/SD1/NeMo-ASR_Diar/data/voxconverse/speaker_outputs/subsegments_scale0.json\n",
      "[NeMo I 2022-07-25 21:03:28 clustering_diarizer:325] Extracting embeddings for Diarization\n",
      "[NeMo I 2022-07-25 21:03:28 collections:289] Filtered duration for loading collection is 0.000000.\n",
      "[NeMo I 2022-07-25 21:03:28 collections:293] # 653 files loaded accounting to # 1 labels\n"
     ]
    },
    {
     "name": "stderr",
     "output_type": "stream",
     "text": [
      "100%|██████████| 11/11 [00:02<00:00,  5.38it/s]\n",
      "100%|██████████| 1/1 [00:08<00:00,  8.41s/it]\n"
     ]
    },
    {
     "name": "stdout",
     "output_type": "stream",
     "text": [
      "[NeMo I 2022-07-25 21:03:39 speaker_utils:460] Cumulative Results for collar 0.25 sec and ignore_overlap True: \n",
      "     FA: 0.0327\t MISS 0.2321\t                 Diarization ER: 0.3021\t, Confusion ER:0.0373\n",
      "[NeMo I 2022-07-25 21:03:39 clustering_diarizer:444] Outputs are saved in /home/DATA/amit_kesari/SD1/NeMo-ASR_Diar/data/voxconverse directory\n",
      "\n",
      "\n",
      "Diar score:  (<pyannote.metrics.diarization.DiarizationErrorRate object at 0x7fa140867130>, {'ifwki': {'speaker_0': 'spk01', 'speaker_1': 'spk00'}})\n",
      "Diarization error rate (DER) = 36.3%\n",
      "\n",
      "\n",
      "voxconverse_label:  iiprr\n",
      "num_speakers:  7\n",
      "[NeMo I 2022-07-25 21:03:40 speaker_utils:82] Number of files to diarize: 1\n",
      "[NeMo I 2022-07-25 21:03:40 cloud:56] Found existing object /root/.cache/torch/NeMo/NeMo_1.10.0/QuartzNet15x5Base-En/2b066be39e9294d7100fb176ec817722/QuartzNet15x5Base-En.nemo.\n",
      "[NeMo I 2022-07-25 21:03:40 cloud:62] Re-using file from: /root/.cache/torch/NeMo/NeMo_1.10.0/QuartzNet15x5Base-En/2b066be39e9294d7100fb176ec817722/QuartzNet15x5Base-En.nemo\n",
      "[NeMo I 2022-07-25 21:03:40 common:789] Instantiating model from pre-trained checkpoint\n",
      "[NeMo I 2022-07-25 21:03:40 features:200] PADDING: 16\n",
      "[NeMo I 2022-07-25 21:03:42 save_restore_connector:243] Model EncDecCTCModel was successfully restored from /root/.cache/torch/NeMo/NeMo_1.10.0/QuartzNet15x5Base-En/2b066be39e9294d7100fb176ec817722/QuartzNet15x5Base-En.nemo.\n"
     ]
    },
    {
     "data": {
      "application/vnd.jupyter.widget-view+json": {
       "model_id": "3f5ff8eb1a3542488e3595988a6d4d4a",
       "version_major": 2,
       "version_minor": 0
      },
      "text/plain": [
       "Transcribing:   0%|          | 0/1 [00:00<?, ?it/s]"
      ]
     },
     "metadata": {},
     "output_type": "display_data"
    },
    {
     "name": "stdout",
     "output_type": "stream",
     "text": [
      "[NeMo I 2022-07-25 21:03:55 speaker_utils:82] Number of files to diarize: 1\n",
      "[NeMo I 2022-07-25 21:03:55 clustering_diarizer:153] Loading pretrained titanet_large model from NGC\n",
      "[NeMo I 2022-07-25 21:03:55 cloud:56] Found existing object /root/.cache/torch/NeMo/NeMo_1.10.0/titanet-l/492c0ab8416139171dc18c21879a9e45/titanet-l.nemo.\n",
      "[NeMo I 2022-07-25 21:03:55 cloud:62] Re-using file from: /root/.cache/torch/NeMo/NeMo_1.10.0/titanet-l/492c0ab8416139171dc18c21879a9e45/titanet-l.nemo\n",
      "[NeMo I 2022-07-25 21:03:55 common:789] Instantiating model from pre-trained checkpoint\n"
     ]
    },
    {
     "name": "stderr",
     "output_type": "stream",
     "text": [
      "[NeMo W 2022-07-25 21:03:56 modelPT:148] If you intend to do training or fine-tuning, please call the ModelPT.setup_training_data() method and provide a valid configuration file to setup the train data loader.\n",
      "    Train config : \n",
      "    manifest_filepath: /manifests/combined_fisher_swbd_voxceleb12_librispeech/train.json\n",
      "    sample_rate: 16000\n",
      "    labels: null\n",
      "    batch_size: 64\n",
      "    shuffle: true\n",
      "    time_length: 3\n",
      "    is_tarred: false\n",
      "    tarred_audio_filepaths: null\n",
      "    tarred_shard_strategy: scatter\n",
      "    augmentor:\n",
      "      noise:\n",
      "        manifest_path: /manifests/noise/rir_noise_manifest.json\n",
      "        prob: 0.5\n",
      "        min_snr_db: 0\n",
      "        max_snr_db: 15\n",
      "      speed:\n",
      "        prob: 0.5\n",
      "        sr: 16000\n",
      "        resample_type: kaiser_fast\n",
      "        min_speed_rate: 0.95\n",
      "        max_speed_rate: 1.05\n",
      "    num_workers: 15\n",
      "    pin_memory: true\n",
      "    \n",
      "[NeMo W 2022-07-25 21:03:56 modelPT:155] If you intend to do validation, please call the ModelPT.setup_validation_data() or ModelPT.setup_multiple_validation_data() method and provide a valid configuration file to setup the validation data loader(s). \n",
      "    Validation config : \n",
      "    manifest_filepath: /manifests/combined_fisher_swbd_voxceleb12_librispeech/dev.json\n",
      "    sample_rate: 16000\n",
      "    labels: null\n",
      "    batch_size: 128\n",
      "    shuffle: false\n",
      "    time_length: 3\n",
      "    num_workers: 15\n",
      "    pin_memory: true\n",
      "    \n"
     ]
    },
    {
     "name": "stdout",
     "output_type": "stream",
     "text": [
      "[NeMo I 2022-07-25 21:03:56 features:200] PADDING: 16\n",
      "[NeMo I 2022-07-25 21:03:57 label_models:100] loss is Angular Softmax\n",
      "[NeMo I 2022-07-25 21:03:57 save_restore_connector:243] Model EncDecSpeakerLabelModel was successfully restored from /root/.cache/torch/NeMo/NeMo_1.10.0/titanet-l/492c0ab8416139171dc18c21879a9e45/titanet-l.nemo.\n",
      "[NeMo I 2022-07-25 21:04:04 speaker_utils:82] Number of files to diarize: 1\n",
      "[NeMo I 2022-07-25 21:04:04 clustering_diarizer:271] Subsegmentation for embedding extraction: scale0, /home/DATA/amit_kesari/SD1/NeMo-ASR_Diar/data/voxconverse/speaker_outputs/subsegments_scale0.json\n",
      "[NeMo I 2022-07-25 21:04:04 clustering_diarizer:325] Extracting embeddings for Diarization\n",
      "[NeMo I 2022-07-25 21:04:04 collections:289] Filtered duration for loading collection is 0.000000.\n",
      "[NeMo I 2022-07-25 21:04:04 collections:293] # 2206 files loaded accounting to # 1 labels\n"
     ]
    },
    {
     "name": "stderr",
     "output_type": "stream",
     "text": [
      "100%|██████████| 35/35 [00:06<00:00,  5.57it/s]\n",
      "100%|██████████| 1/1 [00:09<00:00,  9.72s/it]\n"
     ]
    },
    {
     "name": "stdout",
     "output_type": "stream",
     "text": [
      "[NeMo I 2022-07-25 21:04:24 speaker_utils:460] Cumulative Results for collar 0.25 sec and ignore_overlap True: \n",
      "     FA: 0.0366\t MISS 0.2340\t                 Diarization ER: 0.3865\t, Confusion ER:0.1160\n",
      "[NeMo I 2022-07-25 21:04:24 clustering_diarizer:444] Outputs are saved in /home/DATA/amit_kesari/SD1/NeMo-ASR_Diar/data/voxconverse directory\n",
      "\n",
      "\n",
      "Diar score:  (<pyannote.metrics.diarization.DiarizationErrorRate object at 0x7fa0500ce160>, {'iiprr': {'speaker_0': 'spk02', 'speaker_1': 'spk03', 'speaker_2': 'spk06', 'speaker_3': 'spk04', 'speaker_4': 'spk05', 'speaker_5': 'spk01', 'speaker_6': 'spk00'}})\n",
      "Diarization error rate (DER) = 42.1%\n",
      "\n",
      "\n",
      "voxconverse_label:  ikhje\n",
      "num_speakers:  9\n",
      "[NeMo I 2022-07-25 21:04:28 speaker_utils:82] Number of files to diarize: 1\n",
      "[NeMo I 2022-07-25 21:04:28 cloud:56] Found existing object /root/.cache/torch/NeMo/NeMo_1.10.0/QuartzNet15x5Base-En/2b066be39e9294d7100fb176ec817722/QuartzNet15x5Base-En.nemo.\n",
      "[NeMo I 2022-07-25 21:04:28 cloud:62] Re-using file from: /root/.cache/torch/NeMo/NeMo_1.10.0/QuartzNet15x5Base-En/2b066be39e9294d7100fb176ec817722/QuartzNet15x5Base-En.nemo\n",
      "[NeMo I 2022-07-25 21:04:28 common:789] Instantiating model from pre-trained checkpoint\n",
      "[NeMo I 2022-07-25 21:04:29 features:200] PADDING: 16\n",
      "[NeMo I 2022-07-25 21:04:31 save_restore_connector:243] Model EncDecCTCModel was successfully restored from /root/.cache/torch/NeMo/NeMo_1.10.0/QuartzNet15x5Base-En/2b066be39e9294d7100fb176ec817722/QuartzNet15x5Base-En.nemo.\n"
     ]
    },
    {
     "data": {
      "application/vnd.jupyter.widget-view+json": {
       "model_id": "3f213ea07ad240d4b60967c07673f541",
       "version_major": 2,
       "version_minor": 0
      },
      "text/plain": [
       "Transcribing:   0%|          | 0/1 [00:00<?, ?it/s]"
      ]
     },
     "metadata": {},
     "output_type": "display_data"
    },
    {
     "name": "stdout",
     "output_type": "stream",
     "text": [
      "[NeMo I 2022-07-25 21:04:32 speaker_utils:82] Number of files to diarize: 1\n",
      "[NeMo I 2022-07-25 21:04:32 clustering_diarizer:153] Loading pretrained titanet_large model from NGC\n",
      "[NeMo I 2022-07-25 21:04:32 cloud:56] Found existing object /root/.cache/torch/NeMo/NeMo_1.10.0/titanet-l/492c0ab8416139171dc18c21879a9e45/titanet-l.nemo.\n",
      "[NeMo I 2022-07-25 21:04:32 cloud:62] Re-using file from: /root/.cache/torch/NeMo/NeMo_1.10.0/titanet-l/492c0ab8416139171dc18c21879a9e45/titanet-l.nemo\n",
      "[NeMo I 2022-07-25 21:04:32 common:789] Instantiating model from pre-trained checkpoint\n"
     ]
    },
    {
     "name": "stderr",
     "output_type": "stream",
     "text": [
      "[NeMo W 2022-07-25 21:04:33 modelPT:148] If you intend to do training or fine-tuning, please call the ModelPT.setup_training_data() method and provide a valid configuration file to setup the train data loader.\n",
      "    Train config : \n",
      "    manifest_filepath: /manifests/combined_fisher_swbd_voxceleb12_librispeech/train.json\n",
      "    sample_rate: 16000\n",
      "    labels: null\n",
      "    batch_size: 64\n",
      "    shuffle: true\n",
      "    time_length: 3\n",
      "    is_tarred: false\n",
      "    tarred_audio_filepaths: null\n",
      "    tarred_shard_strategy: scatter\n",
      "    augmentor:\n",
      "      noise:\n",
      "        manifest_path: /manifests/noise/rir_noise_manifest.json\n",
      "        prob: 0.5\n",
      "        min_snr_db: 0\n",
      "        max_snr_db: 15\n",
      "      speed:\n",
      "        prob: 0.5\n",
      "        sr: 16000\n",
      "        resample_type: kaiser_fast\n",
      "        min_speed_rate: 0.95\n",
      "        max_speed_rate: 1.05\n",
      "    num_workers: 15\n",
      "    pin_memory: true\n",
      "    \n",
      "[NeMo W 2022-07-25 21:04:33 modelPT:155] If you intend to do validation, please call the ModelPT.setup_validation_data() or ModelPT.setup_multiple_validation_data() method and provide a valid configuration file to setup the validation data loader(s). \n",
      "    Validation config : \n",
      "    manifest_filepath: /manifests/combined_fisher_swbd_voxceleb12_librispeech/dev.json\n",
      "    sample_rate: 16000\n",
      "    labels: null\n",
      "    batch_size: 128\n",
      "    shuffle: false\n",
      "    time_length: 3\n",
      "    num_workers: 15\n",
      "    pin_memory: true\n",
      "    \n"
     ]
    },
    {
     "name": "stdout",
     "output_type": "stream",
     "text": [
      "[NeMo I 2022-07-25 21:04:33 features:200] PADDING: 16\n",
      "[NeMo I 2022-07-25 21:04:34 label_models:100] loss is Angular Softmax\n",
      "[NeMo I 2022-07-25 21:04:34 save_restore_connector:243] Model EncDecSpeakerLabelModel was successfully restored from /root/.cache/torch/NeMo/NeMo_1.10.0/titanet-l/492c0ab8416139171dc18c21879a9e45/titanet-l.nemo.\n",
      "[NeMo I 2022-07-25 21:04:34 speaker_utils:82] Number of files to diarize: 1\n",
      "[NeMo I 2022-07-25 21:04:34 clustering_diarizer:271] Subsegmentation for embedding extraction: scale0, /home/DATA/amit_kesari/SD1/NeMo-ASR_Diar/data/voxconverse/speaker_outputs/subsegments_scale0.json\n",
      "[NeMo I 2022-07-25 21:04:34 clustering_diarizer:325] Extracting embeddings for Diarization\n",
      "[NeMo I 2022-07-25 21:04:34 collections:289] Filtered duration for loading collection is 0.000000.\n",
      "[NeMo I 2022-07-25 21:04:34 collections:293] # 1055 files loaded accounting to # 1 labels\n"
     ]
    },
    {
     "name": "stderr",
     "output_type": "stream",
     "text": [
      "100%|██████████| 17/17 [00:03<00:00,  5.20it/s]\n",
      "100%|██████████| 1/1 [00:10<00:00, 10.13s/it]\n"
     ]
    },
    {
     "name": "stdout",
     "output_type": "stream",
     "text": [
      "[NeMo I 2022-07-25 21:04:48 speaker_utils:460] Cumulative Results for collar 0.25 sec and ignore_overlap True: \n",
      "     FA: 0.0441\t MISS 0.0726\t                 Diarization ER: 0.3730\t, Confusion ER:0.2563\n",
      "[NeMo I 2022-07-25 21:04:48 clustering_diarizer:444] Outputs are saved in /home/DATA/amit_kesari/SD1/NeMo-ASR_Diar/data/voxconverse directory\n",
      "\n",
      "\n",
      "Diar score:  (<pyannote.metrics.diarization.DiarizationErrorRate object at 0x7fa06c7d7250>, {'ikhje': {'speaker_0': 'spk02', 'speaker_1': 'spk06', 'speaker_2': 'spk00', 'speaker_3': 'spk07', 'speaker_4': 'spk04', 'speaker_5': 'spk03', 'speaker_7': 'spk01', 'speaker_8': 'spk05'}})\n",
      "Diarization error rate (DER) = 42.1%\n",
      "\n",
      "\n",
      "voxconverse_label:  iowob\n",
      "num_speakers:  8\n",
      "[NeMo I 2022-07-25 21:04:49 speaker_utils:82] Number of files to diarize: 1\n",
      "[NeMo I 2022-07-25 21:04:49 cloud:56] Found existing object /root/.cache/torch/NeMo/NeMo_1.10.0/QuartzNet15x5Base-En/2b066be39e9294d7100fb176ec817722/QuartzNet15x5Base-En.nemo.\n",
      "[NeMo I 2022-07-25 21:04:49 cloud:62] Re-using file from: /root/.cache/torch/NeMo/NeMo_1.10.0/QuartzNet15x5Base-En/2b066be39e9294d7100fb176ec817722/QuartzNet15x5Base-En.nemo\n",
      "[NeMo I 2022-07-25 21:04:49 common:789] Instantiating model from pre-trained checkpoint\n",
      "[NeMo I 2022-07-25 21:04:50 features:200] PADDING: 16\n",
      "[NeMo I 2022-07-25 21:04:51 save_restore_connector:243] Model EncDecCTCModel was successfully restored from /root/.cache/torch/NeMo/NeMo_1.10.0/QuartzNet15x5Base-En/2b066be39e9294d7100fb176ec817722/QuartzNet15x5Base-En.nemo.\n"
     ]
    },
    {
     "data": {
      "application/vnd.jupyter.widget-view+json": {
       "model_id": "c3f3d12de2a040e884832125880d3129",
       "version_major": 2,
       "version_minor": 0
      },
      "text/plain": [
       "Transcribing:   0%|          | 0/1 [00:00<?, ?it/s]"
      ]
     },
     "metadata": {},
     "output_type": "display_data"
    },
    {
     "name": "stdout",
     "output_type": "stream",
     "text": [
      "[NeMo I 2022-07-25 21:04:53 speaker_utils:82] Number of files to diarize: 1\n",
      "[NeMo I 2022-07-25 21:04:53 clustering_diarizer:153] Loading pretrained titanet_large model from NGC\n",
      "[NeMo I 2022-07-25 21:04:53 cloud:56] Found existing object /root/.cache/torch/NeMo/NeMo_1.10.0/titanet-l/492c0ab8416139171dc18c21879a9e45/titanet-l.nemo.\n",
      "[NeMo I 2022-07-25 21:04:53 cloud:62] Re-using file from: /root/.cache/torch/NeMo/NeMo_1.10.0/titanet-l/492c0ab8416139171dc18c21879a9e45/titanet-l.nemo\n",
      "[NeMo I 2022-07-25 21:04:53 common:789] Instantiating model from pre-trained checkpoint\n"
     ]
    },
    {
     "name": "stderr",
     "output_type": "stream",
     "text": [
      "[NeMo W 2022-07-25 21:04:54 modelPT:148] If you intend to do training or fine-tuning, please call the ModelPT.setup_training_data() method and provide a valid configuration file to setup the train data loader.\n",
      "    Train config : \n",
      "    manifest_filepath: /manifests/combined_fisher_swbd_voxceleb12_librispeech/train.json\n",
      "    sample_rate: 16000\n",
      "    labels: null\n",
      "    batch_size: 64\n",
      "    shuffle: true\n",
      "    time_length: 3\n",
      "    is_tarred: false\n",
      "    tarred_audio_filepaths: null\n",
      "    tarred_shard_strategy: scatter\n",
      "    augmentor:\n",
      "      noise:\n",
      "        manifest_path: /manifests/noise/rir_noise_manifest.json\n",
      "        prob: 0.5\n",
      "        min_snr_db: 0\n",
      "        max_snr_db: 15\n",
      "      speed:\n",
      "        prob: 0.5\n",
      "        sr: 16000\n",
      "        resample_type: kaiser_fast\n",
      "        min_speed_rate: 0.95\n",
      "        max_speed_rate: 1.05\n",
      "    num_workers: 15\n",
      "    pin_memory: true\n",
      "    \n",
      "[NeMo W 2022-07-25 21:04:54 modelPT:155] If you intend to do validation, please call the ModelPT.setup_validation_data() or ModelPT.setup_multiple_validation_data() method and provide a valid configuration file to setup the validation data loader(s). \n",
      "    Validation config : \n",
      "    manifest_filepath: /manifests/combined_fisher_swbd_voxceleb12_librispeech/dev.json\n",
      "    sample_rate: 16000\n",
      "    labels: null\n",
      "    batch_size: 128\n",
      "    shuffle: false\n",
      "    time_length: 3\n",
      "    num_workers: 15\n",
      "    pin_memory: true\n",
      "    \n"
     ]
    },
    {
     "name": "stdout",
     "output_type": "stream",
     "text": [
      "[NeMo I 2022-07-25 21:04:54 features:200] PADDING: 16\n",
      "[NeMo I 2022-07-25 21:04:55 label_models:100] loss is Angular Softmax\n",
      "[NeMo I 2022-07-25 21:04:55 save_restore_connector:243] Model EncDecSpeakerLabelModel was successfully restored from /root/.cache/torch/NeMo/NeMo_1.10.0/titanet-l/492c0ab8416139171dc18c21879a9e45/titanet-l.nemo.\n",
      "[NeMo I 2022-07-25 21:04:55 speaker_utils:82] Number of files to diarize: 1\n",
      "[NeMo I 2022-07-25 21:04:55 clustering_diarizer:271] Subsegmentation for embedding extraction: scale0, /home/DATA/amit_kesari/SD1/NeMo-ASR_Diar/data/voxconverse/speaker_outputs/subsegments_scale0.json\n",
      "[NeMo I 2022-07-25 21:04:55 clustering_diarizer:325] Extracting embeddings for Diarization\n",
      "[NeMo I 2022-07-25 21:04:55 collections:289] Filtered duration for loading collection is 0.000000.\n",
      "[NeMo I 2022-07-25 21:04:55 collections:293] # 2102 files loaded accounting to # 1 labels\n"
     ]
    },
    {
     "name": "stderr",
     "output_type": "stream",
     "text": [
      "100%|██████████| 33/33 [00:05<00:00,  5.51it/s]\n",
      "100%|██████████| 1/1 [00:09<00:00,  9.85s/it]\n"
     ]
    },
    {
     "name": "stdout",
     "output_type": "stream",
     "text": [
      "[NeMo I 2022-07-25 21:05:14 speaker_utils:460] Cumulative Results for collar 0.25 sec and ignore_overlap True: \n",
      "     FA: 0.0448\t MISS 0.2351\t                 Diarization ER: 0.3903\t, Confusion ER:0.1104\n",
      "[NeMo I 2022-07-25 21:05:14 clustering_diarizer:444] Outputs are saved in /home/DATA/amit_kesari/SD1/NeMo-ASR_Diar/data/voxconverse directory\n",
      "\n",
      "\n",
      "Diar score:  (<pyannote.metrics.diarization.DiarizationErrorRate object at 0x7fa0501b6d00>, {'iowob': {'speaker_0': 'spk00', 'speaker_1': 'spk02', 'speaker_2': 'spk05', 'speaker_3': 'spk06', 'speaker_5': 'spk04', 'speaker_6': 'spk01', 'speaker_7': 'spk03'}})\n",
      "Diarization error rate (DER) = 41.1%\n",
      "\n",
      "\n",
      "voxconverse_label:  isrps\n",
      "num_speakers:  7\n",
      "[NeMo I 2022-07-25 21:05:18 speaker_utils:82] Number of files to diarize: 1\n",
      "[NeMo I 2022-07-25 21:05:18 cloud:56] Found existing object /root/.cache/torch/NeMo/NeMo_1.10.0/QuartzNet15x5Base-En/2b066be39e9294d7100fb176ec817722/QuartzNet15x5Base-En.nemo.\n",
      "[NeMo I 2022-07-25 21:05:18 cloud:62] Re-using file from: /root/.cache/torch/NeMo/NeMo_1.10.0/QuartzNet15x5Base-En/2b066be39e9294d7100fb176ec817722/QuartzNet15x5Base-En.nemo\n",
      "[NeMo I 2022-07-25 21:05:18 common:789] Instantiating model from pre-trained checkpoint\n",
      "[NeMo I 2022-07-25 21:05:18 features:200] PADDING: 16\n",
      "[NeMo I 2022-07-25 21:05:20 save_restore_connector:243] Model EncDecCTCModel was successfully restored from /root/.cache/torch/NeMo/NeMo_1.10.0/QuartzNet15x5Base-En/2b066be39e9294d7100fb176ec817722/QuartzNet15x5Base-En.nemo.\n"
     ]
    },
    {
     "data": {
      "application/vnd.jupyter.widget-view+json": {
       "model_id": "36868332ffa14c5fa8ff21e9de197a77",
       "version_major": 2,
       "version_minor": 0
      },
      "text/plain": [
       "Transcribing:   0%|          | 0/1 [00:00<?, ?it/s]"
      ]
     },
     "metadata": {},
     "output_type": "display_data"
    },
    {
     "name": "stdout",
     "output_type": "stream",
     "text": [
      "[NeMo I 2022-07-25 21:05:21 speaker_utils:82] Number of files to diarize: 1\n",
      "[NeMo I 2022-07-25 21:05:21 clustering_diarizer:153] Loading pretrained titanet_large model from NGC\n",
      "[NeMo I 2022-07-25 21:05:21 cloud:56] Found existing object /root/.cache/torch/NeMo/NeMo_1.10.0/titanet-l/492c0ab8416139171dc18c21879a9e45/titanet-l.nemo.\n",
      "[NeMo I 2022-07-25 21:05:21 cloud:62] Re-using file from: /root/.cache/torch/NeMo/NeMo_1.10.0/titanet-l/492c0ab8416139171dc18c21879a9e45/titanet-l.nemo\n",
      "[NeMo I 2022-07-25 21:05:21 common:789] Instantiating model from pre-trained checkpoint\n"
     ]
    },
    {
     "name": "stderr",
     "output_type": "stream",
     "text": [
      "[NeMo W 2022-07-25 21:05:22 modelPT:148] If you intend to do training or fine-tuning, please call the ModelPT.setup_training_data() method and provide a valid configuration file to setup the train data loader.\n",
      "    Train config : \n",
      "    manifest_filepath: /manifests/combined_fisher_swbd_voxceleb12_librispeech/train.json\n",
      "    sample_rate: 16000\n",
      "    labels: null\n",
      "    batch_size: 64\n",
      "    shuffle: true\n",
      "    time_length: 3\n",
      "    is_tarred: false\n",
      "    tarred_audio_filepaths: null\n",
      "    tarred_shard_strategy: scatter\n",
      "    augmentor:\n",
      "      noise:\n",
      "        manifest_path: /manifests/noise/rir_noise_manifest.json\n",
      "        prob: 0.5\n",
      "        min_snr_db: 0\n",
      "        max_snr_db: 15\n",
      "      speed:\n",
      "        prob: 0.5\n",
      "        sr: 16000\n",
      "        resample_type: kaiser_fast\n",
      "        min_speed_rate: 0.95\n",
      "        max_speed_rate: 1.05\n",
      "    num_workers: 15\n",
      "    pin_memory: true\n",
      "    \n",
      "[NeMo W 2022-07-25 21:05:22 modelPT:155] If you intend to do validation, please call the ModelPT.setup_validation_data() or ModelPT.setup_multiple_validation_data() method and provide a valid configuration file to setup the validation data loader(s). \n",
      "    Validation config : \n",
      "    manifest_filepath: /manifests/combined_fisher_swbd_voxceleb12_librispeech/dev.json\n",
      "    sample_rate: 16000\n",
      "    labels: null\n",
      "    batch_size: 128\n",
      "    shuffle: false\n",
      "    time_length: 3\n",
      "    num_workers: 15\n",
      "    pin_memory: true\n",
      "    \n"
     ]
    },
    {
     "name": "stdout",
     "output_type": "stream",
     "text": [
      "[NeMo I 2022-07-25 21:05:22 features:200] PADDING: 16\n",
      "[NeMo I 2022-07-25 21:05:22 label_models:100] loss is Angular Softmax\n",
      "[NeMo I 2022-07-25 21:05:22 save_restore_connector:243] Model EncDecSpeakerLabelModel was successfully restored from /root/.cache/torch/NeMo/NeMo_1.10.0/titanet-l/492c0ab8416139171dc18c21879a9e45/titanet-l.nemo.\n",
      "[NeMo I 2022-07-25 21:05:22 speaker_utils:82] Number of files to diarize: 1\n",
      "[NeMo I 2022-07-25 21:05:22 clustering_diarizer:271] Subsegmentation for embedding extraction: scale0, /home/DATA/amit_kesari/SD1/NeMo-ASR_Diar/data/voxconverse/speaker_outputs/subsegments_scale0.json\n",
      "[NeMo I 2022-07-25 21:05:22 clustering_diarizer:325] Extracting embeddings for Diarization\n",
      "[NeMo I 2022-07-25 21:05:22 collections:289] Filtered duration for loading collection is 0.000000.\n",
      "[NeMo I 2022-07-25 21:05:22 collections:293] # 314 files loaded accounting to # 1 labels\n"
     ]
    },
    {
     "name": "stderr",
     "output_type": "stream",
     "text": [
      "100%|██████████| 5/5 [00:01<00:00,  4.16it/s]\n",
      "100%|██████████| 1/1 [00:09<00:00,  9.29s/it]"
     ]
    },
    {
     "name": "stdout",
     "output_type": "stream",
     "text": [
      "[NeMo I 2022-07-25 21:05:33 speaker_utils:460] Cumulative Results for collar 0.25 sec and ignore_overlap True: \n",
      "     FA: 0.0549\t MISS 0.2482\t                 Diarization ER: 0.4567\t, Confusion ER:0.1536\n",
      "[NeMo I 2022-07-25 21:05:33 clustering_diarizer:444] Outputs are saved in /home/DATA/amit_kesari/SD1/NeMo-ASR_Diar/data/voxconverse directory\n"
     ]
    },
    {
     "name": "stderr",
     "output_type": "stream",
     "text": [
      "\n"
     ]
    },
    {
     "name": "stdout",
     "output_type": "stream",
     "text": [
      "\n",
      "\n",
      "Diar score:  (<pyannote.metrics.diarization.DiarizationErrorRate object at 0x7fa048c22430>, {'isrps': {'speaker_1': 'spk01', 'speaker_2': 'spk02', 'speaker_3': 'spk03', 'speaker_4': 'spk00', 'speaker_5': 'spk04', 'speaker_6': 'spk05'}})\n",
      "Diarization error rate (DER) = 51.1%\n",
      "\n",
      "\n",
      "voxconverse_label:  isxwc\n",
      "num_speakers:  4\n",
      "[NeMo I 2022-07-25 21:05:33 speaker_utils:82] Number of files to diarize: 1\n",
      "[NeMo I 2022-07-25 21:05:33 cloud:56] Found existing object /root/.cache/torch/NeMo/NeMo_1.10.0/QuartzNet15x5Base-En/2b066be39e9294d7100fb176ec817722/QuartzNet15x5Base-En.nemo.\n",
      "[NeMo I 2022-07-25 21:05:33 cloud:62] Re-using file from: /root/.cache/torch/NeMo/NeMo_1.10.0/QuartzNet15x5Base-En/2b066be39e9294d7100fb176ec817722/QuartzNet15x5Base-En.nemo\n",
      "[NeMo I 2022-07-25 21:05:33 common:789] Instantiating model from pre-trained checkpoint\n",
      "[NeMo I 2022-07-25 21:05:34 features:200] PADDING: 16\n",
      "[NeMo I 2022-07-25 21:05:36 save_restore_connector:243] Model EncDecCTCModel was successfully restored from /root/.cache/torch/NeMo/NeMo_1.10.0/QuartzNet15x5Base-En/2b066be39e9294d7100fb176ec817722/QuartzNet15x5Base-En.nemo.\n"
     ]
    },
    {
     "data": {
      "application/vnd.jupyter.widget-view+json": {
       "model_id": "58fdc5f17ece420ca83ba4eda9263999",
       "version_major": 2,
       "version_minor": 0
      },
      "text/plain": [
       "Transcribing:   0%|          | 0/1 [00:00<?, ?it/s]"
      ]
     },
     "metadata": {},
     "output_type": "display_data"
    },
    {
     "name": "stdout",
     "output_type": "stream",
     "text": [
      "[NeMo I 2022-07-25 21:05:36 speaker_utils:82] Number of files to diarize: 1\n",
      "[NeMo I 2022-07-25 21:05:36 clustering_diarizer:153] Loading pretrained titanet_large model from NGC\n",
      "[NeMo I 2022-07-25 21:05:36 cloud:56] Found existing object /root/.cache/torch/NeMo/NeMo_1.10.0/titanet-l/492c0ab8416139171dc18c21879a9e45/titanet-l.nemo.\n",
      "[NeMo I 2022-07-25 21:05:36 cloud:62] Re-using file from: /root/.cache/torch/NeMo/NeMo_1.10.0/titanet-l/492c0ab8416139171dc18c21879a9e45/titanet-l.nemo\n",
      "[NeMo I 2022-07-25 21:05:36 common:789] Instantiating model from pre-trained checkpoint\n"
     ]
    },
    {
     "name": "stderr",
     "output_type": "stream",
     "text": [
      "[NeMo W 2022-07-25 21:05:37 modelPT:148] If you intend to do training or fine-tuning, please call the ModelPT.setup_training_data() method and provide a valid configuration file to setup the train data loader.\n",
      "    Train config : \n",
      "    manifest_filepath: /manifests/combined_fisher_swbd_voxceleb12_librispeech/train.json\n",
      "    sample_rate: 16000\n",
      "    labels: null\n",
      "    batch_size: 64\n",
      "    shuffle: true\n",
      "    time_length: 3\n",
      "    is_tarred: false\n",
      "    tarred_audio_filepaths: null\n",
      "    tarred_shard_strategy: scatter\n",
      "    augmentor:\n",
      "      noise:\n",
      "        manifest_path: /manifests/noise/rir_noise_manifest.json\n",
      "        prob: 0.5\n",
      "        min_snr_db: 0\n",
      "        max_snr_db: 15\n",
      "      speed:\n",
      "        prob: 0.5\n",
      "        sr: 16000\n",
      "        resample_type: kaiser_fast\n",
      "        min_speed_rate: 0.95\n",
      "        max_speed_rate: 1.05\n",
      "    num_workers: 15\n",
      "    pin_memory: true\n",
      "    \n",
      "[NeMo W 2022-07-25 21:05:37 modelPT:155] If you intend to do validation, please call the ModelPT.setup_validation_data() or ModelPT.setup_multiple_validation_data() method and provide a valid configuration file to setup the validation data loader(s). \n",
      "    Validation config : \n",
      "    manifest_filepath: /manifests/combined_fisher_swbd_voxceleb12_librispeech/dev.json\n",
      "    sample_rate: 16000\n",
      "    labels: null\n",
      "    batch_size: 128\n",
      "    shuffle: false\n",
      "    time_length: 3\n",
      "    num_workers: 15\n",
      "    pin_memory: true\n",
      "    \n"
     ]
    },
    {
     "name": "stdout",
     "output_type": "stream",
     "text": [
      "[NeMo I 2022-07-25 21:05:37 features:200] PADDING: 16\n",
      "[NeMo I 2022-07-25 21:05:38 label_models:100] loss is Angular Softmax\n",
      "[NeMo I 2022-07-25 21:05:38 save_restore_connector:243] Model EncDecSpeakerLabelModel was successfully restored from /root/.cache/torch/NeMo/NeMo_1.10.0/titanet-l/492c0ab8416139171dc18c21879a9e45/titanet-l.nemo.\n",
      "[NeMo I 2022-07-25 21:05:38 speaker_utils:82] Number of files to diarize: 1\n",
      "[NeMo I 2022-07-25 21:05:38 clustering_diarizer:271] Subsegmentation for embedding extraction: scale0, /home/DATA/amit_kesari/SD1/NeMo-ASR_Diar/data/voxconverse/speaker_outputs/subsegments_scale0.json\n",
      "[NeMo I 2022-07-25 21:05:38 clustering_diarizer:325] Extracting embeddings for Diarization\n",
      "[NeMo I 2022-07-25 21:05:38 collections:289] Filtered duration for loading collection is 0.000000.\n",
      "[NeMo I 2022-07-25 21:05:38 collections:293] # 271 files loaded accounting to # 1 labels\n"
     ]
    },
    {
     "name": "stderr",
     "output_type": "stream",
     "text": [
      "100%|██████████| 5/5 [00:01<00:00,  4.82it/s]\n",
      "100%|██████████| 1/1 [00:09<00:00,  9.08s/it]"
     ]
    },
    {
     "name": "stdout",
     "output_type": "stream",
     "text": [
      "[NeMo I 2022-07-25 21:05:48 speaker_utils:460] Cumulative Results for collar 0.25 sec and ignore_overlap True: \n",
      "     FA: 0.2522\t MISS 0.2106\t                 Diarization ER: 0.5438\t, Confusion ER:0.0809\n",
      "[NeMo I 2022-07-25 21:05:48 clustering_diarizer:444] Outputs are saved in /home/DATA/amit_kesari/SD1/NeMo-ASR_Diar/data/voxconverse directory\n"
     ]
    },
    {
     "name": "stderr",
     "output_type": "stream",
     "text": [
      "\n"
     ]
    },
    {
     "name": "stdout",
     "output_type": "stream",
     "text": [
      "\n",
      "\n",
      "Diar score:  (<pyannote.metrics.diarization.DiarizationErrorRate object at 0x7fa157c44ee0>, {'isxwc': {'speaker_1': 'spk00', 'speaker_3': 'spk01'}})\n",
      "Diarization error rate (DER) = 55.7%\n",
      "\n",
      "\n",
      "voxconverse_label:  jbowg\n",
      "num_speakers:  13\n",
      "[NeMo I 2022-07-25 21:05:48 speaker_utils:82] Number of files to diarize: 1\n",
      "[NeMo I 2022-07-25 21:05:48 cloud:56] Found existing object /root/.cache/torch/NeMo/NeMo_1.10.0/QuartzNet15x5Base-En/2b066be39e9294d7100fb176ec817722/QuartzNet15x5Base-En.nemo.\n",
      "[NeMo I 2022-07-25 21:05:48 cloud:62] Re-using file from: /root/.cache/torch/NeMo/NeMo_1.10.0/QuartzNet15x5Base-En/2b066be39e9294d7100fb176ec817722/QuartzNet15x5Base-En.nemo\n",
      "[NeMo I 2022-07-25 21:05:48 common:789] Instantiating model from pre-trained checkpoint\n",
      "[NeMo I 2022-07-25 21:05:49 features:200] PADDING: 16\n",
      "[NeMo I 2022-07-25 21:05:51 save_restore_connector:243] Model EncDecCTCModel was successfully restored from /root/.cache/torch/NeMo/NeMo_1.10.0/QuartzNet15x5Base-En/2b066be39e9294d7100fb176ec817722/QuartzNet15x5Base-En.nemo.\n"
     ]
    },
    {
     "data": {
      "application/vnd.jupyter.widget-view+json": {
       "model_id": "95380a789d204c9d8e5d78168fb69a6e",
       "version_major": 2,
       "version_minor": 0
      },
      "text/plain": [
       "Transcribing:   0%|          | 0/1 [00:00<?, ?it/s]"
      ]
     },
     "metadata": {},
     "output_type": "display_data"
    },
    {
     "name": "stdout",
     "output_type": "stream",
     "text": [
      "[NeMo I 2022-07-25 21:05:53 speaker_utils:82] Number of files to diarize: 1\n",
      "[NeMo I 2022-07-25 21:05:53 clustering_diarizer:153] Loading pretrained titanet_large model from NGC\n",
      "[NeMo I 2022-07-25 21:05:53 cloud:56] Found existing object /root/.cache/torch/NeMo/NeMo_1.10.0/titanet-l/492c0ab8416139171dc18c21879a9e45/titanet-l.nemo.\n",
      "[NeMo I 2022-07-25 21:05:53 cloud:62] Re-using file from: /root/.cache/torch/NeMo/NeMo_1.10.0/titanet-l/492c0ab8416139171dc18c21879a9e45/titanet-l.nemo\n",
      "[NeMo I 2022-07-25 21:05:53 common:789] Instantiating model from pre-trained checkpoint\n"
     ]
    },
    {
     "name": "stderr",
     "output_type": "stream",
     "text": [
      "[NeMo W 2022-07-25 21:05:54 modelPT:148] If you intend to do training or fine-tuning, please call the ModelPT.setup_training_data() method and provide a valid configuration file to setup the train data loader.\n",
      "    Train config : \n",
      "    manifest_filepath: /manifests/combined_fisher_swbd_voxceleb12_librispeech/train.json\n",
      "    sample_rate: 16000\n",
      "    labels: null\n",
      "    batch_size: 64\n",
      "    shuffle: true\n",
      "    time_length: 3\n",
      "    is_tarred: false\n",
      "    tarred_audio_filepaths: null\n",
      "    tarred_shard_strategy: scatter\n",
      "    augmentor:\n",
      "      noise:\n",
      "        manifest_path: /manifests/noise/rir_noise_manifest.json\n",
      "        prob: 0.5\n",
      "        min_snr_db: 0\n",
      "        max_snr_db: 15\n",
      "      speed:\n",
      "        prob: 0.5\n",
      "        sr: 16000\n",
      "        resample_type: kaiser_fast\n",
      "        min_speed_rate: 0.95\n",
      "        max_speed_rate: 1.05\n",
      "    num_workers: 15\n",
      "    pin_memory: true\n",
      "    \n",
      "[NeMo W 2022-07-25 21:05:54 modelPT:155] If you intend to do validation, please call the ModelPT.setup_validation_data() or ModelPT.setup_multiple_validation_data() method and provide a valid configuration file to setup the validation data loader(s). \n",
      "    Validation config : \n",
      "    manifest_filepath: /manifests/combined_fisher_swbd_voxceleb12_librispeech/dev.json\n",
      "    sample_rate: 16000\n",
      "    labels: null\n",
      "    batch_size: 128\n",
      "    shuffle: false\n",
      "    time_length: 3\n",
      "    num_workers: 15\n",
      "    pin_memory: true\n",
      "    \n"
     ]
    },
    {
     "name": "stdout",
     "output_type": "stream",
     "text": [
      "[NeMo I 2022-07-25 21:05:54 features:200] PADDING: 16\n",
      "[NeMo I 2022-07-25 21:05:54 label_models:100] loss is Angular Softmax\n",
      "[NeMo I 2022-07-25 21:05:55 save_restore_connector:243] Model EncDecSpeakerLabelModel was successfully restored from /root/.cache/torch/NeMo/NeMo_1.10.0/titanet-l/492c0ab8416139171dc18c21879a9e45/titanet-l.nemo.\n",
      "[NeMo I 2022-07-25 21:05:55 speaker_utils:82] Number of files to diarize: 1\n",
      "[NeMo I 2022-07-25 21:05:55 clustering_diarizer:271] Subsegmentation for embedding extraction: scale0, /home/DATA/amit_kesari/SD1/NeMo-ASR_Diar/data/voxconverse/speaker_outputs/subsegments_scale0.json\n",
      "[NeMo I 2022-07-25 21:05:55 clustering_diarizer:325] Extracting embeddings for Diarization\n",
      "[NeMo I 2022-07-25 21:05:55 collections:289] Filtered duration for loading collection is 0.000000.\n",
      "[NeMo I 2022-07-25 21:05:55 collections:293] # 2097 files loaded accounting to # 1 labels\n"
     ]
    },
    {
     "name": "stderr",
     "output_type": "stream",
     "text": [
      "100%|██████████| 33/33 [00:05<00:00,  5.65it/s]\n",
      "100%|██████████| 1/1 [00:10<00:00, 10.44s/it]\n"
     ]
    },
    {
     "name": "stdout",
     "output_type": "stream",
     "text": [
      "[NeMo I 2022-07-25 21:06:14 speaker_utils:460] Cumulative Results for collar 0.25 sec and ignore_overlap True: \n",
      "     FA: 0.0338\t MISS 0.2349\t                 Diarization ER: 0.4441\t, Confusion ER:0.1754\n",
      "[NeMo I 2022-07-25 21:06:14 clustering_diarizer:444] Outputs are saved in /home/DATA/amit_kesari/SD1/NeMo-ASR_Diar/data/voxconverse directory\n",
      "\n",
      "\n",
      "Diar score:  (<pyannote.metrics.diarization.DiarizationErrorRate object at 0x7fa068053b80>, {'jbowg': {'speaker_0': 'spk02', 'speaker_1': 'spk11', 'speaker_10': 'spk00', 'speaker_11': 'spk05', 'speaker_2': 'spk03', 'speaker_3': 'spk08', 'speaker_7': 'spk10', 'speaker_8': 'spk09', 'speaker_9': 'spk07'}})\n",
      "Diarization error rate (DER) = 46.1%\n",
      "\n",
      "\n",
      "voxconverse_label:  jdrwl\n",
      "num_speakers:  7\n",
      "[NeMo I 2022-07-25 21:06:17 speaker_utils:82] Number of files to diarize: 1\n",
      "[NeMo I 2022-07-25 21:06:17 cloud:56] Found existing object /root/.cache/torch/NeMo/NeMo_1.10.0/QuartzNet15x5Base-En/2b066be39e9294d7100fb176ec817722/QuartzNet15x5Base-En.nemo.\n",
      "[NeMo I 2022-07-25 21:06:17 cloud:62] Re-using file from: /root/.cache/torch/NeMo/NeMo_1.10.0/QuartzNet15x5Base-En/2b066be39e9294d7100fb176ec817722/QuartzNet15x5Base-En.nemo\n",
      "[NeMo I 2022-07-25 21:06:17 common:789] Instantiating model from pre-trained checkpoint\n",
      "[NeMo I 2022-07-25 21:06:18 features:200] PADDING: 16\n",
      "[NeMo I 2022-07-25 21:06:19 save_restore_connector:243] Model EncDecCTCModel was successfully restored from /root/.cache/torch/NeMo/NeMo_1.10.0/QuartzNet15x5Base-En/2b066be39e9294d7100fb176ec817722/QuartzNet15x5Base-En.nemo.\n"
     ]
    },
    {
     "data": {
      "application/vnd.jupyter.widget-view+json": {
       "model_id": "aadb87d427d34da1ad86b09b4ca3ba35",
       "version_major": 2,
       "version_minor": 0
      },
      "text/plain": [
       "Transcribing:   0%|          | 0/1 [00:00<?, ?it/s]"
      ]
     },
     "metadata": {},
     "output_type": "display_data"
    },
    {
     "name": "stdout",
     "output_type": "stream",
     "text": [
      "[NeMo I 2022-07-25 21:06:21 speaker_utils:82] Number of files to diarize: 1\n",
      "[NeMo I 2022-07-25 21:06:22 clustering_diarizer:153] Loading pretrained titanet_large model from NGC\n",
      "[NeMo I 2022-07-25 21:06:22 cloud:56] Found existing object /root/.cache/torch/NeMo/NeMo_1.10.0/titanet-l/492c0ab8416139171dc18c21879a9e45/titanet-l.nemo.\n",
      "[NeMo I 2022-07-25 21:06:22 cloud:62] Re-using file from: /root/.cache/torch/NeMo/NeMo_1.10.0/titanet-l/492c0ab8416139171dc18c21879a9e45/titanet-l.nemo\n",
      "[NeMo I 2022-07-25 21:06:22 common:789] Instantiating model from pre-trained checkpoint\n"
     ]
    },
    {
     "name": "stderr",
     "output_type": "stream",
     "text": [
      "[NeMo W 2022-07-25 21:06:23 modelPT:148] If you intend to do training or fine-tuning, please call the ModelPT.setup_training_data() method and provide a valid configuration file to setup the train data loader.\n",
      "    Train config : \n",
      "    manifest_filepath: /manifests/combined_fisher_swbd_voxceleb12_librispeech/train.json\n",
      "    sample_rate: 16000\n",
      "    labels: null\n",
      "    batch_size: 64\n",
      "    shuffle: true\n",
      "    time_length: 3\n",
      "    is_tarred: false\n",
      "    tarred_audio_filepaths: null\n",
      "    tarred_shard_strategy: scatter\n",
      "    augmentor:\n",
      "      noise:\n",
      "        manifest_path: /manifests/noise/rir_noise_manifest.json\n",
      "        prob: 0.5\n",
      "        min_snr_db: 0\n",
      "        max_snr_db: 15\n",
      "      speed:\n",
      "        prob: 0.5\n",
      "        sr: 16000\n",
      "        resample_type: kaiser_fast\n",
      "        min_speed_rate: 0.95\n",
      "        max_speed_rate: 1.05\n",
      "    num_workers: 15\n",
      "    pin_memory: true\n",
      "    \n",
      "[NeMo W 2022-07-25 21:06:23 modelPT:155] If you intend to do validation, please call the ModelPT.setup_validation_data() or ModelPT.setup_multiple_validation_data() method and provide a valid configuration file to setup the validation data loader(s). \n",
      "    Validation config : \n",
      "    manifest_filepath: /manifests/combined_fisher_swbd_voxceleb12_librispeech/dev.json\n",
      "    sample_rate: 16000\n",
      "    labels: null\n",
      "    batch_size: 128\n",
      "    shuffle: false\n",
      "    time_length: 3\n",
      "    num_workers: 15\n",
      "    pin_memory: true\n",
      "    \n"
     ]
    },
    {
     "name": "stdout",
     "output_type": "stream",
     "text": [
      "[NeMo I 2022-07-25 21:06:23 features:200] PADDING: 16\n",
      "[NeMo I 2022-07-25 21:06:24 label_models:100] loss is Angular Softmax\n",
      "[NeMo I 2022-07-25 21:06:24 save_restore_connector:243] Model EncDecSpeakerLabelModel was successfully restored from /root/.cache/torch/NeMo/NeMo_1.10.0/titanet-l/492c0ab8416139171dc18c21879a9e45/titanet-l.nemo.\n",
      "[NeMo I 2022-07-25 21:06:24 speaker_utils:82] Number of files to diarize: 1\n",
      "[NeMo I 2022-07-25 21:06:24 clustering_diarizer:271] Subsegmentation for embedding extraction: scale0, /home/DATA/amit_kesari/SD1/NeMo-ASR_Diar/data/voxconverse/speaker_outputs/subsegments_scale0.json\n",
      "[NeMo I 2022-07-25 21:06:24 clustering_diarizer:325] Extracting embeddings for Diarization\n",
      "[NeMo I 2022-07-25 21:06:24 collections:289] Filtered duration for loading collection is 0.000000.\n",
      "[NeMo I 2022-07-25 21:06:24 collections:293] # 2189 files loaded accounting to # 1 labels\n"
     ]
    },
    {
     "name": "stderr",
     "output_type": "stream",
     "text": [
      "100%|██████████| 35/35 [00:06<00:00,  5.76it/s]\n",
      "100%|██████████| 1/1 [00:09<00:00,  9.91s/it]\n"
     ]
    },
    {
     "name": "stdout",
     "output_type": "stream",
     "text": [
      "[NeMo I 2022-07-25 21:06:44 speaker_utils:460] Cumulative Results for collar 0.25 sec and ignore_overlap True: \n",
      "     FA: 0.0045\t MISS 0.2484\t                 Diarization ER: 0.4689\t, Confusion ER:0.2161\n",
      "[NeMo I 2022-07-25 21:06:44 clustering_diarizer:444] Outputs are saved in /home/DATA/amit_kesari/SD1/NeMo-ASR_Diar/data/voxconverse directory\n",
      "\n",
      "\n",
      "Diar score:  (<pyannote.metrics.diarization.DiarizationErrorRate object at 0x7fa15821c580>, {'jdrwl': {'speaker_0': 'spk05', 'speaker_1': 'spk03', 'speaker_2': 'spk04', 'speaker_3': 'spk02', 'speaker_5': 'spk01', 'speaker_6': 'spk06'}})\n",
      "Diarization error rate (DER) = 48.3%\n",
      "\n",
      "\n",
      "voxconverse_label:  jeymh\n",
      "num_speakers:  18\n",
      "[NeMo I 2022-07-25 21:06:47 speaker_utils:82] Number of files to diarize: 1\n",
      "[NeMo I 2022-07-25 21:06:47 cloud:56] Found existing object /root/.cache/torch/NeMo/NeMo_1.10.0/QuartzNet15x5Base-En/2b066be39e9294d7100fb176ec817722/QuartzNet15x5Base-En.nemo.\n",
      "[NeMo I 2022-07-25 21:06:47 cloud:62] Re-using file from: /root/.cache/torch/NeMo/NeMo_1.10.0/QuartzNet15x5Base-En/2b066be39e9294d7100fb176ec817722/QuartzNet15x5Base-En.nemo\n",
      "[NeMo I 2022-07-25 21:06:47 common:789] Instantiating model from pre-trained checkpoint\n",
      "[NeMo I 2022-07-25 21:06:48 features:200] PADDING: 16\n",
      "[NeMo I 2022-07-25 21:06:50 save_restore_connector:243] Model EncDecCTCModel was successfully restored from /root/.cache/torch/NeMo/NeMo_1.10.0/QuartzNet15x5Base-En/2b066be39e9294d7100fb176ec817722/QuartzNet15x5Base-En.nemo.\n"
     ]
    },
    {
     "data": {
      "application/vnd.jupyter.widget-view+json": {
       "model_id": "c0ecd53d461e4bf992b81b8b0ae82b22",
       "version_major": 2,
       "version_minor": 0
      },
      "text/plain": [
       "Transcribing:   0%|          | 0/1 [00:00<?, ?it/s]"
      ]
     },
     "metadata": {},
     "output_type": "display_data"
    },
    {
     "name": "stdout",
     "output_type": "stream",
     "text": [
      "[NeMo I 2022-07-25 21:06:51 speaker_utils:82] Number of files to diarize: 1\n",
      "[NeMo I 2022-07-25 21:06:52 clustering_diarizer:153] Loading pretrained titanet_large model from NGC\n",
      "[NeMo I 2022-07-25 21:06:52 cloud:56] Found existing object /root/.cache/torch/NeMo/NeMo_1.10.0/titanet-l/492c0ab8416139171dc18c21879a9e45/titanet-l.nemo.\n",
      "[NeMo I 2022-07-25 21:06:52 cloud:62] Re-using file from: /root/.cache/torch/NeMo/NeMo_1.10.0/titanet-l/492c0ab8416139171dc18c21879a9e45/titanet-l.nemo\n",
      "[NeMo I 2022-07-25 21:06:52 common:789] Instantiating model from pre-trained checkpoint\n"
     ]
    },
    {
     "name": "stderr",
     "output_type": "stream",
     "text": [
      "[NeMo W 2022-07-25 21:06:53 modelPT:148] If you intend to do training or fine-tuning, please call the ModelPT.setup_training_data() method and provide a valid configuration file to setup the train data loader.\n",
      "    Train config : \n",
      "    manifest_filepath: /manifests/combined_fisher_swbd_voxceleb12_librispeech/train.json\n",
      "    sample_rate: 16000\n",
      "    labels: null\n",
      "    batch_size: 64\n",
      "    shuffle: true\n",
      "    time_length: 3\n",
      "    is_tarred: false\n",
      "    tarred_audio_filepaths: null\n",
      "    tarred_shard_strategy: scatter\n",
      "    augmentor:\n",
      "      noise:\n",
      "        manifest_path: /manifests/noise/rir_noise_manifest.json\n",
      "        prob: 0.5\n",
      "        min_snr_db: 0\n",
      "        max_snr_db: 15\n",
      "      speed:\n",
      "        prob: 0.5\n",
      "        sr: 16000\n",
      "        resample_type: kaiser_fast\n",
      "        min_speed_rate: 0.95\n",
      "        max_speed_rate: 1.05\n",
      "    num_workers: 15\n",
      "    pin_memory: true\n",
      "    \n",
      "[NeMo W 2022-07-25 21:06:53 modelPT:155] If you intend to do validation, please call the ModelPT.setup_validation_data() or ModelPT.setup_multiple_validation_data() method and provide a valid configuration file to setup the validation data loader(s). \n",
      "    Validation config : \n",
      "    manifest_filepath: /manifests/combined_fisher_swbd_voxceleb12_librispeech/dev.json\n",
      "    sample_rate: 16000\n",
      "    labels: null\n",
      "    batch_size: 128\n",
      "    shuffle: false\n",
      "    time_length: 3\n",
      "    num_workers: 15\n",
      "    pin_memory: true\n",
      "    \n"
     ]
    },
    {
     "name": "stdout",
     "output_type": "stream",
     "text": [
      "[NeMo I 2022-07-25 21:06:53 features:200] PADDING: 16\n",
      "[NeMo I 2022-07-25 21:06:54 label_models:100] loss is Angular Softmax\n",
      "[NeMo I 2022-07-25 21:06:54 save_restore_connector:243] Model EncDecSpeakerLabelModel was successfully restored from /root/.cache/torch/NeMo/NeMo_1.10.0/titanet-l/492c0ab8416139171dc18c21879a9e45/titanet-l.nemo.\n",
      "[NeMo I 2022-07-25 21:06:54 speaker_utils:82] Number of files to diarize: 1\n",
      "[NeMo I 2022-07-25 21:06:54 clustering_diarizer:271] Subsegmentation for embedding extraction: scale0, /home/DATA/amit_kesari/SD1/NeMo-ASR_Diar/data/voxconverse/speaker_outputs/subsegments_scale0.json\n",
      "[NeMo I 2022-07-25 21:06:54 clustering_diarizer:325] Extracting embeddings for Diarization\n",
      "[NeMo I 2022-07-25 21:06:54 collections:289] Filtered duration for loading collection is 0.000000.\n",
      "[NeMo I 2022-07-25 21:06:54 collections:293] # 2326 files loaded accounting to # 1 labels\n"
     ]
    },
    {
     "name": "stderr",
     "output_type": "stream",
     "text": [
      "100%|██████████| 37/37 [00:06<00:00,  5.57it/s]\n",
      "100%|██████████| 1/1 [00:11<00:00, 11.54s/it]\n"
     ]
    },
    {
     "name": "stdout",
     "output_type": "stream",
     "text": [
      "[NeMo I 2022-07-25 21:07:16 speaker_utils:460] Cumulative Results for collar 0.25 sec and ignore_overlap True: \n",
      "     FA: 0.0431\t MISS 0.2360\t                 Diarization ER: 0.5144\t, Confusion ER:0.2353\n",
      "[NeMo I 2022-07-25 21:07:16 clustering_diarizer:444] Outputs are saved in /home/DATA/amit_kesari/SD1/NeMo-ASR_Diar/data/voxconverse directory\n",
      "\n",
      "\n",
      "Diar score:  (<pyannote.metrics.diarization.DiarizationErrorRate object at 0x7fa048ce76a0>, {'jeymh': {'speaker_0': 'spk05', 'speaker_1': 'spk13', 'speaker_11': 'spk01', 'speaker_13': 'spk14', 'speaker_14': 'spk15', 'speaker_15': 'spk03', 'speaker_16': 'spk17', 'speaker_17': 'spk04', 'speaker_2': 'spk08', 'speaker_4': 'spk12', 'speaker_7': 'spk02'}})\n",
      "Diarization error rate (DER) = 53.2%\n",
      "\n",
      "\n",
      "voxconverse_label:  jgiyq\n",
      "num_speakers:  9\n",
      "[NeMo I 2022-07-25 21:07:20 speaker_utils:82] Number of files to diarize: 1\n",
      "[NeMo I 2022-07-25 21:07:20 cloud:56] Found existing object /root/.cache/torch/NeMo/NeMo_1.10.0/QuartzNet15x5Base-En/2b066be39e9294d7100fb176ec817722/QuartzNet15x5Base-En.nemo.\n",
      "[NeMo I 2022-07-25 21:07:20 cloud:62] Re-using file from: /root/.cache/torch/NeMo/NeMo_1.10.0/QuartzNet15x5Base-En/2b066be39e9294d7100fb176ec817722/QuartzNet15x5Base-En.nemo\n",
      "[NeMo I 2022-07-25 21:07:20 common:789] Instantiating model from pre-trained checkpoint\n",
      "[NeMo I 2022-07-25 21:07:21 features:200] PADDING: 16\n",
      "[NeMo I 2022-07-25 21:07:23 save_restore_connector:243] Model EncDecCTCModel was successfully restored from /root/.cache/torch/NeMo/NeMo_1.10.0/QuartzNet15x5Base-En/2b066be39e9294d7100fb176ec817722/QuartzNet15x5Base-En.nemo.\n"
     ]
    },
    {
     "data": {
      "application/vnd.jupyter.widget-view+json": {
       "model_id": "f695a43127454c9f9cea3180e973d2cf",
       "version_major": 2,
       "version_minor": 0
      },
      "text/plain": [
       "Transcribing:   0%|          | 0/1 [00:00<?, ?it/s]"
      ]
     },
     "metadata": {},
     "output_type": "display_data"
    },
    {
     "name": "stdout",
     "output_type": "stream",
     "text": [
      "[NeMo I 2022-07-25 21:07:24 speaker_utils:82] Number of files to diarize: 1\n",
      "[NeMo I 2022-07-25 21:07:24 clustering_diarizer:153] Loading pretrained titanet_large model from NGC\n",
      "[NeMo I 2022-07-25 21:07:24 cloud:56] Found existing object /root/.cache/torch/NeMo/NeMo_1.10.0/titanet-l/492c0ab8416139171dc18c21879a9e45/titanet-l.nemo.\n",
      "[NeMo I 2022-07-25 21:07:24 cloud:62] Re-using file from: /root/.cache/torch/NeMo/NeMo_1.10.0/titanet-l/492c0ab8416139171dc18c21879a9e45/titanet-l.nemo\n",
      "[NeMo I 2022-07-25 21:07:24 common:789] Instantiating model from pre-trained checkpoint\n"
     ]
    },
    {
     "name": "stderr",
     "output_type": "stream",
     "text": [
      "[NeMo W 2022-07-25 21:07:25 modelPT:148] If you intend to do training or fine-tuning, please call the ModelPT.setup_training_data() method and provide a valid configuration file to setup the train data loader.\n",
      "    Train config : \n",
      "    manifest_filepath: /manifests/combined_fisher_swbd_voxceleb12_librispeech/train.json\n",
      "    sample_rate: 16000\n",
      "    labels: null\n",
      "    batch_size: 64\n",
      "    shuffle: true\n",
      "    time_length: 3\n",
      "    is_tarred: false\n",
      "    tarred_audio_filepaths: null\n",
      "    tarred_shard_strategy: scatter\n",
      "    augmentor:\n",
      "      noise:\n",
      "        manifest_path: /manifests/noise/rir_noise_manifest.json\n",
      "        prob: 0.5\n",
      "        min_snr_db: 0\n",
      "        max_snr_db: 15\n",
      "      speed:\n",
      "        prob: 0.5\n",
      "        sr: 16000\n",
      "        resample_type: kaiser_fast\n",
      "        min_speed_rate: 0.95\n",
      "        max_speed_rate: 1.05\n",
      "    num_workers: 15\n",
      "    pin_memory: true\n",
      "    \n",
      "[NeMo W 2022-07-25 21:07:25 modelPT:155] If you intend to do validation, please call the ModelPT.setup_validation_data() or ModelPT.setup_multiple_validation_data() method and provide a valid configuration file to setup the validation data loader(s). \n",
      "    Validation config : \n",
      "    manifest_filepath: /manifests/combined_fisher_swbd_voxceleb12_librispeech/dev.json\n",
      "    sample_rate: 16000\n",
      "    labels: null\n",
      "    batch_size: 128\n",
      "    shuffle: false\n",
      "    time_length: 3\n",
      "    num_workers: 15\n",
      "    pin_memory: true\n",
      "    \n"
     ]
    },
    {
     "name": "stdout",
     "output_type": "stream",
     "text": [
      "[NeMo I 2022-07-25 21:07:25 features:200] PADDING: 16\n",
      "[NeMo I 2022-07-25 21:07:26 label_models:100] loss is Angular Softmax\n",
      "[NeMo I 2022-07-25 21:07:26 save_restore_connector:243] Model EncDecSpeakerLabelModel was successfully restored from /root/.cache/torch/NeMo/NeMo_1.10.0/titanet-l/492c0ab8416139171dc18c21879a9e45/titanet-l.nemo.\n",
      "[NeMo I 2022-07-25 21:07:29 speaker_utils:82] Number of files to diarize: 1\n",
      "[NeMo I 2022-07-25 21:07:29 clustering_diarizer:271] Subsegmentation for embedding extraction: scale0, /home/DATA/amit_kesari/SD1/NeMo-ASR_Diar/data/voxconverse/speaker_outputs/subsegments_scale0.json\n",
      "[NeMo I 2022-07-25 21:07:30 clustering_diarizer:325] Extracting embeddings for Diarization\n",
      "[NeMo I 2022-07-25 21:07:30 collections:289] Filtered duration for loading collection is 0.000000.\n",
      "[NeMo I 2022-07-25 21:07:30 collections:293] # 2426 files loaded accounting to # 1 labels\n"
     ]
    },
    {
     "name": "stderr",
     "output_type": "stream",
     "text": [
      "100%|██████████| 38/38 [00:06<00:00,  5.63it/s]\n",
      "100%|██████████| 1/1 [00:10<00:00, 10.12s/it]\n"
     ]
    },
    {
     "name": "stdout",
     "output_type": "stream",
     "text": [
      "[NeMo I 2022-07-25 21:07:51 speaker_utils:460] Cumulative Results for collar 0.25 sec and ignore_overlap True: \n",
      "     FA: 0.0438\t MISS 0.2206\t                 Diarization ER: 0.4093\t, Confusion ER:0.1448\n",
      "[NeMo I 2022-07-25 21:07:51 clustering_diarizer:444] Outputs are saved in /home/DATA/amit_kesari/SD1/NeMo-ASR_Diar/data/voxconverse directory\n",
      "\n",
      "\n",
      "Diar score:  (<pyannote.metrics.diarization.DiarizationErrorRate object at 0x7fa04924ad00>, {'jgiyq': {'speaker_0': 'spk05', 'speaker_1': 'spk00', 'speaker_2': 'spk01', 'speaker_3': 'spk07', 'speaker_4': 'spk02', 'speaker_5': 'spk06', 'speaker_6': 'spk04', 'speaker_7': 'spk08', 'speaker_8': 'spk03'}})\n",
      "Diarization error rate (DER) = 44.6%\n",
      "\n",
      "\n",
      "voxconverse_label:  jjkrt\n",
      "num_speakers:  6\n",
      "[NeMo I 2022-07-25 21:07:56 speaker_utils:82] Number of files to diarize: 1\n",
      "[NeMo I 2022-07-25 21:07:56 cloud:56] Found existing object /root/.cache/torch/NeMo/NeMo_1.10.0/QuartzNet15x5Base-En/2b066be39e9294d7100fb176ec817722/QuartzNet15x5Base-En.nemo.\n",
      "[NeMo I 2022-07-25 21:07:56 cloud:62] Re-using file from: /root/.cache/torch/NeMo/NeMo_1.10.0/QuartzNet15x5Base-En/2b066be39e9294d7100fb176ec817722/QuartzNet15x5Base-En.nemo\n",
      "[NeMo I 2022-07-25 21:07:56 common:789] Instantiating model from pre-trained checkpoint\n",
      "[NeMo I 2022-07-25 21:07:57 features:200] PADDING: 16\n",
      "[NeMo I 2022-07-25 21:07:58 save_restore_connector:243] Model EncDecCTCModel was successfully restored from /root/.cache/torch/NeMo/NeMo_1.10.0/QuartzNet15x5Base-En/2b066be39e9294d7100fb176ec817722/QuartzNet15x5Base-En.nemo.\n"
     ]
    },
    {
     "data": {
      "application/vnd.jupyter.widget-view+json": {
       "model_id": "e32dc51115f54d6ba1200904b8bf295c",
       "version_major": 2,
       "version_minor": 0
      },
      "text/plain": [
       "Transcribing:   0%|          | 0/1 [00:00<?, ?it/s]"
      ]
     },
     "metadata": {},
     "output_type": "display_data"
    },
    {
     "name": "stdout",
     "output_type": "stream",
     "text": [
      "[NeMo I 2022-07-25 21:07:59 speaker_utils:82] Number of files to diarize: 1\n",
      "[NeMo I 2022-07-25 21:08:03 clustering_diarizer:153] Loading pretrained titanet_large model from NGC\n",
      "[NeMo I 2022-07-25 21:08:03 cloud:56] Found existing object /root/.cache/torch/NeMo/NeMo_1.10.0/titanet-l/492c0ab8416139171dc18c21879a9e45/titanet-l.nemo.\n",
      "[NeMo I 2022-07-25 21:08:03 cloud:62] Re-using file from: /root/.cache/torch/NeMo/NeMo_1.10.0/titanet-l/492c0ab8416139171dc18c21879a9e45/titanet-l.nemo\n",
      "[NeMo I 2022-07-25 21:08:04 common:789] Instantiating model from pre-trained checkpoint\n"
     ]
    },
    {
     "name": "stderr",
     "output_type": "stream",
     "text": [
      "[NeMo W 2022-07-25 21:08:04 modelPT:148] If you intend to do training or fine-tuning, please call the ModelPT.setup_training_data() method and provide a valid configuration file to setup the train data loader.\n",
      "    Train config : \n",
      "    manifest_filepath: /manifests/combined_fisher_swbd_voxceleb12_librispeech/train.json\n",
      "    sample_rate: 16000\n",
      "    labels: null\n",
      "    batch_size: 64\n",
      "    shuffle: true\n",
      "    time_length: 3\n",
      "    is_tarred: false\n",
      "    tarred_audio_filepaths: null\n",
      "    tarred_shard_strategy: scatter\n",
      "    augmentor:\n",
      "      noise:\n",
      "        manifest_path: /manifests/noise/rir_noise_manifest.json\n",
      "        prob: 0.5\n",
      "        min_snr_db: 0\n",
      "        max_snr_db: 15\n",
      "      speed:\n",
      "        prob: 0.5\n",
      "        sr: 16000\n",
      "        resample_type: kaiser_fast\n",
      "        min_speed_rate: 0.95\n",
      "        max_speed_rate: 1.05\n",
      "    num_workers: 15\n",
      "    pin_memory: true\n",
      "    \n",
      "[NeMo W 2022-07-25 21:08:04 modelPT:155] If you intend to do validation, please call the ModelPT.setup_validation_data() or ModelPT.setup_multiple_validation_data() method and provide a valid configuration file to setup the validation data loader(s). \n",
      "    Validation config : \n",
      "    manifest_filepath: /manifests/combined_fisher_swbd_voxceleb12_librispeech/dev.json\n",
      "    sample_rate: 16000\n",
      "    labels: null\n",
      "    batch_size: 128\n",
      "    shuffle: false\n",
      "    time_length: 3\n",
      "    num_workers: 15\n",
      "    pin_memory: true\n",
      "    \n"
     ]
    },
    {
     "name": "stdout",
     "output_type": "stream",
     "text": [
      "[NeMo I 2022-07-25 21:08:04 features:200] PADDING: 16\n",
      "[NeMo I 2022-07-25 21:08:05 label_models:100] loss is Angular Softmax\n",
      "[NeMo I 2022-07-25 21:08:05 save_restore_connector:243] Model EncDecSpeakerLabelModel was successfully restored from /root/.cache/torch/NeMo/NeMo_1.10.0/titanet-l/492c0ab8416139171dc18c21879a9e45/titanet-l.nemo.\n",
      "[NeMo I 2022-07-25 21:08:05 speaker_utils:82] Number of files to diarize: 1\n",
      "[NeMo I 2022-07-25 21:08:05 clustering_diarizer:271] Subsegmentation for embedding extraction: scale0, /home/DATA/amit_kesari/SD1/NeMo-ASR_Diar/data/voxconverse/speaker_outputs/subsegments_scale0.json\n",
      "[NeMo I 2022-07-25 21:08:05 clustering_diarizer:325] Extracting embeddings for Diarization\n",
      "[NeMo I 2022-07-25 21:08:05 collections:289] Filtered duration for loading collection is 0.000000.\n",
      "[NeMo I 2022-07-25 21:08:05 collections:293] # 1181 files loaded accounting to # 1 labels\n"
     ]
    },
    {
     "name": "stderr",
     "output_type": "stream",
     "text": [
      "100%|██████████| 19/19 [00:03<00:00,  5.31it/s]\n",
      "100%|██████████| 1/1 [00:10<00:00, 10.71s/it]\n"
     ]
    },
    {
     "name": "stdout",
     "output_type": "stream",
     "text": [
      "[NeMo I 2022-07-25 21:08:21 speaker_utils:460] Cumulative Results for collar 0.25 sec and ignore_overlap True: \n",
      "     FA: 0.0705\t MISS 0.0803\t                 Diarization ER: 0.1644\t, Confusion ER:0.0136\n",
      "[NeMo I 2022-07-25 21:08:21 clustering_diarizer:444] Outputs are saved in /home/DATA/amit_kesari/SD1/NeMo-ASR_Diar/data/voxconverse directory\n",
      "\n",
      "\n",
      "Diar score:  (<pyannote.metrics.diarization.DiarizationErrorRate object at 0x7fa157cd8910>, {'jjkrt': {'speaker_0': 'spk01', 'speaker_1': 'spk00', 'speaker_2': 'spk04', 'speaker_3': 'spk03', 'speaker_4': 'spk02', 'speaker_5': 'spk05'}})\n",
      "Diarization error rate (DER) = 24.3%\n",
      "\n",
      "\n",
      "voxconverse_label:  jjvkx\n",
      "num_speakers:  6\n",
      "[NeMo I 2022-07-25 21:08:22 speaker_utils:82] Number of files to diarize: 1\n",
      "[NeMo I 2022-07-25 21:08:22 cloud:56] Found existing object /root/.cache/torch/NeMo/NeMo_1.10.0/QuartzNet15x5Base-En/2b066be39e9294d7100fb176ec817722/QuartzNet15x5Base-En.nemo.\n",
      "[NeMo I 2022-07-25 21:08:22 cloud:62] Re-using file from: /root/.cache/torch/NeMo/NeMo_1.10.0/QuartzNet15x5Base-En/2b066be39e9294d7100fb176ec817722/QuartzNet15x5Base-En.nemo\n",
      "[NeMo I 2022-07-25 21:08:22 common:789] Instantiating model from pre-trained checkpoint\n",
      "[NeMo I 2022-07-25 21:08:22 features:200] PADDING: 16\n",
      "[NeMo I 2022-07-25 21:08:24 save_restore_connector:243] Model EncDecCTCModel was successfully restored from /root/.cache/torch/NeMo/NeMo_1.10.0/QuartzNet15x5Base-En/2b066be39e9294d7100fb176ec817722/QuartzNet15x5Base-En.nemo.\n"
     ]
    },
    {
     "data": {
      "application/vnd.jupyter.widget-view+json": {
       "model_id": "ac419a3eeef54097b5770970ebfb1003",
       "version_major": 2,
       "version_minor": 0
      },
      "text/plain": [
       "Transcribing:   0%|          | 0/1 [00:00<?, ?it/s]"
      ]
     },
     "metadata": {},
     "output_type": "display_data"
    },
    {
     "name": "stdout",
     "output_type": "stream",
     "text": [
      "[NeMo I 2022-07-25 21:08:24 speaker_utils:82] Number of files to diarize: 1\n",
      "[NeMo I 2022-07-25 21:08:24 clustering_diarizer:153] Loading pretrained titanet_large model from NGC\n",
      "[NeMo I 2022-07-25 21:08:24 cloud:56] Found existing object /root/.cache/torch/NeMo/NeMo_1.10.0/titanet-l/492c0ab8416139171dc18c21879a9e45/titanet-l.nemo.\n",
      "[NeMo I 2022-07-25 21:08:24 cloud:62] Re-using file from: /root/.cache/torch/NeMo/NeMo_1.10.0/titanet-l/492c0ab8416139171dc18c21879a9e45/titanet-l.nemo\n",
      "[NeMo I 2022-07-25 21:08:24 common:789] Instantiating model from pre-trained checkpoint\n"
     ]
    },
    {
     "name": "stderr",
     "output_type": "stream",
     "text": [
      "[NeMo W 2022-07-25 21:08:25 modelPT:148] If you intend to do training or fine-tuning, please call the ModelPT.setup_training_data() method and provide a valid configuration file to setup the train data loader.\n",
      "    Train config : \n",
      "    manifest_filepath: /manifests/combined_fisher_swbd_voxceleb12_librispeech/train.json\n",
      "    sample_rate: 16000\n",
      "    labels: null\n",
      "    batch_size: 64\n",
      "    shuffle: true\n",
      "    time_length: 3\n",
      "    is_tarred: false\n",
      "    tarred_audio_filepaths: null\n",
      "    tarred_shard_strategy: scatter\n",
      "    augmentor:\n",
      "      noise:\n",
      "        manifest_path: /manifests/noise/rir_noise_manifest.json\n",
      "        prob: 0.5\n",
      "        min_snr_db: 0\n",
      "        max_snr_db: 15\n",
      "      speed:\n",
      "        prob: 0.5\n",
      "        sr: 16000\n",
      "        resample_type: kaiser_fast\n",
      "        min_speed_rate: 0.95\n",
      "        max_speed_rate: 1.05\n",
      "    num_workers: 15\n",
      "    pin_memory: true\n",
      "    \n",
      "[NeMo W 2022-07-25 21:08:25 modelPT:155] If you intend to do validation, please call the ModelPT.setup_validation_data() or ModelPT.setup_multiple_validation_data() method and provide a valid configuration file to setup the validation data loader(s). \n",
      "    Validation config : \n",
      "    manifest_filepath: /manifests/combined_fisher_swbd_voxceleb12_librispeech/dev.json\n",
      "    sample_rate: 16000\n",
      "    labels: null\n",
      "    batch_size: 128\n",
      "    shuffle: false\n",
      "    time_length: 3\n",
      "    num_workers: 15\n",
      "    pin_memory: true\n",
      "    \n"
     ]
    },
    {
     "name": "stdout",
     "output_type": "stream",
     "text": [
      "[NeMo I 2022-07-25 21:08:25 features:200] PADDING: 16\n",
      "[NeMo I 2022-07-25 21:08:25 label_models:100] loss is Angular Softmax\n",
      "[NeMo I 2022-07-25 21:08:26 save_restore_connector:243] Model EncDecSpeakerLabelModel was successfully restored from /root/.cache/torch/NeMo/NeMo_1.10.0/titanet-l/492c0ab8416139171dc18c21879a9e45/titanet-l.nemo.\n",
      "[NeMo I 2022-07-25 21:08:26 speaker_utils:82] Number of files to diarize: 1\n",
      "[NeMo I 2022-07-25 21:08:26 clustering_diarizer:271] Subsegmentation for embedding extraction: scale0, /home/DATA/amit_kesari/SD1/NeMo-ASR_Diar/data/voxconverse/speaker_outputs/subsegments_scale0.json\n",
      "[NeMo I 2022-07-25 21:08:26 clustering_diarizer:325] Extracting embeddings for Diarization\n",
      "[NeMo I 2022-07-25 21:08:26 collections:289] Filtered duration for loading collection is 0.000000.\n",
      "[NeMo I 2022-07-25 21:08:26 collections:293] # 397 files loaded accounting to # 1 labels\n"
     ]
    },
    {
     "name": "stderr",
     "output_type": "stream",
     "text": [
      "100%|██████████| 7/7 [00:01<00:00,  5.49it/s]\n",
      "100%|██████████| 1/1 [00:09<00:00,  9.77s/it]"
     ]
    },
    {
     "name": "stdout",
     "output_type": "stream",
     "text": [
      "[NeMo I 2022-07-25 21:08:37 speaker_utils:460] Cumulative Results for collar 0.25 sec and ignore_overlap True: \n",
      "     FA: 0.0113\t MISS 0.2642\t                 Diarization ER: 0.4536\t, Confusion ER:0.1781\n",
      "[NeMo I 2022-07-25 21:08:37 clustering_diarizer:444] Outputs are saved in /home/DATA/amit_kesari/SD1/NeMo-ASR_Diar/data/voxconverse directory\n"
     ]
    },
    {
     "name": "stderr",
     "output_type": "stream",
     "text": [
      "\n"
     ]
    },
    {
     "name": "stdout",
     "output_type": "stream",
     "text": [
      "\n",
      "\n",
      "Diar score:  (<pyannote.metrics.diarization.DiarizationErrorRate object at 0x7fa1408b3b80>, {'jjvkx': {'speaker_0': 'spk05', 'speaker_1': 'spk03', 'speaker_2': 'spk01', 'speaker_3': 'spk04', 'speaker_4': 'spk00', 'speaker_5': 'spk02'}})\n",
      "Diarization error rate (DER) = 46.9%\n",
      "\n",
      "\n",
      "voxconverse_label:  jrfaz\n",
      "num_speakers:  9\n",
      "[NeMo I 2022-07-25 21:08:37 speaker_utils:82] Number of files to diarize: 1\n",
      "[NeMo I 2022-07-25 21:08:37 cloud:56] Found existing object /root/.cache/torch/NeMo/NeMo_1.10.0/QuartzNet15x5Base-En/2b066be39e9294d7100fb176ec817722/QuartzNet15x5Base-En.nemo.\n",
      "[NeMo I 2022-07-25 21:08:37 cloud:62] Re-using file from: /root/.cache/torch/NeMo/NeMo_1.10.0/QuartzNet15x5Base-En/2b066be39e9294d7100fb176ec817722/QuartzNet15x5Base-En.nemo\n",
      "[NeMo I 2022-07-25 21:08:37 common:789] Instantiating model from pre-trained checkpoint\n",
      "[NeMo I 2022-07-25 21:08:38 features:200] PADDING: 16\n",
      "[NeMo I 2022-07-25 21:08:39 save_restore_connector:243] Model EncDecCTCModel was successfully restored from /root/.cache/torch/NeMo/NeMo_1.10.0/QuartzNet15x5Base-En/2b066be39e9294d7100fb176ec817722/QuartzNet15x5Base-En.nemo.\n"
     ]
    },
    {
     "data": {
      "application/vnd.jupyter.widget-view+json": {
       "model_id": "e8cd340921f54cf998d6999ac5f7a8bc",
       "version_major": 2,
       "version_minor": 0
      },
      "text/plain": [
       "Transcribing:   0%|          | 0/1 [00:00<?, ?it/s]"
      ]
     },
     "metadata": {},
     "output_type": "display_data"
    },
    {
     "name": "stdout",
     "output_type": "stream",
     "text": [
      "[NeMo I 2022-07-25 21:08:45 speaker_utils:82] Number of files to diarize: 1\n",
      "[NeMo I 2022-07-25 21:08:45 clustering_diarizer:153] Loading pretrained titanet_large model from NGC\n",
      "[NeMo I 2022-07-25 21:08:45 cloud:56] Found existing object /root/.cache/torch/NeMo/NeMo_1.10.0/titanet-l/492c0ab8416139171dc18c21879a9e45/titanet-l.nemo.\n",
      "[NeMo I 2022-07-25 21:08:45 cloud:62] Re-using file from: /root/.cache/torch/NeMo/NeMo_1.10.0/titanet-l/492c0ab8416139171dc18c21879a9e45/titanet-l.nemo\n",
      "[NeMo I 2022-07-25 21:08:45 common:789] Instantiating model from pre-trained checkpoint\n"
     ]
    },
    {
     "name": "stderr",
     "output_type": "stream",
     "text": [
      "[NeMo W 2022-07-25 21:08:46 modelPT:148] If you intend to do training or fine-tuning, please call the ModelPT.setup_training_data() method and provide a valid configuration file to setup the train data loader.\n",
      "    Train config : \n",
      "    manifest_filepath: /manifests/combined_fisher_swbd_voxceleb12_librispeech/train.json\n",
      "    sample_rate: 16000\n",
      "    labels: null\n",
      "    batch_size: 64\n",
      "    shuffle: true\n",
      "    time_length: 3\n",
      "    is_tarred: false\n",
      "    tarred_audio_filepaths: null\n",
      "    tarred_shard_strategy: scatter\n",
      "    augmentor:\n",
      "      noise:\n",
      "        manifest_path: /manifests/noise/rir_noise_manifest.json\n",
      "        prob: 0.5\n",
      "        min_snr_db: 0\n",
      "        max_snr_db: 15\n",
      "      speed:\n",
      "        prob: 0.5\n",
      "        sr: 16000\n",
      "        resample_type: kaiser_fast\n",
      "        min_speed_rate: 0.95\n",
      "        max_speed_rate: 1.05\n",
      "    num_workers: 15\n",
      "    pin_memory: true\n",
      "    \n",
      "[NeMo W 2022-07-25 21:08:46 modelPT:155] If you intend to do validation, please call the ModelPT.setup_validation_data() or ModelPT.setup_multiple_validation_data() method and provide a valid configuration file to setup the validation data loader(s). \n",
      "    Validation config : \n",
      "    manifest_filepath: /manifests/combined_fisher_swbd_voxceleb12_librispeech/dev.json\n",
      "    sample_rate: 16000\n",
      "    labels: null\n",
      "    batch_size: 128\n",
      "    shuffle: false\n",
      "    time_length: 3\n",
      "    num_workers: 15\n",
      "    pin_memory: true\n",
      "    \n"
     ]
    },
    {
     "name": "stdout",
     "output_type": "stream",
     "text": [
      "[NeMo I 2022-07-25 21:08:46 features:200] PADDING: 16\n",
      "[NeMo I 2022-07-25 21:08:47 label_models:100] loss is Angular Softmax\n",
      "[NeMo I 2022-07-25 21:08:47 save_restore_connector:243] Model EncDecSpeakerLabelModel was successfully restored from /root/.cache/torch/NeMo/NeMo_1.10.0/titanet-l/492c0ab8416139171dc18c21879a9e45/titanet-l.nemo.\n",
      "[NeMo I 2022-07-25 21:08:47 speaker_utils:82] Number of files to diarize: 1\n",
      "[NeMo I 2022-07-25 21:08:47 clustering_diarizer:271] Subsegmentation for embedding extraction: scale0, /home/DATA/amit_kesari/SD1/NeMo-ASR_Diar/data/voxconverse/speaker_outputs/subsegments_scale0.json\n",
      "[NeMo I 2022-07-25 21:08:47 clustering_diarizer:325] Extracting embeddings for Diarization\n",
      "[NeMo I 2022-07-25 21:08:47 collections:289] Filtered duration for loading collection is 0.000000.\n",
      "[NeMo I 2022-07-25 21:08:47 collections:293] # 2151 files loaded accounting to # 1 labels\n"
     ]
    },
    {
     "name": "stderr",
     "output_type": "stream",
     "text": [
      "100%|██████████| 34/34 [00:06<00:00,  5.57it/s]\n",
      "100%|██████████| 1/1 [00:09<00:00,  9.26s/it]\n"
     ]
    },
    {
     "name": "stdout",
     "output_type": "stream",
     "text": [
      "[NeMo I 2022-07-25 21:09:06 speaker_utils:460] Cumulative Results for collar 0.25 sec and ignore_overlap True: \n",
      "     FA: 0.0214\t MISS 0.2517\t                 Diarization ER: 0.4405\t, Confusion ER:0.1674\n",
      "[NeMo I 2022-07-25 21:09:06 clustering_diarizer:444] Outputs are saved in /home/DATA/amit_kesari/SD1/NeMo-ASR_Diar/data/voxconverse directory\n",
      "\n",
      "\n",
      "Diar score:  (<pyannote.metrics.diarization.DiarizationErrorRate object at 0x7fa06c8c96a0>, {'jrfaz': {'speaker_0': 'spk02', 'speaker_1': 'spk06', 'speaker_2': 'spk04', 'speaker_3': 'spk05', 'speaker_5': 'spk03', 'speaker_6': 'spk08', 'speaker_7': 'spk01', 'speaker_8': 'spk00'}})\n",
      "Diarization error rate (DER) = 47.3%\n",
      "\n",
      "\n",
      "voxconverse_label:  jsbdo\n",
      "num_speakers:  7\n",
      "[NeMo I 2022-07-25 21:09:10 speaker_utils:82] Number of files to diarize: 1\n",
      "[NeMo I 2022-07-25 21:09:10 cloud:56] Found existing object /root/.cache/torch/NeMo/NeMo_1.10.0/QuartzNet15x5Base-En/2b066be39e9294d7100fb176ec817722/QuartzNet15x5Base-En.nemo.\n",
      "[NeMo I 2022-07-25 21:09:10 cloud:62] Re-using file from: /root/.cache/torch/NeMo/NeMo_1.10.0/QuartzNet15x5Base-En/2b066be39e9294d7100fb176ec817722/QuartzNet15x5Base-En.nemo\n",
      "[NeMo I 2022-07-25 21:09:10 common:789] Instantiating model from pre-trained checkpoint\n",
      "[NeMo I 2022-07-25 21:09:11 features:200] PADDING: 16\n",
      "[NeMo I 2022-07-25 21:09:12 save_restore_connector:243] Model EncDecCTCModel was successfully restored from /root/.cache/torch/NeMo/NeMo_1.10.0/QuartzNet15x5Base-En/2b066be39e9294d7100fb176ec817722/QuartzNet15x5Base-En.nemo.\n"
     ]
    },
    {
     "data": {
      "application/vnd.jupyter.widget-view+json": {
       "model_id": "ad1c7dbf813845a8b49bed7cec0b7366",
       "version_major": 2,
       "version_minor": 0
      },
      "text/plain": [
       "Transcribing:   0%|          | 0/1 [00:00<?, ?it/s]"
      ]
     },
     "metadata": {},
     "output_type": "display_data"
    },
    {
     "name": "stdout",
     "output_type": "stream",
     "text": [
      "[NeMo I 2022-07-25 21:09:13 speaker_utils:82] Number of files to diarize: 1\n",
      "[NeMo I 2022-07-25 21:09:13 clustering_diarizer:153] Loading pretrained titanet_large model from NGC\n",
      "[NeMo I 2022-07-25 21:09:13 cloud:56] Found existing object /root/.cache/torch/NeMo/NeMo_1.10.0/titanet-l/492c0ab8416139171dc18c21879a9e45/titanet-l.nemo.\n",
      "[NeMo I 2022-07-25 21:09:13 cloud:62] Re-using file from: /root/.cache/torch/NeMo/NeMo_1.10.0/titanet-l/492c0ab8416139171dc18c21879a9e45/titanet-l.nemo\n",
      "[NeMo I 2022-07-25 21:09:13 common:789] Instantiating model from pre-trained checkpoint\n"
     ]
    },
    {
     "name": "stderr",
     "output_type": "stream",
     "text": [
      "[NeMo W 2022-07-25 21:09:14 modelPT:148] If you intend to do training or fine-tuning, please call the ModelPT.setup_training_data() method and provide a valid configuration file to setup the train data loader.\n",
      "    Train config : \n",
      "    manifest_filepath: /manifests/combined_fisher_swbd_voxceleb12_librispeech/train.json\n",
      "    sample_rate: 16000\n",
      "    labels: null\n",
      "    batch_size: 64\n",
      "    shuffle: true\n",
      "    time_length: 3\n",
      "    is_tarred: false\n",
      "    tarred_audio_filepaths: null\n",
      "    tarred_shard_strategy: scatter\n",
      "    augmentor:\n",
      "      noise:\n",
      "        manifest_path: /manifests/noise/rir_noise_manifest.json\n",
      "        prob: 0.5\n",
      "        min_snr_db: 0\n",
      "        max_snr_db: 15\n",
      "      speed:\n",
      "        prob: 0.5\n",
      "        sr: 16000\n",
      "        resample_type: kaiser_fast\n",
      "        min_speed_rate: 0.95\n",
      "        max_speed_rate: 1.05\n",
      "    num_workers: 15\n",
      "    pin_memory: true\n",
      "    \n",
      "[NeMo W 2022-07-25 21:09:14 modelPT:155] If you intend to do validation, please call the ModelPT.setup_validation_data() or ModelPT.setup_multiple_validation_data() method and provide a valid configuration file to setup the validation data loader(s). \n",
      "    Validation config : \n",
      "    manifest_filepath: /manifests/combined_fisher_swbd_voxceleb12_librispeech/dev.json\n",
      "    sample_rate: 16000\n",
      "    labels: null\n",
      "    batch_size: 128\n",
      "    shuffle: false\n",
      "    time_length: 3\n",
      "    num_workers: 15\n",
      "    pin_memory: true\n",
      "    \n"
     ]
    },
    {
     "name": "stdout",
     "output_type": "stream",
     "text": [
      "[NeMo I 2022-07-25 21:09:14 features:200] PADDING: 16\n",
      "[NeMo I 2022-07-25 21:09:15 label_models:100] loss is Angular Softmax\n",
      "[NeMo I 2022-07-25 21:09:15 save_restore_connector:243] Model EncDecSpeakerLabelModel was successfully restored from /root/.cache/torch/NeMo/NeMo_1.10.0/titanet-l/492c0ab8416139171dc18c21879a9e45/titanet-l.nemo.\n",
      "[NeMo I 2022-07-25 21:09:15 speaker_utils:82] Number of files to diarize: 1\n",
      "[NeMo I 2022-07-25 21:09:15 clustering_diarizer:271] Subsegmentation for embedding extraction: scale0, /home/DATA/amit_kesari/SD1/NeMo-ASR_Diar/data/voxconverse/speaker_outputs/subsegments_scale0.json\n",
      "[NeMo I 2022-07-25 21:09:15 clustering_diarizer:325] Extracting embeddings for Diarization\n",
      "[NeMo I 2022-07-25 21:09:15 collections:289] Filtered duration for loading collection is 0.000000.\n",
      "[NeMo I 2022-07-25 21:09:15 collections:293] # 984 files loaded accounting to # 1 labels\n"
     ]
    },
    {
     "name": "stderr",
     "output_type": "stream",
     "text": [
      "100%|██████████| 16/16 [00:02<00:00,  5.34it/s]\n",
      "100%|██████████| 1/1 [00:09<00:00,  9.44s/it]\n"
     ]
    },
    {
     "name": "stdout",
     "output_type": "stream",
     "text": [
      "[NeMo I 2022-07-25 21:09:28 speaker_utils:460] Cumulative Results for collar 0.25 sec and ignore_overlap True: \n",
      "     FA: 0.0333\t MISS 0.0675\t                 Diarization ER: 0.2996\t, Confusion ER:0.1988\n",
      "[NeMo I 2022-07-25 21:09:28 clustering_diarizer:444] Outputs are saved in /home/DATA/amit_kesari/SD1/NeMo-ASR_Diar/data/voxconverse directory\n",
      "\n",
      "\n",
      "Diar score:  (<pyannote.metrics.diarization.DiarizationErrorRate object at 0x7fa058086280>, {'jsbdo': {'speaker_0': 'spk01', 'speaker_1': 'spk00', 'speaker_2': 'spk04', 'speaker_3': 'spk02', 'speaker_4': 'spk06', 'speaker_5': 'spk05'}})\n",
      "Diarization error rate (DER) = 38.2%\n",
      "\n",
      "\n",
      "voxconverse_label:  jsymf\n",
      "num_speakers:  9\n",
      "[NeMo I 2022-07-25 21:09:29 speaker_utils:82] Number of files to diarize: 1\n",
      "[NeMo I 2022-07-25 21:09:29 cloud:56] Found existing object /root/.cache/torch/NeMo/NeMo_1.10.0/QuartzNet15x5Base-En/2b066be39e9294d7100fb176ec817722/QuartzNet15x5Base-En.nemo.\n",
      "[NeMo I 2022-07-25 21:09:29 cloud:62] Re-using file from: /root/.cache/torch/NeMo/NeMo_1.10.0/QuartzNet15x5Base-En/2b066be39e9294d7100fb176ec817722/QuartzNet15x5Base-En.nemo\n",
      "[NeMo I 2022-07-25 21:09:29 common:789] Instantiating model from pre-trained checkpoint\n",
      "[NeMo I 2022-07-25 21:09:30 features:200] PADDING: 16\n",
      "[NeMo I 2022-07-25 21:09:31 save_restore_connector:243] Model EncDecCTCModel was successfully restored from /root/.cache/torch/NeMo/NeMo_1.10.0/QuartzNet15x5Base-En/2b066be39e9294d7100fb176ec817722/QuartzNet15x5Base-En.nemo.\n"
     ]
    },
    {
     "data": {
      "application/vnd.jupyter.widget-view+json": {
       "model_id": "13a30a62e08347629d2806da0c5d94f9",
       "version_major": 2,
       "version_minor": 0
      },
      "text/plain": [
       "Transcribing:   0%|          | 0/1 [00:00<?, ?it/s]"
      ]
     },
     "metadata": {},
     "output_type": "display_data"
    },
    {
     "name": "stdout",
     "output_type": "stream",
     "text": [
      "[NeMo I 2022-07-25 21:09:33 speaker_utils:82] Number of files to diarize: 1\n",
      "[NeMo I 2022-07-25 21:09:33 clustering_diarizer:153] Loading pretrained titanet_large model from NGC\n",
      "[NeMo I 2022-07-25 21:09:33 cloud:56] Found existing object /root/.cache/torch/NeMo/NeMo_1.10.0/titanet-l/492c0ab8416139171dc18c21879a9e45/titanet-l.nemo.\n",
      "[NeMo I 2022-07-25 21:09:33 cloud:62] Re-using file from: /root/.cache/torch/NeMo/NeMo_1.10.0/titanet-l/492c0ab8416139171dc18c21879a9e45/titanet-l.nemo\n",
      "[NeMo I 2022-07-25 21:09:33 common:789] Instantiating model from pre-trained checkpoint\n"
     ]
    },
    {
     "name": "stderr",
     "output_type": "stream",
     "text": [
      "[NeMo W 2022-07-25 21:09:34 modelPT:148] If you intend to do training or fine-tuning, please call the ModelPT.setup_training_data() method and provide a valid configuration file to setup the train data loader.\n",
      "    Train config : \n",
      "    manifest_filepath: /manifests/combined_fisher_swbd_voxceleb12_librispeech/train.json\n",
      "    sample_rate: 16000\n",
      "    labels: null\n",
      "    batch_size: 64\n",
      "    shuffle: true\n",
      "    time_length: 3\n",
      "    is_tarred: false\n",
      "    tarred_audio_filepaths: null\n",
      "    tarred_shard_strategy: scatter\n",
      "    augmentor:\n",
      "      noise:\n",
      "        manifest_path: /manifests/noise/rir_noise_manifest.json\n",
      "        prob: 0.5\n",
      "        min_snr_db: 0\n",
      "        max_snr_db: 15\n",
      "      speed:\n",
      "        prob: 0.5\n",
      "        sr: 16000\n",
      "        resample_type: kaiser_fast\n",
      "        min_speed_rate: 0.95\n",
      "        max_speed_rate: 1.05\n",
      "    num_workers: 15\n",
      "    pin_memory: true\n",
      "    \n",
      "[NeMo W 2022-07-25 21:09:34 modelPT:155] If you intend to do validation, please call the ModelPT.setup_validation_data() or ModelPT.setup_multiple_validation_data() method and provide a valid configuration file to setup the validation data loader(s). \n",
      "    Validation config : \n",
      "    manifest_filepath: /manifests/combined_fisher_swbd_voxceleb12_librispeech/dev.json\n",
      "    sample_rate: 16000\n",
      "    labels: null\n",
      "    batch_size: 128\n",
      "    shuffle: false\n",
      "    time_length: 3\n",
      "    num_workers: 15\n",
      "    pin_memory: true\n",
      "    \n"
     ]
    },
    {
     "name": "stdout",
     "output_type": "stream",
     "text": [
      "[NeMo I 2022-07-25 21:09:34 features:200] PADDING: 16\n",
      "[NeMo I 2022-07-25 21:09:35 label_models:100] loss is Angular Softmax\n",
      "[NeMo I 2022-07-25 21:09:35 save_restore_connector:243] Model EncDecSpeakerLabelModel was successfully restored from /root/.cache/torch/NeMo/NeMo_1.10.0/titanet-l/492c0ab8416139171dc18c21879a9e45/titanet-l.nemo.\n",
      "[NeMo I 2022-07-25 21:09:35 speaker_utils:82] Number of files to diarize: 1\n",
      "[NeMo I 2022-07-25 21:09:35 clustering_diarizer:271] Subsegmentation for embedding extraction: scale0, /home/DATA/amit_kesari/SD1/NeMo-ASR_Diar/data/voxconverse/speaker_outputs/subsegments_scale0.json\n",
      "[NeMo I 2022-07-25 21:09:35 clustering_diarizer:325] Extracting embeddings for Diarization\n",
      "[NeMo I 2022-07-25 21:09:35 collections:289] Filtered duration for loading collection is 0.000000.\n",
      "[NeMo I 2022-07-25 21:09:35 collections:293] # 1185 files loaded accounting to # 1 labels\n"
     ]
    },
    {
     "name": "stderr",
     "output_type": "stream",
     "text": [
      "100%|██████████| 19/19 [00:03<00:00,  5.42it/s]\n",
      "100%|██████████| 1/1 [00:10<00:00, 10.38s/it]\n"
     ]
    },
    {
     "name": "stdout",
     "output_type": "stream",
     "text": [
      "[NeMo I 2022-07-25 21:09:50 speaker_utils:460] Cumulative Results for collar 0.25 sec and ignore_overlap True: \n",
      "     FA: 0.0633\t MISS 0.0822\t                 Diarization ER: 0.2628\t, Confusion ER:0.1173\n",
      "[NeMo I 2022-07-25 21:09:50 clustering_diarizer:444] Outputs are saved in /home/DATA/amit_kesari/SD1/NeMo-ASR_Diar/data/voxconverse directory\n",
      "\n",
      "\n",
      "Diar score:  (<pyannote.metrics.diarization.DiarizationErrorRate object at 0x7fa1408bf250>, {'jsymf': {'speaker_0': 'spk00', 'speaker_1': 'spk01', 'speaker_2': 'spk03', 'speaker_3': 'spk05', 'speaker_5': 'spk04', 'speaker_6': 'spk07', 'speaker_7': 'spk06', 'speaker_8': 'spk08'}})\n",
      "Diarization error rate (DER) = 31.0%\n",
      "\n",
      "\n",
      "voxconverse_label:  jttar\n",
      "num_speakers:  7\n",
      "[NeMo I 2022-07-25 21:09:50 speaker_utils:82] Number of files to diarize: 1\n",
      "[NeMo I 2022-07-25 21:09:50 cloud:56] Found existing object /root/.cache/torch/NeMo/NeMo_1.10.0/QuartzNet15x5Base-En/2b066be39e9294d7100fb176ec817722/QuartzNet15x5Base-En.nemo.\n",
      "[NeMo I 2022-07-25 21:09:50 cloud:62] Re-using file from: /root/.cache/torch/NeMo/NeMo_1.10.0/QuartzNet15x5Base-En/2b066be39e9294d7100fb176ec817722/QuartzNet15x5Base-En.nemo\n",
      "[NeMo I 2022-07-25 21:09:50 common:789] Instantiating model from pre-trained checkpoint\n",
      "[NeMo I 2022-07-25 21:09:51 features:200] PADDING: 16\n",
      "[NeMo I 2022-07-25 21:09:53 save_restore_connector:243] Model EncDecCTCModel was successfully restored from /root/.cache/torch/NeMo/NeMo_1.10.0/QuartzNet15x5Base-En/2b066be39e9294d7100fb176ec817722/QuartzNet15x5Base-En.nemo.\n"
     ]
    },
    {
     "data": {
      "application/vnd.jupyter.widget-view+json": {
       "model_id": "db544d727e4d4160988e754c75fdb263",
       "version_major": 2,
       "version_minor": 0
      },
      "text/plain": [
       "Transcribing:   0%|          | 0/1 [00:00<?, ?it/s]"
      ]
     },
     "metadata": {},
     "output_type": "display_data"
    },
    {
     "name": "stdout",
     "output_type": "stream",
     "text": [
      "[NeMo I 2022-07-25 21:09:54 speaker_utils:82] Number of files to diarize: 1\n",
      "[NeMo I 2022-07-25 21:09:54 clustering_diarizer:153] Loading pretrained titanet_large model from NGC\n",
      "[NeMo I 2022-07-25 21:09:54 cloud:56] Found existing object /root/.cache/torch/NeMo/NeMo_1.10.0/titanet-l/492c0ab8416139171dc18c21879a9e45/titanet-l.nemo.\n",
      "[NeMo I 2022-07-25 21:09:54 cloud:62] Re-using file from: /root/.cache/torch/NeMo/NeMo_1.10.0/titanet-l/492c0ab8416139171dc18c21879a9e45/titanet-l.nemo\n",
      "[NeMo I 2022-07-25 21:09:54 common:789] Instantiating model from pre-trained checkpoint\n"
     ]
    },
    {
     "name": "stderr",
     "output_type": "stream",
     "text": [
      "[NeMo W 2022-07-25 21:09:55 modelPT:148] If you intend to do training or fine-tuning, please call the ModelPT.setup_training_data() method and provide a valid configuration file to setup the train data loader.\n",
      "    Train config : \n",
      "    manifest_filepath: /manifests/combined_fisher_swbd_voxceleb12_librispeech/train.json\n",
      "    sample_rate: 16000\n",
      "    labels: null\n",
      "    batch_size: 64\n",
      "    shuffle: true\n",
      "    time_length: 3\n",
      "    is_tarred: false\n",
      "    tarred_audio_filepaths: null\n",
      "    tarred_shard_strategy: scatter\n",
      "    augmentor:\n",
      "      noise:\n",
      "        manifest_path: /manifests/noise/rir_noise_manifest.json\n",
      "        prob: 0.5\n",
      "        min_snr_db: 0\n",
      "        max_snr_db: 15\n",
      "      speed:\n",
      "        prob: 0.5\n",
      "        sr: 16000\n",
      "        resample_type: kaiser_fast\n",
      "        min_speed_rate: 0.95\n",
      "        max_speed_rate: 1.05\n",
      "    num_workers: 15\n",
      "    pin_memory: true\n",
      "    \n",
      "[NeMo W 2022-07-25 21:09:55 modelPT:155] If you intend to do validation, please call the ModelPT.setup_validation_data() or ModelPT.setup_multiple_validation_data() method and provide a valid configuration file to setup the validation data loader(s). \n",
      "    Validation config : \n",
      "    manifest_filepath: /manifests/combined_fisher_swbd_voxceleb12_librispeech/dev.json\n",
      "    sample_rate: 16000\n",
      "    labels: null\n",
      "    batch_size: 128\n",
      "    shuffle: false\n",
      "    time_length: 3\n",
      "    num_workers: 15\n",
      "    pin_memory: true\n",
      "    \n"
     ]
    },
    {
     "name": "stdout",
     "output_type": "stream",
     "text": [
      "[NeMo I 2022-07-25 21:09:55 features:200] PADDING: 16\n",
      "[NeMo I 2022-07-25 21:09:55 label_models:100] loss is Angular Softmax\n",
      "[NeMo I 2022-07-25 21:09:55 save_restore_connector:243] Model EncDecSpeakerLabelModel was successfully restored from /root/.cache/torch/NeMo/NeMo_1.10.0/titanet-l/492c0ab8416139171dc18c21879a9e45/titanet-l.nemo.\n",
      "[NeMo I 2022-07-25 21:09:55 speaker_utils:82] Number of files to diarize: 1\n",
      "[NeMo I 2022-07-25 21:09:55 clustering_diarizer:271] Subsegmentation for embedding extraction: scale0, /home/DATA/amit_kesari/SD1/NeMo-ASR_Diar/data/voxconverse/speaker_outputs/subsegments_scale0.json\n",
      "[NeMo I 2022-07-25 21:09:55 clustering_diarizer:325] Extracting embeddings for Diarization\n",
      "[NeMo I 2022-07-25 21:09:55 collections:289] Filtered duration for loading collection is 0.000000.\n",
      "[NeMo I 2022-07-25 21:09:55 collections:293] # 1031 files loaded accounting to # 1 labels\n"
     ]
    },
    {
     "name": "stderr",
     "output_type": "stream",
     "text": [
      "100%|██████████| 17/17 [00:03<00:00,  5.48it/s]\n",
      "100%|██████████| 1/1 [00:09<00:00,  9.56s/it]\n"
     ]
    },
    {
     "name": "stdout",
     "output_type": "stream",
     "text": [
      "[NeMo I 2022-07-25 21:10:09 speaker_utils:460] Cumulative Results for collar 0.25 sec and ignore_overlap True: \n",
      "     FA: 0.0211\t MISS 0.1458\t                 Diarization ER: 0.5416\t, Confusion ER:0.3747\n",
      "[NeMo I 2022-07-25 21:10:09 clustering_diarizer:444] Outputs are saved in /home/DATA/amit_kesari/SD1/NeMo-ASR_Diar/data/voxconverse directory\n",
      "\n",
      "\n",
      "Diar score:  (<pyannote.metrics.diarization.DiarizationErrorRate object at 0x7fa06c7bc910>, {'jttar': {'speaker_0': 'spk00', 'speaker_1': 'spk01', 'speaker_3': 'spk04', 'speaker_5': 'spk05', 'speaker_6': 'spk02'}})\n",
      "Diarization error rate (DER) = 56.3%\n",
      "\n",
      "\n",
      "voxconverse_label:  jwggf\n",
      "num_speakers:  5\n",
      "[NeMo I 2022-07-25 21:10:10 speaker_utils:82] Number of files to diarize: 1\n",
      "[NeMo I 2022-07-25 21:10:10 cloud:56] Found existing object /root/.cache/torch/NeMo/NeMo_1.10.0/QuartzNet15x5Base-En/2b066be39e9294d7100fb176ec817722/QuartzNet15x5Base-En.nemo.\n",
      "[NeMo I 2022-07-25 21:10:10 cloud:62] Re-using file from: /root/.cache/torch/NeMo/NeMo_1.10.0/QuartzNet15x5Base-En/2b066be39e9294d7100fb176ec817722/QuartzNet15x5Base-En.nemo\n",
      "[NeMo I 2022-07-25 21:10:10 common:789] Instantiating model from pre-trained checkpoint\n",
      "[NeMo I 2022-07-25 21:10:11 features:200] PADDING: 16\n",
      "[NeMo I 2022-07-25 21:10:12 save_restore_connector:243] Model EncDecCTCModel was successfully restored from /root/.cache/torch/NeMo/NeMo_1.10.0/QuartzNet15x5Base-En/2b066be39e9294d7100fb176ec817722/QuartzNet15x5Base-En.nemo.\n"
     ]
    },
    {
     "data": {
      "application/vnd.jupyter.widget-view+json": {
       "model_id": "44c9eb615c684690a01af939b35bcebb",
       "version_major": 2,
       "version_minor": 0
      },
      "text/plain": [
       "Transcribing:   0%|          | 0/1 [00:00<?, ?it/s]"
      ]
     },
     "metadata": {},
     "output_type": "display_data"
    },
    {
     "name": "stdout",
     "output_type": "stream",
     "text": [
      "[NeMo I 2022-07-25 21:10:14 speaker_utils:82] Number of files to diarize: 1\n",
      "[NeMo I 2022-07-25 21:10:14 clustering_diarizer:153] Loading pretrained titanet_large model from NGC\n",
      "[NeMo I 2022-07-25 21:10:14 cloud:56] Found existing object /root/.cache/torch/NeMo/NeMo_1.10.0/titanet-l/492c0ab8416139171dc18c21879a9e45/titanet-l.nemo.\n",
      "[NeMo I 2022-07-25 21:10:14 cloud:62] Re-using file from: /root/.cache/torch/NeMo/NeMo_1.10.0/titanet-l/492c0ab8416139171dc18c21879a9e45/titanet-l.nemo\n",
      "[NeMo I 2022-07-25 21:10:14 common:789] Instantiating model from pre-trained checkpoint\n"
     ]
    },
    {
     "name": "stderr",
     "output_type": "stream",
     "text": [
      "[NeMo W 2022-07-25 21:10:15 modelPT:148] If you intend to do training or fine-tuning, please call the ModelPT.setup_training_data() method and provide a valid configuration file to setup the train data loader.\n",
      "    Train config : \n",
      "    manifest_filepath: /manifests/combined_fisher_swbd_voxceleb12_librispeech/train.json\n",
      "    sample_rate: 16000\n",
      "    labels: null\n",
      "    batch_size: 64\n",
      "    shuffle: true\n",
      "    time_length: 3\n",
      "    is_tarred: false\n",
      "    tarred_audio_filepaths: null\n",
      "    tarred_shard_strategy: scatter\n",
      "    augmentor:\n",
      "      noise:\n",
      "        manifest_path: /manifests/noise/rir_noise_manifest.json\n",
      "        prob: 0.5\n",
      "        min_snr_db: 0\n",
      "        max_snr_db: 15\n",
      "      speed:\n",
      "        prob: 0.5\n",
      "        sr: 16000\n",
      "        resample_type: kaiser_fast\n",
      "        min_speed_rate: 0.95\n",
      "        max_speed_rate: 1.05\n",
      "    num_workers: 15\n",
      "    pin_memory: true\n",
      "    \n",
      "[NeMo W 2022-07-25 21:10:15 modelPT:155] If you intend to do validation, please call the ModelPT.setup_validation_data() or ModelPT.setup_multiple_validation_data() method and provide a valid configuration file to setup the validation data loader(s). \n",
      "    Validation config : \n",
      "    manifest_filepath: /manifests/combined_fisher_swbd_voxceleb12_librispeech/dev.json\n",
      "    sample_rate: 16000\n",
      "    labels: null\n",
      "    batch_size: 128\n",
      "    shuffle: false\n",
      "    time_length: 3\n",
      "    num_workers: 15\n",
      "    pin_memory: true\n",
      "    \n"
     ]
    },
    {
     "name": "stdout",
     "output_type": "stream",
     "text": [
      "[NeMo I 2022-07-25 21:10:15 features:200] PADDING: 16\n",
      "[NeMo I 2022-07-25 21:10:15 label_models:100] loss is Angular Softmax\n",
      "[NeMo I 2022-07-25 21:10:15 save_restore_connector:243] Model EncDecSpeakerLabelModel was successfully restored from /root/.cache/torch/NeMo/NeMo_1.10.0/titanet-l/492c0ab8416139171dc18c21879a9e45/titanet-l.nemo.\n",
      "[NeMo I 2022-07-25 21:10:15 speaker_utils:82] Number of files to diarize: 1\n",
      "[NeMo I 2022-07-25 21:10:15 clustering_diarizer:271] Subsegmentation for embedding extraction: scale0, /home/DATA/amit_kesari/SD1/NeMo-ASR_Diar/data/voxconverse/speaker_outputs/subsegments_scale0.json\n",
      "[NeMo I 2022-07-25 21:10:15 clustering_diarizer:325] Extracting embeddings for Diarization\n",
      "[NeMo I 2022-07-25 21:10:15 collections:289] Filtered duration for loading collection is 0.000000.\n",
      "[NeMo I 2022-07-25 21:10:15 collections:293] # 1944 files loaded accounting to # 1 labels\n"
     ]
    },
    {
     "name": "stderr",
     "output_type": "stream",
     "text": [
      "100%|██████████| 31/31 [00:05<00:00,  5.52it/s]\n",
      "100%|██████████| 1/1 [00:09<00:00,  9.85s/it]\n"
     ]
    },
    {
     "name": "stdout",
     "output_type": "stream",
     "text": [
      "[NeMo I 2022-07-25 21:10:34 speaker_utils:460] Cumulative Results for collar 0.25 sec and ignore_overlap True: \n",
      "     FA: 0.0623\t MISS 0.2261\t                 Diarization ER: 0.3674\t, Confusion ER:0.0789\n",
      "[NeMo I 2022-07-25 21:10:34 clustering_diarizer:444] Outputs are saved in /home/DATA/amit_kesari/SD1/NeMo-ASR_Diar/data/voxconverse directory\n",
      "\n",
      "\n",
      "Diar score:  (<pyannote.metrics.diarization.DiarizationErrorRate object at 0x7fa1408e8190>, {'jwggf': {'speaker_0': 'spk04', 'speaker_1': 'spk00', 'speaker_3': 'spk02', 'speaker_4': 'spk01'}})\n",
      "Diarization error rate (DER) = 39.8%\n",
      "\n",
      "\n",
      "voxconverse_label:  jxpom\n",
      "num_speakers:  7\n",
      "[NeMo I 2022-07-25 21:10:37 speaker_utils:82] Number of files to diarize: 1\n",
      "[NeMo I 2022-07-25 21:10:37 cloud:56] Found existing object /root/.cache/torch/NeMo/NeMo_1.10.0/QuartzNet15x5Base-En/2b066be39e9294d7100fb176ec817722/QuartzNet15x5Base-En.nemo.\n",
      "[NeMo I 2022-07-25 21:10:37 cloud:62] Re-using file from: /root/.cache/torch/NeMo/NeMo_1.10.0/QuartzNet15x5Base-En/2b066be39e9294d7100fb176ec817722/QuartzNet15x5Base-En.nemo\n",
      "[NeMo I 2022-07-25 21:10:37 common:789] Instantiating model from pre-trained checkpoint\n",
      "[NeMo I 2022-07-25 21:10:38 features:200] PADDING: 16\n",
      "[NeMo I 2022-07-25 21:10:39 save_restore_connector:243] Model EncDecCTCModel was successfully restored from /root/.cache/torch/NeMo/NeMo_1.10.0/QuartzNet15x5Base-En/2b066be39e9294d7100fb176ec817722/QuartzNet15x5Base-En.nemo.\n"
     ]
    },
    {
     "data": {
      "application/vnd.jupyter.widget-view+json": {
       "model_id": "4c9e3c4b739c4444b6f5798fab360cca",
       "version_major": 2,
       "version_minor": 0
      },
      "text/plain": [
       "Transcribing:   0%|          | 0/1 [00:00<?, ?it/s]"
      ]
     },
     "metadata": {},
     "output_type": "display_data"
    },
    {
     "name": "stdout",
     "output_type": "stream",
     "text": [
      "[NeMo I 2022-07-25 21:10:40 speaker_utils:82] Number of files to diarize: 1\n",
      "[NeMo I 2022-07-25 21:10:40 clustering_diarizer:153] Loading pretrained titanet_large model from NGC\n",
      "[NeMo I 2022-07-25 21:10:40 cloud:56] Found existing object /root/.cache/torch/NeMo/NeMo_1.10.0/titanet-l/492c0ab8416139171dc18c21879a9e45/titanet-l.nemo.\n",
      "[NeMo I 2022-07-25 21:10:40 cloud:62] Re-using file from: /root/.cache/torch/NeMo/NeMo_1.10.0/titanet-l/492c0ab8416139171dc18c21879a9e45/titanet-l.nemo\n",
      "[NeMo I 2022-07-25 21:10:40 common:789] Instantiating model from pre-trained checkpoint\n"
     ]
    },
    {
     "name": "stderr",
     "output_type": "stream",
     "text": [
      "[NeMo W 2022-07-25 21:10:41 modelPT:148] If you intend to do training or fine-tuning, please call the ModelPT.setup_training_data() method and provide a valid configuration file to setup the train data loader.\n",
      "    Train config : \n",
      "    manifest_filepath: /manifests/combined_fisher_swbd_voxceleb12_librispeech/train.json\n",
      "    sample_rate: 16000\n",
      "    labels: null\n",
      "    batch_size: 64\n",
      "    shuffle: true\n",
      "    time_length: 3\n",
      "    is_tarred: false\n",
      "    tarred_audio_filepaths: null\n",
      "    tarred_shard_strategy: scatter\n",
      "    augmentor:\n",
      "      noise:\n",
      "        manifest_path: /manifests/noise/rir_noise_manifest.json\n",
      "        prob: 0.5\n",
      "        min_snr_db: 0\n",
      "        max_snr_db: 15\n",
      "      speed:\n",
      "        prob: 0.5\n",
      "        sr: 16000\n",
      "        resample_type: kaiser_fast\n",
      "        min_speed_rate: 0.95\n",
      "        max_speed_rate: 1.05\n",
      "    num_workers: 15\n",
      "    pin_memory: true\n",
      "    \n",
      "[NeMo W 2022-07-25 21:10:41 modelPT:155] If you intend to do validation, please call the ModelPT.setup_validation_data() or ModelPT.setup_multiple_validation_data() method and provide a valid configuration file to setup the validation data loader(s). \n",
      "    Validation config : \n",
      "    manifest_filepath: /manifests/combined_fisher_swbd_voxceleb12_librispeech/dev.json\n",
      "    sample_rate: 16000\n",
      "    labels: null\n",
      "    batch_size: 128\n",
      "    shuffle: false\n",
      "    time_length: 3\n",
      "    num_workers: 15\n",
      "    pin_memory: true\n",
      "    \n"
     ]
    },
    {
     "name": "stdout",
     "output_type": "stream",
     "text": [
      "[NeMo I 2022-07-25 21:10:41 features:200] PADDING: 16\n",
      "[NeMo I 2022-07-25 21:10:42 label_models:100] loss is Angular Softmax\n",
      "[NeMo I 2022-07-25 21:10:42 save_restore_connector:243] Model EncDecSpeakerLabelModel was successfully restored from /root/.cache/torch/NeMo/NeMo_1.10.0/titanet-l/492c0ab8416139171dc18c21879a9e45/titanet-l.nemo.\n",
      "[NeMo I 2022-07-25 21:10:42 speaker_utils:82] Number of files to diarize: 1\n",
      "[NeMo I 2022-07-25 21:10:42 clustering_diarizer:271] Subsegmentation for embedding extraction: scale0, /home/DATA/amit_kesari/SD1/NeMo-ASR_Diar/data/voxconverse/speaker_outputs/subsegments_scale0.json\n",
      "[NeMo I 2022-07-25 21:10:42 clustering_diarizer:325] Extracting embeddings for Diarization\n",
      "[NeMo I 2022-07-25 21:10:42 collections:289] Filtered duration for loading collection is 0.000000.\n",
      "[NeMo I 2022-07-25 21:10:42 collections:293] # 727 files loaded accounting to # 1 labels\n"
     ]
    },
    {
     "name": "stderr",
     "output_type": "stream",
     "text": [
      "100%|██████████| 12/12 [00:02<00:00,  5.18it/s]\n",
      "100%|██████████| 1/1 [00:10<00:00, 10.35s/it]\n"
     ]
    },
    {
     "name": "stdout",
     "output_type": "stream",
     "text": [
      "[NeMo I 2022-07-25 21:10:55 speaker_utils:460] Cumulative Results for collar 0.25 sec and ignore_overlap True: \n",
      "     FA: 0.1139\t MISS 0.1684\t                 Diarization ER: 0.4060\t, Confusion ER:0.1238\n",
      "[NeMo I 2022-07-25 21:10:55 clustering_diarizer:444] Outputs are saved in /home/DATA/amit_kesari/SD1/NeMo-ASR_Diar/data/voxconverse directory\n",
      "\n",
      "\n",
      "Diar score:  (<pyannote.metrics.diarization.DiarizationErrorRate object at 0x7fa0490af730>, {'jxpom': {'speaker_1': 'spk01', 'speaker_2': 'spk04', 'speaker_3': 'spk03', 'speaker_4': 'spk06', 'speaker_5': 'spk00', 'speaker_6': 'spk02'}})\n",
      "Diarization error rate (DER) = 47.8%\n",
      "\n",
      "\n",
      "voxconverse_label:  jxydp\n",
      "num_speakers:  1\n",
      "[NeMo I 2022-07-25 21:10:56 speaker_utils:82] Number of files to diarize: 1\n",
      "[NeMo I 2022-07-25 21:10:56 cloud:56] Found existing object /root/.cache/torch/NeMo/NeMo_1.10.0/QuartzNet15x5Base-En/2b066be39e9294d7100fb176ec817722/QuartzNet15x5Base-En.nemo.\n",
      "[NeMo I 2022-07-25 21:10:56 cloud:62] Re-using file from: /root/.cache/torch/NeMo/NeMo_1.10.0/QuartzNet15x5Base-En/2b066be39e9294d7100fb176ec817722/QuartzNet15x5Base-En.nemo\n",
      "[NeMo I 2022-07-25 21:10:56 common:789] Instantiating model from pre-trained checkpoint\n",
      "[NeMo I 2022-07-25 21:10:57 features:200] PADDING: 16\n",
      "[NeMo I 2022-07-25 21:10:59 save_restore_connector:243] Model EncDecCTCModel was successfully restored from /root/.cache/torch/NeMo/NeMo_1.10.0/QuartzNet15x5Base-En/2b066be39e9294d7100fb176ec817722/QuartzNet15x5Base-En.nemo.\n"
     ]
    },
    {
     "data": {
      "application/vnd.jupyter.widget-view+json": {
       "model_id": "0aa1f05082ca492993ac768bb0a4e467",
       "version_major": 2,
       "version_minor": 0
      },
      "text/plain": [
       "Transcribing:   0%|          | 0/1 [00:00<?, ?it/s]"
      ]
     },
     "metadata": {},
     "output_type": "display_data"
    },
    {
     "name": "stdout",
     "output_type": "stream",
     "text": [
      "[NeMo I 2022-07-25 21:11:00 speaker_utils:82] Number of files to diarize: 1\n",
      "[NeMo I 2022-07-25 21:11:00 clustering_diarizer:153] Loading pretrained titanet_large model from NGC\n",
      "[NeMo I 2022-07-25 21:11:00 cloud:56] Found existing object /root/.cache/torch/NeMo/NeMo_1.10.0/titanet-l/492c0ab8416139171dc18c21879a9e45/titanet-l.nemo.\n",
      "[NeMo I 2022-07-25 21:11:00 cloud:62] Re-using file from: /root/.cache/torch/NeMo/NeMo_1.10.0/titanet-l/492c0ab8416139171dc18c21879a9e45/titanet-l.nemo\n",
      "[NeMo I 2022-07-25 21:11:00 common:789] Instantiating model from pre-trained checkpoint\n"
     ]
    },
    {
     "name": "stderr",
     "output_type": "stream",
     "text": [
      "[NeMo W 2022-07-25 21:11:01 modelPT:148] If you intend to do training or fine-tuning, please call the ModelPT.setup_training_data() method and provide a valid configuration file to setup the train data loader.\n",
      "    Train config : \n",
      "    manifest_filepath: /manifests/combined_fisher_swbd_voxceleb12_librispeech/train.json\n",
      "    sample_rate: 16000\n",
      "    labels: null\n",
      "    batch_size: 64\n",
      "    shuffle: true\n",
      "    time_length: 3\n",
      "    is_tarred: false\n",
      "    tarred_audio_filepaths: null\n",
      "    tarred_shard_strategy: scatter\n",
      "    augmentor:\n",
      "      noise:\n",
      "        manifest_path: /manifests/noise/rir_noise_manifest.json\n",
      "        prob: 0.5\n",
      "        min_snr_db: 0\n",
      "        max_snr_db: 15\n",
      "      speed:\n",
      "        prob: 0.5\n",
      "        sr: 16000\n",
      "        resample_type: kaiser_fast\n",
      "        min_speed_rate: 0.95\n",
      "        max_speed_rate: 1.05\n",
      "    num_workers: 15\n",
      "    pin_memory: true\n",
      "    \n",
      "[NeMo W 2022-07-25 21:11:01 modelPT:155] If you intend to do validation, please call the ModelPT.setup_validation_data() or ModelPT.setup_multiple_validation_data() method and provide a valid configuration file to setup the validation data loader(s). \n",
      "    Validation config : \n",
      "    manifest_filepath: /manifests/combined_fisher_swbd_voxceleb12_librispeech/dev.json\n",
      "    sample_rate: 16000\n",
      "    labels: null\n",
      "    batch_size: 128\n",
      "    shuffle: false\n",
      "    time_length: 3\n",
      "    num_workers: 15\n",
      "    pin_memory: true\n",
      "    \n"
     ]
    },
    {
     "name": "stdout",
     "output_type": "stream",
     "text": [
      "[NeMo I 2022-07-25 21:11:01 features:200] PADDING: 16\n",
      "[NeMo I 2022-07-25 21:11:01 label_models:100] loss is Angular Softmax\n",
      "[NeMo I 2022-07-25 21:11:02 save_restore_connector:243] Model EncDecSpeakerLabelModel was successfully restored from /root/.cache/torch/NeMo/NeMo_1.10.0/titanet-l/492c0ab8416139171dc18c21879a9e45/titanet-l.nemo.\n",
      "[NeMo I 2022-07-25 21:11:02 speaker_utils:82] Number of files to diarize: 1\n",
      "[NeMo I 2022-07-25 21:11:02 clustering_diarizer:271] Subsegmentation for embedding extraction: scale0, /home/DATA/amit_kesari/SD1/NeMo-ASR_Diar/data/voxconverse/speaker_outputs/subsegments_scale0.json\n",
      "[NeMo I 2022-07-25 21:11:02 clustering_diarizer:325] Extracting embeddings for Diarization\n",
      "[NeMo I 2022-07-25 21:11:02 collections:289] Filtered duration for loading collection is 0.000000.\n",
      "[NeMo I 2022-07-25 21:11:02 collections:293] # 171 files loaded accounting to # 1 labels\n"
     ]
    },
    {
     "name": "stderr",
     "output_type": "stream",
     "text": [
      "100%|██████████| 3/3 [00:00<00:00,  3.68it/s]\n",
      "100%|██████████| 1/1 [00:04<00:00,  4.63s/it]"
     ]
    },
    {
     "name": "stdout",
     "output_type": "stream",
     "text": [
      "[NeMo I 2022-07-25 21:11:07 speaker_utils:460] Cumulative Results for collar 0.25 sec and ignore_overlap True: \n",
      "     FA: 0.0000\t MISS 0.2287\t                 Diarization ER: 0.2287\t, Confusion ER:0.0000\n",
      "[NeMo I 2022-07-25 21:11:07 clustering_diarizer:444] Outputs are saved in /home/DATA/amit_kesari/SD1/NeMo-ASR_Diar/data/voxconverse directory\n",
      "\n",
      "\n",
      "Diar score:  (<pyannote.metrics.diarization.DiarizationErrorRate object at 0x7fa060035070>, {'jxydp': {'speaker_0': 'spk00'}})\n",
      "Diarization error rate (DER) = 23.2%\n",
      "\n",
      "\n",
      "voxconverse_label:  jzkzt\n",
      "num_speakers:  11\n",
      "[NeMo I 2022-07-25 21:11:07 speaker_utils:82] Number of files to diarize: 1\n",
      "[NeMo I 2022-07-25 21:11:07 cloud:56] Found existing object /root/.cache/torch/NeMo/NeMo_1.10.0/QuartzNet15x5Base-En/2b066be39e9294d7100fb176ec817722/QuartzNet15x5Base-En.nemo.\n",
      "[NeMo I 2022-07-25 21:11:07 cloud:62] Re-using file from: /root/.cache/torch/NeMo/NeMo_1.10.0/QuartzNet15x5Base-En/2b066be39e9294d7100fb176ec817722/QuartzNet15x5Base-En.nemo\n",
      "[NeMo I 2022-07-25 21:11:07 common:789] Instantiating model from pre-trained checkpoint\n"
     ]
    },
    {
     "name": "stderr",
     "output_type": "stream",
     "text": [
      "\n"
     ]
    },
    {
     "name": "stdout",
     "output_type": "stream",
     "text": [
      "[NeMo I 2022-07-25 21:11:08 features:200] PADDING: 16\n",
      "[NeMo I 2022-07-25 21:11:09 save_restore_connector:243] Model EncDecCTCModel was successfully restored from /root/.cache/torch/NeMo/NeMo_1.10.0/QuartzNet15x5Base-En/2b066be39e9294d7100fb176ec817722/QuartzNet15x5Base-En.nemo.\n"
     ]
    },
    {
     "data": {
      "application/vnd.jupyter.widget-view+json": {
       "model_id": "329da940a46c4bd6a7bcce614e3aea6a",
       "version_major": 2,
       "version_minor": 0
      },
      "text/plain": [
       "Transcribing:   0%|          | 0/1 [00:00<?, ?it/s]"
      ]
     },
     "metadata": {},
     "output_type": "display_data"
    },
    {
     "name": "stdout",
     "output_type": "stream",
     "text": [
      "[NeMo I 2022-07-25 21:11:12 speaker_utils:82] Number of files to diarize: 1\n",
      "[NeMo I 2022-07-25 21:11:12 clustering_diarizer:153] Loading pretrained titanet_large model from NGC\n",
      "[NeMo I 2022-07-25 21:11:12 cloud:56] Found existing object /root/.cache/torch/NeMo/NeMo_1.10.0/titanet-l/492c0ab8416139171dc18c21879a9e45/titanet-l.nemo.\n",
      "[NeMo I 2022-07-25 21:11:12 cloud:62] Re-using file from: /root/.cache/torch/NeMo/NeMo_1.10.0/titanet-l/492c0ab8416139171dc18c21879a9e45/titanet-l.nemo\n",
      "[NeMo I 2022-07-25 21:11:12 common:789] Instantiating model from pre-trained checkpoint\n"
     ]
    },
    {
     "name": "stderr",
     "output_type": "stream",
     "text": [
      "[NeMo W 2022-07-25 21:11:13 modelPT:148] If you intend to do training or fine-tuning, please call the ModelPT.setup_training_data() method and provide a valid configuration file to setup the train data loader.\n",
      "    Train config : \n",
      "    manifest_filepath: /manifests/combined_fisher_swbd_voxceleb12_librispeech/train.json\n",
      "    sample_rate: 16000\n",
      "    labels: null\n",
      "    batch_size: 64\n",
      "    shuffle: true\n",
      "    time_length: 3\n",
      "    is_tarred: false\n",
      "    tarred_audio_filepaths: null\n",
      "    tarred_shard_strategy: scatter\n",
      "    augmentor:\n",
      "      noise:\n",
      "        manifest_path: /manifests/noise/rir_noise_manifest.json\n",
      "        prob: 0.5\n",
      "        min_snr_db: 0\n",
      "        max_snr_db: 15\n",
      "      speed:\n",
      "        prob: 0.5\n",
      "        sr: 16000\n",
      "        resample_type: kaiser_fast\n",
      "        min_speed_rate: 0.95\n",
      "        max_speed_rate: 1.05\n",
      "    num_workers: 15\n",
      "    pin_memory: true\n",
      "    \n",
      "[NeMo W 2022-07-25 21:11:13 modelPT:155] If you intend to do validation, please call the ModelPT.setup_validation_data() or ModelPT.setup_multiple_validation_data() method and provide a valid configuration file to setup the validation data loader(s). \n",
      "    Validation config : \n",
      "    manifest_filepath: /manifests/combined_fisher_swbd_voxceleb12_librispeech/dev.json\n",
      "    sample_rate: 16000\n",
      "    labels: null\n",
      "    batch_size: 128\n",
      "    shuffle: false\n",
      "    time_length: 3\n",
      "    num_workers: 15\n",
      "    pin_memory: true\n",
      "    \n"
     ]
    },
    {
     "name": "stdout",
     "output_type": "stream",
     "text": [
      "[NeMo I 2022-07-25 21:11:13 features:200] PADDING: 16\n",
      "[NeMo I 2022-07-25 21:11:13 label_models:100] loss is Angular Softmax\n",
      "[NeMo I 2022-07-25 21:11:14 save_restore_connector:243] Model EncDecSpeakerLabelModel was successfully restored from /root/.cache/torch/NeMo/NeMo_1.10.0/titanet-l/492c0ab8416139171dc18c21879a9e45/titanet-l.nemo.\n",
      "[NeMo I 2022-07-25 21:11:14 speaker_utils:82] Number of files to diarize: 1\n",
      "[NeMo I 2022-07-25 21:11:14 clustering_diarizer:271] Subsegmentation for embedding extraction: scale0, /home/DATA/amit_kesari/SD1/NeMo-ASR_Diar/data/voxconverse/speaker_outputs/subsegments_scale0.json\n",
      "[NeMo I 2022-07-25 21:11:14 clustering_diarizer:325] Extracting embeddings for Diarization\n",
      "[NeMo I 2022-07-25 21:11:14 collections:289] Filtered duration for loading collection is 0.000000.\n",
      "[NeMo I 2022-07-25 21:11:14 collections:293] # 1394 files loaded accounting to # 1 labels\n"
     ]
    },
    {
     "name": "stderr",
     "output_type": "stream",
     "text": [
      "100%|██████████| 22/22 [00:04<00:00,  5.37it/s]\n",
      "100%|██████████| 1/1 [00:10<00:00, 10.01s/it]\n"
     ]
    },
    {
     "name": "stdout",
     "output_type": "stream",
     "text": [
      "[NeMo I 2022-07-25 21:11:29 speaker_utils:460] Cumulative Results for collar 0.25 sec and ignore_overlap True: \n",
      "     FA: 0.0628\t MISS 0.0530\t                 Diarization ER: 0.4767\t, Confusion ER:0.3609\n",
      "[NeMo I 2022-07-25 21:11:29 clustering_diarizer:444] Outputs are saved in /home/DATA/amit_kesari/SD1/NeMo-ASR_Diar/data/voxconverse directory\n",
      "\n",
      "\n",
      "Diar score:  (<pyannote.metrics.diarization.DiarizationErrorRate object at 0x7fa06df538b0>, {'jzkzt': {'speaker_0': 'spk02', 'speaker_1': 'spk00', 'speaker_10': 'spk08', 'speaker_2': 'spk01', 'speaker_3': 'spk04', 'speaker_4': 'spk06', 'speaker_6': 'spk07', 'speaker_7': 'spk03', 'speaker_8': 'spk05'}})\n",
      "Diarization error rate (DER) = 57.6%\n",
      "\n",
      "\n",
      "voxconverse_label:  kajfh\n",
      "num_speakers:  15\n",
      "[NeMo I 2022-07-25 21:11:31 speaker_utils:82] Number of files to diarize: 1\n",
      "[NeMo I 2022-07-25 21:11:31 cloud:56] Found existing object /root/.cache/torch/NeMo/NeMo_1.10.0/QuartzNet15x5Base-En/2b066be39e9294d7100fb176ec817722/QuartzNet15x5Base-En.nemo.\n",
      "[NeMo I 2022-07-25 21:11:31 cloud:62] Re-using file from: /root/.cache/torch/NeMo/NeMo_1.10.0/QuartzNet15x5Base-En/2b066be39e9294d7100fb176ec817722/QuartzNet15x5Base-En.nemo\n",
      "[NeMo I 2022-07-25 21:11:31 common:789] Instantiating model from pre-trained checkpoint\n",
      "[NeMo I 2022-07-25 21:11:32 features:200] PADDING: 16\n",
      "[NeMo I 2022-07-25 21:11:33 save_restore_connector:243] Model EncDecCTCModel was successfully restored from /root/.cache/torch/NeMo/NeMo_1.10.0/QuartzNet15x5Base-En/2b066be39e9294d7100fb176ec817722/QuartzNet15x5Base-En.nemo.\n"
     ]
    },
    {
     "data": {
      "application/vnd.jupyter.widget-view+json": {
       "model_id": "065b32db3e5248a299be58f82c94e87d",
       "version_major": 2,
       "version_minor": 0
      },
      "text/plain": [
       "Transcribing:   0%|          | 0/1 [00:00<?, ?it/s]"
      ]
     },
     "metadata": {},
     "output_type": "display_data"
    },
    {
     "name": "stdout",
     "output_type": "stream",
     "text": [
      "[NeMo I 2022-07-25 21:11:34 speaker_utils:82] Number of files to diarize: 1\n",
      "[NeMo I 2022-07-25 21:11:35 clustering_diarizer:153] Loading pretrained titanet_large model from NGC\n",
      "[NeMo I 2022-07-25 21:11:35 cloud:56] Found existing object /root/.cache/torch/NeMo/NeMo_1.10.0/titanet-l/492c0ab8416139171dc18c21879a9e45/titanet-l.nemo.\n",
      "[NeMo I 2022-07-25 21:11:35 cloud:62] Re-using file from: /root/.cache/torch/NeMo/NeMo_1.10.0/titanet-l/492c0ab8416139171dc18c21879a9e45/titanet-l.nemo\n",
      "[NeMo I 2022-07-25 21:11:35 common:789] Instantiating model from pre-trained checkpoint\n"
     ]
    },
    {
     "name": "stderr",
     "output_type": "stream",
     "text": [
      "[NeMo W 2022-07-25 21:11:35 modelPT:148] If you intend to do training or fine-tuning, please call the ModelPT.setup_training_data() method and provide a valid configuration file to setup the train data loader.\n",
      "    Train config : \n",
      "    manifest_filepath: /manifests/combined_fisher_swbd_voxceleb12_librispeech/train.json\n",
      "    sample_rate: 16000\n",
      "    labels: null\n",
      "    batch_size: 64\n",
      "    shuffle: true\n",
      "    time_length: 3\n",
      "    is_tarred: false\n",
      "    tarred_audio_filepaths: null\n",
      "    tarred_shard_strategy: scatter\n",
      "    augmentor:\n",
      "      noise:\n",
      "        manifest_path: /manifests/noise/rir_noise_manifest.json\n",
      "        prob: 0.5\n",
      "        min_snr_db: 0\n",
      "        max_snr_db: 15\n",
      "      speed:\n",
      "        prob: 0.5\n",
      "        sr: 16000\n",
      "        resample_type: kaiser_fast\n",
      "        min_speed_rate: 0.95\n",
      "        max_speed_rate: 1.05\n",
      "    num_workers: 15\n",
      "    pin_memory: true\n",
      "    \n",
      "[NeMo W 2022-07-25 21:11:35 modelPT:155] If you intend to do validation, please call the ModelPT.setup_validation_data() or ModelPT.setup_multiple_validation_data() method and provide a valid configuration file to setup the validation data loader(s). \n",
      "    Validation config : \n",
      "    manifest_filepath: /manifests/combined_fisher_swbd_voxceleb12_librispeech/dev.json\n",
      "    sample_rate: 16000\n",
      "    labels: null\n",
      "    batch_size: 128\n",
      "    shuffle: false\n",
      "    time_length: 3\n",
      "    num_workers: 15\n",
      "    pin_memory: true\n",
      "    \n"
     ]
    },
    {
     "name": "stdout",
     "output_type": "stream",
     "text": [
      "[NeMo I 2022-07-25 21:11:35 features:200] PADDING: 16\n",
      "[NeMo I 2022-07-25 21:11:36 label_models:100] loss is Angular Softmax\n",
      "[NeMo I 2022-07-25 21:11:36 save_restore_connector:243] Model EncDecSpeakerLabelModel was successfully restored from /root/.cache/torch/NeMo/NeMo_1.10.0/titanet-l/492c0ab8416139171dc18c21879a9e45/titanet-l.nemo.\n",
      "[NeMo I 2022-07-25 21:11:36 speaker_utils:82] Number of files to diarize: 1\n",
      "[NeMo I 2022-07-25 21:11:36 clustering_diarizer:271] Subsegmentation for embedding extraction: scale0, /home/DATA/amit_kesari/SD1/NeMo-ASR_Diar/data/voxconverse/speaker_outputs/subsegments_scale0.json\n",
      "[NeMo I 2022-07-25 21:11:36 clustering_diarizer:325] Extracting embeddings for Diarization\n",
      "[NeMo I 2022-07-25 21:11:36 collections:289] Filtered duration for loading collection is 0.000000.\n",
      "[NeMo I 2022-07-25 21:11:36 collections:293] # 1484 files loaded accounting to # 1 labels\n"
     ]
    },
    {
     "name": "stderr",
     "output_type": "stream",
     "text": [
      "100%|██████████| 24/24 [00:04<00:00,  5.55it/s]\n",
      "100%|██████████| 1/1 [00:10<00:00, 10.66s/it]\n"
     ]
    },
    {
     "name": "stdout",
     "output_type": "stream",
     "text": [
      "[NeMo I 2022-07-25 21:11:53 speaker_utils:460] Cumulative Results for collar 0.25 sec and ignore_overlap True: \n",
      "     FA: 0.1639\t MISS 0.1935\t                 Diarization ER: 0.6266\t, Confusion ER:0.2693\n",
      "[NeMo I 2022-07-25 21:11:53 clustering_diarizer:444] Outputs are saved in /home/DATA/amit_kesari/SD1/NeMo-ASR_Diar/data/voxconverse directory\n",
      "\n",
      "\n",
      "Diar score:  (<pyannote.metrics.diarization.DiarizationErrorRate object at 0x7fa048a60160>, {'kajfh': {'speaker_0': 'spk14', 'speaker_1': 'spk01', 'speaker_10': 'spk10', 'speaker_11': 'spk06', 'speaker_12': 'spk04', 'speaker_14': 'spk00', 'speaker_2': 'spk07', 'speaker_3': 'spk09', 'speaker_4': 'spk05', 'speaker_5': 'spk03', 'speaker_8': 'spk02'}})\n",
      "Diarization error rate (DER) = 65.3%\n",
      "\n",
      "\n",
      "voxconverse_label:  kgjaa\n",
      "num_speakers:  10\n",
      "[NeMo I 2022-07-25 21:11:55 speaker_utils:82] Number of files to diarize: 1\n",
      "[NeMo I 2022-07-25 21:11:55 cloud:56] Found existing object /root/.cache/torch/NeMo/NeMo_1.10.0/QuartzNet15x5Base-En/2b066be39e9294d7100fb176ec817722/QuartzNet15x5Base-En.nemo.\n",
      "[NeMo I 2022-07-25 21:11:55 cloud:62] Re-using file from: /root/.cache/torch/NeMo/NeMo_1.10.0/QuartzNet15x5Base-En/2b066be39e9294d7100fb176ec817722/QuartzNet15x5Base-En.nemo\n",
      "[NeMo I 2022-07-25 21:11:55 common:789] Instantiating model from pre-trained checkpoint\n",
      "[NeMo I 2022-07-25 21:11:55 features:200] PADDING: 16\n",
      "[NeMo I 2022-07-25 21:11:57 save_restore_connector:243] Model EncDecCTCModel was successfully restored from /root/.cache/torch/NeMo/NeMo_1.10.0/QuartzNet15x5Base-En/2b066be39e9294d7100fb176ec817722/QuartzNet15x5Base-En.nemo.\n"
     ]
    },
    {
     "data": {
      "application/vnd.jupyter.widget-view+json": {
       "model_id": "f4a2403cdf104766bee89bcfbf128496",
       "version_major": 2,
       "version_minor": 0
      },
      "text/plain": [
       "Transcribing:   0%|          | 0/1 [00:00<?, ?it/s]"
      ]
     },
     "metadata": {},
     "output_type": "display_data"
    },
    {
     "name": "stdout",
     "output_type": "stream",
     "text": [
      "[NeMo I 2022-07-25 21:11:58 speaker_utils:82] Number of files to diarize: 1\n",
      "[NeMo I 2022-07-25 21:11:58 clustering_diarizer:153] Loading pretrained titanet_large model from NGC\n",
      "[NeMo I 2022-07-25 21:11:58 cloud:56] Found existing object /root/.cache/torch/NeMo/NeMo_1.10.0/titanet-l/492c0ab8416139171dc18c21879a9e45/titanet-l.nemo.\n",
      "[NeMo I 2022-07-25 21:11:58 cloud:62] Re-using file from: /root/.cache/torch/NeMo/NeMo_1.10.0/titanet-l/492c0ab8416139171dc18c21879a9e45/titanet-l.nemo\n",
      "[NeMo I 2022-07-25 21:11:58 common:789] Instantiating model from pre-trained checkpoint\n"
     ]
    },
    {
     "name": "stderr",
     "output_type": "stream",
     "text": [
      "[NeMo W 2022-07-25 21:11:59 modelPT:148] If you intend to do training or fine-tuning, please call the ModelPT.setup_training_data() method and provide a valid configuration file to setup the train data loader.\n",
      "    Train config : \n",
      "    manifest_filepath: /manifests/combined_fisher_swbd_voxceleb12_librispeech/train.json\n",
      "    sample_rate: 16000\n",
      "    labels: null\n",
      "    batch_size: 64\n",
      "    shuffle: true\n",
      "    time_length: 3\n",
      "    is_tarred: false\n",
      "    tarred_audio_filepaths: null\n",
      "    tarred_shard_strategy: scatter\n",
      "    augmentor:\n",
      "      noise:\n",
      "        manifest_path: /manifests/noise/rir_noise_manifest.json\n",
      "        prob: 0.5\n",
      "        min_snr_db: 0\n",
      "        max_snr_db: 15\n",
      "      speed:\n",
      "        prob: 0.5\n",
      "        sr: 16000\n",
      "        resample_type: kaiser_fast\n",
      "        min_speed_rate: 0.95\n",
      "        max_speed_rate: 1.05\n",
      "    num_workers: 15\n",
      "    pin_memory: true\n",
      "    \n",
      "[NeMo W 2022-07-25 21:11:59 modelPT:155] If you intend to do validation, please call the ModelPT.setup_validation_data() or ModelPT.setup_multiple_validation_data() method and provide a valid configuration file to setup the validation data loader(s). \n",
      "    Validation config : \n",
      "    manifest_filepath: /manifests/combined_fisher_swbd_voxceleb12_librispeech/dev.json\n",
      "    sample_rate: 16000\n",
      "    labels: null\n",
      "    batch_size: 128\n",
      "    shuffle: false\n",
      "    time_length: 3\n",
      "    num_workers: 15\n",
      "    pin_memory: true\n",
      "    \n"
     ]
    },
    {
     "name": "stdout",
     "output_type": "stream",
     "text": [
      "[NeMo I 2022-07-25 21:11:59 features:200] PADDING: 16\n",
      "[NeMo I 2022-07-25 21:12:00 label_models:100] loss is Angular Softmax\n",
      "[NeMo I 2022-07-25 21:12:00 save_restore_connector:243] Model EncDecSpeakerLabelModel was successfully restored from /root/.cache/torch/NeMo/NeMo_1.10.0/titanet-l/492c0ab8416139171dc18c21879a9e45/titanet-l.nemo.\n",
      "[NeMo I 2022-07-25 21:12:00 speaker_utils:82] Number of files to diarize: 1\n",
      "[NeMo I 2022-07-25 21:12:00 clustering_diarizer:271] Subsegmentation for embedding extraction: scale0, /home/DATA/amit_kesari/SD1/NeMo-ASR_Diar/data/voxconverse/speaker_outputs/subsegments_scale0.json\n",
      "[NeMo I 2022-07-25 21:12:00 clustering_diarizer:325] Extracting embeddings for Diarization\n",
      "[NeMo I 2022-07-25 21:12:00 collections:289] Filtered duration for loading collection is 0.000000.\n",
      "[NeMo I 2022-07-25 21:12:00 collections:293] # 2170 files loaded accounting to # 1 labels\n"
     ]
    },
    {
     "name": "stderr",
     "output_type": "stream",
     "text": [
      "100%|██████████| 34/34 [00:06<00:00,  5.54it/s]\n",
      "100%|██████████| 1/1 [00:09<00:00,  9.65s/it]\n"
     ]
    },
    {
     "name": "stdout",
     "output_type": "stream",
     "text": [
      "[NeMo I 2022-07-25 21:12:19 speaker_utils:460] Cumulative Results for collar 0.25 sec and ignore_overlap True: \n",
      "     FA: 0.0462\t MISS 0.2369\t                 Diarization ER: 0.4536\t, Confusion ER:0.1705\n",
      "[NeMo I 2022-07-25 21:12:19 clustering_diarizer:444] Outputs are saved in /home/DATA/amit_kesari/SD1/NeMo-ASR_Diar/data/voxconverse directory\n",
      "\n",
      "\n",
      "Diar score:  (<pyannote.metrics.diarization.DiarizationErrorRate object at 0x7fa050303ac0>, {'kgjaa': {'speaker_0': 'spk06', 'speaker_1': 'spk08', 'speaker_2': 'spk04', 'speaker_4': 'spk07', 'speaker_6': 'spk00', 'speaker_7': 'spk09', 'speaker_8': 'spk02', 'speaker_9': 'spk01'}})\n",
      "Diarization error rate (DER) = 47.5%\n",
      "\n",
      "\n",
      "voxconverse_label:  kmjvh\n",
      "num_speakers:  8\n",
      "[NeMo I 2022-07-25 21:12:23 speaker_utils:82] Number of files to diarize: 1\n",
      "[NeMo I 2022-07-25 21:12:23 cloud:56] Found existing object /root/.cache/torch/NeMo/NeMo_1.10.0/QuartzNet15x5Base-En/2b066be39e9294d7100fb176ec817722/QuartzNet15x5Base-En.nemo.\n",
      "[NeMo I 2022-07-25 21:12:23 cloud:62] Re-using file from: /root/.cache/torch/NeMo/NeMo_1.10.0/QuartzNet15x5Base-En/2b066be39e9294d7100fb176ec817722/QuartzNet15x5Base-En.nemo\n",
      "[NeMo I 2022-07-25 21:12:23 common:789] Instantiating model from pre-trained checkpoint\n",
      "[NeMo I 2022-07-25 21:12:24 features:200] PADDING: 16\n",
      "[NeMo I 2022-07-25 21:12:25 save_restore_connector:243] Model EncDecCTCModel was successfully restored from /root/.cache/torch/NeMo/NeMo_1.10.0/QuartzNet15x5Base-En/2b066be39e9294d7100fb176ec817722/QuartzNet15x5Base-En.nemo.\n"
     ]
    },
    {
     "data": {
      "application/vnd.jupyter.widget-view+json": {
       "model_id": "87a976934c6d4029a62df5c4131e9125",
       "version_major": 2,
       "version_minor": 0
      },
      "text/plain": [
       "Transcribing:   0%|          | 0/1 [00:00<?, ?it/s]"
      ]
     },
     "metadata": {},
     "output_type": "display_data"
    },
    {
     "name": "stdout",
     "output_type": "stream",
     "text": [
      "[NeMo I 2022-07-25 21:12:26 speaker_utils:82] Number of files to diarize: 1\n",
      "[NeMo I 2022-07-25 21:12:26 clustering_diarizer:153] Loading pretrained titanet_large model from NGC\n",
      "[NeMo I 2022-07-25 21:12:26 cloud:56] Found existing object /root/.cache/torch/NeMo/NeMo_1.10.0/titanet-l/492c0ab8416139171dc18c21879a9e45/titanet-l.nemo.\n",
      "[NeMo I 2022-07-25 21:12:26 cloud:62] Re-using file from: /root/.cache/torch/NeMo/NeMo_1.10.0/titanet-l/492c0ab8416139171dc18c21879a9e45/titanet-l.nemo\n",
      "[NeMo I 2022-07-25 21:12:26 common:789] Instantiating model from pre-trained checkpoint\n"
     ]
    },
    {
     "name": "stderr",
     "output_type": "stream",
     "text": [
      "[NeMo W 2022-07-25 21:12:27 modelPT:148] If you intend to do training or fine-tuning, please call the ModelPT.setup_training_data() method and provide a valid configuration file to setup the train data loader.\n",
      "    Train config : \n",
      "    manifest_filepath: /manifests/combined_fisher_swbd_voxceleb12_librispeech/train.json\n",
      "    sample_rate: 16000\n",
      "    labels: null\n",
      "    batch_size: 64\n",
      "    shuffle: true\n",
      "    time_length: 3\n",
      "    is_tarred: false\n",
      "    tarred_audio_filepaths: null\n",
      "    tarred_shard_strategy: scatter\n",
      "    augmentor:\n",
      "      noise:\n",
      "        manifest_path: /manifests/noise/rir_noise_manifest.json\n",
      "        prob: 0.5\n",
      "        min_snr_db: 0\n",
      "        max_snr_db: 15\n",
      "      speed:\n",
      "        prob: 0.5\n",
      "        sr: 16000\n",
      "        resample_type: kaiser_fast\n",
      "        min_speed_rate: 0.95\n",
      "        max_speed_rate: 1.05\n",
      "    num_workers: 15\n",
      "    pin_memory: true\n",
      "    \n",
      "[NeMo W 2022-07-25 21:12:27 modelPT:155] If you intend to do validation, please call the ModelPT.setup_validation_data() or ModelPT.setup_multiple_validation_data() method and provide a valid configuration file to setup the validation data loader(s). \n",
      "    Validation config : \n",
      "    manifest_filepath: /manifests/combined_fisher_swbd_voxceleb12_librispeech/dev.json\n",
      "    sample_rate: 16000\n",
      "    labels: null\n",
      "    batch_size: 128\n",
      "    shuffle: false\n",
      "    time_length: 3\n",
      "    num_workers: 15\n",
      "    pin_memory: true\n",
      "    \n"
     ]
    },
    {
     "name": "stdout",
     "output_type": "stream",
     "text": [
      "[NeMo I 2022-07-25 21:12:27 features:200] PADDING: 16\n",
      "[NeMo I 2022-07-25 21:12:28 label_models:100] loss is Angular Softmax\n",
      "[NeMo I 2022-07-25 21:12:28 save_restore_connector:243] Model EncDecSpeakerLabelModel was successfully restored from /root/.cache/torch/NeMo/NeMo_1.10.0/titanet-l/492c0ab8416139171dc18c21879a9e45/titanet-l.nemo.\n",
      "[NeMo I 2022-07-25 21:12:28 speaker_utils:82] Number of files to diarize: 1\n",
      "[NeMo I 2022-07-25 21:12:28 clustering_diarizer:271] Subsegmentation for embedding extraction: scale0, /home/DATA/amit_kesari/SD1/NeMo-ASR_Diar/data/voxconverse/speaker_outputs/subsegments_scale0.json\n",
      "[NeMo I 2022-07-25 21:12:28 clustering_diarizer:325] Extracting embeddings for Diarization\n",
      "[NeMo I 2022-07-25 21:12:28 collections:289] Filtered duration for loading collection is 0.000000.\n",
      "[NeMo I 2022-07-25 21:12:28 collections:293] # 795 files loaded accounting to # 1 labels\n"
     ]
    },
    {
     "name": "stderr",
     "output_type": "stream",
     "text": [
      "100%|██████████| 13/13 [00:02<00:00,  5.18it/s]\n",
      "100%|██████████| 1/1 [00:10<00:00, 10.20s/it]\n"
     ]
    },
    {
     "name": "stdout",
     "output_type": "stream",
     "text": [
      "[NeMo I 2022-07-25 21:12:41 speaker_utils:460] Cumulative Results for collar 0.25 sec and ignore_overlap True: \n",
      "     FA: 0.0863\t MISS 0.2183\t                 Diarization ER: 0.5132\t, Confusion ER:0.2086\n",
      "[NeMo I 2022-07-25 21:12:41 clustering_diarizer:444] Outputs are saved in /home/DATA/amit_kesari/SD1/NeMo-ASR_Diar/data/voxconverse directory\n",
      "\n",
      "\n",
      "Diar score:  (<pyannote.metrics.diarization.DiarizationErrorRate object at 0x7fa048ed11c0>, {'kmjvh': {'speaker_0': 'spk04', 'speaker_1': 'spk05', 'speaker_2': 'spk00', 'speaker_3': 'spk06', 'speaker_4': 'spk01', 'speaker_5': 'spk02', 'speaker_6': 'spk07'}})\n",
      "Diarization error rate (DER) = 57.6%\n",
      "\n",
      "\n",
      "voxconverse_label:  kmunk\n",
      "num_speakers:  2\n",
      "[NeMo I 2022-07-25 21:12:43 speaker_utils:82] Number of files to diarize: 1\n",
      "[NeMo I 2022-07-25 21:12:43 cloud:56] Found existing object /root/.cache/torch/NeMo/NeMo_1.10.0/QuartzNet15x5Base-En/2b066be39e9294d7100fb176ec817722/QuartzNet15x5Base-En.nemo.\n",
      "[NeMo I 2022-07-25 21:12:43 cloud:62] Re-using file from: /root/.cache/torch/NeMo/NeMo_1.10.0/QuartzNet15x5Base-En/2b066be39e9294d7100fb176ec817722/QuartzNet15x5Base-En.nemo\n",
      "[NeMo I 2022-07-25 21:12:43 common:789] Instantiating model from pre-trained checkpoint\n",
      "[NeMo I 2022-07-25 21:12:44 features:200] PADDING: 16\n",
      "[NeMo I 2022-07-25 21:12:45 save_restore_connector:243] Model EncDecCTCModel was successfully restored from /root/.cache/torch/NeMo/NeMo_1.10.0/QuartzNet15x5Base-En/2b066be39e9294d7100fb176ec817722/QuartzNet15x5Base-En.nemo.\n"
     ]
    },
    {
     "data": {
      "application/vnd.jupyter.widget-view+json": {
       "model_id": "f3bce301b18042f8860bf195fb818421",
       "version_major": 2,
       "version_minor": 0
      },
      "text/plain": [
       "Transcribing:   0%|          | 0/1 [00:00<?, ?it/s]"
      ]
     },
     "metadata": {},
     "output_type": "display_data"
    },
    {
     "name": "stdout",
     "output_type": "stream",
     "text": [
      "[NeMo I 2022-07-25 21:12:46 speaker_utils:82] Number of files to diarize: 1\n",
      "[NeMo I 2022-07-25 21:12:46 clustering_diarizer:153] Loading pretrained titanet_large model from NGC\n",
      "[NeMo I 2022-07-25 21:12:46 cloud:56] Found existing object /root/.cache/torch/NeMo/NeMo_1.10.0/titanet-l/492c0ab8416139171dc18c21879a9e45/titanet-l.nemo.\n",
      "[NeMo I 2022-07-25 21:12:46 cloud:62] Re-using file from: /root/.cache/torch/NeMo/NeMo_1.10.0/titanet-l/492c0ab8416139171dc18c21879a9e45/titanet-l.nemo\n",
      "[NeMo I 2022-07-25 21:12:46 common:789] Instantiating model from pre-trained checkpoint\n"
     ]
    },
    {
     "name": "stderr",
     "output_type": "stream",
     "text": [
      "[NeMo W 2022-07-25 21:12:46 modelPT:148] If you intend to do training or fine-tuning, please call the ModelPT.setup_training_data() method and provide a valid configuration file to setup the train data loader.\n",
      "    Train config : \n",
      "    manifest_filepath: /manifests/combined_fisher_swbd_voxceleb12_librispeech/train.json\n",
      "    sample_rate: 16000\n",
      "    labels: null\n",
      "    batch_size: 64\n",
      "    shuffle: true\n",
      "    time_length: 3\n",
      "    is_tarred: false\n",
      "    tarred_audio_filepaths: null\n",
      "    tarred_shard_strategy: scatter\n",
      "    augmentor:\n",
      "      noise:\n",
      "        manifest_path: /manifests/noise/rir_noise_manifest.json\n",
      "        prob: 0.5\n",
      "        min_snr_db: 0\n",
      "        max_snr_db: 15\n",
      "      speed:\n",
      "        prob: 0.5\n",
      "        sr: 16000\n",
      "        resample_type: kaiser_fast\n",
      "        min_speed_rate: 0.95\n",
      "        max_speed_rate: 1.05\n",
      "    num_workers: 15\n",
      "    pin_memory: true\n",
      "    \n",
      "[NeMo W 2022-07-25 21:12:46 modelPT:155] If you intend to do validation, please call the ModelPT.setup_validation_data() or ModelPT.setup_multiple_validation_data() method and provide a valid configuration file to setup the validation data loader(s). \n",
      "    Validation config : \n",
      "    manifest_filepath: /manifests/combined_fisher_swbd_voxceleb12_librispeech/dev.json\n",
      "    sample_rate: 16000\n",
      "    labels: null\n",
      "    batch_size: 128\n",
      "    shuffle: false\n",
      "    time_length: 3\n",
      "    num_workers: 15\n",
      "    pin_memory: true\n",
      "    \n"
     ]
    },
    {
     "name": "stdout",
     "output_type": "stream",
     "text": [
      "[NeMo I 2022-07-25 21:12:46 features:200] PADDING: 16\n",
      "[NeMo I 2022-07-25 21:12:47 label_models:100] loss is Angular Softmax\n",
      "[NeMo I 2022-07-25 21:12:47 save_restore_connector:243] Model EncDecSpeakerLabelModel was successfully restored from /root/.cache/torch/NeMo/NeMo_1.10.0/titanet-l/492c0ab8416139171dc18c21879a9e45/titanet-l.nemo.\n",
      "[NeMo I 2022-07-25 21:12:47 speaker_utils:82] Number of files to diarize: 1\n",
      "[NeMo I 2022-07-25 21:12:47 clustering_diarizer:271] Subsegmentation for embedding extraction: scale0, /home/DATA/amit_kesari/SD1/NeMo-ASR_Diar/data/voxconverse/speaker_outputs/subsegments_scale0.json\n",
      "[NeMo I 2022-07-25 21:12:47 clustering_diarizer:325] Extracting embeddings for Diarization\n",
      "[NeMo I 2022-07-25 21:12:47 collections:289] Filtered duration for loading collection is 0.000000.\n",
      "[NeMo I 2022-07-25 21:12:47 collections:293] # 788 files loaded accounting to # 1 labels\n"
     ]
    },
    {
     "name": "stderr",
     "output_type": "stream",
     "text": [
      "100%|██████████| 13/13 [00:02<00:00,  5.17it/s]\n",
      "100%|██████████| 1/1 [00:11<00:00, 11.09s/it]\n"
     ]
    },
    {
     "name": "stdout",
     "output_type": "stream",
     "text": [
      "[NeMo I 2022-07-25 21:13:02 speaker_utils:460] Cumulative Results for collar 0.25 sec and ignore_overlap True: \n",
      "     FA: 0.0337\t MISS 0.2821\t                 Diarization ER: 0.3443\t, Confusion ER:0.0284\n",
      "[NeMo I 2022-07-25 21:13:02 clustering_diarizer:444] Outputs are saved in /home/DATA/amit_kesari/SD1/NeMo-ASR_Diar/data/voxconverse directory\n",
      "\n",
      "\n",
      "Diar score:  (<pyannote.metrics.diarization.DiarizationErrorRate object at 0x7fa0501bc160>, {'kmunk': {'speaker_0': 'spk00', 'speaker_1': 'spk01'}})\n",
      "Diarization error rate (DER) = 37.2%\n",
      "\n",
      "\n",
      "voxconverse_label:  kpjud\n",
      "num_speakers:  9\n",
      "[NeMo I 2022-07-25 21:13:02 speaker_utils:82] Number of files to diarize: 1\n",
      "[NeMo I 2022-07-25 21:13:02 cloud:56] Found existing object /root/.cache/torch/NeMo/NeMo_1.10.0/QuartzNet15x5Base-En/2b066be39e9294d7100fb176ec817722/QuartzNet15x5Base-En.nemo.\n",
      "[NeMo I 2022-07-25 21:13:02 cloud:62] Re-using file from: /root/.cache/torch/NeMo/NeMo_1.10.0/QuartzNet15x5Base-En/2b066be39e9294d7100fb176ec817722/QuartzNet15x5Base-En.nemo\n",
      "[NeMo I 2022-07-25 21:13:02 common:789] Instantiating model from pre-trained checkpoint\n",
      "[NeMo I 2022-07-25 21:13:03 features:200] PADDING: 16\n",
      "[NeMo I 2022-07-25 21:13:04 save_restore_connector:243] Model EncDecCTCModel was successfully restored from /root/.cache/torch/NeMo/NeMo_1.10.0/QuartzNet15x5Base-En/2b066be39e9294d7100fb176ec817722/QuartzNet15x5Base-En.nemo.\n"
     ]
    },
    {
     "data": {
      "application/vnd.jupyter.widget-view+json": {
       "model_id": "627f46c51d334d00be0f33186a502c3a",
       "version_major": 2,
       "version_minor": 0
      },
      "text/plain": [
       "Transcribing:   0%|          | 0/1 [00:00<?, ?it/s]"
      ]
     },
     "metadata": {},
     "output_type": "display_data"
    },
    {
     "name": "stdout",
     "output_type": "stream",
     "text": [
      "[NeMo I 2022-07-25 21:13:04 speaker_utils:82] Number of files to diarize: 1\n",
      "[NeMo I 2022-07-25 21:13:04 clustering_diarizer:153] Loading pretrained titanet_large model from NGC\n",
      "[NeMo I 2022-07-25 21:13:04 cloud:56] Found existing object /root/.cache/torch/NeMo/NeMo_1.10.0/titanet-l/492c0ab8416139171dc18c21879a9e45/titanet-l.nemo.\n",
      "[NeMo I 2022-07-25 21:13:04 cloud:62] Re-using file from: /root/.cache/torch/NeMo/NeMo_1.10.0/titanet-l/492c0ab8416139171dc18c21879a9e45/titanet-l.nemo\n",
      "[NeMo I 2022-07-25 21:13:04 common:789] Instantiating model from pre-trained checkpoint\n"
     ]
    },
    {
     "name": "stderr",
     "output_type": "stream",
     "text": [
      "[NeMo W 2022-07-25 21:13:05 modelPT:148] If you intend to do training or fine-tuning, please call the ModelPT.setup_training_data() method and provide a valid configuration file to setup the train data loader.\n",
      "    Train config : \n",
      "    manifest_filepath: /manifests/combined_fisher_swbd_voxceleb12_librispeech/train.json\n",
      "    sample_rate: 16000\n",
      "    labels: null\n",
      "    batch_size: 64\n",
      "    shuffle: true\n",
      "    time_length: 3\n",
      "    is_tarred: false\n",
      "    tarred_audio_filepaths: null\n",
      "    tarred_shard_strategy: scatter\n",
      "    augmentor:\n",
      "      noise:\n",
      "        manifest_path: /manifests/noise/rir_noise_manifest.json\n",
      "        prob: 0.5\n",
      "        min_snr_db: 0\n",
      "        max_snr_db: 15\n",
      "      speed:\n",
      "        prob: 0.5\n",
      "        sr: 16000\n",
      "        resample_type: kaiser_fast\n",
      "        min_speed_rate: 0.95\n",
      "        max_speed_rate: 1.05\n",
      "    num_workers: 15\n",
      "    pin_memory: true\n",
      "    \n",
      "[NeMo W 2022-07-25 21:13:05 modelPT:155] If you intend to do validation, please call the ModelPT.setup_validation_data() or ModelPT.setup_multiple_validation_data() method and provide a valid configuration file to setup the validation data loader(s). \n",
      "    Validation config : \n",
      "    manifest_filepath: /manifests/combined_fisher_swbd_voxceleb12_librispeech/dev.json\n",
      "    sample_rate: 16000\n",
      "    labels: null\n",
      "    batch_size: 128\n",
      "    shuffle: false\n",
      "    time_length: 3\n",
      "    num_workers: 15\n",
      "    pin_memory: true\n",
      "    \n"
     ]
    },
    {
     "name": "stdout",
     "output_type": "stream",
     "text": [
      "[NeMo I 2022-07-25 21:13:05 features:200] PADDING: 16\n",
      "[NeMo I 2022-07-25 21:13:05 label_models:100] loss is Angular Softmax\n",
      "[NeMo I 2022-07-25 21:13:06 save_restore_connector:243] Model EncDecSpeakerLabelModel was successfully restored from /root/.cache/torch/NeMo/NeMo_1.10.0/titanet-l/492c0ab8416139171dc18c21879a9e45/titanet-l.nemo.\n",
      "[NeMo I 2022-07-25 21:13:06 speaker_utils:82] Number of files to diarize: 1\n",
      "[NeMo I 2022-07-25 21:13:06 clustering_diarizer:271] Subsegmentation for embedding extraction: scale0, /home/DATA/amit_kesari/SD1/NeMo-ASR_Diar/data/voxconverse/speaker_outputs/subsegments_scale0.json\n",
      "[NeMo I 2022-07-25 21:13:06 clustering_diarizer:325] Extracting embeddings for Diarization\n",
      "[NeMo I 2022-07-25 21:13:06 collections:289] Filtered duration for loading collection is 0.000000.\n",
      "[NeMo I 2022-07-25 21:13:06 collections:293] # 261 files loaded accounting to # 1 labels\n"
     ]
    },
    {
     "name": "stderr",
     "output_type": "stream",
     "text": [
      "100%|██████████| 5/5 [00:00<00:00,  8.46it/s]\n",
      "100%|██████████| 1/1 [00:05<00:00,  5.05s/it]"
     ]
    },
    {
     "name": "stdout",
     "output_type": "stream",
     "text": [
      "[NeMo I 2022-07-25 21:13:11 speaker_utils:460] Cumulative Results for collar 0.25 sec and ignore_overlap True: \n",
      "     FA: 0.0073\t MISS 0.2209\t                 Diarization ER: 0.4517\t, Confusion ER:0.2236\n",
      "[NeMo I 2022-07-25 21:13:11 clustering_diarizer:444] Outputs are saved in /home/DATA/amit_kesari/SD1/NeMo-ASR_Diar/data/voxconverse directory\n"
     ]
    },
    {
     "name": "stderr",
     "output_type": "stream",
     "text": [
      "\n"
     ]
    },
    {
     "name": "stdout",
     "output_type": "stream",
     "text": [
      "\n",
      "\n",
      "Diar score:  (<pyannote.metrics.diarization.DiarizationErrorRate object at 0x7fa0600a8580>, {'kpjud': {'speaker_0': 'spk05', 'speaker_1': 'spk00', 'speaker_2': 'spk04', 'speaker_5': 'spk01', 'speaker_6': 'spk03', 'speaker_7': 'spk06', 'speaker_8': 'spk02'}})\n",
      "Diarization error rate (DER) = 51.3%\n",
      "\n",
      "\n",
      "voxconverse_label:  ktvto\n",
      "num_speakers:  9\n",
      "[NeMo I 2022-07-25 21:13:11 speaker_utils:82] Number of files to diarize: 1\n",
      "[NeMo I 2022-07-25 21:13:11 cloud:56] Found existing object /root/.cache/torch/NeMo/NeMo_1.10.0/QuartzNet15x5Base-En/2b066be39e9294d7100fb176ec817722/QuartzNet15x5Base-En.nemo.\n",
      "[NeMo I 2022-07-25 21:13:11 cloud:62] Re-using file from: /root/.cache/torch/NeMo/NeMo_1.10.0/QuartzNet15x5Base-En/2b066be39e9294d7100fb176ec817722/QuartzNet15x5Base-En.nemo\n",
      "[NeMo I 2022-07-25 21:13:11 common:789] Instantiating model from pre-trained checkpoint\n",
      "[NeMo I 2022-07-25 21:13:12 features:200] PADDING: 16\n",
      "[NeMo I 2022-07-25 21:13:14 save_restore_connector:243] Model EncDecCTCModel was successfully restored from /root/.cache/torch/NeMo/NeMo_1.10.0/QuartzNet15x5Base-En/2b066be39e9294d7100fb176ec817722/QuartzNet15x5Base-En.nemo.\n"
     ]
    },
    {
     "data": {
      "application/vnd.jupyter.widget-view+json": {
       "model_id": "52297dac53ef40948e2e161279a73d0f",
       "version_major": 2,
       "version_minor": 0
      },
      "text/plain": [
       "Transcribing:   0%|          | 0/1 [00:00<?, ?it/s]"
      ]
     },
     "metadata": {},
     "output_type": "display_data"
    },
    {
     "name": "stdout",
     "output_type": "stream",
     "text": [
      "[NeMo I 2022-07-25 21:13:15 speaker_utils:82] Number of files to diarize: 1\n",
      "[NeMo I 2022-07-25 21:13:15 clustering_diarizer:153] Loading pretrained titanet_large model from NGC\n",
      "[NeMo I 2022-07-25 21:13:15 cloud:56] Found existing object /root/.cache/torch/NeMo/NeMo_1.10.0/titanet-l/492c0ab8416139171dc18c21879a9e45/titanet-l.nemo.\n",
      "[NeMo I 2022-07-25 21:13:15 cloud:62] Re-using file from: /root/.cache/torch/NeMo/NeMo_1.10.0/titanet-l/492c0ab8416139171dc18c21879a9e45/titanet-l.nemo\n",
      "[NeMo I 2022-07-25 21:13:15 common:789] Instantiating model from pre-trained checkpoint\n"
     ]
    },
    {
     "name": "stderr",
     "output_type": "stream",
     "text": [
      "[NeMo W 2022-07-25 21:13:16 modelPT:148] If you intend to do training or fine-tuning, please call the ModelPT.setup_training_data() method and provide a valid configuration file to setup the train data loader.\n",
      "    Train config : \n",
      "    manifest_filepath: /manifests/combined_fisher_swbd_voxceleb12_librispeech/train.json\n",
      "    sample_rate: 16000\n",
      "    labels: null\n",
      "    batch_size: 64\n",
      "    shuffle: true\n",
      "    time_length: 3\n",
      "    is_tarred: false\n",
      "    tarred_audio_filepaths: null\n",
      "    tarred_shard_strategy: scatter\n",
      "    augmentor:\n",
      "      noise:\n",
      "        manifest_path: /manifests/noise/rir_noise_manifest.json\n",
      "        prob: 0.5\n",
      "        min_snr_db: 0\n",
      "        max_snr_db: 15\n",
      "      speed:\n",
      "        prob: 0.5\n",
      "        sr: 16000\n",
      "        resample_type: kaiser_fast\n",
      "        min_speed_rate: 0.95\n",
      "        max_speed_rate: 1.05\n",
      "    num_workers: 15\n",
      "    pin_memory: true\n",
      "    \n",
      "[NeMo W 2022-07-25 21:13:16 modelPT:155] If you intend to do validation, please call the ModelPT.setup_validation_data() or ModelPT.setup_multiple_validation_data() method and provide a valid configuration file to setup the validation data loader(s). \n",
      "    Validation config : \n",
      "    manifest_filepath: /manifests/combined_fisher_swbd_voxceleb12_librispeech/dev.json\n",
      "    sample_rate: 16000\n",
      "    labels: null\n",
      "    batch_size: 128\n",
      "    shuffle: false\n",
      "    time_length: 3\n",
      "    num_workers: 15\n",
      "    pin_memory: true\n",
      "    \n"
     ]
    },
    {
     "name": "stdout",
     "output_type": "stream",
     "text": [
      "[NeMo I 2022-07-25 21:13:16 features:200] PADDING: 16\n",
      "[NeMo I 2022-07-25 21:13:17 label_models:100] loss is Angular Softmax\n",
      "[NeMo I 2022-07-25 21:13:17 save_restore_connector:243] Model EncDecSpeakerLabelModel was successfully restored from /root/.cache/torch/NeMo/NeMo_1.10.0/titanet-l/492c0ab8416139171dc18c21879a9e45/titanet-l.nemo.\n",
      "[NeMo I 2022-07-25 21:13:17 speaker_utils:82] Number of files to diarize: 1\n",
      "[NeMo I 2022-07-25 21:13:17 clustering_diarizer:271] Subsegmentation for embedding extraction: scale0, /home/DATA/amit_kesari/SD1/NeMo-ASR_Diar/data/voxconverse/speaker_outputs/subsegments_scale0.json\n",
      "[NeMo I 2022-07-25 21:13:17 clustering_diarizer:325] Extracting embeddings for Diarization\n",
      "[NeMo I 2022-07-25 21:13:17 collections:289] Filtered duration for loading collection is 0.000000.\n",
      "[NeMo I 2022-07-25 21:13:17 collections:293] # 921 files loaded accounting to # 1 labels\n"
     ]
    },
    {
     "name": "stderr",
     "output_type": "stream",
     "text": [
      "100%|██████████| 15/15 [00:02<00:00,  5.27it/s]\n",
      "100%|██████████| 1/1 [00:09<00:00,  9.60s/it]\n"
     ]
    },
    {
     "name": "stdout",
     "output_type": "stream",
     "text": [
      "[NeMo I 2022-07-25 21:13:30 speaker_utils:460] Cumulative Results for collar 0.25 sec and ignore_overlap True: \n",
      "     FA: 0.0465\t MISS 0.0746\t                 Diarization ER: 0.3960\t, Confusion ER:0.2749\n",
      "[NeMo I 2022-07-25 21:13:30 clustering_diarizer:444] Outputs are saved in /home/DATA/amit_kesari/SD1/NeMo-ASR_Diar/data/voxconverse directory\n",
      "\n",
      "\n",
      "Diar score:  (<pyannote.metrics.diarization.DiarizationErrorRate object at 0x7fa048d24610>, {'ktvto': {'speaker_0': 'spk04', 'speaker_1': 'spk00', 'speaker_2': 'spk06', 'speaker_3': 'spk03', 'speaker_4': 'spk08', 'speaker_6': 'spk05', 'speaker_8': 'spk01'}})\n",
      "Diarization error rate (DER) = 45.9%\n",
      "\n",
      "\n",
      "voxconverse_label:  kvkje\n",
      "num_speakers:  8\n",
      "[NeMo I 2022-07-25 21:13:31 speaker_utils:82] Number of files to diarize: 1\n",
      "[NeMo I 2022-07-25 21:13:31 cloud:56] Found existing object /root/.cache/torch/NeMo/NeMo_1.10.0/QuartzNet15x5Base-En/2b066be39e9294d7100fb176ec817722/QuartzNet15x5Base-En.nemo.\n",
      "[NeMo I 2022-07-25 21:13:31 cloud:62] Re-using file from: /root/.cache/torch/NeMo/NeMo_1.10.0/QuartzNet15x5Base-En/2b066be39e9294d7100fb176ec817722/QuartzNet15x5Base-En.nemo\n",
      "[NeMo I 2022-07-25 21:13:31 common:789] Instantiating model from pre-trained checkpoint\n",
      "[NeMo I 2022-07-25 21:13:32 features:200] PADDING: 16\n",
      "[NeMo I 2022-07-25 21:13:33 save_restore_connector:243] Model EncDecCTCModel was successfully restored from /root/.cache/torch/NeMo/NeMo_1.10.0/QuartzNet15x5Base-En/2b066be39e9294d7100fb176ec817722/QuartzNet15x5Base-En.nemo.\n"
     ]
    },
    {
     "data": {
      "application/vnd.jupyter.widget-view+json": {
       "model_id": "f50efbac5cbf4c4a8fb4f3ca95052ef5",
       "version_major": 2,
       "version_minor": 0
      },
      "text/plain": [
       "Transcribing:   0%|          | 0/1 [00:00<?, ?it/s]"
      ]
     },
     "metadata": {},
     "output_type": "display_data"
    },
    {
     "name": "stdout",
     "output_type": "stream",
     "text": [
      "[NeMo I 2022-07-25 21:13:35 speaker_utils:82] Number of files to diarize: 1\n",
      "[NeMo I 2022-07-25 21:13:35 clustering_diarizer:153] Loading pretrained titanet_large model from NGC\n",
      "[NeMo I 2022-07-25 21:13:35 cloud:56] Found existing object /root/.cache/torch/NeMo/NeMo_1.10.0/titanet-l/492c0ab8416139171dc18c21879a9e45/titanet-l.nemo.\n",
      "[NeMo I 2022-07-25 21:13:35 cloud:62] Re-using file from: /root/.cache/torch/NeMo/NeMo_1.10.0/titanet-l/492c0ab8416139171dc18c21879a9e45/titanet-l.nemo\n",
      "[NeMo I 2022-07-25 21:13:35 common:789] Instantiating model from pre-trained checkpoint\n"
     ]
    },
    {
     "name": "stderr",
     "output_type": "stream",
     "text": [
      "[NeMo W 2022-07-25 21:13:36 modelPT:148] If you intend to do training or fine-tuning, please call the ModelPT.setup_training_data() method and provide a valid configuration file to setup the train data loader.\n",
      "    Train config : \n",
      "    manifest_filepath: /manifests/combined_fisher_swbd_voxceleb12_librispeech/train.json\n",
      "    sample_rate: 16000\n",
      "    labels: null\n",
      "    batch_size: 64\n",
      "    shuffle: true\n",
      "    time_length: 3\n",
      "    is_tarred: false\n",
      "    tarred_audio_filepaths: null\n",
      "    tarred_shard_strategy: scatter\n",
      "    augmentor:\n",
      "      noise:\n",
      "        manifest_path: /manifests/noise/rir_noise_manifest.json\n",
      "        prob: 0.5\n",
      "        min_snr_db: 0\n",
      "        max_snr_db: 15\n",
      "      speed:\n",
      "        prob: 0.5\n",
      "        sr: 16000\n",
      "        resample_type: kaiser_fast\n",
      "        min_speed_rate: 0.95\n",
      "        max_speed_rate: 1.05\n",
      "    num_workers: 15\n",
      "    pin_memory: true\n",
      "    \n",
      "[NeMo W 2022-07-25 21:13:36 modelPT:155] If you intend to do validation, please call the ModelPT.setup_validation_data() or ModelPT.setup_multiple_validation_data() method and provide a valid configuration file to setup the validation data loader(s). \n",
      "    Validation config : \n",
      "    manifest_filepath: /manifests/combined_fisher_swbd_voxceleb12_librispeech/dev.json\n",
      "    sample_rate: 16000\n",
      "    labels: null\n",
      "    batch_size: 128\n",
      "    shuffle: false\n",
      "    time_length: 3\n",
      "    num_workers: 15\n",
      "    pin_memory: true\n",
      "    \n"
     ]
    },
    {
     "name": "stdout",
     "output_type": "stream",
     "text": [
      "[NeMo I 2022-07-25 21:13:36 features:200] PADDING: 16\n",
      "[NeMo I 2022-07-25 21:13:36 label_models:100] loss is Angular Softmax\n",
      "[NeMo I 2022-07-25 21:13:37 save_restore_connector:243] Model EncDecSpeakerLabelModel was successfully restored from /root/.cache/torch/NeMo/NeMo_1.10.0/titanet-l/492c0ab8416139171dc18c21879a9e45/titanet-l.nemo.\n",
      "[NeMo I 2022-07-25 21:13:37 speaker_utils:82] Number of files to diarize: 1\n",
      "[NeMo I 2022-07-25 21:13:37 clustering_diarizer:271] Subsegmentation for embedding extraction: scale0, /home/DATA/amit_kesari/SD1/NeMo-ASR_Diar/data/voxconverse/speaker_outputs/subsegments_scale0.json\n",
      "[NeMo I 2022-07-25 21:13:37 clustering_diarizer:325] Extracting embeddings for Diarization\n",
      "[NeMo I 2022-07-25 21:13:37 collections:289] Filtered duration for loading collection is 0.000000.\n",
      "[NeMo I 2022-07-25 21:13:37 collections:293] # 1750 files loaded accounting to # 1 labels\n"
     ]
    },
    {
     "name": "stderr",
     "output_type": "stream",
     "text": [
      "100%|██████████| 28/28 [00:05<00:00,  5.56it/s]\n",
      "100%|██████████| 1/1 [00:10<00:00, 10.74s/it]\n"
     ]
    },
    {
     "name": "stdout",
     "output_type": "stream",
     "text": [
      "[NeMo I 2022-07-25 21:13:55 speaker_utils:460] Cumulative Results for collar 0.25 sec and ignore_overlap True: \n",
      "     FA: 0.0752\t MISS 0.2649\t                 Diarization ER: 0.5415\t, Confusion ER:0.2014\n",
      "[NeMo I 2022-07-25 21:13:55 clustering_diarizer:444] Outputs are saved in /home/DATA/amit_kesari/SD1/NeMo-ASR_Diar/data/voxconverse directory\n",
      "\n",
      "\n",
      "Diar score:  (<pyannote.metrics.diarization.DiarizationErrorRate object at 0x7fa050801ee0>, {'kvkje': {'speaker_0': 'spk06', 'speaker_1': 'spk05', 'speaker_2': 'spk01', 'speaker_3': 'spk04', 'speaker_5': 'spk00', 'speaker_6': 'spk03', 'speaker_7': 'spk02'}})\n",
      "Diarization error rate (DER) = 58.3%\n",
      "\n",
      "\n",
      "voxconverse_label:  kzmyi\n",
      "num_speakers:  8\n",
      "[NeMo I 2022-07-25 21:13:58 speaker_utils:82] Number of files to diarize: 1\n",
      "[NeMo I 2022-07-25 21:13:58 cloud:56] Found existing object /root/.cache/torch/NeMo/NeMo_1.10.0/QuartzNet15x5Base-En/2b066be39e9294d7100fb176ec817722/QuartzNet15x5Base-En.nemo.\n",
      "[NeMo I 2022-07-25 21:13:58 cloud:62] Re-using file from: /root/.cache/torch/NeMo/NeMo_1.10.0/QuartzNet15x5Base-En/2b066be39e9294d7100fb176ec817722/QuartzNet15x5Base-En.nemo\n",
      "[NeMo I 2022-07-25 21:13:58 common:789] Instantiating model from pre-trained checkpoint\n",
      "[NeMo I 2022-07-25 21:13:59 features:200] PADDING: 16\n",
      "[NeMo I 2022-07-25 21:14:00 save_restore_connector:243] Model EncDecCTCModel was successfully restored from /root/.cache/torch/NeMo/NeMo_1.10.0/QuartzNet15x5Base-En/2b066be39e9294d7100fb176ec817722/QuartzNet15x5Base-En.nemo.\n"
     ]
    },
    {
     "data": {
      "application/vnd.jupyter.widget-view+json": {
       "model_id": "ffc6e97e927f411bb30c75a6628577dc",
       "version_major": 2,
       "version_minor": 0
      },
      "text/plain": [
       "Transcribing:   0%|          | 0/1 [00:00<?, ?it/s]"
      ]
     },
     "metadata": {},
     "output_type": "display_data"
    },
    {
     "name": "stdout",
     "output_type": "stream",
     "text": [
      "[NeMo I 2022-07-25 21:14:02 speaker_utils:82] Number of files to diarize: 1\n",
      "[NeMo I 2022-07-25 21:14:02 clustering_diarizer:153] Loading pretrained titanet_large model from NGC\n",
      "[NeMo I 2022-07-25 21:14:02 cloud:56] Found existing object /root/.cache/torch/NeMo/NeMo_1.10.0/titanet-l/492c0ab8416139171dc18c21879a9e45/titanet-l.nemo.\n",
      "[NeMo I 2022-07-25 21:14:02 cloud:62] Re-using file from: /root/.cache/torch/NeMo/NeMo_1.10.0/titanet-l/492c0ab8416139171dc18c21879a9e45/titanet-l.nemo\n",
      "[NeMo I 2022-07-25 21:14:02 common:789] Instantiating model from pre-trained checkpoint\n"
     ]
    },
    {
     "name": "stderr",
     "output_type": "stream",
     "text": [
      "[NeMo W 2022-07-25 21:14:03 modelPT:148] If you intend to do training or fine-tuning, please call the ModelPT.setup_training_data() method and provide a valid configuration file to setup the train data loader.\n",
      "    Train config : \n",
      "    manifest_filepath: /manifests/combined_fisher_swbd_voxceleb12_librispeech/train.json\n",
      "    sample_rate: 16000\n",
      "    labels: null\n",
      "    batch_size: 64\n",
      "    shuffle: true\n",
      "    time_length: 3\n",
      "    is_tarred: false\n",
      "    tarred_audio_filepaths: null\n",
      "    tarred_shard_strategy: scatter\n",
      "    augmentor:\n",
      "      noise:\n",
      "        manifest_path: /manifests/noise/rir_noise_manifest.json\n",
      "        prob: 0.5\n",
      "        min_snr_db: 0\n",
      "        max_snr_db: 15\n",
      "      speed:\n",
      "        prob: 0.5\n",
      "        sr: 16000\n",
      "        resample_type: kaiser_fast\n",
      "        min_speed_rate: 0.95\n",
      "        max_speed_rate: 1.05\n",
      "    num_workers: 15\n",
      "    pin_memory: true\n",
      "    \n",
      "[NeMo W 2022-07-25 21:14:03 modelPT:155] If you intend to do validation, please call the ModelPT.setup_validation_data() or ModelPT.setup_multiple_validation_data() method and provide a valid configuration file to setup the validation data loader(s). \n",
      "    Validation config : \n",
      "    manifest_filepath: /manifests/combined_fisher_swbd_voxceleb12_librispeech/dev.json\n",
      "    sample_rate: 16000\n",
      "    labels: null\n",
      "    batch_size: 128\n",
      "    shuffle: false\n",
      "    time_length: 3\n",
      "    num_workers: 15\n",
      "    pin_memory: true\n",
      "    \n"
     ]
    },
    {
     "name": "stdout",
     "output_type": "stream",
     "text": [
      "[NeMo I 2022-07-25 21:14:03 features:200] PADDING: 16\n",
      "[NeMo I 2022-07-25 21:14:03 label_models:100] loss is Angular Softmax\n",
      "[NeMo I 2022-07-25 21:14:04 save_restore_connector:243] Model EncDecSpeakerLabelModel was successfully restored from /root/.cache/torch/NeMo/NeMo_1.10.0/titanet-l/492c0ab8416139171dc18c21879a9e45/titanet-l.nemo.\n",
      "[NeMo I 2022-07-25 21:14:04 speaker_utils:82] Number of files to diarize: 1\n",
      "[NeMo I 2022-07-25 21:14:04 clustering_diarizer:271] Subsegmentation for embedding extraction: scale0, /home/DATA/amit_kesari/SD1/NeMo-ASR_Diar/data/voxconverse/speaker_outputs/subsegments_scale0.json\n",
      "[NeMo I 2022-07-25 21:14:04 clustering_diarizer:325] Extracting embeddings for Diarization\n",
      "[NeMo I 2022-07-25 21:14:04 collections:289] Filtered duration for loading collection is 0.000000.\n",
      "[NeMo I 2022-07-25 21:14:04 collections:293] # 1462 files loaded accounting to # 1 labels\n"
     ]
    },
    {
     "name": "stderr",
     "output_type": "stream",
     "text": [
      "100%|██████████| 23/23 [00:04<00:00,  5.45it/s]\n",
      "100%|██████████| 1/1 [00:10<00:00, 10.50s/it]\n"
     ]
    },
    {
     "name": "stdout",
     "output_type": "stream",
     "text": [
      "[NeMo I 2022-07-25 21:14:20 speaker_utils:460] Cumulative Results for collar 0.25 sec and ignore_overlap True: \n",
      "     FA: 0.1139\t MISS 0.2700\t                 Diarization ER: 0.6911\t, Confusion ER:0.3071\n",
      "[NeMo I 2022-07-25 21:14:20 clustering_diarizer:444] Outputs are saved in /home/DATA/amit_kesari/SD1/NeMo-ASR_Diar/data/voxconverse directory\n",
      "\n",
      "\n",
      "Diar score:  (<pyannote.metrics.diarization.DiarizationErrorRate object at 0x7fa157ef0520>, {'kzmyi': {'speaker_0': 'spk00', 'speaker_1': 'spk01', 'speaker_2': 'spk07', 'speaker_5': 'spk02', 'speaker_6': 'spk06', 'speaker_7': 'spk03'}})\n",
      "Diarization error rate (DER) = 71.0%\n",
      "\n",
      "\n",
      "voxconverse_label:  laoyl\n",
      "num_speakers:  2\n",
      "[NeMo I 2022-07-25 21:14:22 speaker_utils:82] Number of files to diarize: 1\n",
      "[NeMo I 2022-07-25 21:14:22 cloud:56] Found existing object /root/.cache/torch/NeMo/NeMo_1.10.0/QuartzNet15x5Base-En/2b066be39e9294d7100fb176ec817722/QuartzNet15x5Base-En.nemo.\n",
      "[NeMo I 2022-07-25 21:14:22 cloud:62] Re-using file from: /root/.cache/torch/NeMo/NeMo_1.10.0/QuartzNet15x5Base-En/2b066be39e9294d7100fb176ec817722/QuartzNet15x5Base-En.nemo\n",
      "[NeMo I 2022-07-25 21:14:22 common:789] Instantiating model from pre-trained checkpoint\n",
      "[NeMo I 2022-07-25 21:14:23 features:200] PADDING: 16\n",
      "[NeMo I 2022-07-25 21:14:24 save_restore_connector:243] Model EncDecCTCModel was successfully restored from /root/.cache/torch/NeMo/NeMo_1.10.0/QuartzNet15x5Base-En/2b066be39e9294d7100fb176ec817722/QuartzNet15x5Base-En.nemo.\n"
     ]
    },
    {
     "data": {
      "application/vnd.jupyter.widget-view+json": {
       "model_id": "3d925402e2a5497ebc6c5024ad9d2532",
       "version_major": 2,
       "version_minor": 0
      },
      "text/plain": [
       "Transcribing:   0%|          | 0/1 [00:00<?, ?it/s]"
      ]
     },
     "metadata": {},
     "output_type": "display_data"
    },
    {
     "name": "stdout",
     "output_type": "stream",
     "text": [
      "[NeMo I 2022-07-25 21:14:25 speaker_utils:82] Number of files to diarize: 1\n",
      "[NeMo I 2022-07-25 21:14:25 clustering_diarizer:153] Loading pretrained titanet_large model from NGC\n",
      "[NeMo I 2022-07-25 21:14:25 cloud:56] Found existing object /root/.cache/torch/NeMo/NeMo_1.10.0/titanet-l/492c0ab8416139171dc18c21879a9e45/titanet-l.nemo.\n",
      "[NeMo I 2022-07-25 21:14:25 cloud:62] Re-using file from: /root/.cache/torch/NeMo/NeMo_1.10.0/titanet-l/492c0ab8416139171dc18c21879a9e45/titanet-l.nemo\n",
      "[NeMo I 2022-07-25 21:14:25 common:789] Instantiating model from pre-trained checkpoint\n"
     ]
    },
    {
     "name": "stderr",
     "output_type": "stream",
     "text": [
      "[NeMo W 2022-07-25 21:14:26 modelPT:148] If you intend to do training or fine-tuning, please call the ModelPT.setup_training_data() method and provide a valid configuration file to setup the train data loader.\n",
      "    Train config : \n",
      "    manifest_filepath: /manifests/combined_fisher_swbd_voxceleb12_librispeech/train.json\n",
      "    sample_rate: 16000\n",
      "    labels: null\n",
      "    batch_size: 64\n",
      "    shuffle: true\n",
      "    time_length: 3\n",
      "    is_tarred: false\n",
      "    tarred_audio_filepaths: null\n",
      "    tarred_shard_strategy: scatter\n",
      "    augmentor:\n",
      "      noise:\n",
      "        manifest_path: /manifests/noise/rir_noise_manifest.json\n",
      "        prob: 0.5\n",
      "        min_snr_db: 0\n",
      "        max_snr_db: 15\n",
      "      speed:\n",
      "        prob: 0.5\n",
      "        sr: 16000\n",
      "        resample_type: kaiser_fast\n",
      "        min_speed_rate: 0.95\n",
      "        max_speed_rate: 1.05\n",
      "    num_workers: 15\n",
      "    pin_memory: true\n",
      "    \n",
      "[NeMo W 2022-07-25 21:14:26 modelPT:155] If you intend to do validation, please call the ModelPT.setup_validation_data() or ModelPT.setup_multiple_validation_data() method and provide a valid configuration file to setup the validation data loader(s). \n",
      "    Validation config : \n",
      "    manifest_filepath: /manifests/combined_fisher_swbd_voxceleb12_librispeech/dev.json\n",
      "    sample_rate: 16000\n",
      "    labels: null\n",
      "    batch_size: 128\n",
      "    shuffle: false\n",
      "    time_length: 3\n",
      "    num_workers: 15\n",
      "    pin_memory: true\n",
      "    \n"
     ]
    },
    {
     "name": "stdout",
     "output_type": "stream",
     "text": [
      "[NeMo I 2022-07-25 21:14:26 features:200] PADDING: 16\n",
      "[NeMo I 2022-07-25 21:14:27 label_models:100] loss is Angular Softmax\n",
      "[NeMo I 2022-07-25 21:14:27 save_restore_connector:243] Model EncDecSpeakerLabelModel was successfully restored from /root/.cache/torch/NeMo/NeMo_1.10.0/titanet-l/492c0ab8416139171dc18c21879a9e45/titanet-l.nemo.\n",
      "[NeMo I 2022-07-25 21:14:27 speaker_utils:82] Number of files to diarize: 1\n",
      "[NeMo I 2022-07-25 21:14:27 clustering_diarizer:271] Subsegmentation for embedding extraction: scale0, /home/DATA/amit_kesari/SD1/NeMo-ASR_Diar/data/voxconverse/speaker_outputs/subsegments_scale0.json\n",
      "[NeMo I 2022-07-25 21:14:27 clustering_diarizer:325] Extracting embeddings for Diarization\n",
      "[NeMo I 2022-07-25 21:14:27 collections:289] Filtered duration for loading collection is 0.000000.\n",
      "[NeMo I 2022-07-25 21:14:27 collections:293] # 505 files loaded accounting to # 1 labels\n"
     ]
    },
    {
     "name": "stderr",
     "output_type": "stream",
     "text": [
      "100%|██████████| 8/8 [00:01<00:00,  4.60it/s]\n",
      "100%|██████████| 1/1 [00:12<00:00, 12.81s/it]\n"
     ]
    },
    {
     "name": "stdout",
     "output_type": "stream",
     "text": [
      "[NeMo I 2022-07-25 21:14:42 speaker_utils:460] Cumulative Results for collar 0.25 sec and ignore_overlap True: \n",
      "     FA: 0.0331\t MISS 0.2403\t                 Diarization ER: 0.2912\t, Confusion ER:0.0178\n",
      "[NeMo I 2022-07-25 21:14:42 clustering_diarizer:444] Outputs are saved in /home/DATA/amit_kesari/SD1/NeMo-ASR_Diar/data/voxconverse directory\n",
      "\n",
      "\n",
      "Diar score:  (<pyannote.metrics.diarization.DiarizationErrorRate object at 0x7fa06ddd6dc0>, {'laoyl': {'speaker_0': 'spk01', 'speaker_1': 'spk00'}})\n",
      "Diarization error rate (DER) = 33.1%\n",
      "\n",
      "\n",
      "voxconverse_label:  lbfnx\n",
      "num_speakers:  15\n",
      "[NeMo I 2022-07-25 21:14:42 speaker_utils:82] Number of files to diarize: 1\n",
      "[NeMo I 2022-07-25 21:14:42 cloud:56] Found existing object /root/.cache/torch/NeMo/NeMo_1.10.0/QuartzNet15x5Base-En/2b066be39e9294d7100fb176ec817722/QuartzNet15x5Base-En.nemo.\n",
      "[NeMo I 2022-07-25 21:14:42 cloud:62] Re-using file from: /root/.cache/torch/NeMo/NeMo_1.10.0/QuartzNet15x5Base-En/2b066be39e9294d7100fb176ec817722/QuartzNet15x5Base-En.nemo\n",
      "[NeMo I 2022-07-25 21:14:42 common:789] Instantiating model from pre-trained checkpoint\n",
      "[NeMo I 2022-07-25 21:14:43 features:200] PADDING: 16\n",
      "[NeMo I 2022-07-25 21:14:44 save_restore_connector:243] Model EncDecCTCModel was successfully restored from /root/.cache/torch/NeMo/NeMo_1.10.0/QuartzNet15x5Base-En/2b066be39e9294d7100fb176ec817722/QuartzNet15x5Base-En.nemo.\n"
     ]
    },
    {
     "data": {
      "application/vnd.jupyter.widget-view+json": {
       "model_id": "ac320bccc52a4bc5aae722005377b33d",
       "version_major": 2,
       "version_minor": 0
      },
      "text/plain": [
       "Transcribing:   0%|          | 0/1 [00:00<?, ?it/s]"
      ]
     },
     "metadata": {},
     "output_type": "display_data"
    },
    {
     "name": "stdout",
     "output_type": "stream",
     "text": [
      "[NeMo I 2022-07-25 21:14:46 speaker_utils:82] Number of files to diarize: 1\n",
      "[NeMo I 2022-07-25 21:14:46 clustering_diarizer:153] Loading pretrained titanet_large model from NGC\n",
      "[NeMo I 2022-07-25 21:14:46 cloud:56] Found existing object /root/.cache/torch/NeMo/NeMo_1.10.0/titanet-l/492c0ab8416139171dc18c21879a9e45/titanet-l.nemo.\n",
      "[NeMo I 2022-07-25 21:14:46 cloud:62] Re-using file from: /root/.cache/torch/NeMo/NeMo_1.10.0/titanet-l/492c0ab8416139171dc18c21879a9e45/titanet-l.nemo\n",
      "[NeMo I 2022-07-25 21:14:46 common:789] Instantiating model from pre-trained checkpoint\n"
     ]
    },
    {
     "name": "stderr",
     "output_type": "stream",
     "text": [
      "[NeMo W 2022-07-25 21:14:47 modelPT:148] If you intend to do training or fine-tuning, please call the ModelPT.setup_training_data() method and provide a valid configuration file to setup the train data loader.\n",
      "    Train config : \n",
      "    manifest_filepath: /manifests/combined_fisher_swbd_voxceleb12_librispeech/train.json\n",
      "    sample_rate: 16000\n",
      "    labels: null\n",
      "    batch_size: 64\n",
      "    shuffle: true\n",
      "    time_length: 3\n",
      "    is_tarred: false\n",
      "    tarred_audio_filepaths: null\n",
      "    tarred_shard_strategy: scatter\n",
      "    augmentor:\n",
      "      noise:\n",
      "        manifest_path: /manifests/noise/rir_noise_manifest.json\n",
      "        prob: 0.5\n",
      "        min_snr_db: 0\n",
      "        max_snr_db: 15\n",
      "      speed:\n",
      "        prob: 0.5\n",
      "        sr: 16000\n",
      "        resample_type: kaiser_fast\n",
      "        min_speed_rate: 0.95\n",
      "        max_speed_rate: 1.05\n",
      "    num_workers: 15\n",
      "    pin_memory: true\n",
      "    \n",
      "[NeMo W 2022-07-25 21:14:47 modelPT:155] If you intend to do validation, please call the ModelPT.setup_validation_data() or ModelPT.setup_multiple_validation_data() method and provide a valid configuration file to setup the validation data loader(s). \n",
      "    Validation config : \n",
      "    manifest_filepath: /manifests/combined_fisher_swbd_voxceleb12_librispeech/dev.json\n",
      "    sample_rate: 16000\n",
      "    labels: null\n",
      "    batch_size: 128\n",
      "    shuffle: false\n",
      "    time_length: 3\n",
      "    num_workers: 15\n",
      "    pin_memory: true\n",
      "    \n"
     ]
    },
    {
     "name": "stdout",
     "output_type": "stream",
     "text": [
      "[NeMo I 2022-07-25 21:14:47 features:200] PADDING: 16\n",
      "[NeMo I 2022-07-25 21:14:48 label_models:100] loss is Angular Softmax\n",
      "[NeMo I 2022-07-25 21:14:48 save_restore_connector:243] Model EncDecSpeakerLabelModel was successfully restored from /root/.cache/torch/NeMo/NeMo_1.10.0/titanet-l/492c0ab8416139171dc18c21879a9e45/titanet-l.nemo.\n",
      "[NeMo I 2022-07-25 21:14:48 speaker_utils:82] Number of files to diarize: 1\n",
      "[NeMo I 2022-07-25 21:14:48 clustering_diarizer:271] Subsegmentation for embedding extraction: scale0, /home/DATA/amit_kesari/SD1/NeMo-ASR_Diar/data/voxconverse/speaker_outputs/subsegments_scale0.json\n",
      "[NeMo I 2022-07-25 21:14:48 clustering_diarizer:325] Extracting embeddings for Diarization\n",
      "[NeMo I 2022-07-25 21:14:48 collections:289] Filtered duration for loading collection is 0.000000.\n",
      "[NeMo I 2022-07-25 21:14:48 collections:293] # 2235 files loaded accounting to # 1 labels\n"
     ]
    },
    {
     "name": "stderr",
     "output_type": "stream",
     "text": [
      "100%|██████████| 35/35 [00:06<00:00,  5.53it/s]\n",
      "100%|██████████| 1/1 [00:09<00:00,  9.82s/it]\n"
     ]
    },
    {
     "name": "stdout",
     "output_type": "stream",
     "text": [
      "[NeMo I 2022-07-25 21:15:08 speaker_utils:460] Cumulative Results for collar 0.25 sec and ignore_overlap True: \n",
      "     FA: 0.0533\t MISS 0.2312\t                 Diarization ER: 0.5204\t, Confusion ER:0.2359\n",
      "[NeMo I 2022-07-25 21:15:08 clustering_diarizer:444] Outputs are saved in /home/DATA/amit_kesari/SD1/NeMo-ASR_Diar/data/voxconverse directory\n",
      "\n",
      "\n",
      "Diar score:  (<pyannote.metrics.diarization.DiarizationErrorRate object at 0x7fa06810c970>, {'lbfnx': {'speaker_0': 'spk04', 'speaker_1': 'spk12', 'speaker_10': 'spk09', 'speaker_12': 'spk01', 'speaker_13': 'spk00', 'speaker_14': 'spk07', 'speaker_2': 'spk05', 'speaker_3': 'spk03', 'speaker_6': 'spk02', 'speaker_7': 'spk13', 'speaker_8': 'spk10', 'speaker_9': 'spk08'}})\n",
      "Diarization error rate (DER) = 55.3%\n",
      "\n",
      "\n",
      "voxconverse_label:  ledhe\n",
      "num_speakers:  3\n",
      "[NeMo I 2022-07-25 21:15:12 speaker_utils:82] Number of files to diarize: 1\n",
      "[NeMo I 2022-07-25 21:15:12 cloud:56] Found existing object /root/.cache/torch/NeMo/NeMo_1.10.0/QuartzNet15x5Base-En/2b066be39e9294d7100fb176ec817722/QuartzNet15x5Base-En.nemo.\n",
      "[NeMo I 2022-07-25 21:15:12 cloud:62] Re-using file from: /root/.cache/torch/NeMo/NeMo_1.10.0/QuartzNet15x5Base-En/2b066be39e9294d7100fb176ec817722/QuartzNet15x5Base-En.nemo\n",
      "[NeMo I 2022-07-25 21:15:12 common:789] Instantiating model from pre-trained checkpoint\n",
      "[NeMo I 2022-07-25 21:15:13 features:200] PADDING: 16\n",
      "[NeMo I 2022-07-25 21:15:15 save_restore_connector:243] Model EncDecCTCModel was successfully restored from /root/.cache/torch/NeMo/NeMo_1.10.0/QuartzNet15x5Base-En/2b066be39e9294d7100fb176ec817722/QuartzNet15x5Base-En.nemo.\n"
     ]
    },
    {
     "data": {
      "application/vnd.jupyter.widget-view+json": {
       "model_id": "d68bb33bd7634af3b4d9fb01e30b237a",
       "version_major": 2,
       "version_minor": 0
      },
      "text/plain": [
       "Transcribing:   0%|          | 0/1 [00:00<?, ?it/s]"
      ]
     },
     "metadata": {},
     "output_type": "display_data"
    },
    {
     "name": "stdout",
     "output_type": "stream",
     "text": [
      "[NeMo I 2022-07-25 21:15:16 speaker_utils:82] Number of files to diarize: 1\n",
      "[NeMo I 2022-07-25 21:15:16 clustering_diarizer:153] Loading pretrained titanet_large model from NGC\n",
      "[NeMo I 2022-07-25 21:15:16 cloud:56] Found existing object /root/.cache/torch/NeMo/NeMo_1.10.0/titanet-l/492c0ab8416139171dc18c21879a9e45/titanet-l.nemo.\n",
      "[NeMo I 2022-07-25 21:15:16 cloud:62] Re-using file from: /root/.cache/torch/NeMo/NeMo_1.10.0/titanet-l/492c0ab8416139171dc18c21879a9e45/titanet-l.nemo\n",
      "[NeMo I 2022-07-25 21:15:16 common:789] Instantiating model from pre-trained checkpoint\n"
     ]
    },
    {
     "name": "stderr",
     "output_type": "stream",
     "text": [
      "[NeMo W 2022-07-25 21:15:17 modelPT:148] If you intend to do training or fine-tuning, please call the ModelPT.setup_training_data() method and provide a valid configuration file to setup the train data loader.\n",
      "    Train config : \n",
      "    manifest_filepath: /manifests/combined_fisher_swbd_voxceleb12_librispeech/train.json\n",
      "    sample_rate: 16000\n",
      "    labels: null\n",
      "    batch_size: 64\n",
      "    shuffle: true\n",
      "    time_length: 3\n",
      "    is_tarred: false\n",
      "    tarred_audio_filepaths: null\n",
      "    tarred_shard_strategy: scatter\n",
      "    augmentor:\n",
      "      noise:\n",
      "        manifest_path: /manifests/noise/rir_noise_manifest.json\n",
      "        prob: 0.5\n",
      "        min_snr_db: 0\n",
      "        max_snr_db: 15\n",
      "      speed:\n",
      "        prob: 0.5\n",
      "        sr: 16000\n",
      "        resample_type: kaiser_fast\n",
      "        min_speed_rate: 0.95\n",
      "        max_speed_rate: 1.05\n",
      "    num_workers: 15\n",
      "    pin_memory: true\n",
      "    \n",
      "[NeMo W 2022-07-25 21:15:17 modelPT:155] If you intend to do validation, please call the ModelPT.setup_validation_data() or ModelPT.setup_multiple_validation_data() method and provide a valid configuration file to setup the validation data loader(s). \n",
      "    Validation config : \n",
      "    manifest_filepath: /manifests/combined_fisher_swbd_voxceleb12_librispeech/dev.json\n",
      "    sample_rate: 16000\n",
      "    labels: null\n",
      "    batch_size: 128\n",
      "    shuffle: false\n",
      "    time_length: 3\n",
      "    num_workers: 15\n",
      "    pin_memory: true\n",
      "    \n"
     ]
    },
    {
     "name": "stdout",
     "output_type": "stream",
     "text": [
      "[NeMo I 2022-07-25 21:15:17 features:200] PADDING: 16\n",
      "[NeMo I 2022-07-25 21:15:18 label_models:100] loss is Angular Softmax\n",
      "[NeMo I 2022-07-25 21:15:18 save_restore_connector:243] Model EncDecSpeakerLabelModel was successfully restored from /root/.cache/torch/NeMo/NeMo_1.10.0/titanet-l/492c0ab8416139171dc18c21879a9e45/titanet-l.nemo.\n",
      "[NeMo I 2022-07-25 21:15:18 speaker_utils:82] Number of files to diarize: 1\n",
      "[NeMo I 2022-07-25 21:15:18 clustering_diarizer:271] Subsegmentation for embedding extraction: scale0, /home/DATA/amit_kesari/SD1/NeMo-ASR_Diar/data/voxconverse/speaker_outputs/subsegments_scale0.json\n",
      "[NeMo I 2022-07-25 21:15:18 clustering_diarizer:325] Extracting embeddings for Diarization\n",
      "[NeMo I 2022-07-25 21:15:18 collections:289] Filtered duration for loading collection is 0.000000.\n",
      "[NeMo I 2022-07-25 21:15:18 collections:293] # 847 files loaded accounting to # 1 labels\n"
     ]
    },
    {
     "name": "stderr",
     "output_type": "stream",
     "text": [
      "100%|██████████| 14/14 [00:02<00:00,  5.32it/s]\n",
      "100%|██████████| 1/1 [00:10<00:00, 10.58s/it]\n"
     ]
    },
    {
     "name": "stdout",
     "output_type": "stream",
     "text": [
      "[NeMo I 2022-07-25 21:15:32 speaker_utils:460] Cumulative Results for collar 0.25 sec and ignore_overlap True: \n",
      "     FA: 0.0203\t MISS 0.2925\t                 Diarization ER: 0.4180\t, Confusion ER:0.1052\n",
      "[NeMo I 2022-07-25 21:15:32 clustering_diarizer:444] Outputs are saved in /home/DATA/amit_kesari/SD1/NeMo-ASR_Diar/data/voxconverse directory\n",
      "\n",
      "\n",
      "Diar score:  (<pyannote.metrics.diarization.DiarizationErrorRate object at 0x7fa068060d60>, {'ledhe': {'speaker_0': 'spk02', 'speaker_1': 'spk00', 'speaker_2': 'spk01'}})\n",
      "Diarization error rate (DER) = 43.8%\n",
      "\n",
      "\n",
      "voxconverse_label:  leneg\n",
      "num_speakers:  2\n",
      "[NeMo I 2022-07-25 21:15:33 speaker_utils:82] Number of files to diarize: 1\n",
      "[NeMo I 2022-07-25 21:15:33 cloud:56] Found existing object /root/.cache/torch/NeMo/NeMo_1.10.0/QuartzNet15x5Base-En/2b066be39e9294d7100fb176ec817722/QuartzNet15x5Base-En.nemo.\n",
      "[NeMo I 2022-07-25 21:15:33 cloud:62] Re-using file from: /root/.cache/torch/NeMo/NeMo_1.10.0/QuartzNet15x5Base-En/2b066be39e9294d7100fb176ec817722/QuartzNet15x5Base-En.nemo\n",
      "[NeMo I 2022-07-25 21:15:33 common:789] Instantiating model from pre-trained checkpoint\n",
      "[NeMo I 2022-07-25 21:15:34 features:200] PADDING: 16\n",
      "[NeMo I 2022-07-25 21:15:35 save_restore_connector:243] Model EncDecCTCModel was successfully restored from /root/.cache/torch/NeMo/NeMo_1.10.0/QuartzNet15x5Base-En/2b066be39e9294d7100fb176ec817722/QuartzNet15x5Base-En.nemo.\n"
     ]
    },
    {
     "data": {
      "application/vnd.jupyter.widget-view+json": {
       "model_id": "0b9b4362fb8a475f855ae6be9dde3b59",
       "version_major": 2,
       "version_minor": 0
      },
      "text/plain": [
       "Transcribing:   0%|          | 0/1 [00:00<?, ?it/s]"
      ]
     },
     "metadata": {},
     "output_type": "display_data"
    },
    {
     "name": "stdout",
     "output_type": "stream",
     "text": [
      "[NeMo I 2022-07-25 21:15:37 speaker_utils:82] Number of files to diarize: 1\n",
      "[NeMo I 2022-07-25 21:15:37 clustering_diarizer:153] Loading pretrained titanet_large model from NGC\n",
      "[NeMo I 2022-07-25 21:15:37 cloud:56] Found existing object /root/.cache/torch/NeMo/NeMo_1.10.0/titanet-l/492c0ab8416139171dc18c21879a9e45/titanet-l.nemo.\n",
      "[NeMo I 2022-07-25 21:15:37 cloud:62] Re-using file from: /root/.cache/torch/NeMo/NeMo_1.10.0/titanet-l/492c0ab8416139171dc18c21879a9e45/titanet-l.nemo\n",
      "[NeMo I 2022-07-25 21:15:37 common:789] Instantiating model from pre-trained checkpoint\n"
     ]
    },
    {
     "name": "stderr",
     "output_type": "stream",
     "text": [
      "[NeMo W 2022-07-25 21:15:38 modelPT:148] If you intend to do training or fine-tuning, please call the ModelPT.setup_training_data() method and provide a valid configuration file to setup the train data loader.\n",
      "    Train config : \n",
      "    manifest_filepath: /manifests/combined_fisher_swbd_voxceleb12_librispeech/train.json\n",
      "    sample_rate: 16000\n",
      "    labels: null\n",
      "    batch_size: 64\n",
      "    shuffle: true\n",
      "    time_length: 3\n",
      "    is_tarred: false\n",
      "    tarred_audio_filepaths: null\n",
      "    tarred_shard_strategy: scatter\n",
      "    augmentor:\n",
      "      noise:\n",
      "        manifest_path: /manifests/noise/rir_noise_manifest.json\n",
      "        prob: 0.5\n",
      "        min_snr_db: 0\n",
      "        max_snr_db: 15\n",
      "      speed:\n",
      "        prob: 0.5\n",
      "        sr: 16000\n",
      "        resample_type: kaiser_fast\n",
      "        min_speed_rate: 0.95\n",
      "        max_speed_rate: 1.05\n",
      "    num_workers: 15\n",
      "    pin_memory: true\n",
      "    \n",
      "[NeMo W 2022-07-25 21:15:38 modelPT:155] If you intend to do validation, please call the ModelPT.setup_validation_data() or ModelPT.setup_multiple_validation_data() method and provide a valid configuration file to setup the validation data loader(s). \n",
      "    Validation config : \n",
      "    manifest_filepath: /manifests/combined_fisher_swbd_voxceleb12_librispeech/dev.json\n",
      "    sample_rate: 16000\n",
      "    labels: null\n",
      "    batch_size: 128\n",
      "    shuffle: false\n",
      "    time_length: 3\n",
      "    num_workers: 15\n",
      "    pin_memory: true\n",
      "    \n"
     ]
    },
    {
     "name": "stdout",
     "output_type": "stream",
     "text": [
      "[NeMo I 2022-07-25 21:15:38 features:200] PADDING: 16\n",
      "[NeMo I 2022-07-25 21:15:38 label_models:100] loss is Angular Softmax\n",
      "[NeMo I 2022-07-25 21:15:39 save_restore_connector:243] Model EncDecSpeakerLabelModel was successfully restored from /root/.cache/torch/NeMo/NeMo_1.10.0/titanet-l/492c0ab8416139171dc18c21879a9e45/titanet-l.nemo.\n",
      "[NeMo I 2022-07-25 21:15:39 speaker_utils:82] Number of files to diarize: 1\n",
      "[NeMo I 2022-07-25 21:15:39 clustering_diarizer:271] Subsegmentation for embedding extraction: scale0, /home/DATA/amit_kesari/SD1/NeMo-ASR_Diar/data/voxconverse/speaker_outputs/subsegments_scale0.json\n",
      "[NeMo I 2022-07-25 21:15:39 clustering_diarizer:325] Extracting embeddings for Diarization\n",
      "[NeMo I 2022-07-25 21:15:39 collections:289] Filtered duration for loading collection is 0.000000.\n",
      "[NeMo I 2022-07-25 21:15:39 collections:293] # 746 files loaded accounting to # 1 labels\n"
     ]
    },
    {
     "name": "stderr",
     "output_type": "stream",
     "text": [
      "100%|██████████| 12/12 [00:02<00:00,  4.98it/s]\n",
      "100%|██████████| 1/1 [00:09<00:00,  9.85s/it]\n"
     ]
    },
    {
     "name": "stdout",
     "output_type": "stream",
     "text": [
      "[NeMo I 2022-07-25 21:15:51 speaker_utils:460] Cumulative Results for collar 0.25 sec and ignore_overlap True: \n",
      "     FA: 0.1196\t MISS 0.3094\t                 Diarization ER: 0.4640\t, Confusion ER:0.0351\n",
      "[NeMo I 2022-07-25 21:15:51 clustering_diarizer:444] Outputs are saved in /home/DATA/amit_kesari/SD1/NeMo-ASR_Diar/data/voxconverse directory\n",
      "\n",
      "\n",
      "Diar score:  (<pyannote.metrics.diarization.DiarizationErrorRate object at 0x7fa0491691f0>, {'leneg': {'speaker_0': 'spk00', 'speaker_1': 'spk01'}})\n",
      "Diarization error rate (DER) = 49.0%\n",
      "\n",
      "\n",
      "voxconverse_label:  lhuly\n",
      "num_speakers:  7\n",
      "[NeMo I 2022-07-25 21:15:52 speaker_utils:82] Number of files to diarize: 1\n",
      "[NeMo I 2022-07-25 21:15:52 cloud:56] Found existing object /root/.cache/torch/NeMo/NeMo_1.10.0/QuartzNet15x5Base-En/2b066be39e9294d7100fb176ec817722/QuartzNet15x5Base-En.nemo.\n",
      "[NeMo I 2022-07-25 21:15:52 cloud:62] Re-using file from: /root/.cache/torch/NeMo/NeMo_1.10.0/QuartzNet15x5Base-En/2b066be39e9294d7100fb176ec817722/QuartzNet15x5Base-En.nemo\n",
      "[NeMo I 2022-07-25 21:15:52 common:789] Instantiating model from pre-trained checkpoint\n",
      "[NeMo I 2022-07-25 21:15:53 features:200] PADDING: 16\n",
      "[NeMo I 2022-07-25 21:15:54 save_restore_connector:243] Model EncDecCTCModel was successfully restored from /root/.cache/torch/NeMo/NeMo_1.10.0/QuartzNet15x5Base-En/2b066be39e9294d7100fb176ec817722/QuartzNet15x5Base-En.nemo.\n"
     ]
    },
    {
     "data": {
      "application/vnd.jupyter.widget-view+json": {
       "model_id": "e876d82df7f14d43ae7bf1f42aa6d02f",
       "version_major": 2,
       "version_minor": 0
      },
      "text/plain": [
       "Transcribing:   0%|          | 0/1 [00:00<?, ?it/s]"
      ]
     },
     "metadata": {},
     "output_type": "display_data"
    },
    {
     "name": "stdout",
     "output_type": "stream",
     "text": [
      "[NeMo I 2022-07-25 21:15:56 speaker_utils:82] Number of files to diarize: 1\n",
      "[NeMo I 2022-07-25 21:15:56 clustering_diarizer:153] Loading pretrained titanet_large model from NGC\n",
      "[NeMo I 2022-07-25 21:15:56 cloud:56] Found existing object /root/.cache/torch/NeMo/NeMo_1.10.0/titanet-l/492c0ab8416139171dc18c21879a9e45/titanet-l.nemo.\n",
      "[NeMo I 2022-07-25 21:15:56 cloud:62] Re-using file from: /root/.cache/torch/NeMo/NeMo_1.10.0/titanet-l/492c0ab8416139171dc18c21879a9e45/titanet-l.nemo\n",
      "[NeMo I 2022-07-25 21:15:56 common:789] Instantiating model from pre-trained checkpoint\n"
     ]
    },
    {
     "name": "stderr",
     "output_type": "stream",
     "text": [
      "[NeMo W 2022-07-25 21:15:57 modelPT:148] If you intend to do training or fine-tuning, please call the ModelPT.setup_training_data() method and provide a valid configuration file to setup the train data loader.\n",
      "    Train config : \n",
      "    manifest_filepath: /manifests/combined_fisher_swbd_voxceleb12_librispeech/train.json\n",
      "    sample_rate: 16000\n",
      "    labels: null\n",
      "    batch_size: 64\n",
      "    shuffle: true\n",
      "    time_length: 3\n",
      "    is_tarred: false\n",
      "    tarred_audio_filepaths: null\n",
      "    tarred_shard_strategy: scatter\n",
      "    augmentor:\n",
      "      noise:\n",
      "        manifest_path: /manifests/noise/rir_noise_manifest.json\n",
      "        prob: 0.5\n",
      "        min_snr_db: 0\n",
      "        max_snr_db: 15\n",
      "      speed:\n",
      "        prob: 0.5\n",
      "        sr: 16000\n",
      "        resample_type: kaiser_fast\n",
      "        min_speed_rate: 0.95\n",
      "        max_speed_rate: 1.05\n",
      "    num_workers: 15\n",
      "    pin_memory: true\n",
      "    \n",
      "[NeMo W 2022-07-25 21:15:57 modelPT:155] If you intend to do validation, please call the ModelPT.setup_validation_data() or ModelPT.setup_multiple_validation_data() method and provide a valid configuration file to setup the validation data loader(s). \n",
      "    Validation config : \n",
      "    manifest_filepath: /manifests/combined_fisher_swbd_voxceleb12_librispeech/dev.json\n",
      "    sample_rate: 16000\n",
      "    labels: null\n",
      "    batch_size: 128\n",
      "    shuffle: false\n",
      "    time_length: 3\n",
      "    num_workers: 15\n",
      "    pin_memory: true\n",
      "    \n"
     ]
    },
    {
     "name": "stdout",
     "output_type": "stream",
     "text": [
      "[NeMo I 2022-07-25 21:15:57 features:200] PADDING: 16\n",
      "[NeMo I 2022-07-25 21:15:57 label_models:100] loss is Angular Softmax\n",
      "[NeMo I 2022-07-25 21:15:58 save_restore_connector:243] Model EncDecSpeakerLabelModel was successfully restored from /root/.cache/torch/NeMo/NeMo_1.10.0/titanet-l/492c0ab8416139171dc18c21879a9e45/titanet-l.nemo.\n",
      "[NeMo I 2022-07-25 21:15:58 speaker_utils:82] Number of files to diarize: 1\n",
      "[NeMo I 2022-07-25 21:15:58 clustering_diarizer:271] Subsegmentation for embedding extraction: scale0, /home/DATA/amit_kesari/SD1/NeMo-ASR_Diar/data/voxconverse/speaker_outputs/subsegments_scale0.json\n",
      "[NeMo I 2022-07-25 21:15:58 clustering_diarizer:325] Extracting embeddings for Diarization\n",
      "[NeMo I 2022-07-25 21:15:58 collections:289] Filtered duration for loading collection is 0.000000.\n",
      "[NeMo I 2022-07-25 21:15:58 collections:293] # 2115 files loaded accounting to # 1 labels\n"
     ]
    },
    {
     "name": "stderr",
     "output_type": "stream",
     "text": [
      "100%|██████████| 34/34 [00:06<00:00,  5.63it/s]\n",
      "100%|██████████| 1/1 [00:09<00:00,  9.30s/it]\n"
     ]
    },
    {
     "name": "stdout",
     "output_type": "stream",
     "text": [
      "[NeMo I 2022-07-25 21:16:16 speaker_utils:460] Cumulative Results for collar 0.25 sec and ignore_overlap True: \n",
      "     FA: 0.0440\t MISS 0.2403\t                 Diarization ER: 0.4329\t, Confusion ER:0.1486\n",
      "[NeMo I 2022-07-25 21:16:16 clustering_diarizer:444] Outputs are saved in /home/DATA/amit_kesari/SD1/NeMo-ASR_Diar/data/voxconverse directory\n",
      "\n",
      "\n",
      "Diar score:  (<pyannote.metrics.diarization.DiarizationErrorRate object at 0x7fa048bda0a0>, {'lhuly': {'speaker_0': 'spk06', 'speaker_1': 'spk02', 'speaker_3': 'spk05', 'speaker_4': 'spk01', 'speaker_5': 'spk04', 'speaker_6': 'spk00'}})\n",
      "Diarization error rate (DER) = 44.8%\n",
      "\n",
      "\n",
      "voxconverse_label:  lilfy\n",
      "num_speakers:  5\n",
      "[NeMo I 2022-07-25 21:16:20 speaker_utils:82] Number of files to diarize: 1\n",
      "[NeMo I 2022-07-25 21:16:20 cloud:56] Found existing object /root/.cache/torch/NeMo/NeMo_1.10.0/QuartzNet15x5Base-En/2b066be39e9294d7100fb176ec817722/QuartzNet15x5Base-En.nemo.\n",
      "[NeMo I 2022-07-25 21:16:20 cloud:62] Re-using file from: /root/.cache/torch/NeMo/NeMo_1.10.0/QuartzNet15x5Base-En/2b066be39e9294d7100fb176ec817722/QuartzNet15x5Base-En.nemo\n",
      "[NeMo I 2022-07-25 21:16:20 common:789] Instantiating model from pre-trained checkpoint\n",
      "[NeMo I 2022-07-25 21:16:20 features:200] PADDING: 16\n",
      "[NeMo I 2022-07-25 21:16:22 save_restore_connector:243] Model EncDecCTCModel was successfully restored from /root/.cache/torch/NeMo/NeMo_1.10.0/QuartzNet15x5Base-En/2b066be39e9294d7100fb176ec817722/QuartzNet15x5Base-En.nemo.\n"
     ]
    },
    {
     "data": {
      "application/vnd.jupyter.widget-view+json": {
       "model_id": "fcc367aa8b474764a9d007eba052a195",
       "version_major": 2,
       "version_minor": 0
      },
      "text/plain": [
       "Transcribing:   0%|          | 0/1 [00:00<?, ?it/s]"
      ]
     },
     "metadata": {},
     "output_type": "display_data"
    },
    {
     "name": "stdout",
     "output_type": "stream",
     "text": [
      "[NeMo I 2022-07-25 21:16:22 speaker_utils:82] Number of files to diarize: 1\n",
      "[NeMo I 2022-07-25 21:16:22 clustering_diarizer:153] Loading pretrained titanet_large model from NGC\n",
      "[NeMo I 2022-07-25 21:16:22 cloud:56] Found existing object /root/.cache/torch/NeMo/NeMo_1.10.0/titanet-l/492c0ab8416139171dc18c21879a9e45/titanet-l.nemo.\n",
      "[NeMo I 2022-07-25 21:16:22 cloud:62] Re-using file from: /root/.cache/torch/NeMo/NeMo_1.10.0/titanet-l/492c0ab8416139171dc18c21879a9e45/titanet-l.nemo\n",
      "[NeMo I 2022-07-25 21:16:22 common:789] Instantiating model from pre-trained checkpoint\n"
     ]
    },
    {
     "name": "stderr",
     "output_type": "stream",
     "text": [
      "[NeMo W 2022-07-25 21:16:23 modelPT:148] If you intend to do training or fine-tuning, please call the ModelPT.setup_training_data() method and provide a valid configuration file to setup the train data loader.\n",
      "    Train config : \n",
      "    manifest_filepath: /manifests/combined_fisher_swbd_voxceleb12_librispeech/train.json\n",
      "    sample_rate: 16000\n",
      "    labels: null\n",
      "    batch_size: 64\n",
      "    shuffle: true\n",
      "    time_length: 3\n",
      "    is_tarred: false\n",
      "    tarred_audio_filepaths: null\n",
      "    tarred_shard_strategy: scatter\n",
      "    augmentor:\n",
      "      noise:\n",
      "        manifest_path: /manifests/noise/rir_noise_manifest.json\n",
      "        prob: 0.5\n",
      "        min_snr_db: 0\n",
      "        max_snr_db: 15\n",
      "      speed:\n",
      "        prob: 0.5\n",
      "        sr: 16000\n",
      "        resample_type: kaiser_fast\n",
      "        min_speed_rate: 0.95\n",
      "        max_speed_rate: 1.05\n",
      "    num_workers: 15\n",
      "    pin_memory: true\n",
      "    \n",
      "[NeMo W 2022-07-25 21:16:23 modelPT:155] If you intend to do validation, please call the ModelPT.setup_validation_data() or ModelPT.setup_multiple_validation_data() method and provide a valid configuration file to setup the validation data loader(s). \n",
      "    Validation config : \n",
      "    manifest_filepath: /manifests/combined_fisher_swbd_voxceleb12_librispeech/dev.json\n",
      "    sample_rate: 16000\n",
      "    labels: null\n",
      "    batch_size: 128\n",
      "    shuffle: false\n",
      "    time_length: 3\n",
      "    num_workers: 15\n",
      "    pin_memory: true\n",
      "    \n"
     ]
    },
    {
     "name": "stdout",
     "output_type": "stream",
     "text": [
      "[NeMo I 2022-07-25 21:16:23 features:200] PADDING: 16\n",
      "[NeMo I 2022-07-25 21:16:24 label_models:100] loss is Angular Softmax\n",
      "[NeMo I 2022-07-25 21:16:24 save_restore_connector:243] Model EncDecSpeakerLabelModel was successfully restored from /root/.cache/torch/NeMo/NeMo_1.10.0/titanet-l/492c0ab8416139171dc18c21879a9e45/titanet-l.nemo.\n",
      "[NeMo I 2022-07-25 21:16:24 speaker_utils:82] Number of files to diarize: 1\n",
      "[NeMo I 2022-07-25 21:16:24 clustering_diarizer:271] Subsegmentation for embedding extraction: scale0, /home/DATA/amit_kesari/SD1/NeMo-ASR_Diar/data/voxconverse/speaker_outputs/subsegments_scale0.json\n",
      "[NeMo I 2022-07-25 21:16:24 clustering_diarizer:325] Extracting embeddings for Diarization\n",
      "[NeMo I 2022-07-25 21:16:24 collections:289] Filtered duration for loading collection is 0.000000.\n",
      "[NeMo I 2022-07-25 21:16:24 collections:293] # 376 files loaded accounting to # 1 labels\n"
     ]
    },
    {
     "name": "stderr",
     "output_type": "stream",
     "text": [
      "100%|██████████| 6/6 [00:01<00:00,  4.39it/s]\n",
      "100%|██████████| 1/1 [00:09<00:00,  9.55s/it]"
     ]
    },
    {
     "name": "stdout",
     "output_type": "stream",
     "text": [
      "[NeMo I 2022-07-25 21:16:35 speaker_utils:460] Cumulative Results for collar 0.25 sec and ignore_overlap True: \n",
      "     FA: 0.0523\t MISS 0.2460\t                 Diarization ER: 0.4557\t, Confusion ER:0.1574\n",
      "[NeMo I 2022-07-25 21:16:35 clustering_diarizer:444] Outputs are saved in /home/DATA/amit_kesari/SD1/NeMo-ASR_Diar/data/voxconverse directory\n"
     ]
    },
    {
     "name": "stderr",
     "output_type": "stream",
     "text": [
      "\n"
     ]
    },
    {
     "name": "stdout",
     "output_type": "stream",
     "text": [
      "\n",
      "\n",
      "Diar score:  (<pyannote.metrics.diarization.DiarizationErrorRate object at 0x7fa0504296a0>, {'lilfy': {'speaker_0': 'spk04', 'speaker_1': 'spk02', 'speaker_2': 'spk00', 'speaker_3': 'spk03', 'speaker_4': 'spk01'}})\n",
      "Diarization error rate (DER) = 48.6%\n",
      "\n",
      "\n",
      "voxconverse_label:  ljpes\n",
      "num_speakers:  4\n",
      "[NeMo I 2022-07-25 21:16:35 speaker_utils:82] Number of files to diarize: 1\n",
      "[NeMo I 2022-07-25 21:16:35 cloud:56] Found existing object /root/.cache/torch/NeMo/NeMo_1.10.0/QuartzNet15x5Base-En/2b066be39e9294d7100fb176ec817722/QuartzNet15x5Base-En.nemo.\n",
      "[NeMo I 2022-07-25 21:16:35 cloud:62] Re-using file from: /root/.cache/torch/NeMo/NeMo_1.10.0/QuartzNet15x5Base-En/2b066be39e9294d7100fb176ec817722/QuartzNet15x5Base-En.nemo\n",
      "[NeMo I 2022-07-25 21:16:35 common:789] Instantiating model from pre-trained checkpoint\n",
      "[NeMo I 2022-07-25 21:16:36 features:200] PADDING: 16\n",
      "[NeMo I 2022-07-25 21:16:38 save_restore_connector:243] Model EncDecCTCModel was successfully restored from /root/.cache/torch/NeMo/NeMo_1.10.0/QuartzNet15x5Base-En/2b066be39e9294d7100fb176ec817722/QuartzNet15x5Base-En.nemo.\n"
     ]
    },
    {
     "data": {
      "application/vnd.jupyter.widget-view+json": {
       "model_id": "398e63b45a204e85a3a70fc1e24cb7fa",
       "version_major": 2,
       "version_minor": 0
      },
      "text/plain": [
       "Transcribing:   0%|          | 0/1 [00:00<?, ?it/s]"
      ]
     },
     "metadata": {},
     "output_type": "display_data"
    },
    {
     "name": "stdout",
     "output_type": "stream",
     "text": [
      "[NeMo I 2022-07-25 21:16:38 speaker_utils:82] Number of files to diarize: 1\n",
      "[NeMo I 2022-07-25 21:16:38 clustering_diarizer:153] Loading pretrained titanet_large model from NGC\n",
      "[NeMo I 2022-07-25 21:16:38 cloud:56] Found existing object /root/.cache/torch/NeMo/NeMo_1.10.0/titanet-l/492c0ab8416139171dc18c21879a9e45/titanet-l.nemo.\n",
      "[NeMo I 2022-07-25 21:16:38 cloud:62] Re-using file from: /root/.cache/torch/NeMo/NeMo_1.10.0/titanet-l/492c0ab8416139171dc18c21879a9e45/titanet-l.nemo\n",
      "[NeMo I 2022-07-25 21:16:38 common:789] Instantiating model from pre-trained checkpoint\n"
     ]
    },
    {
     "name": "stderr",
     "output_type": "stream",
     "text": [
      "[NeMo W 2022-07-25 21:16:39 modelPT:148] If you intend to do training or fine-tuning, please call the ModelPT.setup_training_data() method and provide a valid configuration file to setup the train data loader.\n",
      "    Train config : \n",
      "    manifest_filepath: /manifests/combined_fisher_swbd_voxceleb12_librispeech/train.json\n",
      "    sample_rate: 16000\n",
      "    labels: null\n",
      "    batch_size: 64\n",
      "    shuffle: true\n",
      "    time_length: 3\n",
      "    is_tarred: false\n",
      "    tarred_audio_filepaths: null\n",
      "    tarred_shard_strategy: scatter\n",
      "    augmentor:\n",
      "      noise:\n",
      "        manifest_path: /manifests/noise/rir_noise_manifest.json\n",
      "        prob: 0.5\n",
      "        min_snr_db: 0\n",
      "        max_snr_db: 15\n",
      "      speed:\n",
      "        prob: 0.5\n",
      "        sr: 16000\n",
      "        resample_type: kaiser_fast\n",
      "        min_speed_rate: 0.95\n",
      "        max_speed_rate: 1.05\n",
      "    num_workers: 15\n",
      "    pin_memory: true\n",
      "    \n",
      "[NeMo W 2022-07-25 21:16:39 modelPT:155] If you intend to do validation, please call the ModelPT.setup_validation_data() or ModelPT.setup_multiple_validation_data() method and provide a valid configuration file to setup the validation data loader(s). \n",
      "    Validation config : \n",
      "    manifest_filepath: /manifests/combined_fisher_swbd_voxceleb12_librispeech/dev.json\n",
      "    sample_rate: 16000\n",
      "    labels: null\n",
      "    batch_size: 128\n",
      "    shuffle: false\n",
      "    time_length: 3\n",
      "    num_workers: 15\n",
      "    pin_memory: true\n",
      "    \n"
     ]
    },
    {
     "name": "stdout",
     "output_type": "stream",
     "text": [
      "[NeMo I 2022-07-25 21:16:39 features:200] PADDING: 16\n",
      "[NeMo I 2022-07-25 21:16:39 label_models:100] loss is Angular Softmax\n",
      "[NeMo I 2022-07-25 21:16:40 save_restore_connector:243] Model EncDecSpeakerLabelModel was successfully restored from /root/.cache/torch/NeMo/NeMo_1.10.0/titanet-l/492c0ab8416139171dc18c21879a9e45/titanet-l.nemo.\n",
      "[NeMo I 2022-07-25 21:16:40 speaker_utils:82] Number of files to diarize: 1\n",
      "[NeMo I 2022-07-25 21:16:40 clustering_diarizer:271] Subsegmentation for embedding extraction: scale0, /home/DATA/amit_kesari/SD1/NeMo-ASR_Diar/data/voxconverse/speaker_outputs/subsegments_scale0.json\n",
      "[NeMo I 2022-07-25 21:16:40 clustering_diarizer:325] Extracting embeddings for Diarization\n",
      "[NeMo I 2022-07-25 21:16:40 collections:289] Filtered duration for loading collection is 0.000000.\n",
      "[NeMo I 2022-07-25 21:16:40 collections:293] # 380 files loaded accounting to # 1 labels\n"
     ]
    },
    {
     "name": "stderr",
     "output_type": "stream",
     "text": [
      "100%|██████████| 6/6 [00:01<00:00,  4.57it/s]\n",
      "100%|██████████| 1/1 [00:09<00:00,  9.67s/it]"
     ]
    },
    {
     "name": "stdout",
     "output_type": "stream",
     "text": [
      "[NeMo I 2022-07-25 21:16:51 speaker_utils:460] Cumulative Results for collar 0.25 sec and ignore_overlap True: \n",
      "     FA: 0.0426\t MISS 0.2421\t                 Diarization ER: 0.3883\t, Confusion ER:0.1037\n",
      "[NeMo I 2022-07-25 21:16:51 clustering_diarizer:444] Outputs are saved in /home/DATA/amit_kesari/SD1/NeMo-ASR_Diar/data/voxconverse directory\n"
     ]
    },
    {
     "name": "stderr",
     "output_type": "stream",
     "text": [
      "\n"
     ]
    },
    {
     "name": "stdout",
     "output_type": "stream",
     "text": [
      "\n",
      "\n",
      "Diar score:  (<pyannote.metrics.diarization.DiarizationErrorRate object at 0x7fa0491b4fa0>, {'ljpes': {'speaker_0': 'spk02', 'speaker_1': 'spk03', 'speaker_2': 'spk01', 'speaker_3': 'spk00'}})\n",
      "Diarization error rate (DER) = 41.1%\n",
      "\n",
      "\n",
      "voxconverse_label:  lkikz\n",
      "num_speakers:  2\n",
      "[NeMo I 2022-07-25 21:16:51 speaker_utils:82] Number of files to diarize: 1\n",
      "[NeMo I 2022-07-25 21:16:51 cloud:56] Found existing object /root/.cache/torch/NeMo/NeMo_1.10.0/QuartzNet15x5Base-En/2b066be39e9294d7100fb176ec817722/QuartzNet15x5Base-En.nemo.\n",
      "[NeMo I 2022-07-25 21:16:51 cloud:62] Re-using file from: /root/.cache/torch/NeMo/NeMo_1.10.0/QuartzNet15x5Base-En/2b066be39e9294d7100fb176ec817722/QuartzNet15x5Base-En.nemo\n",
      "[NeMo I 2022-07-25 21:16:51 common:789] Instantiating model from pre-trained checkpoint\n",
      "[NeMo I 2022-07-25 21:16:52 features:200] PADDING: 16\n",
      "[NeMo I 2022-07-25 21:16:53 save_restore_connector:243] Model EncDecCTCModel was successfully restored from /root/.cache/torch/NeMo/NeMo_1.10.0/QuartzNet15x5Base-En/2b066be39e9294d7100fb176ec817722/QuartzNet15x5Base-En.nemo.\n"
     ]
    },
    {
     "data": {
      "application/vnd.jupyter.widget-view+json": {
       "model_id": "a454abbd895c472ca180b0423430013c",
       "version_major": 2,
       "version_minor": 0
      },
      "text/plain": [
       "Transcribing:   0%|          | 0/1 [00:00<?, ?it/s]"
      ]
     },
     "metadata": {},
     "output_type": "display_data"
    },
    {
     "name": "stdout",
     "output_type": "stream",
     "text": [
      "[NeMo I 2022-07-25 21:16:55 speaker_utils:82] Number of files to diarize: 1\n",
      "[NeMo I 2022-07-25 21:16:55 clustering_diarizer:153] Loading pretrained titanet_large model from NGC\n",
      "[NeMo I 2022-07-25 21:16:55 cloud:56] Found existing object /root/.cache/torch/NeMo/NeMo_1.10.0/titanet-l/492c0ab8416139171dc18c21879a9e45/titanet-l.nemo.\n",
      "[NeMo I 2022-07-25 21:16:55 cloud:62] Re-using file from: /root/.cache/torch/NeMo/NeMo_1.10.0/titanet-l/492c0ab8416139171dc18c21879a9e45/titanet-l.nemo\n",
      "[NeMo I 2022-07-25 21:16:55 common:789] Instantiating model from pre-trained checkpoint\n"
     ]
    },
    {
     "name": "stderr",
     "output_type": "stream",
     "text": [
      "[NeMo W 2022-07-25 21:16:56 modelPT:148] If you intend to do training or fine-tuning, please call the ModelPT.setup_training_data() method and provide a valid configuration file to setup the train data loader.\n",
      "    Train config : \n",
      "    manifest_filepath: /manifests/combined_fisher_swbd_voxceleb12_librispeech/train.json\n",
      "    sample_rate: 16000\n",
      "    labels: null\n",
      "    batch_size: 64\n",
      "    shuffle: true\n",
      "    time_length: 3\n",
      "    is_tarred: false\n",
      "    tarred_audio_filepaths: null\n",
      "    tarred_shard_strategy: scatter\n",
      "    augmentor:\n",
      "      noise:\n",
      "        manifest_path: /manifests/noise/rir_noise_manifest.json\n",
      "        prob: 0.5\n",
      "        min_snr_db: 0\n",
      "        max_snr_db: 15\n",
      "      speed:\n",
      "        prob: 0.5\n",
      "        sr: 16000\n",
      "        resample_type: kaiser_fast\n",
      "        min_speed_rate: 0.95\n",
      "        max_speed_rate: 1.05\n",
      "    num_workers: 15\n",
      "    pin_memory: true\n",
      "    \n",
      "[NeMo W 2022-07-25 21:16:56 modelPT:155] If you intend to do validation, please call the ModelPT.setup_validation_data() or ModelPT.setup_multiple_validation_data() method and provide a valid configuration file to setup the validation data loader(s). \n",
      "    Validation config : \n",
      "    manifest_filepath: /manifests/combined_fisher_swbd_voxceleb12_librispeech/dev.json\n",
      "    sample_rate: 16000\n",
      "    labels: null\n",
      "    batch_size: 128\n",
      "    shuffle: false\n",
      "    time_length: 3\n",
      "    num_workers: 15\n",
      "    pin_memory: true\n",
      "    \n"
     ]
    },
    {
     "name": "stdout",
     "output_type": "stream",
     "text": [
      "[NeMo I 2022-07-25 21:16:56 features:200] PADDING: 16\n",
      "[NeMo I 2022-07-25 21:16:57 label_models:100] loss is Angular Softmax\n",
      "[NeMo I 2022-07-25 21:16:57 save_restore_connector:243] Model EncDecSpeakerLabelModel was successfully restored from /root/.cache/torch/NeMo/NeMo_1.10.0/titanet-l/492c0ab8416139171dc18c21879a9e45/titanet-l.nemo.\n",
      "[NeMo I 2022-07-25 21:16:57 speaker_utils:82] Number of files to diarize: 1\n",
      "[NeMo I 2022-07-25 21:16:57 clustering_diarizer:271] Subsegmentation for embedding extraction: scale0, /home/DATA/amit_kesari/SD1/NeMo-ASR_Diar/data/voxconverse/speaker_outputs/subsegments_scale0.json\n",
      "[NeMo I 2022-07-25 21:16:57 clustering_diarizer:325] Extracting embeddings for Diarization\n",
      "[NeMo I 2022-07-25 21:16:57 collections:289] Filtered duration for loading collection is 0.000000.\n",
      "[NeMo I 2022-07-25 21:16:57 collections:293] # 2262 files loaded accounting to # 1 labels\n"
     ]
    },
    {
     "name": "stderr",
     "output_type": "stream",
     "text": [
      "100%|██████████| 36/36 [00:06<00:00,  5.57it/s]\n",
      "100%|██████████| 1/1 [00:10<00:00, 10.23s/it]\n"
     ]
    },
    {
     "name": "stdout",
     "output_type": "stream",
     "text": [
      "[NeMo I 2022-07-25 21:17:18 speaker_utils:460] Cumulative Results for collar 0.25 sec and ignore_overlap True: \n",
      "     FA: 0.0229\t MISS 0.3203\t                 Diarization ER: 0.4033\t, Confusion ER:0.0601\n",
      "[NeMo I 2022-07-25 21:17:18 clustering_diarizer:444] Outputs are saved in /home/DATA/amit_kesari/SD1/NeMo-ASR_Diar/data/voxconverse directory\n",
      "\n",
      "\n",
      "Diar score:  (<pyannote.metrics.diarization.DiarizationErrorRate object at 0x7fa157bb27c0>, {'lkikz': {'speaker_0': 'spk01', 'speaker_1': 'spk00'}})\n",
      "Diarization error rate (DER) = 42.1%\n",
      "\n",
      "\n",
      "voxconverse_label:  lpola\n",
      "num_speakers:  3\n",
      "[NeMo I 2022-07-25 21:17:22 speaker_utils:82] Number of files to diarize: 1\n",
      "[NeMo I 2022-07-25 21:17:22 cloud:56] Found existing object /root/.cache/torch/NeMo/NeMo_1.10.0/QuartzNet15x5Base-En/2b066be39e9294d7100fb176ec817722/QuartzNet15x5Base-En.nemo.\n",
      "[NeMo I 2022-07-25 21:17:22 cloud:62] Re-using file from: /root/.cache/torch/NeMo/NeMo_1.10.0/QuartzNet15x5Base-En/2b066be39e9294d7100fb176ec817722/QuartzNet15x5Base-En.nemo\n",
      "[NeMo I 2022-07-25 21:17:22 common:789] Instantiating model from pre-trained checkpoint\n",
      "[NeMo I 2022-07-25 21:17:22 features:200] PADDING: 16\n",
      "[NeMo I 2022-07-25 21:17:24 save_restore_connector:243] Model EncDecCTCModel was successfully restored from /root/.cache/torch/NeMo/NeMo_1.10.0/QuartzNet15x5Base-En/2b066be39e9294d7100fb176ec817722/QuartzNet15x5Base-En.nemo.\n"
     ]
    },
    {
     "data": {
      "application/vnd.jupyter.widget-view+json": {
       "model_id": "c7880e5141d2494c886ffb7e73b98752",
       "version_major": 2,
       "version_minor": 0
      },
      "text/plain": [
       "Transcribing:   0%|          | 0/1 [00:00<?, ?it/s]"
      ]
     },
     "metadata": {},
     "output_type": "display_data"
    },
    {
     "name": "stdout",
     "output_type": "stream",
     "text": [
      "[NeMo I 2022-07-25 21:17:25 speaker_utils:82] Number of files to diarize: 1\n",
      "[NeMo I 2022-07-25 21:17:25 clustering_diarizer:153] Loading pretrained titanet_large model from NGC\n",
      "[NeMo I 2022-07-25 21:17:25 cloud:56] Found existing object /root/.cache/torch/NeMo/NeMo_1.10.0/titanet-l/492c0ab8416139171dc18c21879a9e45/titanet-l.nemo.\n",
      "[NeMo I 2022-07-25 21:17:25 cloud:62] Re-using file from: /root/.cache/torch/NeMo/NeMo_1.10.0/titanet-l/492c0ab8416139171dc18c21879a9e45/titanet-l.nemo\n",
      "[NeMo I 2022-07-25 21:17:25 common:789] Instantiating model from pre-trained checkpoint\n"
     ]
    },
    {
     "name": "stderr",
     "output_type": "stream",
     "text": [
      "[NeMo W 2022-07-25 21:17:26 modelPT:148] If you intend to do training or fine-tuning, please call the ModelPT.setup_training_data() method and provide a valid configuration file to setup the train data loader.\n",
      "    Train config : \n",
      "    manifest_filepath: /manifests/combined_fisher_swbd_voxceleb12_librispeech/train.json\n",
      "    sample_rate: 16000\n",
      "    labels: null\n",
      "    batch_size: 64\n",
      "    shuffle: true\n",
      "    time_length: 3\n",
      "    is_tarred: false\n",
      "    tarred_audio_filepaths: null\n",
      "    tarred_shard_strategy: scatter\n",
      "    augmentor:\n",
      "      noise:\n",
      "        manifest_path: /manifests/noise/rir_noise_manifest.json\n",
      "        prob: 0.5\n",
      "        min_snr_db: 0\n",
      "        max_snr_db: 15\n",
      "      speed:\n",
      "        prob: 0.5\n",
      "        sr: 16000\n",
      "        resample_type: kaiser_fast\n",
      "        min_speed_rate: 0.95\n",
      "        max_speed_rate: 1.05\n",
      "    num_workers: 15\n",
      "    pin_memory: true\n",
      "    \n",
      "[NeMo W 2022-07-25 21:17:26 modelPT:155] If you intend to do validation, please call the ModelPT.setup_validation_data() or ModelPT.setup_multiple_validation_data() method and provide a valid configuration file to setup the validation data loader(s). \n",
      "    Validation config : \n",
      "    manifest_filepath: /manifests/combined_fisher_swbd_voxceleb12_librispeech/dev.json\n",
      "    sample_rate: 16000\n",
      "    labels: null\n",
      "    batch_size: 128\n",
      "    shuffle: false\n",
      "    time_length: 3\n",
      "    num_workers: 15\n",
      "    pin_memory: true\n",
      "    \n"
     ]
    },
    {
     "name": "stdout",
     "output_type": "stream",
     "text": [
      "[NeMo I 2022-07-25 21:17:26 features:200] PADDING: 16\n",
      "[NeMo I 2022-07-25 21:17:27 label_models:100] loss is Angular Softmax\n",
      "[NeMo I 2022-07-25 21:17:27 save_restore_connector:243] Model EncDecSpeakerLabelModel was successfully restored from /root/.cache/torch/NeMo/NeMo_1.10.0/titanet-l/492c0ab8416139171dc18c21879a9e45/titanet-l.nemo.\n",
      "[NeMo I 2022-07-25 21:17:27 speaker_utils:82] Number of files to diarize: 1\n",
      "[NeMo I 2022-07-25 21:17:27 clustering_diarizer:271] Subsegmentation for embedding extraction: scale0, /home/DATA/amit_kesari/SD1/NeMo-ASR_Diar/data/voxconverse/speaker_outputs/subsegments_scale0.json\n",
      "[NeMo I 2022-07-25 21:17:27 clustering_diarizer:325] Extracting embeddings for Diarization\n",
      "[NeMo I 2022-07-25 21:17:27 collections:289] Filtered duration for loading collection is 0.000000.\n",
      "[NeMo I 2022-07-25 21:17:27 collections:293] # 1262 files loaded accounting to # 1 labels\n"
     ]
    },
    {
     "name": "stderr",
     "output_type": "stream",
     "text": [
      "100%|██████████| 20/20 [00:03<00:00,  5.31it/s]\n",
      "100%|██████████| 1/1 [00:08<00:00,  8.54s/it]\n"
     ]
    },
    {
     "name": "stdout",
     "output_type": "stream",
     "text": [
      "[NeMo I 2022-07-25 21:17:41 speaker_utils:460] Cumulative Results for collar 0.25 sec and ignore_overlap True: \n",
      "     FA: 0.0497\t MISS 0.2468\t                 Diarization ER: 0.4195\t, Confusion ER:0.1229\n",
      "[NeMo I 2022-07-25 21:17:41 clustering_diarizer:444] Outputs are saved in /home/DATA/amit_kesari/SD1/NeMo-ASR_Diar/data/voxconverse directory\n",
      "\n",
      "\n",
      "Diar score:  (<pyannote.metrics.diarization.DiarizationErrorRate object at 0x7fa048d5f0a0>, {'lpola': {'speaker_0': 'spk00', 'speaker_1': 'spk02', 'speaker_2': 'spk01'}})\n",
      "Diarization error rate (DER) = 45.3%\n",
      "\n",
      "\n",
      "voxconverse_label:  lscfc\n",
      "num_speakers:  7\n",
      "[NeMo I 2022-07-25 21:17:42 speaker_utils:82] Number of files to diarize: 1\n",
      "[NeMo I 2022-07-25 21:17:42 cloud:56] Found existing object /root/.cache/torch/NeMo/NeMo_1.10.0/QuartzNet15x5Base-En/2b066be39e9294d7100fb176ec817722/QuartzNet15x5Base-En.nemo.\n",
      "[NeMo I 2022-07-25 21:17:42 cloud:62] Re-using file from: /root/.cache/torch/NeMo/NeMo_1.10.0/QuartzNet15x5Base-En/2b066be39e9294d7100fb176ec817722/QuartzNet15x5Base-En.nemo\n",
      "[NeMo I 2022-07-25 21:17:42 common:789] Instantiating model from pre-trained checkpoint\n",
      "[NeMo I 2022-07-25 21:17:43 features:200] PADDING: 16\n",
      "[NeMo I 2022-07-25 21:17:45 save_restore_connector:243] Model EncDecCTCModel was successfully restored from /root/.cache/torch/NeMo/NeMo_1.10.0/QuartzNet15x5Base-En/2b066be39e9294d7100fb176ec817722/QuartzNet15x5Base-En.nemo.\n"
     ]
    },
    {
     "data": {
      "application/vnd.jupyter.widget-view+json": {
       "model_id": "aba968861d024307b0da754c92220164",
       "version_major": 2,
       "version_minor": 0
      },
      "text/plain": [
       "Transcribing:   0%|          | 0/1 [00:00<?, ?it/s]"
      ]
     },
     "metadata": {},
     "output_type": "display_data"
    },
    {
     "name": "stdout",
     "output_type": "stream",
     "text": [
      "[NeMo I 2022-07-25 21:17:46 speaker_utils:82] Number of files to diarize: 1\n",
      "[NeMo I 2022-07-25 21:17:46 clustering_diarizer:153] Loading pretrained titanet_large model from NGC\n",
      "[NeMo I 2022-07-25 21:17:46 cloud:56] Found existing object /root/.cache/torch/NeMo/NeMo_1.10.0/titanet-l/492c0ab8416139171dc18c21879a9e45/titanet-l.nemo.\n",
      "[NeMo I 2022-07-25 21:17:46 cloud:62] Re-using file from: /root/.cache/torch/NeMo/NeMo_1.10.0/titanet-l/492c0ab8416139171dc18c21879a9e45/titanet-l.nemo\n",
      "[NeMo I 2022-07-25 21:17:46 common:789] Instantiating model from pre-trained checkpoint\n"
     ]
    },
    {
     "name": "stderr",
     "output_type": "stream",
     "text": [
      "[NeMo W 2022-07-25 21:17:47 modelPT:148] If you intend to do training or fine-tuning, please call the ModelPT.setup_training_data() method and provide a valid configuration file to setup the train data loader.\n",
      "    Train config : \n",
      "    manifest_filepath: /manifests/combined_fisher_swbd_voxceleb12_librispeech/train.json\n",
      "    sample_rate: 16000\n",
      "    labels: null\n",
      "    batch_size: 64\n",
      "    shuffle: true\n",
      "    time_length: 3\n",
      "    is_tarred: false\n",
      "    tarred_audio_filepaths: null\n",
      "    tarred_shard_strategy: scatter\n",
      "    augmentor:\n",
      "      noise:\n",
      "        manifest_path: /manifests/noise/rir_noise_manifest.json\n",
      "        prob: 0.5\n",
      "        min_snr_db: 0\n",
      "        max_snr_db: 15\n",
      "      speed:\n",
      "        prob: 0.5\n",
      "        sr: 16000\n",
      "        resample_type: kaiser_fast\n",
      "        min_speed_rate: 0.95\n",
      "        max_speed_rate: 1.05\n",
      "    num_workers: 15\n",
      "    pin_memory: true\n",
      "    \n",
      "[NeMo W 2022-07-25 21:17:47 modelPT:155] If you intend to do validation, please call the ModelPT.setup_validation_data() or ModelPT.setup_multiple_validation_data() method and provide a valid configuration file to setup the validation data loader(s). \n",
      "    Validation config : \n",
      "    manifest_filepath: /manifests/combined_fisher_swbd_voxceleb12_librispeech/dev.json\n",
      "    sample_rate: 16000\n",
      "    labels: null\n",
      "    batch_size: 128\n",
      "    shuffle: false\n",
      "    time_length: 3\n",
      "    num_workers: 15\n",
      "    pin_memory: true\n",
      "    \n"
     ]
    },
    {
     "name": "stdout",
     "output_type": "stream",
     "text": [
      "[NeMo I 2022-07-25 21:17:47 features:200] PADDING: 16\n",
      "[NeMo I 2022-07-25 21:17:47 label_models:100] loss is Angular Softmax\n",
      "[NeMo I 2022-07-25 21:17:48 save_restore_connector:243] Model EncDecSpeakerLabelModel was successfully restored from /root/.cache/torch/NeMo/NeMo_1.10.0/titanet-l/492c0ab8416139171dc18c21879a9e45/titanet-l.nemo.\n",
      "[NeMo I 2022-07-25 21:17:48 speaker_utils:82] Number of files to diarize: 1\n",
      "[NeMo I 2022-07-25 21:17:48 clustering_diarizer:271] Subsegmentation for embedding extraction: scale0, /home/DATA/amit_kesari/SD1/NeMo-ASR_Diar/data/voxconverse/speaker_outputs/subsegments_scale0.json\n",
      "[NeMo I 2022-07-25 21:17:48 clustering_diarizer:325] Extracting embeddings for Diarization\n",
      "[NeMo I 2022-07-25 21:17:48 collections:289] Filtered duration for loading collection is 0.000000.\n",
      "[NeMo I 2022-07-25 21:17:48 collections:293] # 995 files loaded accounting to # 1 labels\n"
     ]
    },
    {
     "name": "stderr",
     "output_type": "stream",
     "text": [
      "100%|██████████| 16/16 [00:03<00:00,  5.26it/s]\n",
      "100%|██████████| 1/1 [00:10<00:00, 10.06s/it]\n"
     ]
    },
    {
     "name": "stdout",
     "output_type": "stream",
     "text": [
      "[NeMo I 2022-07-25 21:18:01 speaker_utils:460] Cumulative Results for collar 0.25 sec and ignore_overlap True: \n",
      "     FA: 0.1207\t MISS 0.0587\t                 Diarization ER: 0.4923\t, Confusion ER:0.3129\n",
      "[NeMo I 2022-07-25 21:18:01 clustering_diarizer:444] Outputs are saved in /home/DATA/amit_kesari/SD1/NeMo-ASR_Diar/data/voxconverse directory\n",
      "\n",
      "\n",
      "Diar score:  (<pyannote.metrics.diarization.DiarizationErrorRate object at 0x7fa048d5fcd0>, {'lscfc': {'speaker_0': 'spk01', 'speaker_1': 'spk00', 'speaker_2': 'spk04', 'speaker_3': 'spk02', 'speaker_5': 'spk03', 'speaker_6': 'spk06'}})\n",
      "Diarization error rate (DER) = 54.4%\n",
      "\n",
      "\n",
      "voxconverse_label:  ltgmz\n",
      "num_speakers:  2\n",
      "[NeMo I 2022-07-25 21:18:02 speaker_utils:82] Number of files to diarize: 1\n",
      "[NeMo I 2022-07-25 21:18:02 cloud:56] Found existing object /root/.cache/torch/NeMo/NeMo_1.10.0/QuartzNet15x5Base-En/2b066be39e9294d7100fb176ec817722/QuartzNet15x5Base-En.nemo.\n",
      "[NeMo I 2022-07-25 21:18:02 cloud:62] Re-using file from: /root/.cache/torch/NeMo/NeMo_1.10.0/QuartzNet15x5Base-En/2b066be39e9294d7100fb176ec817722/QuartzNet15x5Base-En.nemo\n",
      "[NeMo I 2022-07-25 21:18:02 common:789] Instantiating model from pre-trained checkpoint\n",
      "[NeMo I 2022-07-25 21:18:03 features:200] PADDING: 16\n",
      "[NeMo I 2022-07-25 21:18:05 save_restore_connector:243] Model EncDecCTCModel was successfully restored from /root/.cache/torch/NeMo/NeMo_1.10.0/QuartzNet15x5Base-En/2b066be39e9294d7100fb176ec817722/QuartzNet15x5Base-En.nemo.\n"
     ]
    },
    {
     "data": {
      "application/vnd.jupyter.widget-view+json": {
       "model_id": "c55e34514d7049a59f04a8d0ac1e4723",
       "version_major": 2,
       "version_minor": 0
      },
      "text/plain": [
       "Transcribing:   0%|          | 0/1 [00:00<?, ?it/s]"
      ]
     },
     "metadata": {},
     "output_type": "display_data"
    },
    {
     "name": "stdout",
     "output_type": "stream",
     "text": [
      "[NeMo I 2022-07-25 21:18:05 speaker_utils:82] Number of files to diarize: 1\n",
      "[NeMo I 2022-07-25 21:18:05 clustering_diarizer:153] Loading pretrained titanet_large model from NGC\n",
      "[NeMo I 2022-07-25 21:18:05 cloud:56] Found existing object /root/.cache/torch/NeMo/NeMo_1.10.0/titanet-l/492c0ab8416139171dc18c21879a9e45/titanet-l.nemo.\n",
      "[NeMo I 2022-07-25 21:18:05 cloud:62] Re-using file from: /root/.cache/torch/NeMo/NeMo_1.10.0/titanet-l/492c0ab8416139171dc18c21879a9e45/titanet-l.nemo\n",
      "[NeMo I 2022-07-25 21:18:05 common:789] Instantiating model from pre-trained checkpoint\n"
     ]
    },
    {
     "name": "stderr",
     "output_type": "stream",
     "text": [
      "[NeMo W 2022-07-25 21:18:06 modelPT:148] If you intend to do training or fine-tuning, please call the ModelPT.setup_training_data() method and provide a valid configuration file to setup the train data loader.\n",
      "    Train config : \n",
      "    manifest_filepath: /manifests/combined_fisher_swbd_voxceleb12_librispeech/train.json\n",
      "    sample_rate: 16000\n",
      "    labels: null\n",
      "    batch_size: 64\n",
      "    shuffle: true\n",
      "    time_length: 3\n",
      "    is_tarred: false\n",
      "    tarred_audio_filepaths: null\n",
      "    tarred_shard_strategy: scatter\n",
      "    augmentor:\n",
      "      noise:\n",
      "        manifest_path: /manifests/noise/rir_noise_manifest.json\n",
      "        prob: 0.5\n",
      "        min_snr_db: 0\n",
      "        max_snr_db: 15\n",
      "      speed:\n",
      "        prob: 0.5\n",
      "        sr: 16000\n",
      "        resample_type: kaiser_fast\n",
      "        min_speed_rate: 0.95\n",
      "        max_speed_rate: 1.05\n",
      "    num_workers: 15\n",
      "    pin_memory: true\n",
      "    \n",
      "[NeMo W 2022-07-25 21:18:06 modelPT:155] If you intend to do validation, please call the ModelPT.setup_validation_data() or ModelPT.setup_multiple_validation_data() method and provide a valid configuration file to setup the validation data loader(s). \n",
      "    Validation config : \n",
      "    manifest_filepath: /manifests/combined_fisher_swbd_voxceleb12_librispeech/dev.json\n",
      "    sample_rate: 16000\n",
      "    labels: null\n",
      "    batch_size: 128\n",
      "    shuffle: false\n",
      "    time_length: 3\n",
      "    num_workers: 15\n",
      "    pin_memory: true\n",
      "    \n"
     ]
    },
    {
     "name": "stdout",
     "output_type": "stream",
     "text": [
      "[NeMo I 2022-07-25 21:18:06 features:200] PADDING: 16\n",
      "[NeMo I 2022-07-25 21:18:06 label_models:100] loss is Angular Softmax\n",
      "[NeMo I 2022-07-25 21:18:07 save_restore_connector:243] Model EncDecSpeakerLabelModel was successfully restored from /root/.cache/torch/NeMo/NeMo_1.10.0/titanet-l/492c0ab8416139171dc18c21879a9e45/titanet-l.nemo.\n",
      "[NeMo I 2022-07-25 21:18:07 speaker_utils:82] Number of files to diarize: 1\n",
      "[NeMo I 2022-07-25 21:18:07 clustering_diarizer:271] Subsegmentation for embedding extraction: scale0, /home/DATA/amit_kesari/SD1/NeMo-ASR_Diar/data/voxconverse/speaker_outputs/subsegments_scale0.json\n",
      "[NeMo I 2022-07-25 21:18:07 clustering_diarizer:325] Extracting embeddings for Diarization\n",
      "[NeMo I 2022-07-25 21:18:07 collections:289] Filtered duration for loading collection is 0.000000.\n",
      "[NeMo I 2022-07-25 21:18:07 collections:293] # 296 files loaded accounting to # 1 labels\n"
     ]
    },
    {
     "name": "stderr",
     "output_type": "stream",
     "text": [
      "100%|██████████| 5/5 [00:01<00:00,  4.49it/s]\n",
      "100%|██████████| 1/1 [00:08<00:00,  8.24s/it]"
     ]
    },
    {
     "name": "stdout",
     "output_type": "stream",
     "text": [
      "[NeMo I 2022-07-25 21:18:16 speaker_utils:460] Cumulative Results for collar 0.25 sec and ignore_overlap True: \n",
      "     FA: 0.1729\t MISS 0.1382\t                 Diarization ER: 0.3412\t, Confusion ER:0.0301\n",
      "[NeMo I 2022-07-25 21:18:16 clustering_diarizer:444] Outputs are saved in /home/DATA/amit_kesari/SD1/NeMo-ASR_Diar/data/voxconverse directory\n"
     ]
    },
    {
     "name": "stderr",
     "output_type": "stream",
     "text": [
      "\n"
     ]
    },
    {
     "name": "stdout",
     "output_type": "stream",
     "text": [
      "\n",
      "\n",
      "Diar score:  (<pyannote.metrics.diarization.DiarizationErrorRate object at 0x7fa04924a610>, {'ltgmz': {'speaker_0': 'spk00', 'speaker_1': 'spk01'}})\n",
      "Diarization error rate (DER) = 41.4%\n",
      "\n",
      "\n",
      "voxconverse_label:  lubpm\n",
      "num_speakers:  2\n",
      "[NeMo I 2022-07-25 21:18:16 speaker_utils:82] Number of files to diarize: 1\n",
      "[NeMo I 2022-07-25 21:18:16 cloud:56] Found existing object /root/.cache/torch/NeMo/NeMo_1.10.0/QuartzNet15x5Base-En/2b066be39e9294d7100fb176ec817722/QuartzNet15x5Base-En.nemo.\n",
      "[NeMo I 2022-07-25 21:18:16 cloud:62] Re-using file from: /root/.cache/torch/NeMo/NeMo_1.10.0/QuartzNet15x5Base-En/2b066be39e9294d7100fb176ec817722/QuartzNet15x5Base-En.nemo\n",
      "[NeMo I 2022-07-25 21:18:16 common:789] Instantiating model from pre-trained checkpoint\n",
      "[NeMo I 2022-07-25 21:18:17 features:200] PADDING: 16\n",
      "[NeMo I 2022-07-25 21:18:18 save_restore_connector:243] Model EncDecCTCModel was successfully restored from /root/.cache/torch/NeMo/NeMo_1.10.0/QuartzNet15x5Base-En/2b066be39e9294d7100fb176ec817722/QuartzNet15x5Base-En.nemo.\n"
     ]
    },
    {
     "data": {
      "application/vnd.jupyter.widget-view+json": {
       "model_id": "2db5491ec0164da4b3137ef5ae6c799c",
       "version_major": 2,
       "version_minor": 0
      },
      "text/plain": [
       "Transcribing:   0%|          | 0/1 [00:00<?, ?it/s]"
      ]
     },
     "metadata": {},
     "output_type": "display_data"
    },
    {
     "name": "stdout",
     "output_type": "stream",
     "text": [
      "[NeMo I 2022-07-25 21:18:19 speaker_utils:82] Number of files to diarize: 1\n",
      "[NeMo I 2022-07-25 21:18:19 clustering_diarizer:153] Loading pretrained titanet_large model from NGC\n",
      "[NeMo I 2022-07-25 21:18:19 cloud:56] Found existing object /root/.cache/torch/NeMo/NeMo_1.10.0/titanet-l/492c0ab8416139171dc18c21879a9e45/titanet-l.nemo.\n",
      "[NeMo I 2022-07-25 21:18:19 cloud:62] Re-using file from: /root/.cache/torch/NeMo/NeMo_1.10.0/titanet-l/492c0ab8416139171dc18c21879a9e45/titanet-l.nemo\n",
      "[NeMo I 2022-07-25 21:18:19 common:789] Instantiating model from pre-trained checkpoint\n"
     ]
    },
    {
     "name": "stderr",
     "output_type": "stream",
     "text": [
      "[NeMo W 2022-07-25 21:18:20 modelPT:148] If you intend to do training or fine-tuning, please call the ModelPT.setup_training_data() method and provide a valid configuration file to setup the train data loader.\n",
      "    Train config : \n",
      "    manifest_filepath: /manifests/combined_fisher_swbd_voxceleb12_librispeech/train.json\n",
      "    sample_rate: 16000\n",
      "    labels: null\n",
      "    batch_size: 64\n",
      "    shuffle: true\n",
      "    time_length: 3\n",
      "    is_tarred: false\n",
      "    tarred_audio_filepaths: null\n",
      "    tarred_shard_strategy: scatter\n",
      "    augmentor:\n",
      "      noise:\n",
      "        manifest_path: /manifests/noise/rir_noise_manifest.json\n",
      "        prob: 0.5\n",
      "        min_snr_db: 0\n",
      "        max_snr_db: 15\n",
      "      speed:\n",
      "        prob: 0.5\n",
      "        sr: 16000\n",
      "        resample_type: kaiser_fast\n",
      "        min_speed_rate: 0.95\n",
      "        max_speed_rate: 1.05\n",
      "    num_workers: 15\n",
      "    pin_memory: true\n",
      "    \n",
      "[NeMo W 2022-07-25 21:18:20 modelPT:155] If you intend to do validation, please call the ModelPT.setup_validation_data() or ModelPT.setup_multiple_validation_data() method and provide a valid configuration file to setup the validation data loader(s). \n",
      "    Validation config : \n",
      "    manifest_filepath: /manifests/combined_fisher_swbd_voxceleb12_librispeech/dev.json\n",
      "    sample_rate: 16000\n",
      "    labels: null\n",
      "    batch_size: 128\n",
      "    shuffle: false\n",
      "    time_length: 3\n",
      "    num_workers: 15\n",
      "    pin_memory: true\n",
      "    \n"
     ]
    },
    {
     "name": "stdout",
     "output_type": "stream",
     "text": [
      "[NeMo I 2022-07-25 21:18:20 features:200] PADDING: 16\n",
      "[NeMo I 2022-07-25 21:18:20 label_models:100] loss is Angular Softmax\n",
      "[NeMo I 2022-07-25 21:18:21 save_restore_connector:243] Model EncDecSpeakerLabelModel was successfully restored from /root/.cache/torch/NeMo/NeMo_1.10.0/titanet-l/492c0ab8416139171dc18c21879a9e45/titanet-l.nemo.\n",
      "[NeMo I 2022-07-25 21:18:21 speaker_utils:82] Number of files to diarize: 1\n",
      "[NeMo I 2022-07-25 21:18:21 clustering_diarizer:271] Subsegmentation for embedding extraction: scale0, /home/DATA/amit_kesari/SD1/NeMo-ASR_Diar/data/voxconverse/speaker_outputs/subsegments_scale0.json\n",
      "[NeMo I 2022-07-25 21:18:21 clustering_diarizer:325] Extracting embeddings for Diarization\n",
      "[NeMo I 2022-07-25 21:18:21 collections:289] Filtered duration for loading collection is 0.000000.\n",
      "[NeMo I 2022-07-25 21:18:21 collections:293] # 145 files loaded accounting to # 1 labels\n"
     ]
    },
    {
     "name": "stderr",
     "output_type": "stream",
     "text": [
      "100%|██████████| 3/3 [00:00<00:00,  4.11it/s]\n",
      "100%|██████████| 1/1 [00:03<00:00,  3.83s/it]"
     ]
    },
    {
     "name": "stdout",
     "output_type": "stream",
     "text": [
      "[NeMo I 2022-07-25 21:18:25 speaker_utils:460] Cumulative Results for collar 0.25 sec and ignore_overlap True: \n",
      "     FA: 0.4673\t MISS 0.2183\t                 Diarization ER: 0.8319\t, Confusion ER:0.1463\n",
      "[NeMo I 2022-07-25 21:18:25 clustering_diarizer:444] Outputs are saved in /home/DATA/amit_kesari/SD1/NeMo-ASR_Diar/data/voxconverse directory\n",
      "\n",
      "\n",
      "Diar score:  (<pyannote.metrics.diarization.DiarizationErrorRate object at 0x7fa048b88fa0>, {'lubpm': {'speaker_0': 'spk01', 'speaker_1': 'spk00'}})\n",
      "Diarization error rate (DER) = 85.1%\n",
      "\n",
      "\n",
      "voxconverse_label:  luobn\n",
      "num_speakers:  2\n",
      "[NeMo I 2022-07-25 21:18:25 speaker_utils:82] Number of files to diarize: 1\n",
      "[NeMo I 2022-07-25 21:18:25 cloud:56] Found existing object /root/.cache/torch/NeMo/NeMo_1.10.0/QuartzNet15x5Base-En/2b066be39e9294d7100fb176ec817722/QuartzNet15x5Base-En.nemo.\n",
      "[NeMo I 2022-07-25 21:18:25 cloud:62] Re-using file from: /root/.cache/torch/NeMo/NeMo_1.10.0/QuartzNet15x5Base-En/2b066be39e9294d7100fb176ec817722/QuartzNet15x5Base-En.nemo\n",
      "[NeMo I 2022-07-25 21:18:25 common:789] Instantiating model from pre-trained checkpoint\n"
     ]
    },
    {
     "name": "stderr",
     "output_type": "stream",
     "text": [
      "\n"
     ]
    },
    {
     "name": "stdout",
     "output_type": "stream",
     "text": [
      "[NeMo I 2022-07-25 21:18:26 features:200] PADDING: 16\n",
      "[NeMo I 2022-07-25 21:18:28 save_restore_connector:243] Model EncDecCTCModel was successfully restored from /root/.cache/torch/NeMo/NeMo_1.10.0/QuartzNet15x5Base-En/2b066be39e9294d7100fb176ec817722/QuartzNet15x5Base-En.nemo.\n"
     ]
    },
    {
     "data": {
      "application/vnd.jupyter.widget-view+json": {
       "model_id": "a66fcec2f8de4ddfa638bee3d070370a",
       "version_major": 2,
       "version_minor": 0
      },
      "text/plain": [
       "Transcribing:   0%|          | 0/1 [00:00<?, ?it/s]"
      ]
     },
     "metadata": {},
     "output_type": "display_data"
    },
    {
     "name": "stdout",
     "output_type": "stream",
     "text": [
      "[NeMo I 2022-07-25 21:18:29 speaker_utils:82] Number of files to diarize: 1\n",
      "[NeMo I 2022-07-25 21:18:29 clustering_diarizer:153] Loading pretrained titanet_large model from NGC\n",
      "[NeMo I 2022-07-25 21:18:29 cloud:56] Found existing object /root/.cache/torch/NeMo/NeMo_1.10.0/titanet-l/492c0ab8416139171dc18c21879a9e45/titanet-l.nemo.\n",
      "[NeMo I 2022-07-25 21:18:29 cloud:62] Re-using file from: /root/.cache/torch/NeMo/NeMo_1.10.0/titanet-l/492c0ab8416139171dc18c21879a9e45/titanet-l.nemo\n",
      "[NeMo I 2022-07-25 21:18:29 common:789] Instantiating model from pre-trained checkpoint\n"
     ]
    },
    {
     "name": "stderr",
     "output_type": "stream",
     "text": [
      "[NeMo W 2022-07-25 21:18:29 modelPT:148] If you intend to do training or fine-tuning, please call the ModelPT.setup_training_data() method and provide a valid configuration file to setup the train data loader.\n",
      "    Train config : \n",
      "    manifest_filepath: /manifests/combined_fisher_swbd_voxceleb12_librispeech/train.json\n",
      "    sample_rate: 16000\n",
      "    labels: null\n",
      "    batch_size: 64\n",
      "    shuffle: true\n",
      "    time_length: 3\n",
      "    is_tarred: false\n",
      "    tarred_audio_filepaths: null\n",
      "    tarred_shard_strategy: scatter\n",
      "    augmentor:\n",
      "      noise:\n",
      "        manifest_path: /manifests/noise/rir_noise_manifest.json\n",
      "        prob: 0.5\n",
      "        min_snr_db: 0\n",
      "        max_snr_db: 15\n",
      "      speed:\n",
      "        prob: 0.5\n",
      "        sr: 16000\n",
      "        resample_type: kaiser_fast\n",
      "        min_speed_rate: 0.95\n",
      "        max_speed_rate: 1.05\n",
      "    num_workers: 15\n",
      "    pin_memory: true\n",
      "    \n",
      "[NeMo W 2022-07-25 21:18:29 modelPT:155] If you intend to do validation, please call the ModelPT.setup_validation_data() or ModelPT.setup_multiple_validation_data() method and provide a valid configuration file to setup the validation data loader(s). \n",
      "    Validation config : \n",
      "    manifest_filepath: /manifests/combined_fisher_swbd_voxceleb12_librispeech/dev.json\n",
      "    sample_rate: 16000\n",
      "    labels: null\n",
      "    batch_size: 128\n",
      "    shuffle: false\n",
      "    time_length: 3\n",
      "    num_workers: 15\n",
      "    pin_memory: true\n",
      "    \n"
     ]
    },
    {
     "name": "stdout",
     "output_type": "stream",
     "text": [
      "[NeMo I 2022-07-25 21:18:29 features:200] PADDING: 16\n",
      "[NeMo I 2022-07-25 21:18:30 label_models:100] loss is Angular Softmax\n",
      "[NeMo I 2022-07-25 21:18:30 save_restore_connector:243] Model EncDecSpeakerLabelModel was successfully restored from /root/.cache/torch/NeMo/NeMo_1.10.0/titanet-l/492c0ab8416139171dc18c21879a9e45/titanet-l.nemo.\n",
      "[NeMo I 2022-07-25 21:18:30 speaker_utils:82] Number of files to diarize: 1\n",
      "[NeMo I 2022-07-25 21:18:30 clustering_diarizer:271] Subsegmentation for embedding extraction: scale0, /home/DATA/amit_kesari/SD1/NeMo-ASR_Diar/data/voxconverse/speaker_outputs/subsegments_scale0.json\n",
      "[NeMo I 2022-07-25 21:18:30 clustering_diarizer:325] Extracting embeddings for Diarization\n",
      "[NeMo I 2022-07-25 21:18:30 collections:289] Filtered duration for loading collection is 0.000000.\n",
      "[NeMo I 2022-07-25 21:18:30 collections:293] # 159 files loaded accounting to # 1 labels\n"
     ]
    },
    {
     "name": "stderr",
     "output_type": "stream",
     "text": [
      "100%|██████████| 3/3 [00:00<00:00,  3.85it/s]\n",
      "100%|██████████| 1/1 [00:04<00:00,  4.43s/it]"
     ]
    },
    {
     "name": "stdout",
     "output_type": "stream",
     "text": [
      "[NeMo I 2022-07-25 21:18:36 speaker_utils:460] Cumulative Results for collar 0.25 sec and ignore_overlap True: \n",
      "     FA: 0.0113\t MISS 0.2877\t                 Diarization ER: 0.3420\t, Confusion ER:0.0430\n",
      "[NeMo I 2022-07-25 21:18:36 clustering_diarizer:444] Outputs are saved in /home/DATA/amit_kesari/SD1/NeMo-ASR_Diar/data/voxconverse directory\n",
      "\n",
      "\n",
      "Diar score:  (<pyannote.metrics.diarization.DiarizationErrorRate object at 0x7fa048719fd0>, {'luobn': {'speaker_0': 'spk01', 'speaker_1': 'spk00'}})\n",
      "Diarization error rate (DER) = 37.4%\n",
      "\n",
      "\n",
      "voxconverse_label:  mbzht\n",
      "num_speakers:  5\n",
      "[NeMo I 2022-07-25 21:18:36 speaker_utils:82] Number of files to diarize: 1\n",
      "[NeMo I 2022-07-25 21:18:36 cloud:56] Found existing object /root/.cache/torch/NeMo/NeMo_1.10.0/QuartzNet15x5Base-En/2b066be39e9294d7100fb176ec817722/QuartzNet15x5Base-En.nemo.\n",
      "[NeMo I 2022-07-25 21:18:36 cloud:62] Re-using file from: /root/.cache/torch/NeMo/NeMo_1.10.0/QuartzNet15x5Base-En/2b066be39e9294d7100fb176ec817722/QuartzNet15x5Base-En.nemo\n",
      "[NeMo I 2022-07-25 21:18:36 common:789] Instantiating model from pre-trained checkpoint\n"
     ]
    },
    {
     "name": "stderr",
     "output_type": "stream",
     "text": [
      "\n"
     ]
    },
    {
     "name": "stdout",
     "output_type": "stream",
     "text": [
      "[NeMo I 2022-07-25 21:18:36 features:200] PADDING: 16\n",
      "[NeMo I 2022-07-25 21:18:38 save_restore_connector:243] Model EncDecCTCModel was successfully restored from /root/.cache/torch/NeMo/NeMo_1.10.0/QuartzNet15x5Base-En/2b066be39e9294d7100fb176ec817722/QuartzNet15x5Base-En.nemo.\n"
     ]
    },
    {
     "data": {
      "application/vnd.jupyter.widget-view+json": {
       "model_id": "5d386ee3ef834317a73f6a622675a741",
       "version_major": 2,
       "version_minor": 0
      },
      "text/plain": [
       "Transcribing:   0%|          | 0/1 [00:00<?, ?it/s]"
      ]
     },
     "metadata": {},
     "output_type": "display_data"
    },
    {
     "name": "stdout",
     "output_type": "stream",
     "text": [
      "[NeMo I 2022-07-25 21:18:38 speaker_utils:82] Number of files to diarize: 1\n",
      "[NeMo I 2022-07-25 21:18:38 clustering_diarizer:153] Loading pretrained titanet_large model from NGC\n",
      "[NeMo I 2022-07-25 21:18:38 cloud:56] Found existing object /root/.cache/torch/NeMo/NeMo_1.10.0/titanet-l/492c0ab8416139171dc18c21879a9e45/titanet-l.nemo.\n",
      "[NeMo I 2022-07-25 21:18:38 cloud:62] Re-using file from: /root/.cache/torch/NeMo/NeMo_1.10.0/titanet-l/492c0ab8416139171dc18c21879a9e45/titanet-l.nemo\n",
      "[NeMo I 2022-07-25 21:18:38 common:789] Instantiating model from pre-trained checkpoint\n"
     ]
    },
    {
     "name": "stderr",
     "output_type": "stream",
     "text": [
      "[NeMo W 2022-07-25 21:18:39 modelPT:148] If you intend to do training or fine-tuning, please call the ModelPT.setup_training_data() method and provide a valid configuration file to setup the train data loader.\n",
      "    Train config : \n",
      "    manifest_filepath: /manifests/combined_fisher_swbd_voxceleb12_librispeech/train.json\n",
      "    sample_rate: 16000\n",
      "    labels: null\n",
      "    batch_size: 64\n",
      "    shuffle: true\n",
      "    time_length: 3\n",
      "    is_tarred: false\n",
      "    tarred_audio_filepaths: null\n",
      "    tarred_shard_strategy: scatter\n",
      "    augmentor:\n",
      "      noise:\n",
      "        manifest_path: /manifests/noise/rir_noise_manifest.json\n",
      "        prob: 0.5\n",
      "        min_snr_db: 0\n",
      "        max_snr_db: 15\n",
      "      speed:\n",
      "        prob: 0.5\n",
      "        sr: 16000\n",
      "        resample_type: kaiser_fast\n",
      "        min_speed_rate: 0.95\n",
      "        max_speed_rate: 1.05\n",
      "    num_workers: 15\n",
      "    pin_memory: true\n",
      "    \n",
      "[NeMo W 2022-07-25 21:18:39 modelPT:155] If you intend to do validation, please call the ModelPT.setup_validation_data() or ModelPT.setup_multiple_validation_data() method and provide a valid configuration file to setup the validation data loader(s). \n",
      "    Validation config : \n",
      "    manifest_filepath: /manifests/combined_fisher_swbd_voxceleb12_librispeech/dev.json\n",
      "    sample_rate: 16000\n",
      "    labels: null\n",
      "    batch_size: 128\n",
      "    shuffle: false\n",
      "    time_length: 3\n",
      "    num_workers: 15\n",
      "    pin_memory: true\n",
      "    \n"
     ]
    },
    {
     "name": "stdout",
     "output_type": "stream",
     "text": [
      "[NeMo I 2022-07-25 21:18:39 features:200] PADDING: 16\n",
      "[NeMo I 2022-07-25 21:18:40 label_models:100] loss is Angular Softmax\n",
      "[NeMo I 2022-07-25 21:18:40 save_restore_connector:243] Model EncDecSpeakerLabelModel was successfully restored from /root/.cache/torch/NeMo/NeMo_1.10.0/titanet-l/492c0ab8416139171dc18c21879a9e45/titanet-l.nemo.\n",
      "[NeMo I 2022-07-25 21:18:40 speaker_utils:82] Number of files to diarize: 1\n",
      "[NeMo I 2022-07-25 21:18:40 clustering_diarizer:271] Subsegmentation for embedding extraction: scale0, /home/DATA/amit_kesari/SD1/NeMo-ASR_Diar/data/voxconverse/speaker_outputs/subsegments_scale0.json\n",
      "[NeMo I 2022-07-25 21:18:40 clustering_diarizer:325] Extracting embeddings for Diarization\n",
      "[NeMo I 2022-07-25 21:18:40 collections:289] Filtered duration for loading collection is 0.000000.\n",
      "[NeMo I 2022-07-25 21:18:40 collections:293] # 270 files loaded accounting to # 1 labels\n"
     ]
    },
    {
     "name": "stderr",
     "output_type": "stream",
     "text": [
      "100%|██████████| 5/5 [00:01<00:00,  3.54it/s]\n",
      "100%|██████████| 1/1 [00:03<00:00,  3.61s/it]"
     ]
    },
    {
     "name": "stdout",
     "output_type": "stream",
     "text": [
      "[NeMo I 2022-07-25 21:18:45 speaker_utils:460] Cumulative Results for collar 0.25 sec and ignore_overlap True: \n",
      "     FA: 0.0108\t MISS 0.2734\t                 Diarization ER: 0.4451\t, Confusion ER:0.1609\n",
      "[NeMo I 2022-07-25 21:18:45 clustering_diarizer:444] Outputs are saved in /home/DATA/amit_kesari/SD1/NeMo-ASR_Diar/data/voxconverse directory\n"
     ]
    },
    {
     "name": "stderr",
     "output_type": "stream",
     "text": [
      "\n"
     ]
    },
    {
     "name": "stdout",
     "output_type": "stream",
     "text": [
      "\n",
      "\n",
      "Diar score:  (<pyannote.metrics.diarization.DiarizationErrorRate object at 0x7fa0505ccaf0>, {'mbzht': {'speaker_0': 'spk03', 'speaker_1': 'spk01', 'speaker_2': 'spk00', 'speaker_3': 'spk04', 'speaker_4': 'spk02'}})\n",
      "Diarization error rate (DER) = 47.1%\n",
      "\n",
      "\n",
      "voxconverse_label:  mclsr\n",
      "num_speakers:  12\n",
      "[NeMo I 2022-07-25 21:18:45 speaker_utils:82] Number of files to diarize: 1\n",
      "[NeMo I 2022-07-25 21:18:45 cloud:56] Found existing object /root/.cache/torch/NeMo/NeMo_1.10.0/QuartzNet15x5Base-En/2b066be39e9294d7100fb176ec817722/QuartzNet15x5Base-En.nemo.\n",
      "[NeMo I 2022-07-25 21:18:45 cloud:62] Re-using file from: /root/.cache/torch/NeMo/NeMo_1.10.0/QuartzNet15x5Base-En/2b066be39e9294d7100fb176ec817722/QuartzNet15x5Base-En.nemo\n",
      "[NeMo I 2022-07-25 21:18:45 common:789] Instantiating model from pre-trained checkpoint\n",
      "[NeMo I 2022-07-25 21:18:46 features:200] PADDING: 16\n",
      "[NeMo I 2022-07-25 21:18:47 save_restore_connector:243] Model EncDecCTCModel was successfully restored from /root/.cache/torch/NeMo/NeMo_1.10.0/QuartzNet15x5Base-En/2b066be39e9294d7100fb176ec817722/QuartzNet15x5Base-En.nemo.\n"
     ]
    },
    {
     "data": {
      "application/vnd.jupyter.widget-view+json": {
       "model_id": "94501ff4973c413da60e3c2945b1629c",
       "version_major": 2,
       "version_minor": 0
      },
      "text/plain": [
       "Transcribing:   0%|          | 0/1 [00:00<?, ?it/s]"
      ]
     },
     "metadata": {},
     "output_type": "display_data"
    },
    {
     "name": "stdout",
     "output_type": "stream",
     "text": [
      "[NeMo I 2022-07-25 21:18:47 speaker_utils:82] Number of files to diarize: 1\n",
      "[NeMo I 2022-07-25 21:18:47 clustering_diarizer:153] Loading pretrained titanet_large model from NGC\n",
      "[NeMo I 2022-07-25 21:18:47 cloud:56] Found existing object /root/.cache/torch/NeMo/NeMo_1.10.0/titanet-l/492c0ab8416139171dc18c21879a9e45/titanet-l.nemo.\n",
      "[NeMo I 2022-07-25 21:18:47 cloud:62] Re-using file from: /root/.cache/torch/NeMo/NeMo_1.10.0/titanet-l/492c0ab8416139171dc18c21879a9e45/titanet-l.nemo\n",
      "[NeMo I 2022-07-25 21:18:47 common:789] Instantiating model from pre-trained checkpoint\n"
     ]
    },
    {
     "name": "stderr",
     "output_type": "stream",
     "text": [
      "[NeMo W 2022-07-25 21:18:48 modelPT:148] If you intend to do training or fine-tuning, please call the ModelPT.setup_training_data() method and provide a valid configuration file to setup the train data loader.\n",
      "    Train config : \n",
      "    manifest_filepath: /manifests/combined_fisher_swbd_voxceleb12_librispeech/train.json\n",
      "    sample_rate: 16000\n",
      "    labels: null\n",
      "    batch_size: 64\n",
      "    shuffle: true\n",
      "    time_length: 3\n",
      "    is_tarred: false\n",
      "    tarred_audio_filepaths: null\n",
      "    tarred_shard_strategy: scatter\n",
      "    augmentor:\n",
      "      noise:\n",
      "        manifest_path: /manifests/noise/rir_noise_manifest.json\n",
      "        prob: 0.5\n",
      "        min_snr_db: 0\n",
      "        max_snr_db: 15\n",
      "      speed:\n",
      "        prob: 0.5\n",
      "        sr: 16000\n",
      "        resample_type: kaiser_fast\n",
      "        min_speed_rate: 0.95\n",
      "        max_speed_rate: 1.05\n",
      "    num_workers: 15\n",
      "    pin_memory: true\n",
      "    \n",
      "[NeMo W 2022-07-25 21:18:48 modelPT:155] If you intend to do validation, please call the ModelPT.setup_validation_data() or ModelPT.setup_multiple_validation_data() method and provide a valid configuration file to setup the validation data loader(s). \n",
      "    Validation config : \n",
      "    manifest_filepath: /manifests/combined_fisher_swbd_voxceleb12_librispeech/dev.json\n",
      "    sample_rate: 16000\n",
      "    labels: null\n",
      "    batch_size: 128\n",
      "    shuffle: false\n",
      "    time_length: 3\n",
      "    num_workers: 15\n",
      "    pin_memory: true\n",
      "    \n"
     ]
    },
    {
     "name": "stdout",
     "output_type": "stream",
     "text": [
      "[NeMo I 2022-07-25 21:18:48 features:200] PADDING: 16\n",
      "[NeMo I 2022-07-25 21:18:49 label_models:100] loss is Angular Softmax\n",
      "[NeMo I 2022-07-25 21:18:49 save_restore_connector:243] Model EncDecSpeakerLabelModel was successfully restored from /root/.cache/torch/NeMo/NeMo_1.10.0/titanet-l/492c0ab8416139171dc18c21879a9e45/titanet-l.nemo.\n",
      "[NeMo I 2022-07-25 21:18:49 speaker_utils:82] Number of files to diarize: 1\n",
      "[NeMo I 2022-07-25 21:18:49 clustering_diarizer:271] Subsegmentation for embedding extraction: scale0, /home/DATA/amit_kesari/SD1/NeMo-ASR_Diar/data/voxconverse/speaker_outputs/subsegments_scale0.json\n",
      "[NeMo I 2022-07-25 21:18:49 clustering_diarizer:325] Extracting embeddings for Diarization\n",
      "[NeMo I 2022-07-25 21:18:49 collections:289] Filtered duration for loading collection is 0.000000.\n",
      "[NeMo I 2022-07-25 21:18:49 collections:293] # 553 files loaded accounting to # 1 labels\n"
     ]
    },
    {
     "name": "stderr",
     "output_type": "stream",
     "text": [
      "100%|██████████| 9/9 [00:01<00:00,  4.66it/s]\n",
      "100%|██████████| 1/1 [00:14<00:00, 14.20s/it]\n"
     ]
    },
    {
     "name": "stdout",
     "output_type": "stream",
     "text": [
      "[NeMo I 2022-07-25 21:19:05 speaker_utils:460] Cumulative Results for collar 0.25 sec and ignore_overlap True: \n",
      "     FA: 0.0451\t MISS 0.2103\t                 Diarization ER: 0.4911\t, Confusion ER:0.2357\n",
      "[NeMo I 2022-07-25 21:19:05 clustering_diarizer:444] Outputs are saved in /home/DATA/amit_kesari/SD1/NeMo-ASR_Diar/data/voxconverse directory\n",
      "\n",
      "\n",
      "Diar score:  (<pyannote.metrics.diarization.DiarizationErrorRate object at 0x7fa157c44ee0>, {'mclsr': {'speaker_0': 'spk02', 'speaker_1': 'spk09', 'speaker_10': 'spk05', 'speaker_11': 'spk07', 'speaker_2': 'spk01', 'speaker_3': 'spk11', 'speaker_6': 'spk06', 'speaker_7': 'spk04', 'speaker_8': 'spk00'}})\n",
      "Diarization error rate (DER) = 52.7%\n",
      "\n",
      "\n",
      "voxconverse_label:  mhwyr\n",
      "num_speakers:  8\n",
      "[NeMo I 2022-07-25 21:19:06 speaker_utils:82] Number of files to diarize: 1\n",
      "[NeMo I 2022-07-25 21:19:06 cloud:56] Found existing object /root/.cache/torch/NeMo/NeMo_1.10.0/QuartzNet15x5Base-En/2b066be39e9294d7100fb176ec817722/QuartzNet15x5Base-En.nemo.\n",
      "[NeMo I 2022-07-25 21:19:06 cloud:62] Re-using file from: /root/.cache/torch/NeMo/NeMo_1.10.0/QuartzNet15x5Base-En/2b066be39e9294d7100fb176ec817722/QuartzNet15x5Base-En.nemo\n",
      "[NeMo I 2022-07-25 21:19:06 common:789] Instantiating model from pre-trained checkpoint\n",
      "[NeMo I 2022-07-25 21:19:07 features:200] PADDING: 16\n",
      "[NeMo I 2022-07-25 21:19:08 save_restore_connector:243] Model EncDecCTCModel was successfully restored from /root/.cache/torch/NeMo/NeMo_1.10.0/QuartzNet15x5Base-En/2b066be39e9294d7100fb176ec817722/QuartzNet15x5Base-En.nemo.\n"
     ]
    },
    {
     "data": {
      "application/vnd.jupyter.widget-view+json": {
       "model_id": "14a881b87dff4046af87df05661bf270",
       "version_major": 2,
       "version_minor": 0
      },
      "text/plain": [
       "Transcribing:   0%|          | 0/1 [00:00<?, ?it/s]"
      ]
     },
     "metadata": {},
     "output_type": "display_data"
    },
    {
     "name": "stdout",
     "output_type": "stream",
     "text": [
      "[NeMo I 2022-07-25 21:19:09 speaker_utils:82] Number of files to diarize: 1\n",
      "[NeMo I 2022-07-25 21:19:09 clustering_diarizer:153] Loading pretrained titanet_large model from NGC\n",
      "[NeMo I 2022-07-25 21:19:09 cloud:56] Found existing object /root/.cache/torch/NeMo/NeMo_1.10.0/titanet-l/492c0ab8416139171dc18c21879a9e45/titanet-l.nemo.\n",
      "[NeMo I 2022-07-25 21:19:09 cloud:62] Re-using file from: /root/.cache/torch/NeMo/NeMo_1.10.0/titanet-l/492c0ab8416139171dc18c21879a9e45/titanet-l.nemo\n",
      "[NeMo I 2022-07-25 21:19:09 common:789] Instantiating model from pre-trained checkpoint\n"
     ]
    },
    {
     "name": "stderr",
     "output_type": "stream",
     "text": [
      "[NeMo W 2022-07-25 21:19:10 modelPT:148] If you intend to do training or fine-tuning, please call the ModelPT.setup_training_data() method and provide a valid configuration file to setup the train data loader.\n",
      "    Train config : \n",
      "    manifest_filepath: /manifests/combined_fisher_swbd_voxceleb12_librispeech/train.json\n",
      "    sample_rate: 16000\n",
      "    labels: null\n",
      "    batch_size: 64\n",
      "    shuffle: true\n",
      "    time_length: 3\n",
      "    is_tarred: false\n",
      "    tarred_audio_filepaths: null\n",
      "    tarred_shard_strategy: scatter\n",
      "    augmentor:\n",
      "      noise:\n",
      "        manifest_path: /manifests/noise/rir_noise_manifest.json\n",
      "        prob: 0.5\n",
      "        min_snr_db: 0\n",
      "        max_snr_db: 15\n",
      "      speed:\n",
      "        prob: 0.5\n",
      "        sr: 16000\n",
      "        resample_type: kaiser_fast\n",
      "        min_speed_rate: 0.95\n",
      "        max_speed_rate: 1.05\n",
      "    num_workers: 15\n",
      "    pin_memory: true\n",
      "    \n",
      "[NeMo W 2022-07-25 21:19:10 modelPT:155] If you intend to do validation, please call the ModelPT.setup_validation_data() or ModelPT.setup_multiple_validation_data() method and provide a valid configuration file to setup the validation data loader(s). \n",
      "    Validation config : \n",
      "    manifest_filepath: /manifests/combined_fisher_swbd_voxceleb12_librispeech/dev.json\n",
      "    sample_rate: 16000\n",
      "    labels: null\n",
      "    batch_size: 128\n",
      "    shuffle: false\n",
      "    time_length: 3\n",
      "    num_workers: 15\n",
      "    pin_memory: true\n",
      "    \n"
     ]
    },
    {
     "name": "stdout",
     "output_type": "stream",
     "text": [
      "[NeMo I 2022-07-25 21:19:10 features:200] PADDING: 16\n",
      "[NeMo I 2022-07-25 21:19:10 label_models:100] loss is Angular Softmax\n",
      "[NeMo I 2022-07-25 21:19:11 save_restore_connector:243] Model EncDecSpeakerLabelModel was successfully restored from /root/.cache/torch/NeMo/NeMo_1.10.0/titanet-l/492c0ab8416139171dc18c21879a9e45/titanet-l.nemo.\n",
      "[NeMo I 2022-07-25 21:19:11 speaker_utils:82] Number of files to diarize: 1\n",
      "[NeMo I 2022-07-25 21:19:11 clustering_diarizer:271] Subsegmentation for embedding extraction: scale0, /home/DATA/amit_kesari/SD1/NeMo-ASR_Diar/data/voxconverse/speaker_outputs/subsegments_scale0.json\n",
      "[NeMo I 2022-07-25 21:19:11 clustering_diarizer:325] Extracting embeddings for Diarization\n",
      "[NeMo I 2022-07-25 21:19:11 collections:289] Filtered duration for loading collection is 0.000000.\n",
      "[NeMo I 2022-07-25 21:19:11 collections:293] # 1334 files loaded accounting to # 1 labels\n"
     ]
    },
    {
     "name": "stderr",
     "output_type": "stream",
     "text": [
      "100%|██████████| 21/21 [00:03<00:00,  5.30it/s]\n",
      "100%|██████████| 1/1 [00:10<00:00, 10.02s/it]\n"
     ]
    },
    {
     "name": "stdout",
     "output_type": "stream",
     "text": [
      "[NeMo I 2022-07-25 21:19:26 speaker_utils:460] Cumulative Results for collar 0.25 sec and ignore_overlap True: \n",
      "     FA: 0.0987\t MISS 0.0644\t                 Diarization ER: 0.2011\t, Confusion ER:0.0380\n",
      "[NeMo I 2022-07-25 21:19:26 clustering_diarizer:444] Outputs are saved in /home/DATA/amit_kesari/SD1/NeMo-ASR_Diar/data/voxconverse directory\n",
      "\n",
      "\n",
      "Diar score:  (<pyannote.metrics.diarization.DiarizationErrorRate object at 0x7fa048fe5940>, {'mhwyr': {'speaker_0': 'spk01', 'speaker_1': 'spk04', 'speaker_2': 'spk02', 'speaker_3': 'spk05', 'speaker_5': 'spk03', 'speaker_6': 'spk00', 'speaker_7': 'spk07'}})\n",
      "Diarization error rate (DER) = 28.7%\n",
      "\n",
      "\n",
      "voxconverse_label:  mjmgr\n",
      "num_speakers:  10\n",
      "[NeMo I 2022-07-25 21:19:27 speaker_utils:82] Number of files to diarize: 1\n",
      "[NeMo I 2022-07-25 21:19:27 cloud:56] Found existing object /root/.cache/torch/NeMo/NeMo_1.10.0/QuartzNet15x5Base-En/2b066be39e9294d7100fb176ec817722/QuartzNet15x5Base-En.nemo.\n",
      "[NeMo I 2022-07-25 21:19:27 cloud:62] Re-using file from: /root/.cache/torch/NeMo/NeMo_1.10.0/QuartzNet15x5Base-En/2b066be39e9294d7100fb176ec817722/QuartzNet15x5Base-En.nemo\n",
      "[NeMo I 2022-07-25 21:19:27 common:789] Instantiating model from pre-trained checkpoint\n",
      "[NeMo I 2022-07-25 21:19:28 features:200] PADDING: 16\n",
      "[NeMo I 2022-07-25 21:19:29 save_restore_connector:243] Model EncDecCTCModel was successfully restored from /root/.cache/torch/NeMo/NeMo_1.10.0/QuartzNet15x5Base-En/2b066be39e9294d7100fb176ec817722/QuartzNet15x5Base-En.nemo.\n"
     ]
    },
    {
     "data": {
      "application/vnd.jupyter.widget-view+json": {
       "model_id": "cde8c9c1cca843119ef3985481371afe",
       "version_major": 2,
       "version_minor": 0
      },
      "text/plain": [
       "Transcribing:   0%|          | 0/1 [00:00<?, ?it/s]"
      ]
     },
     "metadata": {},
     "output_type": "display_data"
    },
    {
     "name": "stdout",
     "output_type": "stream",
     "text": [
      "[NeMo I 2022-07-25 21:19:30 speaker_utils:82] Number of files to diarize: 1\n",
      "[NeMo I 2022-07-25 21:19:30 clustering_diarizer:153] Loading pretrained titanet_large model from NGC\n",
      "[NeMo I 2022-07-25 21:19:30 cloud:56] Found existing object /root/.cache/torch/NeMo/NeMo_1.10.0/titanet-l/492c0ab8416139171dc18c21879a9e45/titanet-l.nemo.\n",
      "[NeMo I 2022-07-25 21:19:30 cloud:62] Re-using file from: /root/.cache/torch/NeMo/NeMo_1.10.0/titanet-l/492c0ab8416139171dc18c21879a9e45/titanet-l.nemo\n",
      "[NeMo I 2022-07-25 21:19:30 common:789] Instantiating model from pre-trained checkpoint\n"
     ]
    },
    {
     "name": "stderr",
     "output_type": "stream",
     "text": [
      "[NeMo W 2022-07-25 21:19:31 modelPT:148] If you intend to do training or fine-tuning, please call the ModelPT.setup_training_data() method and provide a valid configuration file to setup the train data loader.\n",
      "    Train config : \n",
      "    manifest_filepath: /manifests/combined_fisher_swbd_voxceleb12_librispeech/train.json\n",
      "    sample_rate: 16000\n",
      "    labels: null\n",
      "    batch_size: 64\n",
      "    shuffle: true\n",
      "    time_length: 3\n",
      "    is_tarred: false\n",
      "    tarred_audio_filepaths: null\n",
      "    tarred_shard_strategy: scatter\n",
      "    augmentor:\n",
      "      noise:\n",
      "        manifest_path: /manifests/noise/rir_noise_manifest.json\n",
      "        prob: 0.5\n",
      "        min_snr_db: 0\n",
      "        max_snr_db: 15\n",
      "      speed:\n",
      "        prob: 0.5\n",
      "        sr: 16000\n",
      "        resample_type: kaiser_fast\n",
      "        min_speed_rate: 0.95\n",
      "        max_speed_rate: 1.05\n",
      "    num_workers: 15\n",
      "    pin_memory: true\n",
      "    \n",
      "[NeMo W 2022-07-25 21:19:31 modelPT:155] If you intend to do validation, please call the ModelPT.setup_validation_data() or ModelPT.setup_multiple_validation_data() method and provide a valid configuration file to setup the validation data loader(s). \n",
      "    Validation config : \n",
      "    manifest_filepath: /manifests/combined_fisher_swbd_voxceleb12_librispeech/dev.json\n",
      "    sample_rate: 16000\n",
      "    labels: null\n",
      "    batch_size: 128\n",
      "    shuffle: false\n",
      "    time_length: 3\n",
      "    num_workers: 15\n",
      "    pin_memory: true\n",
      "    \n"
     ]
    },
    {
     "name": "stdout",
     "output_type": "stream",
     "text": [
      "[NeMo I 2022-07-25 21:19:31 features:200] PADDING: 16\n",
      "[NeMo I 2022-07-25 21:19:31 label_models:100] loss is Angular Softmax\n",
      "[NeMo I 2022-07-25 21:19:32 save_restore_connector:243] Model EncDecSpeakerLabelModel was successfully restored from /root/.cache/torch/NeMo/NeMo_1.10.0/titanet-l/492c0ab8416139171dc18c21879a9e45/titanet-l.nemo.\n",
      "[NeMo I 2022-07-25 21:19:32 speaker_utils:82] Number of files to diarize: 1\n",
      "[NeMo I 2022-07-25 21:19:32 clustering_diarizer:271] Subsegmentation for embedding extraction: scale0, /home/DATA/amit_kesari/SD1/NeMo-ASR_Diar/data/voxconverse/speaker_outputs/subsegments_scale0.json\n",
      "[NeMo I 2022-07-25 21:19:32 clustering_diarizer:325] Extracting embeddings for Diarization\n",
      "[NeMo I 2022-07-25 21:19:32 collections:289] Filtered duration for loading collection is 0.000000.\n",
      "[NeMo I 2022-07-25 21:19:32 collections:293] # 509 files loaded accounting to # 1 labels\n"
     ]
    },
    {
     "name": "stderr",
     "output_type": "stream",
     "text": [
      "100%|██████████| 8/8 [00:01<00:00,  4.59it/s]\n",
      "100%|██████████| 1/1 [00:13<00:00, 13.12s/it]\n"
     ]
    },
    {
     "name": "stdout",
     "output_type": "stream",
     "text": [
      "[NeMo I 2022-07-25 21:19:47 speaker_utils:460] Cumulative Results for collar 0.25 sec and ignore_overlap True: \n",
      "     FA: 0.0414\t MISS 0.2241\t                 Diarization ER: 0.6481\t, Confusion ER:0.3825\n",
      "[NeMo I 2022-07-25 21:19:47 clustering_diarizer:444] Outputs are saved in /home/DATA/amit_kesari/SD1/NeMo-ASR_Diar/data/voxconverse directory\n",
      "\n",
      "\n",
      "Diar score:  (<pyannote.metrics.diarization.DiarizationErrorRate object at 0x7fa157ef0eb0>, {'mjmgr': {'speaker_0': 'spk00', 'speaker_1': 'spk01', 'speaker_3': 'spk06', 'speaker_4': 'spk09', 'speaker_5': 'spk07', 'speaker_6': 'spk08', 'speaker_7': 'spk04', 'speaker_9': 'spk03'}})\n",
      "Diarization error rate (DER) = 66.8%\n",
      "\n",
      "\n",
      "voxconverse_label:  mkhie\n",
      "num_speakers:  12\n",
      "[NeMo I 2022-07-25 21:19:48 speaker_utils:82] Number of files to diarize: 1\n",
      "[NeMo I 2022-07-25 21:19:48 cloud:56] Found existing object /root/.cache/torch/NeMo/NeMo_1.10.0/QuartzNet15x5Base-En/2b066be39e9294d7100fb176ec817722/QuartzNet15x5Base-En.nemo.\n",
      "[NeMo I 2022-07-25 21:19:48 cloud:62] Re-using file from: /root/.cache/torch/NeMo/NeMo_1.10.0/QuartzNet15x5Base-En/2b066be39e9294d7100fb176ec817722/QuartzNet15x5Base-En.nemo\n",
      "[NeMo I 2022-07-25 21:19:48 common:789] Instantiating model from pre-trained checkpoint\n",
      "[NeMo I 2022-07-25 21:19:49 features:200] PADDING: 16\n",
      "[NeMo I 2022-07-25 21:19:50 save_restore_connector:243] Model EncDecCTCModel was successfully restored from /root/.cache/torch/NeMo/NeMo_1.10.0/QuartzNet15x5Base-En/2b066be39e9294d7100fb176ec817722/QuartzNet15x5Base-En.nemo.\n"
     ]
    },
    {
     "data": {
      "application/vnd.jupyter.widget-view+json": {
       "model_id": "2095edc80c7b4c33b651cbf9682eb01c",
       "version_major": 2,
       "version_minor": 0
      },
      "text/plain": [
       "Transcribing:   0%|          | 0/1 [00:00<?, ?it/s]"
      ]
     },
     "metadata": {},
     "output_type": "display_data"
    },
    {
     "name": "stdout",
     "output_type": "stream",
     "text": [
      "[NeMo I 2022-07-25 21:19:52 speaker_utils:82] Number of files to diarize: 1\n",
      "[NeMo I 2022-07-25 21:19:52 clustering_diarizer:153] Loading pretrained titanet_large model from NGC\n",
      "[NeMo I 2022-07-25 21:19:52 cloud:56] Found existing object /root/.cache/torch/NeMo/NeMo_1.10.0/titanet-l/492c0ab8416139171dc18c21879a9e45/titanet-l.nemo.\n",
      "[NeMo I 2022-07-25 21:19:52 cloud:62] Re-using file from: /root/.cache/torch/NeMo/NeMo_1.10.0/titanet-l/492c0ab8416139171dc18c21879a9e45/titanet-l.nemo\n",
      "[NeMo I 2022-07-25 21:19:52 common:789] Instantiating model from pre-trained checkpoint\n"
     ]
    },
    {
     "name": "stderr",
     "output_type": "stream",
     "text": [
      "[NeMo W 2022-07-25 21:19:53 modelPT:148] If you intend to do training or fine-tuning, please call the ModelPT.setup_training_data() method and provide a valid configuration file to setup the train data loader.\n",
      "    Train config : \n",
      "    manifest_filepath: /manifests/combined_fisher_swbd_voxceleb12_librispeech/train.json\n",
      "    sample_rate: 16000\n",
      "    labels: null\n",
      "    batch_size: 64\n",
      "    shuffle: true\n",
      "    time_length: 3\n",
      "    is_tarred: false\n",
      "    tarred_audio_filepaths: null\n",
      "    tarred_shard_strategy: scatter\n",
      "    augmentor:\n",
      "      noise:\n",
      "        manifest_path: /manifests/noise/rir_noise_manifest.json\n",
      "        prob: 0.5\n",
      "        min_snr_db: 0\n",
      "        max_snr_db: 15\n",
      "      speed:\n",
      "        prob: 0.5\n",
      "        sr: 16000\n",
      "        resample_type: kaiser_fast\n",
      "        min_speed_rate: 0.95\n",
      "        max_speed_rate: 1.05\n",
      "    num_workers: 15\n",
      "    pin_memory: true\n",
      "    \n",
      "[NeMo W 2022-07-25 21:19:53 modelPT:155] If you intend to do validation, please call the ModelPT.setup_validation_data() or ModelPT.setup_multiple_validation_data() method and provide a valid configuration file to setup the validation data loader(s). \n",
      "    Validation config : \n",
      "    manifest_filepath: /manifests/combined_fisher_swbd_voxceleb12_librispeech/dev.json\n",
      "    sample_rate: 16000\n",
      "    labels: null\n",
      "    batch_size: 128\n",
      "    shuffle: false\n",
      "    time_length: 3\n",
      "    num_workers: 15\n",
      "    pin_memory: true\n",
      "    \n"
     ]
    },
    {
     "name": "stdout",
     "output_type": "stream",
     "text": [
      "[NeMo I 2022-07-25 21:19:53 features:200] PADDING: 16\n",
      "[NeMo I 2022-07-25 21:19:53 label_models:100] loss is Angular Softmax\n",
      "[NeMo I 2022-07-25 21:19:54 save_restore_connector:243] Model EncDecSpeakerLabelModel was successfully restored from /root/.cache/torch/NeMo/NeMo_1.10.0/titanet-l/492c0ab8416139171dc18c21879a9e45/titanet-l.nemo.\n",
      "[NeMo I 2022-07-25 21:19:54 speaker_utils:82] Number of files to diarize: 1\n",
      "[NeMo I 2022-07-25 21:19:54 clustering_diarizer:271] Subsegmentation for embedding extraction: scale0, /home/DATA/amit_kesari/SD1/NeMo-ASR_Diar/data/voxconverse/speaker_outputs/subsegments_scale0.json\n",
      "[NeMo I 2022-07-25 21:19:54 clustering_diarizer:325] Extracting embeddings for Diarization\n",
      "[NeMo I 2022-07-25 21:19:54 collections:289] Filtered duration for loading collection is 0.000000.\n",
      "[NeMo I 2022-07-25 21:19:54 collections:293] # 2229 files loaded accounting to # 1 labels\n"
     ]
    },
    {
     "name": "stderr",
     "output_type": "stream",
     "text": [
      " 94%|█████████▍| 33/35 [00:05<00:00,  5.80it/s]IOPub message rate exceeded.\n",
      "The notebook server will temporarily stop sending output\n",
      "to the client in order to avoid crashing it.\n",
      "To change this limit, set the config variable\n",
      "`--NotebookApp.iopub_msg_rate_limit`.\n",
      "\n",
      "Current values:\n",
      "NotebookApp.iopub_msg_rate_limit=1000.0 (msgs/sec)\n",
      "NotebookApp.rate_limit_window=3.0 (secs)\n",
      "\n"
     ]
    },
    {
     "name": "stdout",
     "output_type": "stream",
     "text": [
      "[NeMo I 2022-07-25 21:52:08 save_restore_connector:243] Model EncDecCTCModel was successfully restored from /root/.cache/torch/NeMo/NeMo_1.10.0/QuartzNet15x5Base-En/2b066be39e9294d7100fb176ec817722/QuartzNet15x5Base-En.nemo.\n"
     ]
    },
    {
     "data": {
      "application/vnd.jupyter.widget-view+json": {
       "model_id": "6792e67edea14d98bacfea054ee53363",
       "version_major": 2,
       "version_minor": 0
      },
      "text/plain": [
       "Transcribing:   0%|          | 0/1 [00:00<?, ?it/s]"
      ]
     },
     "metadata": {},
     "output_type": "display_data"
    },
    {
     "name": "stdout",
     "output_type": "stream",
     "text": [
      "[NeMo I 2022-07-25 21:52:09 speaker_utils:82] Number of files to diarize: 1\n",
      "[NeMo I 2022-07-25 21:52:09 clustering_diarizer:153] Loading pretrained titanet_large model from NGC\n",
      "[NeMo I 2022-07-25 21:52:09 cloud:56] Found existing object /root/.cache/torch/NeMo/NeMo_1.10.0/titanet-l/492c0ab8416139171dc18c21879a9e45/titanet-l.nemo.\n",
      "[NeMo I 2022-07-25 21:52:09 cloud:62] Re-using file from: /root/.cache/torch/NeMo/NeMo_1.10.0/titanet-l/492c0ab8416139171dc18c21879a9e45/titanet-l.nemo\n",
      "[NeMo I 2022-07-25 21:52:09 common:789] Instantiating model from pre-trained checkpoint\n"
     ]
    },
    {
     "name": "stderr",
     "output_type": "stream",
     "text": [
      "[NeMo W 2022-07-25 21:52:10 modelPT:148] If you intend to do training or fine-tuning, please call the ModelPT.setup_training_data() method and provide a valid configuration file to setup the train data loader.\n",
      "    Train config : \n",
      "    manifest_filepath: /manifests/combined_fisher_swbd_voxceleb12_librispeech/train.json\n",
      "    sample_rate: 16000\n",
      "    labels: null\n",
      "    batch_size: 64\n",
      "    shuffle: true\n",
      "    time_length: 3\n",
      "    is_tarred: false\n",
      "    tarred_audio_filepaths: null\n",
      "    tarred_shard_strategy: scatter\n",
      "    augmentor:\n",
      "      noise:\n",
      "        manifest_path: /manifests/noise/rir_noise_manifest.json\n",
      "        prob: 0.5\n",
      "        min_snr_db: 0\n",
      "        max_snr_db: 15\n",
      "      speed:\n",
      "        prob: 0.5\n",
      "        sr: 16000\n",
      "        resample_type: kaiser_fast\n",
      "        min_speed_rate: 0.95\n",
      "        max_speed_rate: 1.05\n",
      "    num_workers: 15\n",
      "    pin_memory: true\n",
      "    \n",
      "[NeMo W 2022-07-25 21:52:10 modelPT:155] If you intend to do validation, please call the ModelPT.setup_validation_data() or ModelPT.setup_multiple_validation_data() method and provide a valid configuration file to setup the validation data loader(s). \n",
      "    Validation config : \n",
      "    manifest_filepath: /manifests/combined_fisher_swbd_voxceleb12_librispeech/dev.json\n",
      "    sample_rate: 16000\n",
      "    labels: null\n",
      "    batch_size: 128\n",
      "    shuffle: false\n",
      "    time_length: 3\n",
      "    num_workers: 15\n",
      "    pin_memory: true\n",
      "    \n"
     ]
    },
    {
     "name": "stdout",
     "output_type": "stream",
     "text": [
      "[NeMo I 2022-07-25 21:52:10 features:200] PADDING: 16\n",
      "[NeMo I 2022-07-25 21:52:11 label_models:100] loss is Angular Softmax\n",
      "[NeMo I 2022-07-25 21:52:11 save_restore_connector:243] Model EncDecSpeakerLabelModel was successfully restored from /root/.cache/torch/NeMo/NeMo_1.10.0/titanet-l/492c0ab8416139171dc18c21879a9e45/titanet-l.nemo.\n",
      "[NeMo I 2022-07-25 21:52:11 speaker_utils:82] Number of files to diarize: 1\n",
      "[NeMo I 2022-07-25 21:52:11 clustering_diarizer:271] Subsegmentation for embedding extraction: scale0, /home/DATA/amit_kesari/SD1/NeMo-ASR_Diar/data/voxconverse/speaker_outputs/subsegments_scale0.json\n",
      "[NeMo I 2022-07-25 21:52:11 clustering_diarizer:325] Extracting embeddings for Diarization\n",
      "[NeMo I 2022-07-25 21:52:11 collections:289] Filtered duration for loading collection is 0.000000.\n",
      "[NeMo I 2022-07-25 21:52:11 collections:293] # 2081 files loaded accounting to # 1 labels\n"
     ]
    },
    {
     "name": "stderr",
     "output_type": "stream",
     "text": [
      "100%|██████████| 33/33 [00:05<00:00,  5.58it/s]\n",
      "100%|██████████| 1/1 [00:10<00:00, 10.64s/it]\n"
     ]
    },
    {
     "name": "stdout",
     "output_type": "stream",
     "text": [
      "[NeMo I 2022-07-25 21:52:32 speaker_utils:460] Cumulative Results for collar 0.25 sec and ignore_overlap True: \n",
      "     FA: 0.1300\t MISS 0.2448\t                 Diarization ER: 0.5297\t, Confusion ER:0.1549\n",
      "[NeMo I 2022-07-25 21:52:32 clustering_diarizer:444] Outputs are saved in /home/DATA/amit_kesari/SD1/NeMo-ASR_Diar/data/voxconverse directory\n",
      "\n",
      "\n",
      "Diar score:  (<pyannote.metrics.diarization.DiarizationErrorRate object at 0x7fa048494d30>, {'xlsme': {'speaker_0': 'spk02', 'speaker_1': 'spk00', 'speaker_2': 'spk01', 'speaker_4': 'spk03', 'speaker_5': 'spk05'}})\n",
      "Diarization error rate (DER) = 56.4%\n",
      "\n",
      "\n",
      "voxconverse_label:  xlyov\n",
      "num_speakers:  1\n",
      "[NeMo I 2022-07-25 21:52:35 speaker_utils:82] Number of files to diarize: 1\n",
      "[NeMo I 2022-07-25 21:52:35 cloud:56] Found existing object /root/.cache/torch/NeMo/NeMo_1.10.0/QuartzNet15x5Base-En/2b066be39e9294d7100fb176ec817722/QuartzNet15x5Base-En.nemo.\n",
      "[NeMo I 2022-07-25 21:52:35 cloud:62] Re-using file from: /root/.cache/torch/NeMo/NeMo_1.10.0/QuartzNet15x5Base-En/2b066be39e9294d7100fb176ec817722/QuartzNet15x5Base-En.nemo\n",
      "[NeMo I 2022-07-25 21:52:35 common:789] Instantiating model from pre-trained checkpoint\n",
      "[NeMo I 2022-07-25 21:52:36 features:200] PADDING: 16\n",
      "[NeMo I 2022-07-25 21:52:38 save_restore_connector:243] Model EncDecCTCModel was successfully restored from /root/.cache/torch/NeMo/NeMo_1.10.0/QuartzNet15x5Base-En/2b066be39e9294d7100fb176ec817722/QuartzNet15x5Base-En.nemo.\n"
     ]
    },
    {
     "data": {
      "application/vnd.jupyter.widget-view+json": {
       "model_id": "de68f815339b4f00a1ffa52618b3945d",
       "version_major": 2,
       "version_minor": 0
      },
      "text/plain": [
       "Transcribing:   0%|          | 0/1 [00:00<?, ?it/s]"
      ]
     },
     "metadata": {},
     "output_type": "display_data"
    },
    {
     "name": "stdout",
     "output_type": "stream",
     "text": [
      "[NeMo I 2022-07-25 21:52:38 speaker_utils:82] Number of files to diarize: 1\n",
      "[NeMo I 2022-07-25 21:52:38 clustering_diarizer:153] Loading pretrained titanet_large model from NGC\n",
      "[NeMo I 2022-07-25 21:52:38 cloud:56] Found existing object /root/.cache/torch/NeMo/NeMo_1.10.0/titanet-l/492c0ab8416139171dc18c21879a9e45/titanet-l.nemo.\n",
      "[NeMo I 2022-07-25 21:52:38 cloud:62] Re-using file from: /root/.cache/torch/NeMo/NeMo_1.10.0/titanet-l/492c0ab8416139171dc18c21879a9e45/titanet-l.nemo\n",
      "[NeMo I 2022-07-25 21:52:38 common:789] Instantiating model from pre-trained checkpoint\n"
     ]
    },
    {
     "name": "stderr",
     "output_type": "stream",
     "text": [
      "[NeMo W 2022-07-25 21:52:39 modelPT:148] If you intend to do training or fine-tuning, please call the ModelPT.setup_training_data() method and provide a valid configuration file to setup the train data loader.\n",
      "    Train config : \n",
      "    manifest_filepath: /manifests/combined_fisher_swbd_voxceleb12_librispeech/train.json\n",
      "    sample_rate: 16000\n",
      "    labels: null\n",
      "    batch_size: 64\n",
      "    shuffle: true\n",
      "    time_length: 3\n",
      "    is_tarred: false\n",
      "    tarred_audio_filepaths: null\n",
      "    tarred_shard_strategy: scatter\n",
      "    augmentor:\n",
      "      noise:\n",
      "        manifest_path: /manifests/noise/rir_noise_manifest.json\n",
      "        prob: 0.5\n",
      "        min_snr_db: 0\n",
      "        max_snr_db: 15\n",
      "      speed:\n",
      "        prob: 0.5\n",
      "        sr: 16000\n",
      "        resample_type: kaiser_fast\n",
      "        min_speed_rate: 0.95\n",
      "        max_speed_rate: 1.05\n",
      "    num_workers: 15\n",
      "    pin_memory: true\n",
      "    \n",
      "[NeMo W 2022-07-25 21:52:39 modelPT:155] If you intend to do validation, please call the ModelPT.setup_validation_data() or ModelPT.setup_multiple_validation_data() method and provide a valid configuration file to setup the validation data loader(s). \n",
      "    Validation config : \n",
      "    manifest_filepath: /manifests/combined_fisher_swbd_voxceleb12_librispeech/dev.json\n",
      "    sample_rate: 16000\n",
      "    labels: null\n",
      "    batch_size: 128\n",
      "    shuffle: false\n",
      "    time_length: 3\n",
      "    num_workers: 15\n",
      "    pin_memory: true\n",
      "    \n"
     ]
    },
    {
     "name": "stdout",
     "output_type": "stream",
     "text": [
      "[NeMo I 2022-07-25 21:52:39 features:200] PADDING: 16\n",
      "[NeMo I 2022-07-25 21:52:40 label_models:100] loss is Angular Softmax\n",
      "[NeMo I 2022-07-25 21:52:40 save_restore_connector:243] Model EncDecSpeakerLabelModel was successfully restored from /root/.cache/torch/NeMo/NeMo_1.10.0/titanet-l/492c0ab8416139171dc18c21879a9e45/titanet-l.nemo.\n",
      "[NeMo I 2022-07-25 21:52:40 speaker_utils:82] Number of files to diarize: 1\n",
      "[NeMo I 2022-07-25 21:52:40 clustering_diarizer:271] Subsegmentation for embedding extraction: scale0, /home/DATA/amit_kesari/SD1/NeMo-ASR_Diar/data/voxconverse/speaker_outputs/subsegments_scale0.json\n",
      "[NeMo I 2022-07-25 21:52:40 clustering_diarizer:325] Extracting embeddings for Diarization\n",
      "[NeMo I 2022-07-25 21:52:40 collections:289] Filtered duration for loading collection is 0.000000.\n",
      "[NeMo I 2022-07-25 21:52:40 collections:293] # 1319 files loaded accounting to # 1 labels\n"
     ]
    },
    {
     "name": "stderr",
     "output_type": "stream",
     "text": [
      "100%|██████████| 21/21 [00:03<00:00,  5.45it/s]\n",
      "100%|██████████| 1/1 [00:10<00:00, 10.27s/it]\n"
     ]
    },
    {
     "name": "stdout",
     "output_type": "stream",
     "text": [
      "[NeMo I 2022-07-25 21:52:56 speaker_utils:460] Cumulative Results for collar 0.25 sec and ignore_overlap True: \n",
      "     FA: 0.0282\t MISS 0.2556\t                 Diarization ER: 0.2838\t, Confusion ER:0.0000\n",
      "[NeMo I 2022-07-25 21:52:56 clustering_diarizer:444] Outputs are saved in /home/DATA/amit_kesari/SD1/NeMo-ASR_Diar/data/voxconverse directory\n",
      "\n",
      "\n",
      "Diar score:  (<pyannote.metrics.diarization.DiarizationErrorRate object at 0x7fa058199160>, {'xlyov': {'speaker_0': 'spk00'}})\n",
      "Diarization error rate (DER) = 29.1%\n",
      "\n",
      "\n",
      "voxconverse_label:  xmyyy\n",
      "num_speakers:  5\n",
      "[NeMo I 2022-07-25 21:52:57 speaker_utils:82] Number of files to diarize: 1\n",
      "[NeMo I 2022-07-25 21:52:57 cloud:56] Found existing object /root/.cache/torch/NeMo/NeMo_1.10.0/QuartzNet15x5Base-En/2b066be39e9294d7100fb176ec817722/QuartzNet15x5Base-En.nemo.\n",
      "[NeMo I 2022-07-25 21:52:57 cloud:62] Re-using file from: /root/.cache/torch/NeMo/NeMo_1.10.0/QuartzNet15x5Base-En/2b066be39e9294d7100fb176ec817722/QuartzNet15x5Base-En.nemo\n",
      "[NeMo I 2022-07-25 21:52:57 common:789] Instantiating model from pre-trained checkpoint\n",
      "[NeMo I 2022-07-25 21:52:58 features:200] PADDING: 16\n",
      "[NeMo I 2022-07-25 21:52:59 save_restore_connector:243] Model EncDecCTCModel was successfully restored from /root/.cache/torch/NeMo/NeMo_1.10.0/QuartzNet15x5Base-En/2b066be39e9294d7100fb176ec817722/QuartzNet15x5Base-En.nemo.\n"
     ]
    },
    {
     "data": {
      "application/vnd.jupyter.widget-view+json": {
       "model_id": "0f07c51599ff44d78b7421a9829efc67",
       "version_major": 2,
       "version_minor": 0
      },
      "text/plain": [
       "Transcribing:   0%|          | 0/1 [00:00<?, ?it/s]"
      ]
     },
     "metadata": {},
     "output_type": "display_data"
    },
    {
     "name": "stdout",
     "output_type": "stream",
     "text": [
      "[NeMo I 2022-07-25 21:53:00 speaker_utils:82] Number of files to diarize: 1\n",
      "[NeMo I 2022-07-25 21:53:00 clustering_diarizer:153] Loading pretrained titanet_large model from NGC\n",
      "[NeMo I 2022-07-25 21:53:00 cloud:56] Found existing object /root/.cache/torch/NeMo/NeMo_1.10.0/titanet-l/492c0ab8416139171dc18c21879a9e45/titanet-l.nemo.\n",
      "[NeMo I 2022-07-25 21:53:00 cloud:62] Re-using file from: /root/.cache/torch/NeMo/NeMo_1.10.0/titanet-l/492c0ab8416139171dc18c21879a9e45/titanet-l.nemo\n",
      "[NeMo I 2022-07-25 21:53:00 common:789] Instantiating model from pre-trained checkpoint\n"
     ]
    },
    {
     "name": "stderr",
     "output_type": "stream",
     "text": [
      "[NeMo W 2022-07-25 21:53:01 modelPT:148] If you intend to do training or fine-tuning, please call the ModelPT.setup_training_data() method and provide a valid configuration file to setup the train data loader.\n",
      "    Train config : \n",
      "    manifest_filepath: /manifests/combined_fisher_swbd_voxceleb12_librispeech/train.json\n",
      "    sample_rate: 16000\n",
      "    labels: null\n",
      "    batch_size: 64\n",
      "    shuffle: true\n",
      "    time_length: 3\n",
      "    is_tarred: false\n",
      "    tarred_audio_filepaths: null\n",
      "    tarred_shard_strategy: scatter\n",
      "    augmentor:\n",
      "      noise:\n",
      "        manifest_path: /manifests/noise/rir_noise_manifest.json\n",
      "        prob: 0.5\n",
      "        min_snr_db: 0\n",
      "        max_snr_db: 15\n",
      "      speed:\n",
      "        prob: 0.5\n",
      "        sr: 16000\n",
      "        resample_type: kaiser_fast\n",
      "        min_speed_rate: 0.95\n",
      "        max_speed_rate: 1.05\n",
      "    num_workers: 15\n",
      "    pin_memory: true\n",
      "    \n",
      "[NeMo W 2022-07-25 21:53:01 modelPT:155] If you intend to do validation, please call the ModelPT.setup_validation_data() or ModelPT.setup_multiple_validation_data() method and provide a valid configuration file to setup the validation data loader(s). \n",
      "    Validation config : \n",
      "    manifest_filepath: /manifests/combined_fisher_swbd_voxceleb12_librispeech/dev.json\n",
      "    sample_rate: 16000\n",
      "    labels: null\n",
      "    batch_size: 128\n",
      "    shuffle: false\n",
      "    time_length: 3\n",
      "    num_workers: 15\n",
      "    pin_memory: true\n",
      "    \n"
     ]
    },
    {
     "name": "stdout",
     "output_type": "stream",
     "text": [
      "[NeMo I 2022-07-25 21:53:01 features:200] PADDING: 16\n",
      "[NeMo I 2022-07-25 21:53:01 label_models:100] loss is Angular Softmax\n",
      "[NeMo I 2022-07-25 21:53:02 save_restore_connector:243] Model EncDecSpeakerLabelModel was successfully restored from /root/.cache/torch/NeMo/NeMo_1.10.0/titanet-l/492c0ab8416139171dc18c21879a9e45/titanet-l.nemo.\n",
      "[NeMo I 2022-07-25 21:53:02 speaker_utils:82] Number of files to diarize: 1\n",
      "[NeMo I 2022-07-25 21:53:02 clustering_diarizer:271] Subsegmentation for embedding extraction: scale0, /home/DATA/amit_kesari/SD1/NeMo-ASR_Diar/data/voxconverse/speaker_outputs/subsegments_scale0.json\n",
      "[NeMo I 2022-07-25 21:53:02 clustering_diarizer:325] Extracting embeddings for Diarization\n",
      "[NeMo I 2022-07-25 21:53:02 collections:289] Filtered duration for loading collection is 0.000000.\n",
      "[NeMo I 2022-07-25 21:53:02 collections:293] # 563 files loaded accounting to # 1 labels\n"
     ]
    },
    {
     "name": "stderr",
     "output_type": "stream",
     "text": [
      "100%|██████████| 9/9 [00:01<00:00,  4.89it/s]\n",
      "100%|██████████| 1/1 [00:14<00:00, 14.39s/it]"
     ]
    },
    {
     "name": "stdout",
     "output_type": "stream",
     "text": [
      "[NeMo I 2022-07-25 21:53:18 speaker_utils:460] Cumulative Results for collar 0.25 sec and ignore_overlap True: \n",
      "     FA: 0.6660\t MISS 0.1284\t                 Diarization ER: 1.0211\t, Confusion ER:0.2267\n",
      "[NeMo I 2022-07-25 21:53:18 clustering_diarizer:444] Outputs are saved in /home/DATA/amit_kesari/SD1/NeMo-ASR_Diar/data/voxconverse directory\n"
     ]
    },
    {
     "name": "stderr",
     "output_type": "stream",
     "text": [
      "\n"
     ]
    },
    {
     "name": "stdout",
     "output_type": "stream",
     "text": [
      "\n",
      "\n",
      "Diar score:  (<pyannote.metrics.diarization.DiarizationErrorRate object at 0x7fa0483b7280>, {'xmyyy': {'speaker_0': 'spk00', 'speaker_1': 'spk03', 'speaker_3': 'spk01', 'speaker_4': 'spk02'}})\n",
      "Diarization error rate (DER) = 103.6%\n",
      "\n",
      "\n",
      "voxconverse_label:  xqxkt\n",
      "num_speakers:  7\n",
      "[NeMo I 2022-07-25 21:53:18 speaker_utils:82] Number of files to diarize: 1\n",
      "[NeMo I 2022-07-25 21:53:18 cloud:56] Found existing object /root/.cache/torch/NeMo/NeMo_1.10.0/QuartzNet15x5Base-En/2b066be39e9294d7100fb176ec817722/QuartzNet15x5Base-En.nemo.\n",
      "[NeMo I 2022-07-25 21:53:18 cloud:62] Re-using file from: /root/.cache/torch/NeMo/NeMo_1.10.0/QuartzNet15x5Base-En/2b066be39e9294d7100fb176ec817722/QuartzNet15x5Base-En.nemo\n",
      "[NeMo I 2022-07-25 21:53:18 common:789] Instantiating model from pre-trained checkpoint\n",
      "[NeMo I 2022-07-25 21:53:19 features:200] PADDING: 16\n",
      "[NeMo I 2022-07-25 21:53:21 save_restore_connector:243] Model EncDecCTCModel was successfully restored from /root/.cache/torch/NeMo/NeMo_1.10.0/QuartzNet15x5Base-En/2b066be39e9294d7100fb176ec817722/QuartzNet15x5Base-En.nemo.\n"
     ]
    },
    {
     "data": {
      "application/vnd.jupyter.widget-view+json": {
       "model_id": "d282a6791fca41799bbc76ae87f9b0bd",
       "version_major": 2,
       "version_minor": 0
      },
      "text/plain": [
       "Transcribing:   0%|          | 0/1 [00:00<?, ?it/s]"
      ]
     },
     "metadata": {},
     "output_type": "display_data"
    },
    {
     "name": "stdout",
     "output_type": "stream",
     "text": [
      "[NeMo I 2022-07-25 21:53:22 speaker_utils:82] Number of files to diarize: 1\n",
      "[NeMo I 2022-07-25 21:53:22 clustering_diarizer:153] Loading pretrained titanet_large model from NGC\n",
      "[NeMo I 2022-07-25 21:53:22 cloud:56] Found existing object /root/.cache/torch/NeMo/NeMo_1.10.0/titanet-l/492c0ab8416139171dc18c21879a9e45/titanet-l.nemo.\n",
      "[NeMo I 2022-07-25 21:53:22 cloud:62] Re-using file from: /root/.cache/torch/NeMo/NeMo_1.10.0/titanet-l/492c0ab8416139171dc18c21879a9e45/titanet-l.nemo\n",
      "[NeMo I 2022-07-25 21:53:22 common:789] Instantiating model from pre-trained checkpoint\n"
     ]
    },
    {
     "name": "stderr",
     "output_type": "stream",
     "text": [
      "[NeMo W 2022-07-25 21:53:23 modelPT:148] If you intend to do training or fine-tuning, please call the ModelPT.setup_training_data() method and provide a valid configuration file to setup the train data loader.\n",
      "    Train config : \n",
      "    manifest_filepath: /manifests/combined_fisher_swbd_voxceleb12_librispeech/train.json\n",
      "    sample_rate: 16000\n",
      "    labels: null\n",
      "    batch_size: 64\n",
      "    shuffle: true\n",
      "    time_length: 3\n",
      "    is_tarred: false\n",
      "    tarred_audio_filepaths: null\n",
      "    tarred_shard_strategy: scatter\n",
      "    augmentor:\n",
      "      noise:\n",
      "        manifest_path: /manifests/noise/rir_noise_manifest.json\n",
      "        prob: 0.5\n",
      "        min_snr_db: 0\n",
      "        max_snr_db: 15\n",
      "      speed:\n",
      "        prob: 0.5\n",
      "        sr: 16000\n",
      "        resample_type: kaiser_fast\n",
      "        min_speed_rate: 0.95\n",
      "        max_speed_rate: 1.05\n",
      "    num_workers: 15\n",
      "    pin_memory: true\n",
      "    \n",
      "[NeMo W 2022-07-25 21:53:23 modelPT:155] If you intend to do validation, please call the ModelPT.setup_validation_data() or ModelPT.setup_multiple_validation_data() method and provide a valid configuration file to setup the validation data loader(s). \n",
      "    Validation config : \n",
      "    manifest_filepath: /manifests/combined_fisher_swbd_voxceleb12_librispeech/dev.json\n",
      "    sample_rate: 16000\n",
      "    labels: null\n",
      "    batch_size: 128\n",
      "    shuffle: false\n",
      "    time_length: 3\n",
      "    num_workers: 15\n",
      "    pin_memory: true\n",
      "    \n"
     ]
    },
    {
     "name": "stdout",
     "output_type": "stream",
     "text": [
      "[NeMo I 2022-07-25 21:53:23 features:200] PADDING: 16\n",
      "[NeMo I 2022-07-25 21:53:24 label_models:100] loss is Angular Softmax\n",
      "[NeMo I 2022-07-25 21:53:24 save_restore_connector:243] Model EncDecSpeakerLabelModel was successfully restored from /root/.cache/torch/NeMo/NeMo_1.10.0/titanet-l/492c0ab8416139171dc18c21879a9e45/titanet-l.nemo.\n",
      "[NeMo I 2022-07-25 21:53:24 speaker_utils:82] Number of files to diarize: 1\n",
      "[NeMo I 2022-07-25 21:53:24 clustering_diarizer:271] Subsegmentation for embedding extraction: scale0, /home/DATA/amit_kesari/SD1/NeMo-ASR_Diar/data/voxconverse/speaker_outputs/subsegments_scale0.json\n",
      "[NeMo I 2022-07-25 21:53:24 clustering_diarizer:325] Extracting embeddings for Diarization\n",
      "[NeMo I 2022-07-25 21:53:24 collections:289] Filtered duration for loading collection is 0.000000.\n",
      "[NeMo I 2022-07-25 21:53:24 collections:293] # 2357 files loaded accounting to # 1 labels\n"
     ]
    },
    {
     "name": "stderr",
     "output_type": "stream",
     "text": [
      "100%|██████████| 37/37 [00:06<00:00,  5.59it/s]\n",
      "100%|██████████| 1/1 [00:11<00:00, 11.69s/it]\n"
     ]
    },
    {
     "name": "stdout",
     "output_type": "stream",
     "text": [
      "[NeMo I 2022-07-25 21:53:47 speaker_utils:460] Cumulative Results for collar 0.25 sec and ignore_overlap True: \n",
      "     FA: 0.0446\t MISS 0.2562\t                 Diarization ER: 0.4435\t, Confusion ER:0.1427\n",
      "[NeMo I 2022-07-25 21:53:47 clustering_diarizer:444] Outputs are saved in /home/DATA/amit_kesari/SD1/NeMo-ASR_Diar/data/voxconverse directory\n",
      "\n",
      "\n",
      "Diar score:  (<pyannote.metrics.diarization.DiarizationErrorRate object at 0x7fa048867df0>, {'xqxkt': {'speaker_0': 'spk02', 'speaker_1': 'spk03', 'speaker_2': 'spk05', 'speaker_3': 'spk04', 'speaker_4': 'spk01', 'speaker_5': 'spk00', 'speaker_6': 'spk06'}})\n",
      "Diarization error rate (DER) = 46.2%\n",
      "\n",
      "\n",
      "voxconverse_label:  xtdcl\n",
      "num_speakers:  2\n",
      "[NeMo I 2022-07-25 21:53:51 speaker_utils:82] Number of files to diarize: 1\n",
      "[NeMo I 2022-07-25 21:53:51 cloud:56] Found existing object /root/.cache/torch/NeMo/NeMo_1.10.0/QuartzNet15x5Base-En/2b066be39e9294d7100fb176ec817722/QuartzNet15x5Base-En.nemo.\n",
      "[NeMo I 2022-07-25 21:53:51 cloud:62] Re-using file from: /root/.cache/torch/NeMo/NeMo_1.10.0/QuartzNet15x5Base-En/2b066be39e9294d7100fb176ec817722/QuartzNet15x5Base-En.nemo\n",
      "[NeMo I 2022-07-25 21:53:51 common:789] Instantiating model from pre-trained checkpoint\n",
      "[NeMo I 2022-07-25 21:53:52 features:200] PADDING: 16\n",
      "[NeMo I 2022-07-25 21:53:53 save_restore_connector:243] Model EncDecCTCModel was successfully restored from /root/.cache/torch/NeMo/NeMo_1.10.0/QuartzNet15x5Base-En/2b066be39e9294d7100fb176ec817722/QuartzNet15x5Base-En.nemo.\n"
     ]
    },
    {
     "data": {
      "application/vnd.jupyter.widget-view+json": {
       "model_id": "84f741fe47de4a519729a04032b6c820",
       "version_major": 2,
       "version_minor": 0
      },
      "text/plain": [
       "Transcribing:   0%|          | 0/1 [00:00<?, ?it/s]"
      ]
     },
     "metadata": {},
     "output_type": "display_data"
    },
    {
     "name": "stdout",
     "output_type": "stream",
     "text": [
      "[NeMo I 2022-07-25 21:53:54 speaker_utils:82] Number of files to diarize: 1\n",
      "[NeMo I 2022-07-25 21:53:54 clustering_diarizer:153] Loading pretrained titanet_large model from NGC\n",
      "[NeMo I 2022-07-25 21:53:54 cloud:56] Found existing object /root/.cache/torch/NeMo/NeMo_1.10.0/titanet-l/492c0ab8416139171dc18c21879a9e45/titanet-l.nemo.\n",
      "[NeMo I 2022-07-25 21:53:54 cloud:62] Re-using file from: /root/.cache/torch/NeMo/NeMo_1.10.0/titanet-l/492c0ab8416139171dc18c21879a9e45/titanet-l.nemo\n",
      "[NeMo I 2022-07-25 21:53:54 common:789] Instantiating model from pre-trained checkpoint\n"
     ]
    },
    {
     "name": "stderr",
     "output_type": "stream",
     "text": [
      "[NeMo W 2022-07-25 21:53:55 modelPT:148] If you intend to do training or fine-tuning, please call the ModelPT.setup_training_data() method and provide a valid configuration file to setup the train data loader.\n",
      "    Train config : \n",
      "    manifest_filepath: /manifests/combined_fisher_swbd_voxceleb12_librispeech/train.json\n",
      "    sample_rate: 16000\n",
      "    labels: null\n",
      "    batch_size: 64\n",
      "    shuffle: true\n",
      "    time_length: 3\n",
      "    is_tarred: false\n",
      "    tarred_audio_filepaths: null\n",
      "    tarred_shard_strategy: scatter\n",
      "    augmentor:\n",
      "      noise:\n",
      "        manifest_path: /manifests/noise/rir_noise_manifest.json\n",
      "        prob: 0.5\n",
      "        min_snr_db: 0\n",
      "        max_snr_db: 15\n",
      "      speed:\n",
      "        prob: 0.5\n",
      "        sr: 16000\n",
      "        resample_type: kaiser_fast\n",
      "        min_speed_rate: 0.95\n",
      "        max_speed_rate: 1.05\n",
      "    num_workers: 15\n",
      "    pin_memory: true\n",
      "    \n",
      "[NeMo W 2022-07-25 21:53:55 modelPT:155] If you intend to do validation, please call the ModelPT.setup_validation_data() or ModelPT.setup_multiple_validation_data() method and provide a valid configuration file to setup the validation data loader(s). \n",
      "    Validation config : \n",
      "    manifest_filepath: /manifests/combined_fisher_swbd_voxceleb12_librispeech/dev.json\n",
      "    sample_rate: 16000\n",
      "    labels: null\n",
      "    batch_size: 128\n",
      "    shuffle: false\n",
      "    time_length: 3\n",
      "    num_workers: 15\n",
      "    pin_memory: true\n",
      "    \n"
     ]
    },
    {
     "name": "stdout",
     "output_type": "stream",
     "text": [
      "[NeMo I 2022-07-25 21:53:55 features:200] PADDING: 16\n",
      "[NeMo I 2022-07-25 21:53:55 label_models:100] loss is Angular Softmax\n",
      "[NeMo I 2022-07-25 21:53:55 save_restore_connector:243] Model EncDecSpeakerLabelModel was successfully restored from /root/.cache/torch/NeMo/NeMo_1.10.0/titanet-l/492c0ab8416139171dc18c21879a9e45/titanet-l.nemo.\n",
      "[NeMo I 2022-07-25 21:53:56 speaker_utils:82] Number of files to diarize: 1\n",
      "[NeMo I 2022-07-25 21:53:56 clustering_diarizer:271] Subsegmentation for embedding extraction: scale0, /home/DATA/amit_kesari/SD1/NeMo-ASR_Diar/data/voxconverse/speaker_outputs/subsegments_scale0.json\n",
      "[NeMo I 2022-07-25 21:53:56 clustering_diarizer:325] Extracting embeddings for Diarization\n",
      "[NeMo I 2022-07-25 21:53:56 collections:289] Filtered duration for loading collection is 0.000000.\n",
      "[NeMo I 2022-07-25 21:53:56 collections:293] # 475 files loaded accounting to # 1 labels\n"
     ]
    },
    {
     "name": "stderr",
     "output_type": "stream",
     "text": [
      "100%|██████████| 8/8 [00:01<00:00,  4.79it/s]\n",
      "100%|██████████| 1/1 [00:11<00:00, 11.81s/it]\n"
     ]
    },
    {
     "name": "stdout",
     "output_type": "stream",
     "text": [
      "[NeMo I 2022-07-25 21:54:10 speaker_utils:460] Cumulative Results for collar 0.25 sec and ignore_overlap True: \n",
      "     FA: 0.9287\t MISS 0.2117\t                 Diarization ER: 1.2427\t, Confusion ER:0.1023\n",
      "[NeMo I 2022-07-25 21:54:10 clustering_diarizer:444] Outputs are saved in /home/DATA/amit_kesari/SD1/NeMo-ASR_Diar/data/voxconverse directory\n",
      "\n",
      "\n",
      "Diar score:  (<pyannote.metrics.diarization.DiarizationErrorRate object at 0x7fa157d51fd0>, {'xtdcl': {'speaker_0': 'spk00', 'speaker_1': 'spk01'}})\n",
      "Diarization error rate (DER) = 120.5%\n",
      "\n",
      "\n",
      "voxconverse_label:  xtzoq\n",
      "num_speakers:  11\n",
      "[NeMo I 2022-07-25 21:54:10 speaker_utils:82] Number of files to diarize: 1\n",
      "[NeMo I 2022-07-25 21:54:10 cloud:56] Found existing object /root/.cache/torch/NeMo/NeMo_1.10.0/QuartzNet15x5Base-En/2b066be39e9294d7100fb176ec817722/QuartzNet15x5Base-En.nemo.\n",
      "[NeMo I 2022-07-25 21:54:10 cloud:62] Re-using file from: /root/.cache/torch/NeMo/NeMo_1.10.0/QuartzNet15x5Base-En/2b066be39e9294d7100fb176ec817722/QuartzNet15x5Base-En.nemo\n",
      "[NeMo I 2022-07-25 21:54:10 common:789] Instantiating model from pre-trained checkpoint\n",
      "[NeMo I 2022-07-25 21:54:11 features:200] PADDING: 16\n",
      "[NeMo I 2022-07-25 21:54:12 save_restore_connector:243] Model EncDecCTCModel was successfully restored from /root/.cache/torch/NeMo/NeMo_1.10.0/QuartzNet15x5Base-En/2b066be39e9294d7100fb176ec817722/QuartzNet15x5Base-En.nemo.\n"
     ]
    },
    {
     "data": {
      "application/vnd.jupyter.widget-view+json": {
       "model_id": "771a98967b2d44f3b77c226886f44403",
       "version_major": 2,
       "version_minor": 0
      },
      "text/plain": [
       "Transcribing:   0%|          | 0/1 [00:00<?, ?it/s]"
      ]
     },
     "metadata": {},
     "output_type": "display_data"
    },
    {
     "name": "stdout",
     "output_type": "stream",
     "text": [
      "[NeMo I 2022-07-25 21:54:13 speaker_utils:82] Number of files to diarize: 1\n",
      "[NeMo I 2022-07-25 21:54:13 clustering_diarizer:153] Loading pretrained titanet_large model from NGC\n",
      "[NeMo I 2022-07-25 21:54:13 cloud:56] Found existing object /root/.cache/torch/NeMo/NeMo_1.10.0/titanet-l/492c0ab8416139171dc18c21879a9e45/titanet-l.nemo.\n",
      "[NeMo I 2022-07-25 21:54:13 cloud:62] Re-using file from: /root/.cache/torch/NeMo/NeMo_1.10.0/titanet-l/492c0ab8416139171dc18c21879a9e45/titanet-l.nemo\n",
      "[NeMo I 2022-07-25 21:54:13 common:789] Instantiating model from pre-trained checkpoint\n"
     ]
    },
    {
     "name": "stderr",
     "output_type": "stream",
     "text": [
      "[NeMo W 2022-07-25 21:54:13 modelPT:148] If you intend to do training or fine-tuning, please call the ModelPT.setup_training_data() method and provide a valid configuration file to setup the train data loader.\n",
      "    Train config : \n",
      "    manifest_filepath: /manifests/combined_fisher_swbd_voxceleb12_librispeech/train.json\n",
      "    sample_rate: 16000\n",
      "    labels: null\n",
      "    batch_size: 64\n",
      "    shuffle: true\n",
      "    time_length: 3\n",
      "    is_tarred: false\n",
      "    tarred_audio_filepaths: null\n",
      "    tarred_shard_strategy: scatter\n",
      "    augmentor:\n",
      "      noise:\n",
      "        manifest_path: /manifests/noise/rir_noise_manifest.json\n",
      "        prob: 0.5\n",
      "        min_snr_db: 0\n",
      "        max_snr_db: 15\n",
      "      speed:\n",
      "        prob: 0.5\n",
      "        sr: 16000\n",
      "        resample_type: kaiser_fast\n",
      "        min_speed_rate: 0.95\n",
      "        max_speed_rate: 1.05\n",
      "    num_workers: 15\n",
      "    pin_memory: true\n",
      "    \n",
      "[NeMo W 2022-07-25 21:54:13 modelPT:155] If you intend to do validation, please call the ModelPT.setup_validation_data() or ModelPT.setup_multiple_validation_data() method and provide a valid configuration file to setup the validation data loader(s). \n",
      "    Validation config : \n",
      "    manifest_filepath: /manifests/combined_fisher_swbd_voxceleb12_librispeech/dev.json\n",
      "    sample_rate: 16000\n",
      "    labels: null\n",
      "    batch_size: 128\n",
      "    shuffle: false\n",
      "    time_length: 3\n",
      "    num_workers: 15\n",
      "    pin_memory: true\n",
      "    \n"
     ]
    },
    {
     "name": "stdout",
     "output_type": "stream",
     "text": [
      "[NeMo I 2022-07-25 21:54:13 features:200] PADDING: 16\n",
      "[NeMo I 2022-07-25 21:54:14 label_models:100] loss is Angular Softmax\n",
      "[NeMo I 2022-07-25 21:54:14 save_restore_connector:243] Model EncDecSpeakerLabelModel was successfully restored from /root/.cache/torch/NeMo/NeMo_1.10.0/titanet-l/492c0ab8416139171dc18c21879a9e45/titanet-l.nemo.\n",
      "[NeMo I 2022-07-25 21:54:14 speaker_utils:82] Number of files to diarize: 1\n",
      "[NeMo I 2022-07-25 21:54:14 clustering_diarizer:271] Subsegmentation for embedding extraction: scale0, /home/DATA/amit_kesari/SD1/NeMo-ASR_Diar/data/voxconverse/speaker_outputs/subsegments_scale0.json\n",
      "[NeMo I 2022-07-25 21:54:14 clustering_diarizer:325] Extracting embeddings for Diarization\n",
      "[NeMo I 2022-07-25 21:54:14 collections:289] Filtered duration for loading collection is 0.000000.\n",
      "[NeMo I 2022-07-25 21:54:14 collections:293] # 317 files loaded accounting to # 1 labels\n"
     ]
    },
    {
     "name": "stderr",
     "output_type": "stream",
     "text": [
      "100%|██████████| 5/5 [00:01<00:00,  4.06it/s]\n",
      "100%|██████████| 1/1 [00:08<00:00,  8.02s/it]"
     ]
    },
    {
     "name": "stdout",
     "output_type": "stream",
     "text": [
      "[NeMo I 2022-07-25 21:54:24 speaker_utils:460] Cumulative Results for collar 0.25 sec and ignore_overlap True: \n",
      "     FA: 0.0687\t MISS 0.2116\t                 Diarization ER: 0.4436\t, Confusion ER:0.1633\n",
      "[NeMo I 2022-07-25 21:54:24 clustering_diarizer:444] Outputs are saved in /home/DATA/amit_kesari/SD1/NeMo-ASR_Diar/data/voxconverse directory\n"
     ]
    },
    {
     "name": "stderr",
     "output_type": "stream",
     "text": [
      "\n"
     ]
    },
    {
     "name": "stdout",
     "output_type": "stream",
     "text": [
      "\n",
      "\n",
      "Diar score:  (<pyannote.metrics.diarization.DiarizationErrorRate object at 0x7fa157d93bb0>, {'xtzoq': {'speaker_0': 'spk00', 'speaker_1': 'spk10', 'speaker_10': 'spk03', 'speaker_2': 'spk09', 'speaker_3': 'spk04', 'speaker_4': 'spk08', 'speaker_5': 'spk01', 'speaker_6': 'spk07', 'speaker_7': 'spk05', 'speaker_8': 'spk06', 'speaker_9': 'spk02'}})\n",
      "Diarization error rate (DER) = 52.9%\n",
      "\n",
      "\n",
      "voxconverse_label:  xvxwv\n",
      "num_speakers:  6\n",
      "[NeMo I 2022-07-25 21:54:24 speaker_utils:82] Number of files to diarize: 1\n",
      "[NeMo I 2022-07-25 21:54:24 cloud:56] Found existing object /root/.cache/torch/NeMo/NeMo_1.10.0/QuartzNet15x5Base-En/2b066be39e9294d7100fb176ec817722/QuartzNet15x5Base-En.nemo.\n",
      "[NeMo I 2022-07-25 21:54:24 cloud:62] Re-using file from: /root/.cache/torch/NeMo/NeMo_1.10.0/QuartzNet15x5Base-En/2b066be39e9294d7100fb176ec817722/QuartzNet15x5Base-En.nemo\n",
      "[NeMo I 2022-07-25 21:54:24 common:789] Instantiating model from pre-trained checkpoint\n",
      "[NeMo I 2022-07-25 21:54:25 features:200] PADDING: 16\n",
      "[NeMo I 2022-07-25 21:54:26 save_restore_connector:243] Model EncDecCTCModel was successfully restored from /root/.cache/torch/NeMo/NeMo_1.10.0/QuartzNet15x5Base-En/2b066be39e9294d7100fb176ec817722/QuartzNet15x5Base-En.nemo.\n"
     ]
    },
    {
     "data": {
      "application/vnd.jupyter.widget-view+json": {
       "model_id": "6862dbf22b17420b8c223acfc6234520",
       "version_major": 2,
       "version_minor": 0
      },
      "text/plain": [
       "Transcribing:   0%|          | 0/1 [00:00<?, ?it/s]"
      ]
     },
     "metadata": {},
     "output_type": "display_data"
    },
    {
     "name": "stdout",
     "output_type": "stream",
     "text": [
      "[NeMo I 2022-07-25 21:54:27 speaker_utils:82] Number of files to diarize: 1\n",
      "[NeMo I 2022-07-25 21:54:27 clustering_diarizer:153] Loading pretrained titanet_large model from NGC\n",
      "[NeMo I 2022-07-25 21:54:27 cloud:56] Found existing object /root/.cache/torch/NeMo/NeMo_1.10.0/titanet-l/492c0ab8416139171dc18c21879a9e45/titanet-l.nemo.\n",
      "[NeMo I 2022-07-25 21:54:27 cloud:62] Re-using file from: /root/.cache/torch/NeMo/NeMo_1.10.0/titanet-l/492c0ab8416139171dc18c21879a9e45/titanet-l.nemo\n",
      "[NeMo I 2022-07-25 21:54:27 common:789] Instantiating model from pre-trained checkpoint\n"
     ]
    },
    {
     "name": "stderr",
     "output_type": "stream",
     "text": [
      "[NeMo W 2022-07-25 21:54:28 modelPT:148] If you intend to do training or fine-tuning, please call the ModelPT.setup_training_data() method and provide a valid configuration file to setup the train data loader.\n",
      "    Train config : \n",
      "    manifest_filepath: /manifests/combined_fisher_swbd_voxceleb12_librispeech/train.json\n",
      "    sample_rate: 16000\n",
      "    labels: null\n",
      "    batch_size: 64\n",
      "    shuffle: true\n",
      "    time_length: 3\n",
      "    is_tarred: false\n",
      "    tarred_audio_filepaths: null\n",
      "    tarred_shard_strategy: scatter\n",
      "    augmentor:\n",
      "      noise:\n",
      "        manifest_path: /manifests/noise/rir_noise_manifest.json\n",
      "        prob: 0.5\n",
      "        min_snr_db: 0\n",
      "        max_snr_db: 15\n",
      "      speed:\n",
      "        prob: 0.5\n",
      "        sr: 16000\n",
      "        resample_type: kaiser_fast\n",
      "        min_speed_rate: 0.95\n",
      "        max_speed_rate: 1.05\n",
      "    num_workers: 15\n",
      "    pin_memory: true\n",
      "    \n",
      "[NeMo W 2022-07-25 21:54:28 modelPT:155] If you intend to do validation, please call the ModelPT.setup_validation_data() or ModelPT.setup_multiple_validation_data() method and provide a valid configuration file to setup the validation data loader(s). \n",
      "    Validation config : \n",
      "    manifest_filepath: /manifests/combined_fisher_swbd_voxceleb12_librispeech/dev.json\n",
      "    sample_rate: 16000\n",
      "    labels: null\n",
      "    batch_size: 128\n",
      "    shuffle: false\n",
      "    time_length: 3\n",
      "    num_workers: 15\n",
      "    pin_memory: true\n",
      "    \n"
     ]
    },
    {
     "name": "stdout",
     "output_type": "stream",
     "text": [
      "[NeMo I 2022-07-25 21:54:28 features:200] PADDING: 16\n",
      "[NeMo I 2022-07-25 21:54:28 label_models:100] loss is Angular Softmax\n",
      "[NeMo I 2022-07-25 21:54:28 save_restore_connector:243] Model EncDecSpeakerLabelModel was successfully restored from /root/.cache/torch/NeMo/NeMo_1.10.0/titanet-l/492c0ab8416139171dc18c21879a9e45/titanet-l.nemo.\n",
      "[NeMo I 2022-07-25 21:54:28 speaker_utils:82] Number of files to diarize: 1\n",
      "[NeMo I 2022-07-25 21:54:28 clustering_diarizer:271] Subsegmentation for embedding extraction: scale0, /home/DATA/amit_kesari/SD1/NeMo-ASR_Diar/data/voxconverse/speaker_outputs/subsegments_scale0.json\n",
      "[NeMo I 2022-07-25 21:54:28 clustering_diarizer:325] Extracting embeddings for Diarization\n",
      "[NeMo I 2022-07-25 21:54:28 collections:289] Filtered duration for loading collection is 0.000000.\n",
      "[NeMo I 2022-07-25 21:54:28 collections:293] # 513 files loaded accounting to # 1 labels\n"
     ]
    },
    {
     "name": "stderr",
     "output_type": "stream",
     "text": [
      "100%|██████████| 9/9 [00:01<00:00,  5.13it/s]\n",
      "100%|██████████| 1/1 [00:13<00:00, 13.83s/it]\n"
     ]
    },
    {
     "name": "stdout",
     "output_type": "stream",
     "text": [
      "[NeMo I 2022-07-25 21:54:44 speaker_utils:460] Cumulative Results for collar 0.25 sec and ignore_overlap True: \n",
      "     FA: 0.0369\t MISS 0.2255\t                 Diarization ER: 0.3366\t, Confusion ER:0.0742\n",
      "[NeMo I 2022-07-25 21:54:44 clustering_diarizer:444] Outputs are saved in /home/DATA/amit_kesari/SD1/NeMo-ASR_Diar/data/voxconverse directory\n",
      "\n",
      "\n",
      "Diar score:  (<pyannote.metrics.diarization.DiarizationErrorRate object at 0x7fa0504ef0d0>, {'xvxwv': {'speaker_0': 'spk03', 'speaker_1': 'spk00', 'speaker_2': 'spk05', 'speaker_4': 'spk02', 'speaker_5': 'spk04'}})\n",
      "Diarization error rate (DER) = 35.4%\n",
      "\n",
      "\n",
      "voxconverse_label:  ybhwz\n",
      "num_speakers:  8\n",
      "[NeMo I 2022-07-25 21:54:45 speaker_utils:82] Number of files to diarize: 1\n",
      "[NeMo I 2022-07-25 21:54:45 cloud:56] Found existing object /root/.cache/torch/NeMo/NeMo_1.10.0/QuartzNet15x5Base-En/2b066be39e9294d7100fb176ec817722/QuartzNet15x5Base-En.nemo.\n",
      "[NeMo I 2022-07-25 21:54:45 cloud:62] Re-using file from: /root/.cache/torch/NeMo/NeMo_1.10.0/QuartzNet15x5Base-En/2b066be39e9294d7100fb176ec817722/QuartzNet15x5Base-En.nemo\n",
      "[NeMo I 2022-07-25 21:54:45 common:789] Instantiating model from pre-trained checkpoint\n",
      "[NeMo I 2022-07-25 21:54:45 features:200] PADDING: 16\n",
      "[NeMo I 2022-07-25 21:54:47 save_restore_connector:243] Model EncDecCTCModel was successfully restored from /root/.cache/torch/NeMo/NeMo_1.10.0/QuartzNet15x5Base-En/2b066be39e9294d7100fb176ec817722/QuartzNet15x5Base-En.nemo.\n"
     ]
    },
    {
     "data": {
      "application/vnd.jupyter.widget-view+json": {
       "model_id": "9ac70add4736427b81148dff563b2bb6",
       "version_major": 2,
       "version_minor": 0
      },
      "text/plain": [
       "Transcribing:   0%|          | 0/1 [00:00<?, ?it/s]"
      ]
     },
     "metadata": {},
     "output_type": "display_data"
    },
    {
     "name": "stdout",
     "output_type": "stream",
     "text": [
      "[NeMo I 2022-07-25 21:54:47 speaker_utils:82] Number of files to diarize: 1\n",
      "[NeMo I 2022-07-25 21:54:47 clustering_diarizer:153] Loading pretrained titanet_large model from NGC\n",
      "[NeMo I 2022-07-25 21:54:47 cloud:56] Found existing object /root/.cache/torch/NeMo/NeMo_1.10.0/titanet-l/492c0ab8416139171dc18c21879a9e45/titanet-l.nemo.\n",
      "[NeMo I 2022-07-25 21:54:47 cloud:62] Re-using file from: /root/.cache/torch/NeMo/NeMo_1.10.0/titanet-l/492c0ab8416139171dc18c21879a9e45/titanet-l.nemo\n",
      "[NeMo I 2022-07-25 21:54:47 common:789] Instantiating model from pre-trained checkpoint\n"
     ]
    },
    {
     "name": "stderr",
     "output_type": "stream",
     "text": [
      "[NeMo W 2022-07-25 21:54:48 modelPT:148] If you intend to do training or fine-tuning, please call the ModelPT.setup_training_data() method and provide a valid configuration file to setup the train data loader.\n",
      "    Train config : \n",
      "    manifest_filepath: /manifests/combined_fisher_swbd_voxceleb12_librispeech/train.json\n",
      "    sample_rate: 16000\n",
      "    labels: null\n",
      "    batch_size: 64\n",
      "    shuffle: true\n",
      "    time_length: 3\n",
      "    is_tarred: false\n",
      "    tarred_audio_filepaths: null\n",
      "    tarred_shard_strategy: scatter\n",
      "    augmentor:\n",
      "      noise:\n",
      "        manifest_path: /manifests/noise/rir_noise_manifest.json\n",
      "        prob: 0.5\n",
      "        min_snr_db: 0\n",
      "        max_snr_db: 15\n",
      "      speed:\n",
      "        prob: 0.5\n",
      "        sr: 16000\n",
      "        resample_type: kaiser_fast\n",
      "        min_speed_rate: 0.95\n",
      "        max_speed_rate: 1.05\n",
      "    num_workers: 15\n",
      "    pin_memory: true\n",
      "    \n",
      "[NeMo W 2022-07-25 21:54:48 modelPT:155] If you intend to do validation, please call the ModelPT.setup_validation_data() or ModelPT.setup_multiple_validation_data() method and provide a valid configuration file to setup the validation data loader(s). \n",
      "    Validation config : \n",
      "    manifest_filepath: /manifests/combined_fisher_swbd_voxceleb12_librispeech/dev.json\n",
      "    sample_rate: 16000\n",
      "    labels: null\n",
      "    batch_size: 128\n",
      "    shuffle: false\n",
      "    time_length: 3\n",
      "    num_workers: 15\n",
      "    pin_memory: true\n",
      "    \n"
     ]
    },
    {
     "name": "stdout",
     "output_type": "stream",
     "text": [
      "[NeMo I 2022-07-25 21:54:48 features:200] PADDING: 16\n",
      "[NeMo I 2022-07-25 21:54:49 label_models:100] loss is Angular Softmax\n",
      "[NeMo I 2022-07-25 21:54:49 save_restore_connector:243] Model EncDecSpeakerLabelModel was successfully restored from /root/.cache/torch/NeMo/NeMo_1.10.0/titanet-l/492c0ab8416139171dc18c21879a9e45/titanet-l.nemo.\n",
      "[NeMo I 2022-07-25 21:54:49 speaker_utils:82] Number of files to diarize: 1\n",
      "[NeMo I 2022-07-25 21:54:49 clustering_diarizer:271] Subsegmentation for embedding extraction: scale0, /home/DATA/amit_kesari/SD1/NeMo-ASR_Diar/data/voxconverse/speaker_outputs/subsegments_scale0.json\n",
      "[NeMo I 2022-07-25 21:54:49 clustering_diarizer:325] Extracting embeddings for Diarization\n",
      "[NeMo I 2022-07-25 21:54:49 collections:289] Filtered duration for loading collection is 0.000000.\n",
      "[NeMo I 2022-07-25 21:54:49 collections:293] # 1002 files loaded accounting to # 1 labels\n"
     ]
    },
    {
     "name": "stderr",
     "output_type": "stream",
     "text": [
      "100%|██████████| 16/16 [00:03<00:00,  5.28it/s]\n",
      "100%|██████████| 1/1 [00:08<00:00,  8.90s/it]\n"
     ]
    },
    {
     "name": "stdout",
     "output_type": "stream",
     "text": [
      "[NeMo I 2022-07-25 21:55:02 speaker_utils:460] Cumulative Results for collar 0.25 sec and ignore_overlap True: \n",
      "     FA: 0.0049\t MISS 0.2510\t                 Diarization ER: 0.3917\t, Confusion ER:0.1357\n",
      "[NeMo I 2022-07-25 21:55:02 clustering_diarizer:444] Outputs are saved in /home/DATA/amit_kesari/SD1/NeMo-ASR_Diar/data/voxconverse directory\n",
      "\n",
      "\n",
      "Diar score:  (<pyannote.metrics.diarization.DiarizationErrorRate object at 0x7fa0681f0fa0>, {'ybhwz': {'speaker_0': 'spk04', 'speaker_1': 'spk01', 'speaker_2': 'spk03', 'speaker_4': 'spk06', 'speaker_5': 'spk02', 'speaker_6': 'spk07', 'speaker_7': 'spk05'}})\n",
      "Diarization error rate (DER) = 40.7%\n",
      "\n",
      "\n",
      "voxconverse_label:  ygrip\n",
      "num_speakers:  7\n",
      "[NeMo I 2022-07-25 21:55:03 speaker_utils:82] Number of files to diarize: 1\n",
      "[NeMo I 2022-07-25 21:55:03 cloud:56] Found existing object /root/.cache/torch/NeMo/NeMo_1.10.0/QuartzNet15x5Base-En/2b066be39e9294d7100fb176ec817722/QuartzNet15x5Base-En.nemo.\n",
      "[NeMo I 2022-07-25 21:55:03 cloud:62] Re-using file from: /root/.cache/torch/NeMo/NeMo_1.10.0/QuartzNet15x5Base-En/2b066be39e9294d7100fb176ec817722/QuartzNet15x5Base-En.nemo\n",
      "[NeMo I 2022-07-25 21:55:03 common:789] Instantiating model from pre-trained checkpoint\n",
      "[NeMo I 2022-07-25 21:55:04 features:200] PADDING: 16\n",
      "[NeMo I 2022-07-25 21:55:05 save_restore_connector:243] Model EncDecCTCModel was successfully restored from /root/.cache/torch/NeMo/NeMo_1.10.0/QuartzNet15x5Base-En/2b066be39e9294d7100fb176ec817722/QuartzNet15x5Base-En.nemo.\n"
     ]
    },
    {
     "data": {
      "application/vnd.jupyter.widget-view+json": {
       "model_id": "0d745263a4b04e3e9bf85148fffe85d0",
       "version_major": 2,
       "version_minor": 0
      },
      "text/plain": [
       "Transcribing:   0%|          | 0/1 [00:00<?, ?it/s]"
      ]
     },
     "metadata": {},
     "output_type": "display_data"
    },
    {
     "name": "stdout",
     "output_type": "stream",
     "text": [
      "[NeMo I 2022-07-25 21:55:05 speaker_utils:82] Number of files to diarize: 1\n",
      "[NeMo I 2022-07-25 21:55:05 clustering_diarizer:153] Loading pretrained titanet_large model from NGC\n",
      "[NeMo I 2022-07-25 21:55:05 cloud:56] Found existing object /root/.cache/torch/NeMo/NeMo_1.10.0/titanet-l/492c0ab8416139171dc18c21879a9e45/titanet-l.nemo.\n",
      "[NeMo I 2022-07-25 21:55:05 cloud:62] Re-using file from: /root/.cache/torch/NeMo/NeMo_1.10.0/titanet-l/492c0ab8416139171dc18c21879a9e45/titanet-l.nemo\n",
      "[NeMo I 2022-07-25 21:55:05 common:789] Instantiating model from pre-trained checkpoint\n"
     ]
    },
    {
     "name": "stderr",
     "output_type": "stream",
     "text": [
      "[NeMo W 2022-07-25 21:55:06 modelPT:148] If you intend to do training or fine-tuning, please call the ModelPT.setup_training_data() method and provide a valid configuration file to setup the train data loader.\n",
      "    Train config : \n",
      "    manifest_filepath: /manifests/combined_fisher_swbd_voxceleb12_librispeech/train.json\n",
      "    sample_rate: 16000\n",
      "    labels: null\n",
      "    batch_size: 64\n",
      "    shuffle: true\n",
      "    time_length: 3\n",
      "    is_tarred: false\n",
      "    tarred_audio_filepaths: null\n",
      "    tarred_shard_strategy: scatter\n",
      "    augmentor:\n",
      "      noise:\n",
      "        manifest_path: /manifests/noise/rir_noise_manifest.json\n",
      "        prob: 0.5\n",
      "        min_snr_db: 0\n",
      "        max_snr_db: 15\n",
      "      speed:\n",
      "        prob: 0.5\n",
      "        sr: 16000\n",
      "        resample_type: kaiser_fast\n",
      "        min_speed_rate: 0.95\n",
      "        max_speed_rate: 1.05\n",
      "    num_workers: 15\n",
      "    pin_memory: true\n",
      "    \n",
      "[NeMo W 2022-07-25 21:55:06 modelPT:155] If you intend to do validation, please call the ModelPT.setup_validation_data() or ModelPT.setup_multiple_validation_data() method and provide a valid configuration file to setup the validation data loader(s). \n",
      "    Validation config : \n",
      "    manifest_filepath: /manifests/combined_fisher_swbd_voxceleb12_librispeech/dev.json\n",
      "    sample_rate: 16000\n",
      "    labels: null\n",
      "    batch_size: 128\n",
      "    shuffle: false\n",
      "    time_length: 3\n",
      "    num_workers: 15\n",
      "    pin_memory: true\n",
      "    \n"
     ]
    },
    {
     "name": "stdout",
     "output_type": "stream",
     "text": [
      "[NeMo I 2022-07-25 21:55:06 features:200] PADDING: 16\n",
      "[NeMo I 2022-07-25 21:55:07 label_models:100] loss is Angular Softmax\n",
      "[NeMo I 2022-07-25 21:55:07 save_restore_connector:243] Model EncDecSpeakerLabelModel was successfully restored from /root/.cache/torch/NeMo/NeMo_1.10.0/titanet-l/492c0ab8416139171dc18c21879a9e45/titanet-l.nemo.\n",
      "[NeMo I 2022-07-25 21:55:07 speaker_utils:82] Number of files to diarize: 1\n",
      "[NeMo I 2022-07-25 21:55:07 clustering_diarizer:271] Subsegmentation for embedding extraction: scale0, /home/DATA/amit_kesari/SD1/NeMo-ASR_Diar/data/voxconverse/speaker_outputs/subsegments_scale0.json\n",
      "[NeMo I 2022-07-25 21:55:07 clustering_diarizer:325] Extracting embeddings for Diarization\n",
      "[NeMo I 2022-07-25 21:55:07 collections:289] Filtered duration for loading collection is 0.000000.\n",
      "[NeMo I 2022-07-25 21:55:07 collections:293] # 539 files loaded accounting to # 1 labels\n"
     ]
    },
    {
     "name": "stderr",
     "output_type": "stream",
     "text": [
      "100%|██████████| 9/9 [00:01<00:00,  4.83it/s]\n",
      "100%|██████████| 1/1 [00:14<00:00, 14.21s/it]\n"
     ]
    },
    {
     "name": "stdout",
     "output_type": "stream",
     "text": [
      "[NeMo I 2022-07-25 21:55:24 speaker_utils:460] Cumulative Results for collar 0.25 sec and ignore_overlap True: \n",
      "     FA: 0.0300\t MISS 0.2628\t                 Diarization ER: 0.4058\t, Confusion ER:0.1129\n",
      "[NeMo I 2022-07-25 21:55:24 clustering_diarizer:444] Outputs are saved in /home/DATA/amit_kesari/SD1/NeMo-ASR_Diar/data/voxconverse directory\n",
      "\n",
      "\n",
      "Diar score:  (<pyannote.metrics.diarization.DiarizationErrorRate object at 0x7fa068058970>, {'ygrip': {'speaker_0': 'spk00', 'speaker_1': 'spk03', 'speaker_2': 'spk06', 'speaker_4': 'spk05', 'speaker_6': 'spk01'}})\n",
      "Diarization error rate (DER) = 42.8%\n",
      "\n",
      "\n",
      "voxconverse_label:  ylgug\n",
      "num_speakers:  3\n",
      "[NeMo I 2022-07-25 21:55:24 speaker_utils:82] Number of files to diarize: 1\n",
      "[NeMo I 2022-07-25 21:55:24 cloud:56] Found existing object /root/.cache/torch/NeMo/NeMo_1.10.0/QuartzNet15x5Base-En/2b066be39e9294d7100fb176ec817722/QuartzNet15x5Base-En.nemo.\n",
      "[NeMo I 2022-07-25 21:55:24 cloud:62] Re-using file from: /root/.cache/torch/NeMo/NeMo_1.10.0/QuartzNet15x5Base-En/2b066be39e9294d7100fb176ec817722/QuartzNet15x5Base-En.nemo\n",
      "[NeMo I 2022-07-25 21:55:24 common:789] Instantiating model from pre-trained checkpoint\n",
      "[NeMo I 2022-07-25 21:55:25 features:200] PADDING: 16\n",
      "[NeMo I 2022-07-25 21:55:26 save_restore_connector:243] Model EncDecCTCModel was successfully restored from /root/.cache/torch/NeMo/NeMo_1.10.0/QuartzNet15x5Base-En/2b066be39e9294d7100fb176ec817722/QuartzNet15x5Base-En.nemo.\n"
     ]
    },
    {
     "data": {
      "application/vnd.jupyter.widget-view+json": {
       "model_id": "f2f7da3a596343818fbfe3f8a2816786",
       "version_major": 2,
       "version_minor": 0
      },
      "text/plain": [
       "Transcribing:   0%|          | 0/1 [00:00<?, ?it/s]"
      ]
     },
     "metadata": {},
     "output_type": "display_data"
    },
    {
     "name": "stdout",
     "output_type": "stream",
     "text": [
      "[NeMo I 2022-07-25 21:55:28 speaker_utils:82] Number of files to diarize: 1\n",
      "[NeMo I 2022-07-25 21:55:28 clustering_diarizer:153] Loading pretrained titanet_large model from NGC\n",
      "[NeMo I 2022-07-25 21:55:28 cloud:56] Found existing object /root/.cache/torch/NeMo/NeMo_1.10.0/titanet-l/492c0ab8416139171dc18c21879a9e45/titanet-l.nemo.\n",
      "[NeMo I 2022-07-25 21:55:28 cloud:62] Re-using file from: /root/.cache/torch/NeMo/NeMo_1.10.0/titanet-l/492c0ab8416139171dc18c21879a9e45/titanet-l.nemo\n",
      "[NeMo I 2022-07-25 21:55:28 common:789] Instantiating model from pre-trained checkpoint\n"
     ]
    },
    {
     "name": "stderr",
     "output_type": "stream",
     "text": [
      "[NeMo W 2022-07-25 21:55:29 modelPT:148] If you intend to do training or fine-tuning, please call the ModelPT.setup_training_data() method and provide a valid configuration file to setup the train data loader.\n",
      "    Train config : \n",
      "    manifest_filepath: /manifests/combined_fisher_swbd_voxceleb12_librispeech/train.json\n",
      "    sample_rate: 16000\n",
      "    labels: null\n",
      "    batch_size: 64\n",
      "    shuffle: true\n",
      "    time_length: 3\n",
      "    is_tarred: false\n",
      "    tarred_audio_filepaths: null\n",
      "    tarred_shard_strategy: scatter\n",
      "    augmentor:\n",
      "      noise:\n",
      "        manifest_path: /manifests/noise/rir_noise_manifest.json\n",
      "        prob: 0.5\n",
      "        min_snr_db: 0\n",
      "        max_snr_db: 15\n",
      "      speed:\n",
      "        prob: 0.5\n",
      "        sr: 16000\n",
      "        resample_type: kaiser_fast\n",
      "        min_speed_rate: 0.95\n",
      "        max_speed_rate: 1.05\n",
      "    num_workers: 15\n",
      "    pin_memory: true\n",
      "    \n",
      "[NeMo W 2022-07-25 21:55:29 modelPT:155] If you intend to do validation, please call the ModelPT.setup_validation_data() or ModelPT.setup_multiple_validation_data() method and provide a valid configuration file to setup the validation data loader(s). \n",
      "    Validation config : \n",
      "    manifest_filepath: /manifests/combined_fisher_swbd_voxceleb12_librispeech/dev.json\n",
      "    sample_rate: 16000\n",
      "    labels: null\n",
      "    batch_size: 128\n",
      "    shuffle: false\n",
      "    time_length: 3\n",
      "    num_workers: 15\n",
      "    pin_memory: true\n",
      "    \n"
     ]
    },
    {
     "name": "stdout",
     "output_type": "stream",
     "text": [
      "[NeMo I 2022-07-25 21:55:29 features:200] PADDING: 16\n",
      "[NeMo I 2022-07-25 21:55:29 label_models:100] loss is Angular Softmax\n",
      "[NeMo I 2022-07-25 21:55:29 save_restore_connector:243] Model EncDecSpeakerLabelModel was successfully restored from /root/.cache/torch/NeMo/NeMo_1.10.0/titanet-l/492c0ab8416139171dc18c21879a9e45/titanet-l.nemo.\n",
      "[NeMo I 2022-07-25 21:55:29 speaker_utils:82] Number of files to diarize: 1\n",
      "[NeMo I 2022-07-25 21:55:29 clustering_diarizer:271] Subsegmentation for embedding extraction: scale0, /home/DATA/amit_kesari/SD1/NeMo-ASR_Diar/data/voxconverse/speaker_outputs/subsegments_scale0.json\n",
      "[NeMo I 2022-07-25 21:55:29 clustering_diarizer:325] Extracting embeddings for Diarization\n",
      "[NeMo I 2022-07-25 21:55:29 collections:289] Filtered duration for loading collection is 0.000000.\n",
      "[NeMo I 2022-07-25 21:55:29 collections:293] # 2265 files loaded accounting to # 1 labels\n"
     ]
    },
    {
     "name": "stderr",
     "output_type": "stream",
     "text": [
      "100%|██████████| 36/36 [00:06<00:00,  5.61it/s]\n",
      "100%|██████████| 1/1 [00:09<00:00,  9.88s/it]\n"
     ]
    },
    {
     "name": "stdout",
     "output_type": "stream",
     "text": [
      "[NeMo I 2022-07-25 21:55:50 speaker_utils:460] Cumulative Results for collar 0.25 sec and ignore_overlap True: \n",
      "     FA: 0.0641\t MISS 0.2192\t                 Diarization ER: 0.3758\t, Confusion ER:0.0925\n",
      "[NeMo I 2022-07-25 21:55:50 clustering_diarizer:444] Outputs are saved in /home/DATA/amit_kesari/SD1/NeMo-ASR_Diar/data/voxconverse directory\n",
      "\n",
      "\n",
      "Diar score:  (<pyannote.metrics.diarization.DiarizationErrorRate object at 0x7fa050462c70>, {'ylgug': {'speaker_0': 'spk01', 'speaker_1': 'spk00'}})\n",
      "Diarization error rate (DER) = 40.6%\n",
      "\n",
      "\n",
      "voxconverse_label:  ylzez\n",
      "num_speakers:  2\n",
      "[NeMo I 2022-07-25 21:55:54 speaker_utils:82] Number of files to diarize: 1\n",
      "[NeMo I 2022-07-25 21:55:54 cloud:56] Found existing object /root/.cache/torch/NeMo/NeMo_1.10.0/QuartzNet15x5Base-En/2b066be39e9294d7100fb176ec817722/QuartzNet15x5Base-En.nemo.\n",
      "[NeMo I 2022-07-25 21:55:54 cloud:62] Re-using file from: /root/.cache/torch/NeMo/NeMo_1.10.0/QuartzNet15x5Base-En/2b066be39e9294d7100fb176ec817722/QuartzNet15x5Base-En.nemo\n",
      "[NeMo I 2022-07-25 21:55:54 common:789] Instantiating model from pre-trained checkpoint\n",
      "[NeMo I 2022-07-25 21:55:55 features:200] PADDING: 16\n",
      "[NeMo I 2022-07-25 21:55:56 save_restore_connector:243] Model EncDecCTCModel was successfully restored from /root/.cache/torch/NeMo/NeMo_1.10.0/QuartzNet15x5Base-En/2b066be39e9294d7100fb176ec817722/QuartzNet15x5Base-En.nemo.\n"
     ]
    },
    {
     "data": {
      "application/vnd.jupyter.widget-view+json": {
       "model_id": "590dcecc0d2b46e3b170d9f866e66d61",
       "version_major": 2,
       "version_minor": 0
      },
      "text/plain": [
       "Transcribing:   0%|          | 0/1 [00:00<?, ?it/s]"
      ]
     },
     "metadata": {},
     "output_type": "display_data"
    },
    {
     "name": "stdout",
     "output_type": "stream",
     "text": [
      "[NeMo I 2022-07-25 21:55:58 speaker_utils:82] Number of files to diarize: 1\n",
      "[NeMo I 2022-07-25 21:55:58 clustering_diarizer:153] Loading pretrained titanet_large model from NGC\n",
      "[NeMo I 2022-07-25 21:55:58 cloud:56] Found existing object /root/.cache/torch/NeMo/NeMo_1.10.0/titanet-l/492c0ab8416139171dc18c21879a9e45/titanet-l.nemo.\n",
      "[NeMo I 2022-07-25 21:55:58 cloud:62] Re-using file from: /root/.cache/torch/NeMo/NeMo_1.10.0/titanet-l/492c0ab8416139171dc18c21879a9e45/titanet-l.nemo\n",
      "[NeMo I 2022-07-25 21:55:58 common:789] Instantiating model from pre-trained checkpoint\n"
     ]
    },
    {
     "name": "stderr",
     "output_type": "stream",
     "text": [
      "[NeMo W 2022-07-25 21:55:59 modelPT:148] If you intend to do training or fine-tuning, please call the ModelPT.setup_training_data() method and provide a valid configuration file to setup the train data loader.\n",
      "    Train config : \n",
      "    manifest_filepath: /manifests/combined_fisher_swbd_voxceleb12_librispeech/train.json\n",
      "    sample_rate: 16000\n",
      "    labels: null\n",
      "    batch_size: 64\n",
      "    shuffle: true\n",
      "    time_length: 3\n",
      "    is_tarred: false\n",
      "    tarred_audio_filepaths: null\n",
      "    tarred_shard_strategy: scatter\n",
      "    augmentor:\n",
      "      noise:\n",
      "        manifest_path: /manifests/noise/rir_noise_manifest.json\n",
      "        prob: 0.5\n",
      "        min_snr_db: 0\n",
      "        max_snr_db: 15\n",
      "      speed:\n",
      "        prob: 0.5\n",
      "        sr: 16000\n",
      "        resample_type: kaiser_fast\n",
      "        min_speed_rate: 0.95\n",
      "        max_speed_rate: 1.05\n",
      "    num_workers: 15\n",
      "    pin_memory: true\n",
      "    \n",
      "[NeMo W 2022-07-25 21:55:59 modelPT:155] If you intend to do validation, please call the ModelPT.setup_validation_data() or ModelPT.setup_multiple_validation_data() method and provide a valid configuration file to setup the validation data loader(s). \n",
      "    Validation config : \n",
      "    manifest_filepath: /manifests/combined_fisher_swbd_voxceleb12_librispeech/dev.json\n",
      "    sample_rate: 16000\n",
      "    labels: null\n",
      "    batch_size: 128\n",
      "    shuffle: false\n",
      "    time_length: 3\n",
      "    num_workers: 15\n",
      "    pin_memory: true\n",
      "    \n"
     ]
    },
    {
     "name": "stdout",
     "output_type": "stream",
     "text": [
      "[NeMo I 2022-07-25 21:55:59 features:200] PADDING: 16\n",
      "[NeMo I 2022-07-25 21:55:59 label_models:100] loss is Angular Softmax\n",
      "[NeMo I 2022-07-25 21:56:00 save_restore_connector:243] Model EncDecSpeakerLabelModel was successfully restored from /root/.cache/torch/NeMo/NeMo_1.10.0/titanet-l/492c0ab8416139171dc18c21879a9e45/titanet-l.nemo.\n",
      "[NeMo I 2022-07-25 21:56:00 speaker_utils:82] Number of files to diarize: 1\n",
      "[NeMo I 2022-07-25 21:56:00 clustering_diarizer:271] Subsegmentation for embedding extraction: scale0, /home/DATA/amit_kesari/SD1/NeMo-ASR_Diar/data/voxconverse/speaker_outputs/subsegments_scale0.json\n",
      "[NeMo I 2022-07-25 21:56:00 clustering_diarizer:325] Extracting embeddings for Diarization\n",
      "[NeMo I 2022-07-25 21:56:00 collections:289] Filtered duration for loading collection is 0.000000.\n",
      "[NeMo I 2022-07-25 21:56:00 collections:293] # 1349 files loaded accounting to # 1 labels\n"
     ]
    },
    {
     "name": "stderr",
     "output_type": "stream",
     "text": [
      "100%|██████████| 22/22 [00:04<00:00,  5.49it/s]\n",
      "100%|██████████| 1/1 [00:10<00:00, 10.07s/it]\n"
     ]
    },
    {
     "name": "stdout",
     "output_type": "stream",
     "text": [
      "[NeMo I 2022-07-25 21:56:14 speaker_utils:460] Cumulative Results for collar 0.25 sec and ignore_overlap True: \n",
      "     FA: 0.0395\t MISS 0.0553\t                 Diarization ER: 0.0958\t, Confusion ER:0.0010\n",
      "[NeMo I 2022-07-25 21:56:14 clustering_diarizer:444] Outputs are saved in /home/DATA/amit_kesari/SD1/NeMo-ASR_Diar/data/voxconverse directory\n",
      "\n",
      "\n",
      "Diar score:  (<pyannote.metrics.diarization.DiarizationErrorRate object at 0x7fa06c794cd0>, {'ylzez': {'speaker_0': 'spk01', 'speaker_1': 'spk00'}})\n",
      "Diarization error rate (DER) = 13.1%\n",
      "\n",
      "\n",
      "voxconverse_label:  ytmef\n",
      "num_speakers:  4\n",
      "[NeMo I 2022-07-25 21:56:15 speaker_utils:82] Number of files to diarize: 1\n",
      "[NeMo I 2022-07-25 21:56:15 cloud:56] Found existing object /root/.cache/torch/NeMo/NeMo_1.10.0/QuartzNet15x5Base-En/2b066be39e9294d7100fb176ec817722/QuartzNet15x5Base-En.nemo.\n",
      "[NeMo I 2022-07-25 21:56:15 cloud:62] Re-using file from: /root/.cache/torch/NeMo/NeMo_1.10.0/QuartzNet15x5Base-En/2b066be39e9294d7100fb176ec817722/QuartzNet15x5Base-En.nemo\n",
      "[NeMo I 2022-07-25 21:56:15 common:789] Instantiating model from pre-trained checkpoint\n",
      "[NeMo I 2022-07-25 21:56:16 features:200] PADDING: 16\n",
      "[NeMo I 2022-07-25 21:56:17 save_restore_connector:243] Model EncDecCTCModel was successfully restored from /root/.cache/torch/NeMo/NeMo_1.10.0/QuartzNet15x5Base-En/2b066be39e9294d7100fb176ec817722/QuartzNet15x5Base-En.nemo.\n"
     ]
    },
    {
     "data": {
      "application/vnd.jupyter.widget-view+json": {
       "model_id": "d93d86b74b834f8da92a9fde4ca891aa",
       "version_major": 2,
       "version_minor": 0
      },
      "text/plain": [
       "Transcribing:   0%|          | 0/1 [00:00<?, ?it/s]"
      ]
     },
     "metadata": {},
     "output_type": "display_data"
    },
    {
     "name": "stdout",
     "output_type": "stream",
     "text": [
      "[NeMo I 2022-07-25 21:56:18 speaker_utils:82] Number of files to diarize: 1\n",
      "[NeMo I 2022-07-25 21:56:20 clustering_diarizer:153] Loading pretrained titanet_large model from NGC\n",
      "[NeMo I 2022-07-25 21:56:20 cloud:56] Found existing object /root/.cache/torch/NeMo/NeMo_1.10.0/titanet-l/492c0ab8416139171dc18c21879a9e45/titanet-l.nemo.\n",
      "[NeMo I 2022-07-25 21:56:20 cloud:62] Re-using file from: /root/.cache/torch/NeMo/NeMo_1.10.0/titanet-l/492c0ab8416139171dc18c21879a9e45/titanet-l.nemo\n",
      "[NeMo I 2022-07-25 21:56:20 common:789] Instantiating model from pre-trained checkpoint\n"
     ]
    },
    {
     "name": "stderr",
     "output_type": "stream",
     "text": [
      "[NeMo W 2022-07-25 21:56:20 modelPT:148] If you intend to do training or fine-tuning, please call the ModelPT.setup_training_data() method and provide a valid configuration file to setup the train data loader.\n",
      "    Train config : \n",
      "    manifest_filepath: /manifests/combined_fisher_swbd_voxceleb12_librispeech/train.json\n",
      "    sample_rate: 16000\n",
      "    labels: null\n",
      "    batch_size: 64\n",
      "    shuffle: true\n",
      "    time_length: 3\n",
      "    is_tarred: false\n",
      "    tarred_audio_filepaths: null\n",
      "    tarred_shard_strategy: scatter\n",
      "    augmentor:\n",
      "      noise:\n",
      "        manifest_path: /manifests/noise/rir_noise_manifest.json\n",
      "        prob: 0.5\n",
      "        min_snr_db: 0\n",
      "        max_snr_db: 15\n",
      "      speed:\n",
      "        prob: 0.5\n",
      "        sr: 16000\n",
      "        resample_type: kaiser_fast\n",
      "        min_speed_rate: 0.95\n",
      "        max_speed_rate: 1.05\n",
      "    num_workers: 15\n",
      "    pin_memory: true\n",
      "    \n",
      "[NeMo W 2022-07-25 21:56:20 modelPT:155] If you intend to do validation, please call the ModelPT.setup_validation_data() or ModelPT.setup_multiple_validation_data() method and provide a valid configuration file to setup the validation data loader(s). \n",
      "    Validation config : \n",
      "    manifest_filepath: /manifests/combined_fisher_swbd_voxceleb12_librispeech/dev.json\n",
      "    sample_rate: 16000\n",
      "    labels: null\n",
      "    batch_size: 128\n",
      "    shuffle: false\n",
      "    time_length: 3\n",
      "    num_workers: 15\n",
      "    pin_memory: true\n",
      "    \n"
     ]
    },
    {
     "name": "stdout",
     "output_type": "stream",
     "text": [
      "[NeMo I 2022-07-25 21:56:20 features:200] PADDING: 16\n",
      "[NeMo I 2022-07-25 21:56:21 label_models:100] loss is Angular Softmax\n",
      "[NeMo I 2022-07-25 21:56:21 save_restore_connector:243] Model EncDecSpeakerLabelModel was successfully restored from /root/.cache/torch/NeMo/NeMo_1.10.0/titanet-l/492c0ab8416139171dc18c21879a9e45/titanet-l.nemo.\n",
      "[NeMo I 2022-07-25 21:56:21 speaker_utils:82] Number of files to diarize: 1\n",
      "[NeMo I 2022-07-25 21:56:21 clustering_diarizer:271] Subsegmentation for embedding extraction: scale0, /home/DATA/amit_kesari/SD1/NeMo-ASR_Diar/data/voxconverse/speaker_outputs/subsegments_scale0.json\n",
      "[NeMo I 2022-07-25 21:56:22 clustering_diarizer:325] Extracting embeddings for Diarization\n",
      "[NeMo I 2022-07-25 21:56:22 collections:289] Filtered duration for loading collection is 0.000000.\n",
      "[NeMo I 2022-07-25 21:56:22 collections:293] # 957 files loaded accounting to # 1 labels\n"
     ]
    },
    {
     "name": "stderr",
     "output_type": "stream",
     "text": [
      "100%|██████████| 15/15 [00:02<00:00,  5.15it/s]\n",
      "100%|██████████| 1/1 [00:08<00:00,  8.08s/it]\n"
     ]
    },
    {
     "name": "stdout",
     "output_type": "stream",
     "text": [
      "[NeMo I 2022-07-25 21:56:33 speaker_utils:460] Cumulative Results for collar 0.25 sec and ignore_overlap True: \n",
      "     FA: 0.0315\t MISS 0.2424\t                 Diarization ER: 0.3605\t, Confusion ER:0.0866\n",
      "[NeMo I 2022-07-25 21:56:33 clustering_diarizer:444] Outputs are saved in /home/DATA/amit_kesari/SD1/NeMo-ASR_Diar/data/voxconverse directory\n",
      "\n",
      "\n",
      "Diar score:  (<pyannote.metrics.diarization.DiarizationErrorRate object at 0x7fa14096a7c0>, {'ytmef': {'speaker_0': 'spk01', 'speaker_1': 'spk03', 'speaker_2': 'spk02', 'speaker_3': 'spk00'}})\n",
      "Diarization error rate (DER) = 37.7%\n",
      "\n",
      "\n",
      "voxconverse_label:  ytula\n",
      "num_speakers:  7\n",
      "[NeMo I 2022-07-25 21:56:34 speaker_utils:82] Number of files to diarize: 1\n",
      "[NeMo I 2022-07-25 21:56:34 cloud:56] Found existing object /root/.cache/torch/NeMo/NeMo_1.10.0/QuartzNet15x5Base-En/2b066be39e9294d7100fb176ec817722/QuartzNet15x5Base-En.nemo.\n",
      "[NeMo I 2022-07-25 21:56:34 cloud:62] Re-using file from: /root/.cache/torch/NeMo/NeMo_1.10.0/QuartzNet15x5Base-En/2b066be39e9294d7100fb176ec817722/QuartzNet15x5Base-En.nemo\n",
      "[NeMo I 2022-07-25 21:56:34 common:789] Instantiating model from pre-trained checkpoint\n",
      "[NeMo I 2022-07-25 21:56:35 features:200] PADDING: 16\n",
      "[NeMo I 2022-07-25 21:56:37 save_restore_connector:243] Model EncDecCTCModel was successfully restored from /root/.cache/torch/NeMo/NeMo_1.10.0/QuartzNet15x5Base-En/2b066be39e9294d7100fb176ec817722/QuartzNet15x5Base-En.nemo.\n"
     ]
    },
    {
     "data": {
      "application/vnd.jupyter.widget-view+json": {
       "model_id": "d94e565eb3634b5588004c64387bc7d9",
       "version_major": 2,
       "version_minor": 0
      },
      "text/plain": [
       "Transcribing:   0%|          | 0/1 [00:00<?, ?it/s]"
      ]
     },
     "metadata": {},
     "output_type": "display_data"
    },
    {
     "name": "stdout",
     "output_type": "stream",
     "text": [
      "[NeMo I 2022-07-25 21:56:38 speaker_utils:82] Number of files to diarize: 1\n",
      "[NeMo I 2022-07-25 21:56:38 clustering_diarizer:153] Loading pretrained titanet_large model from NGC\n",
      "[NeMo I 2022-07-25 21:56:38 cloud:56] Found existing object /root/.cache/torch/NeMo/NeMo_1.10.0/titanet-l/492c0ab8416139171dc18c21879a9e45/titanet-l.nemo.\n",
      "[NeMo I 2022-07-25 21:56:38 cloud:62] Re-using file from: /root/.cache/torch/NeMo/NeMo_1.10.0/titanet-l/492c0ab8416139171dc18c21879a9e45/titanet-l.nemo\n",
      "[NeMo I 2022-07-25 21:56:38 common:789] Instantiating model from pre-trained checkpoint\n"
     ]
    },
    {
     "name": "stderr",
     "output_type": "stream",
     "text": [
      "[NeMo W 2022-07-25 21:56:39 modelPT:148] If you intend to do training or fine-tuning, please call the ModelPT.setup_training_data() method and provide a valid configuration file to setup the train data loader.\n",
      "    Train config : \n",
      "    manifest_filepath: /manifests/combined_fisher_swbd_voxceleb12_librispeech/train.json\n",
      "    sample_rate: 16000\n",
      "    labels: null\n",
      "    batch_size: 64\n",
      "    shuffle: true\n",
      "    time_length: 3\n",
      "    is_tarred: false\n",
      "    tarred_audio_filepaths: null\n",
      "    tarred_shard_strategy: scatter\n",
      "    augmentor:\n",
      "      noise:\n",
      "        manifest_path: /manifests/noise/rir_noise_manifest.json\n",
      "        prob: 0.5\n",
      "        min_snr_db: 0\n",
      "        max_snr_db: 15\n",
      "      speed:\n",
      "        prob: 0.5\n",
      "        sr: 16000\n",
      "        resample_type: kaiser_fast\n",
      "        min_speed_rate: 0.95\n",
      "        max_speed_rate: 1.05\n",
      "    num_workers: 15\n",
      "    pin_memory: true\n",
      "    \n",
      "[NeMo W 2022-07-25 21:56:39 modelPT:155] If you intend to do validation, please call the ModelPT.setup_validation_data() or ModelPT.setup_multiple_validation_data() method and provide a valid configuration file to setup the validation data loader(s). \n",
      "    Validation config : \n",
      "    manifest_filepath: /manifests/combined_fisher_swbd_voxceleb12_librispeech/dev.json\n",
      "    sample_rate: 16000\n",
      "    labels: null\n",
      "    batch_size: 128\n",
      "    shuffle: false\n",
      "    time_length: 3\n",
      "    num_workers: 15\n",
      "    pin_memory: true\n",
      "    \n"
     ]
    },
    {
     "name": "stdout",
     "output_type": "stream",
     "text": [
      "[NeMo I 2022-07-25 21:56:39 features:200] PADDING: 16\n",
      "[NeMo I 2022-07-25 21:56:39 label_models:100] loss is Angular Softmax\n",
      "[NeMo I 2022-07-25 21:56:40 save_restore_connector:243] Model EncDecSpeakerLabelModel was successfully restored from /root/.cache/torch/NeMo/NeMo_1.10.0/titanet-l/492c0ab8416139171dc18c21879a9e45/titanet-l.nemo.\n",
      "[NeMo I 2022-07-25 21:56:40 speaker_utils:82] Number of files to diarize: 1\n",
      "[NeMo I 2022-07-25 21:56:40 clustering_diarizer:271] Subsegmentation for embedding extraction: scale0, /home/DATA/amit_kesari/SD1/NeMo-ASR_Diar/data/voxconverse/speaker_outputs/subsegments_scale0.json\n",
      "[NeMo I 2022-07-25 21:56:40 clustering_diarizer:325] Extracting embeddings for Diarization\n",
      "[NeMo I 2022-07-25 21:56:40 collections:289] Filtered duration for loading collection is 0.000000.\n",
      "[NeMo I 2022-07-25 21:56:40 collections:293] # 2106 files loaded accounting to # 1 labels\n"
     ]
    },
    {
     "name": "stderr",
     "output_type": "stream",
     "text": [
      "100%|██████████| 33/33 [00:05<00:00,  5.50it/s]\n",
      "100%|██████████| 1/1 [00:09<00:00,  9.09s/it]\n"
     ]
    },
    {
     "name": "stdout",
     "output_type": "stream",
     "text": [
      "[NeMo I 2022-07-25 21:56:58 speaker_utils:460] Cumulative Results for collar 0.25 sec and ignore_overlap True: \n",
      "     FA: 0.1691\t MISS 0.2582\t                 Diarization ER: 0.6343\t, Confusion ER:0.2070\n",
      "[NeMo I 2022-07-25 21:56:58 clustering_diarizer:444] Outputs are saved in /home/DATA/amit_kesari/SD1/NeMo-ASR_Diar/data/voxconverse directory\n",
      "\n",
      "\n",
      "Diar score:  (<pyannote.metrics.diarization.DiarizationErrorRate object at 0x7fa06c7afcd0>, {'ytula': {'speaker_0': 'spk04', 'speaker_1': 'spk02', 'speaker_2': 'spk05', 'speaker_4': 'spk01', 'speaker_5': 'spk03', 'speaker_6': 'spk00'}})\n",
      "Diarization error rate (DER) = 65.6%\n",
      "\n",
      "\n",
      "voxconverse_label:  yukhy\n",
      "num_speakers:  6\n",
      "[NeMo I 2022-07-25 21:57:01 speaker_utils:82] Number of files to diarize: 1\n",
      "[NeMo I 2022-07-25 21:57:01 cloud:56] Found existing object /root/.cache/torch/NeMo/NeMo_1.10.0/QuartzNet15x5Base-En/2b066be39e9294d7100fb176ec817722/QuartzNet15x5Base-En.nemo.\n",
      "[NeMo I 2022-07-25 21:57:01 cloud:62] Re-using file from: /root/.cache/torch/NeMo/NeMo_1.10.0/QuartzNet15x5Base-En/2b066be39e9294d7100fb176ec817722/QuartzNet15x5Base-En.nemo\n",
      "[NeMo I 2022-07-25 21:57:01 common:789] Instantiating model from pre-trained checkpoint\n",
      "[NeMo I 2022-07-25 21:57:02 features:200] PADDING: 16\n",
      "[NeMo I 2022-07-25 21:57:03 save_restore_connector:243] Model EncDecCTCModel was successfully restored from /root/.cache/torch/NeMo/NeMo_1.10.0/QuartzNet15x5Base-En/2b066be39e9294d7100fb176ec817722/QuartzNet15x5Base-En.nemo.\n"
     ]
    },
    {
     "data": {
      "application/vnd.jupyter.widget-view+json": {
       "model_id": "720a5deef6f04076a25e8ede1ac2d616",
       "version_major": 2,
       "version_minor": 0
      },
      "text/plain": [
       "Transcribing:   0%|          | 0/1 [00:00<?, ?it/s]"
      ]
     },
     "metadata": {},
     "output_type": "display_data"
    },
    {
     "name": "stdout",
     "output_type": "stream",
     "text": [
      "[NeMo I 2022-07-25 21:57:05 speaker_utils:82] Number of files to diarize: 1\n",
      "[NeMo I 2022-07-25 21:57:05 clustering_diarizer:153] Loading pretrained titanet_large model from NGC\n",
      "[NeMo I 2022-07-25 21:57:05 cloud:56] Found existing object /root/.cache/torch/NeMo/NeMo_1.10.0/titanet-l/492c0ab8416139171dc18c21879a9e45/titanet-l.nemo.\n",
      "[NeMo I 2022-07-25 21:57:05 cloud:62] Re-using file from: /root/.cache/torch/NeMo/NeMo_1.10.0/titanet-l/492c0ab8416139171dc18c21879a9e45/titanet-l.nemo\n",
      "[NeMo I 2022-07-25 21:57:05 common:789] Instantiating model from pre-trained checkpoint\n"
     ]
    },
    {
     "name": "stderr",
     "output_type": "stream",
     "text": [
      "[NeMo W 2022-07-25 21:57:06 modelPT:148] If you intend to do training or fine-tuning, please call the ModelPT.setup_training_data() method and provide a valid configuration file to setup the train data loader.\n",
      "    Train config : \n",
      "    manifest_filepath: /manifests/combined_fisher_swbd_voxceleb12_librispeech/train.json\n",
      "    sample_rate: 16000\n",
      "    labels: null\n",
      "    batch_size: 64\n",
      "    shuffle: true\n",
      "    time_length: 3\n",
      "    is_tarred: false\n",
      "    tarred_audio_filepaths: null\n",
      "    tarred_shard_strategy: scatter\n",
      "    augmentor:\n",
      "      noise:\n",
      "        manifest_path: /manifests/noise/rir_noise_manifest.json\n",
      "        prob: 0.5\n",
      "        min_snr_db: 0\n",
      "        max_snr_db: 15\n",
      "      speed:\n",
      "        prob: 0.5\n",
      "        sr: 16000\n",
      "        resample_type: kaiser_fast\n",
      "        min_speed_rate: 0.95\n",
      "        max_speed_rate: 1.05\n",
      "    num_workers: 15\n",
      "    pin_memory: true\n",
      "    \n",
      "[NeMo W 2022-07-25 21:57:06 modelPT:155] If you intend to do validation, please call the ModelPT.setup_validation_data() or ModelPT.setup_multiple_validation_data() method and provide a valid configuration file to setup the validation data loader(s). \n",
      "    Validation config : \n",
      "    manifest_filepath: /manifests/combined_fisher_swbd_voxceleb12_librispeech/dev.json\n",
      "    sample_rate: 16000\n",
      "    labels: null\n",
      "    batch_size: 128\n",
      "    shuffle: false\n",
      "    time_length: 3\n",
      "    num_workers: 15\n",
      "    pin_memory: true\n",
      "    \n"
     ]
    },
    {
     "name": "stdout",
     "output_type": "stream",
     "text": [
      "[NeMo I 2022-07-25 21:57:06 features:200] PADDING: 16\n",
      "[NeMo I 2022-07-25 21:57:06 label_models:100] loss is Angular Softmax\n",
      "[NeMo I 2022-07-25 21:57:06 save_restore_connector:243] Model EncDecSpeakerLabelModel was successfully restored from /root/.cache/torch/NeMo/NeMo_1.10.0/titanet-l/492c0ab8416139171dc18c21879a9e45/titanet-l.nemo.\n",
      "[NeMo I 2022-07-25 21:57:06 speaker_utils:82] Number of files to diarize: 1\n",
      "[NeMo I 2022-07-25 21:57:06 clustering_diarizer:271] Subsegmentation for embedding extraction: scale0, /home/DATA/amit_kesari/SD1/NeMo-ASR_Diar/data/voxconverse/speaker_outputs/subsegments_scale0.json\n",
      "[NeMo I 2022-07-25 21:57:06 clustering_diarizer:325] Extracting embeddings for Diarization\n",
      "[NeMo I 2022-07-25 21:57:06 collections:289] Filtered duration for loading collection is 0.000000.\n",
      "[NeMo I 2022-07-25 21:57:06 collections:293] # 1239 files loaded accounting to # 1 labels\n"
     ]
    },
    {
     "name": "stderr",
     "output_type": "stream",
     "text": [
      "100%|██████████| 20/20 [00:03<00:00,  5.47it/s]\n",
      "100%|██████████| 1/1 [00:07<00:00,  7.70s/it]\n"
     ]
    },
    {
     "name": "stdout",
     "output_type": "stream",
     "text": [
      "[NeMo I 2022-07-25 21:57:19 speaker_utils:460] Cumulative Results for collar 0.25 sec and ignore_overlap True: \n",
      "     FA: 0.0078\t MISS 0.2237\t                 Diarization ER: 0.3248\t, Confusion ER:0.0933\n",
      "[NeMo I 2022-07-25 21:57:19 clustering_diarizer:444] Outputs are saved in /home/DATA/amit_kesari/SD1/NeMo-ASR_Diar/data/voxconverse directory\n",
      "\n",
      "\n",
      "Diar score:  (<pyannote.metrics.diarization.DiarizationErrorRate object at 0x7fa050187e80>, {'yukhy': {'speaker_0': 'spk00', 'speaker_1': 'spk01', 'speaker_3': 'spk04', 'speaker_4': 'spk05', 'speaker_5': 'spk02'}})\n",
      "Diarization error rate (DER) = 37.0%\n",
      "\n",
      "\n",
      "voxconverse_label:  yzvon\n",
      "num_speakers:  5\n",
      "[NeMo I 2022-07-25 21:57:21 speaker_utils:82] Number of files to diarize: 1\n",
      "[NeMo I 2022-07-25 21:57:21 cloud:56] Found existing object /root/.cache/torch/NeMo/NeMo_1.10.0/QuartzNet15x5Base-En/2b066be39e9294d7100fb176ec817722/QuartzNet15x5Base-En.nemo.\n",
      "[NeMo I 2022-07-25 21:57:21 cloud:62] Re-using file from: /root/.cache/torch/NeMo/NeMo_1.10.0/QuartzNet15x5Base-En/2b066be39e9294d7100fb176ec817722/QuartzNet15x5Base-En.nemo\n",
      "[NeMo I 2022-07-25 21:57:21 common:789] Instantiating model from pre-trained checkpoint\n",
      "[NeMo I 2022-07-25 21:57:22 features:200] PADDING: 16\n",
      "[NeMo I 2022-07-25 21:57:23 save_restore_connector:243] Model EncDecCTCModel was successfully restored from /root/.cache/torch/NeMo/NeMo_1.10.0/QuartzNet15x5Base-En/2b066be39e9294d7100fb176ec817722/QuartzNet15x5Base-En.nemo.\n"
     ]
    },
    {
     "data": {
      "application/vnd.jupyter.widget-view+json": {
       "model_id": "b629eee5d07e4537b78838f1a4fd5e94",
       "version_major": 2,
       "version_minor": 0
      },
      "text/plain": [
       "Transcribing:   0%|          | 0/1 [00:00<?, ?it/s]"
      ]
     },
     "metadata": {},
     "output_type": "display_data"
    },
    {
     "name": "stdout",
     "output_type": "stream",
     "text": [
      "[NeMo I 2022-07-25 21:57:31 speaker_utils:82] Number of files to diarize: 1\n",
      "[NeMo I 2022-07-25 21:57:45 clustering_diarizer:153] Loading pretrained titanet_large model from NGC\n",
      "[NeMo I 2022-07-25 21:57:45 cloud:56] Found existing object /root/.cache/torch/NeMo/NeMo_1.10.0/titanet-l/492c0ab8416139171dc18c21879a9e45/titanet-l.nemo.\n",
      "[NeMo I 2022-07-25 21:57:45 cloud:62] Re-using file from: /root/.cache/torch/NeMo/NeMo_1.10.0/titanet-l/492c0ab8416139171dc18c21879a9e45/titanet-l.nemo\n",
      "[NeMo I 2022-07-25 21:57:45 common:789] Instantiating model from pre-trained checkpoint\n"
     ]
    },
    {
     "name": "stderr",
     "output_type": "stream",
     "text": [
      "[NeMo W 2022-07-25 21:57:46 modelPT:148] If you intend to do training or fine-tuning, please call the ModelPT.setup_training_data() method and provide a valid configuration file to setup the train data loader.\n",
      "    Train config : \n",
      "    manifest_filepath: /manifests/combined_fisher_swbd_voxceleb12_librispeech/train.json\n",
      "    sample_rate: 16000\n",
      "    labels: null\n",
      "    batch_size: 64\n",
      "    shuffle: true\n",
      "    time_length: 3\n",
      "    is_tarred: false\n",
      "    tarred_audio_filepaths: null\n",
      "    tarred_shard_strategy: scatter\n",
      "    augmentor:\n",
      "      noise:\n",
      "        manifest_path: /manifests/noise/rir_noise_manifest.json\n",
      "        prob: 0.5\n",
      "        min_snr_db: 0\n",
      "        max_snr_db: 15\n",
      "      speed:\n",
      "        prob: 0.5\n",
      "        sr: 16000\n",
      "        resample_type: kaiser_fast\n",
      "        min_speed_rate: 0.95\n",
      "        max_speed_rate: 1.05\n",
      "    num_workers: 15\n",
      "    pin_memory: true\n",
      "    \n",
      "[NeMo W 2022-07-25 21:57:46 modelPT:155] If you intend to do validation, please call the ModelPT.setup_validation_data() or ModelPT.setup_multiple_validation_data() method and provide a valid configuration file to setup the validation data loader(s). \n",
      "    Validation config : \n",
      "    manifest_filepath: /manifests/combined_fisher_swbd_voxceleb12_librispeech/dev.json\n",
      "    sample_rate: 16000\n",
      "    labels: null\n",
      "    batch_size: 128\n",
      "    shuffle: false\n",
      "    time_length: 3\n",
      "    num_workers: 15\n",
      "    pin_memory: true\n",
      "    \n"
     ]
    },
    {
     "name": "stdout",
     "output_type": "stream",
     "text": [
      "[NeMo I 2022-07-25 21:57:46 features:200] PADDING: 16\n",
      "[NeMo I 2022-07-25 21:57:46 label_models:100] loss is Angular Softmax\n",
      "[NeMo I 2022-07-25 21:57:47 save_restore_connector:243] Model EncDecSpeakerLabelModel was successfully restored from /root/.cache/torch/NeMo/NeMo_1.10.0/titanet-l/492c0ab8416139171dc18c21879a9e45/titanet-l.nemo.\n",
      "[NeMo I 2022-07-25 21:57:47 speaker_utils:82] Number of files to diarize: 1\n",
      "[NeMo I 2022-07-25 21:57:47 clustering_diarizer:271] Subsegmentation for embedding extraction: scale0, /home/DATA/amit_kesari/SD1/NeMo-ASR_Diar/data/voxconverse/speaker_outputs/subsegments_scale0.json\n",
      "[NeMo I 2022-07-25 21:58:04 clustering_diarizer:325] Extracting embeddings for Diarization\n",
      "[NeMo I 2022-07-25 21:58:05 collections:289] Filtered duration for loading collection is 0.000000.\n",
      "[NeMo I 2022-07-25 21:58:05 collections:293] # 1089 files loaded accounting to # 1 labels\n"
     ]
    },
    {
     "name": "stderr",
     "output_type": "stream",
     "text": [
      "100%|██████████| 18/18 [00:03<00:00,  5.45it/s]\n",
      "100%|██████████| 1/1 [00:09<00:00,  9.55s/it]\n"
     ]
    },
    {
     "name": "stdout",
     "output_type": "stream",
     "text": [
      "[NeMo I 2022-07-25 21:58:18 speaker_utils:460] Cumulative Results for collar 0.25 sec and ignore_overlap True: \n",
      "     FA: 0.1335\t MISS 0.0610\t                 Diarization ER: 0.3620\t, Confusion ER:0.1676\n",
      "[NeMo I 2022-07-25 21:58:18 clustering_diarizer:444] Outputs are saved in /home/DATA/amit_kesari/SD1/NeMo-ASR_Diar/data/voxconverse directory\n",
      "\n",
      "\n",
      "Diar score:  (<pyannote.metrics.diarization.DiarizationErrorRate object at 0x7fa06826eb20>, {'yzvon': {'speaker_0': 'spk02', 'speaker_1': 'spk01', 'speaker_2': 'spk00'}})\n",
      "Diarization error rate (DER) = 40.0%\n",
      "\n",
      "\n",
      "voxconverse_label:  zedtj\n",
      "num_speakers:  7\n",
      "[NeMo I 2022-07-25 21:58:18 speaker_utils:82] Number of files to diarize: 1\n",
      "[NeMo I 2022-07-25 21:58:18 cloud:56] Found existing object /root/.cache/torch/NeMo/NeMo_1.10.0/QuartzNet15x5Base-En/2b066be39e9294d7100fb176ec817722/QuartzNet15x5Base-En.nemo.\n",
      "[NeMo I 2022-07-25 21:58:18 cloud:62] Re-using file from: /root/.cache/torch/NeMo/NeMo_1.10.0/QuartzNet15x5Base-En/2b066be39e9294d7100fb176ec817722/QuartzNet15x5Base-En.nemo\n",
      "[NeMo I 2022-07-25 21:58:18 common:789] Instantiating model from pre-trained checkpoint\n",
      "[NeMo I 2022-07-25 21:58:19 features:200] PADDING: 16\n",
      "[NeMo I 2022-07-25 21:58:21 save_restore_connector:243] Model EncDecCTCModel was successfully restored from /root/.cache/torch/NeMo/NeMo_1.10.0/QuartzNet15x5Base-En/2b066be39e9294d7100fb176ec817722/QuartzNet15x5Base-En.nemo.\n"
     ]
    },
    {
     "data": {
      "application/vnd.jupyter.widget-view+json": {
       "model_id": "e7e6185df7b1407795c5ea405de0d37a",
       "version_major": 2,
       "version_minor": 0
      },
      "text/plain": [
       "Transcribing:   0%|          | 0/1 [00:00<?, ?it/s]"
      ]
     },
     "metadata": {},
     "output_type": "display_data"
    },
    {
     "name": "stdout",
     "output_type": "stream",
     "text": [
      "[NeMo I 2022-07-25 21:58:22 speaker_utils:82] Number of files to diarize: 1\n",
      "[NeMo I 2022-07-25 21:58:22 clustering_diarizer:153] Loading pretrained titanet_large model from NGC\n",
      "[NeMo I 2022-07-25 21:58:22 cloud:56] Found existing object /root/.cache/torch/NeMo/NeMo_1.10.0/titanet-l/492c0ab8416139171dc18c21879a9e45/titanet-l.nemo.\n",
      "[NeMo I 2022-07-25 21:58:22 cloud:62] Re-using file from: /root/.cache/torch/NeMo/NeMo_1.10.0/titanet-l/492c0ab8416139171dc18c21879a9e45/titanet-l.nemo\n",
      "[NeMo I 2022-07-25 21:58:22 common:789] Instantiating model from pre-trained checkpoint\n"
     ]
    },
    {
     "name": "stderr",
     "output_type": "stream",
     "text": [
      "[NeMo W 2022-07-25 21:58:23 modelPT:148] If you intend to do training or fine-tuning, please call the ModelPT.setup_training_data() method and provide a valid configuration file to setup the train data loader.\n",
      "    Train config : \n",
      "    manifest_filepath: /manifests/combined_fisher_swbd_voxceleb12_librispeech/train.json\n",
      "    sample_rate: 16000\n",
      "    labels: null\n",
      "    batch_size: 64\n",
      "    shuffle: true\n",
      "    time_length: 3\n",
      "    is_tarred: false\n",
      "    tarred_audio_filepaths: null\n",
      "    tarred_shard_strategy: scatter\n",
      "    augmentor:\n",
      "      noise:\n",
      "        manifest_path: /manifests/noise/rir_noise_manifest.json\n",
      "        prob: 0.5\n",
      "        min_snr_db: 0\n",
      "        max_snr_db: 15\n",
      "      speed:\n",
      "        prob: 0.5\n",
      "        sr: 16000\n",
      "        resample_type: kaiser_fast\n",
      "        min_speed_rate: 0.95\n",
      "        max_speed_rate: 1.05\n",
      "    num_workers: 15\n",
      "    pin_memory: true\n",
      "    \n",
      "[NeMo W 2022-07-25 21:58:23 modelPT:155] If you intend to do validation, please call the ModelPT.setup_validation_data() or ModelPT.setup_multiple_validation_data() method and provide a valid configuration file to setup the validation data loader(s). \n",
      "    Validation config : \n",
      "    manifest_filepath: /manifests/combined_fisher_swbd_voxceleb12_librispeech/dev.json\n",
      "    sample_rate: 16000\n",
      "    labels: null\n",
      "    batch_size: 128\n",
      "    shuffle: false\n",
      "    time_length: 3\n",
      "    num_workers: 15\n",
      "    pin_memory: true\n",
      "    \n"
     ]
    },
    {
     "name": "stdout",
     "output_type": "stream",
     "text": [
      "[NeMo I 2022-07-25 21:58:23 features:200] PADDING: 16\n",
      "[NeMo I 2022-07-25 21:58:24 label_models:100] loss is Angular Softmax\n",
      "[NeMo I 2022-07-25 21:58:24 save_restore_connector:243] Model EncDecSpeakerLabelModel was successfully restored from /root/.cache/torch/NeMo/NeMo_1.10.0/titanet-l/492c0ab8416139171dc18c21879a9e45/titanet-l.nemo.\n",
      "[NeMo I 2022-07-25 21:58:24 speaker_utils:82] Number of files to diarize: 1\n",
      "[NeMo I 2022-07-25 21:58:24 clustering_diarizer:271] Subsegmentation for embedding extraction: scale0, /home/DATA/amit_kesari/SD1/NeMo-ASR_Diar/data/voxconverse/speaker_outputs/subsegments_scale0.json\n",
      "[NeMo I 2022-07-25 21:58:24 clustering_diarizer:325] Extracting embeddings for Diarization\n",
      "[NeMo I 2022-07-25 21:58:24 collections:289] Filtered duration for loading collection is 0.000000.\n",
      "[NeMo I 2022-07-25 21:58:24 collections:293] # 2116 files loaded accounting to # 1 labels\n"
     ]
    },
    {
     "name": "stderr",
     "output_type": "stream",
     "text": [
      "100%|██████████| 34/34 [00:06<00:00,  5.65it/s]\n",
      "100%|██████████| 1/1 [00:06<00:00,  6.44s/it]\n"
     ]
    },
    {
     "name": "stdout",
     "output_type": "stream",
     "text": [
      "[NeMo I 2022-07-25 21:58:40 speaker_utils:460] Cumulative Results for collar 0.25 sec and ignore_overlap True: \n",
      "     FA: 0.0707\t MISS 0.2387\t                 Diarization ER: 0.4765\t, Confusion ER:0.1671\n",
      "[NeMo I 2022-07-25 21:58:40 clustering_diarizer:444] Outputs are saved in /home/DATA/amit_kesari/SD1/NeMo-ASR_Diar/data/voxconverse directory\n",
      "\n",
      "\n",
      "Diar score:  (<pyannote.metrics.diarization.DiarizationErrorRate object at 0x7fa0506f7c10>, {'zedtj': {'speaker_0': 'spk01', 'speaker_1': 'spk02', 'speaker_3': 'spk04', 'speaker_4': 'spk03', 'speaker_5': 'spk06', 'speaker_6': 'spk00'}})\n",
      "Diarization error rate (DER) = 50.0%\n",
      "\n",
      "\n",
      "voxconverse_label:  zehzu\n",
      "num_speakers:  6\n",
      "[NeMo I 2022-07-25 21:58:43 speaker_utils:82] Number of files to diarize: 1\n",
      "[NeMo I 2022-07-25 21:58:43 cloud:56] Found existing object /root/.cache/torch/NeMo/NeMo_1.10.0/QuartzNet15x5Base-En/2b066be39e9294d7100fb176ec817722/QuartzNet15x5Base-En.nemo.\n",
      "[NeMo I 2022-07-25 21:58:43 cloud:62] Re-using file from: /root/.cache/torch/NeMo/NeMo_1.10.0/QuartzNet15x5Base-En/2b066be39e9294d7100fb176ec817722/QuartzNet15x5Base-En.nemo\n",
      "[NeMo I 2022-07-25 21:58:43 common:789] Instantiating model from pre-trained checkpoint\n",
      "[NeMo I 2022-07-25 21:58:44 features:200] PADDING: 16\n",
      "[NeMo I 2022-07-25 21:58:46 save_restore_connector:243] Model EncDecCTCModel was successfully restored from /root/.cache/torch/NeMo/NeMo_1.10.0/QuartzNet15x5Base-En/2b066be39e9294d7100fb176ec817722/QuartzNet15x5Base-En.nemo.\n"
     ]
    },
    {
     "data": {
      "application/vnd.jupyter.widget-view+json": {
       "model_id": "e13a44da6c4c4fe89f62c6e330e3f7ad",
       "version_major": 2,
       "version_minor": 0
      },
      "text/plain": [
       "Transcribing:   0%|          | 0/1 [00:00<?, ?it/s]"
      ]
     },
     "metadata": {},
     "output_type": "display_data"
    },
    {
     "name": "stdout",
     "output_type": "stream",
     "text": [
      "[NeMo I 2022-07-25 21:58:46 speaker_utils:82] Number of files to diarize: 1\n",
      "[NeMo I 2022-07-25 21:58:46 clustering_diarizer:153] Loading pretrained titanet_large model from NGC\n",
      "[NeMo I 2022-07-25 21:58:46 cloud:56] Found existing object /root/.cache/torch/NeMo/NeMo_1.10.0/titanet-l/492c0ab8416139171dc18c21879a9e45/titanet-l.nemo.\n",
      "[NeMo I 2022-07-25 21:58:46 cloud:62] Re-using file from: /root/.cache/torch/NeMo/NeMo_1.10.0/titanet-l/492c0ab8416139171dc18c21879a9e45/titanet-l.nemo\n",
      "[NeMo I 2022-07-25 21:58:46 common:789] Instantiating model from pre-trained checkpoint\n"
     ]
    },
    {
     "name": "stderr",
     "output_type": "stream",
     "text": [
      "[NeMo W 2022-07-25 21:58:47 modelPT:148] If you intend to do training or fine-tuning, please call the ModelPT.setup_training_data() method and provide a valid configuration file to setup the train data loader.\n",
      "    Train config : \n",
      "    manifest_filepath: /manifests/combined_fisher_swbd_voxceleb12_librispeech/train.json\n",
      "    sample_rate: 16000\n",
      "    labels: null\n",
      "    batch_size: 64\n",
      "    shuffle: true\n",
      "    time_length: 3\n",
      "    is_tarred: false\n",
      "    tarred_audio_filepaths: null\n",
      "    tarred_shard_strategy: scatter\n",
      "    augmentor:\n",
      "      noise:\n",
      "        manifest_path: /manifests/noise/rir_noise_manifest.json\n",
      "        prob: 0.5\n",
      "        min_snr_db: 0\n",
      "        max_snr_db: 15\n",
      "      speed:\n",
      "        prob: 0.5\n",
      "        sr: 16000\n",
      "        resample_type: kaiser_fast\n",
      "        min_speed_rate: 0.95\n",
      "        max_speed_rate: 1.05\n",
      "    num_workers: 15\n",
      "    pin_memory: true\n",
      "    \n",
      "[NeMo W 2022-07-25 21:58:47 modelPT:155] If you intend to do validation, please call the ModelPT.setup_validation_data() or ModelPT.setup_multiple_validation_data() method and provide a valid configuration file to setup the validation data loader(s). \n",
      "    Validation config : \n",
      "    manifest_filepath: /manifests/combined_fisher_swbd_voxceleb12_librispeech/dev.json\n",
      "    sample_rate: 16000\n",
      "    labels: null\n",
      "    batch_size: 128\n",
      "    shuffle: false\n",
      "    time_length: 3\n",
      "    num_workers: 15\n",
      "    pin_memory: true\n",
      "    \n"
     ]
    },
    {
     "name": "stdout",
     "output_type": "stream",
     "text": [
      "[NeMo I 2022-07-25 21:58:47 features:200] PADDING: 16\n",
      "[NeMo I 2022-07-25 21:58:47 label_models:100] loss is Angular Softmax\n",
      "[NeMo I 2022-07-25 21:58:48 save_restore_connector:243] Model EncDecSpeakerLabelModel was successfully restored from /root/.cache/torch/NeMo/NeMo_1.10.0/titanet-l/492c0ab8416139171dc18c21879a9e45/titanet-l.nemo.\n",
      "[NeMo I 2022-07-25 21:58:48 speaker_utils:82] Number of files to diarize: 1\n",
      "[NeMo I 2022-07-25 21:58:48 clustering_diarizer:271] Subsegmentation for embedding extraction: scale0, /home/DATA/amit_kesari/SD1/NeMo-ASR_Diar/data/voxconverse/speaker_outputs/subsegments_scale0.json\n",
      "[NeMo I 2022-07-25 21:58:48 clustering_diarizer:325] Extracting embeddings for Diarization\n",
      "[NeMo I 2022-07-25 21:58:48 collections:289] Filtered duration for loading collection is 0.000000.\n",
      "[NeMo I 2022-07-25 21:58:48 collections:293] # 325 files loaded accounting to # 1 labels\n"
     ]
    },
    {
     "name": "stderr",
     "output_type": "stream",
     "text": [
      "100%|██████████| 6/6 [00:01<00:00,  4.85it/s]\n",
      "100%|██████████| 1/1 [00:09<00:00,  9.25s/it]"
     ]
    },
    {
     "name": "stdout",
     "output_type": "stream",
     "text": [
      "[NeMo I 2022-07-25 21:58:58 speaker_utils:460] Cumulative Results for collar 0.25 sec and ignore_overlap True: \n",
      "     FA: 0.0573\t MISS 0.2430\t                 Diarization ER: 0.4499\t, Confusion ER:0.1496\n",
      "[NeMo I 2022-07-25 21:58:58 clustering_diarizer:444] Outputs are saved in /home/DATA/amit_kesari/SD1/NeMo-ASR_Diar/data/voxconverse directory\n"
     ]
    },
    {
     "name": "stderr",
     "output_type": "stream",
     "text": [
      "\n"
     ]
    },
    {
     "name": "stdout",
     "output_type": "stream",
     "text": [
      "\n",
      "\n",
      "Diar score:  (<pyannote.metrics.diarization.DiarizationErrorRate object at 0x7fa0491f96d0>, {'zehzu': {'speaker_0': 'spk02', 'speaker_1': 'spk03', 'speaker_2': 'spk00', 'speaker_3': 'spk01', 'speaker_4': 'spk04', 'speaker_5': 'spk05'}})\n",
      "Diarization error rate (DER) = 47.2%\n",
      "\n",
      "\n",
      "voxconverse_label:  zfzlc\n",
      "num_speakers:  2\n",
      "[NeMo I 2022-07-25 21:58:59 speaker_utils:82] Number of files to diarize: 1\n",
      "[NeMo I 2022-07-25 21:58:59 cloud:56] Found existing object /root/.cache/torch/NeMo/NeMo_1.10.0/QuartzNet15x5Base-En/2b066be39e9294d7100fb176ec817722/QuartzNet15x5Base-En.nemo.\n",
      "[NeMo I 2022-07-25 21:58:59 cloud:62] Re-using file from: /root/.cache/torch/NeMo/NeMo_1.10.0/QuartzNet15x5Base-En/2b066be39e9294d7100fb176ec817722/QuartzNet15x5Base-En.nemo\n",
      "[NeMo I 2022-07-25 21:58:59 common:789] Instantiating model from pre-trained checkpoint\n",
      "[NeMo I 2022-07-25 21:58:59 features:200] PADDING: 16\n",
      "[NeMo I 2022-07-25 21:59:01 save_restore_connector:243] Model EncDecCTCModel was successfully restored from /root/.cache/torch/NeMo/NeMo_1.10.0/QuartzNet15x5Base-En/2b066be39e9294d7100fb176ec817722/QuartzNet15x5Base-En.nemo.\n"
     ]
    },
    {
     "data": {
      "application/vnd.jupyter.widget-view+json": {
       "model_id": "14977235e6734c1dbc6a95c516f8ccdc",
       "version_major": 2,
       "version_minor": 0
      },
      "text/plain": [
       "Transcribing:   0%|          | 0/1 [00:00<?, ?it/s]"
      ]
     },
     "metadata": {},
     "output_type": "display_data"
    },
    {
     "name": "stdout",
     "output_type": "stream",
     "text": [
      "[NeMo I 2022-07-25 21:59:02 speaker_utils:82] Number of files to diarize: 1\n",
      "[NeMo I 2022-07-25 21:59:02 clustering_diarizer:153] Loading pretrained titanet_large model from NGC\n",
      "[NeMo I 2022-07-25 21:59:02 cloud:56] Found existing object /root/.cache/torch/NeMo/NeMo_1.10.0/titanet-l/492c0ab8416139171dc18c21879a9e45/titanet-l.nemo.\n",
      "[NeMo I 2022-07-25 21:59:02 cloud:62] Re-using file from: /root/.cache/torch/NeMo/NeMo_1.10.0/titanet-l/492c0ab8416139171dc18c21879a9e45/titanet-l.nemo\n",
      "[NeMo I 2022-07-25 21:59:02 common:789] Instantiating model from pre-trained checkpoint\n"
     ]
    },
    {
     "name": "stderr",
     "output_type": "stream",
     "text": [
      "[NeMo W 2022-07-25 21:59:03 modelPT:148] If you intend to do training or fine-tuning, please call the ModelPT.setup_training_data() method and provide a valid configuration file to setup the train data loader.\n",
      "    Train config : \n",
      "    manifest_filepath: /manifests/combined_fisher_swbd_voxceleb12_librispeech/train.json\n",
      "    sample_rate: 16000\n",
      "    labels: null\n",
      "    batch_size: 64\n",
      "    shuffle: true\n",
      "    time_length: 3\n",
      "    is_tarred: false\n",
      "    tarred_audio_filepaths: null\n",
      "    tarred_shard_strategy: scatter\n",
      "    augmentor:\n",
      "      noise:\n",
      "        manifest_path: /manifests/noise/rir_noise_manifest.json\n",
      "        prob: 0.5\n",
      "        min_snr_db: 0\n",
      "        max_snr_db: 15\n",
      "      speed:\n",
      "        prob: 0.5\n",
      "        sr: 16000\n",
      "        resample_type: kaiser_fast\n",
      "        min_speed_rate: 0.95\n",
      "        max_speed_rate: 1.05\n",
      "    num_workers: 15\n",
      "    pin_memory: true\n",
      "    \n",
      "[NeMo W 2022-07-25 21:59:03 modelPT:155] If you intend to do validation, please call the ModelPT.setup_validation_data() or ModelPT.setup_multiple_validation_data() method and provide a valid configuration file to setup the validation data loader(s). \n",
      "    Validation config : \n",
      "    manifest_filepath: /manifests/combined_fisher_swbd_voxceleb12_librispeech/dev.json\n",
      "    sample_rate: 16000\n",
      "    labels: null\n",
      "    batch_size: 128\n",
      "    shuffle: false\n",
      "    time_length: 3\n",
      "    num_workers: 15\n",
      "    pin_memory: true\n",
      "    \n"
     ]
    },
    {
     "name": "stdout",
     "output_type": "stream",
     "text": [
      "[NeMo I 2022-07-25 21:59:03 features:200] PADDING: 16\n",
      "[NeMo I 2022-07-25 21:59:04 label_models:100] loss is Angular Softmax\n",
      "[NeMo I 2022-07-25 21:59:04 save_restore_connector:243] Model EncDecSpeakerLabelModel was successfully restored from /root/.cache/torch/NeMo/NeMo_1.10.0/titanet-l/492c0ab8416139171dc18c21879a9e45/titanet-l.nemo.\n",
      "[NeMo I 2022-07-25 21:59:04 speaker_utils:82] Number of files to diarize: 1\n",
      "[NeMo I 2022-07-25 21:59:04 clustering_diarizer:271] Subsegmentation for embedding extraction: scale0, /home/DATA/amit_kesari/SD1/NeMo-ASR_Diar/data/voxconverse/speaker_outputs/subsegments_scale0.json\n",
      "[NeMo I 2022-07-25 21:59:04 clustering_diarizer:325] Extracting embeddings for Diarization\n",
      "[NeMo I 2022-07-25 21:59:04 collections:289] Filtered duration for loading collection is 0.000000.\n",
      "[NeMo I 2022-07-25 21:59:04 collections:293] # 1343 files loaded accounting to # 1 labels\n"
     ]
    },
    {
     "name": "stderr",
     "output_type": "stream",
     "text": [
      "100%|██████████| 21/21 [00:03<00:00,  5.29it/s]\n",
      "100%|██████████| 1/1 [00:10<00:00, 10.18s/it]\n"
     ]
    },
    {
     "name": "stdout",
     "output_type": "stream",
     "text": [
      "[NeMo I 2022-07-25 21:59:19 speaker_utils:460] Cumulative Results for collar 0.25 sec and ignore_overlap True: \n",
      "     FA: 0.0248\t MISS 0.0638\t                 Diarization ER: 0.0916\t, Confusion ER:0.0029\n",
      "[NeMo I 2022-07-25 21:59:19 clustering_diarizer:444] Outputs are saved in /home/DATA/amit_kesari/SD1/NeMo-ASR_Diar/data/voxconverse directory\n",
      "\n",
      "\n",
      "Diar score:  (<pyannote.metrics.diarization.DiarizationErrorRate object at 0x7fa0486650a0>, {'zfzlc': {'speaker_0': 'spk01', 'speaker_1': 'spk00'}})\n",
      "Diarization error rate (DER) = 13.1%\n",
      "\n",
      "\n",
      "voxconverse_label:  zowse\n",
      "num_speakers:  9\n",
      "[NeMo I 2022-07-25 21:59:20 speaker_utils:82] Number of files to diarize: 1\n",
      "[NeMo I 2022-07-25 21:59:20 cloud:56] Found existing object /root/.cache/torch/NeMo/NeMo_1.10.0/QuartzNet15x5Base-En/2b066be39e9294d7100fb176ec817722/QuartzNet15x5Base-En.nemo.\n",
      "[NeMo I 2022-07-25 21:59:20 cloud:62] Re-using file from: /root/.cache/torch/NeMo/NeMo_1.10.0/QuartzNet15x5Base-En/2b066be39e9294d7100fb176ec817722/QuartzNet15x5Base-En.nemo\n",
      "[NeMo I 2022-07-25 21:59:20 common:789] Instantiating model from pre-trained checkpoint\n",
      "[NeMo I 2022-07-25 21:59:21 features:200] PADDING: 16\n",
      "[NeMo I 2022-07-25 21:59:22 save_restore_connector:243] Model EncDecCTCModel was successfully restored from /root/.cache/torch/NeMo/NeMo_1.10.0/QuartzNet15x5Base-En/2b066be39e9294d7100fb176ec817722/QuartzNet15x5Base-En.nemo.\n"
     ]
    },
    {
     "data": {
      "application/vnd.jupyter.widget-view+json": {
       "model_id": "967a526a18df45e89b602274b1864c70",
       "version_major": 2,
       "version_minor": 0
      },
      "text/plain": [
       "Transcribing:   0%|          | 0/1 [00:00<?, ?it/s]"
      ]
     },
     "metadata": {},
     "output_type": "display_data"
    },
    {
     "name": "stdout",
     "output_type": "stream",
     "text": [
      "[NeMo I 2022-07-25 21:59:24 speaker_utils:82] Number of files to diarize: 1\n",
      "[NeMo I 2022-07-25 21:59:24 clustering_diarizer:153] Loading pretrained titanet_large model from NGC\n",
      "[NeMo I 2022-07-25 21:59:24 cloud:56] Found existing object /root/.cache/torch/NeMo/NeMo_1.10.0/titanet-l/492c0ab8416139171dc18c21879a9e45/titanet-l.nemo.\n",
      "[NeMo I 2022-07-25 21:59:24 cloud:62] Re-using file from: /root/.cache/torch/NeMo/NeMo_1.10.0/titanet-l/492c0ab8416139171dc18c21879a9e45/titanet-l.nemo\n",
      "[NeMo I 2022-07-25 21:59:24 common:789] Instantiating model from pre-trained checkpoint\n"
     ]
    },
    {
     "name": "stderr",
     "output_type": "stream",
     "text": [
      "[NeMo W 2022-07-25 21:59:25 modelPT:148] If you intend to do training or fine-tuning, please call the ModelPT.setup_training_data() method and provide a valid configuration file to setup the train data loader.\n",
      "    Train config : \n",
      "    manifest_filepath: /manifests/combined_fisher_swbd_voxceleb12_librispeech/train.json\n",
      "    sample_rate: 16000\n",
      "    labels: null\n",
      "    batch_size: 64\n",
      "    shuffle: true\n",
      "    time_length: 3\n",
      "    is_tarred: false\n",
      "    tarred_audio_filepaths: null\n",
      "    tarred_shard_strategy: scatter\n",
      "    augmentor:\n",
      "      noise:\n",
      "        manifest_path: /manifests/noise/rir_noise_manifest.json\n",
      "        prob: 0.5\n",
      "        min_snr_db: 0\n",
      "        max_snr_db: 15\n",
      "      speed:\n",
      "        prob: 0.5\n",
      "        sr: 16000\n",
      "        resample_type: kaiser_fast\n",
      "        min_speed_rate: 0.95\n",
      "        max_speed_rate: 1.05\n",
      "    num_workers: 15\n",
      "    pin_memory: true\n",
      "    \n",
      "[NeMo W 2022-07-25 21:59:25 modelPT:155] If you intend to do validation, please call the ModelPT.setup_validation_data() or ModelPT.setup_multiple_validation_data() method and provide a valid configuration file to setup the validation data loader(s). \n",
      "    Validation config : \n",
      "    manifest_filepath: /manifests/combined_fisher_swbd_voxceleb12_librispeech/dev.json\n",
      "    sample_rate: 16000\n",
      "    labels: null\n",
      "    batch_size: 128\n",
      "    shuffle: false\n",
      "    time_length: 3\n",
      "    num_workers: 15\n",
      "    pin_memory: true\n",
      "    \n"
     ]
    },
    {
     "name": "stdout",
     "output_type": "stream",
     "text": [
      "[NeMo I 2022-07-25 21:59:25 features:200] PADDING: 16\n",
      "[NeMo I 2022-07-25 21:59:25 label_models:100] loss is Angular Softmax\n",
      "[NeMo I 2022-07-25 21:59:25 save_restore_connector:243] Model EncDecSpeakerLabelModel was successfully restored from /root/.cache/torch/NeMo/NeMo_1.10.0/titanet-l/492c0ab8416139171dc18c21879a9e45/titanet-l.nemo.\n",
      "[NeMo I 2022-07-25 21:59:25 speaker_utils:82] Number of files to diarize: 1\n",
      "[NeMo I 2022-07-25 21:59:25 clustering_diarizer:271] Subsegmentation for embedding extraction: scale0, /home/DATA/amit_kesari/SD1/NeMo-ASR_Diar/data/voxconverse/speaker_outputs/subsegments_scale0.json\n",
      "[NeMo I 2022-07-25 21:59:25 clustering_diarizer:325] Extracting embeddings for Diarization\n",
      "[NeMo I 2022-07-25 21:59:25 collections:289] Filtered duration for loading collection is 0.000000.\n",
      "[NeMo I 2022-07-25 21:59:25 collections:293] # 2098 files loaded accounting to # 1 labels\n"
     ]
    },
    {
     "name": "stderr",
     "output_type": "stream",
     "text": [
      "100%|██████████| 33/33 [00:06<00:00,  5.48it/s]\n",
      "100%|██████████| 1/1 [00:10<00:00, 10.80s/it]\n"
     ]
    },
    {
     "name": "stdout",
     "output_type": "stream",
     "text": [
      "[NeMo I 2022-07-25 21:59:46 speaker_utils:460] Cumulative Results for collar 0.25 sec and ignore_overlap True: \n",
      "     FA: 0.1059\t MISS 0.2294\t                 Diarization ER: 0.4746\t, Confusion ER:0.1393\n",
      "[NeMo I 2022-07-25 21:59:46 clustering_diarizer:444] Outputs are saved in /home/DATA/amit_kesari/SD1/NeMo-ASR_Diar/data/voxconverse directory\n",
      "\n",
      "\n",
      "Diar score:  (<pyannote.metrics.diarization.DiarizationErrorRate object at 0x7fa157cc8700>, {'zowse': {'speaker_0': 'spk02', 'speaker_1': 'spk01', 'speaker_2': 'spk04', 'speaker_4': 'spk08', 'speaker_6': 'spk06', 'speaker_7': 'spk07', 'speaker_8': 'spk00'}})\n",
      "Diarization error rate (DER) = 50.7%\n",
      "\n",
      "\n",
      "voxconverse_label:  zqidv\n",
      "num_speakers:  8\n",
      "[NeMo I 2022-07-25 21:59:49 speaker_utils:82] Number of files to diarize: 1\n",
      "[NeMo I 2022-07-25 21:59:49 cloud:56] Found existing object /root/.cache/torch/NeMo/NeMo_1.10.0/QuartzNet15x5Base-En/2b066be39e9294d7100fb176ec817722/QuartzNet15x5Base-En.nemo.\n",
      "[NeMo I 2022-07-25 21:59:49 cloud:62] Re-using file from: /root/.cache/torch/NeMo/NeMo_1.10.0/QuartzNet15x5Base-En/2b066be39e9294d7100fb176ec817722/QuartzNet15x5Base-En.nemo\n",
      "[NeMo I 2022-07-25 21:59:49 common:789] Instantiating model from pre-trained checkpoint\n",
      "[NeMo I 2022-07-25 21:59:50 features:200] PADDING: 16\n",
      "[NeMo I 2022-07-25 21:59:52 save_restore_connector:243] Model EncDecCTCModel was successfully restored from /root/.cache/torch/NeMo/NeMo_1.10.0/QuartzNet15x5Base-En/2b066be39e9294d7100fb176ec817722/QuartzNet15x5Base-En.nemo.\n"
     ]
    },
    {
     "data": {
      "application/vnd.jupyter.widget-view+json": {
       "model_id": "e3ee648cb9d544fbb2f3e7bc736f79f0",
       "version_major": 2,
       "version_minor": 0
      },
      "text/plain": [
       "Transcribing:   0%|          | 0/1 [00:00<?, ?it/s]"
      ]
     },
     "metadata": {},
     "output_type": "display_data"
    },
    {
     "name": "stdout",
     "output_type": "stream",
     "text": [
      "[NeMo I 2022-07-25 21:59:53 speaker_utils:82] Number of files to diarize: 1\n",
      "[NeMo I 2022-07-25 21:59:53 clustering_diarizer:153] Loading pretrained titanet_large model from NGC\n",
      "[NeMo I 2022-07-25 21:59:53 cloud:56] Found existing object /root/.cache/torch/NeMo/NeMo_1.10.0/titanet-l/492c0ab8416139171dc18c21879a9e45/titanet-l.nemo.\n",
      "[NeMo I 2022-07-25 21:59:53 cloud:62] Re-using file from: /root/.cache/torch/NeMo/NeMo_1.10.0/titanet-l/492c0ab8416139171dc18c21879a9e45/titanet-l.nemo\n",
      "[NeMo I 2022-07-25 21:59:53 common:789] Instantiating model from pre-trained checkpoint\n"
     ]
    },
    {
     "name": "stderr",
     "output_type": "stream",
     "text": [
      "[NeMo W 2022-07-25 21:59:54 modelPT:148] If you intend to do training or fine-tuning, please call the ModelPT.setup_training_data() method and provide a valid configuration file to setup the train data loader.\n",
      "    Train config : \n",
      "    manifest_filepath: /manifests/combined_fisher_swbd_voxceleb12_librispeech/train.json\n",
      "    sample_rate: 16000\n",
      "    labels: null\n",
      "    batch_size: 64\n",
      "    shuffle: true\n",
      "    time_length: 3\n",
      "    is_tarred: false\n",
      "    tarred_audio_filepaths: null\n",
      "    tarred_shard_strategy: scatter\n",
      "    augmentor:\n",
      "      noise:\n",
      "        manifest_path: /manifests/noise/rir_noise_manifest.json\n",
      "        prob: 0.5\n",
      "        min_snr_db: 0\n",
      "        max_snr_db: 15\n",
      "      speed:\n",
      "        prob: 0.5\n",
      "        sr: 16000\n",
      "        resample_type: kaiser_fast\n",
      "        min_speed_rate: 0.95\n",
      "        max_speed_rate: 1.05\n",
      "    num_workers: 15\n",
      "    pin_memory: true\n",
      "    \n",
      "[NeMo W 2022-07-25 21:59:54 modelPT:155] If you intend to do validation, please call the ModelPT.setup_validation_data() or ModelPT.setup_multiple_validation_data() method and provide a valid configuration file to setup the validation data loader(s). \n",
      "    Validation config : \n",
      "    manifest_filepath: /manifests/combined_fisher_swbd_voxceleb12_librispeech/dev.json\n",
      "    sample_rate: 16000\n",
      "    labels: null\n",
      "    batch_size: 128\n",
      "    shuffle: false\n",
      "    time_length: 3\n",
      "    num_workers: 15\n",
      "    pin_memory: true\n",
      "    \n"
     ]
    },
    {
     "name": "stdout",
     "output_type": "stream",
     "text": [
      "[NeMo I 2022-07-25 21:59:54 features:200] PADDING: 16\n",
      "[NeMo I 2022-07-25 21:59:54 label_models:100] loss is Angular Softmax\n",
      "[NeMo I 2022-07-25 21:59:55 save_restore_connector:243] Model EncDecSpeakerLabelModel was successfully restored from /root/.cache/torch/NeMo/NeMo_1.10.0/titanet-l/492c0ab8416139171dc18c21879a9e45/titanet-l.nemo.\n",
      "[NeMo I 2022-07-25 21:59:55 speaker_utils:82] Number of files to diarize: 1\n",
      "[NeMo I 2022-07-25 21:59:55 clustering_diarizer:271] Subsegmentation for embedding extraction: scale0, /home/DATA/amit_kesari/SD1/NeMo-ASR_Diar/data/voxconverse/speaker_outputs/subsegments_scale0.json\n",
      "[NeMo I 2022-07-25 21:59:55 clustering_diarizer:325] Extracting embeddings for Diarization\n",
      "[NeMo I 2022-07-25 21:59:55 collections:289] Filtered duration for loading collection is 0.000000.\n",
      "[NeMo I 2022-07-25 21:59:55 collections:293] # 1518 files loaded accounting to # 1 labels\n"
     ]
    },
    {
     "name": "stderr",
     "output_type": "stream",
     "text": [
      "100%|██████████| 24/24 [00:04<00:00,  5.38it/s]\n",
      "100%|██████████| 1/1 [00:09<00:00,  9.34s/it]\n"
     ]
    },
    {
     "name": "stdout",
     "output_type": "stream",
     "text": [
      "[NeMo I 2022-07-25 22:00:10 speaker_utils:460] Cumulative Results for collar 0.25 sec and ignore_overlap True: \n",
      "     FA: 0.3572\t MISS 0.1898\t                 Diarization ER: 0.8038\t, Confusion ER:0.2569\n",
      "[NeMo I 2022-07-25 22:00:10 clustering_diarizer:444] Outputs are saved in /home/DATA/amit_kesari/SD1/NeMo-ASR_Diar/data/voxconverse directory\n",
      "\n",
      "\n",
      "Diar score:  (<pyannote.metrics.diarization.DiarizationErrorRate object at 0x7fa05047bc10>, {'zqidv': {'speaker_0': 'spk02', 'speaker_1': 'spk00', 'speaker_2': 'spk03', 'speaker_3': 'spk01', 'speaker_5': 'spk06', 'speaker_7': 'spk07'}})\n",
      "Diarization error rate (DER) = 83.1%\n",
      "\n",
      "\n",
      "voxconverse_label:  zsgto\n",
      "num_speakers:  5\n",
      "[NeMo I 2022-07-25 22:00:13 speaker_utils:82] Number of files to diarize: 1\n",
      "[NeMo I 2022-07-25 22:00:13 cloud:56] Found existing object /root/.cache/torch/NeMo/NeMo_1.10.0/QuartzNet15x5Base-En/2b066be39e9294d7100fb176ec817722/QuartzNet15x5Base-En.nemo.\n",
      "[NeMo I 2022-07-25 22:00:13 cloud:62] Re-using file from: /root/.cache/torch/NeMo/NeMo_1.10.0/QuartzNet15x5Base-En/2b066be39e9294d7100fb176ec817722/QuartzNet15x5Base-En.nemo\n",
      "[NeMo I 2022-07-25 22:00:13 common:789] Instantiating model from pre-trained checkpoint\n",
      "[NeMo I 2022-07-25 22:00:14 features:200] PADDING: 16\n",
      "[NeMo I 2022-07-25 22:00:15 save_restore_connector:243] Model EncDecCTCModel was successfully restored from /root/.cache/torch/NeMo/NeMo_1.10.0/QuartzNet15x5Base-En/2b066be39e9294d7100fb176ec817722/QuartzNet15x5Base-En.nemo.\n"
     ]
    },
    {
     "data": {
      "application/vnd.jupyter.widget-view+json": {
       "model_id": "dda15b1f07e04137a838081cc8699197",
       "version_major": 2,
       "version_minor": 0
      },
      "text/plain": [
       "Transcribing:   0%|          | 0/1 [00:00<?, ?it/s]"
      ]
     },
     "metadata": {},
     "output_type": "display_data"
    },
    {
     "name": "stdout",
     "output_type": "stream",
     "text": [
      "[NeMo I 2022-07-25 22:00:18 speaker_utils:82] Number of files to diarize: 1\n",
      "[NeMo I 2022-07-25 22:00:18 clustering_diarizer:153] Loading pretrained titanet_large model from NGC\n",
      "[NeMo I 2022-07-25 22:00:18 cloud:56] Found existing object /root/.cache/torch/NeMo/NeMo_1.10.0/titanet-l/492c0ab8416139171dc18c21879a9e45/titanet-l.nemo.\n",
      "[NeMo I 2022-07-25 22:00:18 cloud:62] Re-using file from: /root/.cache/torch/NeMo/NeMo_1.10.0/titanet-l/492c0ab8416139171dc18c21879a9e45/titanet-l.nemo\n",
      "[NeMo I 2022-07-25 22:00:18 common:789] Instantiating model from pre-trained checkpoint\n"
     ]
    },
    {
     "name": "stderr",
     "output_type": "stream",
     "text": [
      "[NeMo W 2022-07-25 22:00:19 modelPT:148] If you intend to do training or fine-tuning, please call the ModelPT.setup_training_data() method and provide a valid configuration file to setup the train data loader.\n",
      "    Train config : \n",
      "    manifest_filepath: /manifests/combined_fisher_swbd_voxceleb12_librispeech/train.json\n",
      "    sample_rate: 16000\n",
      "    labels: null\n",
      "    batch_size: 64\n",
      "    shuffle: true\n",
      "    time_length: 3\n",
      "    is_tarred: false\n",
      "    tarred_audio_filepaths: null\n",
      "    tarred_shard_strategy: scatter\n",
      "    augmentor:\n",
      "      noise:\n",
      "        manifest_path: /manifests/noise/rir_noise_manifest.json\n",
      "        prob: 0.5\n",
      "        min_snr_db: 0\n",
      "        max_snr_db: 15\n",
      "      speed:\n",
      "        prob: 0.5\n",
      "        sr: 16000\n",
      "        resample_type: kaiser_fast\n",
      "        min_speed_rate: 0.95\n",
      "        max_speed_rate: 1.05\n",
      "    num_workers: 15\n",
      "    pin_memory: true\n",
      "    \n",
      "[NeMo W 2022-07-25 22:00:19 modelPT:155] If you intend to do validation, please call the ModelPT.setup_validation_data() or ModelPT.setup_multiple_validation_data() method and provide a valid configuration file to setup the validation data loader(s). \n",
      "    Validation config : \n",
      "    manifest_filepath: /manifests/combined_fisher_swbd_voxceleb12_librispeech/dev.json\n",
      "    sample_rate: 16000\n",
      "    labels: null\n",
      "    batch_size: 128\n",
      "    shuffle: false\n",
      "    time_length: 3\n",
      "    num_workers: 15\n",
      "    pin_memory: true\n",
      "    \n"
     ]
    },
    {
     "name": "stdout",
     "output_type": "stream",
     "text": [
      "[NeMo I 2022-07-25 22:00:19 features:200] PADDING: 16\n",
      "[NeMo I 2022-07-25 22:00:20 label_models:100] loss is Angular Softmax\n",
      "[NeMo I 2022-07-25 22:00:20 save_restore_connector:243] Model EncDecSpeakerLabelModel was successfully restored from /root/.cache/torch/NeMo/NeMo_1.10.0/titanet-l/492c0ab8416139171dc18c21879a9e45/titanet-l.nemo.\n",
      "[NeMo I 2022-07-25 22:00:20 speaker_utils:82] Number of files to diarize: 1\n",
      "[NeMo I 2022-07-25 22:00:20 clustering_diarizer:271] Subsegmentation for embedding extraction: scale0, /home/DATA/amit_kesari/SD1/NeMo-ASR_Diar/data/voxconverse/speaker_outputs/subsegments_scale0.json\n",
      "[NeMo I 2022-07-25 22:00:20 clustering_diarizer:325] Extracting embeddings for Diarization\n",
      "[NeMo I 2022-07-25 22:00:20 collections:289] Filtered duration for loading collection is 0.000000.\n",
      "[NeMo I 2022-07-25 22:00:20 collections:293] # 2229 files loaded accounting to # 1 labels\n"
     ]
    },
    {
     "name": "stderr",
     "output_type": "stream",
     "text": [
      "100%|██████████| 35/35 [00:06<00:00,  5.52it/s]\n",
      "100%|██████████| 1/1 [00:09<00:00,  9.97s/it]\n"
     ]
    },
    {
     "name": "stdout",
     "output_type": "stream",
     "text": [
      "[NeMo I 2022-07-25 22:00:40 speaker_utils:460] Cumulative Results for collar 0.25 sec and ignore_overlap True: \n",
      "     FA: 0.0583\t MISS 0.2512\t                 Diarization ER: 0.4457\t, Confusion ER:0.1361\n",
      "[NeMo I 2022-07-25 22:00:40 clustering_diarizer:444] Outputs are saved in /home/DATA/amit_kesari/SD1/NeMo-ASR_Diar/data/voxconverse directory\n",
      "\n",
      "\n",
      "Diar score:  (<pyannote.metrics.diarization.DiarizationErrorRate object at 0x7fa06004a9d0>, {'zsgto': {'speaker_0': 'spk04', 'speaker_1': 'spk00', 'speaker_2': 'spk03', 'speaker_3': 'spk01', 'speaker_4': 'spk02'}})\n",
      "Diarization error rate (DER) = 47.1%\n",
      "\n",
      "\n",
      "voxconverse_label:  zzsba\n",
      "num_speakers:  11\n",
      "[NeMo I 2022-07-25 22:00:45 speaker_utils:82] Number of files to diarize: 1\n",
      "[NeMo I 2022-07-25 22:00:45 cloud:56] Found existing object /root/.cache/torch/NeMo/NeMo_1.10.0/QuartzNet15x5Base-En/2b066be39e9294d7100fb176ec817722/QuartzNet15x5Base-En.nemo.\n",
      "[NeMo I 2022-07-25 22:00:45 cloud:62] Re-using file from: /root/.cache/torch/NeMo/NeMo_1.10.0/QuartzNet15x5Base-En/2b066be39e9294d7100fb176ec817722/QuartzNet15x5Base-En.nemo\n",
      "[NeMo I 2022-07-25 22:00:45 common:789] Instantiating model from pre-trained checkpoint\n",
      "[NeMo I 2022-07-25 22:00:45 features:200] PADDING: 16\n",
      "[NeMo I 2022-07-25 22:00:47 save_restore_connector:243] Model EncDecCTCModel was successfully restored from /root/.cache/torch/NeMo/NeMo_1.10.0/QuartzNet15x5Base-En/2b066be39e9294d7100fb176ec817722/QuartzNet15x5Base-En.nemo.\n"
     ]
    },
    {
     "data": {
      "application/vnd.jupyter.widget-view+json": {
       "model_id": "0590b69a9e1b4889a4ca37a206b77e16",
       "version_major": 2,
       "version_minor": 0
      },
      "text/plain": [
       "Transcribing:   0%|          | 0/1 [00:00<?, ?it/s]"
      ]
     },
     "metadata": {},
     "output_type": "display_data"
    },
    {
     "name": "stdout",
     "output_type": "stream",
     "text": [
      "[NeMo I 2022-07-25 22:00:48 speaker_utils:82] Number of files to diarize: 1\n",
      "[NeMo I 2022-07-25 22:00:48 clustering_diarizer:153] Loading pretrained titanet_large model from NGC\n",
      "[NeMo I 2022-07-25 22:00:48 cloud:56] Found existing object /root/.cache/torch/NeMo/NeMo_1.10.0/titanet-l/492c0ab8416139171dc18c21879a9e45/titanet-l.nemo.\n",
      "[NeMo I 2022-07-25 22:00:48 cloud:62] Re-using file from: /root/.cache/torch/NeMo/NeMo_1.10.0/titanet-l/492c0ab8416139171dc18c21879a9e45/titanet-l.nemo\n",
      "[NeMo I 2022-07-25 22:00:48 common:789] Instantiating model from pre-trained checkpoint\n"
     ]
    },
    {
     "name": "stderr",
     "output_type": "stream",
     "text": [
      "[NeMo W 2022-07-25 22:00:49 modelPT:148] If you intend to do training or fine-tuning, please call the ModelPT.setup_training_data() method and provide a valid configuration file to setup the train data loader.\n",
      "    Train config : \n",
      "    manifest_filepath: /manifests/combined_fisher_swbd_voxceleb12_librispeech/train.json\n",
      "    sample_rate: 16000\n",
      "    labels: null\n",
      "    batch_size: 64\n",
      "    shuffle: true\n",
      "    time_length: 3\n",
      "    is_tarred: false\n",
      "    tarred_audio_filepaths: null\n",
      "    tarred_shard_strategy: scatter\n",
      "    augmentor:\n",
      "      noise:\n",
      "        manifest_path: /manifests/noise/rir_noise_manifest.json\n",
      "        prob: 0.5\n",
      "        min_snr_db: 0\n",
      "        max_snr_db: 15\n",
      "      speed:\n",
      "        prob: 0.5\n",
      "        sr: 16000\n",
      "        resample_type: kaiser_fast\n",
      "        min_speed_rate: 0.95\n",
      "        max_speed_rate: 1.05\n",
      "    num_workers: 15\n",
      "    pin_memory: true\n",
      "    \n",
      "[NeMo W 2022-07-25 22:00:49 modelPT:155] If you intend to do validation, please call the ModelPT.setup_validation_data() or ModelPT.setup_multiple_validation_data() method and provide a valid configuration file to setup the validation data loader(s). \n",
      "    Validation config : \n",
      "    manifest_filepath: /manifests/combined_fisher_swbd_voxceleb12_librispeech/dev.json\n",
      "    sample_rate: 16000\n",
      "    labels: null\n",
      "    batch_size: 128\n",
      "    shuffle: false\n",
      "    time_length: 3\n",
      "    num_workers: 15\n",
      "    pin_memory: true\n",
      "    \n"
     ]
    },
    {
     "name": "stdout",
     "output_type": "stream",
     "text": [
      "[NeMo I 2022-07-25 22:00:49 features:200] PADDING: 16\n",
      "[NeMo I 2022-07-25 22:00:50 label_models:100] loss is Angular Softmax\n",
      "[NeMo I 2022-07-25 22:00:50 save_restore_connector:243] Model EncDecSpeakerLabelModel was successfully restored from /root/.cache/torch/NeMo/NeMo_1.10.0/titanet-l/492c0ab8416139171dc18c21879a9e45/titanet-l.nemo.\n",
      "[NeMo I 2022-07-25 22:00:50 speaker_utils:82] Number of files to diarize: 1\n",
      "[NeMo I 2022-07-25 22:00:50 clustering_diarizer:271] Subsegmentation for embedding extraction: scale0, /home/DATA/amit_kesari/SD1/NeMo-ASR_Diar/data/voxconverse/speaker_outputs/subsegments_scale0.json\n",
      "[NeMo I 2022-07-25 22:00:50 clustering_diarizer:325] Extracting embeddings for Diarization\n",
      "[NeMo I 2022-07-25 22:00:50 collections:289] Filtered duration for loading collection is 0.000000.\n",
      "[NeMo I 2022-07-25 22:00:50 collections:293] # 2250 files loaded accounting to # 1 labels\n"
     ]
    },
    {
     "name": "stderr",
     "output_type": "stream",
     "text": [
      "100%|██████████| 36/36 [00:06<00:00,  5.56it/s]\n",
      "100%|██████████| 1/1 [00:10<00:00, 10.10s/it]\n"
     ]
    },
    {
     "name": "stdout",
     "output_type": "stream",
     "text": [
      "[NeMo I 2022-07-25 22:01:10 speaker_utils:460] Cumulative Results for collar 0.25 sec and ignore_overlap True: \n",
      "     FA: 0.0761\t MISS 0.2462\t                 Diarization ER: 0.5480\t, Confusion ER:0.2257\n",
      "[NeMo I 2022-07-25 22:01:10 clustering_diarizer:444] Outputs are saved in /home/DATA/amit_kesari/SD1/NeMo-ASR_Diar/data/voxconverse directory\n",
      "\n",
      "\n",
      "Diar score:  (<pyannote.metrics.diarization.DiarizationErrorRate object at 0x7fa0504ef640>, {'zzsba': {'speaker_0': 'spk07', 'speaker_1': 'spk02', 'speaker_2': 'spk04', 'speaker_5': 'spk03', 'speaker_6': 'spk08', 'speaker_8': 'spk00', 'speaker_9': 'spk05'}})\n",
      "Diarization error rate (DER) = 57.5%\n",
      "\n",
      "\n",
      "voxconverse_label:  zztbo\n",
      "num_speakers:  1\n",
      "[NeMo I 2022-07-25 22:01:14 speaker_utils:82] Number of files to diarize: 1\n",
      "[NeMo I 2022-07-25 22:01:14 cloud:56] Found existing object /root/.cache/torch/NeMo/NeMo_1.10.0/QuartzNet15x5Base-En/2b066be39e9294d7100fb176ec817722/QuartzNet15x5Base-En.nemo.\n",
      "[NeMo I 2022-07-25 22:01:14 cloud:62] Re-using file from: /root/.cache/torch/NeMo/NeMo_1.10.0/QuartzNet15x5Base-En/2b066be39e9294d7100fb176ec817722/QuartzNet15x5Base-En.nemo\n",
      "[NeMo I 2022-07-25 22:01:14 common:789] Instantiating model from pre-trained checkpoint\n",
      "[NeMo I 2022-07-25 22:01:15 features:200] PADDING: 16\n",
      "[NeMo I 2022-07-25 22:01:17 save_restore_connector:243] Model EncDecCTCModel was successfully restored from /root/.cache/torch/NeMo/NeMo_1.10.0/QuartzNet15x5Base-En/2b066be39e9294d7100fb176ec817722/QuartzNet15x5Base-En.nemo.\n"
     ]
    },
    {
     "data": {
      "application/vnd.jupyter.widget-view+json": {
       "model_id": "2fee5ce1fce24f4d9d7c8a17d37a3dbf",
       "version_major": 2,
       "version_minor": 0
      },
      "text/plain": [
       "Transcribing:   0%|          | 0/1 [00:00<?, ?it/s]"
      ]
     },
     "metadata": {},
     "output_type": "display_data"
    },
    {
     "name": "stdout",
     "output_type": "stream",
     "text": [
      "[NeMo I 2022-07-25 22:01:17 speaker_utils:82] Number of files to diarize: 1\n",
      "[NeMo I 2022-07-25 22:01:17 clustering_diarizer:153] Loading pretrained titanet_large model from NGC\n",
      "[NeMo I 2022-07-25 22:01:17 cloud:56] Found existing object /root/.cache/torch/NeMo/NeMo_1.10.0/titanet-l/492c0ab8416139171dc18c21879a9e45/titanet-l.nemo.\n",
      "[NeMo I 2022-07-25 22:01:17 cloud:62] Re-using file from: /root/.cache/torch/NeMo/NeMo_1.10.0/titanet-l/492c0ab8416139171dc18c21879a9e45/titanet-l.nemo\n",
      "[NeMo I 2022-07-25 22:01:17 common:789] Instantiating model from pre-trained checkpoint\n"
     ]
    },
    {
     "name": "stderr",
     "output_type": "stream",
     "text": [
      "[NeMo W 2022-07-25 22:01:18 modelPT:148] If you intend to do training or fine-tuning, please call the ModelPT.setup_training_data() method and provide a valid configuration file to setup the train data loader.\n",
      "    Train config : \n",
      "    manifest_filepath: /manifests/combined_fisher_swbd_voxceleb12_librispeech/train.json\n",
      "    sample_rate: 16000\n",
      "    labels: null\n",
      "    batch_size: 64\n",
      "    shuffle: true\n",
      "    time_length: 3\n",
      "    is_tarred: false\n",
      "    tarred_audio_filepaths: null\n",
      "    tarred_shard_strategy: scatter\n",
      "    augmentor:\n",
      "      noise:\n",
      "        manifest_path: /manifests/noise/rir_noise_manifest.json\n",
      "        prob: 0.5\n",
      "        min_snr_db: 0\n",
      "        max_snr_db: 15\n",
      "      speed:\n",
      "        prob: 0.5\n",
      "        sr: 16000\n",
      "        resample_type: kaiser_fast\n",
      "        min_speed_rate: 0.95\n",
      "        max_speed_rate: 1.05\n",
      "    num_workers: 15\n",
      "    pin_memory: true\n",
      "    \n",
      "[NeMo W 2022-07-25 22:01:18 modelPT:155] If you intend to do validation, please call the ModelPT.setup_validation_data() or ModelPT.setup_multiple_validation_data() method and provide a valid configuration file to setup the validation data loader(s). \n",
      "    Validation config : \n",
      "    manifest_filepath: /manifests/combined_fisher_swbd_voxceleb12_librispeech/dev.json\n",
      "    sample_rate: 16000\n",
      "    labels: null\n",
      "    batch_size: 128\n",
      "    shuffle: false\n",
      "    time_length: 3\n",
      "    num_workers: 15\n",
      "    pin_memory: true\n",
      "    \n"
     ]
    },
    {
     "name": "stdout",
     "output_type": "stream",
     "text": [
      "[NeMo I 2022-07-25 22:01:18 features:200] PADDING: 16\n",
      "[NeMo I 2022-07-25 22:01:19 label_models:100] loss is Angular Softmax\n",
      "[NeMo I 2022-07-25 22:01:19 save_restore_connector:243] Model EncDecSpeakerLabelModel was successfully restored from /root/.cache/torch/NeMo/NeMo_1.10.0/titanet-l/492c0ab8416139171dc18c21879a9e45/titanet-l.nemo.\n",
      "[NeMo I 2022-07-25 22:01:19 speaker_utils:82] Number of files to diarize: 1\n",
      "[NeMo I 2022-07-25 22:01:19 clustering_diarizer:271] Subsegmentation for embedding extraction: scale0, /home/DATA/amit_kesari/SD1/NeMo-ASR_Diar/data/voxconverse/speaker_outputs/subsegments_scale0.json\n",
      "[NeMo I 2022-07-25 22:01:19 clustering_diarizer:325] Extracting embeddings for Diarization\n",
      "[NeMo I 2022-07-25 22:01:19 collections:289] Filtered duration for loading collection is 0.000000.\n",
      "[NeMo I 2022-07-25 22:01:19 collections:293] # 177 files loaded accounting to # 1 labels\n"
     ]
    },
    {
     "name": "stderr",
     "output_type": "stream",
     "text": [
      "100%|██████████| 3/3 [00:00<00:00,  3.85it/s]\n",
      "100%|██████████| 1/1 [00:04<00:00,  4.73s/it]"
     ]
    },
    {
     "name": "stdout",
     "output_type": "stream",
     "text": [
      "[NeMo I 2022-07-25 22:01:24 speaker_utils:460] Cumulative Results for collar 0.25 sec and ignore_overlap True: \n",
      "     FA: 1.1445\t MISS 0.2469\t                 Diarization ER: 1.3914\t, Confusion ER:0.0000\n",
      "[NeMo I 2022-07-25 22:01:24 clustering_diarizer:444] Outputs are saved in /home/DATA/amit_kesari/SD1/NeMo-ASR_Diar/data/voxconverse directory\n",
      "\n",
      "\n",
      "Diar score:  (<pyannote.metrics.diarization.DiarizationErrorRate object at 0x7fa06ddd6dc0>, {'zztbo': {'speaker_0': 'spk00'}})\n",
      "Diarization error rate (DER) = 133.1%\n",
      "\n",
      "\n",
      "voxconverse_label:  zzyyo\n",
      "num_speakers:  12\n",
      "[NeMo I 2022-07-25 22:01:24 speaker_utils:82] Number of files to diarize: 1\n",
      "[NeMo I 2022-07-25 22:01:24 cloud:56] Found existing object /root/.cache/torch/NeMo/NeMo_1.10.0/QuartzNet15x5Base-En/2b066be39e9294d7100fb176ec817722/QuartzNet15x5Base-En.nemo.\n",
      "[NeMo I 2022-07-25 22:01:24 cloud:62] Re-using file from: /root/.cache/torch/NeMo/NeMo_1.10.0/QuartzNet15x5Base-En/2b066be39e9294d7100fb176ec817722/QuartzNet15x5Base-En.nemo\n",
      "[NeMo I 2022-07-25 22:01:24 common:789] Instantiating model from pre-trained checkpoint\n"
     ]
    },
    {
     "name": "stderr",
     "output_type": "stream",
     "text": [
      "\n"
     ]
    },
    {
     "name": "stdout",
     "output_type": "stream",
     "text": [
      "[NeMo I 2022-07-25 22:01:25 features:200] PADDING: 16\n",
      "[NeMo I 2022-07-25 22:01:27 save_restore_connector:243] Model EncDecCTCModel was successfully restored from /root/.cache/torch/NeMo/NeMo_1.10.0/QuartzNet15x5Base-En/2b066be39e9294d7100fb176ec817722/QuartzNet15x5Base-En.nemo.\n"
     ]
    },
    {
     "data": {
      "application/vnd.jupyter.widget-view+json": {
       "model_id": "27e91961a6224e579eaa6095eb47d8f2",
       "version_major": 2,
       "version_minor": 0
      },
      "text/plain": [
       "Transcribing:   0%|          | 0/1 [00:00<?, ?it/s]"
      ]
     },
     "metadata": {},
     "output_type": "display_data"
    },
    {
     "name": "stdout",
     "output_type": "stream",
     "text": [
      "[NeMo I 2022-07-25 22:01:28 speaker_utils:82] Number of files to diarize: 1\n",
      "[NeMo I 2022-07-25 22:01:28 clustering_diarizer:153] Loading pretrained titanet_large model from NGC\n",
      "[NeMo I 2022-07-25 22:01:28 cloud:56] Found existing object /root/.cache/torch/NeMo/NeMo_1.10.0/titanet-l/492c0ab8416139171dc18c21879a9e45/titanet-l.nemo.\n",
      "[NeMo I 2022-07-25 22:01:28 cloud:62] Re-using file from: /root/.cache/torch/NeMo/NeMo_1.10.0/titanet-l/492c0ab8416139171dc18c21879a9e45/titanet-l.nemo\n",
      "[NeMo I 2022-07-25 22:01:28 common:789] Instantiating model from pre-trained checkpoint\n"
     ]
    },
    {
     "name": "stderr",
     "output_type": "stream",
     "text": [
      "[NeMo W 2022-07-25 22:01:29 modelPT:148] If you intend to do training or fine-tuning, please call the ModelPT.setup_training_data() method and provide a valid configuration file to setup the train data loader.\n",
      "    Train config : \n",
      "    manifest_filepath: /manifests/combined_fisher_swbd_voxceleb12_librispeech/train.json\n",
      "    sample_rate: 16000\n",
      "    labels: null\n",
      "    batch_size: 64\n",
      "    shuffle: true\n",
      "    time_length: 3\n",
      "    is_tarred: false\n",
      "    tarred_audio_filepaths: null\n",
      "    tarred_shard_strategy: scatter\n",
      "    augmentor:\n",
      "      noise:\n",
      "        manifest_path: /manifests/noise/rir_noise_manifest.json\n",
      "        prob: 0.5\n",
      "        min_snr_db: 0\n",
      "        max_snr_db: 15\n",
      "      speed:\n",
      "        prob: 0.5\n",
      "        sr: 16000\n",
      "        resample_type: kaiser_fast\n",
      "        min_speed_rate: 0.95\n",
      "        max_speed_rate: 1.05\n",
      "    num_workers: 15\n",
      "    pin_memory: true\n",
      "    \n",
      "[NeMo W 2022-07-25 22:01:29 modelPT:155] If you intend to do validation, please call the ModelPT.setup_validation_data() or ModelPT.setup_multiple_validation_data() method and provide a valid configuration file to setup the validation data loader(s). \n",
      "    Validation config : \n",
      "    manifest_filepath: /manifests/combined_fisher_swbd_voxceleb12_librispeech/dev.json\n",
      "    sample_rate: 16000\n",
      "    labels: null\n",
      "    batch_size: 128\n",
      "    shuffle: false\n",
      "    time_length: 3\n",
      "    num_workers: 15\n",
      "    pin_memory: true\n",
      "    \n"
     ]
    },
    {
     "name": "stdout",
     "output_type": "stream",
     "text": [
      "[NeMo I 2022-07-25 22:01:29 features:200] PADDING: 16\n",
      "[NeMo I 2022-07-25 22:01:30 label_models:100] loss is Angular Softmax\n",
      "[NeMo I 2022-07-25 22:01:30 save_restore_connector:243] Model EncDecSpeakerLabelModel was successfully restored from /root/.cache/torch/NeMo/NeMo_1.10.0/titanet-l/492c0ab8416139171dc18c21879a9e45/titanet-l.nemo.\n",
      "[NeMo I 2022-07-25 22:01:30 speaker_utils:82] Number of files to diarize: 1\n",
      "[NeMo I 2022-07-25 22:01:30 clustering_diarizer:271] Subsegmentation for embedding extraction: scale0, /home/DATA/amit_kesari/SD1/NeMo-ASR_Diar/data/voxconverse/speaker_outputs/subsegments_scale0.json\n",
      "[NeMo I 2022-07-25 22:01:30 clustering_diarizer:325] Extracting embeddings for Diarization\n",
      "[NeMo I 2022-07-25 22:01:30 collections:289] Filtered duration for loading collection is 0.000000.\n",
      "[NeMo I 2022-07-25 22:01:30 collections:293] # 1298 files loaded accounting to # 1 labels\n"
     ]
    },
    {
     "name": "stderr",
     "output_type": "stream",
     "text": [
      "100%|██████████| 21/21 [00:03<00:00,  5.35it/s]\n",
      "100%|██████████| 1/1 [00:09<00:00,  9.24s/it]\n"
     ]
    },
    {
     "name": "stdout",
     "output_type": "stream",
     "text": [
      "[NeMo I 2022-07-25 22:01:44 speaker_utils:460] Cumulative Results for collar 0.25 sec and ignore_overlap True: \n",
      "     FA: 0.0332\t MISS 0.0827\t                 Diarization ER: 0.2515\t, Confusion ER:0.1356\n",
      "[NeMo I 2022-07-25 22:01:44 clustering_diarizer:444] Outputs are saved in /home/DATA/amit_kesari/SD1/NeMo-ASR_Diar/data/voxconverse directory\n",
      "\n",
      "\n",
      "Diar score:  (<pyannote.metrics.diarization.DiarizationErrorRate object at 0x7fa06935b400>, {'zzyyo': {'speaker_0': 'spk08', 'speaker_10': 'spk05', 'speaker_11': 'spk09', 'speaker_2': 'spk06', 'speaker_3': 'spk00', 'speaker_4': 'spk01', 'speaker_5': 'spk07', 'speaker_7': 'spk02', 'speaker_9': 'spk03'}})\n",
      "Diarization error rate (DER) = 30.5%\n",
      "\n",
      "\n"
     ]
    }
   ],
   "source": [
    "# single inialisation of manifests and dirs\n",
    "scripts_dir = os.path.join(ROOT, 'scripts/speaker_tasks')\n",
    "manifest_filepath = os.path.join(data_dir, 'input_manifest.json')\n",
    "\n",
    "# config file\n",
    "MODEL_CONFIG = os.path.join(data_dir,'offline_diarization_with_asr.yaml')\n",
    "if not os.path.exists(MODEL_CONFIG):\n",
    "    config_url = \"https://raw.githubusercontent.com/NVIDIA/NeMo/main/examples/speaker_tasks/diarization/conf/offline_diarization_with_asr.yaml\"\n",
    "    MODEL_CONFIG = wget.download(config_url, data_dir)\n",
    "\n",
    "config = OmegaConf.load(MODEL_CONFIG)\n",
    "print(OmegaConf.to_yaml(config))\n",
    "\n",
    "\n",
    "metric = DiarizationErrorRate(collar=0.05)\n",
    "vox_labels = []\n",
    "\n",
    "for single_rttm in groundtruth_rttm_list:\n",
    "    vox_label = single_rttm.split(sep=\"/\")[-1]\n",
    "    vox_label = vox_label[:-5] # remove .rttm from last\n",
    "    vox_labels.append(vox_label)\n",
    "    labels = rttm_to_labels(single_rttm)\n",
    "    groundtruth = labels_to_pyannote_object(labels)\n",
    "    num_speakers = Counter([l.split()[-1] for l in labels]).keys().__len__()\n",
    "\n",
    "    # find the corresponding audio file according to rttm\n",
    "    single_audio = [audio for audio in audio_list if vox_label in audio][0]\n",
    "    \n",
    "    ## -----Visualise data-----\n",
    "    print(\"voxconverse_label: \", vox_label)    \n",
    "    # !cat {single_rttm} # view the sample groundtruth rttm file\n",
    "    # print(\"labels: \",vox_label, groundtruth)\n",
    "    print(\"num_speakers: \", num_speakers)   \n",
    "    # print(\"single_audio: \", single_audio)\n",
    "\n",
    "\n",
    "    # 1)-----Create input manifest and configs-----\n",
    "    create_input_manifest(audio_filepath=single_audio, rttm_filepath=single_rttm, num_speakers=num_speakers, manifest_filepath=manifest_filepath)\n",
    " \n",
    "    # Change configurations:\n",
    "    pretrained_speaker_model='titanet_large'\n",
    "    config.diarizer.manifest_filepath = manifest_filepath\n",
    "    config.diarizer.out_dir = data_dir # Directory to store intermediate files and prediction outputs\n",
    "    config.diarizer.speaker_embeddings.model_path = pretrained_speaker_model\n",
    "    config.diarizer.speaker_embeddings.parameters.window_length_in_sec = 1.5\n",
    "    config.diarizer.speaker_embeddings.parameters.shift_length_in_sec = 0.75\n",
    "    config.diarizer.clustering.parameters.oracle_num_speakers=True\n",
    "    # Using VAD generated from ASR timestamps\n",
    "    config.diarizer.asr.model_path = 'QuartzNet15x5Base-En'\n",
    "    config.diarizer.oracle_vad = False # ----> Not using oracle VAD \n",
    "    config.diarizer.asr.parameters.asr_based_vad = True\n",
    "    config.diarizer.asr.parameters.threshold=100 # ASR based VAD threshold: If 100, all silences under 1 sec are ignored.\n",
    "    config.diarizer.asr.parameters.decoder_delay_in_sec=0.2 # Decoder delay is compensated for 0.2 sec\n",
    "    \n",
    "    # 2) ------ASR timestamps-----\n",
    "    asr_ts_decoder = ASR_TIMESTAMPS(**config.diarizer)\n",
    "    asr_model = asr_ts_decoder.set_asr_model()\n",
    "    word_hyp, word_ts_hyp = asr_ts_decoder.run_ASR(asr_model)\n",
    "\n",
    "    ## debug info\n",
    "    ## contains the sequence of words.\n",
    "    # print(\"Decoded word output dictionary: \\n\", word_hyp[vox_label])\n",
    "    ## contains frame level index of the start and the end of each word\n",
    "    # print(\"Word-level timestamps dictionary: \\n\", word_ts_hyp[vox_label])\n",
    "    \n",
    "    \n",
    "    # 3)-----Load model and diarize-----\n",
    "    asr_diar_offline = ASR_DIAR_OFFLINE(**config.diarizer)\n",
    "    asr_diar_offline.word_ts_anchor_offset = asr_ts_decoder.word_ts_anchor_offset\n",
    "    diar_hyp, diar_score = asr_diar_offline.run_diarization(config, word_ts_hyp)\n",
    "#     print(\"Diarization hypothesis output: \\n\", diar_hyp[vox_label])\n",
    "    print(\"\\n\\nDiar score: \", diar_score)\n",
    "    \n",
    "#     # 4)-----Accumulate DER-----\n",
    "    pred_labels = rttm_to_labels(data_dir+'/pred_rttms/'+vox_label+'.rttm')\n",
    "    hypothesis = labels_to_pyannote_object(pred_labels)\n",
    "    der = metric(groundtruth, hypothesis)\n",
    "    print(f\"Diarization error rate (DER) = {100 * der:.1f}%\\n\\n\")\n",
    "\n",
    "\n",
    "    \n"
   ]
  },
  {
   "cell_type": "code",
   "execution_count": 12,
   "metadata": {},
   "outputs": [
    {
     "name": "stdout",
     "output_type": "stream",
     "text": [
      "name: ClusterDiarizer\n",
      "num_workers: 4\n",
      "sample_rate: 16000\n",
      "batch_size: 64\n",
      "diarizer:\n",
      "  manifest_filepath: /home/DATA/amit_kesari/SD1/NeMo-ASR_Diar/data/voxconverse/input_manifest.json\n",
      "  out_dir: /home/DATA/amit_kesari/SD1/NeMo-ASR_Diar/data/voxconverse\n",
      "  oracle_vad: false\n",
      "  collar: 0.25\n",
      "  ignore_overlap: true\n",
      "  vad:\n",
      "    model_path: null\n",
      "    external_vad_manifest: /home/DATA/amit_kesari/SD1/NeMo-ASR_Diar/data/voxconverse/asr_vad_manifest.json\n",
      "    parameters:\n",
      "      window_length_in_sec: 0.15\n",
      "      shift_length_in_sec: 0.01\n",
      "      smoothing: median\n",
      "      overlap: 0.875\n",
      "      onset: 0.4\n",
      "      offset: 0.7\n",
      "      pad_onset: 0.05\n",
      "      pad_offset: -0.1\n",
      "      min_duration_on: 0.2\n",
      "      min_duration_off: 0.2\n",
      "      filter_speech_first: true\n",
      "  speaker_embeddings:\n",
      "    model_path: titanet_large\n",
      "    parameters:\n",
      "      window_length_in_sec: 1.5\n",
      "      shift_length_in_sec: 0.75\n",
      "      multiscale_weights: null\n",
      "      save_embeddings: false\n",
      "  clustering:\n",
      "    parameters:\n",
      "      oracle_num_speakers: true\n",
      "      max_num_speakers: 20\n",
      "      enhanced_count_thres: 80\n",
      "      max_rp_threshold: 0.25\n",
      "      sparse_search_volume: 30\n",
      "      maj_vote_spk_count: false\n",
      "  asr:\n",
      "    model_path: QuartzNet15x5Base-En\n",
      "    parameters:\n",
      "      asr_based_vad: true\n",
      "      asr_based_vad_threshold: 0.05\n",
      "      asr_batch_size: null\n",
      "      lenient_overlap_WDER: true\n",
      "      decoder_delay_in_sec: 0.2\n",
      "      word_ts_anchor_offset: null\n",
      "      word_ts_anchor_pos: start\n",
      "      fix_word_ts_with_VAD: false\n",
      "      colored_text: false\n",
      "      print_time: true\n",
      "      break_lines: false\n",
      "      threshold: 100\n",
      "    ctc_decoder_parameters:\n",
      "      pretrained_language_model: null\n",
      "      beam_width: 32\n",
      "      alpha: 0.5\n",
      "      beta: 2.5\n",
      "    realigning_lm_parameters:\n",
      "      arpa_language_model: null\n",
      "      min_number_of_words: 3\n",
      "      max_number_of_words: 10\n",
      "      logprob_diff_threshold: 1.2\n",
      "\n"
     ]
    },
    {
     "data": {
      "text/plain": [
       "['2.18 7.42 speaker_3',\n",
       " '7.5 8.96 speaker_3',\n",
       " '9.04 10.379999999999999 speaker_3',\n",
       " '10.44 11.719999999999999 speaker_3',\n",
       " '11.78 14.78 speaker_3',\n",
       " '14.86 14.94 speaker_1',\n",
       " '15.02 15.459999999999999 speaker_3',\n",
       " '15.52 16.52 speaker_3',\n",
       " '16.6 16.860000000000003 speaker_3',\n",
       " '16.92 17.92 speaker_3',\n",
       " '17.98 20.740000000000002 speaker_3',\n",
       " '20.8 22.240000000000002 speaker_3',\n",
       " '22.3 22.560000000000002 speaker_3',\n",
       " '22.84 23.14 speaker_3',\n",
       " '23.2 23.439999999999998 speaker_9',\n",
       " '23.56 26.38 speaker_3',\n",
       " '26.44 27.900000000000002 speaker_3',\n",
       " '27.96 30.560000000000002 speaker_3',\n",
       " '30.66 32.72 speaker_3',\n",
       " '32.78 33.46 speaker_3',\n",
       " '33.58 34.519999999999996 speaker_8',\n",
       " '34.58 35.1 speaker_8',\n",
       " '35.16 37.035 speaker_8',\n",
       " '37.035 42.285 speaker_6',\n",
       " '42.285 45.285 speaker_8',\n",
       " '45.285 48.58 speaker_3',\n",
       " '48.7 49.1 speaker_3',\n",
       " '49.32 49.48 speaker_1',\n",
       " '49.76 50.8 speaker_3',\n",
       " '51.16 55.66 speaker_3',\n",
       " '55.76 55.82 speaker_1',\n",
       " '56.34 56.480000000000004 speaker_1',\n",
       " '56.56 59.72 speaker_3',\n",
       " '59.78 59.980000000000004 speaker_4',\n",
       " '60.06 60.96 speaker_3',\n",
       " '61.04 61.519999999999996 speaker_3',\n",
       " '61.64 62.12 speaker_3',\n",
       " '62.2 65.14 speaker_3',\n",
       " '65.46 66.25999999999999 speaker_3',\n",
       " '66.32 67.1 speaker_3',\n",
       " '67.28 67.94 speaker_4',\n",
       " '68.12 68.80000000000001 speaker_4',\n",
       " '69.12 70.12 speaker_4',\n",
       " '70.2 70.84 speaker_4',\n",
       " '71.04 72.72000000000001 speaker_4',\n",
       " '72.9 75.18 speaker_4',\n",
       " '75.84 77.82000000000001 speaker_4',\n",
       " '77.88 80.56 speaker_4',\n",
       " '80.92 81.66 speaker_4',\n",
       " '81.78 84.14 speaker_4',\n",
       " '84.3 85.98 speaker_4',\n",
       " '86.06 86.4 speaker_4',\n",
       " '86.46 86.86 speaker_4',\n",
       " '87.26 90.04 speaker_4',\n",
       " '90.12 90.76 speaker_4',\n",
       " '90.84 92.24000000000001 speaker_4',\n",
       " '92.32 94.69999999999999 speaker_4',\n",
       " '94.76 94.84 speaker_1',\n",
       " '94.92 96.52 speaker_4',\n",
       " '96.6 97.22 speaker_4',\n",
       " '97.32 98.77999999999999 speaker_4',\n",
       " '100.12 103.62 speaker_4',\n",
       " '103.68 104.46000000000001 speaker_3',\n",
       " '104.56 106.82000000000001 speaker_7',\n",
       " '106.88 108.02 speaker_7',\n",
       " '108.08 108.38 speaker_7',\n",
       " '108.48 109.14 speaker_7',\n",
       " '109.22 110.14 speaker_7',\n",
       " '110.2 110.52 speaker_9',\n",
       " '110.6 112.14 speaker_7',\n",
       " '112.38 114.3 speaker_7',\n",
       " '114.46 115.27999999999999 speaker_7',\n",
       " '115.4 117.10000000000001 speaker_7',\n",
       " '117.2 118.325 speaker_4',\n",
       " '118.325 119.22 speaker_7',\n",
       " '119.3 121.02 speaker_7',\n",
       " '121.08 121.39999999999999 speaker_7',\n",
       " '121.46 122.19999999999999 speaker_7',\n",
       " '122.32 122.75999999999999 speaker_7',\n",
       " '122.86 123.34 speaker_7',\n",
       " '123.4 123.54 speaker_1',\n",
       " '123.6 124.0 speaker_7',\n",
       " '124.22 126.9 speaker_7',\n",
       " '127.0 127.44 speaker_7',\n",
       " '127.52 129.26 speaker_7',\n",
       " '129.38 129.56 speaker_7',\n",
       " '129.68 129.94 speaker_2',\n",
       " '130.02 130.74 speaker_7',\n",
       " '130.8 131.74 speaker_7',\n",
       " '131.82 132.56 speaker_7',\n",
       " '132.62 136.745 speaker_7',\n",
       " '136.745 137.495 speaker_4',\n",
       " '137.495 139.745 speaker_6',\n",
       " '139.745 140.495 speaker_1',\n",
       " '140.495 141.245 speaker_9',\n",
       " '141.245 143.8 speaker_4',\n",
       " '143.98 145.84 speaker_4',\n",
       " '145.98 146.23999999999998 speaker_4',\n",
       " '146.38 146.82 speaker_4',\n",
       " '147.0 148.46 speaker_4',\n",
       " '148.52 149.96 speaker_4',\n",
       " '150.02 151.86 speaker_4',\n",
       " '151.92 152.7 speaker_4',\n",
       " '152.78 155.76 speaker_4',\n",
       " '155.82 157.14 speaker_4',\n",
       " '157.22 158.85999999999999 speaker_4',\n",
       " '159.22 159.4 speaker_1',\n",
       " '159.48 160.04 speaker_4',\n",
       " '160.32 160.38 speaker_6',\n",
       " '160.44 160.54 speaker_1',\n",
       " '160.6 161.38 speaker_4',\n",
       " '161.44 163.57999999999998 speaker_4',\n",
       " '163.96 165.1 speaker_4',\n",
       " '165.4 167.54 speaker_4',\n",
       " '167.6 167.96 speaker_4',\n",
       " '168.02 170.94 speaker_4',\n",
       " '171.16 171.74 speaker_4',\n",
       " '171.82 172.7 speaker_4',\n",
       " '172.76 173.5 speaker_3',\n",
       " '173.58 176.76000000000002 speaker_3',\n",
       " '178.3 179.68 speaker_3',\n",
       " '179.74 182.02 speaker_3',\n",
       " '182.08 182.20000000000002 speaker_3',\n",
       " '182.26 183.385 speaker_3',\n",
       " '183.385 184.135 speaker_4',\n",
       " '184.135 185.635 speaker_3',\n",
       " '185.635 187.135 speaker_7',\n",
       " '187.135 187.885 speaker_3',\n",
       " '187.885 188.94 speaker_10',\n",
       " '189.0 189.54 speaker_7',\n",
       " '189.92 191.045 speaker_4',\n",
       " '191.045 194.045 speaker_7',\n",
       " '194.045 194.98 speaker_1',\n",
       " '195.48 198.56 speaker_10',\n",
       " '199.0 199.08 speaker_1',\n",
       " '199.14 200.98 speaker_10',\n",
       " '201.04 202.35999999999999 speaker_10',\n",
       " '202.52 205.52 speaker_10',\n",
       " '205.62 205.82 speaker_1',\n",
       " '205.92 206.0 speaker_1',\n",
       " '206.14 206.77999999999997 speaker_10',\n",
       " '206.9 207.16 speaker_10',\n",
       " '207.24 207.92000000000002 speaker_10',\n",
       " '207.98 208.78 speaker_10',\n",
       " '208.9 209.16 speaker_4',\n",
       " '209.24 209.8 speaker_10',\n",
       " '209.88 210.35999999999999 speaker_10',\n",
       " '210.46 211.585 speaker_10',\n",
       " '211.585 212.335 speaker_2',\n",
       " '212.335 213.52 speaker_9',\n",
       " '213.58 214.18 speaker_9',\n",
       " '214.3 215.56 speaker_9',\n",
       " '215.62 216.44 speaker_9',\n",
       " '216.52 217.04000000000002 speaker_9',\n",
       " '217.1 218.975 speaker_9',\n",
       " '218.975 221.16 speaker_2',\n",
       " '221.24 221.78 speaker_9',\n",
       " '221.84 222.42000000000002 speaker_2',\n",
       " '222.48 223.11999999999998 speaker_9',\n",
       " '223.28 226.12 speaker_9',\n",
       " '226.2 228.51999999999998 speaker_9',\n",
       " '228.62 229.82 speaker_9',\n",
       " '229.88 231.72 speaker_9',\n",
       " '231.8 232.22 speaker_9',\n",
       " '232.28 234.08 speaker_2',\n",
       " '234.14 234.39999999999998 speaker_9',\n",
       " '234.46 236.22 speaker_9',\n",
       " '236.34 237.82 speaker_9',\n",
       " '237.96 238.84 speaker_9',\n",
       " '238.9 239.98000000000002 speaker_9',\n",
       " '240.04 240.29999999999998 speaker_9',\n",
       " '240.44 240.88 speaker_9',\n",
       " '240.98 242.28 speaker_9',\n",
       " '242.36 242.78 speaker_9',\n",
       " '242.88 244.755 speaker_9',\n",
       " '244.755 246.0 speaker_2',\n",
       " '246.1 246.18 speaker_1',\n",
       " '246.36 247.4 speaker_9',\n",
       " '247.46 248.66 speaker_9',\n",
       " '248.72 249.72 speaker_9',\n",
       " '250.02 250.92000000000002 speaker_2',\n",
       " '251.04 254.82 speaker_9',\n",
       " '254.88 257.68 speaker_9',\n",
       " '257.74 259.18 speaker_9',\n",
       " '259.24 261.64 speaker_9',\n",
       " '261.72 261.98 speaker_2',\n",
       " '262.04 263.84000000000003 speaker_2',\n",
       " '263.92 264.7 speaker_9',\n",
       " '264.76 267.385 speaker_2',\n",
       " '267.385 267.98 speaker_9',\n",
       " '268.04 270.665 speaker_2',\n",
       " '270.665 271.14000000000004 speaker_9',\n",
       " '271.2 272.32 speaker_9',\n",
       " '272.4 273.59999999999997 speaker_2',\n",
       " '273.66 276.285 speaker_9',\n",
       " '276.285 277.035 speaker_2',\n",
       " '277.035 277.785 speaker_4',\n",
       " '277.785 279.94 speaker_9',\n",
       " '280.08 281.44 speaker_2',\n",
       " '281.5 281.98 speaker_9',\n",
       " '282.06 282.34 speaker_9',\n",
       " '282.48 283.04 speaker_9',\n",
       " '283.14 285.21999999999997 speaker_2',\n",
       " '285.4 285.76 speaker_1',\n",
       " '286.54 289.32 speaker_9',\n",
       " '289.38 290.505 speaker_2',\n",
       " '290.505 292.005 speaker_9',\n",
       " '292.005 292.755 speaker_2',\n",
       " '292.755 295.005 speaker_9',\n",
       " '295.005 295.755 speaker_2',\n",
       " '295.755 297.6 speaker_3',\n",
       " '297.66 299.72 speaker_3',\n",
       " '299.78 300.53999999999996 speaker_4',\n",
       " '300.6 301.20000000000005 speaker_10',\n",
       " '301.26 302.48 speaker_10',\n",
       " '302.56 303.34 speaker_7',\n",
       " '303.48 304.605 speaker_2',\n",
       " '304.605 307.605 speaker_7',\n",
       " '307.605 308.355 speaker_1',\n",
       " '308.355 309.58000000000004 speaker_4',\n",
       " '309.8 311.22 speaker_5',\n",
       " '311.4 311.94 speaker_5',\n",
       " '312.32 312.76 speaker_5',\n",
       " '312.84 313.26 speaker_5',\n",
       " '313.32 314.26 speaker_5',\n",
       " '314.32 314.42 speaker_1',\n",
       " '314.52 316.395 speaker_5',\n",
       " '316.395 316.79999999999995 speaker_11',\n",
       " '316.86 317.985 speaker_8',\n",
       " '317.985 318.735 speaker_5',\n",
       " '318.735 319.485 speaker_10',\n",
       " '319.485 321.22 speaker_5',\n",
       " '323.6 329.225 speaker_5',\n",
       " '329.225 329.84000000000003 speaker_8',\n",
       " '330.24 335.12 speaker_5',\n",
       " '335.26 337.21999999999997 speaker_5',\n",
       " '337.28 337.44 speaker_1',\n",
       " '337.5 338.02 speaker_5',\n",
       " '338.54 339.76000000000005 speaker_5',\n",
       " '339.82 341.08 speaker_5',\n",
       " '341.14 347.26 speaker_5',\n",
       " '347.36 348.54 speaker_5',\n",
       " '348.6 353.54 speaker_5',\n",
       " '354.46 354.84 speaker_5',\n",
       " '354.92 355.26 speaker_5',\n",
       " '355.32 355.76 speaker_5',\n",
       " '355.82 357.24 speaker_5',\n",
       " '357.32 360.695 speaker_5',\n",
       " '360.695 361.52 speaker_3',\n",
       " '361.58 361.9 speaker_3',\n",
       " '367.14 367.59999999999997 speaker_5',\n",
       " '367.66 368.16 speaker_4',\n",
       " '368.24 368.56 speaker_1',\n",
       " '368.62 370.0 speaker_5',\n",
       " '370.58 372.455 speaker_7',\n",
       " '372.455 373.59999999999997 speaker_3',\n",
       " '373.66 375.535 speaker_5',\n",
       " '375.535 376.285 speaker_3',\n",
       " '376.285 377.84000000000003 speaker_5',\n",
       " '378.0 389.4 speaker_5',\n",
       " '389.5 390.04 speaker_11',\n",
       " '390.1 390.32000000000005 speaker_1',\n",
       " '390.38 390.78 speaker_5',\n",
       " '390.84 392.4 speaker_5',\n",
       " '392.46 394.2 speaker_5',\n",
       " '394.28 395.85999999999996 speaker_5',\n",
       " '395.92 396.08000000000004 speaker_1',\n",
       " '396.14 397.4 speaker_5',\n",
       " '397.5 398.56 speaker_5',\n",
       " '398.62 401.245 speaker_5',\n",
       " '401.245 401.995 speaker_7',\n",
       " '401.995 403.495 speaker_3',\n",
       " '403.495 403.94 speaker_8',\n",
       " '404.4 406.275 speaker_8',\n",
       " '406.275 407.775 speaker_3',\n",
       " '407.775 408.34 speaker_0',\n",
       " '408.4 412.02 speaker_0',\n",
       " '412.08 412.71999999999997 speaker_0',\n",
       " '412.78 414.23999999999995 speaker_0',\n",
       " '414.32 416.15999999999997 speaker_0',\n",
       " '416.22 417.78000000000003 speaker_0',\n",
       " '417.84 418.91999999999996 speaker_0',\n",
       " '418.98 419.26 speaker_0',\n",
       " '419.34 420.09999999999997 speaker_0',\n",
       " '420.16 421.32000000000005 speaker_0',\n",
       " '421.4 423.14 speaker_0',\n",
       " '423.2 423.92 speaker_0',\n",
       " '424.0 425.72 speaker_0',\n",
       " '425.96 426.65999999999997 speaker_0',\n",
       " '426.82 427.36 speaker_0',\n",
       " '427.42 427.76 speaker_0',\n",
       " '427.82 428.74 speaker_0',\n",
       " '428.82 430.09999999999997 speaker_0',\n",
       " '430.16 431.64000000000004 speaker_0',\n",
       " '431.74 431.82 speaker_1',\n",
       " '432.28 433.59999999999997 speaker_0',\n",
       " '433.68 435.3 speaker_0',\n",
       " '435.38 436.42 speaker_0',\n",
       " '436.48 437.92 speaker_0',\n",
       " '437.98 440.14000000000004 speaker_0',\n",
       " '440.22 441.78000000000003 speaker_0',\n",
       " '441.86 442.44 speaker_0',\n",
       " '442.52 445.88 speaker_0',\n",
       " '445.94 446.21999999999997 speaker_0',\n",
       " '446.3 446.36 speaker_1',\n",
       " '446.82 446.88 speaker_1',\n",
       " '446.96 447.29999999999995 speaker_4',\n",
       " '447.38 447.78 speaker_0',\n",
       " '447.84 448.52 speaker_0',\n",
       " '448.66 449.12 speaker_0',\n",
       " '449.2 450.06 speaker_0',\n",
       " '450.14 450.91999999999996 speaker_0',\n",
       " '450.98 452.8 speaker_0',\n",
       " '452.96 453.82 speaker_0',\n",
       " '453.9 454.65999999999997 speaker_0',\n",
       " '454.74 454.98 speaker_3',\n",
       " '455.06 458.435 speaker_0',\n",
       " '458.435 458.98 speaker_2',\n",
       " '459.08 462.455 speaker_0',\n",
       " '462.455 465.455 speaker_8',\n",
       " '465.455 466.205 speaker_1',\n",
       " '466.205 471.455 speaker_8',\n",
       " '471.455 475.205 speaker_3',\n",
       " '475.205 475.955 speaker_8',\n",
       " '475.955 479.97999999999996 speaker_3',\n",
       " '480.06 480.78000000000003 speaker_3',\n",
       " '480.86 484.96000000000004 speaker_3',\n",
       " '485.02 485.7 speaker_3',\n",
       " '485.76 487.06 speaker_3',\n",
       " '487.12 487.48 speaker_3',\n",
       " '488.06 488.56 speaker_3',\n",
       " '488.62 490.02 speaker_3',\n",
       " '490.08 490.74 speaker_3',\n",
       " '490.8 491.3 speaker_3',\n",
       " '491.36 491.76 speaker_3',\n",
       " '491.84 493.4 speaker_3',\n",
       " '493.46 494.94 speaker_3',\n",
       " '495.22 496.40000000000003 speaker_4',\n",
       " '496.82 497.09999999999997 speaker_4',\n",
       " '497.18 497.96 speaker_4',\n",
       " '498.02 499.46 speaker_4',\n",
       " '499.64 501.18 speaker_4',\n",
       " '501.26 501.52 speaker_4',\n",
       " '501.6 501.88 speaker_4',\n",
       " '501.98 502.46000000000004 speaker_4',\n",
       " '502.52 505.34 speaker_4',\n",
       " '505.46 506.14 speaker_4',\n",
       " '506.24 506.7 speaker_4',\n",
       " '506.78 508.71999999999997 speaker_4',\n",
       " '509.04 510.72 speaker_4',\n",
       " '510.82 511.71999999999997 speaker_4',\n",
       " '512.06 514.9599999999999 speaker_4',\n",
       " '515.02 515.76 speaker_4',\n",
       " '515.82 516.0600000000001 speaker_4',\n",
       " '516.12 516.48 speaker_4',\n",
       " '516.6 517.44 speaker_4',\n",
       " '517.5 519.0 speaker_4',\n",
       " '519.16 520.24 speaker_4',\n",
       " '520.3 522.16 speaker_4',\n",
       " '522.24 526.1 speaker_4',\n",
       " '526.16 527.06 speaker_4',\n",
       " '527.12 528.44 speaker_4',\n",
       " '528.5 529.62 speaker_4',\n",
       " '529.68 530.7399999999999 speaker_4',\n",
       " '530.94 532.2600000000001 speaker_4',\n",
       " '532.32 536.0200000000001 speaker_4',\n",
       " '536.1 537.02 speaker_4',\n",
       " '537.1 537.52 speaker_4',\n",
       " '537.62 538.26 speaker_4',\n",
       " '538.38 540.24 speaker_4',\n",
       " '540.32 541.36 speaker_4',\n",
       " '541.44 542.1400000000001 speaker_4',\n",
       " '542.32 543.1800000000001 speaker_4',\n",
       " '543.32 547.1600000000001 speaker_4',\n",
       " '547.34 547.8000000000001 speaker_4',\n",
       " '547.86 548.22 speaker_4',\n",
       " '548.3 549.38 speaker_4',\n",
       " '549.44 550.34 speaker_4',\n",
       " '550.4 550.6999999999999 speaker_1',\n",
       " '550.76 551.9 speaker_4',\n",
       " '551.96 552.4200000000001 speaker_3',\n",
       " '552.48 555.855 speaker_3',\n",
       " '555.855 556.4 speaker_4',\n",
       " '556.48 556.54 speaker_3',\n",
       " '556.6 557.0400000000001 speaker_4',\n",
       " '557.18 557.4 speaker_4',\n",
       " '557.5 561.8 speaker_4',\n",
       " '561.86 566.08 speaker_4',\n",
       " '566.14 567.38 speaker_4',\n",
       " '567.44 569.7600000000001 speaker_4',\n",
       " '569.82 571.24 speaker_4',\n",
       " '571.3 574.5999999999999 speaker_4',\n",
       " '574.68 575.14 speaker_4',\n",
       " '575.22 577.8000000000001 speaker_4',\n",
       " '577.86 579.66 speaker_4',\n",
       " '579.72 580.845 speaker_4',\n",
       " '580.845 581.52 speaker_3',\n",
       " '581.6 582.0600000000001 speaker_2',\n",
       " '582.12 583.245 speaker_9',\n",
       " '583.245 587.745 speaker_6',\n",
       " '587.745 589.82 speaker_9',\n",
       " '589.88 591.84 speaker_9',\n",
       " '591.92 592.5799999999999 speaker_2',\n",
       " '592.64 593.02 speaker_2',\n",
       " '593.1 594.02 speaker_2',\n",
       " '594.08 594.88 speaker_2',\n",
       " '594.96 595.5400000000001 speaker_9',\n",
       " '595.6 595.86 speaker_2',\n",
       " '595.96 597.24 speaker_2',\n",
       " '597.32 597.7 speaker_2',\n",
       " '597.8 598.42 speaker_9',\n",
       " '598.5 599.0 speaker_2',\n",
       " '599.12 599.9 speaker_9',\n",
       " '600.0 600.36 speaker_9',\n",
       " '600.42 600.76 speaker_2',\n",
       " '600.82 601.48 speaker_9',\n",
       " '601.54 601.5999999999999 speaker_6',\n",
       " '601.78 603.1999999999999 speaker_9',\n",
       " '603.26 605.2 speaker_9',\n",
       " '605.28 606.02 speaker_9',\n",
       " '606.08 607.44 speaker_9',\n",
       " '607.5 608.02 speaker_2',\n",
       " '608.1 609.36 speaker_9',\n",
       " '609.42 609.7199999999999 speaker_9',\n",
       " '609.78 611.655 speaker_2',\n",
       " '611.655 612.98 speaker_9',\n",
       " '613.04 614.48 speaker_2',\n",
       " '614.54 615.5999999999999 speaker_9',\n",
       " '615.72 616.08 speaker_3',\n",
       " '616.18 616.9799999999999 speaker_2',\n",
       " '617.1 618.46 speaker_2',\n",
       " '618.52 618.92 speaker_2',\n",
       " '618.98 619.34 speaker_9',\n",
       " '619.4 620.9599999999999 speaker_2',\n",
       " '621.02 621.28 speaker_9',\n",
       " '621.34 625.465 speaker_2',\n",
       " '625.465 626.215 speaker_9',\n",
       " '626.215 627.1 speaker_2',\n",
       " '627.32 627.9200000000001 speaker_3',\n",
       " '628.06 629.935 speaker_3',\n",
       " '629.935 630.3599999999999 speaker_1',\n",
       " '630.42 631.86 speaker_4',\n",
       " '632.58 633.5 speaker_7',\n",
       " '633.56 635.435 speaker_4',\n",
       " '635.435 636.26 speaker_8',\n",
       " '636.34 637.1800000000001 speaker_4',\n",
       " '637.34 640.48 speaker_7',\n",
       " '640.62 642.54 speaker_7',\n",
       " '642.64 642.98 speaker_7',\n",
       " '643.04 643.56 speaker_7',\n",
       " '643.64 645.28 speaker_7',\n",
       " '645.34 648.76 speaker_10',\n",
       " '648.9 649.4 speaker_10',\n",
       " '649.48 650.2 speaker_10',\n",
       " '650.34 650.98 speaker_7',\n",
       " '651.04 656.4399999999999 speaker_7',\n",
       " '656.5 657.24 speaker_7',\n",
       " '657.3 658.26 speaker_7',\n",
       " '658.32 659.58 speaker_7',\n",
       " '659.66 661.66 speaker_7',\n",
       " '661.8 662.0 speaker_10',\n",
       " '662.06 663.18 speaker_7',\n",
       " '663.34 668.86 speaker_7',\n",
       " '668.92 669.68 speaker_7',\n",
       " '669.76 673.3199999999999 speaker_7',\n",
       " '673.38 674.2 speaker_7',\n",
       " '674.28 675.5799999999999 speaker_7',\n",
       " '675.68 677.4399999999999 speaker_7',\n",
       " '677.7 679.5 speaker_7',\n",
       " '679.56 680.7399999999999 speaker_7',\n",
       " '680.84 681.46 speaker_7',\n",
       " '681.52 683.56 speaker_7',\n",
       " '683.7 686.2800000000001 speaker_7',\n",
       " '686.34 690.465 speaker_7',\n",
       " '690.465 693.34 speaker_3',\n",
       " '693.42 693.92 speaker_3',\n",
       " '694.02 694.68 speaker_3',\n",
       " '694.74 696.0600000000001 speaker_3',\n",
       " '696.14 697.88 speaker_3',\n",
       " '697.96 701.3000000000001 speaker_3',\n",
       " '701.36 701.62 speaker_3',\n",
       " '701.7 702.825 speaker_1',\n",
       " '702.825 704.325 speaker_4',\n",
       " '704.325 705.075 speaker_1',\n",
       " '705.075 708.825 speaker_8',\n",
       " '708.825 710.1800000000001 speaker_3',\n",
       " '710.26 714.06 speaker_3',\n",
       " '714.16 714.52 speaker_3',\n",
       " '714.58 714.84 speaker_3',\n",
       " '714.9 718.275 speaker_3',\n",
       " '718.275 720.12 speaker_11',\n",
       " '720.2 723.76 speaker_11',\n",
       " '723.84 724.48 speaker_11',\n",
       " '724.58 728.9200000000001 speaker_11',\n",
       " '728.98 729.14 speaker_1',\n",
       " '729.26 733.3199999999999 speaker_11',\n",
       " '733.38 737.2 speaker_11',\n",
       " '737.46 739.0 speaker_11',\n",
       " '739.06 740.56 speaker_11',\n",
       " '740.62 741.52 speaker_11',\n",
       " '741.58 743.0600000000001 speaker_11',\n",
       " '743.36 747.78 speaker_11',\n",
       " '747.88 748.5 speaker_11',\n",
       " '748.56 748.7399999999999 speaker_1',\n",
       " '748.82 749.2800000000001 speaker_11',\n",
       " '749.36 751.08 speaker_11',\n",
       " '751.16 753.66 speaker_11',\n",
       " '753.72 756.6 speaker_11',\n",
       " '756.7 760.3000000000001 speaker_11',\n",
       " '760.58 763.1800000000001 speaker_11',\n",
       " '763.26 764.14 speaker_11',\n",
       " '773.34 773.5600000000001 speaker_1',\n",
       " '773.74 775.615 speaker_7',\n",
       " '775.615 777.865 speaker_11',\n",
       " '777.865 779.365 speaker_3',\n",
       " '779.365 781.6 speaker_7',\n",
       " '781.68 784.305 speaker_7',\n",
       " '784.305 785.56 speaker_4',\n",
       " '785.78 786.12 speaker_7',\n",
       " '786.22 790.34 speaker_11',\n",
       " '790.46 791.64 speaker_11',\n",
       " '791.7 791.76 speaker_1',\n",
       " '791.86 795.94 speaker_11',\n",
       " '796.24 798.92 speaker_11',\n",
       " '799.92 802.28 speaker_11',\n",
       " '802.34 803.48 speaker_11',\n",
       " '804.04 804.98 speaker_11',\n",
       " '805.04 805.66 speaker_11',\n",
       " '805.76 808.38 speaker_11',\n",
       " '808.48 811.855 speaker_11',\n",
       " '811.855 815.52 speaker_7',\n",
       " '815.6 815.9 speaker_7',\n",
       " '815.96 816.1800000000001 speaker_7',\n",
       " '816.28 820.22 speaker_7',\n",
       " '820.28 820.86 speaker_7',\n",
       " '820.96 822.96 speaker_7',\n",
       " '823.02 823.8 speaker_7',\n",
       " '823.86 824.46 speaker_7',\n",
       " '824.54 829.66 speaker_7',\n",
       " '829.74 829.98 speaker_7',\n",
       " '830.12 832.88 speaker_7',\n",
       " '832.94 836.7600000000001 speaker_7',\n",
       " '836.82 837.38 speaker_7',\n",
       " '837.46 839.72 speaker_7',\n",
       " '839.8 840.9 speaker_7',\n",
       " '840.96 843.14 speaker_7',\n",
       " '843.22 845.96 speaker_7',\n",
       " '846.06 847.185 speaker_7',\n",
       " '847.185 850.54 speaker_3',\n",
       " '850.6 852.4 speaker_3',\n",
       " '852.52 854.92 speaker_3',\n",
       " '855.08 859.2800000000001 speaker_3',\n",
       " '859.98 861.82 speaker_3',\n",
       " '861.92 862.28 speaker_3',\n",
       " '862.34 864.0 speaker_3',\n",
       " '864.4 865.52 speaker_3',\n",
       " '866.64 866.88 speaker_8',\n",
       " '866.94 868.065 speaker_2',\n",
       " '868.065 870.315 speaker_9',\n",
       " '870.315 870.94 speaker_2',\n",
       " '871.0 871.58 speaker_9',\n",
       " '871.66 872.5799999999999 speaker_9',\n",
       " '872.7 874.88 speaker_2',\n",
       " '874.94 875.5400000000001 speaker_9',\n",
       " '875.64 876.58 speaker_9',\n",
       " '876.7 877.825 speaker_9',\n",
       " '877.825 878.94 speaker_2',\n",
       " '879.0 879.16 speaker_1',\n",
       " '879.22 881.2 speaker_2',\n",
       " '881.26 882.0 speaker_2',\n",
       " '882.08 882.34 speaker_9',\n",
       " '882.4 882.64 speaker_9',\n",
       " '882.76 884.26 speaker_2',\n",
       " '884.32 884.44 speaker_6',\n",
       " '884.56 886.3399999999999 speaker_2',\n",
       " '886.52 887.8199999999999 speaker_9',\n",
       " '887.9 889.775 speaker_2',\n",
       " '889.775 891.5 speaker_9',\n",
       " '891.58 891.94 speaker_2',\n",
       " '892.12 893.245 speaker_9',\n",
       " '893.245 893.94 speaker_2',\n",
       " '894.0 894.76 speaker_2',\n",
       " '894.84 896.9200000000001 speaker_2',\n",
       " '896.98 897.1800000000001 speaker_2',\n",
       " '897.24 897.92 speaker_2',\n",
       " '897.98 898.44 speaker_2',\n",
       " '898.5 900.375 speaker_3',\n",
       " '900.375 901.02 speaker_2',\n",
       " '901.08 902.5 speaker_9',\n",
       " '902.84 903.34 speaker_9',\n",
       " '903.4 904.12 speaker_9',\n",
       " '904.38 905.32 speaker_9',\n",
       " '905.44 906.565 speaker_3',\n",
       " '906.565 908.0400000000001 speaker_9',\n",
       " '908.12 909.18 speaker_9',\n",
       " '909.28 910.3 speaker_9',\n",
       " '910.38 912.56 speaker_9',\n",
       " '912.72 913.845 speaker_9',\n",
       " '913.845 915.1 speaker_2',\n",
       " '915.18 916.1999999999999 speaker_2',\n",
       " '916.3 922.74 speaker_2',\n",
       " '922.9 923.64 speaker_2',\n",
       " '923.7 924.0200000000001 speaker_2',\n",
       " '924.88 926.755 speaker_9',\n",
       " '926.755 928.46 speaker_2',\n",
       " '928.54 929.665 speaker_9',\n",
       " '929.665 930.54 speaker_2',\n",
       " '930.68 931.4799999999999 speaker_2',\n",
       " '931.6 932.16 speaker_9',\n",
       " '932.22 933.82 speaker_2',\n",
       " '934.16 934.28 speaker_9',\n",
       " '934.34 936.215 speaker_9',\n",
       " '936.215 937.02 speaker_2',\n",
       " '937.3 937.4599999999999 speaker_1',\n",
       " '937.52 940.145 speaker_9',\n",
       " '940.145 940.84 speaker_2',\n",
       " '940.98 942.5 speaker_9',\n",
       " '942.62 944.1 speaker_9',\n",
       " '944.18 944.42 speaker_2',\n",
       " '944.48 944.94 speaker_9',\n",
       " '945.02 945.76 speaker_9',\n",
       " '945.9 946.38 speaker_2',\n",
       " '946.54 949.04 speaker_9',\n",
       " '949.1 950.975 speaker_9',\n",
       " '950.975 951.74 speaker_2',\n",
       " '951.82 952.1800000000001 speaker_9',\n",
       " '952.28 953.0799999999999 speaker_9',\n",
       " '953.2 953.6600000000001 speaker_2',\n",
       " '953.72 955.0600000000001 speaker_2',\n",
       " '955.12 955.8 speaker_2',\n",
       " '955.92 956.68 speaker_9',\n",
       " '956.76 957.5 speaker_9',\n",
       " '958.04 958.66 speaker_9',\n",
       " '958.72 959.2 speaker_9',\n",
       " '959.26 960.2 speaker_9',\n",
       " '960.28 961.64 speaker_2',\n",
       " '961.76 963.0 speaker_9',\n",
       " '963.12 964.28 speaker_9',\n",
       " '964.34 964.8000000000001 speaker_9',\n",
       " '964.86 965.1 speaker_2',\n",
       " '965.16 965.5 speaker_2',\n",
       " '965.56 966.3399999999999 speaker_2',\n",
       " '966.4 968.6 speaker_2',\n",
       " '968.66 968.8399999999999 speaker_2',\n",
       " '968.96 969.3000000000001 speaker_9',\n",
       " '969.36 970.22 speaker_9',\n",
       " '970.28 970.74 speaker_2',\n",
       " '970.82 974.945 speaker_9',\n",
       " '974.945 977.1 speaker_2',\n",
       " '977.22 978.88 speaker_1',\n",
       " '978.94 980.6600000000001 speaker_2',\n",
       " '980.72 981.84 speaker_3',\n",
       " '982.06 983.935 speaker_3',\n",
       " '983.935 984.685 speaker_2',\n",
       " '984.685 985.42 speaker_9',\n",
       " '985.5 991.32 speaker_3',\n",
       " '991.48 993.8000000000001 speaker_3',\n",
       " '993.88 996.18 speaker_3',\n",
       " '996.3 1001.56 speaker_3',\n",
       " '1001.62 1002.18 speaker_3',\n",
       " '1002.28 1002.9399999999999 speaker_3',\n",
       " '1003.2 1004.4200000000001 speaker_3',\n",
       " '1004.48 1005.54 speaker_3',\n",
       " '1005.98 1006.9200000000001 speaker_3',\n",
       " '1007.14 1009.1 speaker_3',\n",
       " '1009.62 1011.78 speaker_4',\n",
       " '1011.9 1016.42 speaker_4',\n",
       " '1016.54 1019.98 speaker_4',\n",
       " '1020.04 1021.3199999999999 speaker_4',\n",
       " '1021.4 1022.72 speaker_4',\n",
       " '1022.8 1023.38 speaker_4',\n",
       " '1023.46 1024.18 speaker_4',\n",
       " '1024.46 1027.74 speaker_4',\n",
       " '1027.82 1030.46 speaker_4',\n",
       " '1030.58 1031.4199999999998 speaker_4',\n",
       " '1031.66 1033.88 speaker_4',\n",
       " '1033.96 1035.14 speaker_4',\n",
       " '1035.2 1035.46 speaker_4',\n",
       " '1035.52 1037.7 speaker_4',\n",
       " '1037.76 1040.16 speaker_4',\n",
       " '1040.22 1041.1000000000001 speaker_4',\n",
       " '1041.34 1042.5 speaker_4',\n",
       " '1042.76 1043.2 speaker_4',\n",
       " '1043.28 1045.16 speaker_4',\n",
       " '1045.4 1046.76 speaker_4',\n",
       " '1046.82 1047.04 speaker_1',\n",
       " '1047.26 1047.8799999999999 speaker_4',\n",
       " '1047.96 1050.54 speaker_4',\n",
       " '1050.64 1051.0400000000002 speaker_4',\n",
       " '1051.64 1056.1200000000001 speaker_4',\n",
       " '1056.18 1057.1200000000001 speaker_4',\n",
       " '1057.2 1058.44 speaker_4',\n",
       " '1058.5 1059.06 speaker_4',\n",
       " '1059.12 1061.28 speaker_4',\n",
       " '1061.34 1062.6999999999998 speaker_4',\n",
       " '1062.76 1063.3799999999999 speaker_4',\n",
       " '1063.44 1065.42 speaker_4',\n",
       " '1065.52 1067.7 speaker_4',\n",
       " '1067.78 1068.06 speaker_4',\n",
       " '1068.12 1069.1399999999999 speaker_4',\n",
       " '1069.22 1071.68 speaker_4',\n",
       " '1071.74 1072.5 speaker_4',\n",
       " '1072.64 1074.16 speaker_4',\n",
       " '1074.24 1074.32 speaker_6',\n",
       " '1074.4 1075.5 speaker_4',\n",
       " '1075.56 1077.84 speaker_4',\n",
       " '1077.9 1079.44 speaker_4',\n",
       " '1079.5 1079.98 speaker_4',\n",
       " '1080.06 1080.32 speaker_1',\n",
       " '1080.58 1081.48 speaker_4',\n",
       " '1081.54 1082.1599999999999 speaker_4',\n",
       " '1082.22 1090.14 speaker_4',\n",
       " '1090.2 1091.14 speaker_4',\n",
       " '1091.22 1093.06 speaker_4',\n",
       " '1093.16 1093.46 speaker_4',\n",
       " '1093.52 1094.26 speaker_4',\n",
       " '1094.34 1097.5 speaker_4',\n",
       " '1098.0 1098.44 speaker_4',\n",
       " '1098.52 1098.9 speaker_4',\n",
       " '1099.0 1103.1 speaker_4',\n",
       " '1103.2 1103.7 speaker_4',\n",
       " '1103.76 1104.885 speaker_4',\n",
       " '1104.885 1105.46 speaker_3',\n",
       " '1105.54 1106.26 speaker_3',\n",
       " '1106.32 1108.52 speaker_3',\n",
       " '1108.7 1109.9 speaker_3',\n",
       " '1110.06 1111.6599999999999 speaker_3',\n",
       " '1111.8 1123.425 speaker_8',\n",
       " '1123.425 1127.175 speaker_6',\n",
       " '1127.175 1127.78 speaker_7',\n",
       " '1127.88 1128.8200000000002 speaker_7',\n",
       " '1129.14 1130.265 speaker_7',\n",
       " '1130.265 1131.0200000000002 speaker_1']"
      ]
     },
     "execution_count": 12,
     "metadata": {},
     "output_type": "execute_result"
    }
   ],
   "source": [
    "print(OmegaConf.to_yaml(config))\n",
    "diar_hyp[vox_label]"
   ]
  },
  {
   "cell_type": "code",
   "execution_count": 15,
   "metadata": {},
   "outputs": [
    {
     "name": "stdout",
     "output_type": "stream",
     "text": [
      "Saved result to:  /home/DATA/amit_kesari/SD1/NeMo-ASR_Diar/data/voxconverse\n"
     ]
    },
    {
     "data": {
      "text/html": [
       "<div>\n",
       "<style scoped>\n",
       "    .dataframe tbody tr th:only-of-type {\n",
       "        vertical-align: middle;\n",
       "    }\n",
       "\n",
       "    .dataframe tbody tr th {\n",
       "        vertical-align: top;\n",
       "    }\n",
       "\n",
       "    .dataframe thead tr th {\n",
       "        text-align: left;\n",
       "    }\n",
       "\n",
       "    .dataframe thead tr:last-of-type th {\n",
       "        text-align: right;\n",
       "    }\n",
       "</style>\n",
       "<table border=\"1\" class=\"dataframe\">\n",
       "  <thead>\n",
       "    <tr>\n",
       "      <th></th>\n",
       "      <th>diarization error rate</th>\n",
       "      <th>total</th>\n",
       "      <th colspan=\"2\" halign=\"left\">correct</th>\n",
       "      <th colspan=\"2\" halign=\"left\">false alarm</th>\n",
       "      <th colspan=\"2\" halign=\"left\">missed detection</th>\n",
       "      <th colspan=\"2\" halign=\"left\">confusion</th>\n",
       "    </tr>\n",
       "    <tr>\n",
       "      <th></th>\n",
       "      <th>%</th>\n",
       "      <th></th>\n",
       "      <th></th>\n",
       "      <th>%</th>\n",
       "      <th></th>\n",
       "      <th>%</th>\n",
       "      <th></th>\n",
       "      <th>%</th>\n",
       "      <th></th>\n",
       "      <th>%</th>\n",
       "    </tr>\n",
       "    <tr>\n",
       "      <th>item</th>\n",
       "      <th></th>\n",
       "      <th></th>\n",
       "      <th></th>\n",
       "      <th></th>\n",
       "      <th></th>\n",
       "      <th></th>\n",
       "      <th></th>\n",
       "      <th></th>\n",
       "      <th></th>\n",
       "      <th></th>\n",
       "    </tr>\n",
       "  </thead>\n",
       "  <tbody>\n",
       "    <tr>\n",
       "      <th></th>\n",
       "      <td>50.856714</td>\n",
       "      <td>146.49</td>\n",
       "      <td>89.330</td>\n",
       "      <td>60.980272</td>\n",
       "      <td>17.340</td>\n",
       "      <td>11.836985</td>\n",
       "      <td>32.600</td>\n",
       "      <td>22.254079</td>\n",
       "      <td>24.560</td>\n",
       "      <td>16.765650</td>\n",
       "    </tr>\n",
       "    <tr>\n",
       "      <th></th>\n",
       "      <td>43.277583</td>\n",
       "      <td>247.53</td>\n",
       "      <td>149.895</td>\n",
       "      <td>60.556296</td>\n",
       "      <td>9.490</td>\n",
       "      <td>3.833879</td>\n",
       "      <td>59.090</td>\n",
       "      <td>23.871854</td>\n",
       "      <td>38.545</td>\n",
       "      <td>15.571850</td>\n",
       "    </tr>\n",
       "    <tr>\n",
       "      <th></th>\n",
       "      <td>56.830352</td>\n",
       "      <td>175.54</td>\n",
       "      <td>93.925</td>\n",
       "      <td>53.506323</td>\n",
       "      <td>18.145</td>\n",
       "      <td>10.336675</td>\n",
       "      <td>31.785</td>\n",
       "      <td>18.106984</td>\n",
       "      <td>49.830</td>\n",
       "      <td>28.386692</td>\n",
       "    </tr>\n",
       "    <tr>\n",
       "      <th></th>\n",
       "      <td>58.723219</td>\n",
       "      <td>1066.98</td>\n",
       "      <td>556.490</td>\n",
       "      <td>52.155617</td>\n",
       "      <td>116.075</td>\n",
       "      <td>10.878836</td>\n",
       "      <td>255.830</td>\n",
       "      <td>23.977019</td>\n",
       "      <td>254.660</td>\n",
       "      <td>23.867364</td>\n",
       "    </tr>\n",
       "    <tr>\n",
       "      <th></th>\n",
       "      <td>33.762026</td>\n",
       "      <td>506.19</td>\n",
       "      <td>342.710</td>\n",
       "      <td>67.703827</td>\n",
       "      <td>7.420</td>\n",
       "      <td>1.465853</td>\n",
       "      <td>100.355</td>\n",
       "      <td>19.825560</td>\n",
       "      <td>63.125</td>\n",
       "      <td>12.470614</td>\n",
       "    </tr>\n",
       "    <tr>\n",
       "      <th>...</th>\n",
       "      <td>...</td>\n",
       "      <td>...</td>\n",
       "      <td>...</td>\n",
       "      <td>...</td>\n",
       "      <td>...</td>\n",
       "      <td>...</td>\n",
       "      <td>...</td>\n",
       "      <td>...</td>\n",
       "      <td>...</td>\n",
       "      <td>...</td>\n",
       "    </tr>\n",
       "    <tr>\n",
       "      <th></th>\n",
       "      <td>47.094536</td>\n",
       "      <td>1079.69</td>\n",
       "      <td>662.555</td>\n",
       "      <td>61.365299</td>\n",
       "      <td>91.340</td>\n",
       "      <td>8.459836</td>\n",
       "      <td>267.675</td>\n",
       "      <td>24.791838</td>\n",
       "      <td>149.460</td>\n",
       "      <td>13.842862</td>\n",
       "    </tr>\n",
       "    <tr>\n",
       "      <th></th>\n",
       "      <td>57.489086</td>\n",
       "      <td>1069.69</td>\n",
       "      <td>561.780</td>\n",
       "      <td>52.518019</td>\n",
       "      <td>107.045</td>\n",
       "      <td>10.007105</td>\n",
       "      <td>257.560</td>\n",
       "      <td>24.078004</td>\n",
       "      <td>250.350</td>\n",
       "      <td>23.403977</td>\n",
       "    </tr>\n",
       "    <tr>\n",
       "      <th></th>\n",
       "      <td>133.098199</td>\n",
       "      <td>53.87</td>\n",
       "      <td>41.240</td>\n",
       "      <td>76.554669</td>\n",
       "      <td>59.070</td>\n",
       "      <td>109.652868</td>\n",
       "      <td>12.630</td>\n",
       "      <td>23.445331</td>\n",
       "      <td>0.000</td>\n",
       "      <td>0.000000</td>\n",
       "    </tr>\n",
       "    <tr>\n",
       "      <th></th>\n",
       "      <td>30.460688</td>\n",
       "      <td>1107.69</td>\n",
       "      <td>818.175</td>\n",
       "      <td>73.863175</td>\n",
       "      <td>47.895</td>\n",
       "      <td>4.323863</td>\n",
       "      <td>132.410</td>\n",
       "      <td>11.953705</td>\n",
       "      <td>157.105</td>\n",
       "      <td>14.183120</td>\n",
       "    </tr>\n",
       "    <tr>\n",
       "      <th>TOTAL</th>\n",
       "      <td>46.873241</td>\n",
       "      <td>143236.18</td>\n",
       "      <td>88885.195</td>\n",
       "      <td>62.054988</td>\n",
       "      <td>12788.455</td>\n",
       "      <td>8.928230</td>\n",
       "      <td>31261.305</td>\n",
       "      <td>21.825006</td>\n",
       "      <td>23089.680</td>\n",
       "      <td>16.120005</td>\n",
       "    </tr>\n",
       "  </tbody>\n",
       "</table>\n",
       "<p>233 rows × 10 columns</p>\n",
       "</div>"
      ],
      "text/plain": [
       "      diarization error rate      total    correct            false alarm  \\\n",
       "                           %                                %               \n",
       "item                                                                        \n",
       "                   50.856714     146.49     89.330  60.980272      17.340   \n",
       "                   43.277583     247.53    149.895  60.556296       9.490   \n",
       "                   56.830352     175.54     93.925  53.506323      18.145   \n",
       "                   58.723219    1066.98    556.490  52.155617     116.075   \n",
       "                   33.762026     506.19    342.710  67.703827       7.420   \n",
       "...                      ...        ...        ...        ...         ...   \n",
       "                   47.094536    1079.69    662.555  61.365299      91.340   \n",
       "                   57.489086    1069.69    561.780  52.518019     107.045   \n",
       "                  133.098199      53.87     41.240  76.554669      59.070   \n",
       "                   30.460688    1107.69    818.175  73.863175      47.895   \n",
       "TOTAL              46.873241  143236.18  88885.195  62.054988   12788.455   \n",
       "\n",
       "                  missed detection             confusion             \n",
       "                %                           %                     %  \n",
       "item                                                                 \n",
       "        11.836985           32.600  22.254079     24.560  16.765650  \n",
       "         3.833879           59.090  23.871854     38.545  15.571850  \n",
       "        10.336675           31.785  18.106984     49.830  28.386692  \n",
       "        10.878836          255.830  23.977019    254.660  23.867364  \n",
       "         1.465853          100.355  19.825560     63.125  12.470614  \n",
       "...           ...              ...        ...        ...        ...  \n",
       "         8.459836          267.675  24.791838    149.460  13.842862  \n",
       "        10.007105          257.560  24.078004    250.350  23.403977  \n",
       "       109.652868           12.630  23.445331      0.000   0.000000  \n",
       "         4.323863          132.410  11.953705    157.105  14.183120  \n",
       "TOTAL    8.928230        31261.305  21.825006  23089.680  16.120005  \n",
       "\n",
       "[233 rows x 10 columns]"
      ]
     },
     "execution_count": 15,
     "metadata": {},
     "output_type": "execute_result"
    }
   ],
   "source": [
    "# final report\n",
    "diar_score[0].report()\n",
    "\n",
    "df = metric.report()\n",
    "# saving the dataframe\n",
    "df.to_csv(data_dir+'/voxconverse_der47.csv')\n",
    "print(\"Saved result to: \", data_dir)\n",
    "df"
   ]
  },
  {
   "cell_type": "code",
   "execution_count": 14,
   "metadata": {},
   "outputs": [
    {
     "name": "stdout",
     "output_type": "stream",
     "text": [
      "Decoded word output dictionary: \n",
      " ['levetusar', 'ifvicits', 'comfas', 'phisias', 'a', 'bitter', 'woodof', 'pavi', 'isets', 'infeli', 'get', 'cattass', 'of', 'sofao', 'dhan', 'the', 'all', 'got', 'to', 'basali', 'thenwer', 'esin', 'umovi', 'of', 'enderguzundatuzan', 'is', 'am', 'unsong', 'on', \"as't\", 'that', 'i', 'mention', 'whow', 'its', 'wounes', 'could', 'come', 'dhe', 'bymendea', 'at', 'the', 'annamum', 'stocks', 'mayo', 'of', 'enigastron', 'in', 'de', 'fanzigo', 'i', 'te', 'angagaan', 'woul', 'ziham', 'ont', 'by', 'the', 'blaft', 'body', 'lets', 'him', 'fom', 'fiada', \"that's\", 'wea', 'then', 'bealictic', 'esen', 'rakdhikezon', 'viednkan', 'venenik', 'tranin', 'onagizon', 'plimekor', 'on', 'tus', 'one', 'way', 'at', 'fetief', 'twuz', 'amen', 'met', 'doctor', 'aliflek', 'doctor', 'youn', 'class', 'not', 'doctor', 'mattitiquantema', 'releasanreascastin', 'the', 'first', 'time', 'the', 'casinaer', 'had', 'gazac', 'a', 'dedotoncoonigmamia', 'fubae', 'messin', 'by', 'the', 'philifa', 'land', 'ham', 'em', 'ze', 'alma', 'ozogani', 'fakasakazeb', 'su', 'kumanzirennly', 'to', 'arts', 'is', 'this', 'our', 'ither', 'boobarton', 'dusty', 'dorton', 'anpesenzisodim', 'gaamazo', 'in', 'his', 'quest', 'on', 'the', 'gamed', 'the', 'dimension', 'philasotmalh', 'of', 'igefi', 'flacandis', 'organishmiove', \"d'hifted\", 'amention', 'in', 'norsankochnimi', 'ipi', 'hat', 'te', 'visini', 'movaveesen', 'zoil', 'a', 'febertomme', 'da', 'gid', 'te', 'housa', 'garnish', 'me', 'winh', 'the', 'zangipetino', 'hepte', 'scuffuli', 'chapibeandi', 'magemethni', 'diza', 'anfer', 'ckrichmandanema', 'whon', 'atserhed', 'inatat', 'anigosa', 'befroctun', 'kungsuzan', 'af', 'ther', 'unexited', 'din', 'cinimade', 'rubenai', 'was', 'continuous', 'harmmotes', 'the', 'sfootish', 'fire', 'and', 'uncomdifation', 'in', 'thenote', 'of', 'nam', 'dedients', 'as', 'gone', 'asons', 'wish', 'o', 'hunderieconished', 'dem', 'to', 'haers', 'as', 'my', 'molity', 'fatacked', 'i', 'e', 'hanin', 'veeling', 'issisteam', 'os', 'vili', 'casagenson', 'te', 'dorshigizipsin', 'komma', 'funtma', 'poyansamav', 'e', 'comes', '', 'efi', \"don't\", 'it', 'e', 'mo', 'man', 'punt', 'off', 'te', \"alland's\", 'idea', 'insis', 'art', 'dibers', 'phemin', 'lootin', 'anbution', 'at', 'side', 'ela', 'etebaganiis', 'gezansesteen', 'passd', 'nic', 'susanne', 'manly', 'wolh', 'the', 'dod', 'o', 'misst', 'inglesh', 'lawmin', 'and', 'stood', 'me', 'infoundfuldeselte', 'silons', 'azindon', 'andstood', 'ignfound', 'forum', 'fisanigisontes', 'in', 'him', 'is', 'is', 'einfaheinn', 'factum', 'ye', 'daming', 'is', 'suni', 'chizzanigezuntazepsonfully', 'won', 'ish', 'to', 'answer', 'then', 'the', 'hoot', 'would', 'dotanbisn', 'in', 'ahueetesni', 'cermitted', 'i', 'skipped', 'kini', 'unte', 'ngaiedf', 'vendibulugilia', 'rama', 'vasuba', 'eniangetirasi', 'ba', 'min', 'kinan', 'gugutagovas', 'da', 'debulleduluo', 'veneon', 'considered', 'her', 'te', 'fanfafale', 'or', 'desooni', 'pati', 'carble', 'a', 'we', 'brown', 'in', 'the', 'in', 'the', 'shuwlobon', 'via', \"gzuntait's\", 'fakon', 'dasmou', 'von', 'faloyden', 'a', 'clerter', 'delord', 'to', 'is', 'an', 'miclaini', 'openin', 'fatreing', 'on', 'duba', 'aisl', 'kensi', 'olsmiterberd', 'or', 'davatoruma', 'of', 'amikezutite', 'dahas', 'this', 'absolute', 'restorct', 'on', 'the', 'middleloa', 'o', 'by', 'sang', 'figh', 'and', 'anveziainbod', 'he', 'knows', 'alagigish', 'po', '', '', 'acarnatuyeeande', 'no', 'alegia', 'there', 'ar', 'twonoon', 'fever', 'temometa', 'n', 'izaalifor', 'gentlyrisuna', 'yea', 'eachasaoagonda', 'visbushai', 'mio', 'a', 'mantendi', 'pruncindesoopulapat', 'avasiaresignvanitifvialan', 'matipaandzulis', 'the', 'anirum', 'poraton', 'hida', 'on', 'mantmarhertman', 'from', 'miko', 'nerstondinornienmenskua', 'at', 'babisnilan', 'was', 'the', 'shull', 'kind', 'far', 'gipdess', 'meazac', 'dust', 'brow', 'han', 'copper', 'um', 'sufolk', 'suni', 'aaasister', 'now', 'doas', 'stay', \"marmi'ham\", 'inlikan', 'cankit', 'suteam', 'bidovan', 'often', 'absnle', 'forward', 'from', 'the', 'outsade', 'when', 'the', 'nia', 'so', 'an', 'eli', 'te', 'land', 'and', 'esneake', 'tem', 'onfohou', 'piton', 'we', 'lan', 'on', 'eingley', 'krankite', 'an', 'diakmoson', 'dentevapi', 'orvinli', 'ali', 'mazevs', 'shspresing', 'the', 'menit', 'seemn', 'soven', 'donside', 'dimentioning', '', 'wer', 'but', 'ailyindariga', 'nich', 'belord', 'as', 'wdo', 'alice', 'asteazon', 'adeemed', 'off', 'coocept', 'with', 'neat', 'in', 'the', 'regal', 'ubunoms', 'on', 'the', 'nordas', 'snarl', 'harder', 'that', 'seit', 'busty', 'crang', 'had', 'begin', 'on', 'des', 'was', 'the', 'im', 'anguished', 'pohamble', 'whom', 'was', 'unscathed', 'tha', 'ticzunda', 'bidi', 'wis', 'de', 'kindaland', 'who', 'o', 'be', 'a', 'count', 'fon', 'of', 'the', 'pthnadis', 'meisaridefose', 'negaatt', 's', 'sae', 'ee', 'hospipal', 'is', 'minilis', 'i', 'onjoden', \"doa's\", 'mikhi', 'offoras', 'tohunsuzeno', 'oftas', 'puvu', 'san', 'staka', 'ovordnizapatas', 'this', 'team', 'under', 'his', 'kind', 'consrusion', 'te', 'magmun', 'abau', 'oled', 'sivil', 'artical', 'taxi', 'father', 'theatman', 'lang', 'for', 'to', 'rover', 'and', 'the', 'younger', 'hirde', 'hap', 'the', \"nig's\", 'gazacr', 'as', 'the', 'exasted', 'fetters', 'in', 'dance', 'buzer', 'as', 'with', 'as', 'buvussanas', 'nihidas', 'ila', 'as', 'it', 'isa', 'danferlos', 'nackwarnow', 'the', 'iskids', 'nih', 'eda', 'iventark', 'meadam', 'magna', 'give', 'us', 'ackus', 'o', 'now', 'that', 'sinssogisa', 'knacville', 'cities', 'would', 'dig', 'a', 'dawn', 'aham', 'on', 'the', 'mundarind', 'by', 'assisting', 'gansaplu', 'ofalafflechton', 'de', 'sinsodeaosano', 'ni', 'andodecuzisha', 'bucli', 'sias', 'a', 'femealtu', 'aconomic', 'significant', 'basharikaa', 'zotaial', 'atlic', 'sharshir', 'bin', 'eptes', 'the', 'lack', 'of', 'dalan', 'lessons', 'in', 'fancin', 'vicmonsingiluhwera', 'ynsbou', 'dinoblusis', 'a', 'insiderostates', 'canadaeusd', 'eaisapaiokums', 'lake', 'taladefin', 'of', 'the', 'punasofige', 'head', 'bank', 'ub', 'as', 'ichmir', 'e', 'punshiver', 'ale', 'trongola', 'lodamdoas', 'cut', 'some', 'pogram', 'acamot', 'effect', 'faroi', 'o', 'ana', 'is', 'is', 'caniftovic', 'ood', 'as', 'is', 'des', 'itsprobplin', 'sooed', 'an', 'ais', 'at', 'youngas', 'mugish', 'marhont', 'dan', 'laked', 'as', 'antoshapkenin', 'utellagis', 'an', 'so', 'hitching', 'ciful', 'arm', 'call', 'te', 'miniaa', 'a', 'when', 'the', 'p', 'oo', 'nte', 'eviyoment', 'is', 'coing', 'of', 'to', 'the', 'ganisaxatc', 'nutilisson', 'as', 'int', 'ee', 'oin', 'the', 'piece', 'i', 'foll', 'the', 'lit', 'from', 'don', 'peson', '', 'won', 'i', 'have', 'acsasted', 'inua', 'daalau', 'of', 'te', 'abbish', 'deep', 'banadajaan', 'shavikishbaf', 'somcretianised', 'crystals', 'in', 'demsenfol', 'storcoa', 'danqalti', 'bavilecria', 'utemilaspiata', 'thanif', 'also', 'enals', 'paado', 'diatminson', 'sustined', 'frascanis', 'losang', 'says', 'o', 'sack', 'clean', 'iye', 'as', 'is', 'on', 'de', 'size', 'to', 'most', 'zodis', 'olen', 'slaun', 'scoor', 'das', 'i', 'wish', 'a', 'manfunesiar', 'koma', 'on', 'saitene', 'ashwanzuogam', 'wuolo', 'o', 'podogassh', 'butias', 'waloeomach', '', 'anneal', 'owe', 'to', 'demasikesavtam', 'mas', 'ebin', 'by', 'the', 'anpohen', 'incespottan', 'fonnen', 'di', 'borilan', 'on', 'the', 'khadiantrean', 'unphalin', 'pamie', 'on', 'pinsteart', 'and', 'dis', 'med', 'as', 'motorhart', 'midniges', 'in', 'candar', 'ofte', 'inkinectice', 'craft', '', 'iacnili', 'um', '', 'had', 'narin', 'blooted', 'on', 'tat', 'isohot', 'kenkorqeshoinn', 'on', 'safffoyk', 'pow', 'when', 'the', 'fontluten', 'bed', 'ad', 'com', 'i', 'mpoined', 'a', 'poli', 'sister', 'and', 'quesloudot', 'by', 'the', 'polinta', 'al', 'sanniteta', 'arvited', 'they', 'had', 'in', 'san', 'pakhtash', 'and', 'others', 'last', 'month', 'at', '', 'asteher', 'paue', 'when', 'hadmi', 'estehivicalized', 'that', 'on', 'um', 'if', 'wat', 'te', 'nicu', 'of', 'minoisit', 'endes', 'our', 'indemown', 'click', 'vomine', 'fusperriantat', 'began', 'death', 'to', 'high', 'in', 'on', 'e', 'woost', 'e', 'sofatish', 'ratcasson', \"don't\", 'candy', 'rise', 'i', 'fodset', 'could', 'da', 'na', 'harde', 'mean', 'of', 'polinisshe', 'schmet', 'tab', 'letting', 'age', 'iti', 'eonto', 'su', 'arbai', 'o', 'tanvetii', 'he', 'aptoled', 'a', 'yihab', 'ves', 'mitelfelas', 'and', 'ugasmadu', 'hianioon', 'tu', 'langfosti', 'angeli', 'tericti', 'ge', 'anneal', 'vocal', 'her', 'wound', 'up', 'a', 'boken', 'kan', 'gite', 'us', 'thot', 'wom', 'em', 'by', 'bu', 'stimple', 'dhe', 'opnosin', 'pushed', 'him', 'to', 'binger', 'to', 'that', 'mister', 'essen', 'would', 'aos', 'ten', 'thirtin', 'a', 'bect', 'ol', 'vides', 'as', 'gigijagum', 'ed', 'announcedme', 'to', 'iskimmudi', 'to', 'tiyung', 'a', 'enounce', 'miter', 'd', 'viham', 'on', 'his', 'kit', 'darvum', 'defier', 'hilend', 'announc', 'mittlehamitz', 'must', 'binusa', 'nuser', 'vertan', 'gignfihi', 'in', 'the', 'conquirt', 'and', 'othepili', 'nouncementisettin', 'via', 'delict', 'hein', 'vi', 'ze', 'a', 'anti', 'andsutitive', 'ocumcomnessan', 'nusidispesunpiston', 'to', 'ula', 'on', 'under', 'the', 'litdluthianvi', 'in', 'emenga', 'dasenttismodan', 'vites', 'and', 'poordoctors', 'and', 'fatispor', 'ducten', 'netuleo', 'edivin', 'mou', 'armouth', 'as', 'soon', 'as', 'gite', 'ifaum', 'd', 'fragget', 'is', 'com', 'here', 'god', 'o', 'off', 'bas', 'goff', 'demen', 'ukisondevice', 'thus', 'vise', 'kind', 'at', 'e', 'stanmen', 'in', 'a', 'shellinnish', 'on', 'a', 'dusistrinis', 'picant', 'on', 'the', 'sei', 'indotanehi', 'rhelly', 'gused', 'ta', 'foshe', 'along', 'the', 'fon', 'vi', 'musisiet', 'ein', 'unt', 'logezandezeefouziet', 'ibron', 'vicconisa', 'bluden', 'locarp', 'discoson', 'tat', 'a', 'loufhet', 'on', 'dust', 'barber', 'chairman', 'of', 'the', 'stigzesha', 'we', 'bought', 'on', 'a', 'diffine', 'toon', 'fror', 'damn', \"bass's\", 'forementioned', 'argerage', 'bussis', 'oonsga', 'occulater', 'and', 'you', \"won't\", 'getp', 'this', 'caus', 'he', 'i', 'connect', 'anon', 'foryean', 'mention', 'oe', 'sto', 'o', 'off', 'my', 'heara', 'ananie', 'as', 'iu', 'it', 'be', 'god', 'that', 'use', 'the', 'archirecter', 'aknown', 'for', 'alement', 'ond', 'glyaba', 'vihanetich', 'pus', 'of', 'the', 'fullimde', 'inephetric', 'dasciny', 'aber', 'in', 'prinsep', 'gipdisty', 'to', 'giep', 'this', 'fiyeasoligity', 'foryete', 'steat', 'bahol', 'remissn', 'esberarton', 'on', 'ventiean', 'is', 'fifti', 'aneatvar', 'then', 'said', 'ankong', 'quioonvi', 'men', 'zuissesh', 'woul', 'hepatente', 'but', 'on', 'sena', 'partisin', 't', 'visin', 'to', 'artisporsen', 'toifashe', 'and', 'nionn', 'crarevor', 'and', 'diit', 'the', 'cheffof', 'viowin', 'sain', 'dorgelord', 'on', 'dat', 'miss', 'vennam', \"lwhat's\", 'a', 'ecestyvicti', 'esmhizinia', 'on', 'trasenshan', 'alise', 'einson', 'nowunda', 'wackatso', 'dimentione', 'than', 'the', 'individuali', 'tate', 'at', 'eyeing', 'a', 'full', 'letin', 'iyn', 'of', 'a', 'draggling', 'kitd', 'and', 'iin', 'te', 'tragli', 'tone', 'as', 'ety', 'lip', 'some', 'bashe', 'hos', 'in', 'foister', 'well', 'bese', 'i', 'take', 'a', 'back', 'fleet', 'on', 'mmphi', 'ley', 'ar', 'al', 'on', 'trot', 'infa', 'trakish', 'indis', 'coot', 'as', 'the', 'desers', 'also', 'bus', 'gansvistikes', 'escipped', 'it', 'snamudana', 'vizunchaf', 'ortizer', 'cuoonn', 'former', 'ar', 'ye', 'thou', 'soldiery', 'or', 'ungli', 'truly', 'chaumount', 'hor', 'abisin', 'of', 'me', 'as', 'too', 'me', 'go', 'on', 'the', 'comino', 'and', 'for', 'my', 'expe', 'mitelious', 'last', 'months', 'foevo', 'mil', 'puo', 'look', 'to', 'veckia', 'aahmet', 'vesser', 'eclard', 'e', 'a', 'o', 'a', 'elacination', 'wassa', 'scuti', 'byaeti', '', 'asessetion', 'of', 'eon', 'ki', 'oeporbi', 'port', 'ort', 'fopohort', 'gakenbort', 'as', 'miii', 'lovita', 'finihestin', 'vibrawnun', 'unbiloblivini', 'yea', 'iven', 'iie', 'shotter', 'be', 'ven', 'if', 'yo', 'bos', '', 'she', 'ace', 'by', 'me', 'so', 'mis', 're', 'lon', 'a', 'seal', 'epenzo', 'ofka', 'bucksan', 'flesh', 'milger', 'here', 'aganow', 'wen', 'ii', 'on', 'li', 'danvheeni', 'iol', 'tente', 'aadistinhiszanvia', 'mhunde', 'billion', 'hiffen', 'o', 'zamdam', 'de', 'mann', 'ozvini', 'fie', 'yitlim', 'banaban', 'gizetchef', 'de', 'fieeiffusionist', 'aonin', 'o', 'hundred', 'dors', 'efiewhi', 'when', 'e', \"doesn't\", 'say', 'foolish', 'paly', 'tes', 'she', 'does', 'me', 'fifty', 'u', 'ase', 'he', 'lets', 'know', 'e', 'gan', 'zofhielin', 'onra', 'ne', 'on', 'gfer', 'indat', 'does', 'he', 'e', 'money', 'inow', 'ti', 'says', 'fiu', 'jhason', 'on', 'funy', 'infenction', 'on', 'ha', 'fisufi', 'whenate', 'kinvasang', 'i', 'no', 'hard', 'can', 'e', 'stan', 'eong', 'viae', 'zeavention', 'it', 'whon', 'danus', 'anesou', 'are', '', 'individually', 'as', 'pic', 'a', 'spected', 'uncom', 'ata', 'im', 'prance', 'waiiimeat', 'my', 'motni', \"it'shaif\", 'youre', 'tempe', 'eisenhana', 'deam', 'in', 'ilazendong', 'ide', \"oligishpitt's\", 'hat', 'the', 'animagemant', 'expetyand', 'probleimd', 'to', 'incomis', 'prerifoncarlu', 'boureo', 'aher', 'wit', 'vecome', 'as', 'its', 'tenser', 'in', 'o', 'ateskeshaf', 'mitirahelfezan', 'sustantotis', 'to', 'fabasade', 'boruvas', 'ba', 'vas', 'lakin', 'namhansan', \"i'd\", 'see', 'anything', 'buten', 'an', 'their', 'old', 'stocks', 'or', 'buses', 'pacificy', 'farther', 'the', 'aspect', 'miinepimtituzang', 'ia', 'sashogevi', 'fetlive', 'blutoturg', 'colasrisoho', 'dasinkanicu', 'alsation', 'silange', 'slim', 'as', 'was', 'marri', 'of', 'michi', 'superworment', 'on', 'suverio', 'ranicom', 'canslase', 'toliscacepers', 'bilrangecom', 'on', \"vihammon's\", 'e', 'zei', 'minaneal', 'angicot', 'on', 'madibevilloo', 'anby', 'on', 'hitri', 'an', 'atasugafitasinatisaside', 'from', 'fombmunatan', 'defat', 'labor', 'e', 'vida', 'of', 'creti', 'zawage', 'cremptarver', 'does', 'a', 'regan', 'missi', 'sport', 'market', 'does', 'my', 'butok', 'pdenormalia', 'seporcin', 'amirica', 'menta', 'name', 'mihm', 'hapkanubegivipe', 'or', 'ecniting', 'meoanofol', 'itanazan', 'o', 'the', '', 'how', 'titen', 'on', 'my', 'ivene', 'vefl', 'has', 'to', 'abonoaegujababaska', 'and', 'bekela', 'wont', 'mid', 'with', 'harser', 'disciplint', 'at', 'simakalova', 'as', 'ie', 'beai', 'habit', 'of', 'halling', 'mitate', 'esi', 'ionimusietanbor', 'marhfil', 'bonds', 'on', 'some', 'site', 'offution', 'committers', 'of', 'sanamsama', 'kato', 'ofienaoasiars', 'on', '', 'other', 'impensive', 'con', 'hedra', 'the', 'regularcon', 'field', 'i', 'was', 'put', 'upto', 'herzonister', 'gimuse', 'orsobstnating', 'oozo', 'in', 'gam', 'by', 'theself', 'mut', 'fortsogaisanis', 'theonomotisipetisian', 'gadi', 'di', 'cunudor', 'aditionaly', 'often', 'named', 'insuka', 'of', 'awfuposatasit', 'of', 'fogesan', 'as', 'ifefor', 'token', 'maham', 'inifit', 'lever', 'wen', 'thats', 'whot', 'the', 'olcans', 'punk', 'by', 'carlo', 'fia', 'alec', 'andralh', 'fillin', 'bluetoh', 'opon', 'mifetly', 'vensindom', 'wonen', 'zulpar', 'and', 'the', 'conqued', 'or', 'of', 'the', 'insukaga', 'did', 'on', 'bigrin', 'tivio', 'wus', 'at', 'dinnismian', 'foronce', 'once', 'hepestized', 'his', 'kromanta', 'amals', 'may', 'go', 'forst', 'can', 'be', 'venis', 'des', 'wen', 'mayve', 'dofter', 'vaine', 'he', 'gets', 'ta', 'work', 'on', 'does', 'have', 'carlo', 'consequent', 'on', 'musits', \"that's\", 'probably', 'miseime', 'lenna', 'pat', 'sent', 'in', 'mitma', 'ioas', 'not', 'so', 'ansteringe', 'co', 'flick', 'gods', 'cot', 'iti', 've', 'in', 'obe', 'o', 'na', 'tul', 'how', 'e', 'sa', 'imma', 'der', 'speaking', 'le', 'an', 'heo', 'un', 'agta', 'anin', 'i', 'as', 'toen', 'fe', 'like', 'u', 't', 'fater', 'wood', 'for', 'the', 'hout', 's', 'da', 'tistans', 'ir', 'oka', 'a', 'he', 'mas', 'e', 'he', 'hou', 'an', 'ol', 'aontl', 'sie', 'o', 'ona', 'would', 'have', 'a', 'soli', 'fon', 'min', 'an', 'how', 'would', 'poble', 'ol', 'cla', 'min', 'sal', 'larsan', 'pass', 'me', 'nor', \"i'm\", 'erhaps', 'e', 'leake', 'as', 'we', 'on', 'sneeing', 'onnafragofat', 'settin', 'bus', 'as', 'the', 'eundindis', 'a', 'hexenborg', 'drisdige', 'aniona', 'or', 'was', 'is', 'essin', 'bewoods', 'de', 'kow', 'on', 'dele', 'before', 'leogmous', 'follo', 'un', 'gun', 'es', 'aul', 'kans', 'veteaes', 'kie', 'so', 'bazan', 'a', 'o', 'te', 'is', 'ta', 'good', 'side', 'pot', 'deyonpent', 'knoll', 'its', 'much', 'recornish', 'a', 'shofnes', 'as', 'well', 'dhey', 'need', 'so', 'longa', 'pauls', 'an', 'mand', 'wicle', 'miger', 'obona', 'the', 'micrenhad', 'the', 'pow', 'of', 'eagle', 'masic', 'photogonols', 'withother', \"fluke's\", 'pat', 'and', 'oda', 'thet', 'sugalstein', 'knigh', 'no', 'blonder', 'frown', 'upfilts', 'a', 'ye', 'blunder', 'on', 'up', 'elow', 'ogiiintocastion', 'yet', 'so', 'hout', 'am', 'oh', 'sloved', 'alis', 'an', 'minelestone', 'missus', 'wookly', 'so', 'mansactas', 'did', 'call', 'utratic', 'to', 'soka', 'raihil', 'and', 'nehom', 'bookley', 'nest', 'good', 'footi', 'hawters', 'on', 'bed', 'son', 'busevil', 'older', 'acu', 'lided', 'o', 'donda', 'and', 'sonli', 'and', 'holt', 'ar', 'kange', 'oe', 'shortens', 'laf', 'te', 'manjaan', 'gini', 'an', 'ane', 'bahart', 'and', 'cop', 'fould', 'wolder', 'inwor', 'witha', 'balnavel', 'oda', 'poorboeye', 'bisender', 'kniek', 'that', 'ter', 'oftin', 'co', 'find', 'e', 'nodesty', 'howless', 'tis', 'acoun', 'to', 'somon', 'de', 'cornischer', 'and', 'soonno', 'am', 'carfer', 'did', 'an', 'be', 'and', 'and', 'soon', 'the', 'kan', 'marched', 'with', 'hi', 'guns', 'and', 'gerfairs', 'are', 'covered', 'this', 'thing', 'is', 'as', 'work', 'he', 'could', 'really', 'halt', 'and', 'ignor', 'by', 'semazo', 'fiubasa', 'trink', 'was', 'on', 'an', 'wudugazon', 'defetta', 'as', 'the', 'haud', 'climed', 'for', 'an', 'innin', 'din', 'damn', 'plings', 'wi', 'wi', 'itsane', 'puts', 'and', 'dicgezone', 'and', 'dambac', 'tendibeim', 'a', 'ventaneyon', 'gou', 'to', 'com', 'pe', 'se', 'the', 'prau', 'on', 'onguzun', 'suzane', 'an', 'vi', 'a', 'dam', 'gozon', 'essen', 'argeragt', 'esenwent', 'aunty', 'and', 'swultly', 'as', 'another', 'cooler', 'tarto', 'wounde', 'fige', 'mouser', 'lancatting', 'gafetsaw', 'on', \"ou's\", 'fish', 'or', 'the', 'agin', 'un', 'or', 'misser', 'musmonchan', 'or', 'mandefatrak', 'on', 'feel', 'e', 'profity', 'ana', 'fon', 'sirhina', 'haudwenzivinegar', 'mely', 'put', 'doctor', 'twing', 'on', 'des', 'faster', 'terhea', 'finbord', 'on', 'farsharlior', 'lan', 'a', 'hamy', 'o', 'you', 'gunna', 'vi', 'nigga', 'kaffi', 'an', 'from', 'ma', 'pobia', 'y', 'you', 'obness', 'lef', 'to', 'harnily', 'erie', 'lesta', 'ot', 'amed', 'anfang', 'et', 'rasbesasuma', 'missus', 'doremma', 'fentiicans', 'cars', 'arms', 'on', 'strarches', 'to', 'walkhin', 'tatraen', 'it', 'tanto', 'ana', 'amarinikol', 'but', 'eemma', 'be', 'the', 'unfool', 'as', 'madamit', 'sosuzag', 'in', 'hannoyed', 'sight', 'i', 'loiterd', 'i', 'hat', 'as', 'fur', 'sinfalled', 'an', 'appointed', 'from', 'the', 'ards', 'comarow', 'as', 'a', 'parter', 'he', 'had', 'coact', 'hanted', 'annagar', 'ka', 'kanuma', '', 'to', 'das', 'cisine', 'by', 'in', 'any', 'young', 'stocks', 'as', 'we', 'ammet', 'a', 'man', 'fanghar', 'mi', 'nadan', 'vanivo', 'ni', 'na', 'ti', 'somy', 'matas', 'min', 'cookd', 'to', 'ashmy', 'v', 'and', 'yet', 'munse', 'vi', 'anyet', 'see', 'damage', 'te', 'ta', 'anyon', 'for', 'pesenvil', 'or', 'does', 'his', 'vi', 'bay', 'de', 'an', 'alusa', 'and', 'his', 'winter', 'named', 'ther', 'forhter', 'turn', 'scriptr', 'pute', 'nima', 'toted', 'si', 'on', 'as', 'much', 'any', 'allice', 'fise', 'on', 'cooked', 'ba', 'mal', 'by', 'dimension', 'culitian', 'vole', 'and', 'tarkas', 'poufill', 'an', 'onchard', 'of', 'vasariti', 'martasolagan', 'farstarkin', 'on', 'des', 'far', 'sar', 'fechmark', 'vidim', 'anva', 'forgestedas', 'sint', 'felike', 'san', 'dingar', 'on', 'doffon', 'looked', 'manditivistisan', 'o', 'to', 'the', 'amice', 'and', 'effectarm', 'as', '', 'ansiatic', 'prince', 'ould', 'danwith', 'thi', 'scoutte', 'at', 'one', 'for', 'hundred', 'en', 'mustasonp', 'fied', 'boards', 'i', '', 'convet', 'us', 'to', 'foycombort', 'aset', 'an', 'vi', 'anampe', 'am', 'on', 'a', 'vistiise', 'anfhestes', 'mistis', 'mentioned', 'evass', 'an', 'abot', 'pepl', 'aste', 'analuser', 'detagabu', 'utan', 'te', 'fo', 'hundred', 'nanvettas', 'unguzundikinn', 'guzunteus', 'esets', 'on', 'teve', 'desou', 'mantun', 'the', 'anly', 'mentioned', 'disana', 'madria', 'and', 'adidan', 'koomuch', 'hekep', 'aniganish', 'fever', 'annat', 'vidin', '', 'miulas', 'viccister', 'fi', 'efendar', 'tom', 'mitaim', 'gulson', 'heber', 'ondanzazandi', 'fimi', 'filfitta', 'a', 'oun', 'was', 'ister', 'by', 'deymention', 'miyetzane', 'arkarecte', 'an', 'nepokoma', 'kaluasiagar', 'evasedin', 'dos', 'wat', 'er', 'gagesan', 'hart', 'is', 'the', 'arcavay', 'on', 'does', \"marhton's\", 'skity', 'vi', 'kurpali', 'fittar', 'on', 'thi', 'otigund', 'vishhyyetiednambush', 'te', 'eresihoadede', 'ulimstuspung', 'amutitihos', 'and', 'orknatia', 'mittude', 'pefhia', 'vie', 'clar', 'divonne', 'gaisti', 'uncerpelifetavan', 'divon', 'medaien', 'bicom', 'on', 'doth', 'as', 'the', 'effect', 'fearfor', 'ally', 'mention', 'tde', 'e', 'annyon', 'for', 'inda', 'an', 'boyen', 'as', 'he', 'does', 'ifit', 'of', 'hem', 'next', 'mins', 'exultant', 'azidiscized', 'cazondevietnokazundav', 'was', 'to', 'honde', 'anker', 'they', 'had', 'zefirguzudebleskonle', 'a', 'oi', 'ovia', 'end', 'ins', 'il', 'd']\n"
     ]
    }
   ],
   "source": [
    "print(\"Decoded word output dictionary: \\n\", word_hyp[vox_label])\n"
   ]
  },
  {
   "cell_type": "code",
   "execution_count": 9,
   "metadata": {
    "scrolled": true
   },
   "outputs": [
    {
     "data": {
      "text/plain": [
       "{'metric_name_': 'diarization error rate',\n",
       " 'components_': {'confusion',\n",
       "  'correct',\n",
       "  'false alarm',\n",
       "  'missed detection',\n",
       "  'total'},\n",
       " 'accumulated_': {'missed detection': 10121.897999999588,\n",
       "  'total': 29828.22199999846,\n",
       "  'false alarm': 5635.149999999803,\n",
       "  'confusion': 3972.4249999995786,\n",
       "  'correct': 15733.898999999294},\n",
       " 'results_': [('',\n",
       "   {'missed detection': 930.7949999999225,\n",
       "    'total': 2426.5699999998214,\n",
       "    'false alarm': 221.24999999998684,\n",
       "    'confusion': 328.31999999997186,\n",
       "    'correct': 1167.4549999999267,\n",
       "    'diarization error rate': 0.6100648240108425}),\n",
       "  ('',\n",
       "   {'missed detection': 699.949999999973,\n",
       "    'total': 1877.9999999999138,\n",
       "    'false alarm': 273.51499999999237,\n",
       "    'confusion': 217.16499999998172,\n",
       "    'correct': 960.8849999999609,\n",
       "    'diarization error rate': 0.6339882854100116}),\n",
       "  ('',\n",
       "   {'missed detection': 1198.0099999999438,\n",
       "    'total': 3259.0999999998057,\n",
       "    'false alarm': 326.8249999999849,\n",
       "    'confusion': 109.0299999999686,\n",
       "    'correct': 1952.0599999998924,\n",
       "    'diarization error rate': 0.5013239851492728}),\n",
       "  ('',\n",
       "   {'missed detection': 1017.9549999999489,\n",
       "    'total': 2581.379999999846,\n",
       "    'false alarm': 228.9049999999844,\n",
       "    'confusion': 256.78999999996614,\n",
       "    'correct': 1306.6349999999338,\n",
       "    'diarization error rate': 0.5824985085496862}),\n",
       "  ('',\n",
       "   {'missed detection': 281.44500000001176,\n",
       "    'total': 891.9000000000219,\n",
       "    'false alarm': 241.21000000000123,\n",
       "    'confusion': 102.85000000000115,\n",
       "    'correct': 507.60500000000894,\n",
       "    'diarization error rate': 0.7013174122659478}),\n",
       "  ('',\n",
       "   {'missed detection': 667.5899999999511,\n",
       "    'total': 2176.569999999849,\n",
       "    'false alarm': 304.23499999998967,\n",
       "    'confusion': 485.37999999995986,\n",
       "    'correct': 1023.5999999999385,\n",
       "    'diarization error rate': 0.6694960419375448}),\n",
       "  ('',\n",
       "   {'missed detection': 691.3499999999776,\n",
       "    'total': 2185.529999999881,\n",
       "    'false alarm': 284.4699999999846,\n",
       "    'confusion': 394.7249999999585,\n",
       "    'correct': 1099.454999999945,\n",
       "    'diarization error rate': 0.6270996051301035}),\n",
       "  ('',\n",
       "   {'missed detection': 601.5249999999662,\n",
       "    'total': 1938.279999999873,\n",
       "    'false alarm': 459.90499999998315,\n",
       "    'confusion': 515.2549999999447,\n",
       "    'correct': 821.4999999999621,\n",
       "    'diarization error rate': 0.8134454258414663}),\n",
       "  ('',\n",
       "   {'missed detection': 237.21500000000736,\n",
       "    'total': 673.630000000016,\n",
       "    'false alarm': 192.75500000000088,\n",
       "    'confusion': 81.05500000000254,\n",
       "    'correct': 355.3600000000061,\n",
       "    'diarization error rate': 0.7586137790775331}),\n",
       "  ('',\n",
       "   {'missed detection': 695.1649999999876,\n",
       "    'total': 1932.059999999918,\n",
       "    'false alarm': 223.75499999999,\n",
       "    'confusion': 158.88999999997242,\n",
       "    'correct': 1078.004999999958,\n",
       "    'diarization error rate': 0.5578553461072615}),\n",
       "  ('',\n",
       "   {'missed detection': 494.8849999999965,\n",
       "    'total': 1555.4799999999505,\n",
       "    'false alarm': 268.5049999999936,\n",
       "    'confusion': 299.55999999997834,\n",
       "    'correct': 761.0349999999755,\n",
       "    'diarization error rate': 0.6833581916835976}),\n",
       "  ('',\n",
       "   {'missed detection': 566.574999999982,\n",
       "    'total': 1681.689999999927,\n",
       "    'false alarm': 327.68499999999034,\n",
       "    'confusion': 187.06499999997217,\n",
       "    'correct': 928.0499999999728,\n",
       "    'diarization error rate': 0.6429990069513354}),\n",
       "  ('',\n",
       "   {'missed detection': 273.91299999999455,\n",
       "    'total': 1004.2119999999694,\n",
       "    'false alarm': 493.80999999999256,\n",
       "    'confusion': 140.18999999998945,\n",
       "    'correct': 590.1089999999854,\n",
       "    'diarization error rate': 0.9041049101185847}),\n",
       "  ('',\n",
       "   {'missed detection': 587.4649999999863,\n",
       "    'total': 1783.0799999999103,\n",
       "    'false alarm': 378.81499999998175,\n",
       "    'confusion': 189.64499999997446,\n",
       "    'correct': 1005.9699999999496,\n",
       "    'diarization error rate': 0.6482743342979567}),\n",
       "  ('',\n",
       "   {'missed detection': 577.5649999999758,\n",
       "    'total': 1860.1999999999036,\n",
       "    'false alarm': 720.3499999999781,\n",
       "    'confusion': 247.5099999999712,\n",
       "    'correct': 1035.1249999999566,\n",
       "    'diarization error rate': 0.8307843242662107}),\n",
       "  ('',\n",
       "   {'missed detection': 600.4949999999669,\n",
       "    'total': 2000.5399999998558,\n",
       "    'false alarm': 689.1599999999694,\n",
       "    'confusion': 258.9949999999653,\n",
       "    'correct': 1141.0499999999236,\n",
       "    'diarization error rate': 0.7741159886830622})],\n",
       " 'matcher_': <pyannote.metrics.matcher.LabelMatcher at 0x7f12ea37ca90>,\n",
       " 'confusion': 1.0,\n",
       " 'miss': 1.0,\n",
       " 'false_alarm': 1.0,\n",
       " 'collar': 0.05,\n",
       " 'skip_overlap': False,\n",
       " 'mapper_': <pyannote.metrics.matcher.HungarianMapper at 0x7f12e85531c0>}"
      ]
     },
     "execution_count": 9,
     "metadata": {},
     "output_type": "execute_result"
    }
   ],
   "source": [
    "metric.__dict__"
   ]
  },
  {
   "cell_type": "code",
   "execution_count": null,
   "metadata": {},
   "outputs": [],
   "source": []
  },
  {
   "cell_type": "code",
   "execution_count": null,
   "metadata": {},
   "outputs": [],
   "source": []
  },
  {
   "cell_type": "markdown",
   "metadata": {},
   "source": [
    "### example visualisation"
   ]
  },
  {
   "cell_type": "code",
   "execution_count": 35,
   "metadata": {},
   "outputs": [
    {
     "data": {
      "image/png": "[encoded data removed]",
      "text/plain": [
       "<pyannote.core.annotation.Annotation at 0x7f65c48e5be0>"
      ]
     },
     "execution_count": 35,
     "metadata": {},
     "output_type": "execute_result"
    }
   ],
   "source": [
    "groundtruth # to see the labels of each speaker and time intervals, this will show last one only"
   ]
  },
  {
   "cell_type": "code",
   "execution_count": null,
   "metadata": {},
   "outputs": [],
   "source": [
    "# print generated rttm of last test file\n",
    "!cat {output_dir}/pred_rttms/TS3003d.Mix-Headset.rttm\n",
    "\n",
    "pred_labels = rttm_to_labels(output_dir+'/pred_rttms/TS3003d.Mix-Headset.rttm')\n",
    "hypothesis = labels_to_pyannote_object(pred_labels)\n",
    "hypothesis"
   ]
  },
  {
   "cell_type": "code",
   "execution_count": null,
   "metadata": {},
   "outputs": [],
   "source": [
    "# use spyder\n",
    "\n",
    "hypothesis_rttm_list = []\n",
    "hypothesis_rttm_filepath= os.path.join(output_dir, 'pred_rttms')\n",
    "\n",
    "if test_type == 'test':\n",
    "    hypothesis_rttm_list = glob.glob(hypothesis_rttm_filepath + '/*.rttm', recursive=True)\n",
    "    \n",
    "    for ground_rttm, hyp_rttm in zip(groundtruth_rttm_list, hypothesis_rttm_list):\n",
    "        print(\"g h\", ground_rttm)\n",
    "        !spyder {ground_rttm} {hyp_rttm} --per-file\n",
    "\n",
    "# der2 = abs(metric)\n",
    "\n",
    "der = metric(groundtruth, hypothesis)\n",
    "print(f'diarization error rate = {100 * der:.1f}%')"
   ]
  },
  {
   "cell_type": "code",
   "execution_count": null,
   "metadata": {},
   "outputs": [],
   "source": []
  },
  {
   "cell_type": "code",
   "execution_count": null,
   "metadata": {},
   "outputs": [],
   "source": []
  },
  {
   "cell_type": "code",
   "execution_count": null,
   "metadata": {},
   "outputs": [],
   "source": []
  },
  {
   "cell_type": "code",
   "execution_count": null,
   "metadata": {},
   "outputs": [],
   "source": []
  },
  {
   "cell_type": "code",
   "execution_count": null,
   "metadata": {},
   "outputs": [],
   "source": []
  },
  {
   "cell_type": "code",
   "execution_count": null,
   "metadata": {},
   "outputs": [],
   "source": []
  },
  {
   "cell_type": "code",
   "execution_count": null,
   "metadata": {},
   "outputs": [],
   "source": []
  },
  {
   "cell_type": "code",
   "execution_count": null,
   "metadata": {},
   "outputs": [],
   "source": []
  }
 ],
 "metadata": {
  "kernelspec": {
   "display_name": "Python 3 (ipykernel)",
   "language": "python",
   "name": "python3"
  },
  "language_info": {
   "codemirror_mode": {
    "name": "ipython",
    "version": 3
   },
   "file_extension": ".py",
   "mimetype": "text/x-python",
   "name": "python",
   "nbconvert_exporter": "python",
   "pygments_lexer": "ipython3",
   "version": "3.9.12"
  },
  "pycharm": {
   "stem_cell": {
    "cell_type": "raw",
    "metadata": {
     "collapsed": false
    },
    "source": []
   }
  }
 },
 "nbformat": 4,
 "nbformat_minor": 4
}
