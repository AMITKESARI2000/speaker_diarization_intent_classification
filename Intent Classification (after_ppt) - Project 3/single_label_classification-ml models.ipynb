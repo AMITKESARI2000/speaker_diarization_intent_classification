{
 "cells": [
  {
   "cell_type": "markdown",
   "metadata": {},
   "source": [
    "### single label classification using train and test set csv. Got max accuracy of ~77% in Linear SVC after  preprocessing, removing stop words, and stemming"
   ]
  },
  {
   "cell_type": "code",
   "execution_count": 1,
   "metadata": {},
   "outputs": [],
   "source": [
    "# import libraries for classification\n",
    "import pandas as pd\n",
    "import numpy as np\n",
    "import re\n",
    "import matplotlib\n",
    "import matplotlib.pyplot as plt\n",
    "import seaborn as sns\n",
    "from nltk.stem import PorterStemmer\n",
    "from nltk.tokenize import word_tokenize\n",
    "\n",
    "from sklearn.naive_bayes import ComplementNB\n",
    "from sklearn.naive_bayes import MultinomialNB\n",
    "from sklearn.linear_model import LogisticRegression\n",
    "from sklearn.svm import LinearSVC\n",
    "\n",
    "from sklearn.ensemble import RandomForestClassifier\n",
    "from sklearn.neighbors import KNeighborsClassifier\n",
    "from sklearn.decomposition import PCA\n",
    "\n",
    "from sklearn.metrics import confusion_matrix\n",
    "from sklearn.metrics import accuracy_score, precision_score, recall_score, f1_score\n",
    "from sklearn.metrics import classification_report\n",
    "from sklearn.feature_extraction.text import TfidfVectorizer\n",
    "%matplotlib inline"
   ]
  },
  {
   "cell_type": "code",
   "execution_count": 17,
   "metadata": {},
   "outputs": [
    {
     "data": {
      "text/html": [
       "<div>\n",
       "<style scoped>\n",
       "    .dataframe tbody tr th:only-of-type {\n",
       "        vertical-align: middle;\n",
       "    }\n",
       "\n",
       "    .dataframe tbody tr th {\n",
       "        vertical-align: top;\n",
       "    }\n",
       "\n",
       "    .dataframe thead th {\n",
       "        text-align: right;\n",
       "    }\n",
       "</style>\n",
       "<table border=\"1\" class=\"dataframe\">\n",
       "  <thead>\n",
       "    <tr style=\"text-align: right;\">\n",
       "      <th></th>\n",
       "      <th>TYPE</th>\n",
       "      <th>DOCUMENT_CONTENT</th>\n",
       "      <th>DOCUMENT_CLASS</th>\n",
       "    </tr>\n",
       "  </thead>\n",
       "  <tbody>\n",
       "    <tr>\n",
       "      <th>0</th>\n",
       "      <td>TRAIN</td>\n",
       "      <td>Great News to All Vape Lovers Vapefanz has res...</td>\n",
       "      <td>2</td>\n",
       "    </tr>\n",
       "    <tr>\n",
       "      <th>1</th>\n",
       "      <td>TRAIN</td>\n",
       "      <td>Vaprcase 2 Review: Lifegrabber√¢‚Ç¨‚Ñ¢s Soluti...</td>\n",
       "      <td>1</td>\n",
       "    </tr>\n",
       "    <tr>\n",
       "      <th>2</th>\n",
       "      <td>TRAIN</td>\n",
       "      <td>i bought 2 boxes and both has 0.8 and 1.2</td>\n",
       "      <td>1</td>\n",
       "    </tr>\n",
       "    <tr>\n",
       "      <th>3</th>\n",
       "      <td>TRAIN</td>\n",
       "      <td>pod Fundamentals Explained vanilla - When rega...</td>\n",
       "      <td>1</td>\n",
       "    </tr>\n",
       "    <tr>\n",
       "      <th>4</th>\n",
       "      <td>TRAIN</td>\n",
       "      <td>Pretty fun time streaming some VALORANT with m...</td>\n",
       "      <td>2</td>\n",
       "    </tr>\n",
       "    <tr>\n",
       "      <th>...</th>\n",
       "      <td>...</td>\n",
       "      <td>...</td>\n",
       "      <td>...</td>\n",
       "    </tr>\n",
       "    <tr>\n",
       "      <th>4835</th>\n",
       "      <td>TRAIN</td>\n",
       "      <td>√¢≈° √Ø¬∏¬è√∞≈∏¬ê¬¢ TURTLE JUICE √∞≈∏¬ê¬¢√¢≈° ...</td>\n",
       "      <td>1</td>\n",
       "    </tr>\n",
       "    <tr>\n",
       "      <th>4836</th>\n",
       "      <td>TRAIN</td>\n",
       "      <td>Dude check out blankz pods. They make a Juul c...</td>\n",
       "      <td>1</td>\n",
       "    </tr>\n",
       "    <tr>\n",
       "      <th>4837</th>\n",
       "      <td>TRAIN</td>\n",
       "      <td>Koko prem vape device here√∞≈∏‚Äò‚Ä∞0562220852...</td>\n",
       "      <td>1</td>\n",
       "    </tr>\n",
       "    <tr>\n",
       "      <th>4838</th>\n",
       "      <td>TRAIN</td>\n",
       "      <td>Hero of the day myblu capsules We tell there a...</td>\n",
       "      <td>2</td>\n",
       "    </tr>\n",
       "    <tr>\n",
       "      <th>4839</th>\n",
       "      <td>TRAIN</td>\n",
       "      <td>Hello guys im a newbie just upgraded to the dr...</td>\n",
       "      <td>0</td>\n",
       "    </tr>\n",
       "  </tbody>\n",
       "</table>\n",
       "<p>4840 rows × 3 columns</p>\n",
       "</div>"
      ],
      "text/plain": [
       "       TYPE                                   DOCUMENT_CONTENT  DOCUMENT_CLASS\n",
       "0     TRAIN  Great News to All Vape Lovers Vapefanz has res...               2\n",
       "1     TRAIN  Vaprcase 2 Review: Lifegrabber√¢‚Ç¨‚Ñ¢s Soluti...               1\n",
       "2     TRAIN          i bought 2 boxes and both has 0.8 and 1.2               1\n",
       "3     TRAIN  pod Fundamentals Explained vanilla - When rega...               1\n",
       "4     TRAIN  Pretty fun time streaming some VALORANT with m...               2\n",
       "...     ...                                                ...             ...\n",
       "4835  TRAIN  √¢≈° √Ø¬∏¬è√∞≈∏¬ê¬¢ TURTLE JUICE √∞≈∏¬ê¬¢√¢≈° ...               1\n",
       "4836  TRAIN  Dude check out blankz pods. They make a Juul c...               1\n",
       "4837  TRAIN  Koko prem vape device here√∞≈∏‚Äò‚Ä∞0562220852...               1\n",
       "4838  TRAIN  Hero of the day myblu capsules We tell there a...               2\n",
       "4839  TRAIN  Hello guys im a newbie just upgraded to the dr...               0\n",
       "\n",
       "[4840 rows x 3 columns]"
      ]
     },
     "execution_count": 17,
     "metadata": {},
     "output_type": "execute_result"
    }
   ],
   "source": [
    "#load train, test dataset\n",
    "train_filename = \"train_dropdups.csv\"\n",
    "test_filename = \"test_dropdups.csv\"\n",
    "val_filename = \"validation_dropdups.csv\"\n",
    "\n",
    "df_train = pd.read_csv(train_filename)\n",
    "df_test = pd.read_csv(test_filename)\n",
    "df_val = pd.read_csv(val_filename)\n",
    "\n",
    "df_train"
   ]
  },
  {
   "cell_type": "code",
   "execution_count": 3,
   "metadata": {},
   "outputs": [
    {
     "data": {
      "text/html": [
       "<div>\n",
       "<style scoped>\n",
       "    .dataframe tbody tr th:only-of-type {\n",
       "        vertical-align: middle;\n",
       "    }\n",
       "\n",
       "    .dataframe tbody tr th {\n",
       "        vertical-align: top;\n",
       "    }\n",
       "\n",
       "    .dataframe thead th {\n",
       "        text-align: right;\n",
       "    }\n",
       "</style>\n",
       "<table border=\"1\" class=\"dataframe\">\n",
       "  <thead>\n",
       "    <tr style=\"text-align: right;\">\n",
       "      <th></th>\n",
       "      <th>TYPE</th>\n",
       "      <th>DOCUMENT_CONTENT</th>\n",
       "      <th>DOCUMENT_CLASS</th>\n",
       "      <th>DOCUMENT_LENGTH</th>\n",
       "    </tr>\n",
       "  </thead>\n",
       "  <tbody>\n",
       "    <tr>\n",
       "      <th>0</th>\n",
       "      <td>TRAIN</td>\n",
       "      <td>Great News to All Vape Lovers Vapefanz has res...</td>\n",
       "      <td>2</td>\n",
       "      <td>748</td>\n",
       "    </tr>\n",
       "    <tr>\n",
       "      <th>1</th>\n",
       "      <td>TRAIN</td>\n",
       "      <td>Vaprcase 2 Review: Lifegrabber√¢‚Ç¨‚Ñ¢s Soluti...</td>\n",
       "      <td>1</td>\n",
       "      <td>114</td>\n",
       "    </tr>\n",
       "    <tr>\n",
       "      <th>2</th>\n",
       "      <td>TRAIN</td>\n",
       "      <td>i bought 2 boxes and both has 0.8 and 1.2</td>\n",
       "      <td>1</td>\n",
       "      <td>41</td>\n",
       "    </tr>\n",
       "    <tr>\n",
       "      <th>3</th>\n",
       "      <td>TRAIN</td>\n",
       "      <td>pod Fundamentals Explained vanilla - When rega...</td>\n",
       "      <td>1</td>\n",
       "      <td>494</td>\n",
       "    </tr>\n",
       "    <tr>\n",
       "      <th>4</th>\n",
       "      <td>TRAIN</td>\n",
       "      <td>Pretty fun time streaming some VALORANT with m...</td>\n",
       "      <td>2</td>\n",
       "      <td>111</td>\n",
       "    </tr>\n",
       "    <tr>\n",
       "      <th>...</th>\n",
       "      <td>...</td>\n",
       "      <td>...</td>\n",
       "      <td>...</td>\n",
       "      <td>...</td>\n",
       "    </tr>\n",
       "    <tr>\n",
       "      <th>4835</th>\n",
       "      <td>TRAIN</td>\n",
       "      <td>√¢≈° √Ø¬∏¬è√∞≈∏¬ê¬¢ TURTLE JUICE √∞≈∏¬ê¬¢√¢≈° ...</td>\n",
       "      <td>1</td>\n",
       "      <td>438</td>\n",
       "    </tr>\n",
       "    <tr>\n",
       "      <th>4836</th>\n",
       "      <td>TRAIN</td>\n",
       "      <td>Dude check out blankz pods. They make a Juul c...</td>\n",
       "      <td>1</td>\n",
       "      <td>119</td>\n",
       "    </tr>\n",
       "    <tr>\n",
       "      <th>4837</th>\n",
       "      <td>TRAIN</td>\n",
       "      <td>Koko prem vape device here√∞≈∏‚Äò‚Ä∞0562220852...</td>\n",
       "      <td>1</td>\n",
       "      <td>106</td>\n",
       "    </tr>\n",
       "    <tr>\n",
       "      <th>4838</th>\n",
       "      <td>TRAIN</td>\n",
       "      <td>Hero of the day myblu capsules We tell there a...</td>\n",
       "      <td>2</td>\n",
       "      <td>246</td>\n",
       "    </tr>\n",
       "    <tr>\n",
       "      <th>4839</th>\n",
       "      <td>TRAIN</td>\n",
       "      <td>Hello guys im a newbie just upgraded to the dr...</td>\n",
       "      <td>0</td>\n",
       "      <td>351</td>\n",
       "    </tr>\n",
       "  </tbody>\n",
       "</table>\n",
       "<p>4840 rows × 4 columns</p>\n",
       "</div>"
      ],
      "text/plain": [
       "       TYPE                                   DOCUMENT_CONTENT  \\\n",
       "0     TRAIN  Great News to All Vape Lovers Vapefanz has res...   \n",
       "1     TRAIN  Vaprcase 2 Review: Lifegrabber√¢‚Ç¨‚Ñ¢s Soluti...   \n",
       "2     TRAIN          i bought 2 boxes and both has 0.8 and 1.2   \n",
       "3     TRAIN  pod Fundamentals Explained vanilla - When rega...   \n",
       "4     TRAIN  Pretty fun time streaming some VALORANT with m...   \n",
       "...     ...                                                ...   \n",
       "4835  TRAIN  √¢≈° √Ø¬∏¬è√∞≈∏¬ê¬¢ TURTLE JUICE √∞≈∏¬ê¬¢√¢≈° ...   \n",
       "4836  TRAIN  Dude check out blankz pods. They make a Juul c...   \n",
       "4837  TRAIN  Koko prem vape device here√∞≈∏‚Äò‚Ä∞0562220852...   \n",
       "4838  TRAIN  Hero of the day myblu capsules We tell there a...   \n",
       "4839  TRAIN  Hello guys im a newbie just upgraded to the dr...   \n",
       "\n",
       "      DOCUMENT_CLASS  DOCUMENT_LENGTH  \n",
       "0                  2              748  \n",
       "1                  1              114  \n",
       "2                  1               41  \n",
       "3                  1              494  \n",
       "4                  2              111  \n",
       "...              ...              ...  \n",
       "4835               1              438  \n",
       "4836               1              119  \n",
       "4837               1              106  \n",
       "4838               2              246  \n",
       "4839               0              351  \n",
       "\n",
       "[4840 rows x 4 columns]"
      ]
     },
     "execution_count": 3,
     "metadata": {},
     "output_type": "execute_result"
    }
   ],
   "source": [
    "df_train['DOCUMENT_LENGTH'] = [len(doc) for doc in df_train['DOCUMENT_CONTENT']]\n",
    "# df_train.drop(['DOCUMENT_LENGTH'], axis = 1, inplace = True)\n",
    "df_train\n"
   ]
  },
  {
   "cell_type": "code",
   "execution_count": 4,
   "metadata": {},
   "outputs": [
    {
     "data": {
      "image/png": "[encoded data removed]",
      "text/plain": [
       "<Figure size 540x324 with 1 Axes>"
      ]
     },
     "metadata": {
      "needs_background": "light"
     },
     "output_type": "display_data"
    }
   ],
   "source": [
    "# make a frequency plot for each category\n",
    "\n",
    "category_counts = {}\n",
    "for doc_type in df_train['DOCUMENT_CLASS']:\n",
    "    if doc_type not in category_counts.keys():\n",
    "        category_counts[doc_type] = 1\n",
    "    else:\n",
    "        category_counts[doc_type] += 1\n",
    "\n",
    "plt.rcParams[\"figure.figsize\"] = [7.50, 4.50]\n",
    "plt.rcParams[\"figure.autolayout\"] = True\n",
    "fig, ax = plt.subplots()\n",
    "# df_train['DOCUMENT_CLASS'].value_counts().plot(ax=ax, kind='bar')\n",
    "\n",
    "sns.set(style=\"ticks\")\n",
    "ax = sns.countplot(x='DOCUMENT_CLASS', data=df_train)\n",
    "ax.bar_label(ax.containers[0])\n",
    "plt.title(\"Number of comments per class\")\n",
    "plt.grid()\n",
    "plt.show()\n"
   ]
  },
  {
   "cell_type": "code",
   "execution_count": 18,
   "metadata": {},
   "outputs": [
    {
     "data": {
      "text/plain": [
       "(4840,)"
      ]
     },
     "execution_count": 18,
     "metadata": {},
     "output_type": "execute_result"
    }
   ],
   "source": [
    "X_train = df_train[\"DOCUMENT_CONTENT\"]\n",
    "X_test = df_test[\"DOCUMENT_CONTENT\"]\n",
    "X_val = df_val[\"DOCUMENT_CONTENT\"]\n",
    "y_train = df_train[\"DOCUMENT_CLASS\"].values\n",
    "y_test = df_test[\"DOCUMENT_CLASS\"].values\n",
    "y_val = df_val[\"DOCUMENT_CLASS\"].values\n",
    "\n",
    "X_train.shape"
   ]
  },
  {
   "cell_type": "code",
   "execution_count": 19,
   "metadata": {},
   "outputs": [
    {
     "name": "stdout",
     "output_type": "stream",
     "text": [
      "Sample X before cleaning: Vaprcase 2 Review: Lifegrabber√¢‚Ç¨‚Ñ¢s Solution to Protect Pax 2 Vaporizers ...#cannabisnews #cannabis #hemp #CBD\n",
      "Sample X after cleaning: Vaprcase Review: Lifegrabber s Solution to Protect Pax Vaporizers cannabisnews cannabis hemp CBD\n"
     ]
    }
   ],
   "source": [
    "# Clean data\n",
    "def rm_non_ascii(text):\n",
    "    # remeove non-ascii characters\n",
    "    text = re.sub(r'[^\\x00-\\x7F]+',' ', text)\n",
    "    # remove digits and underscores\n",
    "    text = re.sub(r'[0-9_#.]+',' ', text)\n",
    "    # removes mutiple spaces\n",
    "    text = \" \".join(text.split())\n",
    "    return text\n",
    "\n",
    "print(\"Sample X before cleaning:\", X_train[1])\n",
    "X_train = X_train.apply(rm_non_ascii)\n",
    "X_test = X_test.apply(rm_non_ascii)\n",
    "X_val = X_val.apply(rm_non_ascii)\n",
    "print(\"Sample X after cleaning:\", X_train[1])\n",
    "\n"
   ]
  },
  {
   "cell_type": "code",
   "execution_count": 20,
   "metadata": {},
   "outputs": [
    {
     "name": "stdout",
     "output_type": "stream",
     "text": [
      "Sample X before stemming: Vaprcase Review: Lifegrabber s Solution to Protect Pax Vaporizers cannabisnews cannabis hemp CBD\n",
      "Sample X after stemming: vaprcas review : lifegrabb s solut to protect pax vapor cannabisnew cannabi hemp cbd\n"
     ]
    }
   ],
   "source": [
    "# stemming to bring base word form. lemmatisation not req\n",
    "\n",
    "def stemming(text):\n",
    "    ps = PorterStemmer()\n",
    "\n",
    "    words = word_tokenize(text)\n",
    "    for i in range(len(words)):\n",
    "        words[i] = ps.stem(words[i])\n",
    "    text = \" \".join(words)\n",
    "    return text\n",
    "        \n",
    "print(\"Sample X before stemming:\", X_train[1])    \n",
    "X_train = X_train.apply(stemming)\n",
    "X_test = X_test.apply(stemming)\n",
    "X_val = X_val.apply(stemming)\n",
    "print(\"Sample X after stemming:\", X_train[1])\n"
   ]
  },
  {
   "cell_type": "code",
   "execution_count": 8,
   "metadata": {},
   "outputs": [],
   "source": [
    "def show_metrics(y_test, y_pred, label=\"Classifier\"):\n",
    "    # Calculate confusion matrix\n",
    "\n",
    "    matrix=confusion_matrix(y_test, y_pred)\n",
    "    cm_labeled=pd.DataFrame(matrix,index=['0','1','2'],columns=['0','1','2'])\n",
    "    # True Labels in y-axis/rows. Precision = TP/(TP+FP)\n",
    "#     print(\"Confusion Matrix:\\n\", cm_labeled)\n",
    "    sns.heatmap(cm_labeled, annot=True)\n",
    "    plt.show()\n",
    "\n",
    "    # Get the accuracy\n",
    "    print('\\nAccuracy: {:.5f}\\n'.format(accuracy_score(y_test, y_pred)))\n",
    "\n",
    "    # Print the classification report\n",
    "    print(f'Classification Report {label}:')\n",
    "    print(classification_report(y_test, y_pred, target_names=['DOC_0', 'DOC_1', 'DOC_2']))\n",
    "    return accuracy_score(y_test, y_pred)"
   ]
  },
  {
   "cell_type": "code",
   "execution_count": 47,
   "metadata": {},
   "outputs": [
    {
     "name": "stdout",
     "output_type": "stream",
     "text": [
      "(4840, 14240)\n"
     ]
    },
    {
     "data": {
      "text/plain": [
       "<4840x14240 sparse matrix of type '<class 'numpy.float64'>'\n",
       "\twith 89254 stored elements in Compressed Sparse Row format>"
      ]
     },
     "execution_count": 47,
     "metadata": {},
     "output_type": "execute_result"
    }
   ],
   "source": [
    "# from sklearn.pipeline import Pipeline\n",
    "# single_label_classifier = Pipeline([\n",
    "#     ('tf_idf', TfidfVectorizer()),\n",
    "#     ('clf', MultinomialNB()),\n",
    "# ])\n",
    "# y_pred = single_label_classifier.fit(X_train, y_train).predict(X_test)\n",
    "# -----------------------------------\n",
    "\n",
    "\n",
    "##  tf-idf vectors ( Term Frequency Inverse Document Frequency ) + removing stop words\n",
    "tf_idf = TfidfVectorizer(stop_words=\"english\")\n",
    "\n",
    "tf_idf_X_train = tf_idf.fit_transform(X_train)\n",
    "tf_idf_X_test = tf_idf.transform(X_test)\n",
    "tf_idf_X_val = tf_idf.transform(X_val)\n",
    "print(tf_idf_X_train.shape)\n",
    "tf_idf_X_train\n",
    "\n",
    "## print word and its idf values\n",
    "# for name, value in zip(tf_idf.get_feature_names_out(), tf_idf.idf_):\n",
    "#     print(f\"{name} : {value}\")\n"
   ]
  },
  {
   "cell_type": "code",
   "execution_count": 10,
   "metadata": {},
   "outputs": [
    {
     "data": {
      "image/png": "[encoded data removed]",
      "text/plain": [
       "<Figure size 540x324 with 2 Axes>"
      ]
     },
     "metadata": {},
     "output_type": "display_data"
    },
    {
     "name": "stdout",
     "output_type": "stream",
     "text": [
      "\n",
      "Accuracy: 0.71635\n",
      "\n",
      "Classification Report ComplementNB:\n",
      "              precision    recall  f1-score   support\n",
      "\n",
      "       DOC_0       0.65      0.84      0.73       232\n",
      "       DOC_1       0.77      0.69      0.73       368\n",
      "       DOC_2       0.73      0.63      0.68       232\n",
      "\n",
      "    accuracy                           0.72       832\n",
      "   macro avg       0.72      0.72      0.71       832\n",
      "weighted avg       0.73      0.72      0.72       832\n",
      "\n"
     ]
    },
    {
     "data": {
      "text/plain": [
       "0.7163461538461539"
      ]
     },
     "execution_count": 10,
     "metadata": {},
     "output_type": "execute_result"
    }
   ],
   "source": [
    "# Complement Naive Bayes\n",
    "cnb = ComplementNB(fit_prior=False)\n",
    "y_pred = cnb.fit(tf_idf_X_train, y_train).predict(tf_idf_X_test)\n",
    "show_metrics(y_test, y_pred, label=\"ComplementNB\")\n"
   ]
  },
  {
   "cell_type": "code",
   "execution_count": 11,
   "metadata": {},
   "outputs": [
    {
     "data": {
      "image/png": "[encoded data removed]",
      "text/plain": [
       "<Figure size 540x324 with 2 Axes>"
      ]
     },
     "metadata": {},
     "output_type": "display_data"
    },
    {
     "name": "stdout",
     "output_type": "stream",
     "text": [
      "\n",
      "Accuracy: 0.72236\n",
      "\n",
      "Classification Report MultinomialNB:\n",
      "              precision    recall  f1-score   support\n",
      "\n",
      "       DOC_0       0.66      0.79      0.72       232\n",
      "       DOC_1       0.80      0.69      0.74       368\n",
      "       DOC_2       0.69      0.70      0.70       232\n",
      "\n",
      "    accuracy                           0.72       832\n",
      "   macro avg       0.72      0.73      0.72       832\n",
      "weighted avg       0.73      0.72      0.72       832\n",
      "\n"
     ]
    },
    {
     "data": {
      "text/plain": [
       "0.7223557692307693"
      ]
     },
     "execution_count": 11,
     "metadata": {},
     "output_type": "execute_result"
    }
   ],
   "source": [
    "# Multinomial Naive Bayes classifier\n",
    "gnb = MultinomialNB(fit_prior=False)\n",
    "y_pred = gnb.fit(tf_idf_X_train, y_train).predict(tf_idf_X_test)\n",
    "show_metrics(y_test, y_pred, label = \"MultinomialNB\")"
   ]
  },
  {
   "cell_type": "code",
   "execution_count": 12,
   "metadata": {},
   "outputs": [
    {
     "data": {
      "image/png": "[encoded data removed]",
      "text/plain": [
       "<Figure size 540x324 with 2 Axes>"
      ]
     },
     "metadata": {},
     "output_type": "display_data"
    },
    {
     "name": "stdout",
     "output_type": "stream",
     "text": [
      "\n",
      "Accuracy: 0.75361\n",
      "\n",
      "Classification Report LogisticRegression:\n",
      "              precision    recall  f1-score   support\n",
      "\n",
      "       DOC_0       0.75      0.69      0.72       232\n",
      "       DOC_1       0.74      0.83      0.78       368\n",
      "       DOC_2       0.78      0.70      0.74       232\n",
      "\n",
      "    accuracy                           0.75       832\n",
      "   macro avg       0.76      0.74      0.75       832\n",
      "weighted avg       0.75      0.75      0.75       832\n",
      "\n"
     ]
    },
    {
     "data": {
      "text/plain": [
       "0.7536057692307693"
      ]
     },
     "execution_count": 12,
     "metadata": {},
     "output_type": "execute_result"
    }
   ],
   "source": [
    "# Logistic Regression\n",
    "lrgr = LogisticRegression()\n",
    "y_pred = lrgr.fit(tf_idf_X_train, y_train).predict(tf_idf_X_test)\n",
    "show_metrics(y_test, y_pred, label=\"LogisticRegression\")"
   ]
  },
  {
   "cell_type": "code",
   "execution_count": 13,
   "metadata": {},
   "outputs": [
    {
     "data": {
      "image/png": "[encoded data removed]",
      "text/plain": [
       "<Figure size 540x324 with 2 Axes>"
      ]
     },
     "metadata": {},
     "output_type": "display_data"
    },
    {
     "name": "stdout",
     "output_type": "stream",
     "text": [
      "\n",
      "Accuracy: 0.76442\n",
      "\n",
      "Classification Report LinearSVC:\n",
      "              precision    recall  f1-score   support\n",
      "\n",
      "       DOC_0       0.76      0.75      0.75       232\n",
      "       DOC_1       0.76      0.80      0.78       368\n",
      "       DOC_2       0.77      0.72      0.75       232\n",
      "\n",
      "    accuracy                           0.76       832\n",
      "   macro avg       0.76      0.76      0.76       832\n",
      "weighted avg       0.76      0.76      0.76       832\n",
      "\n"
     ]
    },
    {
     "data": {
      "text/plain": [
       "0.7644230769230769"
      ]
     },
     "execution_count": 13,
     "metadata": {},
     "output_type": "execute_result"
    }
   ],
   "source": [
    "# SVM\n",
    "svc = LinearSVC()\n",
    "y_pred = svc.fit(tf_idf_X_train, y_train).predict(tf_idf_X_test)\n",
    "show_metrics(y_test, y_pred, label=\"LinearSVC\")"
   ]
  },
  {
   "cell_type": "code",
   "execution_count": 14,
   "metadata": {},
   "outputs": [
    {
     "data": {
      "image/png": "[encoded data removed]",
      "text/plain": [
       "<Figure size 540x324 with 2 Axes>"
      ]
     },
     "metadata": {},
     "output_type": "display_data"
    },
    {
     "name": "stdout",
     "output_type": "stream",
     "text": [
      "\n",
      "Accuracy: 0.70553\n",
      "\n",
      "Classification Report Random Forest:\n",
      "              precision    recall  f1-score   support\n",
      "\n",
      "       DOC_0       0.69      0.64      0.66       232\n",
      "       DOC_1       0.68      0.85      0.76       368\n",
      "       DOC_2       0.79      0.55      0.65       232\n",
      "\n",
      "    accuracy                           0.71       832\n",
      "   macro avg       0.72      0.68      0.69       832\n",
      "weighted avg       0.72      0.71      0.70       832\n",
      "\n"
     ]
    },
    {
     "data": {
      "text/plain": [
       "0.7055288461538461"
      ]
     },
     "execution_count": 14,
     "metadata": {},
     "output_type": "execute_result"
    }
   ],
   "source": [
    "# Random Forest\n",
    "rfs = RandomForestClassifier(n_estimators = 100, n_jobs = -1)\n",
    "y_pred = rfs.fit(tf_idf_X_train, y_train).predict(tf_idf_X_test)\n",
    "show_metrics(y_test, y_pred, label=\"Random Forest\")"
   ]
  },
  {
   "cell_type": "code",
   "execution_count": 26,
   "metadata": {},
   "outputs": [
    {
     "data": {
      "text/plain": [
       "(array([ 435, 1415, 2395, 3375, 4356]),\n",
       " array([[0.9954023 , 1.        , 1.        , 1.        , 1.        ,\n",
       "         1.        , 1.        , 1.        , 1.        , 1.        ],\n",
       "        [0.99081272, 0.99575972, 0.99293286, 0.99222615, 0.99222615,\n",
       "         0.99222615, 0.99222615, 0.99222615, 0.99222615, 0.99222615],\n",
       "        [0.9908142 , 0.99164927, 0.99290188, 0.99331942, 0.98997912,\n",
       "         0.99164927, 0.99164927, 0.99164927, 0.99164927, 0.99164927],\n",
       "        [0.98814815, 0.98962963, 0.98903704, 0.98903704, 0.98785185,\n",
       "         0.98725926, 0.98785185, 0.98637037, 0.98696296, 0.98696296],\n",
       "        [0.98438935, 0.98507805, 0.98484848, 0.98553719, 0.98484848,\n",
       "         0.98415978, 0.98484848, 0.98370064, 0.98347107, 0.98301194]]),\n",
       " array([[0.66528926, 0.65495868, 0.63842975, 0.67975207, 0.63636364,\n",
       "         0.66528926, 0.67355372, 0.65702479, 0.61157025, 0.67768595],\n",
       "        [0.71487603, 0.70041322, 0.71694215, 0.73347107, 0.69421488,\n",
       "         0.7107438 , 0.68595041, 0.68181818, 0.69214876, 0.68801653],\n",
       "        [0.71280992, 0.72933884, 0.72933884, 0.74793388, 0.70661157,\n",
       "         0.72107438, 0.71487603, 0.71900826, 0.73966942, 0.70867769],\n",
       "        [0.75      , 0.73966942, 0.72933884, 0.73966942, 0.72520661,\n",
       "         0.72727273, 0.71487603, 0.72727273, 0.76446281, 0.73966942],\n",
       "        [0.75413223, 0.73347107, 0.74173554, 0.76033058, 0.72933884,\n",
       "         0.74173554, 0.74380165, 0.73966942, 0.77479339, 0.72727273]]))"
      ]
     },
     "execution_count": 26,
     "metadata": {},
     "output_type": "execute_result"
    }
   ],
   "source": [
    "from sklearn.model_selection import learning_curve\n",
    "\n",
    "np.random.seed(42)\n",
    "\n",
    "train_sizes, train_scores, valid_scores  = learning_curve(\n",
    "    LinearSVC(), tf_idf_X_train, y_train, cv=10\n",
    ")\n",
    "\n",
    "train_sizes, train_scores, valid_scores \n"
   ]
  },
  {
   "cell_type": "code",
   "execution_count": 32,
   "metadata": {},
   "outputs": [
    {
     "data": {
      "image/png": "[encoded data removed]",
      "text/plain": [
       "<Figure size 540x324 with 1 Axes>"
      ]
     },
     "metadata": {},
     "output_type": "display_data"
    }
   ],
   "source": [
    "plt.plot(np.arange(0,len(valid_scores)),valid_scores )\n",
    "plt.show()"
   ]
  },
  {
   "cell_type": "code",
   "execution_count": null,
   "metadata": {},
   "outputs": [],
   "source": []
  }
 ],
 "metadata": {
  "kernelspec": {
   "display_name": "Python 3 (ipykernel)",
   "language": "python",
   "name": "python3"
  },
  "language_info": {
   "codemirror_mode": {
    "name": "ipython",
    "version": 3
   },
   "file_extension": ".py",
   "mimetype": "text/x-python",
   "name": "python",
   "nbconvert_exporter": "python",
   "pygments_lexer": "ipython3",
   "version": "3.9.12"
  }
 },
 "nbformat": 4,
 "nbformat_minor": 2
}
